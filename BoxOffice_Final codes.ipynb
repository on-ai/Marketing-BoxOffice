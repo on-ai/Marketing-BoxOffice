{
 "cells": [
  {
   "cell_type": "markdown",
   "metadata": {},
   "source": [
    "# Initial Read"
   ]
  },
  {
   "cell_type": "code",
   "execution_count": 1,
   "metadata": {},
   "outputs": [],
   "source": [
    "# Importing the libraries\n",
    "import numpy as np\n",
    "import matplotlib.pyplot as plt\n",
    "import pandas as pd\n",
    "\n",
    "\n",
    "import seaborn as sns\n",
    "sns.set()  #  Will import Seaborn functionalities\n",
    "\n",
    "# we don't like warnings\n",
    "# you can comment the following 2 lines if you'd like to\n",
    "import warnings\n",
    "warnings.filterwarnings('ignore')"
   ]
  },
  {
   "cell_type": "code",
   "execution_count": 2,
   "metadata": {},
   "outputs": [
    {
     "data": {
      "text/html": [
       "<div>\n",
       "<style scoped>\n",
       "    .dataframe tbody tr th:only-of-type {\n",
       "        vertical-align: middle;\n",
       "    }\n",
       "\n",
       "    .dataframe tbody tr th {\n",
       "        vertical-align: top;\n",
       "    }\n",
       "\n",
       "    .dataframe thead th {\n",
       "        text-align: right;\n",
       "    }\n",
       "</style>\n",
       "<table border=\"1\" class=\"dataframe\">\n",
       "  <thead>\n",
       "    <tr style=\"text-align: right;\">\n",
       "      <th></th>\n",
       "      <th>budget</th>\n",
       "      <th>country</th>\n",
       "      <th>director</th>\n",
       "      <th>genre</th>\n",
       "      <th>gross</th>\n",
       "      <th>name</th>\n",
       "      <th>rating</th>\n",
       "      <th>runtime</th>\n",
       "      <th>score</th>\n",
       "      <th>star</th>\n",
       "      <th>studio</th>\n",
       "      <th>votes</th>\n",
       "    </tr>\n",
       "  </thead>\n",
       "  <tbody>\n",
       "    <tr>\n",
       "      <th>0</th>\n",
       "      <td>237000000.0</td>\n",
       "      <td>UK</td>\n",
       "      <td>James Cameron</td>\n",
       "      <td>Action</td>\n",
       "      <td>760507625.0</td>\n",
       "      <td>Avatar (2009)</td>\n",
       "      <td>PG-13</td>\n",
       "      <td>162</td>\n",
       "      <td>7.8</td>\n",
       "      <td>Sam Worthington</td>\n",
       "      <td>Twentieth Century Fox Film Corporation</td>\n",
       "      <td>958400</td>\n",
       "    </tr>\n",
       "    <tr>\n",
       "      <th>1</th>\n",
       "      <td>200000000.0</td>\n",
       "      <td>USA</td>\n",
       "      <td>James Cameron</td>\n",
       "      <td>Drama</td>\n",
       "      <td>658672302.0</td>\n",
       "      <td>Titanic (1997)</td>\n",
       "      <td>PG-13</td>\n",
       "      <td>194</td>\n",
       "      <td>7.8</td>\n",
       "      <td>Leonardo DiCaprio</td>\n",
       "      <td>Twentieth Century Fox Film Corporation</td>\n",
       "      <td>865551</td>\n",
       "    </tr>\n",
       "    <tr>\n",
       "      <th>2</th>\n",
       "      <td>150000000.0</td>\n",
       "      <td>USA</td>\n",
       "      <td>Colin Trevorrow</td>\n",
       "      <td>Action</td>\n",
       "      <td>652270625.0</td>\n",
       "      <td>Jurassic World (2015)</td>\n",
       "      <td>PG-13</td>\n",
       "      <td>124</td>\n",
       "      <td>7.0</td>\n",
       "      <td>Chris Pratt</td>\n",
       "      <td>Universal Pictures</td>\n",
       "      <td>470625</td>\n",
       "    </tr>\n",
       "    <tr>\n",
       "      <th>3</th>\n",
       "      <td>220000000.0</td>\n",
       "      <td>USA</td>\n",
       "      <td>Joss Whedon</td>\n",
       "      <td>Action</td>\n",
       "      <td>623357910.0</td>\n",
       "      <td>The Avengers (2012)</td>\n",
       "      <td>PG-13</td>\n",
       "      <td>143</td>\n",
       "      <td>8.1</td>\n",
       "      <td>Robert Downey Jr.</td>\n",
       "      <td>Marvel Studios</td>\n",
       "      <td>1069292</td>\n",
       "    </tr>\n",
       "    <tr>\n",
       "      <th>4</th>\n",
       "      <td>185000000.0</td>\n",
       "      <td>USA</td>\n",
       "      <td>Christopher Nolan</td>\n",
       "      <td>Action</td>\n",
       "      <td>534858444.0</td>\n",
       "      <td>The Dark Knight (2008)</td>\n",
       "      <td>PG-13</td>\n",
       "      <td>152</td>\n",
       "      <td>9.0</td>\n",
       "      <td>Christian Bale</td>\n",
       "      <td>Warner Bros.</td>\n",
       "      <td>1845853</td>\n",
       "    </tr>\n",
       "  </tbody>\n",
       "</table>\n",
       "</div>"
      ],
      "text/plain": [
       "        budget country           director   genre        gross  \\\n",
       "0  237000000.0      UK      James Cameron  Action  760507625.0   \n",
       "1  200000000.0     USA      James Cameron   Drama  658672302.0   \n",
       "2  150000000.0     USA    Colin Trevorrow  Action  652270625.0   \n",
       "3  220000000.0     USA        Joss Whedon  Action  623357910.0   \n",
       "4  185000000.0     USA  Christopher Nolan  Action  534858444.0   \n",
       "\n",
       "                     name rating  runtime  score               star  \\\n",
       "0           Avatar (2009)  PG-13      162    7.8    Sam Worthington   \n",
       "1          Titanic (1997)  PG-13      194    7.8  Leonardo DiCaprio   \n",
       "2   Jurassic World (2015)  PG-13      124    7.0        Chris Pratt   \n",
       "3     The Avengers (2012)  PG-13      143    8.1  Robert Downey Jr.   \n",
       "4  The Dark Knight (2008)  PG-13      152    9.0     Christian Bale   \n",
       "\n",
       "                                   studio    votes  \n",
       "0  Twentieth Century Fox Film Corporation   958400  \n",
       "1  Twentieth Century Fox Film Corporation   865551  \n",
       "2                      Universal Pictures   470625  \n",
       "3                          Marvel Studios  1069292  \n",
       "4                            Warner Bros.  1845853  "
      ]
     },
     "execution_count": 2,
     "metadata": {},
     "output_type": "execute_result"
    }
   ],
   "source": [
    "Box_office = pd.read_csv('box_office_predictions.csv') \n",
    "Box_office.head()"
   ]
  },
  {
   "cell_type": "code",
   "execution_count": 3,
   "metadata": {},
   "outputs": [
    {
     "name": "stdout",
     "output_type": "stream",
     "text": [
      "Old Column Names:\n",
      " Index(['budget', 'country', 'director', 'genre', 'gross', 'name', 'rating',\n",
      "       'runtime', 'score', 'star', 'studio', 'votes'],\n",
      "      dtype='object')\n"
     ]
    }
   ],
   "source": [
    "print(\"Old Column Names:\\n\", Box_office.columns) "
   ]
  },
  {
   "cell_type": "code",
   "execution_count": 4,
   "metadata": {},
   "outputs": [
    {
     "data": {
      "text/plain": [
       "(6000, 12)"
      ]
     },
     "execution_count": 4,
     "metadata": {},
     "output_type": "execute_result"
    }
   ],
   "source": [
    "Box_office.shape"
   ]
  },
  {
   "cell_type": "code",
   "execution_count": 5,
   "metadata": {},
   "outputs": [
    {
     "name": "stdout",
     "output_type": "stream",
     "text": [
      "<class 'pandas.core.frame.DataFrame'>\n",
      "RangeIndex: 6000 entries, 0 to 5999\n",
      "Data columns (total 12 columns):\n",
      " #   Column    Non-Null Count  Dtype  \n",
      "---  ------    --------------  -----  \n",
      " 0   budget    6000 non-null   float64\n",
      " 1   country   6000 non-null   object \n",
      " 2   director  6000 non-null   object \n",
      " 3   genre     6000 non-null   object \n",
      " 4   gross     6000 non-null   float64\n",
      " 5   name      6000 non-null   object \n",
      " 6   rating    6000 non-null   object \n",
      " 7   runtime   6000 non-null   int64  \n",
      " 8   score     6000 non-null   float64\n",
      " 9   star      6000 non-null   object \n",
      " 10  studio    6000 non-null   object \n",
      " 11  votes     6000 non-null   int64  \n",
      "dtypes: float64(3), int64(2), object(7)\n",
      "memory usage: 562.6+ KB\n"
     ]
    }
   ],
   "source": [
    "Box_office.info()"
   ]
  },
  {
   "cell_type": "markdown",
   "metadata": {},
   "source": [
    "# Categorical Data"
   ]
  },
  {
   "cell_type": "code",
   "execution_count": 6,
   "metadata": {},
   "outputs": [
    {
     "data": {
      "text/html": [
       "<div>\n",
       "<style scoped>\n",
       "    .dataframe tbody tr th:only-of-type {\n",
       "        vertical-align: middle;\n",
       "    }\n",
       "\n",
       "    .dataframe tbody tr th {\n",
       "        vertical-align: top;\n",
       "    }\n",
       "\n",
       "    .dataframe thead th {\n",
       "        text-align: right;\n",
       "    }\n",
       "</style>\n",
       "<table border=\"1\" class=\"dataframe\">\n",
       "  <thead>\n",
       "    <tr style=\"text-align: right;\">\n",
       "      <th></th>\n",
       "      <th>country</th>\n",
       "      <th>director</th>\n",
       "      <th>genre</th>\n",
       "      <th>name</th>\n",
       "      <th>rating</th>\n",
       "      <th>star</th>\n",
       "      <th>studio</th>\n",
       "    </tr>\n",
       "  </thead>\n",
       "  <tbody>\n",
       "    <tr>\n",
       "      <th>count</th>\n",
       "      <td>6000</td>\n",
       "      <td>6000</td>\n",
       "      <td>6000</td>\n",
       "      <td>6000</td>\n",
       "      <td>6000</td>\n",
       "      <td>6000</td>\n",
       "      <td>6000</td>\n",
       "    </tr>\n",
       "    <tr>\n",
       "      <th>unique</th>\n",
       "      <td>52</td>\n",
       "      <td>2549</td>\n",
       "      <td>17</td>\n",
       "      <td>6000</td>\n",
       "      <td>13</td>\n",
       "      <td>2317</td>\n",
       "      <td>1996</td>\n",
       "    </tr>\n",
       "    <tr>\n",
       "      <th>top</th>\n",
       "      <td>USA</td>\n",
       "      <td>Woody Allen</td>\n",
       "      <td>Comedy</td>\n",
       "      <td>Avatar (2009)</td>\n",
       "      <td>R</td>\n",
       "      <td>Nicolas Cage</td>\n",
       "      <td>Universal Pictures</td>\n",
       "    </tr>\n",
       "    <tr>\n",
       "      <th>freq</th>\n",
       "      <td>4281</td>\n",
       "      <td>29</td>\n",
       "      <td>1818</td>\n",
       "      <td>1</td>\n",
       "      <td>3009</td>\n",
       "      <td>38</td>\n",
       "      <td>269</td>\n",
       "    </tr>\n",
       "  </tbody>\n",
       "</table>\n",
       "</div>"
      ],
      "text/plain": [
       "       country     director   genre           name rating          star  \\\n",
       "count     6000         6000    6000           6000   6000          6000   \n",
       "unique      52         2549      17           6000     13          2317   \n",
       "top        USA  Woody Allen  Comedy  Avatar (2009)      R  Nicolas Cage   \n",
       "freq      4281           29    1818              1   3009            38   \n",
       "\n",
       "                    studio  \n",
       "count                 6000  \n",
       "unique                1996  \n",
       "top     Universal Pictures  \n",
       "freq                   269  "
      ]
     },
     "execution_count": 6,
     "metadata": {},
     "output_type": "execute_result"
    }
   ],
   "source": [
    "Box_office.describe(include=['object', 'bool', 'category'])"
   ]
  },
  {
   "cell_type": "code",
   "execution_count": 7,
   "metadata": {},
   "outputs": [
    {
     "name": "stdout",
     "output_type": "stream",
     "text": [
      "['PG-13' 'PG' 'G' 'R' 'Not specified' 'NC-17' 'UNRATED' 'NOT RATED'\n",
      " 'TV-PG' 'B' 'TV-14' 'TV-MA' 'B15']\n"
     ]
    }
   ],
   "source": [
    "print(Box_office['rating'].unique())"
   ]
  },
  {
   "cell_type": "code",
   "execution_count": 8,
   "metadata": {},
   "outputs": [
    {
     "data": {
      "text/plain": [
       "R                3009\n",
       "PG-13            1753\n",
       "PG                815\n",
       "NOT RATED         151\n",
       "G                 133\n",
       "UNRATED            58\n",
       "Not specified      56\n",
       "NC-17              20\n",
       "TV-PG               1\n",
       "B                   1\n",
       "TV-14               1\n",
       "TV-MA               1\n",
       "B15                 1\n",
       "Name: rating, dtype: int64"
      ]
     },
     "execution_count": 8,
     "metadata": {},
     "output_type": "execute_result"
    }
   ],
   "source": [
    "Box_office['rating'].value_counts()"
   ]
  },
  {
   "cell_type": "code",
   "execution_count": 11,
   "metadata": {},
   "outputs": [
    {
     "name": "stdout",
     "output_type": "stream",
     "text": [
      "['Sam Worthington' 'Leonardo DiCaprio' 'Chris Pratt' ... 'Sadie Frost'\n",
      " 'Florian Lukas' 'Jemma Dallender']\n"
     ]
    }
   ],
   "source": [
    "print(Box_office['star'].unique())"
   ]
  },
  {
   "cell_type": "code",
   "execution_count": 12,
   "metadata": {},
   "outputs": [
    {
     "data": {
      "text/plain": [
       "Nicolas Cage              38\n",
       "Robert De Niro            35\n",
       "Tom Hanks                 29\n",
       "Denzel Washington         29\n",
       "Bruce Willis              28\n",
       "                          ..\n",
       "Sonny Bono                 1\n",
       "Prabhas                    1\n",
       "Jean-Louis Trintignant     1\n",
       "Joseph Cross               1\n",
       "Jemma Dallender            1\n",
       "Name: star, Length: 2317, dtype: int64"
      ]
     },
     "execution_count": 12,
     "metadata": {},
     "output_type": "execute_result"
    }
   ],
   "source": [
    "Box_office['star'].value_counts()"
   ]
  },
  {
   "cell_type": "code",
   "execution_count": 13,
   "metadata": {},
   "outputs": [
    {
     "name": "stdout",
     "output_type": "stream",
     "text": [
      "['Action' 'Drama' 'Animation' 'Adventure' 'Comedy' 'Biography' 'Mystery'\n",
      " 'Crime' 'Horror' 'Sci-Fi' 'Fantasy' 'Romance' 'Thriller' 'Family'\n",
      " 'Western' 'Musical' 'War']\n"
     ]
    }
   ],
   "source": [
    "print(Box_office['genre'].unique())"
   ]
  },
  {
   "cell_type": "code",
   "execution_count": 14,
   "metadata": {},
   "outputs": [
    {
     "data": {
      "text/plain": [
       "Comedy       1818\n",
       "Drama        1280\n",
       "Action       1175\n",
       "Crime         463\n",
       "Adventure     340\n",
       "Biography     309\n",
       "Animation     246\n",
       "Horror        243\n",
       "Mystery        34\n",
       "Fantasy        28\n",
       "Thriller       17\n",
       "Romance        14\n",
       "Sci-Fi         13\n",
       "Family         12\n",
       "Musical         4\n",
       "Western         2\n",
       "War             2\n",
       "Name: genre, dtype: int64"
      ]
     },
     "execution_count": 14,
     "metadata": {},
     "output_type": "execute_result"
    }
   ],
   "source": [
    "Box_office['genre'].value_counts()"
   ]
  },
  {
   "cell_type": "markdown",
   "metadata": {},
   "source": [
    "# Fixing budget 0 values"
   ]
  },
  {
   "cell_type": "code",
   "execution_count": 15,
   "metadata": {},
   "outputs": [
    {
     "data": {
      "text/plain": [
       "0.0           1911\n",
       "20000000.0     166\n",
       "30000000.0     164\n",
       "25000000.0     160\n",
       "15000000.0     152\n",
       "              ... \n",
       "16200000.0       1\n",
       "17700000.0       1\n",
       "21150000.0       1\n",
       "25100000.0       1\n",
       "20000.0          1\n",
       "Name: budget, Length: 338, dtype: int64"
      ]
     },
     "execution_count": 15,
     "metadata": {},
     "output_type": "execute_result"
    }
   ],
   "source": [
    "Box_office['budget'].value_counts()"
   ]
  },
  {
   "cell_type": "code",
   "execution_count": 16,
   "metadata": {},
   "outputs": [
    {
     "data": {
      "text/html": [
       "<div>\n",
       "<style scoped>\n",
       "    .dataframe tbody tr th:only-of-type {\n",
       "        vertical-align: middle;\n",
       "    }\n",
       "\n",
       "    .dataframe tbody tr th {\n",
       "        vertical-align: top;\n",
       "    }\n",
       "\n",
       "    .dataframe thead th {\n",
       "        text-align: right;\n",
       "    }\n",
       "</style>\n",
       "<table border=\"1\" class=\"dataframe\">\n",
       "  <thead>\n",
       "    <tr style=\"text-align: right;\">\n",
       "      <th></th>\n",
       "      <th>budget</th>\n",
       "      <th>country</th>\n",
       "      <th>director</th>\n",
       "      <th>genre</th>\n",
       "      <th>gross</th>\n",
       "      <th>name</th>\n",
       "      <th>rating</th>\n",
       "      <th>runtime</th>\n",
       "      <th>score</th>\n",
       "      <th>star</th>\n",
       "      <th>studio</th>\n",
       "      <th>votes</th>\n",
       "    </tr>\n",
       "  </thead>\n",
       "  <tbody>\n",
       "    <tr>\n",
       "      <th>0</th>\n",
       "      <td>237000000.0</td>\n",
       "      <td>UK</td>\n",
       "      <td>James Cameron</td>\n",
       "      <td>Action</td>\n",
       "      <td>760507625.0</td>\n",
       "      <td>Avatar (2009)</td>\n",
       "      <td>PG-13</td>\n",
       "      <td>162</td>\n",
       "      <td>7.8</td>\n",
       "      <td>Sam Worthington</td>\n",
       "      <td>Twentieth Century Fox Film Corporation</td>\n",
       "      <td>958400</td>\n",
       "    </tr>\n",
       "    <tr>\n",
       "      <th>1</th>\n",
       "      <td>200000000.0</td>\n",
       "      <td>USA</td>\n",
       "      <td>James Cameron</td>\n",
       "      <td>Drama</td>\n",
       "      <td>658672302.0</td>\n",
       "      <td>Titanic (1997)</td>\n",
       "      <td>PG-13</td>\n",
       "      <td>194</td>\n",
       "      <td>7.8</td>\n",
       "      <td>Leonardo DiCaprio</td>\n",
       "      <td>Twentieth Century Fox Film Corporation</td>\n",
       "      <td>865551</td>\n",
       "    </tr>\n",
       "    <tr>\n",
       "      <th>2</th>\n",
       "      <td>150000000.0</td>\n",
       "      <td>USA</td>\n",
       "      <td>Colin Trevorrow</td>\n",
       "      <td>Action</td>\n",
       "      <td>652270625.0</td>\n",
       "      <td>Jurassic World (2015)</td>\n",
       "      <td>PG-13</td>\n",
       "      <td>124</td>\n",
       "      <td>7.0</td>\n",
       "      <td>Chris Pratt</td>\n",
       "      <td>Universal Pictures</td>\n",
       "      <td>470625</td>\n",
       "    </tr>\n",
       "    <tr>\n",
       "      <th>3</th>\n",
       "      <td>220000000.0</td>\n",
       "      <td>USA</td>\n",
       "      <td>Joss Whedon</td>\n",
       "      <td>Action</td>\n",
       "      <td>623357910.0</td>\n",
       "      <td>The Avengers (2012)</td>\n",
       "      <td>PG-13</td>\n",
       "      <td>143</td>\n",
       "      <td>8.1</td>\n",
       "      <td>Robert Downey Jr.</td>\n",
       "      <td>Marvel Studios</td>\n",
       "      <td>1069292</td>\n",
       "    </tr>\n",
       "    <tr>\n",
       "      <th>4</th>\n",
       "      <td>185000000.0</td>\n",
       "      <td>USA</td>\n",
       "      <td>Christopher Nolan</td>\n",
       "      <td>Action</td>\n",
       "      <td>534858444.0</td>\n",
       "      <td>The Dark Knight (2008)</td>\n",
       "      <td>PG-13</td>\n",
       "      <td>152</td>\n",
       "      <td>9.0</td>\n",
       "      <td>Christian Bale</td>\n",
       "      <td>Warner Bros.</td>\n",
       "      <td>1845853</td>\n",
       "    </tr>\n",
       "  </tbody>\n",
       "</table>\n",
       "</div>"
      ],
      "text/plain": [
       "        budget country           director   genre        gross  \\\n",
       "0  237000000.0      UK      James Cameron  Action  760507625.0   \n",
       "1  200000000.0     USA      James Cameron   Drama  658672302.0   \n",
       "2  150000000.0     USA    Colin Trevorrow  Action  652270625.0   \n",
       "3  220000000.0     USA        Joss Whedon  Action  623357910.0   \n",
       "4  185000000.0     USA  Christopher Nolan  Action  534858444.0   \n",
       "\n",
       "                     name rating  runtime  score               star  \\\n",
       "0           Avatar (2009)  PG-13      162    7.8    Sam Worthington   \n",
       "1          Titanic (1997)  PG-13      194    7.8  Leonardo DiCaprio   \n",
       "2   Jurassic World (2015)  PG-13      124    7.0        Chris Pratt   \n",
       "3     The Avengers (2012)  PG-13      143    8.1  Robert Downey Jr.   \n",
       "4  The Dark Knight (2008)  PG-13      152    9.0     Christian Bale   \n",
       "\n",
       "                                   studio    votes  \n",
       "0  Twentieth Century Fox Film Corporation   958400  \n",
       "1  Twentieth Century Fox Film Corporation   865551  \n",
       "2                      Universal Pictures   470625  \n",
       "3                          Marvel Studios  1069292  \n",
       "4                            Warner Bros.  1845853  "
      ]
     },
     "execution_count": 16,
     "metadata": {},
     "output_type": "execute_result"
    }
   ],
   "source": [
    "Box_office_v2 = Box_office.copy()\n",
    "Box_office_v2.head()"
   ]
  },
  {
   "cell_type": "code",
   "execution_count": 17,
   "metadata": {},
   "outputs": [
    {
     "data": {
      "text/plain": [
       "11000000.0"
      ]
     },
     "execution_count": 17,
     "metadata": {},
     "output_type": "execute_result"
    }
   ],
   "source": [
    "median_budget = Box_office_v2.budget.median()\n",
    "median_budget"
   ]
  },
  {
   "cell_type": "code",
   "execution_count": 18,
   "metadata": {},
   "outputs": [],
   "source": [
    "Box_office_v2['budget'] = Box_office_v2['budget'].replace({0: 11000000})"
   ]
  },
  {
   "cell_type": "code",
   "execution_count": 19,
   "metadata": {},
   "outputs": [
    {
     "data": {
      "text/plain": [
       "11000000.0    1966\n",
       "20000000.0     166\n",
       "30000000.0     164\n",
       "25000000.0     160\n",
       "15000000.0     152\n",
       "              ... \n",
       "16200000.0       1\n",
       "17700000.0       1\n",
       "21150000.0       1\n",
       "25100000.0       1\n",
       "20000.0          1\n",
       "Name: budget, Length: 337, dtype: int64"
      ]
     },
     "execution_count": 19,
     "metadata": {},
     "output_type": "execute_result"
    }
   ],
   "source": [
    "Box_office_v2['budget'].value_counts()"
   ]
  },
  {
   "cell_type": "markdown",
   "metadata": {},
   "source": [
    "# Creating Target Variable as a computed value"
   ]
  },
  {
   "cell_type": "code",
   "execution_count": 79,
   "metadata": {},
   "outputs": [
    {
     "data": {
      "text/plain": [
       "0       523507625.0\n",
       "1       458672302.0\n",
       "2       502270625.0\n",
       "3       403357910.0\n",
       "4       349858444.0\n",
       "           ...     \n",
       "5995    -10998857.0\n",
       "5996    -10999172.0\n",
       "5997    -10999453.0\n",
       "5998    -10999458.0\n",
       "5999    -10999559.0\n",
       "Length: 6000, dtype: float64"
      ]
     },
     "execution_count": 79,
     "metadata": {},
     "output_type": "execute_result"
    }
   ],
   "source": [
    "Profit = Box_office_v2[\"gross\"] - Box_office_v2['budget']\n",
    "Profit"
   ]
  },
  {
   "cell_type": "code",
   "execution_count": 80,
   "metadata": {},
   "outputs": [
    {
     "data": {
      "text/plain": [
       "0       220.889293\n",
       "1       229.336151\n",
       "2       334.847083\n",
       "3       183.344505\n",
       "4       189.112672\n",
       "           ...    \n",
       "5995    -99.989609\n",
       "5996    -99.992473\n",
       "5997    -99.995027\n",
       "5998    -99.995073\n",
       "5999    -99.995991\n",
       "Length: 6000, dtype: float64"
      ]
     },
     "execution_count": 80,
     "metadata": {},
     "output_type": "execute_result"
    }
   ],
   "source": [
    "ROI = (Box_office_v2['gross'] - Box_office_v2['budget'])/Box_office_v2['budget']*100\n",
    "ROI"
   ]
  },
  {
   "cell_type": "code",
   "execution_count": 81,
   "metadata": {},
   "outputs": [],
   "source": [
    "Box_office_v2['Profit'] = Profit\n",
    "Box_office_v2['ROI'] = ROI"
   ]
  },
  {
   "cell_type": "code",
   "execution_count": 82,
   "metadata": {},
   "outputs": [
    {
     "data": {
      "text/html": [
       "<div>\n",
       "<style scoped>\n",
       "    .dataframe tbody tr th:only-of-type {\n",
       "        vertical-align: middle;\n",
       "    }\n",
       "\n",
       "    .dataframe tbody tr th {\n",
       "        vertical-align: top;\n",
       "    }\n",
       "\n",
       "    .dataframe thead th {\n",
       "        text-align: right;\n",
       "    }\n",
       "</style>\n",
       "<table border=\"1\" class=\"dataframe\">\n",
       "  <thead>\n",
       "    <tr style=\"text-align: right;\">\n",
       "      <th></th>\n",
       "      <th>budget</th>\n",
       "      <th>country</th>\n",
       "      <th>director</th>\n",
       "      <th>genre</th>\n",
       "      <th>gross</th>\n",
       "      <th>name</th>\n",
       "      <th>rating</th>\n",
       "      <th>runtime</th>\n",
       "      <th>score</th>\n",
       "      <th>star</th>\n",
       "      <th>studio</th>\n",
       "      <th>votes</th>\n",
       "      <th>Profit</th>\n",
       "      <th>ROI</th>\n",
       "    </tr>\n",
       "  </thead>\n",
       "  <tbody>\n",
       "    <tr>\n",
       "      <th>0</th>\n",
       "      <td>237000000.0</td>\n",
       "      <td>UK</td>\n",
       "      <td>James Cameron</td>\n",
       "      <td>Action</td>\n",
       "      <td>760507625.0</td>\n",
       "      <td>Avatar (2009)</td>\n",
       "      <td>PG-13</td>\n",
       "      <td>162</td>\n",
       "      <td>7.8</td>\n",
       "      <td>Sam Worthington</td>\n",
       "      <td>Twentieth Century Fox Film Corporation</td>\n",
       "      <td>958400</td>\n",
       "      <td>523507625.0</td>\n",
       "      <td>220.889293</td>\n",
       "    </tr>\n",
       "    <tr>\n",
       "      <th>1</th>\n",
       "      <td>200000000.0</td>\n",
       "      <td>USA</td>\n",
       "      <td>James Cameron</td>\n",
       "      <td>Drama</td>\n",
       "      <td>658672302.0</td>\n",
       "      <td>Titanic (1997)</td>\n",
       "      <td>PG-13</td>\n",
       "      <td>194</td>\n",
       "      <td>7.8</td>\n",
       "      <td>Leonardo DiCaprio</td>\n",
       "      <td>Twentieth Century Fox Film Corporation</td>\n",
       "      <td>865551</td>\n",
       "      <td>458672302.0</td>\n",
       "      <td>229.336151</td>\n",
       "    </tr>\n",
       "    <tr>\n",
       "      <th>2</th>\n",
       "      <td>150000000.0</td>\n",
       "      <td>USA</td>\n",
       "      <td>Colin Trevorrow</td>\n",
       "      <td>Action</td>\n",
       "      <td>652270625.0</td>\n",
       "      <td>Jurassic World (2015)</td>\n",
       "      <td>PG-13</td>\n",
       "      <td>124</td>\n",
       "      <td>7.0</td>\n",
       "      <td>Chris Pratt</td>\n",
       "      <td>Universal Pictures</td>\n",
       "      <td>470625</td>\n",
       "      <td>502270625.0</td>\n",
       "      <td>334.847083</td>\n",
       "    </tr>\n",
       "    <tr>\n",
       "      <th>3</th>\n",
       "      <td>220000000.0</td>\n",
       "      <td>USA</td>\n",
       "      <td>Joss Whedon</td>\n",
       "      <td>Action</td>\n",
       "      <td>623357910.0</td>\n",
       "      <td>The Avengers (2012)</td>\n",
       "      <td>PG-13</td>\n",
       "      <td>143</td>\n",
       "      <td>8.1</td>\n",
       "      <td>Robert Downey Jr.</td>\n",
       "      <td>Marvel Studios</td>\n",
       "      <td>1069292</td>\n",
       "      <td>403357910.0</td>\n",
       "      <td>183.344505</td>\n",
       "    </tr>\n",
       "    <tr>\n",
       "      <th>4</th>\n",
       "      <td>185000000.0</td>\n",
       "      <td>USA</td>\n",
       "      <td>Christopher Nolan</td>\n",
       "      <td>Action</td>\n",
       "      <td>534858444.0</td>\n",
       "      <td>The Dark Knight (2008)</td>\n",
       "      <td>PG-13</td>\n",
       "      <td>152</td>\n",
       "      <td>9.0</td>\n",
       "      <td>Christian Bale</td>\n",
       "      <td>Warner Bros.</td>\n",
       "      <td>1845853</td>\n",
       "      <td>349858444.0</td>\n",
       "      <td>189.112672</td>\n",
       "    </tr>\n",
       "  </tbody>\n",
       "</table>\n",
       "</div>"
      ],
      "text/plain": [
       "        budget country           director   genre        gross  \\\n",
       "0  237000000.0      UK      James Cameron  Action  760507625.0   \n",
       "1  200000000.0     USA      James Cameron   Drama  658672302.0   \n",
       "2  150000000.0     USA    Colin Trevorrow  Action  652270625.0   \n",
       "3  220000000.0     USA        Joss Whedon  Action  623357910.0   \n",
       "4  185000000.0     USA  Christopher Nolan  Action  534858444.0   \n",
       "\n",
       "                     name rating  runtime  score               star  \\\n",
       "0           Avatar (2009)  PG-13      162    7.8    Sam Worthington   \n",
       "1          Titanic (1997)  PG-13      194    7.8  Leonardo DiCaprio   \n",
       "2   Jurassic World (2015)  PG-13      124    7.0        Chris Pratt   \n",
       "3     The Avengers (2012)  PG-13      143    8.1  Robert Downey Jr.   \n",
       "4  The Dark Knight (2008)  PG-13      152    9.0     Christian Bale   \n",
       "\n",
       "                                   studio    votes       Profit         ROI  \n",
       "0  Twentieth Century Fox Film Corporation   958400  523507625.0  220.889293  \n",
       "1  Twentieth Century Fox Film Corporation   865551  458672302.0  229.336151  \n",
       "2                      Universal Pictures   470625  502270625.0  334.847083  \n",
       "3                          Marvel Studios  1069292  403357910.0  183.344505  \n",
       "4                            Warner Bros.  1845853  349858444.0  189.112672  "
      ]
     },
     "execution_count": 82,
     "metadata": {},
     "output_type": "execute_result"
    }
   ],
   "source": [
    "Box_office_v2.head()"
   ]
  },
  {
   "cell_type": "code",
   "execution_count": 83,
   "metadata": {},
   "outputs": [],
   "source": [
    "Box_office_v2['ROI'] = np.where(Box_office_v2['ROI'] > 0.95, 1, 0)"
   ]
  },
  {
   "cell_type": "code",
   "execution_count": 84,
   "metadata": {},
   "outputs": [
    {
     "data": {
      "text/html": [
       "<div>\n",
       "<style scoped>\n",
       "    .dataframe tbody tr th:only-of-type {\n",
       "        vertical-align: middle;\n",
       "    }\n",
       "\n",
       "    .dataframe tbody tr th {\n",
       "        vertical-align: top;\n",
       "    }\n",
       "\n",
       "    .dataframe thead th {\n",
       "        text-align: right;\n",
       "    }\n",
       "</style>\n",
       "<table border=\"1\" class=\"dataframe\">\n",
       "  <thead>\n",
       "    <tr style=\"text-align: right;\">\n",
       "      <th></th>\n",
       "      <th>budget</th>\n",
       "      <th>country</th>\n",
       "      <th>director</th>\n",
       "      <th>genre</th>\n",
       "      <th>gross</th>\n",
       "      <th>name</th>\n",
       "      <th>rating</th>\n",
       "      <th>runtime</th>\n",
       "      <th>score</th>\n",
       "      <th>star</th>\n",
       "      <th>studio</th>\n",
       "      <th>votes</th>\n",
       "      <th>Profit</th>\n",
       "      <th>ROI</th>\n",
       "    </tr>\n",
       "  </thead>\n",
       "  <tbody>\n",
       "    <tr>\n",
       "      <th>0</th>\n",
       "      <td>237000000.0</td>\n",
       "      <td>UK</td>\n",
       "      <td>James Cameron</td>\n",
       "      <td>Action</td>\n",
       "      <td>760507625.0</td>\n",
       "      <td>Avatar (2009)</td>\n",
       "      <td>PG-13</td>\n",
       "      <td>162</td>\n",
       "      <td>7.8</td>\n",
       "      <td>Sam Worthington</td>\n",
       "      <td>Twentieth Century Fox Film Corporation</td>\n",
       "      <td>958400</td>\n",
       "      <td>523507625.0</td>\n",
       "      <td>1</td>\n",
       "    </tr>\n",
       "    <tr>\n",
       "      <th>1</th>\n",
       "      <td>200000000.0</td>\n",
       "      <td>USA</td>\n",
       "      <td>James Cameron</td>\n",
       "      <td>Drama</td>\n",
       "      <td>658672302.0</td>\n",
       "      <td>Titanic (1997)</td>\n",
       "      <td>PG-13</td>\n",
       "      <td>194</td>\n",
       "      <td>7.8</td>\n",
       "      <td>Leonardo DiCaprio</td>\n",
       "      <td>Twentieth Century Fox Film Corporation</td>\n",
       "      <td>865551</td>\n",
       "      <td>458672302.0</td>\n",
       "      <td>1</td>\n",
       "    </tr>\n",
       "    <tr>\n",
       "      <th>2</th>\n",
       "      <td>150000000.0</td>\n",
       "      <td>USA</td>\n",
       "      <td>Colin Trevorrow</td>\n",
       "      <td>Action</td>\n",
       "      <td>652270625.0</td>\n",
       "      <td>Jurassic World (2015)</td>\n",
       "      <td>PG-13</td>\n",
       "      <td>124</td>\n",
       "      <td>7.0</td>\n",
       "      <td>Chris Pratt</td>\n",
       "      <td>Universal Pictures</td>\n",
       "      <td>470625</td>\n",
       "      <td>502270625.0</td>\n",
       "      <td>1</td>\n",
       "    </tr>\n",
       "    <tr>\n",
       "      <th>3</th>\n",
       "      <td>220000000.0</td>\n",
       "      <td>USA</td>\n",
       "      <td>Joss Whedon</td>\n",
       "      <td>Action</td>\n",
       "      <td>623357910.0</td>\n",
       "      <td>The Avengers (2012)</td>\n",
       "      <td>PG-13</td>\n",
       "      <td>143</td>\n",
       "      <td>8.1</td>\n",
       "      <td>Robert Downey Jr.</td>\n",
       "      <td>Marvel Studios</td>\n",
       "      <td>1069292</td>\n",
       "      <td>403357910.0</td>\n",
       "      <td>1</td>\n",
       "    </tr>\n",
       "    <tr>\n",
       "      <th>4</th>\n",
       "      <td>185000000.0</td>\n",
       "      <td>USA</td>\n",
       "      <td>Christopher Nolan</td>\n",
       "      <td>Action</td>\n",
       "      <td>534858444.0</td>\n",
       "      <td>The Dark Knight (2008)</td>\n",
       "      <td>PG-13</td>\n",
       "      <td>152</td>\n",
       "      <td>9.0</td>\n",
       "      <td>Christian Bale</td>\n",
       "      <td>Warner Bros.</td>\n",
       "      <td>1845853</td>\n",
       "      <td>349858444.0</td>\n",
       "      <td>1</td>\n",
       "    </tr>\n",
       "    <tr>\n",
       "      <th>...</th>\n",
       "      <td>...</td>\n",
       "      <td>...</td>\n",
       "      <td>...</td>\n",
       "      <td>...</td>\n",
       "      <td>...</td>\n",
       "      <td>...</td>\n",
       "      <td>...</td>\n",
       "      <td>...</td>\n",
       "      <td>...</td>\n",
       "      <td>...</td>\n",
       "      <td>...</td>\n",
       "      <td>...</td>\n",
       "      <td>...</td>\n",
       "      <td>...</td>\n",
       "    </tr>\n",
       "    <tr>\n",
       "      <th>5995</th>\n",
       "      <td>11000000.0</td>\n",
       "      <td>UK</td>\n",
       "      <td>Dominic Anciano</td>\n",
       "      <td>Comedy</td>\n",
       "      <td>1143.0</td>\n",
       "      <td>Love, Honor and Obey (2000)</td>\n",
       "      <td>R</td>\n",
       "      <td>103</td>\n",
       "      <td>6.5</td>\n",
       "      <td>Sadie Frost</td>\n",
       "      <td>British Broadcasting Corporation (BBC)</td>\n",
       "      <td>4557</td>\n",
       "      <td>-10998857.0</td>\n",
       "      <td>0</td>\n",
       "    </tr>\n",
       "    <tr>\n",
       "      <th>5996</th>\n",
       "      <td>11000000.0</td>\n",
       "      <td>Ireland</td>\n",
       "      <td>Ian Fitzgibbon</td>\n",
       "      <td>Action</td>\n",
       "      <td>828.0</td>\n",
       "      <td>Perrier's Bounty (2009)</td>\n",
       "      <td>R</td>\n",
       "      <td>88</td>\n",
       "      <td>6.4</td>\n",
       "      <td>Gabriel Byrne</td>\n",
       "      <td>Parallel Film Productions</td>\n",
       "      <td>5540</td>\n",
       "      <td>-10999172.0</td>\n",
       "      <td>0</td>\n",
       "    </tr>\n",
       "    <tr>\n",
       "      <th>5997</th>\n",
       "      <td>11000000.0</td>\n",
       "      <td>Norway</td>\n",
       "      <td>Petter Næss</td>\n",
       "      <td>Action</td>\n",
       "      <td>547.0</td>\n",
       "      <td>Into the White (2012)</td>\n",
       "      <td>R</td>\n",
       "      <td>104</td>\n",
       "      <td>7.2</td>\n",
       "      <td>Florian Lukas</td>\n",
       "      <td>Zentropa International Norway</td>\n",
       "      <td>16674</td>\n",
       "      <td>-10999453.0</td>\n",
       "      <td>0</td>\n",
       "    </tr>\n",
       "    <tr>\n",
       "      <th>5998</th>\n",
       "      <td>11000000.0</td>\n",
       "      <td>UK</td>\n",
       "      <td>Sheree Folkson</td>\n",
       "      <td>Comedy</td>\n",
       "      <td>542.0</td>\n",
       "      <td>The Decoy Bride (2011)</td>\n",
       "      <td>PG</td>\n",
       "      <td>89</td>\n",
       "      <td>6.2</td>\n",
       "      <td>Kelly Macdonald</td>\n",
       "      <td>Isle of Man Film</td>\n",
       "      <td>9055</td>\n",
       "      <td>-10999458.0</td>\n",
       "      <td>0</td>\n",
       "    </tr>\n",
       "    <tr>\n",
       "      <th>5999</th>\n",
       "      <td>11000000.0</td>\n",
       "      <td>USA</td>\n",
       "      <td>Steven R. Monroe</td>\n",
       "      <td>Crime</td>\n",
       "      <td>441.0</td>\n",
       "      <td>I Spit on Your Grave 2 (2013)</td>\n",
       "      <td>R</td>\n",
       "      <td>106</td>\n",
       "      <td>5.7</td>\n",
       "      <td>Jemma Dallender</td>\n",
       "      <td>Cinetel Films</td>\n",
       "      <td>21145</td>\n",
       "      <td>-10999559.0</td>\n",
       "      <td>0</td>\n",
       "    </tr>\n",
       "  </tbody>\n",
       "</table>\n",
       "<p>6000 rows × 14 columns</p>\n",
       "</div>"
      ],
      "text/plain": [
       "           budget  country           director   genre        gross  \\\n",
       "0     237000000.0       UK      James Cameron  Action  760507625.0   \n",
       "1     200000000.0      USA      James Cameron   Drama  658672302.0   \n",
       "2     150000000.0      USA    Colin Trevorrow  Action  652270625.0   \n",
       "3     220000000.0      USA        Joss Whedon  Action  623357910.0   \n",
       "4     185000000.0      USA  Christopher Nolan  Action  534858444.0   \n",
       "...           ...      ...                ...     ...          ...   \n",
       "5995   11000000.0       UK    Dominic Anciano  Comedy       1143.0   \n",
       "5996   11000000.0  Ireland     Ian Fitzgibbon  Action        828.0   \n",
       "5997   11000000.0   Norway        Petter Næss  Action        547.0   \n",
       "5998   11000000.0       UK     Sheree Folkson  Comedy        542.0   \n",
       "5999   11000000.0      USA   Steven R. Monroe   Crime        441.0   \n",
       "\n",
       "                               name rating  runtime  score               star  \\\n",
       "0                     Avatar (2009)  PG-13      162    7.8    Sam Worthington   \n",
       "1                    Titanic (1997)  PG-13      194    7.8  Leonardo DiCaprio   \n",
       "2             Jurassic World (2015)  PG-13      124    7.0        Chris Pratt   \n",
       "3               The Avengers (2012)  PG-13      143    8.1  Robert Downey Jr.   \n",
       "4            The Dark Knight (2008)  PG-13      152    9.0     Christian Bale   \n",
       "...                             ...    ...      ...    ...                ...   \n",
       "5995    Love, Honor and Obey (2000)      R      103    6.5        Sadie Frost   \n",
       "5996        Perrier's Bounty (2009)      R       88    6.4      Gabriel Byrne   \n",
       "5997          Into the White (2012)      R      104    7.2      Florian Lukas   \n",
       "5998         The Decoy Bride (2011)     PG       89    6.2    Kelly Macdonald   \n",
       "5999  I Spit on Your Grave 2 (2013)      R      106    5.7    Jemma Dallender   \n",
       "\n",
       "                                      studio    votes       Profit  ROI  \n",
       "0     Twentieth Century Fox Film Corporation   958400  523507625.0    1  \n",
       "1     Twentieth Century Fox Film Corporation   865551  458672302.0    1  \n",
       "2                         Universal Pictures   470625  502270625.0    1  \n",
       "3                             Marvel Studios  1069292  403357910.0    1  \n",
       "4                               Warner Bros.  1845853  349858444.0    1  \n",
       "...                                      ...      ...          ...  ...  \n",
       "5995  British Broadcasting Corporation (BBC)     4557  -10998857.0    0  \n",
       "5996               Parallel Film Productions     5540  -10999172.0    0  \n",
       "5997           Zentropa International Norway    16674  -10999453.0    0  \n",
       "5998                        Isle of Man Film     9055  -10999458.0    0  \n",
       "5999                           Cinetel Films    21145  -10999559.0    0  \n",
       "\n",
       "[6000 rows x 14 columns]"
      ]
     },
     "execution_count": 84,
     "metadata": {},
     "output_type": "execute_result"
    }
   ],
   "source": [
    "Box_office_v2"
   ]
  },
  {
   "cell_type": "code",
   "execution_count": 85,
   "metadata": {},
   "outputs": [
    {
     "data": {
      "text/plain": [
       "0    3628\n",
       "1    2372\n",
       "Name: ROI, dtype: int64"
      ]
     },
     "execution_count": 85,
     "metadata": {},
     "output_type": "execute_result"
    }
   ],
   "source": [
    "Box_office_v2['ROI'].value_counts()"
   ]
  },
  {
   "cell_type": "code",
   "execution_count": 86,
   "metadata": {},
   "outputs": [
    {
     "name": "stdout",
     "output_type": "stream",
     "text": [
      "<class 'pandas.core.frame.DataFrame'>\n",
      "RangeIndex: 6000 entries, 0 to 5999\n",
      "Data columns (total 14 columns):\n",
      " #   Column    Non-Null Count  Dtype  \n",
      "---  ------    --------------  -----  \n",
      " 0   budget    6000 non-null   float64\n",
      " 1   country   6000 non-null   object \n",
      " 2   director  6000 non-null   object \n",
      " 3   genre     6000 non-null   object \n",
      " 4   gross     6000 non-null   float64\n",
      " 5   name      6000 non-null   object \n",
      " 6   rating    6000 non-null   object \n",
      " 7   runtime   6000 non-null   int64  \n",
      " 8   score     6000 non-null   float64\n",
      " 9   star      6000 non-null   object \n",
      " 10  studio    6000 non-null   object \n",
      " 11  votes     6000 non-null   int64  \n",
      " 12  Profit    6000 non-null   float64\n",
      " 13  ROI       6000 non-null   int64  \n",
      "dtypes: float64(4), int64(3), object(7)\n",
      "memory usage: 656.4+ KB\n"
     ]
    }
   ],
   "source": [
    "Box_office_v2.info()"
   ]
  },
  {
   "cell_type": "code",
   "execution_count": 87,
   "metadata": {},
   "outputs": [
    {
     "data": {
      "image/png": "[encoded data removed]",
      "text/plain": [
       "<Figure size 1440x1440 with 1 Axes>"
      ]
     },
     "metadata": {},
     "output_type": "display_data"
    }
   ],
   "source": [
    "(Box_office_v2['ROI'].value_counts().plot(kind='bar',title='Distribution of Target Variable', x= 'budget',\n",
    "                                             y= 'TV_ROI', rot=0)\n",
    "                                            );\n",
    "#plt.show()"
   ]
  },
  {
   "cell_type": "code",
   "execution_count": 28,
   "metadata": {},
   "outputs": [
    {
     "data": {
      "text/plain": [
       "0    0.604667\n",
       "1    0.395333\n",
       "Name: ROI, dtype: float64"
      ]
     },
     "execution_count": 28,
     "metadata": {},
     "output_type": "execute_result"
    }
   ],
   "source": [
    "Box_office_v2['ROI'].value_counts(normalize=True)"
   ]
  },
  {
   "cell_type": "markdown",
   "metadata": {},
   "source": [
    "# Checking for skewness"
   ]
  },
  {
   "cell_type": "code",
   "execution_count": 29,
   "metadata": {},
   "outputs": [
    {
     "data": {
      "image/png": "[encoded data removed]",
      "text/plain": [
       "<Figure size 720x720 with 6 Axes>"
      ]
     },
     "metadata": {},
     "output_type": "display_data"
    }
   ],
   "source": [
    "sns.set()\n",
    "features = ['budget', 'country', 'director', 'genre', 'gross', 'name', 'rating',\n",
    "            'runtime', 'score', 'star', 'studio', 'votes']\n",
    "\n",
    "Box_office_v2[features].hist(figsize=(10,10));"
   ]
  },
  {
   "cell_type": "markdown",
   "metadata": {},
   "source": [
    "# Coorrelation"
   ]
  },
  {
   "cell_type": "code",
   "execution_count": 30,
   "metadata": {},
   "outputs": [
    {
     "data": {
      "text/html": [
       "<div>\n",
       "<style scoped>\n",
       "    .dataframe tbody tr th:only-of-type {\n",
       "        vertical-align: middle;\n",
       "    }\n",
       "\n",
       "    .dataframe tbody tr th {\n",
       "        vertical-align: top;\n",
       "    }\n",
       "\n",
       "    .dataframe thead th {\n",
       "        text-align: right;\n",
       "    }\n",
       "</style>\n",
       "<table border=\"1\" class=\"dataframe\">\n",
       "  <thead>\n",
       "    <tr style=\"text-align: right;\">\n",
       "      <th></th>\n",
       "      <th>budget</th>\n",
       "      <th>gross</th>\n",
       "      <th>runtime</th>\n",
       "      <th>score</th>\n",
       "      <th>votes</th>\n",
       "      <th>Profit</th>\n",
       "      <th>ROI</th>\n",
       "    </tr>\n",
       "  </thead>\n",
       "  <tbody>\n",
       "    <tr>\n",
       "      <th>budget</th>\n",
       "      <td>1.000000</td>\n",
       "      <td>0.712052</td>\n",
       "      <td>0.267344</td>\n",
       "      <td>0.044869</td>\n",
       "      <td>0.494107</td>\n",
       "      <td>0.138909</td>\n",
       "      <td>0.088688</td>\n",
       "    </tr>\n",
       "    <tr>\n",
       "      <th>gross</th>\n",
       "      <td>0.712052</td>\n",
       "      <td>1.000000</td>\n",
       "      <td>0.224996</td>\n",
       "      <td>0.161371</td>\n",
       "      <td>0.664010</td>\n",
       "      <td>0.794230</td>\n",
       "      <td>0.466347</td>\n",
       "    </tr>\n",
       "    <tr>\n",
       "      <th>runtime</th>\n",
       "      <td>0.267344</td>\n",
       "      <td>0.224996</td>\n",
       "      <td>1.000000</td>\n",
       "      <td>0.393470</td>\n",
       "      <td>0.308524</td>\n",
       "      <td>0.085985</td>\n",
       "      <td>0.010697</td>\n",
       "    </tr>\n",
       "    <tr>\n",
       "      <th>score</th>\n",
       "      <td>0.044869</td>\n",
       "      <td>0.161371</td>\n",
       "      <td>0.393470</td>\n",
       "      <td>1.000000</td>\n",
       "      <td>0.393703</td>\n",
       "      <td>0.188774</td>\n",
       "      <td>0.106497</td>\n",
       "    </tr>\n",
       "    <tr>\n",
       "      <th>votes</th>\n",
       "      <td>0.494107</td>\n",
       "      <td>0.664010</td>\n",
       "      <td>0.308524</td>\n",
       "      <td>0.393703</td>\n",
       "      <td>1.000000</td>\n",
       "      <td>0.508946</td>\n",
       "      <td>0.323512</td>\n",
       "    </tr>\n",
       "    <tr>\n",
       "      <th>Profit</th>\n",
       "      <td>0.138909</td>\n",
       "      <td>0.794230</td>\n",
       "      <td>0.085985</td>\n",
       "      <td>0.188774</td>\n",
       "      <td>0.508946</td>\n",
       "      <td>1.000000</td>\n",
       "      <td>0.581003</td>\n",
       "    </tr>\n",
       "    <tr>\n",
       "      <th>ROI</th>\n",
       "      <td>0.088688</td>\n",
       "      <td>0.466347</td>\n",
       "      <td>0.010697</td>\n",
       "      <td>0.106497</td>\n",
       "      <td>0.323512</td>\n",
       "      <td>0.581003</td>\n",
       "      <td>1.000000</td>\n",
       "    </tr>\n",
       "  </tbody>\n",
       "</table>\n",
       "</div>"
      ],
      "text/plain": [
       "           budget     gross   runtime     score     votes    Profit       ROI\n",
       "budget   1.000000  0.712052  0.267344  0.044869  0.494107  0.138909  0.088688\n",
       "gross    0.712052  1.000000  0.224996  0.161371  0.664010  0.794230  0.466347\n",
       "runtime  0.267344  0.224996  1.000000  0.393470  0.308524  0.085985  0.010697\n",
       "score    0.044869  0.161371  0.393470  1.000000  0.393703  0.188774  0.106497\n",
       "votes    0.494107  0.664010  0.308524  0.393703  1.000000  0.508946  0.323512\n",
       "Profit   0.138909  0.794230  0.085985  0.188774  0.508946  1.000000  0.581003\n",
       "ROI      0.088688  0.466347  0.010697  0.106497  0.323512  0.581003  1.000000"
      ]
     },
     "execution_count": 30,
     "metadata": {},
     "output_type": "execute_result"
    }
   ],
   "source": [
    "corr_matrix = Box_office_v2.corr()  \n",
    "corr_matrix"
   ]
  },
  {
   "cell_type": "code",
   "execution_count": 31,
   "metadata": {},
   "outputs": [
    {
     "data": {
      "text/html": [
       "<div>\n",
       "<style scoped>\n",
       "    .dataframe tbody tr th:only-of-type {\n",
       "        vertical-align: middle;\n",
       "    }\n",
       "\n",
       "    .dataframe tbody tr th {\n",
       "        vertical-align: top;\n",
       "    }\n",
       "\n",
       "    .dataframe thead th {\n",
       "        text-align: right;\n",
       "    }\n",
       "</style>\n",
       "<table border=\"1\" class=\"dataframe\">\n",
       "  <thead>\n",
       "    <tr style=\"text-align: right;\">\n",
       "      <th></th>\n",
       "      <th>budget</th>\n",
       "      <th>gross</th>\n",
       "      <th>runtime</th>\n",
       "      <th>score</th>\n",
       "      <th>votes</th>\n",
       "      <th>Profit</th>\n",
       "      <th>ROI</th>\n",
       "    </tr>\n",
       "  </thead>\n",
       "  <tbody>\n",
       "    <tr>\n",
       "      <th>budget</th>\n",
       "      <td>1.000000</td>\n",
       "      <td>0.712052</td>\n",
       "      <td>0.267344</td>\n",
       "      <td>0.044869</td>\n",
       "      <td>0.494107</td>\n",
       "      <td>0.138909</td>\n",
       "      <td>0.088688</td>\n",
       "    </tr>\n",
       "    <tr>\n",
       "      <th>gross</th>\n",
       "      <td>0.712052</td>\n",
       "      <td>1.000000</td>\n",
       "      <td>0.224996</td>\n",
       "      <td>0.161371</td>\n",
       "      <td>0.664010</td>\n",
       "      <td>0.794230</td>\n",
       "      <td>0.466347</td>\n",
       "    </tr>\n",
       "    <tr>\n",
       "      <th>runtime</th>\n",
       "      <td>0.267344</td>\n",
       "      <td>0.224996</td>\n",
       "      <td>1.000000</td>\n",
       "      <td>0.393470</td>\n",
       "      <td>0.308524</td>\n",
       "      <td>0.085985</td>\n",
       "      <td>0.010697</td>\n",
       "    </tr>\n",
       "    <tr>\n",
       "      <th>score</th>\n",
       "      <td>0.044869</td>\n",
       "      <td>0.161371</td>\n",
       "      <td>0.393470</td>\n",
       "      <td>1.000000</td>\n",
       "      <td>0.393703</td>\n",
       "      <td>0.188774</td>\n",
       "      <td>0.106497</td>\n",
       "    </tr>\n",
       "    <tr>\n",
       "      <th>votes</th>\n",
       "      <td>0.494107</td>\n",
       "      <td>0.664010</td>\n",
       "      <td>0.308524</td>\n",
       "      <td>0.393703</td>\n",
       "      <td>1.000000</td>\n",
       "      <td>0.508946</td>\n",
       "      <td>0.323512</td>\n",
       "    </tr>\n",
       "    <tr>\n",
       "      <th>Profit</th>\n",
       "      <td>0.138909</td>\n",
       "      <td>0.794230</td>\n",
       "      <td>0.085985</td>\n",
       "      <td>0.188774</td>\n",
       "      <td>0.508946</td>\n",
       "      <td>1.000000</td>\n",
       "      <td>0.581003</td>\n",
       "    </tr>\n",
       "    <tr>\n",
       "      <th>ROI</th>\n",
       "      <td>0.088688</td>\n",
       "      <td>0.466347</td>\n",
       "      <td>0.010697</td>\n",
       "      <td>0.106497</td>\n",
       "      <td>0.323512</td>\n",
       "      <td>0.581003</td>\n",
       "      <td>1.000000</td>\n",
       "    </tr>\n",
       "  </tbody>\n",
       "</table>\n",
       "</div>"
      ],
      "text/plain": [
       "           budget     gross   runtime     score     votes    Profit       ROI\n",
       "budget   1.000000  0.712052  0.267344  0.044869  0.494107  0.138909  0.088688\n",
       "gross    0.712052  1.000000  0.224996  0.161371  0.664010  0.794230  0.466347\n",
       "runtime  0.267344  0.224996  1.000000  0.393470  0.308524  0.085985  0.010697\n",
       "score    0.044869  0.161371  0.393470  1.000000  0.393703  0.188774  0.106497\n",
       "votes    0.494107  0.664010  0.308524  0.393703  1.000000  0.508946  0.323512\n",
       "Profit   0.138909  0.794230  0.085985  0.188774  0.508946  1.000000  0.581003\n",
       "ROI      0.088688  0.466347  0.010697  0.106497  0.323512  0.581003  1.000000"
      ]
     },
     "execution_count": 31,
     "metadata": {},
     "output_type": "execute_result"
    }
   ],
   "source": [
    "Box_office_v2.corr()"
   ]
  },
  {
   "cell_type": "code",
   "execution_count": 33,
   "metadata": {},
   "outputs": [
    {
     "data": {
      "image/png": "[encoded data removed]",
      "text/plain": [
       "<Figure size 360x360 with 2 Axes>"
      ]
     },
     "metadata": {},
     "output_type": "display_data"
    }
   ],
   "source": [
    "corr_matrix = Box_office_v2.corr()\n",
    "fig, ax = plt.subplots(figsize=(5,5))\n",
    "ax = sns.heatmap(corr_matrix,\n",
    "                annot=True,\n",
    "                linewidths=0.5,\n",
    "                fmt=\".2f\",\n",
    "                cmap=\"YlGnBu\")"
   ]
  },
  {
   "cell_type": "markdown",
   "metadata": {},
   "source": [
    "# Outliers"
   ]
  },
  {
   "cell_type": "code",
   "execution_count": 34,
   "metadata": {},
   "outputs": [
    {
     "data": {
      "image/png": "[encoded data removed]",
      "text/plain": [
       "<Figure size 1440x1440 with 36 Axes>"
      ]
     },
     "metadata": {},
     "output_type": "display_data"
    }
   ],
   "source": [
    "import matplotlib.pyplot as plt\n",
    "plt.rcParams['figure.figsize'] = 20,20  # control plot size\n",
    "Box_office_v2.plot(kind='box', subplots=True, layout=(6,6), sharex=False, sharey=False)\n",
    "plt.show()"
   ]
  },
  {
   "cell_type": "markdown",
   "metadata": {},
   "source": [
    "# Dealing with Cardinality"
   ]
  },
  {
   "cell_type": "markdown",
   "metadata": {},
   "source": [
    "# Level down Country"
   ]
  },
  {
   "cell_type": "code",
   "execution_count": 88,
   "metadata": {},
   "outputs": [
    {
     "data": {
      "text/plain": [
       "USA        4281\n",
       "non-USA    1719\n",
       "Name: country, dtype: int64"
      ]
     },
     "execution_count": 88,
     "metadata": {},
     "output_type": "execute_result"
    }
   ],
   "source": [
    "Box_office_v2.loc[Box_office_v2['country'] != 'USA', ['country']] = 'non-USA'\n",
    "\n",
    "Box_office_v2['country'].unique()\n",
    "Box_office_v2['country'].value_counts()"
   ]
  },
  {
   "cell_type": "code",
   "execution_count": 89,
   "metadata": {},
   "outputs": [
    {
     "data": {
      "image/png": "[encoded data removed]",
      "text/plain": [
       "<Figure size 360x360 with 1 Axes>"
      ]
     },
     "metadata": {},
     "output_type": "display_data"
    }
   ],
   "source": [
    "sns.factorplot(x ='country', y = 'Profit',  kind = 'bar', data = Box_office_v2, size=5, aspect=1);"
   ]
  },
  {
   "cell_type": "markdown",
   "metadata": {},
   "source": [
    "# Level down Rating"
   ]
  },
  {
   "cell_type": "code",
   "execution_count": 90,
   "metadata": {},
   "outputs": [],
   "source": [
    "Box_office_v2 = Box_office_v2.replace(to_replace =[\"PG-13\",\"PG\",\"G\",\"TV-PG\",\"TV-14\",\"B15\"] ,  value =\"PG\")\n",
    "#Box_office_v2 = Box_office_v2.replace(to_replace =[] ,  value =\"Youth\")\n",
    "Box_office_v2 = Box_office_v2.replace(to_replace =[\"Not specified\",\"UNRATED\",\"NOT RATED\",\"B\"] ,  value =\"NR\")\n",
    "Box_office_v2 = Box_office_v2.replace(to_replace =[\"R\",\"TV-MA\",\"NC-17\"] ,  value =\"R\")"
   ]
  },
  {
   "cell_type": "code",
   "execution_count": 91,
   "metadata": {},
   "outputs": [
    {
     "data": {
      "text/plain": [
       "R     3030\n",
       "PG    2704\n",
       "NR     266\n",
       "Name: rating, dtype: int64"
      ]
     },
     "execution_count": 91,
     "metadata": {},
     "output_type": "execute_result"
    }
   ],
   "source": [
    "Box_office_v2['rating'].value_counts()"
   ]
  },
  {
   "cell_type": "code",
   "execution_count": 92,
   "metadata": {},
   "outputs": [
    {
     "data": {
      "image/png": "[encoded data removed]",
      "text/plain": [
       "<Figure size 360x360 with 1 Axes>"
      ]
     },
     "metadata": {},
     "output_type": "display_data"
    }
   ],
   "source": [
    "sns.factorplot(x ='rating', y = 'Profit',  kind = 'bar', data = Box_office_v2, size=5, aspect=1);"
   ]
  },
  {
   "cell_type": "markdown",
   "metadata": {},
   "source": [
    "# Level down Genre"
   ]
  },
  {
   "cell_type": "code",
   "execution_count": 93,
   "metadata": {},
   "outputs": [],
   "source": [
    "Box_office_v2 = Box_office_v2.replace(to_replace =[\"Crime\",\"Adventure\",\"Biography\",\"Animation\",\"Horror\",\"Mystery\",\n",
    "                                                   \"Fantasy\",\"Thriller\",\"Romance\",\"Sci-Fi\",\"Family\",\"Musical\",\n",
    "                                                   \"War\",\"Western\"], value =\"Others\")\n"
   ]
  },
  {
   "cell_type": "code",
   "execution_count": 94,
   "metadata": {},
   "outputs": [
    {
     "data": {
      "text/plain": [
       "Comedy    1818\n",
       "Others    1727\n",
       "Drama     1280\n",
       "Action    1175\n",
       "Name: genre, dtype: int64"
      ]
     },
     "execution_count": 94,
     "metadata": {},
     "output_type": "execute_result"
    }
   ],
   "source": [
    "Box_office_v2['genre'].value_counts()"
   ]
  },
  {
   "cell_type": "code",
   "execution_count": 95,
   "metadata": {},
   "outputs": [
    {
     "data": {
      "image/png": "[encoded data removed]",
      "text/plain": [
       "<Figure size 360x360 with 1 Axes>"
      ]
     },
     "metadata": {},
     "output_type": "display_data"
    }
   ],
   "source": [
    "sns.factorplot(x ='genre', y = 'Profit',  kind = 'bar', data = Box_office_v2, size=5, aspect=1);"
   ]
  },
  {
   "cell_type": "markdown",
   "metadata": {},
   "source": [
    "# Level down Stars"
   ]
  },
  {
   "cell_type": "code",
   "execution_count": 96,
   "metadata": {},
   "outputs": [],
   "source": [
    "Box_office_v2.sort_values(by = ['Profit', 'ROI'], ascending = False, inplace = True, ignore_index = True)\n",
    "top_50 = Box_office_v2.loc[0:50, 'star']\n",
    "Box_office_v2['star_names'] = top_50"
   ]
  },
  {
   "cell_type": "code",
   "execution_count": 97,
   "metadata": {},
   "outputs": [
    {
     "data": {
      "text/plain": [
       "array(['Sam Worthington', 'Chris Pratt', 'Leonardo DiCaprio',\n",
       "       'Robert Downey Jr.', 'Ewan McGregor', 'Christian Bale',\n",
       "       'Jim Caviezel', 'Sam Neill', 'Felicity Jones', 'Jennifer Lawrence',\n",
       "       'Ryan Reynolds', 'Steve Carell', 'Bradley Cooper', 'Albert Brooks',\n",
       "       'Mike Myers', 'Daniel Radcliffe', 'Tom Hanks', 'Matthew Broderick',\n",
       "       'Hayden Christensen', 'Tobey Maguire', 'Sandra Bullock',\n",
       "       'Bruce Willis', 'Kristen Bell', 'Kristen Stewart', 'Nia Vardalos',\n",
       "       'Will Smith', 'Quinton Aaron', 'Elijah Wood', 'Michael Keaton',\n",
       "       'Shia LaBeouf', 'Ben Stiller', 'Johnny Depp', 'Patrick Swayze',\n",
       "       'Robin Williams', \"Paige O'Hara\", 'Ginnifer Goodwin',\n",
       "       'Scott Weinger', 'Neel Sethi', 'Amy Poehler', nan], dtype=object)"
      ]
     },
     "execution_count": 97,
     "metadata": {},
     "output_type": "execute_result"
    }
   ],
   "source": [
    "Box_office_v2['star_names'].unique()"
   ]
  },
  {
   "cell_type": "code",
   "execution_count": 98,
   "metadata": {},
   "outputs": [],
   "source": [
    "Box_office_v2['star_names'] = Box_office_v2['star_names'].replace(to_replace =['Sam Worthington', 'Chris Pratt', 'Leonardo DiCaprio',\n",
    "       'Robert Downey Jr.', 'Ewan McGregor', 'Christian Bale',\n",
    "       'Jim Caviezel', 'Sam Neill', 'Felicity Jones', 'Jennifer Lawrence',\n",
    "       'Ryan Reynolds', 'Steve Carell', 'Bradley Cooper', 'Albert Brooks',\n",
    "       'Mike Myers', 'Daniel Radcliffe', 'Tom Hanks', 'Matthew Broderick',\n",
    "       'Hayden Christensen', 'Tobey Maguire', 'Sandra Bullock',\n",
    "       'Bruce Willis', 'Kristen Bell', 'Kristen Stewart', 'Nia Vardalos',\n",
    "       'Will Smith', 'Quinton Aaron', 'Elijah Wood', 'Michael Keaton',\n",
    "       'Shia LaBeouf', 'Ben Stiller', 'Johnny Depp', 'Patrick Swayze',\n",
    "       'Robin Williams', \"Paige O'Hara\", 'Ginnifer Goodwin',\n",
    "       'Scott Weinger', 'Neel Sethi', 'Amy Poehler'] ,  value =\"Famous\")"
   ]
  },
  {
   "cell_type": "code",
   "execution_count": 99,
   "metadata": {},
   "outputs": [],
   "source": [
    "Box_office_v2['star_names'].fillna('Not-Famous', inplace = True)"
   ]
  },
  {
   "cell_type": "code",
   "execution_count": 100,
   "metadata": {},
   "outputs": [
    {
     "data": {
      "text/plain": [
       "array(['Famous', 'Not-Famous'], dtype=object)"
      ]
     },
     "execution_count": 100,
     "metadata": {},
     "output_type": "execute_result"
    }
   ],
   "source": [
    "Box_office_v2['star_names'].unique()"
   ]
  },
  {
   "cell_type": "markdown",
   "metadata": {},
   "source": [
    "# Level down Studio"
   ]
  },
  {
   "cell_type": "code",
   "execution_count": 101,
   "metadata": {},
   "outputs": [],
   "source": [
    "Box_office_v2.sort_values(by = ['Profit','ROI'], ascending = False, inplace = True, ignore_index = True)\n",
    "top_50 = Box_office_v2.loc[0:50, 'studio']\n",
    "Box_office_v2['studio_names'] = top_50"
   ]
  },
  {
   "cell_type": "code",
   "execution_count": 102,
   "metadata": {},
   "outputs": [
    {
     "data": {
      "text/plain": [
       "array(['Twentieth Century Fox Film Corporation', 'Universal Pictures',\n",
       "       'Marvel Studios', 'Lucasfilm', 'Warner Bros.', 'Icon Productions',\n",
       "       'Lionsgate', 'Color Force', 'Pixar Animation Studios',\n",
       "       'DreamWorks', 'Paramount Pictures', 'Walt Disney Pictures',\n",
       "       'Columbia Pictures Corporation', 'Illumination Entertainment',\n",
       "       'Hollywood Pictures', 'Walt Disney Animation Studios',\n",
       "       'Temple Hill Entertainment', 'Gold Circle Films',\n",
       "       'Summit Entertainment', 'Alcon Entertainment', 'New Line Cinema',\n",
       "       'Fairview Entertainment', nan], dtype=object)"
      ]
     },
     "execution_count": 102,
     "metadata": {},
     "output_type": "execute_result"
    }
   ],
   "source": [
    "Box_office_v2['studio_names'].unique()"
   ]
  },
  {
   "cell_type": "code",
   "execution_count": 103,
   "metadata": {},
   "outputs": [],
   "source": [
    "Box_office_v2['studio_names'] = Box_office_v2['studio_names'].replace(to_replace =['Twentieth Century Fox Film Corporation', 'Universal Pictures',\n",
    "       'Marvel Studios', 'Lucasfilm', 'Warner Bros.', 'Icon Productions',\n",
    "       'Lionsgate', 'Color Force', 'Pixar Animation Studios',\n",
    "       'DreamWorks', 'Paramount Pictures', 'Walt Disney Pictures',\n",
    "       'Columbia Pictures Corporation', 'Illumination Entertainment',\n",
    "       'Hollywood Pictures', 'Walt Disney Animation Studios',\n",
    "       'Temple Hill Entertainment', 'Gold Circle Films',\n",
    "       'Summit Entertainment', 'Alcon Entertainment', 'New Line Cinema',\n",
    "       'Fairview Entertainment'] ,  value =\"Top_Studio\")\n"
   ]
  },
  {
   "cell_type": "code",
   "execution_count": 104,
   "metadata": {},
   "outputs": [],
   "source": [
    "Box_office_v2['studio_names'].fillna('Low-Studio', inplace = True)"
   ]
  },
  {
   "cell_type": "code",
   "execution_count": 105,
   "metadata": {},
   "outputs": [
    {
     "data": {
      "text/plain": [
       "array(['Top_Studio', 'Low-Studio'], dtype=object)"
      ]
     },
     "execution_count": 105,
     "metadata": {},
     "output_type": "execute_result"
    }
   ],
   "source": [
    "Box_office_v2['studio_names'].unique()"
   ]
  },
  {
   "cell_type": "markdown",
   "metadata": {},
   "source": [
    "# Plotting Cat Data"
   ]
  },
  {
   "cell_type": "code",
   "execution_count": 59,
   "metadata": {},
   "outputs": [
    {
     "data": {
      "image/png": "[encoded data removed]",
      "text/plain": [
       "<Figure size 720x720 with 2 Axes>"
      ]
     },
     "metadata": {},
     "output_type": "display_data"
    }
   ],
   "source": [
    "_, axes = plt.subplots(nrows=1, ncols=2, figsize=(10, 10))\n",
    "\n",
    "sns.countplot(x='rating', data= Box_office_v2, ax=axes[0]);\n",
    "sns.countplot(x='country', data= Box_office_v2, ax=axes[1]);"
   ]
  },
  {
   "cell_type": "code",
   "execution_count": 60,
   "metadata": {},
   "outputs": [
    {
     "data": {
      "image/png": "[encoded data removed]",
      "text/plain": [
       "<Figure size 720x720 with 2 Axes>"
      ]
     },
     "metadata": {},
     "output_type": "display_data"
    }
   ],
   "source": [
    "_, axes = plt.subplots(nrows=1, ncols=2, figsize=(10, 10))\n",
    "sns.countplot(x='genre', data= Box_office_v2, ax=axes[0]);\n",
    "sns.countplot(x='country', data= Box_office_v2, ax=axes[1]);\n"
   ]
  },
  {
   "cell_type": "code",
   "execution_count": 65,
   "metadata": {},
   "outputs": [
    {
     "data": {
      "image/png": "[encoded data removed]",
      "text/plain": [
       "<Figure size 720x720 with 2 Axes>"
      ]
     },
     "metadata": {},
     "output_type": "display_data"
    }
   ],
   "source": [
    "_, axes = plt.subplots(nrows=1, ncols=2, figsize=(10, 10))\n",
    "sns.countplot(x='star_names', data= Box_office_v2, ax=axes[0]);\n",
    "sns.countplot(x='studio_names', data= Box_office_v2, ax=axes[1]);"
   ]
  },
  {
   "cell_type": "markdown",
   "metadata": {},
   "source": [
    "# Deleting columns"
   ]
  },
  {
   "cell_type": "code",
   "execution_count": 106,
   "metadata": {},
   "outputs": [
    {
     "data": {
      "text/html": [
       "<div>\n",
       "<style scoped>\n",
       "    .dataframe tbody tr th:only-of-type {\n",
       "        vertical-align: middle;\n",
       "    }\n",
       "\n",
       "    .dataframe tbody tr th {\n",
       "        vertical-align: top;\n",
       "    }\n",
       "\n",
       "    .dataframe thead th {\n",
       "        text-align: right;\n",
       "    }\n",
       "</style>\n",
       "<table border=\"1\" class=\"dataframe\">\n",
       "  <thead>\n",
       "    <tr style=\"text-align: right;\">\n",
       "      <th></th>\n",
       "      <th>budget</th>\n",
       "      <th>country</th>\n",
       "      <th>director</th>\n",
       "      <th>genre</th>\n",
       "      <th>gross</th>\n",
       "      <th>name</th>\n",
       "      <th>rating</th>\n",
       "      <th>runtime</th>\n",
       "      <th>score</th>\n",
       "      <th>star</th>\n",
       "      <th>studio</th>\n",
       "      <th>votes</th>\n",
       "      <th>Profit</th>\n",
       "      <th>ROI</th>\n",
       "      <th>star_names</th>\n",
       "      <th>studio_names</th>\n",
       "    </tr>\n",
       "  </thead>\n",
       "  <tbody>\n",
       "    <tr>\n",
       "      <th>0</th>\n",
       "      <td>237000000.0</td>\n",
       "      <td>non-USA</td>\n",
       "      <td>James Cameron</td>\n",
       "      <td>Action</td>\n",
       "      <td>760507625.0</td>\n",
       "      <td>Avatar (2009)</td>\n",
       "      <td>PG</td>\n",
       "      <td>162</td>\n",
       "      <td>7.8</td>\n",
       "      <td>Sam Worthington</td>\n",
       "      <td>Twentieth Century Fox Film Corporation</td>\n",
       "      <td>958400</td>\n",
       "      <td>523507625.0</td>\n",
       "      <td>1</td>\n",
       "      <td>Famous</td>\n",
       "      <td>Top_Studio</td>\n",
       "    </tr>\n",
       "    <tr>\n",
       "      <th>1</th>\n",
       "      <td>150000000.0</td>\n",
       "      <td>USA</td>\n",
       "      <td>Colin Trevorrow</td>\n",
       "      <td>Action</td>\n",
       "      <td>652270625.0</td>\n",
       "      <td>Jurassic World (2015)</td>\n",
       "      <td>PG</td>\n",
       "      <td>124</td>\n",
       "      <td>7.0</td>\n",
       "      <td>Chris Pratt</td>\n",
       "      <td>Universal Pictures</td>\n",
       "      <td>470625</td>\n",
       "      <td>502270625.0</td>\n",
       "      <td>1</td>\n",
       "      <td>Famous</td>\n",
       "      <td>Top_Studio</td>\n",
       "    </tr>\n",
       "    <tr>\n",
       "      <th>2</th>\n",
       "      <td>200000000.0</td>\n",
       "      <td>USA</td>\n",
       "      <td>James Cameron</td>\n",
       "      <td>Drama</td>\n",
       "      <td>658672302.0</td>\n",
       "      <td>Titanic (1997)</td>\n",
       "      <td>PG</td>\n",
       "      <td>194</td>\n",
       "      <td>7.8</td>\n",
       "      <td>Leonardo DiCaprio</td>\n",
       "      <td>Twentieth Century Fox Film Corporation</td>\n",
       "      <td>865551</td>\n",
       "      <td>458672302.0</td>\n",
       "      <td>1</td>\n",
       "      <td>Famous</td>\n",
       "      <td>Top_Studio</td>\n",
       "    </tr>\n",
       "    <tr>\n",
       "      <th>3</th>\n",
       "      <td>220000000.0</td>\n",
       "      <td>USA</td>\n",
       "      <td>Joss Whedon</td>\n",
       "      <td>Action</td>\n",
       "      <td>623357910.0</td>\n",
       "      <td>The Avengers (2012)</td>\n",
       "      <td>PG</td>\n",
       "      <td>143</td>\n",
       "      <td>8.1</td>\n",
       "      <td>Robert Downey Jr.</td>\n",
       "      <td>Marvel Studios</td>\n",
       "      <td>1069292</td>\n",
       "      <td>403357910.0</td>\n",
       "      <td>1</td>\n",
       "      <td>Famous</td>\n",
       "      <td>Top_Studio</td>\n",
       "    </tr>\n",
       "    <tr>\n",
       "      <th>4</th>\n",
       "      <td>115000000.0</td>\n",
       "      <td>USA</td>\n",
       "      <td>George Lucas</td>\n",
       "      <td>Action</td>\n",
       "      <td>474544677.0</td>\n",
       "      <td>Star Wars: Episode I - The Phantom Menace (1999)</td>\n",
       "      <td>PG</td>\n",
       "      <td>136</td>\n",
       "      <td>6.5</td>\n",
       "      <td>Ewan McGregor</td>\n",
       "      <td>Lucasfilm</td>\n",
       "      <td>587113</td>\n",
       "      <td>359544677.0</td>\n",
       "      <td>1</td>\n",
       "      <td>Famous</td>\n",
       "      <td>Top_Studio</td>\n",
       "    </tr>\n",
       "    <tr>\n",
       "      <th>...</th>\n",
       "      <td>...</td>\n",
       "      <td>...</td>\n",
       "      <td>...</td>\n",
       "      <td>...</td>\n",
       "      <td>...</td>\n",
       "      <td>...</td>\n",
       "      <td>...</td>\n",
       "      <td>...</td>\n",
       "      <td>...</td>\n",
       "      <td>...</td>\n",
       "      <td>...</td>\n",
       "      <td>...</td>\n",
       "      <td>...</td>\n",
       "      <td>...</td>\n",
       "      <td>...</td>\n",
       "      <td>...</td>\n",
       "    </tr>\n",
       "    <tr>\n",
       "      <th>5995</th>\n",
       "      <td>176000000.0</td>\n",
       "      <td>USA</td>\n",
       "      <td>Lana Wachowski</td>\n",
       "      <td>Action</td>\n",
       "      <td>47387723.0</td>\n",
       "      <td>Jupiter Ascending (2015)</td>\n",
       "      <td>PG</td>\n",
       "      <td>127</td>\n",
       "      <td>5.3</td>\n",
       "      <td>Channing Tatum</td>\n",
       "      <td>Warner Bros.</td>\n",
       "      <td>154144</td>\n",
       "      <td>-128612277.0</td>\n",
       "      <td>0</td>\n",
       "      <td>Not-Famous</td>\n",
       "      <td>Low-Studio</td>\n",
       "    </tr>\n",
       "    <tr>\n",
       "      <th>5996</th>\n",
       "      <td>195000000.0</td>\n",
       "      <td>USA</td>\n",
       "      <td>Bryan Singer</td>\n",
       "      <td>Others</td>\n",
       "      <td>65187603.0</td>\n",
       "      <td>Jack the Giant Slayer (2013)</td>\n",
       "      <td>PG</td>\n",
       "      <td>114</td>\n",
       "      <td>6.3</td>\n",
       "      <td>Nicholas Hoult</td>\n",
       "      <td>New Line Cinema</td>\n",
       "      <td>114307</td>\n",
       "      <td>-129812397.0</td>\n",
       "      <td>0</td>\n",
       "      <td>Not-Famous</td>\n",
       "      <td>Low-Studio</td>\n",
       "    </tr>\n",
       "    <tr>\n",
       "      <th>5997</th>\n",
       "      <td>175000000.0</td>\n",
       "      <td>USA</td>\n",
       "      <td>Carl Rinsch</td>\n",
       "      <td>Action</td>\n",
       "      <td>38362475.0</td>\n",
       "      <td>47 Ronin (2013)</td>\n",
       "      <td>PG</td>\n",
       "      <td>119</td>\n",
       "      <td>6.3</td>\n",
       "      <td>Keanu Reeves</td>\n",
       "      <td>H2F Entertainment</td>\n",
       "      <td>126315</td>\n",
       "      <td>-136637525.0</td>\n",
       "      <td>0</td>\n",
       "      <td>Not-Famous</td>\n",
       "      <td>Low-Studio</td>\n",
       "    </tr>\n",
       "    <tr>\n",
       "      <th>5998</th>\n",
       "      <td>209000000.0</td>\n",
       "      <td>USA</td>\n",
       "      <td>Peter Berg</td>\n",
       "      <td>Action</td>\n",
       "      <td>65422625.0</td>\n",
       "      <td>Battleship (2012)</td>\n",
       "      <td>PG</td>\n",
       "      <td>131</td>\n",
       "      <td>5.8</td>\n",
       "      <td>Alexander Skarsgård</td>\n",
       "      <td>Universal Pictures</td>\n",
       "      <td>214631</td>\n",
       "      <td>-143577375.0</td>\n",
       "      <td>0</td>\n",
       "      <td>Not-Famous</td>\n",
       "      <td>Low-Studio</td>\n",
       "    </tr>\n",
       "    <tr>\n",
       "      <th>5999</th>\n",
       "      <td>250000000.0</td>\n",
       "      <td>USA</td>\n",
       "      <td>Andrew Stanton</td>\n",
       "      <td>Action</td>\n",
       "      <td>73078100.0</td>\n",
       "      <td>John Carter (2012)</td>\n",
       "      <td>PG</td>\n",
       "      <td>132</td>\n",
       "      <td>6.6</td>\n",
       "      <td>Taylor Kitsch</td>\n",
       "      <td>Walt Disney Pictures</td>\n",
       "      <td>224996</td>\n",
       "      <td>-176921900.0</td>\n",
       "      <td>0</td>\n",
       "      <td>Not-Famous</td>\n",
       "      <td>Low-Studio</td>\n",
       "    </tr>\n",
       "  </tbody>\n",
       "</table>\n",
       "<p>6000 rows × 16 columns</p>\n",
       "</div>"
      ],
      "text/plain": [
       "           budget  country         director   genre        gross  \\\n",
       "0     237000000.0  non-USA    James Cameron  Action  760507625.0   \n",
       "1     150000000.0      USA  Colin Trevorrow  Action  652270625.0   \n",
       "2     200000000.0      USA    James Cameron   Drama  658672302.0   \n",
       "3     220000000.0      USA      Joss Whedon  Action  623357910.0   \n",
       "4     115000000.0      USA     George Lucas  Action  474544677.0   \n",
       "...           ...      ...              ...     ...          ...   \n",
       "5995  176000000.0      USA   Lana Wachowski  Action   47387723.0   \n",
       "5996  195000000.0      USA     Bryan Singer  Others   65187603.0   \n",
       "5997  175000000.0      USA      Carl Rinsch  Action   38362475.0   \n",
       "5998  209000000.0      USA       Peter Berg  Action   65422625.0   \n",
       "5999  250000000.0      USA   Andrew Stanton  Action   73078100.0   \n",
       "\n",
       "                                                  name rating  runtime  score  \\\n",
       "0                                        Avatar (2009)     PG      162    7.8   \n",
       "1                                Jurassic World (2015)     PG      124    7.0   \n",
       "2                                       Titanic (1997)     PG      194    7.8   \n",
       "3                                  The Avengers (2012)     PG      143    8.1   \n",
       "4     Star Wars: Episode I - The Phantom Menace (1999)     PG      136    6.5   \n",
       "...                                                ...    ...      ...    ...   \n",
       "5995                          Jupiter Ascending (2015)     PG      127    5.3   \n",
       "5996                      Jack the Giant Slayer (2013)     PG      114    6.3   \n",
       "5997                                   47 Ronin (2013)     PG      119    6.3   \n",
       "5998                                 Battleship (2012)     PG      131    5.8   \n",
       "5999                                John Carter (2012)     PG      132    6.6   \n",
       "\n",
       "                     star                                  studio    votes  \\\n",
       "0         Sam Worthington  Twentieth Century Fox Film Corporation   958400   \n",
       "1             Chris Pratt                      Universal Pictures   470625   \n",
       "2       Leonardo DiCaprio  Twentieth Century Fox Film Corporation   865551   \n",
       "3       Robert Downey Jr.                          Marvel Studios  1069292   \n",
       "4           Ewan McGregor                               Lucasfilm   587113   \n",
       "...                   ...                                     ...      ...   \n",
       "5995       Channing Tatum                            Warner Bros.   154144   \n",
       "5996       Nicholas Hoult                         New Line Cinema   114307   \n",
       "5997         Keanu Reeves                       H2F Entertainment   126315   \n",
       "5998  Alexander Skarsgård                      Universal Pictures   214631   \n",
       "5999        Taylor Kitsch                    Walt Disney Pictures   224996   \n",
       "\n",
       "           Profit  ROI  star_names studio_names  \n",
       "0     523507625.0    1      Famous   Top_Studio  \n",
       "1     502270625.0    1      Famous   Top_Studio  \n",
       "2     458672302.0    1      Famous   Top_Studio  \n",
       "3     403357910.0    1      Famous   Top_Studio  \n",
       "4     359544677.0    1      Famous   Top_Studio  \n",
       "...           ...  ...         ...          ...  \n",
       "5995 -128612277.0    0  Not-Famous   Low-Studio  \n",
       "5996 -129812397.0    0  Not-Famous   Low-Studio  \n",
       "5997 -136637525.0    0  Not-Famous   Low-Studio  \n",
       "5998 -143577375.0    0  Not-Famous   Low-Studio  \n",
       "5999 -176921900.0    0  Not-Famous   Low-Studio  \n",
       "\n",
       "[6000 rows x 16 columns]"
      ]
     },
     "execution_count": 106,
     "metadata": {},
     "output_type": "execute_result"
    }
   ],
   "source": [
    "Box_office_v2"
   ]
  },
  {
   "cell_type": "code",
   "execution_count": 107,
   "metadata": {},
   "outputs": [],
   "source": [
    "to_delete = ['director', 'name' , 'runtime' ,'Profit','star','studio']"
   ]
  },
  {
   "cell_type": "code",
   "execution_count": 108,
   "metadata": {},
   "outputs": [],
   "source": [
    "Box_office_v2 = Box_office_v2.drop(to_delete, axis = 1 )"
   ]
  },
  {
   "cell_type": "code",
   "execution_count": 109,
   "metadata": {},
   "outputs": [
    {
     "data": {
      "text/html": [
       "<div>\n",
       "<style scoped>\n",
       "    .dataframe tbody tr th:only-of-type {\n",
       "        vertical-align: middle;\n",
       "    }\n",
       "\n",
       "    .dataframe tbody tr th {\n",
       "        vertical-align: top;\n",
       "    }\n",
       "\n",
       "    .dataframe thead th {\n",
       "        text-align: right;\n",
       "    }\n",
       "</style>\n",
       "<table border=\"1\" class=\"dataframe\">\n",
       "  <thead>\n",
       "    <tr style=\"text-align: right;\">\n",
       "      <th></th>\n",
       "      <th>budget</th>\n",
       "      <th>country</th>\n",
       "      <th>genre</th>\n",
       "      <th>gross</th>\n",
       "      <th>rating</th>\n",
       "      <th>score</th>\n",
       "      <th>votes</th>\n",
       "      <th>ROI</th>\n",
       "      <th>star_names</th>\n",
       "      <th>studio_names</th>\n",
       "    </tr>\n",
       "  </thead>\n",
       "  <tbody>\n",
       "    <tr>\n",
       "      <th>0</th>\n",
       "      <td>237000000.0</td>\n",
       "      <td>non-USA</td>\n",
       "      <td>Action</td>\n",
       "      <td>760507625.0</td>\n",
       "      <td>PG</td>\n",
       "      <td>7.8</td>\n",
       "      <td>958400</td>\n",
       "      <td>1</td>\n",
       "      <td>Famous</td>\n",
       "      <td>Top_Studio</td>\n",
       "    </tr>\n",
       "    <tr>\n",
       "      <th>1</th>\n",
       "      <td>150000000.0</td>\n",
       "      <td>USA</td>\n",
       "      <td>Action</td>\n",
       "      <td>652270625.0</td>\n",
       "      <td>PG</td>\n",
       "      <td>7.0</td>\n",
       "      <td>470625</td>\n",
       "      <td>1</td>\n",
       "      <td>Famous</td>\n",
       "      <td>Top_Studio</td>\n",
       "    </tr>\n",
       "    <tr>\n",
       "      <th>2</th>\n",
       "      <td>200000000.0</td>\n",
       "      <td>USA</td>\n",
       "      <td>Drama</td>\n",
       "      <td>658672302.0</td>\n",
       "      <td>PG</td>\n",
       "      <td>7.8</td>\n",
       "      <td>865551</td>\n",
       "      <td>1</td>\n",
       "      <td>Famous</td>\n",
       "      <td>Top_Studio</td>\n",
       "    </tr>\n",
       "    <tr>\n",
       "      <th>3</th>\n",
       "      <td>220000000.0</td>\n",
       "      <td>USA</td>\n",
       "      <td>Action</td>\n",
       "      <td>623357910.0</td>\n",
       "      <td>PG</td>\n",
       "      <td>8.1</td>\n",
       "      <td>1069292</td>\n",
       "      <td>1</td>\n",
       "      <td>Famous</td>\n",
       "      <td>Top_Studio</td>\n",
       "    </tr>\n",
       "    <tr>\n",
       "      <th>4</th>\n",
       "      <td>115000000.0</td>\n",
       "      <td>USA</td>\n",
       "      <td>Action</td>\n",
       "      <td>474544677.0</td>\n",
       "      <td>PG</td>\n",
       "      <td>6.5</td>\n",
       "      <td>587113</td>\n",
       "      <td>1</td>\n",
       "      <td>Famous</td>\n",
       "      <td>Top_Studio</td>\n",
       "    </tr>\n",
       "    <tr>\n",
       "      <th>...</th>\n",
       "      <td>...</td>\n",
       "      <td>...</td>\n",
       "      <td>...</td>\n",
       "      <td>...</td>\n",
       "      <td>...</td>\n",
       "      <td>...</td>\n",
       "      <td>...</td>\n",
       "      <td>...</td>\n",
       "      <td>...</td>\n",
       "      <td>...</td>\n",
       "    </tr>\n",
       "    <tr>\n",
       "      <th>5995</th>\n",
       "      <td>176000000.0</td>\n",
       "      <td>USA</td>\n",
       "      <td>Action</td>\n",
       "      <td>47387723.0</td>\n",
       "      <td>PG</td>\n",
       "      <td>5.3</td>\n",
       "      <td>154144</td>\n",
       "      <td>0</td>\n",
       "      <td>Not-Famous</td>\n",
       "      <td>Low-Studio</td>\n",
       "    </tr>\n",
       "    <tr>\n",
       "      <th>5996</th>\n",
       "      <td>195000000.0</td>\n",
       "      <td>USA</td>\n",
       "      <td>Others</td>\n",
       "      <td>65187603.0</td>\n",
       "      <td>PG</td>\n",
       "      <td>6.3</td>\n",
       "      <td>114307</td>\n",
       "      <td>0</td>\n",
       "      <td>Not-Famous</td>\n",
       "      <td>Low-Studio</td>\n",
       "    </tr>\n",
       "    <tr>\n",
       "      <th>5997</th>\n",
       "      <td>175000000.0</td>\n",
       "      <td>USA</td>\n",
       "      <td>Action</td>\n",
       "      <td>38362475.0</td>\n",
       "      <td>PG</td>\n",
       "      <td>6.3</td>\n",
       "      <td>126315</td>\n",
       "      <td>0</td>\n",
       "      <td>Not-Famous</td>\n",
       "      <td>Low-Studio</td>\n",
       "    </tr>\n",
       "    <tr>\n",
       "      <th>5998</th>\n",
       "      <td>209000000.0</td>\n",
       "      <td>USA</td>\n",
       "      <td>Action</td>\n",
       "      <td>65422625.0</td>\n",
       "      <td>PG</td>\n",
       "      <td>5.8</td>\n",
       "      <td>214631</td>\n",
       "      <td>0</td>\n",
       "      <td>Not-Famous</td>\n",
       "      <td>Low-Studio</td>\n",
       "    </tr>\n",
       "    <tr>\n",
       "      <th>5999</th>\n",
       "      <td>250000000.0</td>\n",
       "      <td>USA</td>\n",
       "      <td>Action</td>\n",
       "      <td>73078100.0</td>\n",
       "      <td>PG</td>\n",
       "      <td>6.6</td>\n",
       "      <td>224996</td>\n",
       "      <td>0</td>\n",
       "      <td>Not-Famous</td>\n",
       "      <td>Low-Studio</td>\n",
       "    </tr>\n",
       "  </tbody>\n",
       "</table>\n",
       "<p>6000 rows × 10 columns</p>\n",
       "</div>"
      ],
      "text/plain": [
       "           budget  country   genre        gross rating  score    votes  ROI  \\\n",
       "0     237000000.0  non-USA  Action  760507625.0     PG    7.8   958400    1   \n",
       "1     150000000.0      USA  Action  652270625.0     PG    7.0   470625    1   \n",
       "2     200000000.0      USA   Drama  658672302.0     PG    7.8   865551    1   \n",
       "3     220000000.0      USA  Action  623357910.0     PG    8.1  1069292    1   \n",
       "4     115000000.0      USA  Action  474544677.0     PG    6.5   587113    1   \n",
       "...           ...      ...     ...          ...    ...    ...      ...  ...   \n",
       "5995  176000000.0      USA  Action   47387723.0     PG    5.3   154144    0   \n",
       "5996  195000000.0      USA  Others   65187603.0     PG    6.3   114307    0   \n",
       "5997  175000000.0      USA  Action   38362475.0     PG    6.3   126315    0   \n",
       "5998  209000000.0      USA  Action   65422625.0     PG    5.8   214631    0   \n",
       "5999  250000000.0      USA  Action   73078100.0     PG    6.6   224996    0   \n",
       "\n",
       "      star_names studio_names  \n",
       "0         Famous   Top_Studio  \n",
       "1         Famous   Top_Studio  \n",
       "2         Famous   Top_Studio  \n",
       "3         Famous   Top_Studio  \n",
       "4         Famous   Top_Studio  \n",
       "...          ...          ...  \n",
       "5995  Not-Famous   Low-Studio  \n",
       "5996  Not-Famous   Low-Studio  \n",
       "5997  Not-Famous   Low-Studio  \n",
       "5998  Not-Famous   Low-Studio  \n",
       "5999  Not-Famous   Low-Studio  \n",
       "\n",
       "[6000 rows x 10 columns]"
      ]
     },
     "execution_count": 109,
     "metadata": {},
     "output_type": "execute_result"
    }
   ],
   "source": [
    "Box_office_v2"
   ]
  },
  {
   "cell_type": "code",
   "execution_count": 110,
   "metadata": {},
   "outputs": [
    {
     "name": "stdout",
     "output_type": "stream",
     "text": [
      "<class 'pandas.core.frame.DataFrame'>\n",
      "RangeIndex: 6000 entries, 0 to 5999\n",
      "Data columns (total 10 columns):\n",
      " #   Column        Non-Null Count  Dtype  \n",
      "---  ------        --------------  -----  \n",
      " 0   budget        6000 non-null   float64\n",
      " 1   country       6000 non-null   object \n",
      " 2   genre         6000 non-null   object \n",
      " 3   gross         6000 non-null   float64\n",
      " 4   rating        6000 non-null   object \n",
      " 5   score         6000 non-null   float64\n",
      " 6   votes         6000 non-null   int64  \n",
      " 7   ROI           6000 non-null   int64  \n",
      " 8   star_names    6000 non-null   object \n",
      " 9   studio_names  6000 non-null   object \n",
      "dtypes: float64(3), int64(2), object(5)\n",
      "memory usage: 468.9+ KB\n"
     ]
    }
   ],
   "source": [
    "Box_office_v2.info()"
   ]
  },
  {
   "cell_type": "code",
   "execution_count": 111,
   "metadata": {},
   "outputs": [],
   "source": [
    "Box_office_v2.to_csv('Box_office_v2.csv')"
   ]
  },
  {
   "cell_type": "code",
   "execution_count": 112,
   "metadata": {},
   "outputs": [
    {
     "data": {
      "text/html": [
       "<div>\n",
       "<style scoped>\n",
       "    .dataframe tbody tr th:only-of-type {\n",
       "        vertical-align: middle;\n",
       "    }\n",
       "\n",
       "    .dataframe tbody tr th {\n",
       "        vertical-align: top;\n",
       "    }\n",
       "\n",
       "    .dataframe thead th {\n",
       "        text-align: right;\n",
       "    }\n",
       "</style>\n",
       "<table border=\"1\" class=\"dataframe\">\n",
       "  <thead>\n",
       "    <tr style=\"text-align: right;\">\n",
       "      <th></th>\n",
       "      <th>country</th>\n",
       "      <th>genre</th>\n",
       "      <th>rating</th>\n",
       "      <th>star_names</th>\n",
       "      <th>studio_names</th>\n",
       "    </tr>\n",
       "  </thead>\n",
       "  <tbody>\n",
       "    <tr>\n",
       "      <th>count</th>\n",
       "      <td>6000</td>\n",
       "      <td>6000</td>\n",
       "      <td>6000</td>\n",
       "      <td>6000</td>\n",
       "      <td>6000</td>\n",
       "    </tr>\n",
       "    <tr>\n",
       "      <th>unique</th>\n",
       "      <td>2</td>\n",
       "      <td>4</td>\n",
       "      <td>3</td>\n",
       "      <td>2</td>\n",
       "      <td>2</td>\n",
       "    </tr>\n",
       "    <tr>\n",
       "      <th>top</th>\n",
       "      <td>USA</td>\n",
       "      <td>Comedy</td>\n",
       "      <td>R</td>\n",
       "      <td>Not-Famous</td>\n",
       "      <td>Low-Studio</td>\n",
       "    </tr>\n",
       "    <tr>\n",
       "      <th>freq</th>\n",
       "      <td>4281</td>\n",
       "      <td>1818</td>\n",
       "      <td>3030</td>\n",
       "      <td>5949</td>\n",
       "      <td>5949</td>\n",
       "    </tr>\n",
       "  </tbody>\n",
       "</table>\n",
       "</div>"
      ],
      "text/plain": [
       "       country   genre rating  star_names studio_names\n",
       "count     6000    6000   6000        6000         6000\n",
       "unique       2       4      3           2            2\n",
       "top        USA  Comedy      R  Not-Famous   Low-Studio\n",
       "freq      4281    1818   3030        5949         5949"
      ]
     },
     "execution_count": 112,
     "metadata": {},
     "output_type": "execute_result"
    }
   ],
   "source": [
    "Box_office_v2.describe(include=['object', 'bool', 'category'])"
   ]
  },
  {
   "cell_type": "code",
   "execution_count": 113,
   "metadata": {},
   "outputs": [],
   "source": [
    "# Importing the libraries\n",
    "import numpy as np\n",
    "import matplotlib.pyplot as plt\n",
    "import pandas as pd\n",
    "\n",
    "\n",
    "import seaborn as sns\n",
    "sns.set()  #  Will import Seaborn functionalities\n",
    "# we don't like warnings\n",
    "# you can comment the following 2 lines if you'd like to\n",
    "import warnings\n",
    "warnings.filterwarnings('ignore')"
   ]
  },
  {
   "cell_type": "code",
   "execution_count": 114,
   "metadata": {},
   "outputs": [
    {
     "data": {
      "text/html": [
       "<div>\n",
       "<style scoped>\n",
       "    .dataframe tbody tr th:only-of-type {\n",
       "        vertical-align: middle;\n",
       "    }\n",
       "\n",
       "    .dataframe tbody tr th {\n",
       "        vertical-align: top;\n",
       "    }\n",
       "\n",
       "    .dataframe thead th {\n",
       "        text-align: right;\n",
       "    }\n",
       "</style>\n",
       "<table border=\"1\" class=\"dataframe\">\n",
       "  <thead>\n",
       "    <tr style=\"text-align: right;\">\n",
       "      <th></th>\n",
       "      <th>Unnamed: 0</th>\n",
       "      <th>budget</th>\n",
       "      <th>country</th>\n",
       "      <th>genre</th>\n",
       "      <th>gross</th>\n",
       "      <th>rating</th>\n",
       "      <th>score</th>\n",
       "      <th>votes</th>\n",
       "      <th>ROI</th>\n",
       "      <th>star_names</th>\n",
       "      <th>studio_names</th>\n",
       "    </tr>\n",
       "  </thead>\n",
       "  <tbody>\n",
       "    <tr>\n",
       "      <th>0</th>\n",
       "      <td>0</td>\n",
       "      <td>237000000.0</td>\n",
       "      <td>non-USA</td>\n",
       "      <td>Action</td>\n",
       "      <td>760507625.0</td>\n",
       "      <td>PG</td>\n",
       "      <td>7.8</td>\n",
       "      <td>958400</td>\n",
       "      <td>1</td>\n",
       "      <td>Famous</td>\n",
       "      <td>Top_Studio</td>\n",
       "    </tr>\n",
       "    <tr>\n",
       "      <th>1</th>\n",
       "      <td>1</td>\n",
       "      <td>150000000.0</td>\n",
       "      <td>USA</td>\n",
       "      <td>Action</td>\n",
       "      <td>652270625.0</td>\n",
       "      <td>PG</td>\n",
       "      <td>7.0</td>\n",
       "      <td>470625</td>\n",
       "      <td>1</td>\n",
       "      <td>Famous</td>\n",
       "      <td>Top_Studio</td>\n",
       "    </tr>\n",
       "    <tr>\n",
       "      <th>2</th>\n",
       "      <td>2</td>\n",
       "      <td>200000000.0</td>\n",
       "      <td>USA</td>\n",
       "      <td>Drama</td>\n",
       "      <td>658672302.0</td>\n",
       "      <td>PG</td>\n",
       "      <td>7.8</td>\n",
       "      <td>865551</td>\n",
       "      <td>1</td>\n",
       "      <td>Famous</td>\n",
       "      <td>Top_Studio</td>\n",
       "    </tr>\n",
       "    <tr>\n",
       "      <th>3</th>\n",
       "      <td>3</td>\n",
       "      <td>220000000.0</td>\n",
       "      <td>USA</td>\n",
       "      <td>Action</td>\n",
       "      <td>623357910.0</td>\n",
       "      <td>PG</td>\n",
       "      <td>8.1</td>\n",
       "      <td>1069292</td>\n",
       "      <td>1</td>\n",
       "      <td>Famous</td>\n",
       "      <td>Top_Studio</td>\n",
       "    </tr>\n",
       "    <tr>\n",
       "      <th>4</th>\n",
       "      <td>4</td>\n",
       "      <td>115000000.0</td>\n",
       "      <td>USA</td>\n",
       "      <td>Action</td>\n",
       "      <td>474544677.0</td>\n",
       "      <td>PG</td>\n",
       "      <td>6.5</td>\n",
       "      <td>587113</td>\n",
       "      <td>1</td>\n",
       "      <td>Famous</td>\n",
       "      <td>Top_Studio</td>\n",
       "    </tr>\n",
       "  </tbody>\n",
       "</table>\n",
       "</div>"
      ],
      "text/plain": [
       "   Unnamed: 0       budget  country   genre        gross rating  score  \\\n",
       "0           0  237000000.0  non-USA  Action  760507625.0     PG    7.8   \n",
       "1           1  150000000.0      USA  Action  652270625.0     PG    7.0   \n",
       "2           2  200000000.0      USA   Drama  658672302.0     PG    7.8   \n",
       "3           3  220000000.0      USA  Action  623357910.0     PG    8.1   \n",
       "4           4  115000000.0      USA  Action  474544677.0     PG    6.5   \n",
       "\n",
       "     votes  ROI star_names studio_names  \n",
       "0   958400    1     Famous   Top_Studio  \n",
       "1   470625    1     Famous   Top_Studio  \n",
       "2   865551    1     Famous   Top_Studio  \n",
       "3  1069292    1     Famous   Top_Studio  \n",
       "4   587113    1     Famous   Top_Studio  "
      ]
     },
     "execution_count": 114,
     "metadata": {},
     "output_type": "execute_result"
    }
   ],
   "source": [
    "Box_office_v3= pd.read_csv('Box_office_v2.csv')\n",
    "Box_office_v3.head()"
   ]
  },
  {
   "cell_type": "code",
   "execution_count": 115,
   "metadata": {},
   "outputs": [],
   "source": [
    " Box_office_v3= Box_office_v3.drop('Unnamed: 0', axis = 1)"
   ]
  },
  {
   "cell_type": "code",
   "execution_count": 116,
   "metadata": {},
   "outputs": [
    {
     "data": {
      "text/html": [
       "<div>\n",
       "<style scoped>\n",
       "    .dataframe tbody tr th:only-of-type {\n",
       "        vertical-align: middle;\n",
       "    }\n",
       "\n",
       "    .dataframe tbody tr th {\n",
       "        vertical-align: top;\n",
       "    }\n",
       "\n",
       "    .dataframe thead th {\n",
       "        text-align: right;\n",
       "    }\n",
       "</style>\n",
       "<table border=\"1\" class=\"dataframe\">\n",
       "  <thead>\n",
       "    <tr style=\"text-align: right;\">\n",
       "      <th></th>\n",
       "      <th>budget</th>\n",
       "      <th>country</th>\n",
       "      <th>genre</th>\n",
       "      <th>gross</th>\n",
       "      <th>rating</th>\n",
       "      <th>score</th>\n",
       "      <th>votes</th>\n",
       "      <th>ROI</th>\n",
       "      <th>star_names</th>\n",
       "      <th>studio_names</th>\n",
       "    </tr>\n",
       "  </thead>\n",
       "  <tbody>\n",
       "    <tr>\n",
       "      <th>0</th>\n",
       "      <td>237000000.0</td>\n",
       "      <td>non-USA</td>\n",
       "      <td>Action</td>\n",
       "      <td>760507625.0</td>\n",
       "      <td>PG</td>\n",
       "      <td>7.8</td>\n",
       "      <td>958400</td>\n",
       "      <td>1</td>\n",
       "      <td>Famous</td>\n",
       "      <td>Top_Studio</td>\n",
       "    </tr>\n",
       "    <tr>\n",
       "      <th>1</th>\n",
       "      <td>150000000.0</td>\n",
       "      <td>USA</td>\n",
       "      <td>Action</td>\n",
       "      <td>652270625.0</td>\n",
       "      <td>PG</td>\n",
       "      <td>7.0</td>\n",
       "      <td>470625</td>\n",
       "      <td>1</td>\n",
       "      <td>Famous</td>\n",
       "      <td>Top_Studio</td>\n",
       "    </tr>\n",
       "    <tr>\n",
       "      <th>2</th>\n",
       "      <td>200000000.0</td>\n",
       "      <td>USA</td>\n",
       "      <td>Drama</td>\n",
       "      <td>658672302.0</td>\n",
       "      <td>PG</td>\n",
       "      <td>7.8</td>\n",
       "      <td>865551</td>\n",
       "      <td>1</td>\n",
       "      <td>Famous</td>\n",
       "      <td>Top_Studio</td>\n",
       "    </tr>\n",
       "    <tr>\n",
       "      <th>3</th>\n",
       "      <td>220000000.0</td>\n",
       "      <td>USA</td>\n",
       "      <td>Action</td>\n",
       "      <td>623357910.0</td>\n",
       "      <td>PG</td>\n",
       "      <td>8.1</td>\n",
       "      <td>1069292</td>\n",
       "      <td>1</td>\n",
       "      <td>Famous</td>\n",
       "      <td>Top_Studio</td>\n",
       "    </tr>\n",
       "    <tr>\n",
       "      <th>4</th>\n",
       "      <td>115000000.0</td>\n",
       "      <td>USA</td>\n",
       "      <td>Action</td>\n",
       "      <td>474544677.0</td>\n",
       "      <td>PG</td>\n",
       "      <td>6.5</td>\n",
       "      <td>587113</td>\n",
       "      <td>1</td>\n",
       "      <td>Famous</td>\n",
       "      <td>Top_Studio</td>\n",
       "    </tr>\n",
       "  </tbody>\n",
       "</table>\n",
       "</div>"
      ],
      "text/plain": [
       "        budget  country   genre        gross rating  score    votes  ROI  \\\n",
       "0  237000000.0  non-USA  Action  760507625.0     PG    7.8   958400    1   \n",
       "1  150000000.0      USA  Action  652270625.0     PG    7.0   470625    1   \n",
       "2  200000000.0      USA   Drama  658672302.0     PG    7.8   865551    1   \n",
       "3  220000000.0      USA  Action  623357910.0     PG    8.1  1069292    1   \n",
       "4  115000000.0      USA  Action  474544677.0     PG    6.5   587113    1   \n",
       "\n",
       "  star_names studio_names  \n",
       "0     Famous   Top_Studio  \n",
       "1     Famous   Top_Studio  \n",
       "2     Famous   Top_Studio  \n",
       "3     Famous   Top_Studio  \n",
       "4     Famous   Top_Studio  "
      ]
     },
     "execution_count": 116,
     "metadata": {},
     "output_type": "execute_result"
    }
   ],
   "source": [
    "Box_office_v3.head()"
   ]
  },
  {
   "cell_type": "markdown",
   "metadata": {},
   "source": [
    "# One-Hot Encoding"
   ]
  },
  {
   "cell_type": "code",
   "execution_count": 117,
   "metadata": {},
   "outputs": [
    {
     "data": {
      "text/html": [
       "<div>\n",
       "<style scoped>\n",
       "    .dataframe tbody tr th:only-of-type {\n",
       "        vertical-align: middle;\n",
       "    }\n",
       "\n",
       "    .dataframe tbody tr th {\n",
       "        vertical-align: top;\n",
       "    }\n",
       "\n",
       "    .dataframe thead th {\n",
       "        text-align: right;\n",
       "    }\n",
       "</style>\n",
       "<table border=\"1\" class=\"dataframe\">\n",
       "  <thead>\n",
       "    <tr style=\"text-align: right;\">\n",
       "      <th></th>\n",
       "      <th>budget</th>\n",
       "      <th>country</th>\n",
       "      <th>genre</th>\n",
       "      <th>gross</th>\n",
       "      <th>rating</th>\n",
       "      <th>score</th>\n",
       "      <th>votes</th>\n",
       "      <th>ROI</th>\n",
       "      <th>star_names</th>\n",
       "      <th>studio_names</th>\n",
       "    </tr>\n",
       "  </thead>\n",
       "  <tbody>\n",
       "    <tr>\n",
       "      <th>0</th>\n",
       "      <td>237000000.0</td>\n",
       "      <td>non-USA</td>\n",
       "      <td>Action</td>\n",
       "      <td>760507625.0</td>\n",
       "      <td>PG</td>\n",
       "      <td>7.8</td>\n",
       "      <td>958400</td>\n",
       "      <td>1</td>\n",
       "      <td>Famous</td>\n",
       "      <td>Top_Studio</td>\n",
       "    </tr>\n",
       "    <tr>\n",
       "      <th>1</th>\n",
       "      <td>150000000.0</td>\n",
       "      <td>USA</td>\n",
       "      <td>Action</td>\n",
       "      <td>652270625.0</td>\n",
       "      <td>PG</td>\n",
       "      <td>7.0</td>\n",
       "      <td>470625</td>\n",
       "      <td>1</td>\n",
       "      <td>Famous</td>\n",
       "      <td>Top_Studio</td>\n",
       "    </tr>\n",
       "    <tr>\n",
       "      <th>2</th>\n",
       "      <td>200000000.0</td>\n",
       "      <td>USA</td>\n",
       "      <td>Drama</td>\n",
       "      <td>658672302.0</td>\n",
       "      <td>PG</td>\n",
       "      <td>7.8</td>\n",
       "      <td>865551</td>\n",
       "      <td>1</td>\n",
       "      <td>Famous</td>\n",
       "      <td>Top_Studio</td>\n",
       "    </tr>\n",
       "    <tr>\n",
       "      <th>3</th>\n",
       "      <td>220000000.0</td>\n",
       "      <td>USA</td>\n",
       "      <td>Action</td>\n",
       "      <td>623357910.0</td>\n",
       "      <td>PG</td>\n",
       "      <td>8.1</td>\n",
       "      <td>1069292</td>\n",
       "      <td>1</td>\n",
       "      <td>Famous</td>\n",
       "      <td>Top_Studio</td>\n",
       "    </tr>\n",
       "    <tr>\n",
       "      <th>4</th>\n",
       "      <td>115000000.0</td>\n",
       "      <td>USA</td>\n",
       "      <td>Action</td>\n",
       "      <td>474544677.0</td>\n",
       "      <td>PG</td>\n",
       "      <td>6.5</td>\n",
       "      <td>587113</td>\n",
       "      <td>1</td>\n",
       "      <td>Famous</td>\n",
       "      <td>Top_Studio</td>\n",
       "    </tr>\n",
       "    <tr>\n",
       "      <th>...</th>\n",
       "      <td>...</td>\n",
       "      <td>...</td>\n",
       "      <td>...</td>\n",
       "      <td>...</td>\n",
       "      <td>...</td>\n",
       "      <td>...</td>\n",
       "      <td>...</td>\n",
       "      <td>...</td>\n",
       "      <td>...</td>\n",
       "      <td>...</td>\n",
       "    </tr>\n",
       "    <tr>\n",
       "      <th>5995</th>\n",
       "      <td>176000000.0</td>\n",
       "      <td>USA</td>\n",
       "      <td>Action</td>\n",
       "      <td>47387723.0</td>\n",
       "      <td>PG</td>\n",
       "      <td>5.3</td>\n",
       "      <td>154144</td>\n",
       "      <td>0</td>\n",
       "      <td>Not-Famous</td>\n",
       "      <td>Low-Studio</td>\n",
       "    </tr>\n",
       "    <tr>\n",
       "      <th>5996</th>\n",
       "      <td>195000000.0</td>\n",
       "      <td>USA</td>\n",
       "      <td>Others</td>\n",
       "      <td>65187603.0</td>\n",
       "      <td>PG</td>\n",
       "      <td>6.3</td>\n",
       "      <td>114307</td>\n",
       "      <td>0</td>\n",
       "      <td>Not-Famous</td>\n",
       "      <td>Low-Studio</td>\n",
       "    </tr>\n",
       "    <tr>\n",
       "      <th>5997</th>\n",
       "      <td>175000000.0</td>\n",
       "      <td>USA</td>\n",
       "      <td>Action</td>\n",
       "      <td>38362475.0</td>\n",
       "      <td>PG</td>\n",
       "      <td>6.3</td>\n",
       "      <td>126315</td>\n",
       "      <td>0</td>\n",
       "      <td>Not-Famous</td>\n",
       "      <td>Low-Studio</td>\n",
       "    </tr>\n",
       "    <tr>\n",
       "      <th>5998</th>\n",
       "      <td>209000000.0</td>\n",
       "      <td>USA</td>\n",
       "      <td>Action</td>\n",
       "      <td>65422625.0</td>\n",
       "      <td>PG</td>\n",
       "      <td>5.8</td>\n",
       "      <td>214631</td>\n",
       "      <td>0</td>\n",
       "      <td>Not-Famous</td>\n",
       "      <td>Low-Studio</td>\n",
       "    </tr>\n",
       "    <tr>\n",
       "      <th>5999</th>\n",
       "      <td>250000000.0</td>\n",
       "      <td>USA</td>\n",
       "      <td>Action</td>\n",
       "      <td>73078100.0</td>\n",
       "      <td>PG</td>\n",
       "      <td>6.6</td>\n",
       "      <td>224996</td>\n",
       "      <td>0</td>\n",
       "      <td>Not-Famous</td>\n",
       "      <td>Low-Studio</td>\n",
       "    </tr>\n",
       "  </tbody>\n",
       "</table>\n",
       "<p>6000 rows × 10 columns</p>\n",
       "</div>"
      ],
      "text/plain": [
       "           budget  country   genre        gross rating  score    votes  ROI  \\\n",
       "0     237000000.0  non-USA  Action  760507625.0     PG    7.8   958400    1   \n",
       "1     150000000.0      USA  Action  652270625.0     PG    7.0   470625    1   \n",
       "2     200000000.0      USA   Drama  658672302.0     PG    7.8   865551    1   \n",
       "3     220000000.0      USA  Action  623357910.0     PG    8.1  1069292    1   \n",
       "4     115000000.0      USA  Action  474544677.0     PG    6.5   587113    1   \n",
       "...           ...      ...     ...          ...    ...    ...      ...  ...   \n",
       "5995  176000000.0      USA  Action   47387723.0     PG    5.3   154144    0   \n",
       "5996  195000000.0      USA  Others   65187603.0     PG    6.3   114307    0   \n",
       "5997  175000000.0      USA  Action   38362475.0     PG    6.3   126315    0   \n",
       "5998  209000000.0      USA  Action   65422625.0     PG    5.8   214631    0   \n",
       "5999  250000000.0      USA  Action   73078100.0     PG    6.6   224996    0   \n",
       "\n",
       "      star_names studio_names  \n",
       "0         Famous   Top_Studio  \n",
       "1         Famous   Top_Studio  \n",
       "2         Famous   Top_Studio  \n",
       "3         Famous   Top_Studio  \n",
       "4         Famous   Top_Studio  \n",
       "...          ...          ...  \n",
       "5995  Not-Famous   Low-Studio  \n",
       "5996  Not-Famous   Low-Studio  \n",
       "5997  Not-Famous   Low-Studio  \n",
       "5998  Not-Famous   Low-Studio  \n",
       "5999  Not-Famous   Low-Studio  \n",
       "\n",
       "[6000 rows x 10 columns]"
      ]
     },
     "execution_count": 117,
     "metadata": {},
     "output_type": "execute_result"
    }
   ],
   "source": [
    "Box_office_copy = Box_office_v3.copy()\n",
    "Box_office_copy"
   ]
  },
  {
   "cell_type": "code",
   "execution_count": 118,
   "metadata": {},
   "outputs": [
    {
     "data": {
      "text/plain": [
       "Index(['country', 'genre', 'rating', 'star_names', 'studio_names'], dtype='object')"
      ]
     },
     "execution_count": 118,
     "metadata": {},
     "output_type": "execute_result"
    }
   ],
   "source": [
    "data_column_category = Box_office_copy.select_dtypes(exclude=[np.number]).columns\n",
    "data_column_category"
   ]
  },
  {
   "cell_type": "code",
   "execution_count": 119,
   "metadata": {},
   "outputs": [],
   "source": [
    "#Performing Onehot Encoding\n",
    "from sklearn.preprocessing import OneHotEncoder\n",
    "onehot_encoder = OneHotEncoder(sparse=False)\n",
    "\n",
    "onehot_encoded = onehot_encoder.fit_transform(Box_office_copy[data_column_category])"
   ]
  },
  {
   "cell_type": "code",
   "execution_count": 120,
   "metadata": {},
   "outputs": [
    {
     "data": {
      "text/html": [
       "<div>\n",
       "<style scoped>\n",
       "    .dataframe tbody tr th:only-of-type {\n",
       "        vertical-align: middle;\n",
       "    }\n",
       "\n",
       "    .dataframe tbody tr th {\n",
       "        vertical-align: top;\n",
       "    }\n",
       "\n",
       "    .dataframe thead th {\n",
       "        text-align: right;\n",
       "    }\n",
       "</style>\n",
       "<table border=\"1\" class=\"dataframe\">\n",
       "  <thead>\n",
       "    <tr style=\"text-align: right;\">\n",
       "      <th></th>\n",
       "      <th>country_USA</th>\n",
       "      <th>country_non-USA</th>\n",
       "      <th>genre_Action</th>\n",
       "      <th>genre_Comedy</th>\n",
       "      <th>genre_Drama</th>\n",
       "      <th>genre_Others</th>\n",
       "      <th>rating_NR</th>\n",
       "      <th>rating_PG</th>\n",
       "      <th>rating_R</th>\n",
       "      <th>star_names_Famous</th>\n",
       "      <th>star_names_Not-Famous</th>\n",
       "      <th>studio_names_Low-Studio</th>\n",
       "      <th>studio_names_Top_Studio</th>\n",
       "    </tr>\n",
       "  </thead>\n",
       "  <tbody>\n",
       "    <tr>\n",
       "      <th>0</th>\n",
       "      <td>0.0</td>\n",
       "      <td>1.0</td>\n",
       "      <td>1.0</td>\n",
       "      <td>0.0</td>\n",
       "      <td>0.0</td>\n",
       "      <td>0.0</td>\n",
       "      <td>0.0</td>\n",
       "      <td>1.0</td>\n",
       "      <td>0.0</td>\n",
       "      <td>1.0</td>\n",
       "      <td>0.0</td>\n",
       "      <td>0.0</td>\n",
       "      <td>1.0</td>\n",
       "    </tr>\n",
       "    <tr>\n",
       "      <th>1</th>\n",
       "      <td>1.0</td>\n",
       "      <td>0.0</td>\n",
       "      <td>1.0</td>\n",
       "      <td>0.0</td>\n",
       "      <td>0.0</td>\n",
       "      <td>0.0</td>\n",
       "      <td>0.0</td>\n",
       "      <td>1.0</td>\n",
       "      <td>0.0</td>\n",
       "      <td>1.0</td>\n",
       "      <td>0.0</td>\n",
       "      <td>0.0</td>\n",
       "      <td>1.0</td>\n",
       "    </tr>\n",
       "    <tr>\n",
       "      <th>2</th>\n",
       "      <td>1.0</td>\n",
       "      <td>0.0</td>\n",
       "      <td>0.0</td>\n",
       "      <td>0.0</td>\n",
       "      <td>1.0</td>\n",
       "      <td>0.0</td>\n",
       "      <td>0.0</td>\n",
       "      <td>1.0</td>\n",
       "      <td>0.0</td>\n",
       "      <td>1.0</td>\n",
       "      <td>0.0</td>\n",
       "      <td>0.0</td>\n",
       "      <td>1.0</td>\n",
       "    </tr>\n",
       "    <tr>\n",
       "      <th>3</th>\n",
       "      <td>1.0</td>\n",
       "      <td>0.0</td>\n",
       "      <td>1.0</td>\n",
       "      <td>0.0</td>\n",
       "      <td>0.0</td>\n",
       "      <td>0.0</td>\n",
       "      <td>0.0</td>\n",
       "      <td>1.0</td>\n",
       "      <td>0.0</td>\n",
       "      <td>1.0</td>\n",
       "      <td>0.0</td>\n",
       "      <td>0.0</td>\n",
       "      <td>1.0</td>\n",
       "    </tr>\n",
       "    <tr>\n",
       "      <th>4</th>\n",
       "      <td>1.0</td>\n",
       "      <td>0.0</td>\n",
       "      <td>1.0</td>\n",
       "      <td>0.0</td>\n",
       "      <td>0.0</td>\n",
       "      <td>0.0</td>\n",
       "      <td>0.0</td>\n",
       "      <td>1.0</td>\n",
       "      <td>0.0</td>\n",
       "      <td>1.0</td>\n",
       "      <td>0.0</td>\n",
       "      <td>0.0</td>\n",
       "      <td>1.0</td>\n",
       "    </tr>\n",
       "  </tbody>\n",
       "</table>\n",
       "</div>"
      ],
      "text/plain": [
       "   country_USA  country_non-USA  genre_Action  genre_Comedy  genre_Drama  \\\n",
       "0          0.0              1.0           1.0           0.0          0.0   \n",
       "1          1.0              0.0           1.0           0.0          0.0   \n",
       "2          1.0              0.0           0.0           0.0          1.0   \n",
       "3          1.0              0.0           1.0           0.0          0.0   \n",
       "4          1.0              0.0           1.0           0.0          0.0   \n",
       "\n",
       "   genre_Others  rating_NR  rating_PG  rating_R  star_names_Famous  \\\n",
       "0           0.0        0.0        1.0       0.0                1.0   \n",
       "1           0.0        0.0        1.0       0.0                1.0   \n",
       "2           0.0        0.0        1.0       0.0                1.0   \n",
       "3           0.0        0.0        1.0       0.0                1.0   \n",
       "4           0.0        0.0        1.0       0.0                1.0   \n",
       "\n",
       "   star_names_Not-Famous  studio_names_Low-Studio  studio_names_Top_Studio  \n",
       "0                    0.0                      0.0                      1.0  \n",
       "1                    0.0                      0.0                      1.0  \n",
       "2                    0.0                      0.0                      1.0  \n",
       "3                    0.0                      0.0                      1.0  \n",
       "4                    0.0                      0.0                      1.0  "
      ]
     },
     "execution_count": 120,
     "metadata": {},
     "output_type": "execute_result"
    }
   ],
   "source": [
    "onehot_encoded_frame = pd.DataFrame(onehot_encoded, columns = onehot_encoder.get_feature_names(data_column_category))\n",
    "\n",
    "onehot_encoded_frame.head()"
   ]
  },
  {
   "cell_type": "code",
   "execution_count": 121,
   "metadata": {},
   "outputs": [
    {
     "data": {
      "text/plain": [
       "['budget', 'gross', 'score', 'votes', 'ROI']"
      ]
     },
     "execution_count": 121,
     "metadata": {},
     "output_type": "execute_result"
    }
   ],
   "source": [
    "cols_types = Box_office_copy.dtypes != 'object'\n",
    "inds = cols_types.index\n",
    "numeric_cols = []\n",
    "for i, col in enumerate(cols_types):\n",
    "    if col:\n",
    "        numeric_cols.append(inds[i])\n",
    "numeric_cols"
   ]
  },
  {
   "cell_type": "code",
   "execution_count": 122,
   "metadata": {},
   "outputs": [],
   "source": [
    "numeric_cols =  Box_office_copy.loc[:, numeric_cols]"
   ]
  },
  {
   "cell_type": "code",
   "execution_count": 123,
   "metadata": {},
   "outputs": [
    {
     "data": {
      "text/plain": [
       "Index(['country_USA', 'country_non-USA', 'genre_Action', 'genre_Comedy',\n",
       "       'genre_Drama', 'genre_Others', 'rating_NR', 'rating_PG', 'rating_R',\n",
       "       'star_names_Famous', 'star_names_Not-Famous', 'studio_names_Low-Studio',\n",
       "       'studio_names_Top_Studio'],\n",
       "      dtype='object')"
      ]
     },
     "execution_count": 123,
     "metadata": {},
     "output_type": "execute_result"
    }
   ],
   "source": [
    "onehot_encoded_frame.columns"
   ]
  },
  {
   "cell_type": "markdown",
   "metadata": {},
   "source": [
    "# Concatenate Cat & Transformed One-Hot encoded data"
   ]
  },
  {
   "cell_type": "code",
   "execution_count": 124,
   "metadata": {},
   "outputs": [
    {
     "data": {
      "text/html": [
       "<div>\n",
       "<style scoped>\n",
       "    .dataframe tbody tr th:only-of-type {\n",
       "        vertical-align: middle;\n",
       "    }\n",
       "\n",
       "    .dataframe tbody tr th {\n",
       "        vertical-align: top;\n",
       "    }\n",
       "\n",
       "    .dataframe thead th {\n",
       "        text-align: right;\n",
       "    }\n",
       "</style>\n",
       "<table border=\"1\" class=\"dataframe\">\n",
       "  <thead>\n",
       "    <tr style=\"text-align: right;\">\n",
       "      <th></th>\n",
       "      <th>budget</th>\n",
       "      <th>gross</th>\n",
       "      <th>score</th>\n",
       "      <th>votes</th>\n",
       "      <th>ROI</th>\n",
       "      <th>country_USA</th>\n",
       "      <th>country_non-USA</th>\n",
       "      <th>genre_Action</th>\n",
       "      <th>genre_Comedy</th>\n",
       "      <th>genre_Drama</th>\n",
       "      <th>genre_Others</th>\n",
       "      <th>rating_NR</th>\n",
       "      <th>rating_PG</th>\n",
       "      <th>rating_R</th>\n",
       "      <th>star_names_Famous</th>\n",
       "      <th>star_names_Not-Famous</th>\n",
       "      <th>studio_names_Low-Studio</th>\n",
       "      <th>studio_names_Top_Studio</th>\n",
       "    </tr>\n",
       "  </thead>\n",
       "  <tbody>\n",
       "    <tr>\n",
       "      <th>0</th>\n",
       "      <td>237000000.0</td>\n",
       "      <td>760507625.0</td>\n",
       "      <td>7.8</td>\n",
       "      <td>958400</td>\n",
       "      <td>1</td>\n",
       "      <td>0.0</td>\n",
       "      <td>1.0</td>\n",
       "      <td>1.0</td>\n",
       "      <td>0.0</td>\n",
       "      <td>0.0</td>\n",
       "      <td>0.0</td>\n",
       "      <td>0.0</td>\n",
       "      <td>1.0</td>\n",
       "      <td>0.0</td>\n",
       "      <td>1.0</td>\n",
       "      <td>0.0</td>\n",
       "      <td>0.0</td>\n",
       "      <td>1.0</td>\n",
       "    </tr>\n",
       "    <tr>\n",
       "      <th>1</th>\n",
       "      <td>150000000.0</td>\n",
       "      <td>652270625.0</td>\n",
       "      <td>7.0</td>\n",
       "      <td>470625</td>\n",
       "      <td>1</td>\n",
       "      <td>1.0</td>\n",
       "      <td>0.0</td>\n",
       "      <td>1.0</td>\n",
       "      <td>0.0</td>\n",
       "      <td>0.0</td>\n",
       "      <td>0.0</td>\n",
       "      <td>0.0</td>\n",
       "      <td>1.0</td>\n",
       "      <td>0.0</td>\n",
       "      <td>1.0</td>\n",
       "      <td>0.0</td>\n",
       "      <td>0.0</td>\n",
       "      <td>1.0</td>\n",
       "    </tr>\n",
       "    <tr>\n",
       "      <th>2</th>\n",
       "      <td>200000000.0</td>\n",
       "      <td>658672302.0</td>\n",
       "      <td>7.8</td>\n",
       "      <td>865551</td>\n",
       "      <td>1</td>\n",
       "      <td>1.0</td>\n",
       "      <td>0.0</td>\n",
       "      <td>0.0</td>\n",
       "      <td>0.0</td>\n",
       "      <td>1.0</td>\n",
       "      <td>0.0</td>\n",
       "      <td>0.0</td>\n",
       "      <td>1.0</td>\n",
       "      <td>0.0</td>\n",
       "      <td>1.0</td>\n",
       "      <td>0.0</td>\n",
       "      <td>0.0</td>\n",
       "      <td>1.0</td>\n",
       "    </tr>\n",
       "    <tr>\n",
       "      <th>3</th>\n",
       "      <td>220000000.0</td>\n",
       "      <td>623357910.0</td>\n",
       "      <td>8.1</td>\n",
       "      <td>1069292</td>\n",
       "      <td>1</td>\n",
       "      <td>1.0</td>\n",
       "      <td>0.0</td>\n",
       "      <td>1.0</td>\n",
       "      <td>0.0</td>\n",
       "      <td>0.0</td>\n",
       "      <td>0.0</td>\n",
       "      <td>0.0</td>\n",
       "      <td>1.0</td>\n",
       "      <td>0.0</td>\n",
       "      <td>1.0</td>\n",
       "      <td>0.0</td>\n",
       "      <td>0.0</td>\n",
       "      <td>1.0</td>\n",
       "    </tr>\n",
       "    <tr>\n",
       "      <th>4</th>\n",
       "      <td>115000000.0</td>\n",
       "      <td>474544677.0</td>\n",
       "      <td>6.5</td>\n",
       "      <td>587113</td>\n",
       "      <td>1</td>\n",
       "      <td>1.0</td>\n",
       "      <td>0.0</td>\n",
       "      <td>1.0</td>\n",
       "      <td>0.0</td>\n",
       "      <td>0.0</td>\n",
       "      <td>0.0</td>\n",
       "      <td>0.0</td>\n",
       "      <td>1.0</td>\n",
       "      <td>0.0</td>\n",
       "      <td>1.0</td>\n",
       "      <td>0.0</td>\n",
       "      <td>0.0</td>\n",
       "      <td>1.0</td>\n",
       "    </tr>\n",
       "    <tr>\n",
       "      <th>...</th>\n",
       "      <td>...</td>\n",
       "      <td>...</td>\n",
       "      <td>...</td>\n",
       "      <td>...</td>\n",
       "      <td>...</td>\n",
       "      <td>...</td>\n",
       "      <td>...</td>\n",
       "      <td>...</td>\n",
       "      <td>...</td>\n",
       "      <td>...</td>\n",
       "      <td>...</td>\n",
       "      <td>...</td>\n",
       "      <td>...</td>\n",
       "      <td>...</td>\n",
       "      <td>...</td>\n",
       "      <td>...</td>\n",
       "      <td>...</td>\n",
       "      <td>...</td>\n",
       "    </tr>\n",
       "    <tr>\n",
       "      <th>5995</th>\n",
       "      <td>176000000.0</td>\n",
       "      <td>47387723.0</td>\n",
       "      <td>5.3</td>\n",
       "      <td>154144</td>\n",
       "      <td>0</td>\n",
       "      <td>1.0</td>\n",
       "      <td>0.0</td>\n",
       "      <td>1.0</td>\n",
       "      <td>0.0</td>\n",
       "      <td>0.0</td>\n",
       "      <td>0.0</td>\n",
       "      <td>0.0</td>\n",
       "      <td>1.0</td>\n",
       "      <td>0.0</td>\n",
       "      <td>0.0</td>\n",
       "      <td>1.0</td>\n",
       "      <td>1.0</td>\n",
       "      <td>0.0</td>\n",
       "    </tr>\n",
       "    <tr>\n",
       "      <th>5996</th>\n",
       "      <td>195000000.0</td>\n",
       "      <td>65187603.0</td>\n",
       "      <td>6.3</td>\n",
       "      <td>114307</td>\n",
       "      <td>0</td>\n",
       "      <td>1.0</td>\n",
       "      <td>0.0</td>\n",
       "      <td>0.0</td>\n",
       "      <td>0.0</td>\n",
       "      <td>0.0</td>\n",
       "      <td>1.0</td>\n",
       "      <td>0.0</td>\n",
       "      <td>1.0</td>\n",
       "      <td>0.0</td>\n",
       "      <td>0.0</td>\n",
       "      <td>1.0</td>\n",
       "      <td>1.0</td>\n",
       "      <td>0.0</td>\n",
       "    </tr>\n",
       "    <tr>\n",
       "      <th>5997</th>\n",
       "      <td>175000000.0</td>\n",
       "      <td>38362475.0</td>\n",
       "      <td>6.3</td>\n",
       "      <td>126315</td>\n",
       "      <td>0</td>\n",
       "      <td>1.0</td>\n",
       "      <td>0.0</td>\n",
       "      <td>1.0</td>\n",
       "      <td>0.0</td>\n",
       "      <td>0.0</td>\n",
       "      <td>0.0</td>\n",
       "      <td>0.0</td>\n",
       "      <td>1.0</td>\n",
       "      <td>0.0</td>\n",
       "      <td>0.0</td>\n",
       "      <td>1.0</td>\n",
       "      <td>1.0</td>\n",
       "      <td>0.0</td>\n",
       "    </tr>\n",
       "    <tr>\n",
       "      <th>5998</th>\n",
       "      <td>209000000.0</td>\n",
       "      <td>65422625.0</td>\n",
       "      <td>5.8</td>\n",
       "      <td>214631</td>\n",
       "      <td>0</td>\n",
       "      <td>1.0</td>\n",
       "      <td>0.0</td>\n",
       "      <td>1.0</td>\n",
       "      <td>0.0</td>\n",
       "      <td>0.0</td>\n",
       "      <td>0.0</td>\n",
       "      <td>0.0</td>\n",
       "      <td>1.0</td>\n",
       "      <td>0.0</td>\n",
       "      <td>0.0</td>\n",
       "      <td>1.0</td>\n",
       "      <td>1.0</td>\n",
       "      <td>0.0</td>\n",
       "    </tr>\n",
       "    <tr>\n",
       "      <th>5999</th>\n",
       "      <td>250000000.0</td>\n",
       "      <td>73078100.0</td>\n",
       "      <td>6.6</td>\n",
       "      <td>224996</td>\n",
       "      <td>0</td>\n",
       "      <td>1.0</td>\n",
       "      <td>0.0</td>\n",
       "      <td>1.0</td>\n",
       "      <td>0.0</td>\n",
       "      <td>0.0</td>\n",
       "      <td>0.0</td>\n",
       "      <td>0.0</td>\n",
       "      <td>1.0</td>\n",
       "      <td>0.0</td>\n",
       "      <td>0.0</td>\n",
       "      <td>1.0</td>\n",
       "      <td>1.0</td>\n",
       "      <td>0.0</td>\n",
       "    </tr>\n",
       "  </tbody>\n",
       "</table>\n",
       "<p>6000 rows × 18 columns</p>\n",
       "</div>"
      ],
      "text/plain": [
       "           budget        gross  score    votes  ROI  country_USA  \\\n",
       "0     237000000.0  760507625.0    7.8   958400    1          0.0   \n",
       "1     150000000.0  652270625.0    7.0   470625    1          1.0   \n",
       "2     200000000.0  658672302.0    7.8   865551    1          1.0   \n",
       "3     220000000.0  623357910.0    8.1  1069292    1          1.0   \n",
       "4     115000000.0  474544677.0    6.5   587113    1          1.0   \n",
       "...           ...          ...    ...      ...  ...          ...   \n",
       "5995  176000000.0   47387723.0    5.3   154144    0          1.0   \n",
       "5996  195000000.0   65187603.0    6.3   114307    0          1.0   \n",
       "5997  175000000.0   38362475.0    6.3   126315    0          1.0   \n",
       "5998  209000000.0   65422625.0    5.8   214631    0          1.0   \n",
       "5999  250000000.0   73078100.0    6.6   224996    0          1.0   \n",
       "\n",
       "      country_non-USA  genre_Action  genre_Comedy  genre_Drama  genre_Others  \\\n",
       "0                 1.0           1.0           0.0          0.0           0.0   \n",
       "1                 0.0           1.0           0.0          0.0           0.0   \n",
       "2                 0.0           0.0           0.0          1.0           0.0   \n",
       "3                 0.0           1.0           0.0          0.0           0.0   \n",
       "4                 0.0           1.0           0.0          0.0           0.0   \n",
       "...               ...           ...           ...          ...           ...   \n",
       "5995              0.0           1.0           0.0          0.0           0.0   \n",
       "5996              0.0           0.0           0.0          0.0           1.0   \n",
       "5997              0.0           1.0           0.0          0.0           0.0   \n",
       "5998              0.0           1.0           0.0          0.0           0.0   \n",
       "5999              0.0           1.0           0.0          0.0           0.0   \n",
       "\n",
       "      rating_NR  rating_PG  rating_R  star_names_Famous  \\\n",
       "0           0.0        1.0       0.0                1.0   \n",
       "1           0.0        1.0       0.0                1.0   \n",
       "2           0.0        1.0       0.0                1.0   \n",
       "3           0.0        1.0       0.0                1.0   \n",
       "4           0.0        1.0       0.0                1.0   \n",
       "...         ...        ...       ...                ...   \n",
       "5995        0.0        1.0       0.0                0.0   \n",
       "5996        0.0        1.0       0.0                0.0   \n",
       "5997        0.0        1.0       0.0                0.0   \n",
       "5998        0.0        1.0       0.0                0.0   \n",
       "5999        0.0        1.0       0.0                0.0   \n",
       "\n",
       "      star_names_Not-Famous  studio_names_Low-Studio  studio_names_Top_Studio  \n",
       "0                       0.0                      0.0                      1.0  \n",
       "1                       0.0                      0.0                      1.0  \n",
       "2                       0.0                      0.0                      1.0  \n",
       "3                       0.0                      0.0                      1.0  \n",
       "4                       0.0                      0.0                      1.0  \n",
       "...                     ...                      ...                      ...  \n",
       "5995                    1.0                      1.0                      0.0  \n",
       "5996                    1.0                      1.0                      0.0  \n",
       "5997                    1.0                      1.0                      0.0  \n",
       "5998                    1.0                      1.0                      0.0  \n",
       "5999                    1.0                      1.0                      0.0  \n",
       "\n",
       "[6000 rows x 18 columns]"
      ]
     },
     "execution_count": 124,
     "metadata": {},
     "output_type": "execute_result"
    }
   ],
   "source": [
    "Box_office_copy = pd.concat([numeric_cols,onehot_encoded_frame], axis=1, sort= False)\n",
    "Box_office_copy"
   ]
  },
  {
   "cell_type": "code",
   "execution_count": 125,
   "metadata": {},
   "outputs": [
    {
     "data": {
      "text/plain": [
       "(6000, 18)"
      ]
     },
     "execution_count": 125,
     "metadata": {},
     "output_type": "execute_result"
    }
   ],
   "source": [
    "Box_office_copy.shape"
   ]
  },
  {
   "cell_type": "markdown",
   "metadata": {},
   "source": [
    "# Saving V3"
   ]
  },
  {
   "cell_type": "code",
   "execution_count": 126,
   "metadata": {},
   "outputs": [],
   "source": [
    " Box_office_copy.to_csv(\"Box_office_v3.csv\")"
   ]
  },
  {
   "cell_type": "code",
   "execution_count": 127,
   "metadata": {},
   "outputs": [
    {
     "data": {
      "text/html": [
       "<div>\n",
       "<style scoped>\n",
       "    .dataframe tbody tr th:only-of-type {\n",
       "        vertical-align: middle;\n",
       "    }\n",
       "\n",
       "    .dataframe tbody tr th {\n",
       "        vertical-align: top;\n",
       "    }\n",
       "\n",
       "    .dataframe thead th {\n",
       "        text-align: right;\n",
       "    }\n",
       "</style>\n",
       "<table border=\"1\" class=\"dataframe\">\n",
       "  <thead>\n",
       "    <tr style=\"text-align: right;\">\n",
       "      <th></th>\n",
       "      <th>Unnamed: 0</th>\n",
       "      <th>budget</th>\n",
       "      <th>gross</th>\n",
       "      <th>score</th>\n",
       "      <th>votes</th>\n",
       "      <th>ROI</th>\n",
       "      <th>country_USA</th>\n",
       "      <th>country_non-USA</th>\n",
       "      <th>genre_Action</th>\n",
       "      <th>genre_Comedy</th>\n",
       "      <th>genre_Drama</th>\n",
       "      <th>genre_Others</th>\n",
       "      <th>rating_NR</th>\n",
       "      <th>rating_PG</th>\n",
       "      <th>rating_R</th>\n",
       "      <th>star_names_Famous</th>\n",
       "      <th>star_names_Not-Famous</th>\n",
       "      <th>studio_names_Low-Studio</th>\n",
       "      <th>studio_names_Top_Studio</th>\n",
       "    </tr>\n",
       "  </thead>\n",
       "  <tbody>\n",
       "    <tr>\n",
       "      <th>0</th>\n",
       "      <td>0</td>\n",
       "      <td>237000000.0</td>\n",
       "      <td>760507625.0</td>\n",
       "      <td>7.8</td>\n",
       "      <td>958400</td>\n",
       "      <td>1</td>\n",
       "      <td>0.0</td>\n",
       "      <td>1.0</td>\n",
       "      <td>1.0</td>\n",
       "      <td>0.0</td>\n",
       "      <td>0.0</td>\n",
       "      <td>0.0</td>\n",
       "      <td>0.0</td>\n",
       "      <td>1.0</td>\n",
       "      <td>0.0</td>\n",
       "      <td>1.0</td>\n",
       "      <td>0.0</td>\n",
       "      <td>0.0</td>\n",
       "      <td>1.0</td>\n",
       "    </tr>\n",
       "    <tr>\n",
       "      <th>1</th>\n",
       "      <td>1</td>\n",
       "      <td>150000000.0</td>\n",
       "      <td>652270625.0</td>\n",
       "      <td>7.0</td>\n",
       "      <td>470625</td>\n",
       "      <td>1</td>\n",
       "      <td>1.0</td>\n",
       "      <td>0.0</td>\n",
       "      <td>1.0</td>\n",
       "      <td>0.0</td>\n",
       "      <td>0.0</td>\n",
       "      <td>0.0</td>\n",
       "      <td>0.0</td>\n",
       "      <td>1.0</td>\n",
       "      <td>0.0</td>\n",
       "      <td>1.0</td>\n",
       "      <td>0.0</td>\n",
       "      <td>0.0</td>\n",
       "      <td>1.0</td>\n",
       "    </tr>\n",
       "    <tr>\n",
       "      <th>2</th>\n",
       "      <td>2</td>\n",
       "      <td>200000000.0</td>\n",
       "      <td>658672302.0</td>\n",
       "      <td>7.8</td>\n",
       "      <td>865551</td>\n",
       "      <td>1</td>\n",
       "      <td>1.0</td>\n",
       "      <td>0.0</td>\n",
       "      <td>0.0</td>\n",
       "      <td>0.0</td>\n",
       "      <td>1.0</td>\n",
       "      <td>0.0</td>\n",
       "      <td>0.0</td>\n",
       "      <td>1.0</td>\n",
       "      <td>0.0</td>\n",
       "      <td>1.0</td>\n",
       "      <td>0.0</td>\n",
       "      <td>0.0</td>\n",
       "      <td>1.0</td>\n",
       "    </tr>\n",
       "    <tr>\n",
       "      <th>3</th>\n",
       "      <td>3</td>\n",
       "      <td>220000000.0</td>\n",
       "      <td>623357910.0</td>\n",
       "      <td>8.1</td>\n",
       "      <td>1069292</td>\n",
       "      <td>1</td>\n",
       "      <td>1.0</td>\n",
       "      <td>0.0</td>\n",
       "      <td>1.0</td>\n",
       "      <td>0.0</td>\n",
       "      <td>0.0</td>\n",
       "      <td>0.0</td>\n",
       "      <td>0.0</td>\n",
       "      <td>1.0</td>\n",
       "      <td>0.0</td>\n",
       "      <td>1.0</td>\n",
       "      <td>0.0</td>\n",
       "      <td>0.0</td>\n",
       "      <td>1.0</td>\n",
       "    </tr>\n",
       "    <tr>\n",
       "      <th>4</th>\n",
       "      <td>4</td>\n",
       "      <td>115000000.0</td>\n",
       "      <td>474544677.0</td>\n",
       "      <td>6.5</td>\n",
       "      <td>587113</td>\n",
       "      <td>1</td>\n",
       "      <td>1.0</td>\n",
       "      <td>0.0</td>\n",
       "      <td>1.0</td>\n",
       "      <td>0.0</td>\n",
       "      <td>0.0</td>\n",
       "      <td>0.0</td>\n",
       "      <td>0.0</td>\n",
       "      <td>1.0</td>\n",
       "      <td>0.0</td>\n",
       "      <td>1.0</td>\n",
       "      <td>0.0</td>\n",
       "      <td>0.0</td>\n",
       "      <td>1.0</td>\n",
       "    </tr>\n",
       "  </tbody>\n",
       "</table>\n",
       "</div>"
      ],
      "text/plain": [
       "   Unnamed: 0       budget        gross  score    votes  ROI  country_USA  \\\n",
       "0           0  237000000.0  760507625.0    7.8   958400    1          0.0   \n",
       "1           1  150000000.0  652270625.0    7.0   470625    1          1.0   \n",
       "2           2  200000000.0  658672302.0    7.8   865551    1          1.0   \n",
       "3           3  220000000.0  623357910.0    8.1  1069292    1          1.0   \n",
       "4           4  115000000.0  474544677.0    6.5   587113    1          1.0   \n",
       "\n",
       "   country_non-USA  genre_Action  genre_Comedy  genre_Drama  genre_Others  \\\n",
       "0              1.0           1.0           0.0          0.0           0.0   \n",
       "1              0.0           1.0           0.0          0.0           0.0   \n",
       "2              0.0           0.0           0.0          1.0           0.0   \n",
       "3              0.0           1.0           0.0          0.0           0.0   \n",
       "4              0.0           1.0           0.0          0.0           0.0   \n",
       "\n",
       "   rating_NR  rating_PG  rating_R  star_names_Famous  star_names_Not-Famous  \\\n",
       "0        0.0        1.0       0.0                1.0                    0.0   \n",
       "1        0.0        1.0       0.0                1.0                    0.0   \n",
       "2        0.0        1.0       0.0                1.0                    0.0   \n",
       "3        0.0        1.0       0.0                1.0                    0.0   \n",
       "4        0.0        1.0       0.0                1.0                    0.0   \n",
       "\n",
       "   studio_names_Low-Studio  studio_names_Top_Studio  \n",
       "0                      0.0                      1.0  \n",
       "1                      0.0                      1.0  \n",
       "2                      0.0                      1.0  \n",
       "3                      0.0                      1.0  \n",
       "4                      0.0                      1.0  "
      ]
     },
     "execution_count": 127,
     "metadata": {},
     "output_type": "execute_result"
    }
   ],
   "source": [
    "Box_office_v3 = pd.read_csv('Box_office_v3.csv')\n",
    "Box_office_v3.head()"
   ]
  },
  {
   "cell_type": "code",
   "execution_count": 128,
   "metadata": {},
   "outputs": [],
   "source": [
    "Box_office_v3 =Box_office_v3.drop('Unnamed: 0', axis = 1)"
   ]
  },
  {
   "cell_type": "markdown",
   "metadata": {},
   "source": [
    "# Feature Selection"
   ]
  },
  {
   "cell_type": "code",
   "execution_count": 129,
   "metadata": {},
   "outputs": [
    {
     "data": {
      "text/plain": [
       "(6000, 18)"
      ]
     },
     "execution_count": 129,
     "metadata": {},
     "output_type": "execute_result"
    }
   ],
   "source": [
    "Box_office_v3_copy = Box_office_v3.copy()\n",
    "Box_office_v3_copy.shape"
   ]
  },
  {
   "cell_type": "code",
   "execution_count": 130,
   "metadata": {},
   "outputs": [],
   "source": [
    " X = Box_office_v3_copy.drop('ROI', axis = 1)\n",
    " y = Box_office_v3_copy.ROI\n",
    "\n",
    "# Splitting the dataset into the Training set and Test set\n",
    "from sklearn.model_selection import train_test_split\n",
    "\n",
    "training_features, test_features, \\\n",
    "training_target, test_target, = train_test_split(Box_office_v3_copy.drop('ROI', axis = 1),\n",
    "                                               Box_office_v3_copy.ROI,\n",
    "                                               test_size = .2,\n",
    "                                               random_state=12)"
   ]
  },
  {
   "cell_type": "code",
   "execution_count": 131,
   "metadata": {},
   "outputs": [
    {
     "data": {
      "text/plain": [
       "(6000, 17)"
      ]
     },
     "execution_count": 131,
     "metadata": {},
     "output_type": "execute_result"
    }
   ],
   "source": [
    "X.shape"
   ]
  },
  {
   "cell_type": "code",
   "execution_count": 132,
   "metadata": {},
   "outputs": [
    {
     "data": {
      "text/plain": [
       "(6000,)"
      ]
     },
     "execution_count": 132,
     "metadata": {},
     "output_type": "execute_result"
    }
   ],
   "source": [
    "y.shape"
   ]
  },
  {
   "cell_type": "markdown",
   "metadata": {},
   "source": [
    "# XGBoost"
   ]
  },
  {
   "cell_type": "code",
   "execution_count": 133,
   "metadata": {},
   "outputs": [
    {
     "name": "stdout",
     "output_type": "stream",
     "text": [
      "[16:42:24] WARNING: /Users/travis/build/dmlc/xgboost/src/learner.cc:1061: Starting in XGBoost 1.3.0, the default evaluation metric used with the objective 'binary:logistic' was changed from 'error' to 'logloss'. Explicitly set eval_metric if you'd like to restore the old behavior.\n",
      "Accuracy: 100.00%\n"
     ]
    }
   ],
   "source": [
    "#import XGBoost classifier and accuracy\n",
    "from xgboost import XGBClassifier\n",
    "from sklearn.metrics import accuracy_score\n",
    "\n",
    "#instantiate model and train\n",
    "model = XGBClassifier(learning_rate = 0.05, n_estimators=300, max_depth=5)\n",
    "model.fit(X, y)\n",
    "\n",
    "# make predictions for test set\n",
    "y_pred = model.predict(test_features)\n",
    "predictions = [round(value) for value in y_pred]\n",
    "\n",
    "accuracy = accuracy_score(test_target, predictions)\n",
    "print(\"Accuracy: %.2f%%\" % (accuracy * 100.0))"
   ]
  },
  {
   "cell_type": "code",
   "execution_count": 134,
   "metadata": {},
   "outputs": [
    {
     "name": "stdout",
     "output_type": "stream",
     "text": [
      "[16:42:26] WARNING: /Users/travis/build/dmlc/xgboost/src/learner.cc:1061: Starting in XGBoost 1.3.0, the default evaluation metric used with the objective 'binary:logistic' was changed from 'error' to 'logloss'. Explicitly set eval_metric if you'd like to restore the old behavior.\n"
     ]
    },
    {
     "data": {
      "image/png": "[encoded data removed]",
      "text/plain": [
       "<Figure size 1440x1440 with 1 Axes>"
      ]
     },
     "metadata": {},
     "output_type": "display_data"
    }
   ],
   "source": [
    "# plot feature importance using built-in function\n",
    "from numpy import loadtxt\n",
    "from xgboost import XGBClassifier\n",
    "from xgboost import plot_importance\n",
    "from matplotlib import pyplot\n",
    "# load data\n",
    "dataset = 'Box_office_v3_copy'\n",
    "# split data into X and y\n",
    "# X = dataset[:,0:8]\n",
    "# y = dataset[:,8]\n",
    "# fit model no training data\n",
    "model = XGBClassifier()\n",
    "model.fit(X, y)\n",
    "# plot feature importance\n",
    "plot_importance(model)\n",
    "pyplot.show()"
   ]
  },
  {
   "cell_type": "code",
   "execution_count": 135,
   "metadata": {},
   "outputs": [
    {
     "data": {
      "image/png": "[encoded data removed]",
      "text/plain": [
       "<Figure size 1080x1080 with 1 Axes>"
      ]
     },
     "metadata": {},
     "output_type": "display_data"
    }
   ],
   "source": [
    "import matplotlib.pyplot as plt\n",
    "\n",
    "labels = 'Budget','Score','Votes','USA','Action','Comedy' ,'Drama', 'Others', 'R'\n",
    "sizes = [31,1.29, 1.3, 1.1,0.49, 2.4,1.7, 0.7, 0.99]\n",
    "explode = (0.1,0.1, 0.1, 0.1,0.1,0.1,0.1,0.1,0.1)\n",
    "\n",
    "fig1, ax1 = plt.subplots()\n",
    "ax1.pie(sizes,explode=explode, labels= labels, autopct = '%1.1f%%', startangle = 90)\n",
    "ax1.axis('equal')\n",
    "fig1.set_size_inches(15,15)\n",
    "\n",
    "plt.show()"
   ]
  },
  {
   "cell_type": "code",
   "execution_count": 137,
   "metadata": {},
   "outputs": [],
   "source": [
    "feature_importances = pd.DataFrame({'Importance Coef' :model.feature_importances_ , 'Features' : X.columns})\n",
    "#feature_importances.nlargest(135, 'Importance Coef')\n"
   ]
  },
  {
   "cell_type": "code",
   "execution_count": 138,
   "metadata": {},
   "outputs": [
    {
     "data": {
      "text/html": [
       "<div>\n",
       "<style scoped>\n",
       "    .dataframe tbody tr th:only-of-type {\n",
       "        vertical-align: middle;\n",
       "    }\n",
       "\n",
       "    .dataframe tbody tr th {\n",
       "        vertical-align: top;\n",
       "    }\n",
       "\n",
       "    .dataframe thead th {\n",
       "        text-align: right;\n",
       "    }\n",
       "</style>\n",
       "<table border=\"1\" class=\"dataframe\">\n",
       "  <thead>\n",
       "    <tr style=\"text-align: right;\">\n",
       "      <th></th>\n",
       "      <th>Importance Coef</th>\n",
       "      <th>Features</th>\n",
       "    </tr>\n",
       "  </thead>\n",
       "  <tbody>\n",
       "    <tr>\n",
       "      <th>1</th>\n",
       "      <td>0.640464</td>\n",
       "      <td>gross</td>\n",
       "    </tr>\n",
       "    <tr>\n",
       "      <th>0</th>\n",
       "      <td>0.265606</td>\n",
       "      <td>budget</td>\n",
       "    </tr>\n",
       "    <tr>\n",
       "      <th>4</th>\n",
       "      <td>0.014572</td>\n",
       "      <td>country_USA</td>\n",
       "    </tr>\n",
       "    <tr>\n",
       "      <th>10</th>\n",
       "      <td>0.012932</td>\n",
       "      <td>rating_NR</td>\n",
       "    </tr>\n",
       "    <tr>\n",
       "      <th>7</th>\n",
       "      <td>0.012301</td>\n",
       "      <td>genre_Comedy</td>\n",
       "    </tr>\n",
       "    <tr>\n",
       "      <th>2</th>\n",
       "      <td>0.010730</td>\n",
       "      <td>score</td>\n",
       "    </tr>\n",
       "    <tr>\n",
       "      <th>3</th>\n",
       "      <td>0.010534</td>\n",
       "      <td>votes</td>\n",
       "    </tr>\n",
       "    <tr>\n",
       "      <th>9</th>\n",
       "      <td>0.009666</td>\n",
       "      <td>genre_Others</td>\n",
       "    </tr>\n",
       "    <tr>\n",
       "      <th>8</th>\n",
       "      <td>0.009437</td>\n",
       "      <td>genre_Drama</td>\n",
       "    </tr>\n",
       "    <tr>\n",
       "      <th>6</th>\n",
       "      <td>0.006026</td>\n",
       "      <td>genre_Action</td>\n",
       "    </tr>\n",
       "    <tr>\n",
       "      <th>11</th>\n",
       "      <td>0.005925</td>\n",
       "      <td>rating_PG</td>\n",
       "    </tr>\n",
       "    <tr>\n",
       "      <th>12</th>\n",
       "      <td>0.001808</td>\n",
       "      <td>rating_R</td>\n",
       "    </tr>\n",
       "    <tr>\n",
       "      <th>5</th>\n",
       "      <td>0.000000</td>\n",
       "      <td>country_non-USA</td>\n",
       "    </tr>\n",
       "    <tr>\n",
       "      <th>13</th>\n",
       "      <td>0.000000</td>\n",
       "      <td>star_names_Famous</td>\n",
       "    </tr>\n",
       "    <tr>\n",
       "      <th>14</th>\n",
       "      <td>0.000000</td>\n",
       "      <td>star_names_Not-Famous</td>\n",
       "    </tr>\n",
       "    <tr>\n",
       "      <th>15</th>\n",
       "      <td>0.000000</td>\n",
       "      <td>studio_names_Low-Studio</td>\n",
       "    </tr>\n",
       "    <tr>\n",
       "      <th>16</th>\n",
       "      <td>0.000000</td>\n",
       "      <td>studio_names_Top_Studio</td>\n",
       "    </tr>\n",
       "  </tbody>\n",
       "</table>\n",
       "</div>"
      ],
      "text/plain": [
       "    Importance Coef                 Features\n",
       "1          0.640464                    gross\n",
       "0          0.265606                   budget\n",
       "4          0.014572              country_USA\n",
       "10         0.012932                rating_NR\n",
       "7          0.012301             genre_Comedy\n",
       "2          0.010730                    score\n",
       "3          0.010534                    votes\n",
       "9          0.009666             genre_Others\n",
       "8          0.009437              genre_Drama\n",
       "6          0.006026             genre_Action\n",
       "11         0.005925                rating_PG\n",
       "12         0.001808                 rating_R\n",
       "5          0.000000          country_non-USA\n",
       "13         0.000000        star_names_Famous\n",
       "14         0.000000    star_names_Not-Famous\n",
       "15         0.000000  studio_names_Low-Studio\n",
       "16         0.000000  studio_names_Top_Studio"
      ]
     },
     "execution_count": 138,
     "metadata": {},
     "output_type": "execute_result"
    }
   ],
   "source": [
    "feature_importances.sort_values(by=['Importance Coef'], ascending = False)"
   ]
  },
  {
   "cell_type": "code",
   "execution_count": 139,
   "metadata": {},
   "outputs": [],
   "source": [
    "to_delete= ['rating_R','genre_Others','genre_Action','country_non-USA','rating_NR','rating_PG','star_names_Famous','star_names_Not-Famous','studio_names_Low-Studio','studio_names_Top_Studio']\n",
    "Box_office_v3_copy = Box_office_v3_copy.drop(to_delete, axis=1)"
   ]
  },
  {
   "cell_type": "code",
   "execution_count": 140,
   "metadata": {},
   "outputs": [
    {
     "data": {
      "text/html": [
       "<div>\n",
       "<style scoped>\n",
       "    .dataframe tbody tr th:only-of-type {\n",
       "        vertical-align: middle;\n",
       "    }\n",
       "\n",
       "    .dataframe tbody tr th {\n",
       "        vertical-align: top;\n",
       "    }\n",
       "\n",
       "    .dataframe thead th {\n",
       "        text-align: right;\n",
       "    }\n",
       "</style>\n",
       "<table border=\"1\" class=\"dataframe\">\n",
       "  <thead>\n",
       "    <tr style=\"text-align: right;\">\n",
       "      <th></th>\n",
       "      <th>budget</th>\n",
       "      <th>gross</th>\n",
       "      <th>score</th>\n",
       "      <th>votes</th>\n",
       "      <th>ROI</th>\n",
       "      <th>country_USA</th>\n",
       "      <th>genre_Comedy</th>\n",
       "      <th>genre_Drama</th>\n",
       "    </tr>\n",
       "  </thead>\n",
       "  <tbody>\n",
       "    <tr>\n",
       "      <th>0</th>\n",
       "      <td>237000000.0</td>\n",
       "      <td>760507625.0</td>\n",
       "      <td>7.8</td>\n",
       "      <td>958400</td>\n",
       "      <td>1</td>\n",
       "      <td>0.0</td>\n",
       "      <td>0.0</td>\n",
       "      <td>0.0</td>\n",
       "    </tr>\n",
       "    <tr>\n",
       "      <th>1</th>\n",
       "      <td>150000000.0</td>\n",
       "      <td>652270625.0</td>\n",
       "      <td>7.0</td>\n",
       "      <td>470625</td>\n",
       "      <td>1</td>\n",
       "      <td>1.0</td>\n",
       "      <td>0.0</td>\n",
       "      <td>0.0</td>\n",
       "    </tr>\n",
       "    <tr>\n",
       "      <th>2</th>\n",
       "      <td>200000000.0</td>\n",
       "      <td>658672302.0</td>\n",
       "      <td>7.8</td>\n",
       "      <td>865551</td>\n",
       "      <td>1</td>\n",
       "      <td>1.0</td>\n",
       "      <td>0.0</td>\n",
       "      <td>1.0</td>\n",
       "    </tr>\n",
       "    <tr>\n",
       "      <th>3</th>\n",
       "      <td>220000000.0</td>\n",
       "      <td>623357910.0</td>\n",
       "      <td>8.1</td>\n",
       "      <td>1069292</td>\n",
       "      <td>1</td>\n",
       "      <td>1.0</td>\n",
       "      <td>0.0</td>\n",
       "      <td>0.0</td>\n",
       "    </tr>\n",
       "    <tr>\n",
       "      <th>4</th>\n",
       "      <td>115000000.0</td>\n",
       "      <td>474544677.0</td>\n",
       "      <td>6.5</td>\n",
       "      <td>587113</td>\n",
       "      <td>1</td>\n",
       "      <td>1.0</td>\n",
       "      <td>0.0</td>\n",
       "      <td>0.0</td>\n",
       "    </tr>\n",
       "  </tbody>\n",
       "</table>\n",
       "</div>"
      ],
      "text/plain": [
       "        budget        gross  score    votes  ROI  country_USA  genre_Comedy  \\\n",
       "0  237000000.0  760507625.0    7.8   958400    1          0.0           0.0   \n",
       "1  150000000.0  652270625.0    7.0   470625    1          1.0           0.0   \n",
       "2  200000000.0  658672302.0    7.8   865551    1          1.0           0.0   \n",
       "3  220000000.0  623357910.0    8.1  1069292    1          1.0           0.0   \n",
       "4  115000000.0  474544677.0    6.5   587113    1          1.0           0.0   \n",
       "\n",
       "   genre_Drama  \n",
       "0          0.0  \n",
       "1          0.0  \n",
       "2          1.0  \n",
       "3          0.0  \n",
       "4          0.0  "
      ]
     },
     "execution_count": 140,
     "metadata": {},
     "output_type": "execute_result"
    }
   ],
   "source": [
    "Box_office_v3_copy.head()"
   ]
  },
  {
   "cell_type": "markdown",
   "metadata": {},
   "source": [
    "# Saving XGBoost"
   ]
  },
  {
   "cell_type": "code",
   "execution_count": 141,
   "metadata": {},
   "outputs": [],
   "source": [
    "Box_office_v3_copy.to_csv(\"Box_office_v3_featureSelection.csv\")"
   ]
  },
  {
   "cell_type": "code",
   "execution_count": 142,
   "metadata": {},
   "outputs": [
    {
     "data": {
      "text/html": [
       "<div>\n",
       "<style scoped>\n",
       "    .dataframe tbody tr th:only-of-type {\n",
       "        vertical-align: middle;\n",
       "    }\n",
       "\n",
       "    .dataframe tbody tr th {\n",
       "        vertical-align: top;\n",
       "    }\n",
       "\n",
       "    .dataframe thead th {\n",
       "        text-align: right;\n",
       "    }\n",
       "</style>\n",
       "<table border=\"1\" class=\"dataframe\">\n",
       "  <thead>\n",
       "    <tr style=\"text-align: right;\">\n",
       "      <th></th>\n",
       "      <th>Unnamed: 0</th>\n",
       "      <th>budget</th>\n",
       "      <th>gross</th>\n",
       "      <th>score</th>\n",
       "      <th>votes</th>\n",
       "      <th>ROI</th>\n",
       "      <th>country_USA</th>\n",
       "      <th>genre_Comedy</th>\n",
       "      <th>genre_Drama</th>\n",
       "    </tr>\n",
       "  </thead>\n",
       "  <tbody>\n",
       "    <tr>\n",
       "      <th>0</th>\n",
       "      <td>0</td>\n",
       "      <td>237000000.0</td>\n",
       "      <td>760507625.0</td>\n",
       "      <td>7.8</td>\n",
       "      <td>958400</td>\n",
       "      <td>1</td>\n",
       "      <td>0.0</td>\n",
       "      <td>0.0</td>\n",
       "      <td>0.0</td>\n",
       "    </tr>\n",
       "    <tr>\n",
       "      <th>1</th>\n",
       "      <td>1</td>\n",
       "      <td>150000000.0</td>\n",
       "      <td>652270625.0</td>\n",
       "      <td>7.0</td>\n",
       "      <td>470625</td>\n",
       "      <td>1</td>\n",
       "      <td>1.0</td>\n",
       "      <td>0.0</td>\n",
       "      <td>0.0</td>\n",
       "    </tr>\n",
       "    <tr>\n",
       "      <th>2</th>\n",
       "      <td>2</td>\n",
       "      <td>200000000.0</td>\n",
       "      <td>658672302.0</td>\n",
       "      <td>7.8</td>\n",
       "      <td>865551</td>\n",
       "      <td>1</td>\n",
       "      <td>1.0</td>\n",
       "      <td>0.0</td>\n",
       "      <td>1.0</td>\n",
       "    </tr>\n",
       "    <tr>\n",
       "      <th>3</th>\n",
       "      <td>3</td>\n",
       "      <td>220000000.0</td>\n",
       "      <td>623357910.0</td>\n",
       "      <td>8.1</td>\n",
       "      <td>1069292</td>\n",
       "      <td>1</td>\n",
       "      <td>1.0</td>\n",
       "      <td>0.0</td>\n",
       "      <td>0.0</td>\n",
       "    </tr>\n",
       "    <tr>\n",
       "      <th>4</th>\n",
       "      <td>4</td>\n",
       "      <td>115000000.0</td>\n",
       "      <td>474544677.0</td>\n",
       "      <td>6.5</td>\n",
       "      <td>587113</td>\n",
       "      <td>1</td>\n",
       "      <td>1.0</td>\n",
       "      <td>0.0</td>\n",
       "      <td>0.0</td>\n",
       "    </tr>\n",
       "  </tbody>\n",
       "</table>\n",
       "</div>"
      ],
      "text/plain": [
       "   Unnamed: 0       budget        gross  score    votes  ROI  country_USA  \\\n",
       "0           0  237000000.0  760507625.0    7.8   958400    1          0.0   \n",
       "1           1  150000000.0  652270625.0    7.0   470625    1          1.0   \n",
       "2           2  200000000.0  658672302.0    7.8   865551    1          1.0   \n",
       "3           3  220000000.0  623357910.0    8.1  1069292    1          1.0   \n",
       "4           4  115000000.0  474544677.0    6.5   587113    1          1.0   \n",
       "\n",
       "   genre_Comedy  genre_Drama  \n",
       "0           0.0          0.0  \n",
       "1           0.0          0.0  \n",
       "2           0.0          1.0  \n",
       "3           0.0          0.0  \n",
       "4           0.0          0.0  "
      ]
     },
     "execution_count": 142,
     "metadata": {},
     "output_type": "execute_result"
    }
   ],
   "source": [
    "Box_office_v3 = pd.read_csv('Box_office_v3_featureSelection.csv')\n",
    "Box_office_v3.head()"
   ]
  },
  {
   "cell_type": "code",
   "execution_count": 143,
   "metadata": {},
   "outputs": [],
   "source": [
    "Box_office_v3 =Box_office_v3.drop('Unnamed: 0', axis = 1)"
   ]
  },
  {
   "cell_type": "markdown",
   "metadata": {},
   "source": [
    "# Fixing Skewness"
   ]
  },
  {
   "cell_type": "code",
   "execution_count": 144,
   "metadata": {},
   "outputs": [
    {
     "data": {
      "text/html": [
       "<div>\n",
       "<style scoped>\n",
       "    .dataframe tbody tr th:only-of-type {\n",
       "        vertical-align: middle;\n",
       "    }\n",
       "\n",
       "    .dataframe tbody tr th {\n",
       "        vertical-align: top;\n",
       "    }\n",
       "\n",
       "    .dataframe thead th {\n",
       "        text-align: right;\n",
       "    }\n",
       "</style>\n",
       "<table border=\"1\" class=\"dataframe\">\n",
       "  <thead>\n",
       "    <tr style=\"text-align: right;\">\n",
       "      <th></th>\n",
       "      <th>Skew</th>\n",
       "    </tr>\n",
       "  </thead>\n",
       "  <tbody>\n",
       "    <tr>\n",
       "      <th>votes</th>\n",
       "      <td>4.831332</td>\n",
       "    </tr>\n",
       "    <tr>\n",
       "      <th>gross</th>\n",
       "      <td>3.901426</td>\n",
       "    </tr>\n",
       "    <tr>\n",
       "      <th>budget</th>\n",
       "      <td>2.851542</td>\n",
       "    </tr>\n",
       "    <tr>\n",
       "      <th>genre_Drama</th>\n",
       "      <td>1.399881</td>\n",
       "    </tr>\n",
       "    <tr>\n",
       "      <th>genre_Comedy</th>\n",
       "      <td>0.857565</td>\n",
       "    </tr>\n",
       "    <tr>\n",
       "      <th>ROI</th>\n",
       "      <td>0.428260</td>\n",
       "    </tr>\n",
       "    <tr>\n",
       "      <th>score</th>\n",
       "      <td>-0.620615</td>\n",
       "    </tr>\n",
       "    <tr>\n",
       "      <th>country_USA</th>\n",
       "      <td>-0.944664</td>\n",
       "    </tr>\n",
       "  </tbody>\n",
       "</table>\n",
       "</div>"
      ],
      "text/plain": [
       "                  Skew\n",
       "votes         4.831332\n",
       "gross         3.901426\n",
       "budget        2.851542\n",
       "genre_Drama   1.399881\n",
       "genre_Comedy  0.857565\n",
       "ROI           0.428260\n",
       "score        -0.620615\n",
       "country_USA  -0.944664"
      ]
     },
     "execution_count": 144,
     "metadata": {},
     "output_type": "execute_result"
    }
   ],
   "source": [
    "num_feast = Box_office_v3.dtypes[Box_office_v3.dtypes!= 'object'].index\n",
    "skew_feats = Box_office_v3[num_feast].skew().sort_values(ascending = False)\n",
    "skweness = pd.DataFrame({'Skew': skew_feats})\n",
    "skweness"
   ]
  },
  {
   "cell_type": "markdown",
   "metadata": {},
   "source": [
    "# Fixing Budget"
   ]
  },
  {
   "cell_type": "code",
   "execution_count": 145,
   "metadata": {},
   "outputs": [
    {
     "data": {
      "text/plain": [
       "<AxesSubplot:xlabel='budget'>"
      ]
     },
     "execution_count": 145,
     "metadata": {},
     "output_type": "execute_result"
    },
    {
     "data": {
      "image/png": "[encoded data removed]",
      "text/plain": [
       "<Figure size 576x432 with 1 Axes>"
      ]
     },
     "metadata": {},
     "output_type": "display_data"
    }
   ],
   "source": [
    "#### Remove outliers\n",
    "plt.figure(figsize=(8,6))\n",
    "import seaborn as sns\n",
    "sns.boxplot(x=Box_office_v3['budget'])"
   ]
  },
  {
   "cell_type": "code",
   "execution_count": 146,
   "metadata": {},
   "outputs": [
    {
     "data": {
      "text/plain": [
       "0.0"
      ]
     },
     "execution_count": 146,
     "metadata": {},
     "output_type": "execute_result"
    }
   ],
   "source": [
    "resp = Box_office_v3['budget']\n",
    "from scipy.stats import shapiro\n",
    "shapiro(resp)[1]"
   ]
  },
  {
   "cell_type": "markdown",
   "metadata": {},
   "source": [
    "# Square Root"
   ]
  },
  {
   "cell_type": "code",
   "execution_count": 147,
   "metadata": {},
   "outputs": [
    {
     "data": {
      "text/plain": [
       "<AxesSubplot:xlabel='budget', ylabel='Density'>"
      ]
     },
     "execution_count": 147,
     "metadata": {},
     "output_type": "execute_result"
    },
    {
     "data": {
      "image/png": "[encoded data removed]",
      "text/plain": [
       "<Figure size 576x432 with 1 Axes>"
      ]
     },
     "metadata": {},
     "output_type": "display_data"
    }
   ],
   "source": [
    "plt.figure(figsize=(8,6))\n",
    "sqrt_resp = resp ** (.5)\n",
    "sns.distplot(sqrt_resp)"
   ]
  },
  {
   "cell_type": "markdown",
   "metadata": {},
   "source": [
    "# Fixing Gross"
   ]
  },
  {
   "cell_type": "code",
   "execution_count": 148,
   "metadata": {},
   "outputs": [
    {
     "data": {
      "text/plain": [
       "<AxesSubplot:xlabel='gross'>"
      ]
     },
     "execution_count": 148,
     "metadata": {},
     "output_type": "execute_result"
    },
    {
     "data": {
      "image/png": "[encoded data removed]",
      "text/plain": [
       "<Figure size 576x432 with 1 Axes>"
      ]
     },
     "metadata": {},
     "output_type": "display_data"
    }
   ],
   "source": [
    "plt.figure(figsize=(8,6))\n",
    "import seaborn as sns\n",
    "sns.boxplot(x=Box_office_v3['gross'])"
   ]
  },
  {
   "cell_type": "code",
   "execution_count": 149,
   "metadata": {},
   "outputs": [
    {
     "data": {
      "text/plain": [
       "0.0"
      ]
     },
     "execution_count": 149,
     "metadata": {},
     "output_type": "execute_result"
    }
   ],
   "source": [
    "resp = Box_office_v3['gross']\n",
    "from scipy.stats import shapiro\n",
    "shapiro(resp)[1]"
   ]
  },
  {
   "cell_type": "code",
   "execution_count": 150,
   "metadata": {},
   "outputs": [
    {
     "data": {
      "text/plain": [
       "<AxesSubplot:xlabel='gross', ylabel='Density'>"
      ]
     },
     "execution_count": 150,
     "metadata": {},
     "output_type": "execute_result"
    },
    {
     "data": {
      "image/png": "[encoded data removed]",
      "text/plain": [
       "<Figure size 576x432 with 1 Axes>"
      ]
     },
     "metadata": {},
     "output_type": "display_data"
    }
   ],
   "source": [
    "plt.figure(figsize=(8,6))\n",
    "log_resp = np.log(resp)\n",
    "sns.distplot(log_resp)"
   ]
  },
  {
   "cell_type": "markdown",
   "metadata": {},
   "source": [
    "# Fixing Score"
   ]
  },
  {
   "cell_type": "code",
   "execution_count": 151,
   "metadata": {},
   "outputs": [
    {
     "data": {
      "text/plain": [
       "<AxesSubplot:xlabel='score'>"
      ]
     },
     "execution_count": 151,
     "metadata": {},
     "output_type": "execute_result"
    },
    {
     "data": {
      "image/png": "[encoded data removed]",
      "text/plain": [
       "<Figure size 576x432 with 1 Axes>"
      ]
     },
     "metadata": {},
     "output_type": "display_data"
    }
   ],
   "source": [
    "plt.figure(figsize=(8,6))\n",
    "import seaborn as sns\n",
    "sns.boxplot(x=Box_office_v3['score'])"
   ]
  },
  {
   "cell_type": "code",
   "execution_count": null,
   "metadata": {},
   "outputs": [],
   "source": [
    "resp = Box_office_v3['score']\n",
    "from scipy.stats import shapiro\n",
    "shapiro(resp)[1]\n"
   ]
  },
  {
   "cell_type": "code",
   "execution_count": 153,
   "metadata": {},
   "outputs": [
    {
     "data": {
      "text/plain": [
       "<AxesSubplot:xlabel='score', ylabel='Density'>"
      ]
     },
     "execution_count": 153,
     "metadata": {},
     "output_type": "execute_result"
    },
    {
     "data": {
      "image/png": "[encoded data removed]",
      "text/plain": [
       "<Figure size 576x432 with 1 Axes>"
      ]
     },
     "metadata": {},
     "output_type": "display_data"
    }
   ],
   "source": [
    "plt.figure(figsize=(8,6))\n",
    "log_resp = np.log(resp)\n",
    "sns.distplot(log_resp)"
   ]
  },
  {
   "cell_type": "markdown",
   "metadata": {},
   "source": [
    "# Fixing Votes"
   ]
  },
  {
   "cell_type": "code",
   "execution_count": 154,
   "metadata": {},
   "outputs": [
    {
     "data": {
      "text/plain": [
       "<AxesSubplot:xlabel='votes'>"
      ]
     },
     "execution_count": 154,
     "metadata": {},
     "output_type": "execute_result"
    },
    {
     "data": {
      "image/png": "[encoded data removed]",
      "text/plain": [
       "<Figure size 576x432 with 1 Axes>"
      ]
     },
     "metadata": {},
     "output_type": "display_data"
    }
   ],
   "source": [
    "plt.figure(figsize=(8,6))\n",
    "import seaborn as sns\n",
    "sns.boxplot(x=Box_office_v3['votes'])"
   ]
  },
  {
   "cell_type": "code",
   "execution_count": 155,
   "metadata": {},
   "outputs": [
    {
     "data": {
      "text/plain": [
       "0.0"
      ]
     },
     "execution_count": 155,
     "metadata": {},
     "output_type": "execute_result"
    }
   ],
   "source": [
    "resp = Box_office_v3['votes']\n",
    "from scipy.stats import shapiro\n",
    "shapiro(resp)[1]"
   ]
  },
  {
   "cell_type": "code",
   "execution_count": 156,
   "metadata": {},
   "outputs": [
    {
     "data": {
      "text/plain": [
       "<AxesSubplot:xlabel='votes', ylabel='Density'>"
      ]
     },
     "execution_count": 156,
     "metadata": {},
     "output_type": "execute_result"
    },
    {
     "data": {
      "image/png": "[encoded data removed]",
      "text/plain": [
       "<Figure size 576x432 with 1 Axes>"
      ]
     },
     "metadata": {},
     "output_type": "display_data"
    }
   ],
   "source": [
    "plt.figure(figsize=(8,6))\n",
    "log_resp = np.log(resp)\n",
    "sns.distplot(log_resp)"
   ]
  },
  {
   "cell_type": "markdown",
   "metadata": {},
   "source": [
    "# Saving Transformed values"
   ]
  },
  {
   "cell_type": "code",
   "execution_count": 157,
   "metadata": {},
   "outputs": [],
   "source": [
    "Box_office_v3['square_root_budget'] = np.log(Box_office_v3['budget'])"
   ]
  },
  {
   "cell_type": "code",
   "execution_count": 158,
   "metadata": {},
   "outputs": [],
   "source": [
    "Box_office_v3['log_trans_gross'] = np.log(Box_office_v3['gross'])"
   ]
  },
  {
   "cell_type": "code",
   "execution_count": 159,
   "metadata": {},
   "outputs": [],
   "source": [
    "Box_office_v3['log_trans_score'] = np.log(Box_office_v3['score'])"
   ]
  },
  {
   "cell_type": "code",
   "execution_count": 160,
   "metadata": {},
   "outputs": [],
   "source": [
    "Box_office_v3['log_trans_votes'] = np.log(Box_office_v3['votes'])"
   ]
  },
  {
   "cell_type": "markdown",
   "metadata": {},
   "source": [
    "# View & delete old, not transformed columns"
   ]
  },
  {
   "cell_type": "code",
   "execution_count": 161,
   "metadata": {},
   "outputs": [
    {
     "data": {
      "text/plain": [
       "Index(['budget', 'gross', 'score', 'votes', 'ROI', 'country_USA',\n",
       "       'genre_Comedy', 'genre_Drama', 'square_root_budget', 'log_trans_gross',\n",
       "       'log_trans_score', 'log_trans_votes'],\n",
       "      dtype='object')"
      ]
     },
     "execution_count": 161,
     "metadata": {},
     "output_type": "execute_result"
    }
   ],
   "source": [
    "Box_office_v3.columns"
   ]
  },
  {
   "cell_type": "code",
   "execution_count": 162,
   "metadata": {},
   "outputs": [],
   "source": [
    "Box_office_v3_copy = Box_office_v3[['country_USA',\n",
    "       'genre_Comedy', 'genre_Drama', 'square_root_budget', 'log_trans_gross',\n",
    "       'log_trans_score', 'log_trans_votes','ROI']]"
   ]
  },
  {
   "cell_type": "code",
   "execution_count": 163,
   "metadata": {},
   "outputs": [
    {
     "name": "stdout",
     "output_type": "stream",
     "text": [
      "<class 'pandas.core.frame.DataFrame'>\n",
      "RangeIndex: 6000 entries, 0 to 5999\n",
      "Data columns (total 8 columns):\n",
      " #   Column              Non-Null Count  Dtype  \n",
      "---  ------              --------------  -----  \n",
      " 0   country_USA         6000 non-null   float64\n",
      " 1   genre_Comedy        6000 non-null   float64\n",
      " 2   genre_Drama         6000 non-null   float64\n",
      " 3   square_root_budget  6000 non-null   float64\n",
      " 4   log_trans_gross     6000 non-null   float64\n",
      " 5   log_trans_score     6000 non-null   float64\n",
      " 6   log_trans_votes     6000 non-null   float64\n",
      " 7   ROI                 6000 non-null   int64  \n",
      "dtypes: float64(7), int64(1)\n",
      "memory usage: 375.1 KB\n"
     ]
    }
   ],
   "source": [
    "Box_office_v3_copy.info()"
   ]
  },
  {
   "cell_type": "markdown",
   "metadata": {},
   "source": [
    "# Saving Transformed(skewness fixed) & Feature Selection file"
   ]
  },
  {
   "cell_type": "code",
   "execution_count": 164,
   "metadata": {},
   "outputs": [],
   "source": [
    "Box_office_v3_copy.to_csv(\"Box_office_v3_ready2Scale.csv\")"
   ]
  },
  {
   "cell_type": "code",
   "execution_count": 165,
   "metadata": {},
   "outputs": [
    {
     "data": {
      "text/html": [
       "<div>\n",
       "<style scoped>\n",
       "    .dataframe tbody tr th:only-of-type {\n",
       "        vertical-align: middle;\n",
       "    }\n",
       "\n",
       "    .dataframe tbody tr th {\n",
       "        vertical-align: top;\n",
       "    }\n",
       "\n",
       "    .dataframe thead th {\n",
       "        text-align: right;\n",
       "    }\n",
       "</style>\n",
       "<table border=\"1\" class=\"dataframe\">\n",
       "  <thead>\n",
       "    <tr style=\"text-align: right;\">\n",
       "      <th></th>\n",
       "      <th>Unnamed: 0</th>\n",
       "      <th>country_USA</th>\n",
       "      <th>genre_Comedy</th>\n",
       "      <th>genre_Drama</th>\n",
       "      <th>square_root_budget</th>\n",
       "      <th>log_trans_gross</th>\n",
       "      <th>log_trans_score</th>\n",
       "      <th>log_trans_votes</th>\n",
       "      <th>ROI</th>\n",
       "    </tr>\n",
       "  </thead>\n",
       "  <tbody>\n",
       "    <tr>\n",
       "      <th>0</th>\n",
       "      <td>0</td>\n",
       "      <td>0.0</td>\n",
       "      <td>0.0</td>\n",
       "      <td>0.0</td>\n",
       "      <td>19.283571</td>\n",
       "      <td>20.449497</td>\n",
       "      <td>2.054124</td>\n",
       "      <td>13.773021</td>\n",
       "      <td>1</td>\n",
       "    </tr>\n",
       "    <tr>\n",
       "      <th>1</th>\n",
       "      <td>1</td>\n",
       "      <td>1.0</td>\n",
       "      <td>0.0</td>\n",
       "      <td>0.0</td>\n",
       "      <td>18.826146</td>\n",
       "      <td>20.295970</td>\n",
       "      <td>1.945910</td>\n",
       "      <td>13.061817</td>\n",
       "      <td>1</td>\n",
       "    </tr>\n",
       "    <tr>\n",
       "      <th>2</th>\n",
       "      <td>2</td>\n",
       "      <td>1.0</td>\n",
       "      <td>0.0</td>\n",
       "      <td>1.0</td>\n",
       "      <td>19.113828</td>\n",
       "      <td>20.305737</td>\n",
       "      <td>2.054124</td>\n",
       "      <td>13.671122</td>\n",
       "      <td>1</td>\n",
       "    </tr>\n",
       "    <tr>\n",
       "      <th>3</th>\n",
       "      <td>3</td>\n",
       "      <td>1.0</td>\n",
       "      <td>0.0</td>\n",
       "      <td>0.0</td>\n",
       "      <td>19.209138</td>\n",
       "      <td>20.250631</td>\n",
       "      <td>2.091864</td>\n",
       "      <td>13.882507</td>\n",
       "      <td>1</td>\n",
       "    </tr>\n",
       "    <tr>\n",
       "      <th>4</th>\n",
       "      <td>4</td>\n",
       "      <td>1.0</td>\n",
       "      <td>0.0</td>\n",
       "      <td>0.0</td>\n",
       "      <td>18.560443</td>\n",
       "      <td>19.977866</td>\n",
       "      <td>1.871802</td>\n",
       "      <td>13.282973</td>\n",
       "      <td>1</td>\n",
       "    </tr>\n",
       "  </tbody>\n",
       "</table>\n",
       "</div>"
      ],
      "text/plain": [
       "   Unnamed: 0  country_USA  genre_Comedy  genre_Drama  square_root_budget  \\\n",
       "0           0          0.0           0.0          0.0           19.283571   \n",
       "1           1          1.0           0.0          0.0           18.826146   \n",
       "2           2          1.0           0.0          1.0           19.113828   \n",
       "3           3          1.0           0.0          0.0           19.209138   \n",
       "4           4          1.0           0.0          0.0           18.560443   \n",
       "\n",
       "   log_trans_gross  log_trans_score  log_trans_votes  ROI  \n",
       "0        20.449497         2.054124        13.773021    1  \n",
       "1        20.295970         1.945910        13.061817    1  \n",
       "2        20.305737         2.054124        13.671122    1  \n",
       "3        20.250631         2.091864        13.882507    1  \n",
       "4        19.977866         1.871802        13.282973    1  "
      ]
     },
     "execution_count": 165,
     "metadata": {},
     "output_type": "execute_result"
    }
   ],
   "source": [
    "Box_office_v3 = pd.read_csv('Box_office_v3_ready2Scale.csv')\n",
    "Box_office_v3.head()"
   ]
  },
  {
   "cell_type": "code",
   "execution_count": 166,
   "metadata": {},
   "outputs": [],
   "source": [
    "Box_office_v3 =Box_office_v3.drop('Unnamed: 0', axis = 1)"
   ]
  },
  {
   "cell_type": "markdown",
   "metadata": {},
   "source": [
    "# Modeling"
   ]
  },
  {
   "cell_type": "code",
   "execution_count": 167,
   "metadata": {},
   "outputs": [],
   "source": [
    "# Importing the libraries\n",
    "import numpy as np\n",
    "import matplotlib.pyplot as plt\n",
    "import pandas as pd\n",
    "\n",
    "import seaborn as sns\n",
    "sns.set()  #  Will import Seaborn functionalities\n",
    "# we don't like warnings\n",
    "# you can comment the following 2 lines if you'd like to\n",
    "import warnings\n",
    "warnings.filterwarnings('ignore')\n",
    "from sklearn.dummy import DummyClassifier\n",
    "from sklearn.tree import DecisionTreeClassifier\n",
    "from sklearn.naive_bayes import GaussianNB\n",
    "from sklearn.linear_model import LogisticRegression \n",
    "from sklearn.svm import SVC\n",
    "from sklearn.neighbors import KNeighborsClassifier\n",
    "from sklearn.ensemble import RandomForestClassifier\n",
    "from sklearn.ensemble import BaggingClassifier\n",
    "from sklearn.ensemble import AdaBoostClassifier \n",
    "from sklearn.ensemble import GradientBoostingClassifier\n",
    "from sklearn.ensemble import ExtraTreesClassifier\n",
    "from sklearn.linear_model import RidgeClassifier\n",
    "from catboost import CatBoostClassifier\n",
    "from sklearn.discriminant_analysis import LinearDiscriminantAnalysis\n",
    "from sklearn import tree\n",
    "\n",
    "\n",
    "from sklearn.preprocessing import StandardScaler\n",
    "from sklearn.inspection import plot_partial_dependence\n",
    "from sklearn.metrics import accuracy_score, classification_report, confusion_matrix\n",
    "from sklearn.metrics import roc_curve, auc\n",
    "from sklearn import model_selection"
   ]
  },
  {
   "cell_type": "code",
   "execution_count": 172,
   "metadata": {},
   "outputs": [],
   "source": [
    "Box_officeV3 = pd.read_csv(\"Box_office_v3_ready2Scale.csv\")\n",
    "Box_officeV3.head()\n",
    "Box_officeV3 = Box_officeV3.drop('Unnamed: 0', axis = 1)"
   ]
  },
  {
   "cell_type": "code",
   "execution_count": 173,
   "metadata": {},
   "outputs": [],
   "source": [
    "from sklearn.model_selection import train_test_split\n",
    "X = Box_officeV3.drop('ROI', axis = 1)\n",
    "y = Box_officeV3.ROI\n",
    "\n",
    "training_features, test_features, \\\n",
    "training_target, test_target, = train_test_split(X,y, test_size = .2, random_state= 45)"
   ]
  },
  {
   "cell_type": "markdown",
   "metadata": {},
   "source": [
    "# Scaling"
   ]
  },
  {
   "cell_type": "code",
   "execution_count": 174,
   "metadata": {},
   "outputs": [
    {
     "data": {
      "text/plain": [
       "array([[-1.        ,  0.        ,  0.        , ...,  0.07656404,\n",
       "        -2.92166479,  0.12796572],\n",
       "       [ 0.        ,  0.        ,  0.        , ..., -0.04638599,\n",
       "        -0.64941672,  0.28323361],\n",
       "       [ 0.        ,  1.        ,  0.        , ...,  0.03574503,\n",
       "        -0.31405454, -0.03063736],\n",
       "       ...,\n",
       "       [-1.        ,  1.        ,  0.        , ..., -1.51136809,\n",
       "         0.43658018, -0.10709121],\n",
       "       [ 0.        ,  1.        ,  0.        , ..., -0.61848658,\n",
       "        -0.64941672, -0.64315895],\n",
       "       [-1.        ,  0.        ,  0.        , ..., -0.19080692,\n",
       "         0.36644146,  0.15424561]])"
      ]
     },
     "execution_count": 174,
     "metadata": {},
     "output_type": "execute_result"
    }
   ],
   "source": [
    "from sklearn.preprocessing import RobustScaler\n",
    "\n",
    "robust_scaler = RobustScaler()\n",
    "training_features = robust_scaler.fit_transform(training_features)\n",
    "test_features = robust_scaler.transform(test_features)\n",
    "training_features"
   ]
  },
  {
   "cell_type": "markdown",
   "metadata": {},
   "source": [
    "# Baseline"
   ]
  },
  {
   "cell_type": "code",
   "execution_count": 175,
   "metadata": {},
   "outputs": [
    {
     "data": {
      "text/plain": [
       "DummyClassifier(strategy='most_frequent')"
      ]
     },
     "execution_count": 175,
     "metadata": {},
     "output_type": "execute_result"
    }
   ],
   "source": [
    "dummy_baseline = DummyClassifier(strategy=\"most_frequent\")\n",
    "\n",
    "dummy_baseline.fit(test_features, test_target)"
   ]
  },
  {
   "cell_type": "code",
   "execution_count": 176,
   "metadata": {},
   "outputs": [
    {
     "name": "stdout",
     "output_type": "stream",
     "text": [
      "[0 0 0 ... 0 0 0]\n"
     ]
    }
   ],
   "source": [
    "test_target_pred = dummy_baseline.predict(test_features)\n",
    "print(test_target_pred)"
   ]
  },
  {
   "cell_type": "code",
   "execution_count": 177,
   "metadata": {},
   "outputs": [
    {
     "name": "stdout",
     "output_type": "stream",
     "text": [
      "The fraction of correct classifications is: 0.592\n"
     ]
    }
   ],
   "source": [
    "score = dummy_baseline.score(test_features, test_target)\n",
    "print('The fraction of correct classifications is: {:5.3f}'.format(score))"
   ]
  },
  {
   "cell_type": "code",
   "execution_count": 178,
   "metadata": {},
   "outputs": [
    {
     "data": {
      "text/plain": [
       "array([[710,   0],\n",
       "       [490,   0]])"
      ]
     },
     "execution_count": 178,
     "metadata": {},
     "output_type": "execute_result"
    }
   ],
   "source": [
    "# This is the long way of computing the accuracy score\n",
    "dummy_baselineCM = confusion_matrix(test_target,test_target_pred)\n",
    "dummy_baselineCM"
   ]
  },
  {
   "cell_type": "code",
   "execution_count": 179,
   "metadata": {},
   "outputs": [
    {
     "data": {
      "text/plain": [
       "0    0.604667\n",
       "1    0.395333\n",
       "Name: ROI, dtype: float64"
      ]
     },
     "execution_count": 179,
     "metadata": {},
     "output_type": "execute_result"
    }
   ],
   "source": [
    "Box_officeV3['ROI'].value_counts(normalize=True)"
   ]
  },
  {
   "cell_type": "markdown",
   "metadata": {},
   "source": [
    "# Decision Tree"
   ]
  },
  {
   "cell_type": "code",
   "execution_count": 180,
   "metadata": {},
   "outputs": [],
   "source": [
    "DecisionTreeModel = DecisionTreeClassifier(criterion='entropy', random_state=45  , max_depth=4)"
   ]
  },
  {
   "cell_type": "code",
   "execution_count": 181,
   "metadata": {},
   "outputs": [
    {
     "name": "stdout",
     "output_type": "stream",
     "text": [
      "CPU times: user 12.4 ms, sys: 2.37 ms, total: 14.8 ms\n",
      "Wall time: 14.6 ms\n"
     ]
    },
    {
     "data": {
      "text/plain": [
       "DecisionTreeClassifier(criterion='entropy', max_depth=4, random_state=45)"
      ]
     },
     "execution_count": 181,
     "metadata": {},
     "output_type": "execute_result"
    }
   ],
   "source": [
    "%%time\n",
    "DecisionTreeModel.fit(training_features, training_target)  # Training input and its Target variables"
   ]
  },
  {
   "cell_type": "code",
   "execution_count": 182,
   "metadata": {},
   "outputs": [
    {
     "name": "stdout",
     "output_type": "stream",
     "text": [
      "CPU times: user 1.16 ms, sys: 795 µs, total: 1.95 ms\n",
      "Wall time: 1.5 ms\n"
     ]
    }
   ],
   "source": [
    "%%time\n",
    "DTPred = DecisionTreeModel.predict(test_features)"
   ]
  },
  {
   "cell_type": "code",
   "execution_count": 183,
   "metadata": {},
   "outputs": [],
   "source": [
    "# Confusion Matrix\n",
    "#from sklearn.model_selection import cross_val_score, cross_valPredict\n",
    "from sklearn.metrics import accuracy_score, classification_report, confusion_matrix"
   ]
  },
  {
   "cell_type": "code",
   "execution_count": 184,
   "metadata": {},
   "outputs": [
    {
     "data": {
      "text/plain": [
       "array([[652,  58],\n",
       "       [ 81, 409]])"
      ]
     },
     "execution_count": 184,
     "metadata": {},
     "output_type": "execute_result"
    }
   ],
   "source": [
    "# Confusion Matrix\n",
    "CMTD = confusion_matrix(test_target,DTPred) # Compare the predicted target varaible to the orginal target variable\n",
    "CMTD"
   ]
  },
  {
   "cell_type": "code",
   "execution_count": 185,
   "metadata": {},
   "outputs": [
    {
     "data": {
      "image/png": "[encoded data removed]",
      "text/plain": [
       "<Figure size 432x216 with 2 Axes>"
      ]
     },
     "metadata": {},
     "output_type": "display_data"
    }
   ],
   "source": [
    "target ='ROI'\n",
    "CMTD = pd.crosstab(test_target,DTPred, rownames=['Actual'], colnames=['Predicted'])\n",
    "fig, (ax1) = plt.subplots(ncols=1, figsize=(6,3))\n",
    "sns.heatmap(CMTD, \n",
    "            xticklabels=['NON-Profitable', 'Proftibale'],\n",
    "            yticklabels=['NON-Profitable', 'Profitable'],\n",
    "            annot=True,ax=ax1,\n",
    "            linewidths=2,linecolor=\"Darkblue\", cmap=\"Blues\")\n",
    "plt.title('Confusion Matrix', fontsize=14)\n",
    "plt.show()"
   ]
  },
  {
   "cell_type": "code",
   "execution_count": 186,
   "metadata": {},
   "outputs": [
    {
     "data": {
      "text/plain": [
       "<AxesSubplot:xlabel='Predicted', ylabel='Actual'>"
      ]
     },
     "execution_count": 186,
     "metadata": {},
     "output_type": "execute_result"
    },
    {
     "data": {
      "image/png": "[encoded data removed]",
      "text/plain": [
       "<Figure size 1440x1440 with 2 Axes>"
      ]
     },
     "metadata": {},
     "output_type": "display_data"
    }
   ],
   "source": [
    "sns.heatmap(CMTD/np.sum(CMTD), annot=True, \n",
    "            fmt='.2%', cmap='Blues')"
   ]
  },
  {
   "cell_type": "code",
   "execution_count": 187,
   "metadata": {},
   "outputs": [
    {
     "name": "stdout",
     "output_type": "stream",
     "text": [
      " Decision Tree Prediction Accuracy : 88.42%\n"
     ]
    }
   ],
   "source": [
    "# Accuracy Score\n",
    "ADT= accuracy_score(test_target, DTPred)\n",
    "\n",
    "print(\" Decision Tree Prediction Accuracy : {:.2f}%\".format(ADT * 100))\n",
    "# print()\n"
   ]
  },
  {
   "cell_type": "markdown",
   "metadata": {},
   "source": [
    "# Naive Bayes"
   ]
  },
  {
   "cell_type": "code",
   "execution_count": 188,
   "metadata": {},
   "outputs": [
    {
     "data": {
      "text/plain": [
       "GaussianNB()"
      ]
     },
     "execution_count": 188,
     "metadata": {},
     "output_type": "execute_result"
    }
   ],
   "source": [
    "# Fitting Naive Bayes to the Training set\n",
    "from sklearn.naive_bayes import GaussianNB\n",
    "\n",
    "NBModel = GaussianNB()\n",
    "\n",
    "NBModel.fit(training_features, training_target)"
   ]
  },
  {
   "cell_type": "code",
   "execution_count": 189,
   "metadata": {},
   "outputs": [
    {
     "name": "stdout",
     "output_type": "stream",
     "text": [
      "CPU times: user 1.17 ms, sys: 583 µs, total: 1.75 ms\n",
      "Wall time: 1.22 ms\n"
     ]
    }
   ],
   "source": [
    "%%time\n",
    "\n",
    "# Predicting the Test set results\n",
    "NBPred = NBModel.predict(test_features)"
   ]
  },
  {
   "cell_type": "code",
   "execution_count": 190,
   "metadata": {},
   "outputs": [
    {
     "data": {
      "text/plain": [
       "array([[556, 154],\n",
       "       [ 94, 396]])"
      ]
     },
     "execution_count": 190,
     "metadata": {},
     "output_type": "execute_result"
    }
   ],
   "source": [
    "# Making the Confusion Matrix\n",
    "CMNB= confusion_matrix(test_target, NBPred)\n",
    "CMNB"
   ]
  },
  {
   "cell_type": "code",
   "execution_count": 191,
   "metadata": {},
   "outputs": [
    {
     "name": "stdout",
     "output_type": "stream",
     "text": [
      " NB Prediction Accuracy : 79.33%\n"
     ]
    }
   ],
   "source": [
    "# Accuracy Score\n",
    "ACNB= accuracy_score(test_target, NBPred)\n",
    "\n",
    "print(\" NB Prediction Accuracy : {:.2f}%\".format(ACNB * 100))\n",
    "# print()"
   ]
  },
  {
   "cell_type": "markdown",
   "metadata": {},
   "source": [
    "# Logistic Regression"
   ]
  },
  {
   "cell_type": "code",
   "execution_count": 192,
   "metadata": {},
   "outputs": [],
   "source": [
    "# Create the model using LogisticRegression class\n",
    "LRModel = LogisticRegression(random_state = 45) # SEED. IN R"
   ]
  },
  {
   "cell_type": "code",
   "execution_count": 193,
   "metadata": {},
   "outputs": [
    {
     "data": {
      "text/plain": [
       "LogisticRegression(random_state=45)"
      ]
     },
     "execution_count": 193,
     "metadata": {},
     "output_type": "execute_result"
    }
   ],
   "source": [
    "# Fitting the Model\n",
    "LRModel.fit(training_features, training_target)"
   ]
  },
  {
   "cell_type": "code",
   "execution_count": 194,
   "metadata": {},
   "outputs": [
    {
     "name": "stdout",
     "output_type": "stream",
     "text": [
      "CPU times: user 957 µs, sys: 884 µs, total: 1.84 ms\n",
      "Wall time: 1.6 ms\n"
     ]
    }
   ],
   "source": [
    "%%time\n",
    "\n",
    "# Predicting the Test set results\n",
    "\n",
    "LRPred =LRModel.predict(test_features)"
   ]
  },
  {
   "cell_type": "code",
   "execution_count": 195,
   "metadata": {},
   "outputs": [
    {
     "data": {
      "text/plain": [
       "array([[705,   5],\n",
       "       [  4, 486]])"
      ]
     },
     "execution_count": 195,
     "metadata": {},
     "output_type": "execute_result"
    }
   ],
   "source": [
    "# Making the Confusion Matrix\n",
    "CMLR= confusion_matrix(test_target, LRPred)\n",
    "CMLR"
   ]
  },
  {
   "cell_type": "code",
   "execution_count": 196,
   "metadata": {},
   "outputs": [
    {
     "name": "stdout",
     "output_type": "stream",
     "text": [
      " LGR Prediction Accuracy : 99.25%\n"
     ]
    }
   ],
   "source": [
    "#Accuracy Score\n",
    "ACLR= accuracy_score(test_target, LRPred )\n",
    "\n",
    "print(\" LGR Prediction Accuracy : {:.2f}%\".format(ACLR * 100))"
   ]
  },
  {
   "cell_type": "markdown",
   "metadata": {},
   "source": [
    "# SVM"
   ]
  },
  {
   "cell_type": "code",
   "execution_count": 197,
   "metadata": {},
   "outputs": [],
   "source": [
    "from sklearn.model_selection import train_test_split\n",
    "X = Box_officeV3.drop('ROI', axis = 1)\n",
    "y = Box_officeV3.ROI\n",
    "\n",
    "training_features, test_features, \\\n",
    "training_target, test_target, = train_test_split(X,y, test_size = .2, random_state= 45)"
   ]
  },
  {
   "cell_type": "code",
   "execution_count": 198,
   "metadata": {},
   "outputs": [],
   "source": [
    "robust_scaler = RobustScaler()\n",
    "training_features = robust_scaler.fit_transform(training_features)\n",
    "test_features = robust_scaler.transform(test_features)"
   ]
  },
  {
   "cell_type": "code",
   "execution_count": 199,
   "metadata": {},
   "outputs": [],
   "source": [
    "SVMModel = SVC(kernel = 'linear', random_state = 45,probability = True)"
   ]
  },
  {
   "cell_type": "code",
   "execution_count": 200,
   "metadata": {},
   "outputs": [
    {
     "data": {
      "text/plain": [
       "SVC(kernel='linear', probability=True, random_state=45)"
      ]
     },
     "execution_count": 200,
     "metadata": {},
     "output_type": "execute_result"
    }
   ],
   "source": [
    "SVMModel.fit(training_features, training_target)"
   ]
  },
  {
   "cell_type": "code",
   "execution_count": 201,
   "metadata": {},
   "outputs": [
    {
     "name": "stdout",
     "output_type": "stream",
     "text": [
      "CPU times: user 14.5 ms, sys: 1.84 ms, total: 16.3 ms\n",
      "Wall time: 15.8 ms\n"
     ]
    }
   ],
   "source": [
    "%%time\n",
    "\n",
    "# Predicting the Test set results\n",
    "SVMPred = SVMModel.predict(test_features)"
   ]
  },
  {
   "cell_type": "code",
   "execution_count": 202,
   "metadata": {},
   "outputs": [
    {
     "data": {
      "text/plain": [
       "array([[705,   5],\n",
       "       [  2, 488]])"
      ]
     },
     "execution_count": 202,
     "metadata": {},
     "output_type": "execute_result"
    }
   ],
   "source": [
    "# Making the Confusion Matrix\n",
    "CMSVM= confusion_matrix(test_target, SVMPred)\n",
    "CMSVM"
   ]
  },
  {
   "cell_type": "code",
   "execution_count": 203,
   "metadata": {},
   "outputs": [
    {
     "name": "stdout",
     "output_type": "stream",
     "text": [
      " SVM Prediction Accuracy : 99.42%\n"
     ]
    }
   ],
   "source": [
    "# Accuracy Score\n",
    "ACSVM= accuracy_score(test_target, SVMPred )\n",
    "\n",
    "print(\" SVM Prediction Accuracy : {:.2f}%\".format(ACSVM * 100))"
   ]
  },
  {
   "cell_type": "markdown",
   "metadata": {},
   "source": [
    "# KSVM"
   ]
  },
  {
   "cell_type": "code",
   "execution_count": 204,
   "metadata": {},
   "outputs": [
    {
     "data": {
      "text/plain": [
       "SVC(probability=True, random_state=0)"
      ]
     },
     "execution_count": 204,
     "metadata": {},
     "output_type": "execute_result"
    }
   ],
   "source": [
    "KSVMModel = SVC(kernel = 'rbf', random_state = 0,probability = True)\n",
    "KSVMModel.fit(training_features, training_target)"
   ]
  },
  {
   "cell_type": "code",
   "execution_count": 205,
   "metadata": {},
   "outputs": [
    {
     "name": "stdout",
     "output_type": "stream",
     "text": [
      "CPU times: user 48.1 ms, sys: 2.43 ms, total: 50.6 ms\n",
      "Wall time: 51.2 ms\n"
     ]
    }
   ],
   "source": [
    "%%time\n",
    "\n",
    "# Predicting the Test set results\n",
    "KSVMPred = KSVMModel.predict(test_features)"
   ]
  },
  {
   "cell_type": "code",
   "execution_count": 206,
   "metadata": {},
   "outputs": [
    {
     "data": {
      "text/plain": [
       "array([[695,  15],\n",
       "       [ 19, 471]])"
      ]
     },
     "execution_count": 206,
     "metadata": {},
     "output_type": "execute_result"
    }
   ],
   "source": [
    "# Making the Confusion Matrix\n",
    "CMKSVM = confusion_matrix(test_target, KSVMPred)\n",
    "CMKSVM"
   ]
  },
  {
   "cell_type": "code",
   "execution_count": 207,
   "metadata": {},
   "outputs": [
    {
     "name": "stdout",
     "output_type": "stream",
     "text": [
      "0.9716666666666667\n"
     ]
    }
   ],
   "source": [
    "# Accuracy Score\n",
    "ACKSVM= accuracy_score(test_target, KSVMPred)\n",
    "print(ACKSVM)"
   ]
  },
  {
   "cell_type": "markdown",
   "metadata": {},
   "source": [
    "# KNN"
   ]
  },
  {
   "cell_type": "code",
   "execution_count": 208,
   "metadata": {},
   "outputs": [
    {
     "data": {
      "text/plain": [
       "KNeighborsClassifier(n_neighbors=21)"
      ]
     },
     "execution_count": 208,
     "metadata": {},
     "output_type": "execute_result"
    }
   ],
   "source": [
    "KNNModel = KNeighborsClassifier(n_neighbors = 21)\n",
    "\n",
    "KNNModel.fit(training_features, training_target)"
   ]
  },
  {
   "cell_type": "code",
   "execution_count": 209,
   "metadata": {},
   "outputs": [
    {
     "name": "stdout",
     "output_type": "stream",
     "text": [
      "CPU times: user 133 ms, sys: 4.19 ms, total: 137 ms\n",
      "Wall time: 144 ms\n"
     ]
    }
   ],
   "source": [
    "%%time\n",
    "\n",
    "# Predicting the Test set results\n",
    "\n",
    "KNNpred = KNNModel.predict(test_features)"
   ]
  },
  {
   "cell_type": "code",
   "execution_count": 210,
   "metadata": {},
   "outputs": [
    {
     "data": {
      "text/plain": [
       "array([[665,  45],\n",
       "       [ 66, 424]])"
      ]
     },
     "execution_count": 210,
     "metadata": {},
     "output_type": "execute_result"
    }
   ],
   "source": [
    "# Confusion Matrix\n",
    "CMKNN = confusion_matrix(test_target,KNNpred)\n",
    "CMKNN"
   ]
  },
  {
   "cell_type": "code",
   "execution_count": 211,
   "metadata": {},
   "outputs": [
    {
     "name": "stdout",
     "output_type": "stream",
     "text": [
      "0.9075\n"
     ]
    }
   ],
   "source": [
    "# Accuracy Score\n",
    "ACKNN= accuracy_score(test_target, KNNpred )\n",
    "print(ACKNN)"
   ]
  },
  {
   "cell_type": "markdown",
   "metadata": {},
   "source": [
    "# Ensemble"
   ]
  },
  {
   "cell_type": "markdown",
   "metadata": {},
   "source": [
    "# Random Forest"
   ]
  },
  {
   "cell_type": "code",
   "execution_count": 212,
   "metadata": {},
   "outputs": [
    {
     "data": {
      "text/plain": [
       "RandomForestClassifier(max_features=7, n_estimators=109, oob_score=True,\n",
       "                       random_state=42)"
      ]
     },
     "execution_count": 212,
     "metadata": {},
     "output_type": "execute_result"
    }
   ],
   "source": [
    "RFModel = RandomForestClassifier( n_estimators = 109, max_features= 7, oob_score= True, random_state= 42)\n",
    "\n",
    "RFModel.fit(training_features, training_target)"
   ]
  },
  {
   "cell_type": "code",
   "execution_count": 213,
   "metadata": {},
   "outputs": [],
   "source": [
    "# Predicting the Test set results\n",
    "RFPred = RFModel.predict(test_features)"
   ]
  },
  {
   "cell_type": "code",
   "execution_count": 214,
   "metadata": {},
   "outputs": [
    {
     "data": {
      "text/plain": [
       "array([[702,   8],\n",
       "       [ 11, 479]])"
      ]
     },
     "execution_count": 214,
     "metadata": {},
     "output_type": "execute_result"
    }
   ],
   "source": [
    "# Making the Confusion Matrix\n",
    "CMRF= confusion_matrix(test_target, RFPred)\n",
    "CMRF"
   ]
  },
  {
   "cell_type": "code",
   "execution_count": 215,
   "metadata": {},
   "outputs": [
    {
     "name": "stdout",
     "output_type": "stream",
     "text": [
      "0.9841666666666666\n"
     ]
    }
   ],
   "source": [
    "# Accuracy Score\n",
    "ACRF= accuracy_score(test_target, RFPred )\n",
    "print(ACRF)"
   ]
  },
  {
   "cell_type": "markdown",
   "metadata": {},
   "source": [
    "# Out-of-Bag"
   ]
  },
  {
   "cell_type": "code",
   "execution_count": 216,
   "metadata": {},
   "outputs": [
    {
     "name": "stdout",
     "output_type": "stream",
     "text": [
      "Training Accuracy:\t\t 0.9841666666666666\n",
      "Validation Accuracy(OOB Score):\t 0.9877083333333333\n",
      "Testing Accuracy:\t\t 0.9841666666666666\n",
      "Accuracy Difference:\t\t 0.003541666666666665\n"
     ]
    }
   ],
   "source": [
    "RFModel.fit(training_features, training_target)\n",
    "print('Training Accuracy:\\t\\t',ACRF)\n",
    "print('Validation Accuracy(OOB Score):\\t',RFModel.oob_score_)\n",
    "print('Testing Accuracy:\\t\\t',RFModel.score(test_features , test_target))\n",
    "print('Accuracy Difference:\\t\\t', RFModel.oob_score_ - RFModel.score(test_features , test_target))\n",
    "#round(RFModel2.abs(ans6b - ans6c),4)"
   ]
  },
  {
   "cell_type": "code",
   "execution_count": 217,
   "metadata": {},
   "outputs": [
    {
     "data": {
      "text/plain": [
       "0.9877083333333333"
      ]
     },
     "execution_count": 217,
     "metadata": {},
     "output_type": "execute_result"
    }
   ],
   "source": [
    "RFModel.oob_score_"
   ]
  },
  {
   "cell_type": "markdown",
   "metadata": {},
   "source": [
    "# Bagging"
   ]
  },
  {
   "cell_type": "code",
   "execution_count": 218,
   "metadata": {},
   "outputs": [
    {
     "data": {
      "text/plain": [
       "BaggingClassifier(base_estimator=DecisionTreeClassifier(random_state=45),\n",
       "                  n_estimators=109)"
      ]
     },
     "execution_count": 218,
     "metadata": {},
     "output_type": "execute_result"
    }
   ],
   "source": [
    "BModel = BaggingClassifier(tree.DecisionTreeClassifier(random_state=45), n_estimators = 109)\n",
    "BModel"
   ]
  },
  {
   "cell_type": "code",
   "execution_count": 219,
   "metadata": {},
   "outputs": [
    {
     "data": {
      "text/plain": [
       "BaggingClassifier(base_estimator=DecisionTreeClassifier(random_state=45),\n",
       "                  n_estimators=109)"
      ]
     },
     "execution_count": 219,
     "metadata": {},
     "output_type": "execute_result"
    }
   ],
   "source": [
    "BModel.fit(training_features, training_target)"
   ]
  },
  {
   "cell_type": "code",
   "execution_count": 220,
   "metadata": {},
   "outputs": [],
   "source": [
    "# Predicting the Test set results\n",
    "BaggPred = BModel.predict(test_features)"
   ]
  },
  {
   "cell_type": "code",
   "execution_count": 221,
   "metadata": {},
   "outputs": [
    {
     "data": {
      "text/plain": [
       "array([[703,   7],\n",
       "       [ 13, 477]])"
      ]
     },
     "execution_count": 221,
     "metadata": {},
     "output_type": "execute_result"
    }
   ],
   "source": [
    "# Making the Confusion Matrix\n",
    "CMBagg= confusion_matrix(test_target, BaggPred)\n",
    "CMBagg \n",
    "#keeps changing"
   ]
  },
  {
   "cell_type": "code",
   "execution_count": 222,
   "metadata": {},
   "outputs": [
    {
     "name": "stdout",
     "output_type": "stream",
     "text": [
      "0.9833333333333333\n"
     ]
    }
   ],
   "source": [
    "# Accuracy Score\n",
    "ACBagg= accuracy_score(test_target, BaggPred )\n",
    "print(ACBagg)"
   ]
  },
  {
   "cell_type": "markdown",
   "metadata": {},
   "source": [
    "# ADA Boost"
   ]
  },
  {
   "cell_type": "code",
   "execution_count": 223,
   "metadata": {},
   "outputs": [
    {
     "data": {
      "text/plain": [
       "AdaBoostClassifier(learning_rate=0.7, n_estimators=53, random_state=42)"
      ]
     },
     "execution_count": 223,
     "metadata": {},
     "output_type": "execute_result"
    }
   ],
   "source": [
    "ADBModel = AdaBoostClassifier(random_state=42 , n_estimators=  53, learning_rate = .7, algorithm = 'SAMME.R') \n",
    "ADBModel.fit(training_features, training_target)"
   ]
  },
  {
   "cell_type": "code",
   "execution_count": 224,
   "metadata": {},
   "outputs": [],
   "source": [
    "# Predicting the Test set results\n",
    "ADBPred = ADBModel.predict(test_features)"
   ]
  },
  {
   "cell_type": "code",
   "execution_count": 225,
   "metadata": {},
   "outputs": [
    {
     "data": {
      "text/plain": [
       "array([[687,  23],\n",
       "       [ 13, 477]])"
      ]
     },
     "execution_count": 225,
     "metadata": {},
     "output_type": "execute_result"
    }
   ],
   "source": [
    "# Making the Confusion Matrix\n",
    "CMADB= confusion_matrix(test_target, ADBPred)\n",
    "CMADB"
   ]
  },
  {
   "cell_type": "code",
   "execution_count": 226,
   "metadata": {},
   "outputs": [
    {
     "name": "stdout",
     "output_type": "stream",
     "text": [
      "0.97\n"
     ]
    }
   ],
   "source": [
    "# Accuracy Score\n",
    "ACADB= accuracy_score(test_target, ADBPred )\n",
    "print(ACADB)"
   ]
  },
  {
   "cell_type": "markdown",
   "metadata": {},
   "source": [
    "# Gradient Boosting"
   ]
  },
  {
   "cell_type": "code",
   "execution_count": 227,
   "metadata": {},
   "outputs": [
    {
     "data": {
      "text/plain": [
       "GradientBoostingClassifier()"
      ]
     },
     "execution_count": 227,
     "metadata": {},
     "output_type": "execute_result"
    }
   ],
   "source": [
    "# Initialize boosted tree\n",
    "GBModel = GradientBoostingClassifier()\n",
    "\n",
    "# Fit boosted tree\n",
    "GBModel.fit(training_features, training_target)"
   ]
  },
  {
   "cell_type": "code",
   "execution_count": 228,
   "metadata": {},
   "outputs": [],
   "source": [
    "# Predicting the Test set results\n",
    "GBPred = GBModel.predict(test_features)"
   ]
  },
  {
   "cell_type": "code",
   "execution_count": 229,
   "metadata": {},
   "outputs": [
    {
     "data": {
      "text/plain": [
       "array([[697,  13],\n",
       "       [ 18, 472]])"
      ]
     },
     "execution_count": 229,
     "metadata": {},
     "output_type": "execute_result"
    }
   ],
   "source": [
    "# Making the Confusion Matrix\n",
    "CMGB= confusion_matrix(test_target, GBPred)\n",
    "CMGB"
   ]
  },
  {
   "cell_type": "code",
   "execution_count": 230,
   "metadata": {},
   "outputs": [
    {
     "name": "stdout",
     "output_type": "stream",
     "text": [
      "0.9741666666666666\n"
     ]
    }
   ],
   "source": [
    "# Accuracy Score\n",
    "ACGB= accuracy_score(test_target, GBPred )\n",
    "print(ACGB)"
   ]
  },
  {
   "cell_type": "markdown",
   "metadata": {},
   "source": [
    "# XGBoost"
   ]
  },
  {
   "cell_type": "code",
   "execution_count": 239,
   "metadata": {},
   "outputs": [
    {
     "name": "stdout",
     "output_type": "stream",
     "text": [
      "[17:18:57] WARNING: /Users/travis/build/dmlc/xgboost/src/learner.cc:1061: Starting in XGBoost 1.3.0, the default evaluation metric used with the objective 'binary:logistic' was changed from 'error' to 'logloss'. Explicitly set eval_metric if you'd like to restore the old behavior.\n"
     ]
    },
    {
     "data": {
      "text/plain": [
       "XGBClassifier(base_score=0.5, booster='gbtree', colsample_bylevel=1,\n",
       "              colsample_bynode=1, colsample_bytree=1, gamma=0, gpu_id=-1,\n",
       "              importance_type='gain', interaction_constraints='',\n",
       "              learning_rate=0.300000012, max_delta_step=0, max_depth=6,\n",
       "              min_child_weight=1, missing=nan, monotone_constraints='()',\n",
       "              n_estimators=100, n_jobs=4, num_parallel_tree=1, random_state=0,\n",
       "              reg_alpha=0, reg_lambda=1, scale_pos_weight=1, subsample=1,\n",
       "              tree_method='exact', validate_parameters=1, verbosity=None)"
      ]
     },
     "execution_count": 239,
     "metadata": {},
     "output_type": "execute_result"
    }
   ],
   "source": [
    "from xgboost import XGBClassifier\n",
    "XGB = XGBClassifier()\n",
    "XGB.fit(training_features, training_target)"
   ]
  },
  {
   "cell_type": "code",
   "execution_count": 240,
   "metadata": {},
   "outputs": [
    {
     "name": "stdout",
     "output_type": "stream",
     "text": [
      "0.9997916666666666\n"
     ]
    }
   ],
   "source": [
    "XGB_training_score = XGB.score(training_features, training_target)\n",
    "print(XGB_training_score)"
   ]
  },
  {
   "cell_type": "code",
   "execution_count": 241,
   "metadata": {},
   "outputs": [
    {
     "name": "stdout",
     "output_type": "stream",
     "text": [
      "[[703   7]\n",
      " [ 13 477]]\n",
      "0.9833333333333333\n"
     ]
    }
   ],
   "source": [
    "from sklearn.metrics import confusion_matrix, accuracy_score\n",
    "y_pred = XGB.predict(test_features)\n",
    "cm = confusion_matrix(test_target, y_pred)\n",
    "print(cm)\n",
    "XGB_score = accuracy_score(test_target, y_pred)\n",
    "print(XGB_score)"
   ]
  },
  {
   "cell_type": "code",
   "execution_count": null,
   "metadata": {},
   "outputs": [],
   "source": []
  },
  {
   "cell_type": "code",
   "execution_count": null,
   "metadata": {},
   "outputs": [],
   "source": []
  },
  {
   "cell_type": "markdown",
   "metadata": {},
   "source": [
    "# Model Comparison"
   ]
  },
  {
   "cell_type": "code",
   "execution_count": 242,
   "metadata": {},
   "outputs": [
    {
     "name": "stdout",
     "output_type": "stream",
     "text": [
      " Random Prediction on frequency                            : 59.17%\n",
      " Decision Tree Prediction Accuracy                         : 88.42%\n",
      " Naive Byes Prediction Accuracy                            : 79.33%\n",
      " Logistic Regression Prediction Accuracy                   : 99.25%\n",
      " Support Vector Machine Prediction Accuracy                : 99.42%\n",
      " K-Support Vector Machine Prediction Accuracy              : 97.17%\n",
      " KNN Prediction Accuracy                                   : 90.75%\n",
      " Random Forest Prediction Accuracy                         : 98.42%\n",
      " Ensemble - Bagging Prediction Accuracy                    : 98.33%\n",
      " Ensemble - Ada-Boost Prediction Accuracy                  : 97.00%\n",
      " Ensemble - Gradient Boosting Prediction Accuracy          : 97.42%\n",
      " Ensemble - XGBoost Prediction Accuracy                    : 98.33%\n"
     ]
    }
   ],
   "source": [
    "# Accuracy Score\n",
    "print(\" Random Prediction on frequency                            : {:.2f}%\".format(score * 100))\n",
    "print(\" Decision Tree Prediction Accuracy                         : {:.2f}%\".format(ADT * 100))\n",
    "print(\" Naive Byes Prediction Accuracy                            : {:.2f}%\".format(ACNB    *   100))\n",
    "print(\" Logistic Regression Prediction Accuracy                   : {:.2f}%\".format(ACLR    *   100))\n",
    "print(\" Support Vector Machine Prediction Accuracy                : {:.2f}%\".format(ACSVM   *   100))\n",
    "print(\" K-Support Vector Machine Prediction Accuracy              : {:.2f}%\".format(ACKSVM  *   100)) \n",
    "print(\" KNN Prediction Accuracy                                   : {:.2f}%\".format(ACKNN  *   100)) \n",
    "print(\" Random Forest Prediction Accuracy                         : {:.2f}%\".format(ACRF * 100))\n",
    "print(\" Ensemble - Bagging Prediction Accuracy                    : {:.2f}%\".format(ACBagg * 100))\n",
    "print(\" Ensemble - Ada-Boost Prediction Accuracy                  : {:.2f}%\".format(ACADB * 100)) \n",
    "print(\" Ensemble - Gradient Boosting Prediction Accuracy          : {:.2f}%\".format(ACGB * 100))\n",
    "print(\" Ensemble - XGBoost Prediction Accuracy                    : {:.2f}%\".format(XGB_score * 100))"
   ]
  },
  {
   "cell_type": "markdown",
   "metadata": {},
   "source": [
    "# Model Assessment"
   ]
  },
  {
   "cell_type": "code",
   "execution_count": 243,
   "metadata": {},
   "outputs": [],
   "source": [
    "DTPred     = DecisionTreeModel.predict(test_features)\n",
    "NBPred     = NBModel.predict(test_features)\n",
    "LRPred     = LRModel.predict(test_features)\n",
    "SVMPred    = SVMModel.predict(test_features)\n",
    "KSVMPred   = KSVMModel.predict(test_features)\n",
    "KNNpred    = KNNModel.predict(test_features)\n",
    "RFPred     = RFModel.predict(test_features)\n",
    "BaggPred   = BModel.predict(test_features)\n",
    "ADBPred    = ADBModel.predict(test_features)\n",
    "GBPred     = GBModel.predict(test_features)\n",
    "y_pred     = XGB.predict(test_features)"
   ]
  },
  {
   "cell_type": "code",
   "execution_count": 245,
   "metadata": {},
   "outputs": [],
   "source": [
    "AST_DT   = classification_report(test_target, DTPred)\n",
    "AST_NB   = classification_report(test_target, NBPred)\n",
    "AST_LR   = classification_report(test_target, LRPred)\n",
    "AST_SVM  = classification_report(test_target,  SVMPred)\n",
    "AST_KSVM = classification_report(test_target, KSVMPred)\n",
    "AST_KNN  = classification_report(test_target, KNNpred)\n",
    "AST_RF   = classification_report(test_target, RFPred)\n",
    "AST_Bagg = classification_report(test_target, BaggPred)\n",
    "AST_ADB  = classification_report(test_target, ADBPred)\n",
    "AST_GB   = classification_report(test_target, GBPred)\n",
    "AST_XGB  = classification_report(test_target, y_pred)"
   ]
  },
  {
   "cell_type": "code",
   "execution_count": 246,
   "metadata": {},
   "outputs": [
    {
     "name": "stdout",
     "output_type": "stream",
     "text": [
      "Decision Tree Classification Report \n",
      "\n",
      "                precision    recall  f1-score   support\n",
      "\n",
      "           0       0.89      0.92      0.90       710\n",
      "           1       0.88      0.83      0.85       490\n",
      "\n",
      "    accuracy                           0.88      1200\n",
      "   macro avg       0.88      0.88      0.88      1200\n",
      "weighted avg       0.88      0.88      0.88      1200\n",
      "\n",
      "Naive Byese Classification Report \n",
      "\n",
      "                precision    recall  f1-score   support\n",
      "\n",
      "           0       0.86      0.78      0.82       710\n",
      "           1       0.72      0.81      0.76       490\n",
      "\n",
      "    accuracy                           0.79      1200\n",
      "   macro avg       0.79      0.80      0.79      1200\n",
      "weighted avg       0.80      0.79      0.79      1200\n",
      "\n",
      "Logistic Regression Classification Report \n",
      "\n",
      "                precision    recall  f1-score   support\n",
      "\n",
      "           0       0.99      0.99      0.99       710\n",
      "           1       0.99      0.99      0.99       490\n",
      "\n",
      "    accuracy                           0.99      1200\n",
      "   macro avg       0.99      0.99      0.99      1200\n",
      "weighted avg       0.99      0.99      0.99      1200\n",
      "\n",
      "Support Vector Machine Classification Report \n",
      "\n",
      "                precision    recall  f1-score   support\n",
      "\n",
      "           0       1.00      0.99      1.00       710\n",
      "           1       0.99      1.00      0.99       490\n",
      "\n",
      "    accuracy                           0.99      1200\n",
      "   macro avg       0.99      0.99      0.99      1200\n",
      "weighted avg       0.99      0.99      0.99      1200\n",
      "\n",
      "Kernel Support Vector Machine Classification Report \n",
      "\n",
      "                precision    recall  f1-score   support\n",
      "\n",
      "           0       0.97      0.98      0.98       710\n",
      "           1       0.97      0.96      0.97       490\n",
      "\n",
      "    accuracy                           0.97      1200\n",
      "   macro avg       0.97      0.97      0.97      1200\n",
      "weighted avg       0.97      0.97      0.97      1200\n",
      "\n",
      "K-Nearest Neighbors Classification Report \n",
      "\n",
      "                precision    recall  f1-score   support\n",
      "\n",
      "           0       0.91      0.94      0.92       710\n",
      "           1       0.90      0.87      0.88       490\n",
      "\n",
      "    accuracy                           0.91      1200\n",
      "   macro avg       0.91      0.90      0.90      1200\n",
      "weighted avg       0.91      0.91      0.91      1200\n",
      "\n",
      "Random Forest Classification Report \n",
      "\n",
      "                precision    recall  f1-score   support\n",
      "\n",
      "           0       0.98      0.99      0.99       710\n",
      "           1       0.98      0.98      0.98       490\n",
      "\n",
      "    accuracy                           0.98      1200\n",
      "   macro avg       0.98      0.98      0.98      1200\n",
      "weighted avg       0.98      0.98      0.98      1200\n",
      "\n",
      "Bagging Classification Report \n",
      "\n",
      "                precision    recall  f1-score   support\n",
      "\n",
      "           0       0.98      0.99      0.99       710\n",
      "           1       0.99      0.97      0.98       490\n",
      "\n",
      "    accuracy                           0.98      1200\n",
      "   macro avg       0.98      0.98      0.98      1200\n",
      "weighted avg       0.98      0.98      0.98      1200\n",
      "\n",
      "Ad-Boost Classification Report \n",
      "\n",
      "                precision    recall  f1-score   support\n",
      "\n",
      "           0       0.98      0.97      0.97       710\n",
      "           1       0.95      0.97      0.96       490\n",
      "\n",
      "    accuracy                           0.97      1200\n",
      "   macro avg       0.97      0.97      0.97      1200\n",
      "weighted avg       0.97      0.97      0.97      1200\n",
      "\n",
      "Gradient Boosting Classification Report \n",
      "\n",
      "                precision    recall  f1-score   support\n",
      "\n",
      "           0       0.97      0.98      0.98       710\n",
      "           1       0.97      0.96      0.97       490\n",
      "\n",
      "    accuracy                           0.97      1200\n",
      "   macro avg       0.97      0.97      0.97      1200\n",
      "weighted avg       0.97      0.97      0.97      1200\n",
      "\n",
      "XGBoost Classification Report \n",
      "\n",
      "                precision    recall  f1-score   support\n",
      "\n",
      "           0       0.98      0.99      0.99       710\n",
      "           1       0.99      0.97      0.98       490\n",
      "\n",
      "    accuracy                           0.98      1200\n",
      "   macro avg       0.98      0.98      0.98      1200\n",
      "weighted avg       0.98      0.98      0.98      1200\n",
      "\n"
     ]
    }
   ],
   "source": [
    "print(\"Decision Tree Classification Report \\n\\n \" , AST_DT)\n",
    "print(\"Naive Byese Classification Report \\n\\n \" , AST_NB)\n",
    "print(\"Logistic Regression Classification Report \\n\\n \" , AST_LR)\n",
    "print(\"Support Vector Machine Classification Report \\n\\n \" , AST_SVM)\n",
    "print(\"Kernel Support Vector Machine Classification Report \\n\\n \" , AST_KSVM)\n",
    "print(\"K-Nearest Neighbors Classification Report \\n\\n \" , AST_KNN)\n",
    "print(\"Random Forest Classification Report \\n\\n \" , AST_RF)\n",
    "print(\"Bagging Classification Report \\n\\n \" , AST_Bagg)\n",
    "print(\"Ad-Boost Classification Report \\n\\n \" , AST_ADB)\n",
    "print(\"Gradient Boosting Classification Report \\n\\n \" , AST_GB)\n",
    "print(\"XGBoost Classification Report \\n\\n \" , AST_XGB)"
   ]
  },
  {
   "cell_type": "markdown",
   "metadata": {},
   "source": [
    "# Overlaid ROC Curve"
   ]
  },
  {
   "cell_type": "code",
   "execution_count": 247,
   "metadata": {},
   "outputs": [
    {
     "data": {
      "image/png": "[encoded data removed]",
      "text/plain": [
       "<Figure size 576x576 with 1 Axes>"
      ]
     },
     "metadata": {},
     "output_type": "display_data"
    }
   ],
   "source": [
    "# Initialize plot\n",
    "fig = plt.figure(figsize=(8,8))\n",
    "plt.title('Receiver Operating Characteristic')\n",
    "\n",
    "\n",
    "#---------------------------------------------------------------- 1- DT---- #\n",
    "\n",
    "# Predicts X_test using model\n",
    "DT_pred = DecisionTreeModel.predict_proba(test_features)\n",
    "DT_pred = [p[1] for p in DT_pred]\n",
    "    \n",
    "# Calculates ROC curve\n",
    "fpr, tpr, thresholds = roc_curve(test_target, DT_pred)\n",
    "    \n",
    "# Calculates AUROC\n",
    "auroc = round(auc(fpr, tpr), 3)\n",
    "    \n",
    "# Plots ROC curve and labels with AUROC\n",
    "plt.plot(fpr, tpr, label='{} AUROC = {}'.format('Decision Tree', auroc))\n",
    "\n",
    "\n",
    "\n",
    "#---------------------------------------------------------------- 2- GB ---- #\n",
    "\n",
    "# Predicts X_test using model\n",
    "GB_pred = GBModel.predict_proba(test_features)\n",
    "GB_pred = [p[1] for p in GB_pred]\n",
    "    \n",
    "# Calculates ROC curve\n",
    "fpr, tpr, thresholds = roc_curve(test_target, GB_pred)\n",
    "    \n",
    "# Calculates AUROC\n",
    "auroc = round(auc(fpr, tpr), 3)\n",
    "    \n",
    "# Plots ROC curve and labels with AUROC\n",
    "plt.plot(fpr, tpr, label='{} AUROC = {}'.format('Gradient Boosting', auroc))\n",
    "\n",
    "\n",
    "#---------------------------------------------------------------- 3 - KNN---- #\n",
    "\n",
    "# Predicts test_features using model\n",
    "KNN_pred = KNNModel.predict_proba(test_features)\n",
    "KNN_pred = [p[1] for p in KNN_pred]\n",
    "    \n",
    "# Calculates ROC curve\n",
    "fpr, tpr, thresholds = roc_curve(test_target, KNN_pred)\n",
    "    \n",
    "# Calculates AUROC\n",
    "auroc = round(auc(fpr, tpr), 3)\n",
    "    \n",
    "# Plots ROC curve and labels with AUROC\n",
    "plt.plot(fpr, tpr, label='{} AUROC = {}'.format('KNN', auroc))\n",
    "\n",
    "\n",
    "#---------------------------------------------------------------- 4- NB---- #\n",
    "# Predicts test_features using model\n",
    "NB_pred = NBModel.predict_proba(test_features)\n",
    "NB_pred = [p[1] for p in NB_pred]\n",
    "    \n",
    "# Calculates ROC curve\n",
    "fpr, tpr, thresholds = roc_curve(test_target, NB_pred)\n",
    "    \n",
    "# Calculates AUROC\n",
    "auroc = round(auc(fpr, tpr), 3)\n",
    "    \n",
    "# Plots ROC curve and labels with AUROC\n",
    "plt.plot(fpr, tpr, label='{} AUROC = {}'.format('NB', auroc))\n",
    "\n",
    "\n",
    "#---------------------------------------------------------------- 5 - LR ---- #\n",
    "# Predicts test_features using model\n",
    "LR_pred = LRModel.predict_proba(test_features)\n",
    "LR_pred = [p[1] for p in LR_pred]\n",
    "    \n",
    "# Calculates ROC curve\n",
    "fpr, tpr, thresholds = roc_curve(test_target, LR_pred)\n",
    "    \n",
    "# Calculates AUROC\n",
    "auroc = round(auc(fpr, tpr), 3)\n",
    "    \n",
    "# Plots ROC curve and labels with AUROC\n",
    "plt.plot(fpr, tpr, label='{} AUROC = {}'.format('LR', auroc))\n",
    "\n",
    "\n",
    "# #---------------------------------------------------------------- 6 - SVM ---- #\n",
    "# Predicts test_features using model\n",
    "SVM_pred = SVMModel.predict_proba(test_features)\n",
    "SVM_pred = [p[1] for p in SVM_pred]\n",
    "    \n",
    "# Calculates ROC curve\n",
    "fpr, tpr, thresholds = roc_curve(test_target, SVM_pred)\n",
    "    \n",
    "# Calculates AUROC\n",
    "auroc = round(auc(fpr, tpr), 3)\n",
    "    \n",
    "# Plots ROC curve and labels with AUROC\n",
    "plt.plot(fpr, tpr, label='{} AUROC = {}'.format('SVM', auroc))\n",
    "\n",
    "# #---------------------------------------------------------------- 6 - KSVM ---- #\n",
    "# # Predicts test_features using model\n",
    "KSVM_pred = KSVMModel.predict_proba(test_features)\n",
    "KSVM_pred = [p[1] for p in KSVM_pred]\n",
    "    \n",
    "# Calculates ROC curve\n",
    "fpr, tpr, thresholds = roc_curve(test_target, KSVM_pred)\n",
    "    \n",
    "# Calculates AUROC\n",
    "auroc = round(auc(fpr, tpr), 3)\n",
    "    \n",
    "# Plots ROC curve and labels with AUROC\n",
    "plt.plot(fpr, tpr, label='{} AUROC = {}'.format('KSVM', auroc))\n",
    "#---------------------------------------------------------------- 7 - RF ---- #\n",
    "# Predicts test_features using model\n",
    "RF_pred = RFModel.predict_proba(test_features)\n",
    "RF_pred = [p[1] for p in RF_pred]\n",
    "    \n",
    "# Calculates ROC curve\n",
    "fpr, tpr, thresholds = roc_curve(test_target, RF_pred)\n",
    "    \n",
    "# Calculates AUROC\n",
    "auroc = round(auc(fpr, tpr), 3)\n",
    "    \n",
    "# Plots ROC curve and labels with AUROC\n",
    "plt.plot(fpr, tpr, label='{} AUROC = {}'.format('RF', auroc))\n",
    "\n",
    "\n",
    "#---------------------------------------------------------------- 8 - Bagging ---- #\n",
    "# Predicts test_features using model\n",
    "Bagg_pred = BModel.predict_proba(test_features)\n",
    "Bagg_pred = [p[1] for p in Bagg_pred]\n",
    "    \n",
    "# Calculates ROC curve\n",
    "fpr, tpr, thresholds = roc_curve(test_target, Bagg_pred)\n",
    "    \n",
    "# Calculates AUROC\n",
    "auroc = round(auc(fpr, tpr), 3)\n",
    "    \n",
    "# Plots ROC curve and labels with AUROC\n",
    "plt.plot(fpr, tpr, label='{} AUROC = {}'.format('Bagging', auroc))\n",
    "\n",
    "\n",
    "#---------------------------------------------------------------- 9 - Ada-Boost ---- #\n",
    "# Predicts test_features using model\n",
    "ADB_pred = ADBModel.predict_proba(test_features)\n",
    "ADB_pred = [p[1] for p in ADB_pred]\n",
    "    \n",
    "# Calculates ROC curve\n",
    "fpr, tpr, thresholds = roc_curve(test_target, ADB_pred)\n",
    "    \n",
    "# Calculates AUROC\n",
    "auroc = round(auc(fpr, tpr), 3)\n",
    "    \n",
    "# Plots ROC curve and labels with AUROC\n",
    "plt.plot(fpr, tpr, label='{} AUROC = {}'.format('Ada-Boost', auroc))\n",
    "\n",
    "\n",
    "#---------------------------------------------------------------- 9 - Ada-Boost ---- #\n",
    "# Predicts test_features using model\n",
    "y_pred = XGB.predict_proba(test_features)\n",
    "y_pred = [p[1] for p in y_pred]\n",
    "    \n",
    "# Calculates ROC curve\n",
    "fpr, tpr, thresholds = roc_curve(test_target, y_pred)\n",
    "    \n",
    "# Calculates AUROC\n",
    "auroc = round(auc(fpr, tpr), 3)\n",
    "    \n",
    "# Plots ROC curve and labels with AUROC\n",
    "plt.plot(fpr, tpr, label='{} AUROC = {}'.format('XGBoost', auroc))\n",
    "\n",
    "\n",
    "# ---- Legend and labels ---- #\n",
    "\n",
    "# Plot legend\n",
    "plt.legend(loc='lower right')\n",
    "\n",
    "# Plots 45 degree dotted black line\n",
    "plt.plot([0,1],[0,1],'k--')\n",
    "\n",
    "# Axes limits and labels\n",
    "plt.xlim([-0.1,1.1])\n",
    "plt.ylim([-0.1,1.1])\n",
    "plt.ylabel('True Positive Rate')\n",
    "plt.xlabel('False Positive Rate')\n",
    "plt.show()"
   ]
  },
  {
   "cell_type": "markdown",
   "metadata": {},
   "source": [
    "# Model selection: Cross Validation"
   ]
  },
  {
   "cell_type": "code",
   "execution_count": 250,
   "metadata": {},
   "outputs": [
    {
     "name": "stdout",
     "output_type": "stream",
     "text": [
      "CART   : 0.979583 (0.004778)\n",
      "GNB    : 0.769375 (0.010817)\n",
      "LRM    : 0.988958 (0.006608)\n",
      "SVM    : 0.990417 (0.005162)\n",
      "KSVM   : 0.977292 (0.005409)\n",
      "KNN    : 0.875208 (0.014455)\n",
      "RFM    : 0.985625 (0.005246)\n",
      "BAG    : 0.985833 (0.003584)\n",
      "ABM    : 0.965625 (0.009970)\n",
      "GBM    : 0.980208 (0.006145)\n",
      "[17:28:05] WARNING: /Users/travis/build/dmlc/xgboost/src/learner.cc:1061: Starting in XGBoost 1.3.0, the default evaluation metric used with the objective 'binary:logistic' was changed from 'error' to 'logloss'. Explicitly set eval_metric if you'd like to restore the old behavior.\n",
      "[17:28:05] WARNING: /Users/travis/build/dmlc/xgboost/src/learner.cc:1061: Starting in XGBoost 1.3.0, the default evaluation metric used with the objective 'binary:logistic' was changed from 'error' to 'logloss'. Explicitly set eval_metric if you'd like to restore the old behavior.\n",
      "[17:28:06] WARNING: /Users/travis/build/dmlc/xgboost/src/learner.cc:1061: Starting in XGBoost 1.3.0, the default evaluation metric used with the objective 'binary:logistic' was changed from 'error' to 'logloss'. Explicitly set eval_metric if you'd like to restore the old behavior.\n",
      "[17:28:06] WARNING: /Users/travis/build/dmlc/xgboost/src/learner.cc:1061: Starting in XGBoost 1.3.0, the default evaluation metric used with the objective 'binary:logistic' was changed from 'error' to 'logloss'. Explicitly set eval_metric if you'd like to restore the old behavior.\n",
      "[17:28:07] WARNING: /Users/travis/build/dmlc/xgboost/src/learner.cc:1061: Starting in XGBoost 1.3.0, the default evaluation metric used with the objective 'binary:logistic' was changed from 'error' to 'logloss'. Explicitly set eval_metric if you'd like to restore the old behavior.\n",
      "XGB    : 0.986667 (0.004135)\n"
     ]
    }
   ],
   "source": [
    "#from sklearn.model_selection import KFold\n",
    "from sklearn import model_selection\n",
    "\n",
    "# Spot Check Algorithms\n",
    "scoring = 'accuracy'\n",
    "models = []\n",
    "models.append(('CART ', DecisionTreeClassifier(criterion = 'entropy', random_state = 45)))\n",
    "models.append(('GNB  ', GaussianNB()))\n",
    "models.append(('LRM  ', LogisticRegression(random_state = 45, solver='newton-cg', max_iter=1000)))\n",
    "models.append(('SVM  ', SVC(kernel = 'linear', random_state = 45)))\n",
    "models.append(('KSVM ', SVC(kernel = 'rbf', random_state = 45)))\n",
    "models.append(('KNN  ', KNeighborsClassifier(n_neighbors = 57  , metric = 'minkowski', p = 2)))\n",
    "models.append(('RFM  ', RandomForestClassifier(n_estimators=80, max_features=7, oob_score= True, random_state= 42)))\n",
    "models.append(('BAG  ', BaggingClassifier()))\n",
    "models.append(('ABM  ', AdaBoostClassifier(random_state=42 , n_estimators=  53, learning_rate = .7, algorithm = 'SAMME.R')))\n",
    "models.append(('GBM  ', GradientBoostingClassifier()))\n",
    "models.append(('XGB  ', XGBClassifier()))\n",
    "\n",
    "results = []\n",
    "names = []\n",
    "for name, model in models:\n",
    "    cv_results = model_selection.cross_val_score(model, training_features, training_target,  scoring=scoring)\n",
    "    results.append(cv_results)\n",
    "    names.append(name)\n",
    "    msg = \"%s  : %f (%f)\" % (name, cv_results.mean(), cv_results.std())\n",
    "    print(msg)"
   ]
  },
  {
   "cell_type": "code",
   "execution_count": 251,
   "metadata": {},
   "outputs": [
    {
     "name": "stdout",
     "output_type": "stream",
     "text": [
      "CART   : 0.968333 (0.004249)\n",
      "GNB    : 0.789167 (0.015501)\n",
      "LRM    : 0.975833 (0.010000)\n",
      "SVM    : 0.985000 (0.007728)\n",
      "KSVM   : 0.943333 (0.019826)\n",
      "KNN    : 0.847500 (0.034420)\n",
      "RFM    : 0.970833 (0.006972)\n",
      "BAG    : 0.968333 (0.007728)\n",
      "ABM    : 0.973333 (0.011055)\n",
      "GBM    : 0.968333 (0.007265)\n",
      "[17:28:31] WARNING: /Users/travis/build/dmlc/xgboost/src/learner.cc:1061: Starting in XGBoost 1.3.0, the default evaluation metric used with the objective 'binary:logistic' was changed from 'error' to 'logloss'. Explicitly set eval_metric if you'd like to restore the old behavior.\n",
      "[17:28:31] WARNING: /Users/travis/build/dmlc/xgboost/src/learner.cc:1061: Starting in XGBoost 1.3.0, the default evaluation metric used with the objective 'binary:logistic' was changed from 'error' to 'logloss'. Explicitly set eval_metric if you'd like to restore the old behavior.\n",
      "[17:28:31] WARNING: /Users/travis/build/dmlc/xgboost/src/learner.cc:1061: Starting in XGBoost 1.3.0, the default evaluation metric used with the objective 'binary:logistic' was changed from 'error' to 'logloss'. Explicitly set eval_metric if you'd like to restore the old behavior.\n",
      "[17:28:31] WARNING: /Users/travis/build/dmlc/xgboost/src/learner.cc:1061: Starting in XGBoost 1.3.0, the default evaluation metric used with the objective 'binary:logistic' was changed from 'error' to 'logloss'. Explicitly set eval_metric if you'd like to restore the old behavior.\n",
      "[17:28:31] WARNING: /Users/travis/build/dmlc/xgboost/src/learner.cc:1061: Starting in XGBoost 1.3.0, the default evaluation metric used with the objective 'binary:logistic' was changed from 'error' to 'logloss'. Explicitly set eval_metric if you'd like to restore the old behavior.\n",
      "XGB    : 0.971667 (0.008498)\n"
     ]
    }
   ],
   "source": [
    "#from sklearn.model_selection import KFold\n",
    "from sklearn import model_selection\n",
    "\n",
    "# Spot Check Algorithms\n",
    "scoring = 'accuracy'\n",
    "models = []\n",
    "models.append(('CART ', DecisionTreeClassifier(criterion = 'entropy', random_state = 45)))\n",
    "models.append(('GNB  ', GaussianNB()))\n",
    "models.append(('LRM  ', LogisticRegression(random_state = 45, solver='newton-cg', max_iter=1000)))\n",
    "models.append(('SVM  ', SVC(kernel = 'linear', random_state = 45)))\n",
    "models.append(('KSVM ', SVC(kernel = 'rbf', random_state = 45)))\n",
    "models.append(('KNN  ', KNeighborsClassifier(n_neighbors = 57  , metric = 'minkowski', p = 2)))\n",
    "models.append(('RFM  ', RandomForestClassifier(n_estimators=80, max_features=7, oob_score= True, random_state= 42)))\n",
    "models.append(('BAG  ', BaggingClassifier()))\n",
    "models.append(('ABM  ', AdaBoostClassifier(random_state=42 , n_estimators=  53, learning_rate = .7, algorithm = 'SAMME.R')))\n",
    "models.append(('GBM  ', GradientBoostingClassifier()))\n",
    "models.append(('XGB  ', XGBClassifier()))\n",
    "\n",
    "results = []\n",
    "names = []\n",
    "for name, model in models:\n",
    "    cv_results = model_selection.cross_val_score(model, test_features, test_target,  scoring=scoring)\n",
    "    results.append(cv_results)\n",
    "    names.append(name)\n",
    "    msg = \"%s  : %f (%f)\" % (name, cv_results.mean(), cv_results.std())\n",
    "    print(msg)"
   ]
  },
  {
   "cell_type": "code",
   "execution_count": 252,
   "metadata": {},
   "outputs": [
    {
     "data": {
      "image/png": "[encoded data removed]",
      "text/plain": [
       "<Figure size 720x432 with 1 Axes>"
      ]
     },
     "metadata": {},
     "output_type": "display_data"
    }
   ],
   "source": [
    "# Compare Algorithms\n",
    "fig = plt.figure(figsize=(10, 6))\n",
    "fig.suptitle('Algorithm Comparison')\n",
    "ax = fig.add_subplot(111)\n",
    "plt.boxplot(results)\n",
    "ax.set_xticklabels(names)\n",
    "plt.show()"
   ]
  },
  {
   "cell_type": "markdown",
   "metadata": {},
   "source": [
    "# Parameter Tunning"
   ]
  },
  {
   "cell_type": "code",
   "execution_count": 255,
   "metadata": {},
   "outputs": [
    {
     "name": "stdout",
     "output_type": "stream",
     "text": [
      "Fitting 10 folds for each of 96 candidates, totalling 960 fits\n"
     ]
    },
    {
     "name": "stderr",
     "output_type": "stream",
     "text": [
      "[Parallel(n_jobs=10)]: Using backend LokyBackend with 10 concurrent workers.\n",
      "[Parallel(n_jobs=10)]: Done  30 tasks      | elapsed:   13.8s\n",
      "[Parallel(n_jobs=10)]: Done 180 tasks      | elapsed:   57.9s\n",
      "[Parallel(n_jobs=10)]: Done 430 tasks      | elapsed:  2.5min\n",
      "[Parallel(n_jobs=10)]: Done 780 tasks      | elapsed:  4.8min\n",
      "[Parallel(n_jobs=10)]: Done 960 out of 960 | elapsed:  6.3min finished\n"
     ]
    },
    {
     "name": "stdout",
     "output_type": "stream",
     "text": [
      "[17:40:13] WARNING: /Users/travis/build/dmlc/xgboost/src/learner.cc:1061: Starting in XGBoost 1.3.0, the default evaluation metric used with the objective 'binary:logistic' was changed from 'error' to 'logloss'. Explicitly set eval_metric if you'd like to restore the old behavior.\n"
     ]
    },
    {
     "data": {
      "text/plain": [
       "GridSearchCV(cv=10,\n",
       "             estimator=XGBClassifier(base_score=None, booster=None,\n",
       "                                     colsample_bylevel=None,\n",
       "                                     colsample_bynode=None,\n",
       "                                     colsample_bytree=None, gamma=None,\n",
       "                                     gpu_id=None, importance_type='gain',\n",
       "                                     interaction_constraints=None,\n",
       "                                     learning_rate=None, max_delta_step=None,\n",
       "                                     max_depth=None, min_child_weight=None,\n",
       "                                     missing=nan, monotone_constraints=None,\n",
       "                                     n_estimators=100, n_jobs=None, nthread=4,\n",
       "                                     num_parallel_tree=None, random_state=None,\n",
       "                                     reg_alpha=None, reg_lambda=None,\n",
       "                                     scale_pos_weight=None, seed=42,\n",
       "                                     subsample=None, tree_method=None,\n",
       "                                     validate_parameters=None, verbosity=None),\n",
       "             n_jobs=10,\n",
       "             param_grid={'learning_rate': [0.1, 0.01, 0.05],\n",
       "                         'max_depth': range(2, 10),\n",
       "                         'n_estimators': range(60, 220, 40)},\n",
       "             scoring='roc_auc', verbose=True)"
      ]
     },
     "execution_count": 255,
     "metadata": {},
     "output_type": "execute_result"
    }
   ],
   "source": [
    "from sklearn.model_selection import GridSearchCV\n",
    "XGB = XGBClassifier(\n",
    "    objective= 'binary:logistic',\n",
    "    nthread=4,\n",
    "    seed=42\n",
    ")\n",
    "\n",
    "\n",
    "parameters = {\n",
    "    'max_depth': range (2, 10, 1),\n",
    "    'n_estimators': range(60, 220, 40),\n",
    "    'learning_rate': [0.1, 0.01, 0.05]\n",
    "}\n",
    "\n",
    "\n",
    "\n",
    "gbc_random = GridSearchCV(estimator=XGB,\n",
    "param_grid=parameters,\n",
    "    scoring = 'roc_auc',\n",
    "    n_jobs = 10,\n",
    "    cv = 10,\n",
    "    verbose=True\n",
    ")\n",
    "\n",
    "gbc_random.fit(training_features, training_target)"
   ]
  },
  {
   "cell_type": "code",
   "execution_count": 256,
   "metadata": {},
   "outputs": [
    {
     "data": {
      "text/plain": [
       "XGBClassifier(base_score=0.5, booster='gbtree', colsample_bylevel=1,\n",
       "              colsample_bynode=1, colsample_bytree=1, gamma=0, gpu_id=-1,\n",
       "              importance_type='gain', interaction_constraints='',\n",
       "              learning_rate=0.1, max_delta_step=0, max_depth=8,\n",
       "              min_child_weight=1, missing=nan, monotone_constraints='()',\n",
       "              n_estimators=180, n_jobs=4, nthread=4, num_parallel_tree=1,\n",
       "              random_state=42, reg_alpha=0, reg_lambda=1, scale_pos_weight=1,\n",
       "              seed=42, subsample=1, tree_method='exact', validate_parameters=1,\n",
       "              verbosity=None)"
      ]
     },
     "execution_count": 256,
     "metadata": {},
     "output_type": "execute_result"
    }
   ],
   "source": [
    "gbc_random.best_estimator_"
   ]
  },
  {
   "cell_type": "code",
   "execution_count": 260,
   "metadata": {
    "scrolled": false
   },
   "outputs": [
    {
     "name": "stdout",
     "output_type": "stream",
     "text": [
      "[17:57:28] WARNING: /Users/travis/build/dmlc/xgboost/src/learner.cc:1061: Starting in XGBoost 1.3.0, the default evaluation metric used with the objective 'binary:logistic' was changed from 'error' to 'logloss'. Explicitly set eval_metric if you'd like to restore the old behavior.\n",
      "[17:57:29] WARNING: /Users/travis/build/dmlc/xgboost/src/learner.cc:1061: Starting in XGBoost 1.3.0, the default evaluation metric used with the objective 'binary:logistic' was changed from 'error' to 'logloss'. Explicitly set eval_metric if you'd like to restore the old behavior.\n",
      "[17:57:30] WARNING: /Users/travis/build/dmlc/xgboost/src/learner.cc:1061: Starting in XGBoost 1.3.0, the default evaluation metric used with the objective 'binary:logistic' was changed from 'error' to 'logloss'. Explicitly set eval_metric if you'd like to restore the old behavior.\n",
      "[17:57:31] WARNING: /Users/travis/build/dmlc/xgboost/src/learner.cc:1061: Starting in XGBoost 1.3.0, the default evaluation metric used with the objective 'binary:logistic' was changed from 'error' to 'logloss'. Explicitly set eval_metric if you'd like to restore the old behavior.\n",
      "[17:57:32] WARNING: /Users/travis/build/dmlc/xgboost/src/learner.cc:1061: Starting in XGBoost 1.3.0, the default evaluation metric used with the objective 'binary:logistic' was changed from 'error' to 'logloss'. Explicitly set eval_metric if you'd like to restore the old behavior.\n",
      "[17:57:33] WARNING: /Users/travis/build/dmlc/xgboost/src/learner.cc:1061: Starting in XGBoost 1.3.0, the default evaluation metric used with the objective 'binary:logistic' was changed from 'error' to 'logloss'. Explicitly set eval_metric if you'd like to restore the old behavior.\n",
      "[17:57:35] WARNING: /Users/travis/build/dmlc/xgboost/src/learner.cc:1061: Starting in XGBoost 1.3.0, the default evaluation metric used with the objective 'binary:logistic' was changed from 'error' to 'logloss'. Explicitly set eval_metric if you'd like to restore the old behavior.\n",
      "[17:57:36] WARNING: /Users/travis/build/dmlc/xgboost/src/learner.cc:1061: Starting in XGBoost 1.3.0, the default evaluation metric used with the objective 'binary:logistic' was changed from 'error' to 'logloss'. Explicitly set eval_metric if you'd like to restore the old behavior.\n",
      "[17:57:37] WARNING: /Users/travis/build/dmlc/xgboost/src/learner.cc:1061: Starting in XGBoost 1.3.0, the default evaluation metric used with the objective 'binary:logistic' was changed from 'error' to 'logloss'. Explicitly set eval_metric if you'd like to restore the old behavior.\n",
      "[17:57:38] WARNING: /Users/travis/build/dmlc/xgboost/src/learner.cc:1061: Starting in XGBoost 1.3.0, the default evaluation metric used with the objective 'binary:logistic' was changed from 'error' to 'logloss'. Explicitly set eval_metric if you'd like to restore the old behavior.\n",
      "[17:57:40] WARNING: /Users/travis/build/dmlc/xgboost/src/learner.cc:1061: Starting in XGBoost 1.3.0, the default evaluation metric used with the objective 'binary:logistic' was changed from 'error' to 'logloss'. Explicitly set eval_metric if you'd like to restore the old behavior.\n",
      "=== Confusion Matrix ===\n",
      "[[703   7]\n",
      " [ 13 477]]\n",
      "\n",
      "\n",
      "=== Classification Report ===\n",
      "              precision    recall  f1-score   support\n",
      "\n",
      "           0       0.98      0.99      0.99       710\n",
      "           1       0.99      0.97      0.98       490\n",
      "\n",
      "    accuracy                           0.98      1200\n",
      "   macro avg       0.98      0.98      0.98      1200\n",
      "weighted avg       0.98      0.98      0.98      1200\n",
      "\n",
      "\n",
      "\n",
      "=== All AUC Scores ===\n",
      "[0.98878778 1.         1.         0.99996513 1.         1.\n",
      " 1.         0.99997675 0.99952343 0.98264579]\n",
      "\n",
      "\n",
      "=== Mean AUC Score ===\n",
      "Mean AUC Score - XGBoost Model:  0.9970898879792885\n"
     ]
    }
   ],
   "source": [
    "from sklearn.model_selection import cross_val_score\n",
    "gbc = XGBClassifier(base_score=0.5, booster='gbtree', colsample_bylevel=1,\n",
    "              colsample_bynode=1, colsample_bytree=1, gamma=0, gpu_id=-1,\n",
    "              importance_type='gain', interaction_constraints='',\n",
    "              learning_rate=0.1, max_delta_step=0, max_depth=8,\n",
    "              min_child_weight=1, missing=None, monotone_constraints='()',\n",
    "              n_estimators=180, n_jobs=4, nthread=4, num_parallel_tree=1,\n",
    "              random_state=42, reg_alpha=0, reg_lambda=1, scale_pos_weight=1,\n",
    "              seed=42, subsample=1, tree_method='exact', validate_parameters=1,\n",
    "              verbosity=None)\n",
    "\n",
    "gbc.fit(training_features, training_target)\n",
    "\n",
    "gbc_predict = gbc.predict(test_features)\n",
    "\n",
    "gbc_cv_score = cross_val_score(gbc, X, y, cv=10, scoring='roc_auc')\n",
    "print(\"=== Confusion Matrix ===\")\n",
    "print(confusion_matrix(test_target, gbc_predict))\n",
    "print('\\n')\n",
    "\n",
    "print(\"=== Classification Report ===\")\n",
    "print(classification_report(test_target, gbc_predict))\n",
    "print('\\n')\n",
    "\n",
    "print(\"=== All AUC Scores ===\")\n",
    "print(gbc_cv_score)\n",
    "print('\\n')\n",
    "\n",
    "print(\"=== Mean AUC Score ===\")\n",
    "print(\"Mean AUC Score - XGBoost Model: \", gbc_cv_score.mean())"
   ]
  },
  {
   "cell_type": "code",
   "execution_count": null,
   "metadata": {},
   "outputs": [],
   "source": []
  },
  {
   "cell_type": "code",
   "execution_count": null,
   "metadata": {},
   "outputs": [],
   "source": []
  },
  {
   "cell_type": "code",
   "execution_count": null,
   "metadata": {},
   "outputs": [],
   "source": []
  }
 ],
 "metadata": {
  "kernelspec": {
   "display_name": "Python 3",
   "language": "python",
   "name": "python3"
  },
  "language_info": {
   "codemirror_mode": {
    "name": "ipython",
    "version": 3
   },
   "file_extension": ".py",
   "mimetype": "text/x-python",
   "name": "python",
   "nbconvert_exporter": "python",
   "pygments_lexer": "ipython3",
   "version": "3.9.7"
  }
 },
 "nbformat": 4,
 "nbformat_minor": 4
}
