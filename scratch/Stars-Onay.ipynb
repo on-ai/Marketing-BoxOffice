{
 "cells": [
  {
   "cell_type": "code",
   "execution_count": 6,
   "metadata": {},
   "outputs": [],
   "source": [
    "# Importing the libraries\n",
    "import numpy as np\n",
    "import pandas as pd\n",
    "import time\n",
    "import re\n",
    "\n"
   ]
  },
  {
   "cell_type": "code",
   "execution_count": 7,
   "metadata": {},
   "outputs": [],
   "source": [
    "# Function find_net_worth\n",
    "# Massage the star name to fit the proper url syntax\n",
    "# Call the url and use bs4 to extract the net worth, returns 0 if star not found\n",
    "def find_net_worth (star):\n",
    "    import requests\n",
    "    from bs4 import BeautifulSoup\n",
    "    worth = 0\n",
    "    # Replace space with '-' in star name, add trailer as expected by url\n",
    "    # example: url = \"https://wealthygorilla.com/brad-pitt-net-worth\"\n",
    "    url = \"https://wealthygorilla.com/\"+star.replace(\" \", \"-\") + \"-net-worth\"\n",
    "    # print(url)\n",
    "    try:\n",
    "        response = requests.get(url)\n",
    "        if not response.status_code == 200:\n",
    "            return -1\n",
    "        results_page = BeautifulSoup(response.content,'lxml')\n",
    "        var = results_page.find('th', attrs={'class':'column-2'})\n",
    "        val = var.text.strip()\n",
    "        worth = int(re.findall(r'[0-9]+',val)[0])\n",
    "        # print (star+str(worth))\n",
    "        return worth\n",
    "    except:\n",
    "        # Worst value\n",
    "        # print(\"worst value : \"+star)\n",
    "        worth = 0\n",
    "    return worth"
   ]
  },
  {
   "cell_type": "code",
   "execution_count": 8,
   "metadata": {},
   "outputs": [],
   "source": [
    "# Function StarsCategories\n",
    "# Takes a DataFrame with Index, star as input\n",
    "# Returns a DataFrame with the same columns, plus a column for the Net Worth and the category \n",
    "# Categories are from the BCG (Boston Consulting Group), {'Cash Cows', 'Dog', '', ''}\n",
    "def addstarsCat (starpd):\n",
    "    all_cats=[]\n",
    "    all_net_worth=[]\n",
    "    # Fatima lowest category is less than $1M (or not found), then less than $50 millions, next is less than $100 millions\n",
    "    # Top stars are category 2, above $100 millions. We have 3 categories total: 0, 1 and 2.\n",
    "    categories=[1,50,100]\n",
    "    all_stars = starpd['star'].unique()\n",
    "    for star in all_stars:\n",
    "        worth_val = find_net_worth (star)\n",
    "        if worth_val<categories[0]: cat=0\n",
    "        elif worth_val<categories[1]: cat=1\n",
    "        else: cat=2\n",
    "        all_cats.append(cat)\n",
    "        all_net_worth.append(worth_val)\n",
    "        # print(star+\": \"+str(worth_val)+\" \"+str(cat))\n",
    "        \n",
    "    starpd['category']=np.nan\n",
    "    starpd['net_worth']=np.nan\n",
    "\n",
    "    # Update argument with net worth categories\n",
    "    # For each star, update the category column of the argument DF where star is found\n",
    "\n",
    "    for star, cat, worth in zip(all_stars, all_cats, all_net_worth):\n",
    "        starpd['category'] = np.where (starpd['star']==star, cat, starpd['category'])\n",
    "        starpd['net_worth'] = np.where (starpd['star']==star, worth, starpd['net_worth'])\n",
    "\n",
    "    return starpd"
   ]
  },
  {
   "cell_type": "code",
   "execution_count": 9,
   "metadata": {},
   "outputs": [],
   "source": [
    "myboxoffice = pd.read_csv('box_office_predictions.csv')\n",
    "# myboxoffice.head()"
   ]
  },
  {
   "cell_type": "code",
   "execution_count": 5,
   "metadata": {
    "tags": []
   },
   "outputs": [
    {
     "output_type": "stream",
     "name": "stdout",
     "text": [
      "         budget  country           director   genre      gross  \\\n0     237000000       UK      James Cameron  Action  760507625   \n1     200000000      USA      James Cameron   Drama  658672302   \n2     150000000      USA    Colin Trevorrow  Action  652270625   \n3     220000000      USA        Joss Whedon  Action  623357910   \n4     185000000      USA  Christopher Nolan  Action  534858444   \n...         ...      ...                ...     ...        ...   \n5995          0       UK    Dominic Anciano  Comedy       1143   \n5996          0  Ireland     Ian Fitzgibbon  Action        828   \n5997          0   Norway       Petter NÃ¦ss  Action        547   \n5998          0       UK     Sheree Folkson  Comedy        542   \n5999          0      USA   Steven R. Monroe   Crime        441   \n\n                               name rating  runtime  score               star  \\\n0                     Avatar (2009)  PG-13      162    7.8    Sam Worthington   \n1                    Titanic (1997)  PG-13      194    7.8  Leonardo DiCaprio   \n2             Jurassic World (2015)  PG-13      124    7.0        Chris Pratt   \n3               The Avengers (2012)  PG-13      143    8.1  Robert Downey Jr.   \n4            The Dark Knight (2008)  PG-13      152    9.0     Christian Bale   \n...                             ...    ...      ...    ...                ...   \n5995    Love, Honor and Obey (2000)      R      103    6.5        Sadie Frost   \n5996        Perrier's Bounty (2009)      R       88    6.4      Gabriel Byrne   \n5997          Into the White (2012)      R      104    7.2      Florian Lukas   \n5998         The Decoy Bride (2011)     PG       89    6.2    Kelly Macdonald   \n5999  I Spit on Your Grave 2 (2013)      R      106    5.7    Jemma Dallender   \n\n                                      studio    votes  category  net_worth  \n0     Twentieth Century Fox Film Corporation   958400       1.0       30.0  \n1     Twentieth Century Fox Film Corporation   865551       2.0      260.0  \n2                         Universal Pictures   470625       2.0       60.0  \n3                             Marvel Studios  1069292       2.0      300.0  \n4                               Warner Bros.  1845853       2.0      120.0  \n...                                      ...      ...       ...        ...  \n5995  British Broadcasting Corporation (BBC)     4557       0.0       -1.0  \n5996               Parallel Film Productions     5540       0.0       -1.0  \n5997           Zentropa International Norway    16674       0.0       -1.0  \n5998                        Isle of Man Film     9055       0.0       -1.0  \n5999                           Cinetel Films    21145       0.0       -1.0  \n\n[6000 rows x 14 columns]\n1725.7660326957703\n"
     ]
    }
   ],
   "source": [
    "# Making a deep copy because I am going to only modify partially the original DF for debugging purpose\n",
    "# Deep copy could probably be avoided eventually if we process the entire DF\n",
    "# Call the line below myboxoffice[:10] to only process the first 10 entries in 5 seconds instead of 25 minutes\n",
    "newboxoffice = myboxoffice.copy(deep=True)\n",
    "start_time = time.time()\n",
    "newpd = addstarsCat(newboxoffice)\n",
    "print(newpd)\n",
    "newpd.to_csv(\"Box_office_with_stars.csv\", header=True)\n",
    "total_time_in_sec = time.time()-start_time\n",
    "print(total_time_in_sec)\n"
   ]
  },
  {
   "cell_type": "code",
   "execution_count": null,
   "metadata": {},
   "outputs": [],
   "source": []
  }
 ],
 "metadata": {
  "kernelspec": {
   "display_name": "Python 3",
   "language": "python",
   "name": "python3"
  },
  "language_info": {
   "codemirror_mode": {
    "name": "ipython",
    "version": 3
   },
   "file_extension": ".py",
   "mimetype": "text/x-python",
   "name": "python",
   "nbconvert_exporter": "python",
   "pygments_lexer": "ipython3",
   "version": "3.8.3-final"
  }
 },
 "nbformat": 4,
 "nbformat_minor": 4
}