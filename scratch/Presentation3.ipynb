{
 "cells": [
  {
   "cell_type": "code",
   "execution_count": 46,
   "metadata": {},
   "outputs": [],
   "source": [
    "# Importing the libraries\n",
    "import numpy as np\n",
    "import matplotlib.pyplot as plt\n",
    "import pandas as pd\n",
    "\n",
    "\n",
    "import seaborn as sns\n",
    "sns.set()  #  Will import Seaborn functionalities\n",
    "# we don't like warnings\n",
    "# you can comment the following 2 lines if you'd like to\n",
    "import warnings\n",
    "warnings.filterwarnings('ignore')"
   ]
  },
  {
   "cell_type": "code",
   "execution_count": 47,
   "metadata": {},
   "outputs": [
    {
     "data": {
      "text/html": [
       "<div>\n",
       "<style scoped>\n",
       "    .dataframe tbody tr th:only-of-type {\n",
       "        vertical-align: middle;\n",
       "    }\n",
       "\n",
       "    .dataframe tbody tr th {\n",
       "        vertical-align: top;\n",
       "    }\n",
       "\n",
       "    .dataframe thead th {\n",
       "        text-align: right;\n",
       "    }\n",
       "</style>\n",
       "<table border=\"1\" class=\"dataframe\">\n",
       "  <thead>\n",
       "    <tr style=\"text-align: right;\">\n",
       "      <th></th>\n",
       "      <th>Unnamed: 0</th>\n",
       "      <th>budget</th>\n",
       "      <th>country</th>\n",
       "      <th>genre</th>\n",
       "      <th>gross</th>\n",
       "      <th>rating</th>\n",
       "      <th>score</th>\n",
       "      <th>votes</th>\n",
       "      <th>ROI</th>\n",
       "      <th>star_names</th>\n",
       "      <th>studio_names</th>\n",
       "    </tr>\n",
       "  </thead>\n",
       "  <tbody>\n",
       "    <tr>\n",
       "      <th>0</th>\n",
       "      <td>0</td>\n",
       "      <td>237000000.0</td>\n",
       "      <td>non-USA</td>\n",
       "      <td>Action</td>\n",
       "      <td>760507625.0</td>\n",
       "      <td>PG</td>\n",
       "      <td>7.8</td>\n",
       "      <td>958400</td>\n",
       "      <td>1</td>\n",
       "      <td>Famous</td>\n",
       "      <td>Top_Studio</td>\n",
       "    </tr>\n",
       "    <tr>\n",
       "      <th>1</th>\n",
       "      <td>1</td>\n",
       "      <td>150000000.0</td>\n",
       "      <td>USA</td>\n",
       "      <td>Action</td>\n",
       "      <td>652270625.0</td>\n",
       "      <td>PG</td>\n",
       "      <td>7.0</td>\n",
       "      <td>470625</td>\n",
       "      <td>1</td>\n",
       "      <td>Famous</td>\n",
       "      <td>Top_Studio</td>\n",
       "    </tr>\n",
       "    <tr>\n",
       "      <th>2</th>\n",
       "      <td>2</td>\n",
       "      <td>200000000.0</td>\n",
       "      <td>USA</td>\n",
       "      <td>Drama</td>\n",
       "      <td>658672302.0</td>\n",
       "      <td>PG</td>\n",
       "      <td>7.8</td>\n",
       "      <td>865551</td>\n",
       "      <td>1</td>\n",
       "      <td>Famous</td>\n",
       "      <td>Top_Studio</td>\n",
       "    </tr>\n",
       "    <tr>\n",
       "      <th>3</th>\n",
       "      <td>3</td>\n",
       "      <td>220000000.0</td>\n",
       "      <td>USA</td>\n",
       "      <td>Action</td>\n",
       "      <td>623357910.0</td>\n",
       "      <td>PG</td>\n",
       "      <td>8.1</td>\n",
       "      <td>1069292</td>\n",
       "      <td>1</td>\n",
       "      <td>Famous</td>\n",
       "      <td>Top_Studio</td>\n",
       "    </tr>\n",
       "    <tr>\n",
       "      <th>4</th>\n",
       "      <td>4</td>\n",
       "      <td>115000000.0</td>\n",
       "      <td>USA</td>\n",
       "      <td>Action</td>\n",
       "      <td>474544677.0</td>\n",
       "      <td>PG</td>\n",
       "      <td>6.5</td>\n",
       "      <td>587113</td>\n",
       "      <td>1</td>\n",
       "      <td>Famous</td>\n",
       "      <td>Top_Studio</td>\n",
       "    </tr>\n",
       "  </tbody>\n",
       "</table>\n",
       "</div>"
      ],
      "text/plain": [
       "   Unnamed: 0       budget  country   genre        gross rating  score  \\\n",
       "0           0  237000000.0  non-USA  Action  760507625.0     PG    7.8   \n",
       "1           1  150000000.0      USA  Action  652270625.0     PG    7.0   \n",
       "2           2  200000000.0      USA   Drama  658672302.0     PG    7.8   \n",
       "3           3  220000000.0      USA  Action  623357910.0     PG    8.1   \n",
       "4           4  115000000.0      USA  Action  474544677.0     PG    6.5   \n",
       "\n",
       "     votes  ROI star_names studio_names  \n",
       "0   958400    1     Famous   Top_Studio  \n",
       "1   470625    1     Famous   Top_Studio  \n",
       "2   865551    1     Famous   Top_Studio  \n",
       "3  1069292    1     Famous   Top_Studio  \n",
       "4   587113    1     Famous   Top_Studio  "
      ]
     },
     "execution_count": 47,
     "metadata": {},
     "output_type": "execute_result"
    }
   ],
   "source": [
    "Box_officeV2 = pd.read_csv('Box_office_v2.csv')\n",
    "Box_officeV2.head()"
   ]
  },
  {
   "cell_type": "code",
   "execution_count": 48,
   "metadata": {},
   "outputs": [],
   "source": [
    " Box_officeV2= Box_officeV2.drop('Unnamed: 0', axis = 1)"
   ]
  },
  {
   "cell_type": "code",
   "execution_count": 49,
   "metadata": {},
   "outputs": [
    {
     "data": {
      "text/html": [
       "<div>\n",
       "<style scoped>\n",
       "    .dataframe tbody tr th:only-of-type {\n",
       "        vertical-align: middle;\n",
       "    }\n",
       "\n",
       "    .dataframe tbody tr th {\n",
       "        vertical-align: top;\n",
       "    }\n",
       "\n",
       "    .dataframe thead th {\n",
       "        text-align: right;\n",
       "    }\n",
       "</style>\n",
       "<table border=\"1\" class=\"dataframe\">\n",
       "  <thead>\n",
       "    <tr style=\"text-align: right;\">\n",
       "      <th></th>\n",
       "      <th>budget</th>\n",
       "      <th>country</th>\n",
       "      <th>genre</th>\n",
       "      <th>gross</th>\n",
       "      <th>rating</th>\n",
       "      <th>score</th>\n",
       "      <th>votes</th>\n",
       "      <th>ROI</th>\n",
       "      <th>star_names</th>\n",
       "      <th>studio_names</th>\n",
       "    </tr>\n",
       "  </thead>\n",
       "  <tbody>\n",
       "    <tr>\n",
       "      <th>0</th>\n",
       "      <td>237000000.0</td>\n",
       "      <td>non-USA</td>\n",
       "      <td>Action</td>\n",
       "      <td>760507625.0</td>\n",
       "      <td>PG</td>\n",
       "      <td>7.8</td>\n",
       "      <td>958400</td>\n",
       "      <td>1</td>\n",
       "      <td>Famous</td>\n",
       "      <td>Top_Studio</td>\n",
       "    </tr>\n",
       "    <tr>\n",
       "      <th>1</th>\n",
       "      <td>150000000.0</td>\n",
       "      <td>USA</td>\n",
       "      <td>Action</td>\n",
       "      <td>652270625.0</td>\n",
       "      <td>PG</td>\n",
       "      <td>7.0</td>\n",
       "      <td>470625</td>\n",
       "      <td>1</td>\n",
       "      <td>Famous</td>\n",
       "      <td>Top_Studio</td>\n",
       "    </tr>\n",
       "    <tr>\n",
       "      <th>2</th>\n",
       "      <td>200000000.0</td>\n",
       "      <td>USA</td>\n",
       "      <td>Drama</td>\n",
       "      <td>658672302.0</td>\n",
       "      <td>PG</td>\n",
       "      <td>7.8</td>\n",
       "      <td>865551</td>\n",
       "      <td>1</td>\n",
       "      <td>Famous</td>\n",
       "      <td>Top_Studio</td>\n",
       "    </tr>\n",
       "    <tr>\n",
       "      <th>3</th>\n",
       "      <td>220000000.0</td>\n",
       "      <td>USA</td>\n",
       "      <td>Action</td>\n",
       "      <td>623357910.0</td>\n",
       "      <td>PG</td>\n",
       "      <td>8.1</td>\n",
       "      <td>1069292</td>\n",
       "      <td>1</td>\n",
       "      <td>Famous</td>\n",
       "      <td>Top_Studio</td>\n",
       "    </tr>\n",
       "    <tr>\n",
       "      <th>4</th>\n",
       "      <td>115000000.0</td>\n",
       "      <td>USA</td>\n",
       "      <td>Action</td>\n",
       "      <td>474544677.0</td>\n",
       "      <td>PG</td>\n",
       "      <td>6.5</td>\n",
       "      <td>587113</td>\n",
       "      <td>1</td>\n",
       "      <td>Famous</td>\n",
       "      <td>Top_Studio</td>\n",
       "    </tr>\n",
       "  </tbody>\n",
       "</table>\n",
       "</div>"
      ],
      "text/plain": [
       "        budget  country   genre        gross rating  score    votes  ROI  \\\n",
       "0  237000000.0  non-USA  Action  760507625.0     PG    7.8   958400    1   \n",
       "1  150000000.0      USA  Action  652270625.0     PG    7.0   470625    1   \n",
       "2  200000000.0      USA   Drama  658672302.0     PG    7.8   865551    1   \n",
       "3  220000000.0      USA  Action  623357910.0     PG    8.1  1069292    1   \n",
       "4  115000000.0      USA  Action  474544677.0     PG    6.5   587113    1   \n",
       "\n",
       "  star_names studio_names  \n",
       "0     Famous   Top_Studio  \n",
       "1     Famous   Top_Studio  \n",
       "2     Famous   Top_Studio  \n",
       "3     Famous   Top_Studio  \n",
       "4     Famous   Top_Studio  "
      ]
     },
     "execution_count": 49,
     "metadata": {},
     "output_type": "execute_result"
    }
   ],
   "source": [
    "Box_officeV2.head()"
   ]
  },
  {
   "cell_type": "code",
   "execution_count": 50,
   "metadata": {},
   "outputs": [
    {
     "data": {
      "text/plain": [
       "(6000, 10)"
      ]
     },
     "execution_count": 50,
     "metadata": {},
     "output_type": "execute_result"
    }
   ],
   "source": [
    "Box_officeV2.shape"
   ]
  },
  {
   "cell_type": "code",
   "execution_count": 51,
   "metadata": {},
   "outputs": [
    {
     "data": {
      "text/plain": [
       "Index(['budget', 'country', 'genre', 'gross', 'rating', 'score', 'votes',\n",
       "       'ROI', 'star_names', 'studio_names'],\n",
       "      dtype='object')"
      ]
     },
     "execution_count": 51,
     "metadata": {},
     "output_type": "execute_result"
    }
   ],
   "source": [
    "Box_officeV2.columns"
   ]
  },
  {
   "cell_type": "code",
   "execution_count": 52,
   "metadata": {},
   "outputs": [
    {
     "data": {
      "text/plain": [
       "0    3628\n",
       "1    2372\n",
       "Name: ROI, dtype: int64"
      ]
     },
     "execution_count": 52,
     "metadata": {},
     "output_type": "execute_result"
    }
   ],
   "source": [
    "Box_officeV2['ROI'].value_counts()"
   ]
  },
  {
   "cell_type": "code",
   "execution_count": 53,
   "metadata": {},
   "outputs": [
    {
     "data": {
      "text/plain": [
       "0    0.604667\n",
       "1    0.395333\n",
       "Name: ROI, dtype: float64"
      ]
     },
     "execution_count": 53,
     "metadata": {},
     "output_type": "execute_result"
    }
   ],
   "source": [
    "Box_officeV2['ROI'].value_counts(normalize=True)"
   ]
  },
  {
   "cell_type": "code",
   "execution_count": 54,
   "metadata": {},
   "outputs": [],
   "source": [
    "Box_office_v3 = Box_officeV2.copy()"
   ]
  },
  {
   "cell_type": "code",
   "execution_count": 55,
   "metadata": {},
   "outputs": [
    {
     "data": {
      "text/html": [
       "<div>\n",
       "<style scoped>\n",
       "    .dataframe tbody tr th:only-of-type {\n",
       "        vertical-align: middle;\n",
       "    }\n",
       "\n",
       "    .dataframe tbody tr th {\n",
       "        vertical-align: top;\n",
       "    }\n",
       "\n",
       "    .dataframe thead th {\n",
       "        text-align: right;\n",
       "    }\n",
       "</style>\n",
       "<table border=\"1\" class=\"dataframe\">\n",
       "  <thead>\n",
       "    <tr style=\"text-align: right;\">\n",
       "      <th></th>\n",
       "      <th>budget</th>\n",
       "      <th>country</th>\n",
       "      <th>genre</th>\n",
       "      <th>gross</th>\n",
       "      <th>rating</th>\n",
       "      <th>score</th>\n",
       "      <th>votes</th>\n",
       "      <th>ROI</th>\n",
       "      <th>star_names</th>\n",
       "      <th>studio_names</th>\n",
       "    </tr>\n",
       "  </thead>\n",
       "  <tbody>\n",
       "    <tr>\n",
       "      <th>0</th>\n",
       "      <td>237000000.0</td>\n",
       "      <td>non-USA</td>\n",
       "      <td>Action</td>\n",
       "      <td>760507625.0</td>\n",
       "      <td>PG</td>\n",
       "      <td>7.8</td>\n",
       "      <td>958400</td>\n",
       "      <td>1</td>\n",
       "      <td>Famous</td>\n",
       "      <td>Top_Studio</td>\n",
       "    </tr>\n",
       "    <tr>\n",
       "      <th>1</th>\n",
       "      <td>150000000.0</td>\n",
       "      <td>USA</td>\n",
       "      <td>Action</td>\n",
       "      <td>652270625.0</td>\n",
       "      <td>PG</td>\n",
       "      <td>7.0</td>\n",
       "      <td>470625</td>\n",
       "      <td>1</td>\n",
       "      <td>Famous</td>\n",
       "      <td>Top_Studio</td>\n",
       "    </tr>\n",
       "    <tr>\n",
       "      <th>2</th>\n",
       "      <td>200000000.0</td>\n",
       "      <td>USA</td>\n",
       "      <td>Drama</td>\n",
       "      <td>658672302.0</td>\n",
       "      <td>PG</td>\n",
       "      <td>7.8</td>\n",
       "      <td>865551</td>\n",
       "      <td>1</td>\n",
       "      <td>Famous</td>\n",
       "      <td>Top_Studio</td>\n",
       "    </tr>\n",
       "    <tr>\n",
       "      <th>3</th>\n",
       "      <td>220000000.0</td>\n",
       "      <td>USA</td>\n",
       "      <td>Action</td>\n",
       "      <td>623357910.0</td>\n",
       "      <td>PG</td>\n",
       "      <td>8.1</td>\n",
       "      <td>1069292</td>\n",
       "      <td>1</td>\n",
       "      <td>Famous</td>\n",
       "      <td>Top_Studio</td>\n",
       "    </tr>\n",
       "    <tr>\n",
       "      <th>4</th>\n",
       "      <td>115000000.0</td>\n",
       "      <td>USA</td>\n",
       "      <td>Action</td>\n",
       "      <td>474544677.0</td>\n",
       "      <td>PG</td>\n",
       "      <td>6.5</td>\n",
       "      <td>587113</td>\n",
       "      <td>1</td>\n",
       "      <td>Famous</td>\n",
       "      <td>Top_Studio</td>\n",
       "    </tr>\n",
       "  </tbody>\n",
       "</table>\n",
       "</div>"
      ],
      "text/plain": [
       "        budget  country   genre        gross rating  score    votes  ROI  \\\n",
       "0  237000000.0  non-USA  Action  760507625.0     PG    7.8   958400    1   \n",
       "1  150000000.0      USA  Action  652270625.0     PG    7.0   470625    1   \n",
       "2  200000000.0      USA   Drama  658672302.0     PG    7.8   865551    1   \n",
       "3  220000000.0      USA  Action  623357910.0     PG    8.1  1069292    1   \n",
       "4  115000000.0      USA  Action  474544677.0     PG    6.5   587113    1   \n",
       "\n",
       "  star_names studio_names  \n",
       "0     Famous   Top_Studio  \n",
       "1     Famous   Top_Studio  \n",
       "2     Famous   Top_Studio  \n",
       "3     Famous   Top_Studio  \n",
       "4     Famous   Top_Studio  "
      ]
     },
     "execution_count": 55,
     "metadata": {},
     "output_type": "execute_result"
    }
   ],
   "source": [
    "Box_office_v3.head()"
   ]
  },
  {
   "cell_type": "code",
   "execution_count": 56,
   "metadata": {},
   "outputs": [
    {
     "data": {
      "text/html": [
       "<div>\n",
       "<style scoped>\n",
       "    .dataframe tbody tr th:only-of-type {\n",
       "        vertical-align: middle;\n",
       "    }\n",
       "\n",
       "    .dataframe tbody tr th {\n",
       "        vertical-align: top;\n",
       "    }\n",
       "\n",
       "    .dataframe thead th {\n",
       "        text-align: right;\n",
       "    }\n",
       "</style>\n",
       "<table border=\"1\" class=\"dataframe\">\n",
       "  <thead>\n",
       "    <tr style=\"text-align: right;\">\n",
       "      <th></th>\n",
       "      <th>budget</th>\n",
       "      <th>gross</th>\n",
       "      <th>score</th>\n",
       "      <th>votes</th>\n",
       "      <th>ROI</th>\n",
       "    </tr>\n",
       "  </thead>\n",
       "  <tbody>\n",
       "    <tr>\n",
       "      <th>count</th>\n",
       "      <td>6.000000e+03</td>\n",
       "      <td>6.000000e+03</td>\n",
       "      <td>6000.000000</td>\n",
       "      <td>6.000000e+03</td>\n",
       "      <td>6000.000000</td>\n",
       "    </tr>\n",
       "    <tr>\n",
       "      <th>mean</th>\n",
       "      <td>2.820268e+07</td>\n",
       "      <td>3.341635e+07</td>\n",
       "      <td>6.386383</td>\n",
       "      <td>7.188537e+04</td>\n",
       "      <td>0.395333</td>\n",
       "    </tr>\n",
       "    <tr>\n",
       "      <th>std</th>\n",
       "      <td>3.518927e+07</td>\n",
       "      <td>5.735205e+07</td>\n",
       "      <td>0.994921</td>\n",
       "      <td>1.308033e+05</td>\n",
       "      <td>0.488963</td>\n",
       "    </tr>\n",
       "    <tr>\n",
       "      <th>min</th>\n",
       "      <td>6.000000e+03</td>\n",
       "      <td>4.410000e+02</td>\n",
       "      <td>1.500000</td>\n",
       "      <td>2.700000e+01</td>\n",
       "      <td>0.000000</td>\n",
       "    </tr>\n",
       "    <tr>\n",
       "      <th>25%</th>\n",
       "      <td>1.100000e+07</td>\n",
       "      <td>1.527796e+06</td>\n",
       "      <td>5.800000</td>\n",
       "      <td>7.791750e+03</td>\n",
       "      <td>0.000000</td>\n",
       "    </tr>\n",
       "    <tr>\n",
       "      <th>50%</th>\n",
       "      <td>1.100000e+07</td>\n",
       "      <td>1.229897e+07</td>\n",
       "      <td>6.500000</td>\n",
       "      <td>2.660150e+04</td>\n",
       "      <td>0.000000</td>\n",
       "    </tr>\n",
       "    <tr>\n",
       "      <th>75%</th>\n",
       "      <td>3.262500e+07</td>\n",
       "      <td>4.007256e+07</td>\n",
       "      <td>7.100000</td>\n",
       "      <td>7.677475e+04</td>\n",
       "      <td>1.000000</td>\n",
       "    </tr>\n",
       "    <tr>\n",
       "      <th>max</th>\n",
       "      <td>3.000000e+08</td>\n",
       "      <td>7.605076e+08</td>\n",
       "      <td>9.300000</td>\n",
       "      <td>1.868308e+06</td>\n",
       "      <td>1.000000</td>\n",
       "    </tr>\n",
       "  </tbody>\n",
       "</table>\n",
       "</div>"
      ],
      "text/plain": [
       "             budget         gross        score         votes          ROI\n",
       "count  6.000000e+03  6.000000e+03  6000.000000  6.000000e+03  6000.000000\n",
       "mean   2.820268e+07  3.341635e+07     6.386383  7.188537e+04     0.395333\n",
       "std    3.518927e+07  5.735205e+07     0.994921  1.308033e+05     0.488963\n",
       "min    6.000000e+03  4.410000e+02     1.500000  2.700000e+01     0.000000\n",
       "25%    1.100000e+07  1.527796e+06     5.800000  7.791750e+03     0.000000\n",
       "50%    1.100000e+07  1.229897e+07     6.500000  2.660150e+04     0.000000\n",
       "75%    3.262500e+07  4.007256e+07     7.100000  7.677475e+04     1.000000\n",
       "max    3.000000e+08  7.605076e+08     9.300000  1.868308e+06     1.000000"
      ]
     },
     "execution_count": 56,
     "metadata": {},
     "output_type": "execute_result"
    }
   ],
   "source": [
    "Box_office_v3.describe()"
   ]
  },
  {
   "cell_type": "code",
   "execution_count": 14,
   "metadata": {},
   "outputs": [
    {
     "name": "stdout",
     "output_type": "stream",
     "text": [
      "<class 'pandas.core.frame.DataFrame'>\n",
      "RangeIndex: 6000 entries, 0 to 5999\n",
      "Data columns (total 10 columns):\n",
      " #   Column        Non-Null Count  Dtype  \n",
      "---  ------        --------------  -----  \n",
      " 0   budget        6000 non-null   float64\n",
      " 1   country       6000 non-null   object \n",
      " 2   genre         6000 non-null   object \n",
      " 3   gross         6000 non-null   float64\n",
      " 4   rating        6000 non-null   object \n",
      " 5   score         6000 non-null   float64\n",
      " 6   votes         6000 non-null   int64  \n",
      " 7   ROI           6000 non-null   int64  \n",
      " 8   star_names    6000 non-null   object \n",
      " 9   studio_names  6000 non-null   object \n",
      "dtypes: float64(3), int64(2), object(5)\n",
      "memory usage: 468.9+ KB\n"
     ]
    }
   ],
   "source": [
    "Box_office_v3.info()"
   ]
  },
  {
   "cell_type": "markdown",
   "metadata": {},
   "source": [
    "# Scatter plot for Corr"
   ]
  },
  {
   "cell_type": "code",
   "execution_count": 15,
   "metadata": {
    "scrolled": false
   },
   "outputs": [
    {
     "data": {
      "text/plain": [
       "<AxesSubplot:xlabel='budget', ylabel='gross'>"
      ]
     },
     "execution_count": 15,
     "metadata": {},
     "output_type": "execute_result"
    },
    {
     "data": {
      "image/png": "[encoded data removed]",
      "text/plain": [
       "<Figure size 432x288 with 1 Axes>"
      ]
     },
     "metadata": {},
     "output_type": "display_data"
    }
   ],
   "source": [
    "import pandas as pd\n",
    "import matplotlib.pyplot as plt\n",
    "df  = pd.read_csv(\"Box_office_v2.csv\")\n",
    "df.plot(kind='scatter',x='budget',y='gross', color=(Box_office_v3['ROI'])) # scatter plot\n",
    "#plt.legend()"
   ]
  },
  {
   "cell_type": "markdown",
   "metadata": {},
   "source": [
    "# One hot encoding"
   ]
  },
  {
   "cell_type": "code",
   "execution_count": 57,
   "metadata": {},
   "outputs": [
    {
     "data": {
      "text/html": [
       "<div>\n",
       "<style scoped>\n",
       "    .dataframe tbody tr th:only-of-type {\n",
       "        vertical-align: middle;\n",
       "    }\n",
       "\n",
       "    .dataframe tbody tr th {\n",
       "        vertical-align: top;\n",
       "    }\n",
       "\n",
       "    .dataframe thead th {\n",
       "        text-align: right;\n",
       "    }\n",
       "</style>\n",
       "<table border=\"1\" class=\"dataframe\">\n",
       "  <thead>\n",
       "    <tr style=\"text-align: right;\">\n",
       "      <th></th>\n",
       "      <th>budget</th>\n",
       "      <th>country</th>\n",
       "      <th>genre</th>\n",
       "      <th>gross</th>\n",
       "      <th>rating</th>\n",
       "      <th>score</th>\n",
       "      <th>votes</th>\n",
       "      <th>ROI</th>\n",
       "      <th>star_names</th>\n",
       "      <th>studio_names</th>\n",
       "    </tr>\n",
       "  </thead>\n",
       "  <tbody>\n",
       "    <tr>\n",
       "      <th>0</th>\n",
       "      <td>237000000.0</td>\n",
       "      <td>non-USA</td>\n",
       "      <td>Action</td>\n",
       "      <td>760507625.0</td>\n",
       "      <td>PG</td>\n",
       "      <td>7.8</td>\n",
       "      <td>958400</td>\n",
       "      <td>1</td>\n",
       "      <td>Famous</td>\n",
       "      <td>Top_Studio</td>\n",
       "    </tr>\n",
       "    <tr>\n",
       "      <th>1</th>\n",
       "      <td>150000000.0</td>\n",
       "      <td>USA</td>\n",
       "      <td>Action</td>\n",
       "      <td>652270625.0</td>\n",
       "      <td>PG</td>\n",
       "      <td>7.0</td>\n",
       "      <td>470625</td>\n",
       "      <td>1</td>\n",
       "      <td>Famous</td>\n",
       "      <td>Top_Studio</td>\n",
       "    </tr>\n",
       "    <tr>\n",
       "      <th>2</th>\n",
       "      <td>200000000.0</td>\n",
       "      <td>USA</td>\n",
       "      <td>Drama</td>\n",
       "      <td>658672302.0</td>\n",
       "      <td>PG</td>\n",
       "      <td>7.8</td>\n",
       "      <td>865551</td>\n",
       "      <td>1</td>\n",
       "      <td>Famous</td>\n",
       "      <td>Top_Studio</td>\n",
       "    </tr>\n",
       "    <tr>\n",
       "      <th>3</th>\n",
       "      <td>220000000.0</td>\n",
       "      <td>USA</td>\n",
       "      <td>Action</td>\n",
       "      <td>623357910.0</td>\n",
       "      <td>PG</td>\n",
       "      <td>8.1</td>\n",
       "      <td>1069292</td>\n",
       "      <td>1</td>\n",
       "      <td>Famous</td>\n",
       "      <td>Top_Studio</td>\n",
       "    </tr>\n",
       "    <tr>\n",
       "      <th>4</th>\n",
       "      <td>115000000.0</td>\n",
       "      <td>USA</td>\n",
       "      <td>Action</td>\n",
       "      <td>474544677.0</td>\n",
       "      <td>PG</td>\n",
       "      <td>6.5</td>\n",
       "      <td>587113</td>\n",
       "      <td>1</td>\n",
       "      <td>Famous</td>\n",
       "      <td>Top_Studio</td>\n",
       "    </tr>\n",
       "    <tr>\n",
       "      <th>...</th>\n",
       "      <td>...</td>\n",
       "      <td>...</td>\n",
       "      <td>...</td>\n",
       "      <td>...</td>\n",
       "      <td>...</td>\n",
       "      <td>...</td>\n",
       "      <td>...</td>\n",
       "      <td>...</td>\n",
       "      <td>...</td>\n",
       "      <td>...</td>\n",
       "    </tr>\n",
       "    <tr>\n",
       "      <th>5995</th>\n",
       "      <td>176000000.0</td>\n",
       "      <td>USA</td>\n",
       "      <td>Action</td>\n",
       "      <td>47387723.0</td>\n",
       "      <td>PG</td>\n",
       "      <td>5.3</td>\n",
       "      <td>154144</td>\n",
       "      <td>0</td>\n",
       "      <td>Not-Famous</td>\n",
       "      <td>Low-Studio</td>\n",
       "    </tr>\n",
       "    <tr>\n",
       "      <th>5996</th>\n",
       "      <td>195000000.0</td>\n",
       "      <td>USA</td>\n",
       "      <td>Others</td>\n",
       "      <td>65187603.0</td>\n",
       "      <td>PG</td>\n",
       "      <td>6.3</td>\n",
       "      <td>114307</td>\n",
       "      <td>0</td>\n",
       "      <td>Not-Famous</td>\n",
       "      <td>Low-Studio</td>\n",
       "    </tr>\n",
       "    <tr>\n",
       "      <th>5997</th>\n",
       "      <td>175000000.0</td>\n",
       "      <td>USA</td>\n",
       "      <td>Action</td>\n",
       "      <td>38362475.0</td>\n",
       "      <td>PG</td>\n",
       "      <td>6.3</td>\n",
       "      <td>126315</td>\n",
       "      <td>0</td>\n",
       "      <td>Not-Famous</td>\n",
       "      <td>Low-Studio</td>\n",
       "    </tr>\n",
       "    <tr>\n",
       "      <th>5998</th>\n",
       "      <td>209000000.0</td>\n",
       "      <td>USA</td>\n",
       "      <td>Action</td>\n",
       "      <td>65422625.0</td>\n",
       "      <td>PG</td>\n",
       "      <td>5.8</td>\n",
       "      <td>214631</td>\n",
       "      <td>0</td>\n",
       "      <td>Not-Famous</td>\n",
       "      <td>Low-Studio</td>\n",
       "    </tr>\n",
       "    <tr>\n",
       "      <th>5999</th>\n",
       "      <td>250000000.0</td>\n",
       "      <td>USA</td>\n",
       "      <td>Action</td>\n",
       "      <td>73078100.0</td>\n",
       "      <td>PG</td>\n",
       "      <td>6.6</td>\n",
       "      <td>224996</td>\n",
       "      <td>0</td>\n",
       "      <td>Not-Famous</td>\n",
       "      <td>Low-Studio</td>\n",
       "    </tr>\n",
       "  </tbody>\n",
       "</table>\n",
       "<p>6000 rows × 10 columns</p>\n",
       "</div>"
      ],
      "text/plain": [
       "           budget  country   genre        gross rating  score    votes  ROI  \\\n",
       "0     237000000.0  non-USA  Action  760507625.0     PG    7.8   958400    1   \n",
       "1     150000000.0      USA  Action  652270625.0     PG    7.0   470625    1   \n",
       "2     200000000.0      USA   Drama  658672302.0     PG    7.8   865551    1   \n",
       "3     220000000.0      USA  Action  623357910.0     PG    8.1  1069292    1   \n",
       "4     115000000.0      USA  Action  474544677.0     PG    6.5   587113    1   \n",
       "...           ...      ...     ...          ...    ...    ...      ...  ...   \n",
       "5995  176000000.0      USA  Action   47387723.0     PG    5.3   154144    0   \n",
       "5996  195000000.0      USA  Others   65187603.0     PG    6.3   114307    0   \n",
       "5997  175000000.0      USA  Action   38362475.0     PG    6.3   126315    0   \n",
       "5998  209000000.0      USA  Action   65422625.0     PG    5.8   214631    0   \n",
       "5999  250000000.0      USA  Action   73078100.0     PG    6.6   224996    0   \n",
       "\n",
       "      star_names studio_names  \n",
       "0         Famous   Top_Studio  \n",
       "1         Famous   Top_Studio  \n",
       "2         Famous   Top_Studio  \n",
       "3         Famous   Top_Studio  \n",
       "4         Famous   Top_Studio  \n",
       "...          ...          ...  \n",
       "5995  Not-Famous   Low-Studio  \n",
       "5996  Not-Famous   Low-Studio  \n",
       "5997  Not-Famous   Low-Studio  \n",
       "5998  Not-Famous   Low-Studio  \n",
       "5999  Not-Famous   Low-Studio  \n",
       "\n",
       "[6000 rows x 10 columns]"
      ]
     },
     "execution_count": 57,
     "metadata": {},
     "output_type": "execute_result"
    }
   ],
   "source": [
    "Box_office_copy = Box_office_v3.copy()\n",
    "Box_office_copy"
   ]
  },
  {
   "cell_type": "code",
   "execution_count": 58,
   "metadata": {},
   "outputs": [
    {
     "data": {
      "text/plain": [
       "Index(['country', 'genre', 'rating', 'star_names', 'studio_names'], dtype='object')"
      ]
     },
     "execution_count": 58,
     "metadata": {},
     "output_type": "execute_result"
    }
   ],
   "source": [
    "data_column_category = Box_office_copy.select_dtypes(exclude=[np.number]).columns\n",
    "data_column_category"
   ]
  },
  {
   "cell_type": "code",
   "execution_count": 59,
   "metadata": {},
   "outputs": [],
   "source": [
    "#Performing Onehot Encoding\n",
    "from sklearn.preprocessing import OneHotEncoder\n",
    "onehot_encoder = OneHotEncoder(sparse=False)\n",
    "\n",
    "onehot_encoded = onehot_encoder.fit_transform(Box_office_copy[data_column_category])"
   ]
  },
  {
   "cell_type": "code",
   "execution_count": 60,
   "metadata": {},
   "outputs": [
    {
     "data": {
      "text/html": [
       "<div>\n",
       "<style scoped>\n",
       "    .dataframe tbody tr th:only-of-type {\n",
       "        vertical-align: middle;\n",
       "    }\n",
       "\n",
       "    .dataframe tbody tr th {\n",
       "        vertical-align: top;\n",
       "    }\n",
       "\n",
       "    .dataframe thead th {\n",
       "        text-align: right;\n",
       "    }\n",
       "</style>\n",
       "<table border=\"1\" class=\"dataframe\">\n",
       "  <thead>\n",
       "    <tr style=\"text-align: right;\">\n",
       "      <th></th>\n",
       "      <th>country_USA</th>\n",
       "      <th>country_non-USA</th>\n",
       "      <th>genre_Action</th>\n",
       "      <th>genre_Comedy</th>\n",
       "      <th>genre_Drama</th>\n",
       "      <th>genre_Others</th>\n",
       "      <th>rating_NR</th>\n",
       "      <th>rating_PG</th>\n",
       "      <th>rating_R</th>\n",
       "      <th>star_names_Famous</th>\n",
       "      <th>star_names_Not-Famous</th>\n",
       "      <th>studio_names_Low-Studio</th>\n",
       "      <th>studio_names_Top_Studio</th>\n",
       "    </tr>\n",
       "  </thead>\n",
       "  <tbody>\n",
       "    <tr>\n",
       "      <th>0</th>\n",
       "      <td>0.0</td>\n",
       "      <td>1.0</td>\n",
       "      <td>1.0</td>\n",
       "      <td>0.0</td>\n",
       "      <td>0.0</td>\n",
       "      <td>0.0</td>\n",
       "      <td>0.0</td>\n",
       "      <td>1.0</td>\n",
       "      <td>0.0</td>\n",
       "      <td>1.0</td>\n",
       "      <td>0.0</td>\n",
       "      <td>0.0</td>\n",
       "      <td>1.0</td>\n",
       "    </tr>\n",
       "    <tr>\n",
       "      <th>1</th>\n",
       "      <td>1.0</td>\n",
       "      <td>0.0</td>\n",
       "      <td>1.0</td>\n",
       "      <td>0.0</td>\n",
       "      <td>0.0</td>\n",
       "      <td>0.0</td>\n",
       "      <td>0.0</td>\n",
       "      <td>1.0</td>\n",
       "      <td>0.0</td>\n",
       "      <td>1.0</td>\n",
       "      <td>0.0</td>\n",
       "      <td>0.0</td>\n",
       "      <td>1.0</td>\n",
       "    </tr>\n",
       "    <tr>\n",
       "      <th>2</th>\n",
       "      <td>1.0</td>\n",
       "      <td>0.0</td>\n",
       "      <td>0.0</td>\n",
       "      <td>0.0</td>\n",
       "      <td>1.0</td>\n",
       "      <td>0.0</td>\n",
       "      <td>0.0</td>\n",
       "      <td>1.0</td>\n",
       "      <td>0.0</td>\n",
       "      <td>1.0</td>\n",
       "      <td>0.0</td>\n",
       "      <td>0.0</td>\n",
       "      <td>1.0</td>\n",
       "    </tr>\n",
       "    <tr>\n",
       "      <th>3</th>\n",
       "      <td>1.0</td>\n",
       "      <td>0.0</td>\n",
       "      <td>1.0</td>\n",
       "      <td>0.0</td>\n",
       "      <td>0.0</td>\n",
       "      <td>0.0</td>\n",
       "      <td>0.0</td>\n",
       "      <td>1.0</td>\n",
       "      <td>0.0</td>\n",
       "      <td>1.0</td>\n",
       "      <td>0.0</td>\n",
       "      <td>0.0</td>\n",
       "      <td>1.0</td>\n",
       "    </tr>\n",
       "    <tr>\n",
       "      <th>4</th>\n",
       "      <td>1.0</td>\n",
       "      <td>0.0</td>\n",
       "      <td>1.0</td>\n",
       "      <td>0.0</td>\n",
       "      <td>0.0</td>\n",
       "      <td>0.0</td>\n",
       "      <td>0.0</td>\n",
       "      <td>1.0</td>\n",
       "      <td>0.0</td>\n",
       "      <td>1.0</td>\n",
       "      <td>0.0</td>\n",
       "      <td>0.0</td>\n",
       "      <td>1.0</td>\n",
       "    </tr>\n",
       "  </tbody>\n",
       "</table>\n",
       "</div>"
      ],
      "text/plain": [
       "   country_USA  country_non-USA  genre_Action  genre_Comedy  genre_Drama  \\\n",
       "0          0.0              1.0           1.0           0.0          0.0   \n",
       "1          1.0              0.0           1.0           0.0          0.0   \n",
       "2          1.0              0.0           0.0           0.0          1.0   \n",
       "3          1.0              0.0           1.0           0.0          0.0   \n",
       "4          1.0              0.0           1.0           0.0          0.0   \n",
       "\n",
       "   genre_Others  rating_NR  rating_PG  rating_R  star_names_Famous  \\\n",
       "0           0.0        0.0        1.0       0.0                1.0   \n",
       "1           0.0        0.0        1.0       0.0                1.0   \n",
       "2           0.0        0.0        1.0       0.0                1.0   \n",
       "3           0.0        0.0        1.0       0.0                1.0   \n",
       "4           0.0        0.0        1.0       0.0                1.0   \n",
       "\n",
       "   star_names_Not-Famous  studio_names_Low-Studio  studio_names_Top_Studio  \n",
       "0                    0.0                      0.0                      1.0  \n",
       "1                    0.0                      0.0                      1.0  \n",
       "2                    0.0                      0.0                      1.0  \n",
       "3                    0.0                      0.0                      1.0  \n",
       "4                    0.0                      0.0                      1.0  "
      ]
     },
     "execution_count": 60,
     "metadata": {},
     "output_type": "execute_result"
    }
   ],
   "source": [
    "onehot_encoded_frame = pd.DataFrame(onehot_encoded, columns = onehot_encoder.get_feature_names(data_column_category))\n",
    "\n",
    "onehot_encoded_frame.head()"
   ]
  },
  {
   "cell_type": "code",
   "execution_count": 61,
   "metadata": {},
   "outputs": [
    {
     "data": {
      "text/plain": [
       "['budget', 'gross', 'score', 'votes', 'ROI']"
      ]
     },
     "execution_count": 61,
     "metadata": {},
     "output_type": "execute_result"
    }
   ],
   "source": [
    "cols_types = Box_office_copy.dtypes != 'object'\n",
    "inds = cols_types.index\n",
    "numeric_cols = []\n",
    "for i, col in enumerate(cols_types):\n",
    "    if col:\n",
    "        numeric_cols.append(inds[i])\n",
    "numeric_cols"
   ]
  },
  {
   "cell_type": "code",
   "execution_count": 62,
   "metadata": {},
   "outputs": [],
   "source": [
    "numeric_cols =  Box_office_copy.loc[:, numeric_cols]"
   ]
  },
  {
   "cell_type": "code",
   "execution_count": 63,
   "metadata": {},
   "outputs": [
    {
     "data": {
      "text/plain": [
       "Index(['country_USA', 'country_non-USA', 'genre_Action', 'genre_Comedy',\n",
       "       'genre_Drama', 'genre_Others', 'rating_NR', 'rating_PG', 'rating_R',\n",
       "       'star_names_Famous', 'star_names_Not-Famous', 'studio_names_Low-Studio',\n",
       "       'studio_names_Top_Studio'],\n",
       "      dtype='object')"
      ]
     },
     "execution_count": 63,
     "metadata": {},
     "output_type": "execute_result"
    }
   ],
   "source": [
    "onehot_encoded_frame.columns"
   ]
  },
  {
   "cell_type": "markdown",
   "metadata": {},
   "source": [
    "# Concatenate Cat & Transformed One-Hot encoded data"
   ]
  },
  {
   "cell_type": "code",
   "execution_count": 64,
   "metadata": {},
   "outputs": [
    {
     "data": {
      "text/html": [
       "<div>\n",
       "<style scoped>\n",
       "    .dataframe tbody tr th:only-of-type {\n",
       "        vertical-align: middle;\n",
       "    }\n",
       "\n",
       "    .dataframe tbody tr th {\n",
       "        vertical-align: top;\n",
       "    }\n",
       "\n",
       "    .dataframe thead th {\n",
       "        text-align: right;\n",
       "    }\n",
       "</style>\n",
       "<table border=\"1\" class=\"dataframe\">\n",
       "  <thead>\n",
       "    <tr style=\"text-align: right;\">\n",
       "      <th></th>\n",
       "      <th>budget</th>\n",
       "      <th>gross</th>\n",
       "      <th>score</th>\n",
       "      <th>votes</th>\n",
       "      <th>ROI</th>\n",
       "      <th>country_USA</th>\n",
       "      <th>country_non-USA</th>\n",
       "      <th>genre_Action</th>\n",
       "      <th>genre_Comedy</th>\n",
       "      <th>genre_Drama</th>\n",
       "      <th>genre_Others</th>\n",
       "      <th>rating_NR</th>\n",
       "      <th>rating_PG</th>\n",
       "      <th>rating_R</th>\n",
       "      <th>star_names_Famous</th>\n",
       "      <th>star_names_Not-Famous</th>\n",
       "      <th>studio_names_Low-Studio</th>\n",
       "      <th>studio_names_Top_Studio</th>\n",
       "    </tr>\n",
       "  </thead>\n",
       "  <tbody>\n",
       "    <tr>\n",
       "      <th>0</th>\n",
       "      <td>237000000.0</td>\n",
       "      <td>760507625.0</td>\n",
       "      <td>7.8</td>\n",
       "      <td>958400</td>\n",
       "      <td>1</td>\n",
       "      <td>0.0</td>\n",
       "      <td>1.0</td>\n",
       "      <td>1.0</td>\n",
       "      <td>0.0</td>\n",
       "      <td>0.0</td>\n",
       "      <td>0.0</td>\n",
       "      <td>0.0</td>\n",
       "      <td>1.0</td>\n",
       "      <td>0.0</td>\n",
       "      <td>1.0</td>\n",
       "      <td>0.0</td>\n",
       "      <td>0.0</td>\n",
       "      <td>1.0</td>\n",
       "    </tr>\n",
       "    <tr>\n",
       "      <th>1</th>\n",
       "      <td>150000000.0</td>\n",
       "      <td>652270625.0</td>\n",
       "      <td>7.0</td>\n",
       "      <td>470625</td>\n",
       "      <td>1</td>\n",
       "      <td>1.0</td>\n",
       "      <td>0.0</td>\n",
       "      <td>1.0</td>\n",
       "      <td>0.0</td>\n",
       "      <td>0.0</td>\n",
       "      <td>0.0</td>\n",
       "      <td>0.0</td>\n",
       "      <td>1.0</td>\n",
       "      <td>0.0</td>\n",
       "      <td>1.0</td>\n",
       "      <td>0.0</td>\n",
       "      <td>0.0</td>\n",
       "      <td>1.0</td>\n",
       "    </tr>\n",
       "    <tr>\n",
       "      <th>2</th>\n",
       "      <td>200000000.0</td>\n",
       "      <td>658672302.0</td>\n",
       "      <td>7.8</td>\n",
       "      <td>865551</td>\n",
       "      <td>1</td>\n",
       "      <td>1.0</td>\n",
       "      <td>0.0</td>\n",
       "      <td>0.0</td>\n",
       "      <td>0.0</td>\n",
       "      <td>1.0</td>\n",
       "      <td>0.0</td>\n",
       "      <td>0.0</td>\n",
       "      <td>1.0</td>\n",
       "      <td>0.0</td>\n",
       "      <td>1.0</td>\n",
       "      <td>0.0</td>\n",
       "      <td>0.0</td>\n",
       "      <td>1.0</td>\n",
       "    </tr>\n",
       "    <tr>\n",
       "      <th>3</th>\n",
       "      <td>220000000.0</td>\n",
       "      <td>623357910.0</td>\n",
       "      <td>8.1</td>\n",
       "      <td>1069292</td>\n",
       "      <td>1</td>\n",
       "      <td>1.0</td>\n",
       "      <td>0.0</td>\n",
       "      <td>1.0</td>\n",
       "      <td>0.0</td>\n",
       "      <td>0.0</td>\n",
       "      <td>0.0</td>\n",
       "      <td>0.0</td>\n",
       "      <td>1.0</td>\n",
       "      <td>0.0</td>\n",
       "      <td>1.0</td>\n",
       "      <td>0.0</td>\n",
       "      <td>0.0</td>\n",
       "      <td>1.0</td>\n",
       "    </tr>\n",
       "    <tr>\n",
       "      <th>4</th>\n",
       "      <td>115000000.0</td>\n",
       "      <td>474544677.0</td>\n",
       "      <td>6.5</td>\n",
       "      <td>587113</td>\n",
       "      <td>1</td>\n",
       "      <td>1.0</td>\n",
       "      <td>0.0</td>\n",
       "      <td>1.0</td>\n",
       "      <td>0.0</td>\n",
       "      <td>0.0</td>\n",
       "      <td>0.0</td>\n",
       "      <td>0.0</td>\n",
       "      <td>1.0</td>\n",
       "      <td>0.0</td>\n",
       "      <td>1.0</td>\n",
       "      <td>0.0</td>\n",
       "      <td>0.0</td>\n",
       "      <td>1.0</td>\n",
       "    </tr>\n",
       "    <tr>\n",
       "      <th>...</th>\n",
       "      <td>...</td>\n",
       "      <td>...</td>\n",
       "      <td>...</td>\n",
       "      <td>...</td>\n",
       "      <td>...</td>\n",
       "      <td>...</td>\n",
       "      <td>...</td>\n",
       "      <td>...</td>\n",
       "      <td>...</td>\n",
       "      <td>...</td>\n",
       "      <td>...</td>\n",
       "      <td>...</td>\n",
       "      <td>...</td>\n",
       "      <td>...</td>\n",
       "      <td>...</td>\n",
       "      <td>...</td>\n",
       "      <td>...</td>\n",
       "      <td>...</td>\n",
       "    </tr>\n",
       "    <tr>\n",
       "      <th>5995</th>\n",
       "      <td>176000000.0</td>\n",
       "      <td>47387723.0</td>\n",
       "      <td>5.3</td>\n",
       "      <td>154144</td>\n",
       "      <td>0</td>\n",
       "      <td>1.0</td>\n",
       "      <td>0.0</td>\n",
       "      <td>1.0</td>\n",
       "      <td>0.0</td>\n",
       "      <td>0.0</td>\n",
       "      <td>0.0</td>\n",
       "      <td>0.0</td>\n",
       "      <td>1.0</td>\n",
       "      <td>0.0</td>\n",
       "      <td>0.0</td>\n",
       "      <td>1.0</td>\n",
       "      <td>1.0</td>\n",
       "      <td>0.0</td>\n",
       "    </tr>\n",
       "    <tr>\n",
       "      <th>5996</th>\n",
       "      <td>195000000.0</td>\n",
       "      <td>65187603.0</td>\n",
       "      <td>6.3</td>\n",
       "      <td>114307</td>\n",
       "      <td>0</td>\n",
       "      <td>1.0</td>\n",
       "      <td>0.0</td>\n",
       "      <td>0.0</td>\n",
       "      <td>0.0</td>\n",
       "      <td>0.0</td>\n",
       "      <td>1.0</td>\n",
       "      <td>0.0</td>\n",
       "      <td>1.0</td>\n",
       "      <td>0.0</td>\n",
       "      <td>0.0</td>\n",
       "      <td>1.0</td>\n",
       "      <td>1.0</td>\n",
       "      <td>0.0</td>\n",
       "    </tr>\n",
       "    <tr>\n",
       "      <th>5997</th>\n",
       "      <td>175000000.0</td>\n",
       "      <td>38362475.0</td>\n",
       "      <td>6.3</td>\n",
       "      <td>126315</td>\n",
       "      <td>0</td>\n",
       "      <td>1.0</td>\n",
       "      <td>0.0</td>\n",
       "      <td>1.0</td>\n",
       "      <td>0.0</td>\n",
       "      <td>0.0</td>\n",
       "      <td>0.0</td>\n",
       "      <td>0.0</td>\n",
       "      <td>1.0</td>\n",
       "      <td>0.0</td>\n",
       "      <td>0.0</td>\n",
       "      <td>1.0</td>\n",
       "      <td>1.0</td>\n",
       "      <td>0.0</td>\n",
       "    </tr>\n",
       "    <tr>\n",
       "      <th>5998</th>\n",
       "      <td>209000000.0</td>\n",
       "      <td>65422625.0</td>\n",
       "      <td>5.8</td>\n",
       "      <td>214631</td>\n",
       "      <td>0</td>\n",
       "      <td>1.0</td>\n",
       "      <td>0.0</td>\n",
       "      <td>1.0</td>\n",
       "      <td>0.0</td>\n",
       "      <td>0.0</td>\n",
       "      <td>0.0</td>\n",
       "      <td>0.0</td>\n",
       "      <td>1.0</td>\n",
       "      <td>0.0</td>\n",
       "      <td>0.0</td>\n",
       "      <td>1.0</td>\n",
       "      <td>1.0</td>\n",
       "      <td>0.0</td>\n",
       "    </tr>\n",
       "    <tr>\n",
       "      <th>5999</th>\n",
       "      <td>250000000.0</td>\n",
       "      <td>73078100.0</td>\n",
       "      <td>6.6</td>\n",
       "      <td>224996</td>\n",
       "      <td>0</td>\n",
       "      <td>1.0</td>\n",
       "      <td>0.0</td>\n",
       "      <td>1.0</td>\n",
       "      <td>0.0</td>\n",
       "      <td>0.0</td>\n",
       "      <td>0.0</td>\n",
       "      <td>0.0</td>\n",
       "      <td>1.0</td>\n",
       "      <td>0.0</td>\n",
       "      <td>0.0</td>\n",
       "      <td>1.0</td>\n",
       "      <td>1.0</td>\n",
       "      <td>0.0</td>\n",
       "    </tr>\n",
       "  </tbody>\n",
       "</table>\n",
       "<p>6000 rows × 18 columns</p>\n",
       "</div>"
      ],
      "text/plain": [
       "           budget        gross  score    votes  ROI  country_USA  \\\n",
       "0     237000000.0  760507625.0    7.8   958400    1          0.0   \n",
       "1     150000000.0  652270625.0    7.0   470625    1          1.0   \n",
       "2     200000000.0  658672302.0    7.8   865551    1          1.0   \n",
       "3     220000000.0  623357910.0    8.1  1069292    1          1.0   \n",
       "4     115000000.0  474544677.0    6.5   587113    1          1.0   \n",
       "...           ...          ...    ...      ...  ...          ...   \n",
       "5995  176000000.0   47387723.0    5.3   154144    0          1.0   \n",
       "5996  195000000.0   65187603.0    6.3   114307    0          1.0   \n",
       "5997  175000000.0   38362475.0    6.3   126315    0          1.0   \n",
       "5998  209000000.0   65422625.0    5.8   214631    0          1.0   \n",
       "5999  250000000.0   73078100.0    6.6   224996    0          1.0   \n",
       "\n",
       "      country_non-USA  genre_Action  genre_Comedy  genre_Drama  genre_Others  \\\n",
       "0                 1.0           1.0           0.0          0.0           0.0   \n",
       "1                 0.0           1.0           0.0          0.0           0.0   \n",
       "2                 0.0           0.0           0.0          1.0           0.0   \n",
       "3                 0.0           1.0           0.0          0.0           0.0   \n",
       "4                 0.0           1.0           0.0          0.0           0.0   \n",
       "...               ...           ...           ...          ...           ...   \n",
       "5995              0.0           1.0           0.0          0.0           0.0   \n",
       "5996              0.0           0.0           0.0          0.0           1.0   \n",
       "5997              0.0           1.0           0.0          0.0           0.0   \n",
       "5998              0.0           1.0           0.0          0.0           0.0   \n",
       "5999              0.0           1.0           0.0          0.0           0.0   \n",
       "\n",
       "      rating_NR  rating_PG  rating_R  star_names_Famous  \\\n",
       "0           0.0        1.0       0.0                1.0   \n",
       "1           0.0        1.0       0.0                1.0   \n",
       "2           0.0        1.0       0.0                1.0   \n",
       "3           0.0        1.0       0.0                1.0   \n",
       "4           0.0        1.0       0.0                1.0   \n",
       "...         ...        ...       ...                ...   \n",
       "5995        0.0        1.0       0.0                0.0   \n",
       "5996        0.0        1.0       0.0                0.0   \n",
       "5997        0.0        1.0       0.0                0.0   \n",
       "5998        0.0        1.0       0.0                0.0   \n",
       "5999        0.0        1.0       0.0                0.0   \n",
       "\n",
       "      star_names_Not-Famous  studio_names_Low-Studio  studio_names_Top_Studio  \n",
       "0                       0.0                      0.0                      1.0  \n",
       "1                       0.0                      0.0                      1.0  \n",
       "2                       0.0                      0.0                      1.0  \n",
       "3                       0.0                      0.0                      1.0  \n",
       "4                       0.0                      0.0                      1.0  \n",
       "...                     ...                      ...                      ...  \n",
       "5995                    1.0                      1.0                      0.0  \n",
       "5996                    1.0                      1.0                      0.0  \n",
       "5997                    1.0                      1.0                      0.0  \n",
       "5998                    1.0                      1.0                      0.0  \n",
       "5999                    1.0                      1.0                      0.0  \n",
       "\n",
       "[6000 rows x 18 columns]"
      ]
     },
     "execution_count": 64,
     "metadata": {},
     "output_type": "execute_result"
    }
   ],
   "source": [
    "Box_office_copy = pd.concat([numeric_cols,onehot_encoded_frame], axis=1, sort= False)\n",
    "Box_office_copy"
   ]
  },
  {
   "cell_type": "code",
   "execution_count": 65,
   "metadata": {},
   "outputs": [
    {
     "data": {
      "text/plain": [
       "(6000, 18)"
      ]
     },
     "execution_count": 65,
     "metadata": {},
     "output_type": "execute_result"
    }
   ],
   "source": [
    "Box_office_copy.shape"
   ]
  },
  {
   "cell_type": "markdown",
   "metadata": {},
   "source": [
    "# Saving V3"
   ]
  },
  {
   "cell_type": "code",
   "execution_count": 66,
   "metadata": {},
   "outputs": [],
   "source": [
    " Box_office_copy.to_csv(\"Box_office_v3.csv\")"
   ]
  },
  {
   "cell_type": "code",
   "execution_count": 67,
   "metadata": {},
   "outputs": [
    {
     "data": {
      "text/html": [
       "<div>\n",
       "<style scoped>\n",
       "    .dataframe tbody tr th:only-of-type {\n",
       "        vertical-align: middle;\n",
       "    }\n",
       "\n",
       "    .dataframe tbody tr th {\n",
       "        vertical-align: top;\n",
       "    }\n",
       "\n",
       "    .dataframe thead th {\n",
       "        text-align: right;\n",
       "    }\n",
       "</style>\n",
       "<table border=\"1\" class=\"dataframe\">\n",
       "  <thead>\n",
       "    <tr style=\"text-align: right;\">\n",
       "      <th></th>\n",
       "      <th>Unnamed: 0</th>\n",
       "      <th>budget</th>\n",
       "      <th>gross</th>\n",
       "      <th>score</th>\n",
       "      <th>votes</th>\n",
       "      <th>ROI</th>\n",
       "      <th>country_USA</th>\n",
       "      <th>country_non-USA</th>\n",
       "      <th>genre_Action</th>\n",
       "      <th>genre_Comedy</th>\n",
       "      <th>genre_Drama</th>\n",
       "      <th>genre_Others</th>\n",
       "      <th>rating_NR</th>\n",
       "      <th>rating_PG</th>\n",
       "      <th>rating_R</th>\n",
       "      <th>star_names_Famous</th>\n",
       "      <th>star_names_Not-Famous</th>\n",
       "      <th>studio_names_Low-Studio</th>\n",
       "      <th>studio_names_Top_Studio</th>\n",
       "    </tr>\n",
       "  </thead>\n",
       "  <tbody>\n",
       "    <tr>\n",
       "      <th>0</th>\n",
       "      <td>0</td>\n",
       "      <td>237000000.0</td>\n",
       "      <td>760507625.0</td>\n",
       "      <td>7.8</td>\n",
       "      <td>958400</td>\n",
       "      <td>1</td>\n",
       "      <td>0.0</td>\n",
       "      <td>1.0</td>\n",
       "      <td>1.0</td>\n",
       "      <td>0.0</td>\n",
       "      <td>0.0</td>\n",
       "      <td>0.0</td>\n",
       "      <td>0.0</td>\n",
       "      <td>1.0</td>\n",
       "      <td>0.0</td>\n",
       "      <td>1.0</td>\n",
       "      <td>0.0</td>\n",
       "      <td>0.0</td>\n",
       "      <td>1.0</td>\n",
       "    </tr>\n",
       "    <tr>\n",
       "      <th>1</th>\n",
       "      <td>1</td>\n",
       "      <td>150000000.0</td>\n",
       "      <td>652270625.0</td>\n",
       "      <td>7.0</td>\n",
       "      <td>470625</td>\n",
       "      <td>1</td>\n",
       "      <td>1.0</td>\n",
       "      <td>0.0</td>\n",
       "      <td>1.0</td>\n",
       "      <td>0.0</td>\n",
       "      <td>0.0</td>\n",
       "      <td>0.0</td>\n",
       "      <td>0.0</td>\n",
       "      <td>1.0</td>\n",
       "      <td>0.0</td>\n",
       "      <td>1.0</td>\n",
       "      <td>0.0</td>\n",
       "      <td>0.0</td>\n",
       "      <td>1.0</td>\n",
       "    </tr>\n",
       "    <tr>\n",
       "      <th>2</th>\n",
       "      <td>2</td>\n",
       "      <td>200000000.0</td>\n",
       "      <td>658672302.0</td>\n",
       "      <td>7.8</td>\n",
       "      <td>865551</td>\n",
       "      <td>1</td>\n",
       "      <td>1.0</td>\n",
       "      <td>0.0</td>\n",
       "      <td>0.0</td>\n",
       "      <td>0.0</td>\n",
       "      <td>1.0</td>\n",
       "      <td>0.0</td>\n",
       "      <td>0.0</td>\n",
       "      <td>1.0</td>\n",
       "      <td>0.0</td>\n",
       "      <td>1.0</td>\n",
       "      <td>0.0</td>\n",
       "      <td>0.0</td>\n",
       "      <td>1.0</td>\n",
       "    </tr>\n",
       "    <tr>\n",
       "      <th>3</th>\n",
       "      <td>3</td>\n",
       "      <td>220000000.0</td>\n",
       "      <td>623357910.0</td>\n",
       "      <td>8.1</td>\n",
       "      <td>1069292</td>\n",
       "      <td>1</td>\n",
       "      <td>1.0</td>\n",
       "      <td>0.0</td>\n",
       "      <td>1.0</td>\n",
       "      <td>0.0</td>\n",
       "      <td>0.0</td>\n",
       "      <td>0.0</td>\n",
       "      <td>0.0</td>\n",
       "      <td>1.0</td>\n",
       "      <td>0.0</td>\n",
       "      <td>1.0</td>\n",
       "      <td>0.0</td>\n",
       "      <td>0.0</td>\n",
       "      <td>1.0</td>\n",
       "    </tr>\n",
       "    <tr>\n",
       "      <th>4</th>\n",
       "      <td>4</td>\n",
       "      <td>115000000.0</td>\n",
       "      <td>474544677.0</td>\n",
       "      <td>6.5</td>\n",
       "      <td>587113</td>\n",
       "      <td>1</td>\n",
       "      <td>1.0</td>\n",
       "      <td>0.0</td>\n",
       "      <td>1.0</td>\n",
       "      <td>0.0</td>\n",
       "      <td>0.0</td>\n",
       "      <td>0.0</td>\n",
       "      <td>0.0</td>\n",
       "      <td>1.0</td>\n",
       "      <td>0.0</td>\n",
       "      <td>1.0</td>\n",
       "      <td>0.0</td>\n",
       "      <td>0.0</td>\n",
       "      <td>1.0</td>\n",
       "    </tr>\n",
       "  </tbody>\n",
       "</table>\n",
       "</div>"
      ],
      "text/plain": [
       "   Unnamed: 0       budget        gross  score    votes  ROI  country_USA  \\\n",
       "0           0  237000000.0  760507625.0    7.8   958400    1          0.0   \n",
       "1           1  150000000.0  652270625.0    7.0   470625    1          1.0   \n",
       "2           2  200000000.0  658672302.0    7.8   865551    1          1.0   \n",
       "3           3  220000000.0  623357910.0    8.1  1069292    1          1.0   \n",
       "4           4  115000000.0  474544677.0    6.5   587113    1          1.0   \n",
       "\n",
       "   country_non-USA  genre_Action  genre_Comedy  genre_Drama  genre_Others  \\\n",
       "0              1.0           1.0           0.0          0.0           0.0   \n",
       "1              0.0           1.0           0.0          0.0           0.0   \n",
       "2              0.0           0.0           0.0          1.0           0.0   \n",
       "3              0.0           1.0           0.0          0.0           0.0   \n",
       "4              0.0           1.0           0.0          0.0           0.0   \n",
       "\n",
       "   rating_NR  rating_PG  rating_R  star_names_Famous  star_names_Not-Famous  \\\n",
       "0        0.0        1.0       0.0                1.0                    0.0   \n",
       "1        0.0        1.0       0.0                1.0                    0.0   \n",
       "2        0.0        1.0       0.0                1.0                    0.0   \n",
       "3        0.0        1.0       0.0                1.0                    0.0   \n",
       "4        0.0        1.0       0.0                1.0                    0.0   \n",
       "\n",
       "   studio_names_Low-Studio  studio_names_Top_Studio  \n",
       "0                      0.0                      1.0  \n",
       "1                      0.0                      1.0  \n",
       "2                      0.0                      1.0  \n",
       "3                      0.0                      1.0  \n",
       "4                      0.0                      1.0  "
      ]
     },
     "execution_count": 67,
     "metadata": {},
     "output_type": "execute_result"
    }
   ],
   "source": [
    "Box_office_v3 = pd.read_csv('Box_office_v3.csv')\n",
    "Box_office_v3.head()"
   ]
  },
  {
   "cell_type": "code",
   "execution_count": 68,
   "metadata": {},
   "outputs": [],
   "source": [
    "Box_office_v3 =Box_office_v3.drop('Unnamed: 0', axis = 1)"
   ]
  },
  {
   "cell_type": "code",
   "execution_count": 69,
   "metadata": {},
   "outputs": [
    {
     "data": {
      "text/html": [
       "<div>\n",
       "<style scoped>\n",
       "    .dataframe tbody tr th:only-of-type {\n",
       "        vertical-align: middle;\n",
       "    }\n",
       "\n",
       "    .dataframe tbody tr th {\n",
       "        vertical-align: top;\n",
       "    }\n",
       "\n",
       "    .dataframe thead th {\n",
       "        text-align: right;\n",
       "    }\n",
       "</style>\n",
       "<table border=\"1\" class=\"dataframe\">\n",
       "  <thead>\n",
       "    <tr style=\"text-align: right;\">\n",
       "      <th></th>\n",
       "      <th>budget</th>\n",
       "      <th>gross</th>\n",
       "      <th>score</th>\n",
       "      <th>votes</th>\n",
       "      <th>ROI</th>\n",
       "      <th>country_USA</th>\n",
       "      <th>country_non-USA</th>\n",
       "      <th>genre_Action</th>\n",
       "      <th>genre_Comedy</th>\n",
       "      <th>genre_Drama</th>\n",
       "      <th>genre_Others</th>\n",
       "      <th>rating_NR</th>\n",
       "      <th>rating_PG</th>\n",
       "      <th>rating_R</th>\n",
       "      <th>star_names_Famous</th>\n",
       "      <th>star_names_Not-Famous</th>\n",
       "      <th>studio_names_Low-Studio</th>\n",
       "      <th>studio_names_Top_Studio</th>\n",
       "    </tr>\n",
       "  </thead>\n",
       "  <tbody>\n",
       "    <tr>\n",
       "      <th>0</th>\n",
       "      <td>237000000.0</td>\n",
       "      <td>760507625.0</td>\n",
       "      <td>7.8</td>\n",
       "      <td>958400</td>\n",
       "      <td>1</td>\n",
       "      <td>0.0</td>\n",
       "      <td>1.0</td>\n",
       "      <td>1.0</td>\n",
       "      <td>0.0</td>\n",
       "      <td>0.0</td>\n",
       "      <td>0.0</td>\n",
       "      <td>0.0</td>\n",
       "      <td>1.0</td>\n",
       "      <td>0.0</td>\n",
       "      <td>1.0</td>\n",
       "      <td>0.0</td>\n",
       "      <td>0.0</td>\n",
       "      <td>1.0</td>\n",
       "    </tr>\n",
       "    <tr>\n",
       "      <th>1</th>\n",
       "      <td>150000000.0</td>\n",
       "      <td>652270625.0</td>\n",
       "      <td>7.0</td>\n",
       "      <td>470625</td>\n",
       "      <td>1</td>\n",
       "      <td>1.0</td>\n",
       "      <td>0.0</td>\n",
       "      <td>1.0</td>\n",
       "      <td>0.0</td>\n",
       "      <td>0.0</td>\n",
       "      <td>0.0</td>\n",
       "      <td>0.0</td>\n",
       "      <td>1.0</td>\n",
       "      <td>0.0</td>\n",
       "      <td>1.0</td>\n",
       "      <td>0.0</td>\n",
       "      <td>0.0</td>\n",
       "      <td>1.0</td>\n",
       "    </tr>\n",
       "    <tr>\n",
       "      <th>2</th>\n",
       "      <td>200000000.0</td>\n",
       "      <td>658672302.0</td>\n",
       "      <td>7.8</td>\n",
       "      <td>865551</td>\n",
       "      <td>1</td>\n",
       "      <td>1.0</td>\n",
       "      <td>0.0</td>\n",
       "      <td>0.0</td>\n",
       "      <td>0.0</td>\n",
       "      <td>1.0</td>\n",
       "      <td>0.0</td>\n",
       "      <td>0.0</td>\n",
       "      <td>1.0</td>\n",
       "      <td>0.0</td>\n",
       "      <td>1.0</td>\n",
       "      <td>0.0</td>\n",
       "      <td>0.0</td>\n",
       "      <td>1.0</td>\n",
       "    </tr>\n",
       "    <tr>\n",
       "      <th>3</th>\n",
       "      <td>220000000.0</td>\n",
       "      <td>623357910.0</td>\n",
       "      <td>8.1</td>\n",
       "      <td>1069292</td>\n",
       "      <td>1</td>\n",
       "      <td>1.0</td>\n",
       "      <td>0.0</td>\n",
       "      <td>1.0</td>\n",
       "      <td>0.0</td>\n",
       "      <td>0.0</td>\n",
       "      <td>0.0</td>\n",
       "      <td>0.0</td>\n",
       "      <td>1.0</td>\n",
       "      <td>0.0</td>\n",
       "      <td>1.0</td>\n",
       "      <td>0.0</td>\n",
       "      <td>0.0</td>\n",
       "      <td>1.0</td>\n",
       "    </tr>\n",
       "    <tr>\n",
       "      <th>4</th>\n",
       "      <td>115000000.0</td>\n",
       "      <td>474544677.0</td>\n",
       "      <td>6.5</td>\n",
       "      <td>587113</td>\n",
       "      <td>1</td>\n",
       "      <td>1.0</td>\n",
       "      <td>0.0</td>\n",
       "      <td>1.0</td>\n",
       "      <td>0.0</td>\n",
       "      <td>0.0</td>\n",
       "      <td>0.0</td>\n",
       "      <td>0.0</td>\n",
       "      <td>1.0</td>\n",
       "      <td>0.0</td>\n",
       "      <td>1.0</td>\n",
       "      <td>0.0</td>\n",
       "      <td>0.0</td>\n",
       "      <td>1.0</td>\n",
       "    </tr>\n",
       "  </tbody>\n",
       "</table>\n",
       "</div>"
      ],
      "text/plain": [
       "        budget        gross  score    votes  ROI  country_USA  \\\n",
       "0  237000000.0  760507625.0    7.8   958400    1          0.0   \n",
       "1  150000000.0  652270625.0    7.0   470625    1          1.0   \n",
       "2  200000000.0  658672302.0    7.8   865551    1          1.0   \n",
       "3  220000000.0  623357910.0    8.1  1069292    1          1.0   \n",
       "4  115000000.0  474544677.0    6.5   587113    1          1.0   \n",
       "\n",
       "   country_non-USA  genre_Action  genre_Comedy  genre_Drama  genre_Others  \\\n",
       "0              1.0           1.0           0.0          0.0           0.0   \n",
       "1              0.0           1.0           0.0          0.0           0.0   \n",
       "2              0.0           0.0           0.0          1.0           0.0   \n",
       "3              0.0           1.0           0.0          0.0           0.0   \n",
       "4              0.0           1.0           0.0          0.0           0.0   \n",
       "\n",
       "   rating_NR  rating_PG  rating_R  star_names_Famous  star_names_Not-Famous  \\\n",
       "0        0.0        1.0       0.0                1.0                    0.0   \n",
       "1        0.0        1.0       0.0                1.0                    0.0   \n",
       "2        0.0        1.0       0.0                1.0                    0.0   \n",
       "3        0.0        1.0       0.0                1.0                    0.0   \n",
       "4        0.0        1.0       0.0                1.0                    0.0   \n",
       "\n",
       "   studio_names_Low-Studio  studio_names_Top_Studio  \n",
       "0                      0.0                      1.0  \n",
       "1                      0.0                      1.0  \n",
       "2                      0.0                      1.0  \n",
       "3                      0.0                      1.0  \n",
       "4                      0.0                      1.0  "
      ]
     },
     "execution_count": 69,
     "metadata": {},
     "output_type": "execute_result"
    }
   ],
   "source": [
    "Box_office_v3.head()"
   ]
  },
  {
   "cell_type": "code",
   "execution_count": 70,
   "metadata": {},
   "outputs": [
    {
     "name": "stdout",
     "output_type": "stream",
     "text": [
      "<class 'pandas.core.frame.DataFrame'>\n",
      "RangeIndex: 6000 entries, 0 to 5999\n",
      "Data columns (total 18 columns):\n",
      " #   Column                   Non-Null Count  Dtype  \n",
      "---  ------                   --------------  -----  \n",
      " 0   budget                   6000 non-null   float64\n",
      " 1   gross                    6000 non-null   float64\n",
      " 2   score                    6000 non-null   float64\n",
      " 3   votes                    6000 non-null   int64  \n",
      " 4   ROI                      6000 non-null   int64  \n",
      " 5   country_USA              6000 non-null   float64\n",
      " 6   country_non-USA          6000 non-null   float64\n",
      " 7   genre_Action             6000 non-null   float64\n",
      " 8   genre_Comedy             6000 non-null   float64\n",
      " 9   genre_Drama              6000 non-null   float64\n",
      " 10  genre_Others             6000 non-null   float64\n",
      " 11  rating_NR                6000 non-null   float64\n",
      " 12  rating_PG                6000 non-null   float64\n",
      " 13  rating_R                 6000 non-null   float64\n",
      " 14  star_names_Famous        6000 non-null   float64\n",
      " 15  star_names_Not-Famous    6000 non-null   float64\n",
      " 16  studio_names_Low-Studio  6000 non-null   float64\n",
      " 17  studio_names_Top_Studio  6000 non-null   float64\n",
      "dtypes: float64(16), int64(2)\n",
      "memory usage: 843.9 KB\n"
     ]
    }
   ],
   "source": [
    "Box_office_v3.info()"
   ]
  },
  {
   "cell_type": "markdown",
   "metadata": {},
   "source": [
    "# Missing Values"
   ]
  },
  {
   "cell_type": "code",
   "execution_count": 30,
   "metadata": {},
   "outputs": [
    {
     "data": {
      "text/plain": [
       "budget                     0\n",
       "gross                      0\n",
       "score                      0\n",
       "votes                      0\n",
       "ROI                        0\n",
       "country_USA                0\n",
       "country_non-USA            0\n",
       "genre_Action               0\n",
       "genre_Comedy               0\n",
       "genre_Drama                0\n",
       "genre_Others               0\n",
       "rating_NR                  0\n",
       "rating_PG                  0\n",
       "rating_R                   0\n",
       "star_names_Famous          0\n",
       "star_names_Not-Famous      0\n",
       "studio_names_Low-Studio    0\n",
       "studio_names_Top_Studio    0\n",
       "dtype: int64"
      ]
     },
     "execution_count": 30,
     "metadata": {},
     "output_type": "execute_result"
    }
   ],
   "source": [
    "pd.options.display.max_rows =170 #for a bigger data set to see all rows\n",
    "Box_office_v3.isna().sum() #sum gives the total of all the values for each row"
   ]
  },
  {
   "cell_type": "markdown",
   "metadata": {},
   "source": [
    "# Feature Selection"
   ]
  },
  {
   "cell_type": "code",
   "execution_count": 71,
   "metadata": {},
   "outputs": [
    {
     "data": {
      "text/plain": [
       "(6000, 18)"
      ]
     },
     "execution_count": 71,
     "metadata": {},
     "output_type": "execute_result"
    }
   ],
   "source": [
    "Box_office_v3_copy = Box_office_v3.copy()\n",
    "Box_office_v3_copy.shape"
   ]
  },
  {
   "cell_type": "code",
   "execution_count": 72,
   "metadata": {},
   "outputs": [
    {
     "data": {
      "text/plain": [
       "Index(['budget', 'gross', 'score', 'votes', 'ROI', 'country_USA',\n",
       "       'country_non-USA', 'genre_Action', 'genre_Comedy', 'genre_Drama',\n",
       "       'genre_Others', 'rating_NR', 'rating_PG', 'rating_R',\n",
       "       'star_names_Famous', 'star_names_Not-Famous', 'studio_names_Low-Studio',\n",
       "       'studio_names_Top_Studio'],\n",
       "      dtype='object')"
      ]
     },
     "execution_count": 72,
     "metadata": {},
     "output_type": "execute_result"
    }
   ],
   "source": [
    "Box_office_v3_copy.columns"
   ]
  },
  {
   "cell_type": "code",
   "execution_count": 73,
   "metadata": {},
   "outputs": [],
   "source": [
    " X = Box_office_v3_copy.drop('ROI', axis = 1)\n",
    " y = Box_office_v3_copy.ROI\n",
    "\n",
    "# Splitting the dataset into the Training set and Test set\n",
    "from sklearn.model_selection import train_test_split\n",
    "\n",
    "training_features, test_features, \\\n",
    "training_target, test_target, = train_test_split(Box_office_v3_copy.drop('ROI', axis = 1),\n",
    "                                               Box_office_v3_copy.ROI,\n",
    "                                               test_size = .2,\n",
    "                                               random_state=12)"
   ]
  },
  {
   "cell_type": "code",
   "execution_count": 74,
   "metadata": {},
   "outputs": [
    {
     "data": {
      "text/plain": [
       "(6000, 17)"
      ]
     },
     "execution_count": 74,
     "metadata": {},
     "output_type": "execute_result"
    }
   ],
   "source": [
    "X.shape"
   ]
  },
  {
   "cell_type": "code",
   "execution_count": 75,
   "metadata": {},
   "outputs": [
    {
     "data": {
      "text/plain": [
       "(6000,)"
      ]
     },
     "execution_count": 75,
     "metadata": {},
     "output_type": "execute_result"
    }
   ],
   "source": [
    "y.shape"
   ]
  },
  {
   "cell_type": "markdown",
   "metadata": {},
   "source": [
    "# Feature selection with Decision Tree Classifier"
   ]
  },
  {
   "cell_type": "code",
   "execution_count": 169,
   "metadata": {},
   "outputs": [],
   "source": [
    "Box_office_v3_copy = Box_office_v3.copy()\n",
    "Box_office_v3_copy.shape\n",
    "\n",
    "Xin = Box_office_v3_copy.drop('ROI', axis = 1)\n",
    "yin = Box_office_v3_copy.ROI\n"
   ]
  },
  {
   "cell_type": "code",
   "execution_count": 170,
   "metadata": {},
   "outputs": [
    {
     "name": "stdout",
     "output_type": "stream",
     "text": [
      "Feature: 0, Score: 0.28196\n",
      "Feature: 1, Score: 0.70912\n",
      "Feature: 2, Score: 0.00254\n",
      "Feature: 3, Score: 0.00500\n",
      "Feature: 4, Score: 0.00000\n",
      "Feature: 5, Score: 0.00000\n",
      "Feature: 6, Score: 0.00046\n",
      "Feature: 7, Score: 0.00000\n",
      "Feature: 8, Score: 0.00018\n",
      "Feature: 9, Score: 0.00025\n",
      "Feature: 10, Score: 0.00000\n",
      "Feature: 11, Score: 0.00049\n",
      "Feature: 12, Score: 0.00000\n"
     ]
    }
   ],
   "source": [
    "# decision tree for feature importance on a classification problem\n",
    "from sklearn.datasets import make_classification\n",
    "from sklearn.tree import DecisionTreeClassifier\n",
    "from matplotlib import pyplot\n",
    "# define dataset\n",
    "#X, y = make_classification(n_samples=1000, n_features=10, n_informative=5, n_redundant=5, random_state=1)\n",
    "# define the model\n",
    "model = DecisionTreeClassifier()\n",
    "# fit the model\n",
    "model.fit(Xin, yin)\n",
    "# get importance\n",
    "importance = model.feature_importances_\n",
    "# summarize feature importance\n",
    "for i,v in enumerate(importance):\n",
    "    print('Feature: %0d, Score: %.5f' % (i,v))\n"
   ]
  },
  {
   "cell_type": "code",
   "execution_count": 133,
   "metadata": {},
   "outputs": [
    {
     "data": {
      "text/html": [
       "<div>\n",
       "<style scoped>\n",
       "    .dataframe tbody tr th:only-of-type {\n",
       "        vertical-align: middle;\n",
       "    }\n",
       "\n",
       "    .dataframe tbody tr th {\n",
       "        vertical-align: top;\n",
       "    }\n",
       "\n",
       "    .dataframe thead th {\n",
       "        text-align: right;\n",
       "    }\n",
       "</style>\n",
       "<table border=\"1\" class=\"dataframe\">\n",
       "  <thead>\n",
       "    <tr style=\"text-align: right;\">\n",
       "      <th></th>\n",
       "      <th>Importance Coef</th>\n",
       "      <th>Features</th>\n",
       "    </tr>\n",
       "  </thead>\n",
       "  <tbody>\n",
       "    <tr>\n",
       "      <th>1</th>\n",
       "      <td>0.710440</td>\n",
       "      <td>gross</td>\n",
       "    </tr>\n",
       "    <tr>\n",
       "      <th>0</th>\n",
       "      <td>0.283179</td>\n",
       "      <td>budget</td>\n",
       "    </tr>\n",
       "    <tr>\n",
       "      <th>3</th>\n",
       "      <td>0.002734</td>\n",
       "      <td>votes</td>\n",
       "    </tr>\n",
       "    <tr>\n",
       "      <th>2</th>\n",
       "      <td>0.002070</td>\n",
       "      <td>score</td>\n",
       "    </tr>\n",
       "    <tr>\n",
       "      <th>6</th>\n",
       "      <td>0.000465</td>\n",
       "      <td>genre_Action</td>\n",
       "    </tr>\n",
       "    <tr>\n",
       "      <th>7</th>\n",
       "      <td>0.000465</td>\n",
       "      <td>genre_Comedy</td>\n",
       "    </tr>\n",
       "    <tr>\n",
       "      <th>11</th>\n",
       "      <td>0.000465</td>\n",
       "      <td>rating_PG</td>\n",
       "    </tr>\n",
       "    <tr>\n",
       "      <th>8</th>\n",
       "      <td>0.000183</td>\n",
       "      <td>genre_Drama</td>\n",
       "    </tr>\n",
       "    <tr>\n",
       "      <th>4</th>\n",
       "      <td>0.000000</td>\n",
       "      <td>country_USA</td>\n",
       "    </tr>\n",
       "    <tr>\n",
       "      <th>5</th>\n",
       "      <td>0.000000</td>\n",
       "      <td>country_non-USA</td>\n",
       "    </tr>\n",
       "    <tr>\n",
       "      <th>9</th>\n",
       "      <td>0.000000</td>\n",
       "      <td>genre_Others</td>\n",
       "    </tr>\n",
       "    <tr>\n",
       "      <th>10</th>\n",
       "      <td>0.000000</td>\n",
       "      <td>rating_NR</td>\n",
       "    </tr>\n",
       "    <tr>\n",
       "      <th>12</th>\n",
       "      <td>0.000000</td>\n",
       "      <td>rating_R</td>\n",
       "    </tr>\n",
       "  </tbody>\n",
       "</table>\n",
       "</div>"
      ],
      "text/plain": [
       "    Importance Coef         Features\n",
       "1          0.710440            gross\n",
       "0          0.283179           budget\n",
       "3          0.002734            votes\n",
       "2          0.002070            score\n",
       "6          0.000465     genre_Action\n",
       "7          0.000465     genre_Comedy\n",
       "11         0.000465        rating_PG\n",
       "8          0.000183      genre_Drama\n",
       "4          0.000000      country_USA\n",
       "5          0.000000  country_non-USA\n",
       "9          0.000000     genre_Others\n",
       "10         0.000000        rating_NR\n",
       "12         0.000000         rating_R"
      ]
     },
     "execution_count": 133,
     "metadata": {},
     "output_type": "execute_result"
    }
   ],
   "source": [
    "feature_importances = pd.DataFrame({'Importance Coef' :model.feature_importances_ , 'Features' : Xin.columns})\n",
    "feature_importances.nlargest(135, 'Importance Coef')"
   ]
  },
  {
   "cell_type": "code",
   "execution_count": 72,
   "metadata": {},
   "outputs": [
    {
     "data": {
      "image/png": "[encoded data removed]",
      "text/plain": [
       "<Figure size 432x288 with 1 Axes>"
      ]
     },
     "metadata": {},
     "output_type": "display_data"
    }
   ],
   "source": [
    "# plot feature importance\n",
    "pyplot.bar([x for x in range(len(importance))], importance)\n",
    "pyplot.show()"
   ]
  },
  {
   "cell_type": "code",
   "execution_count": 73,
   "metadata": {},
   "outputs": [
    {
     "name": "stdout",
     "output_type": "stream",
     "text": [
      "gross 0.709107374723241\n",
      "budget 0.2814355048975565\n",
      "votes 0.004717367251113787\n",
      "score 0.0028837151372681\n",
      "genre_Drama 0.000647417752712714\n"
     ]
    }
   ],
   "source": [
    "clf = DecisionTreeClassifier(random_state=0).fit(Xin,yin)\n",
    "for importance, name in sorted(zip(clf.feature_importances_, Xin.columns),reverse=True)[:5]:\n",
    "    print (name, importance)"
   ]
  },
  {
   "cell_type": "code",
   "execution_count": 153,
   "metadata": {},
   "outputs": [
    {
     "data": {
      "text/html": [
       "<div>\n",
       "<style scoped>\n",
       "    .dataframe tbody tr th:only-of-type {\n",
       "        vertical-align: middle;\n",
       "    }\n",
       "\n",
       "    .dataframe tbody tr th {\n",
       "        vertical-align: top;\n",
       "    }\n",
       "\n",
       "    .dataframe thead th {\n",
       "        text-align: right;\n",
       "    }\n",
       "</style>\n",
       "<table border=\"1\" class=\"dataframe\">\n",
       "  <thead>\n",
       "    <tr style=\"text-align: right;\">\n",
       "      <th></th>\n",
       "      <th>budget</th>\n",
       "      <th>gross</th>\n",
       "      <th>score</th>\n",
       "      <th>votes</th>\n",
       "      <th>ROI</th>\n",
       "      <th>country_USA</th>\n",
       "      <th>country_non-USA</th>\n",
       "      <th>genre_Action</th>\n",
       "      <th>genre_Comedy</th>\n",
       "      <th>genre_Drama</th>\n",
       "      <th>genre_Others</th>\n",
       "      <th>rating_NR</th>\n",
       "      <th>rating_PG</th>\n",
       "      <th>rating_R</th>\n",
       "    </tr>\n",
       "  </thead>\n",
       "  <tbody>\n",
       "    <tr>\n",
       "      <th>0</th>\n",
       "      <td>237000000.0</td>\n",
       "      <td>760507625.0</td>\n",
       "      <td>7.8</td>\n",
       "      <td>958400</td>\n",
       "      <td>1</td>\n",
       "      <td>0.0</td>\n",
       "      <td>1.0</td>\n",
       "      <td>1.0</td>\n",
       "      <td>0.0</td>\n",
       "      <td>0.0</td>\n",
       "      <td>0.0</td>\n",
       "      <td>0.0</td>\n",
       "      <td>1.0</td>\n",
       "      <td>0.0</td>\n",
       "    </tr>\n",
       "    <tr>\n",
       "      <th>1</th>\n",
       "      <td>200000000.0</td>\n",
       "      <td>658672302.0</td>\n",
       "      <td>7.8</td>\n",
       "      <td>865551</td>\n",
       "      <td>1</td>\n",
       "      <td>1.0</td>\n",
       "      <td>0.0</td>\n",
       "      <td>0.0</td>\n",
       "      <td>0.0</td>\n",
       "      <td>1.0</td>\n",
       "      <td>0.0</td>\n",
       "      <td>0.0</td>\n",
       "      <td>1.0</td>\n",
       "      <td>0.0</td>\n",
       "    </tr>\n",
       "    <tr>\n",
       "      <th>2</th>\n",
       "      <td>150000000.0</td>\n",
       "      <td>652270625.0</td>\n",
       "      <td>7.0</td>\n",
       "      <td>470625</td>\n",
       "      <td>1</td>\n",
       "      <td>1.0</td>\n",
       "      <td>0.0</td>\n",
       "      <td>1.0</td>\n",
       "      <td>0.0</td>\n",
       "      <td>0.0</td>\n",
       "      <td>0.0</td>\n",
       "      <td>0.0</td>\n",
       "      <td>1.0</td>\n",
       "      <td>0.0</td>\n",
       "    </tr>\n",
       "    <tr>\n",
       "      <th>3</th>\n",
       "      <td>220000000.0</td>\n",
       "      <td>623357910.0</td>\n",
       "      <td>8.1</td>\n",
       "      <td>1069292</td>\n",
       "      <td>1</td>\n",
       "      <td>1.0</td>\n",
       "      <td>0.0</td>\n",
       "      <td>1.0</td>\n",
       "      <td>0.0</td>\n",
       "      <td>0.0</td>\n",
       "      <td>0.0</td>\n",
       "      <td>0.0</td>\n",
       "      <td>1.0</td>\n",
       "      <td>0.0</td>\n",
       "    </tr>\n",
       "    <tr>\n",
       "      <th>4</th>\n",
       "      <td>185000000.0</td>\n",
       "      <td>534858444.0</td>\n",
       "      <td>9.0</td>\n",
       "      <td>1845853</td>\n",
       "      <td>1</td>\n",
       "      <td>1.0</td>\n",
       "      <td>0.0</td>\n",
       "      <td>1.0</td>\n",
       "      <td>0.0</td>\n",
       "      <td>0.0</td>\n",
       "      <td>0.0</td>\n",
       "      <td>0.0</td>\n",
       "      <td>1.0</td>\n",
       "      <td>0.0</td>\n",
       "    </tr>\n",
       "  </tbody>\n",
       "</table>\n",
       "</div>"
      ],
      "text/plain": [
       "        budget        gross  score    votes  ROI  country_USA  \\\n",
       "0  237000000.0  760507625.0    7.8   958400    1          0.0   \n",
       "1  200000000.0  658672302.0    7.8   865551    1          1.0   \n",
       "2  150000000.0  652270625.0    7.0   470625    1          1.0   \n",
       "3  220000000.0  623357910.0    8.1  1069292    1          1.0   \n",
       "4  185000000.0  534858444.0    9.0  1845853    1          1.0   \n",
       "\n",
       "   country_non-USA  genre_Action  genre_Comedy  genre_Drama  genre_Others  \\\n",
       "0              1.0           1.0           0.0          0.0           0.0   \n",
       "1              0.0           0.0           0.0          1.0           0.0   \n",
       "2              0.0           1.0           0.0          0.0           0.0   \n",
       "3              0.0           1.0           0.0          0.0           0.0   \n",
       "4              0.0           1.0           0.0          0.0           0.0   \n",
       "\n",
       "   rating_NR  rating_PG  rating_R  \n",
       "0        0.0        1.0       0.0  \n",
       "1        0.0        1.0       0.0  \n",
       "2        0.0        1.0       0.0  \n",
       "3        0.0        1.0       0.0  \n",
       "4        0.0        1.0       0.0  "
      ]
     },
     "execution_count": 153,
     "metadata": {},
     "output_type": "execute_result"
    }
   ],
   "source": [
    "Box_office_v3_copy.head()"
   ]
  },
  {
   "cell_type": "code",
   "execution_count": null,
   "metadata": {},
   "outputs": [],
   "source": [
    "to_delete= ['country_USA',\"country_non-USA\",'genre_Action','genre_Comedy','genre_Others','rating_NR','rating_PG','rating_R']\n",
    "Box_office_v3_copy = Box_office_v3_copy.drop(to_delete, axis=1)"
   ]
  },
  {
   "cell_type": "markdown",
   "metadata": {},
   "source": [
    "# Random Forest Calssification"
   ]
  },
  {
   "cell_type": "code",
   "execution_count": 125,
   "metadata": {},
   "outputs": [],
   "source": [
    "Box_office_v3_copy = Box_office_v3.copy()\n",
    "Box_office_v3_copy.shape\n",
    "\n",
    "Xin = Box_office_v3_copy.drop('ROI', axis = 1)\n",
    "yin = Box_office_v3_copy.ROI"
   ]
  },
  {
   "cell_type": "code",
   "execution_count": 126,
   "metadata": {},
   "outputs": [
    {
     "name": "stdout",
     "output_type": "stream",
     "text": [
      "Feature: 0, Score: 0.23311\n",
      "Feature: 1, Score: 0.48057\n",
      "Feature: 2, Score: 0.06051\n",
      "Feature: 3, Score: 0.14302\n",
      "Feature: 4, Score: 0.01805\n",
      "Feature: 5, Score: 0.02062\n",
      "Feature: 6, Score: 0.00835\n",
      "Feature: 7, Score: 0.00653\n",
      "Feature: 8, Score: 0.00465\n",
      "Feature: 9, Score: 0.00479\n",
      "Feature: 10, Score: 0.00329\n",
      "Feature: 11, Score: 0.01037\n",
      "Feature: 12, Score: 0.00612\n"
     ]
    }
   ],
   "source": [
    "# random forest for feature importance on a classification problem\n",
    "from sklearn.datasets import make_classification\n",
    "from sklearn.ensemble import RandomForestClassifier\n",
    "from matplotlib import pyplot\n",
    "from sklearn.feature_selection import SelectFromModel \n",
    "# define dataset\n",
    "#X, y = make_classification(n_samples=1000, n_features=14, n_informative=5, n_redundant=5, random_state=1)\n",
    "# define the model\n",
    "model = RandomForestClassifier()\n",
    "# fit the model\n",
    "model.fit(Xin, yin)\n",
    "# get importance\n",
    "importance = model.feature_importances_\n",
    "# summarize feature importance\n",
    "for i,v in enumerate(importance):\n",
    "\tprint('Feature: %0d, Score: %.5f' % (i,v))"
   ]
  },
  {
   "cell_type": "code",
   "execution_count": 127,
   "metadata": {},
   "outputs": [
    {
     "data": {
      "text/html": [
       "<div>\n",
       "<style scoped>\n",
       "    .dataframe tbody tr th:only-of-type {\n",
       "        vertical-align: middle;\n",
       "    }\n",
       "\n",
       "    .dataframe tbody tr th {\n",
       "        vertical-align: top;\n",
       "    }\n",
       "\n",
       "    .dataframe thead th {\n",
       "        text-align: right;\n",
       "    }\n",
       "</style>\n",
       "<table border=\"1\" class=\"dataframe\">\n",
       "  <thead>\n",
       "    <tr style=\"text-align: right;\">\n",
       "      <th></th>\n",
       "      <th>Importance Coef</th>\n",
       "      <th>Features</th>\n",
       "    </tr>\n",
       "  </thead>\n",
       "  <tbody>\n",
       "    <tr>\n",
       "      <th>1</th>\n",
       "      <td>0.480572</td>\n",
       "      <td>gross</td>\n",
       "    </tr>\n",
       "    <tr>\n",
       "      <th>0</th>\n",
       "      <td>0.233114</td>\n",
       "      <td>budget</td>\n",
       "    </tr>\n",
       "    <tr>\n",
       "      <th>3</th>\n",
       "      <td>0.143022</td>\n",
       "      <td>votes</td>\n",
       "    </tr>\n",
       "    <tr>\n",
       "      <th>2</th>\n",
       "      <td>0.060514</td>\n",
       "      <td>score</td>\n",
       "    </tr>\n",
       "    <tr>\n",
       "      <th>5</th>\n",
       "      <td>0.020622</td>\n",
       "      <td>country_non-USA</td>\n",
       "    </tr>\n",
       "    <tr>\n",
       "      <th>4</th>\n",
       "      <td>0.018046</td>\n",
       "      <td>country_USA</td>\n",
       "    </tr>\n",
       "    <tr>\n",
       "      <th>11</th>\n",
       "      <td>0.010374</td>\n",
       "      <td>rating_PG</td>\n",
       "    </tr>\n",
       "    <tr>\n",
       "      <th>6</th>\n",
       "      <td>0.008352</td>\n",
       "      <td>genre_Action</td>\n",
       "    </tr>\n",
       "    <tr>\n",
       "      <th>7</th>\n",
       "      <td>0.006534</td>\n",
       "      <td>genre_Comedy</td>\n",
       "    </tr>\n",
       "    <tr>\n",
       "      <th>12</th>\n",
       "      <td>0.006119</td>\n",
       "      <td>rating_R</td>\n",
       "    </tr>\n",
       "    <tr>\n",
       "      <th>9</th>\n",
       "      <td>0.004794</td>\n",
       "      <td>genre_Others</td>\n",
       "    </tr>\n",
       "    <tr>\n",
       "      <th>8</th>\n",
       "      <td>0.004646</td>\n",
       "      <td>genre_Drama</td>\n",
       "    </tr>\n",
       "    <tr>\n",
       "      <th>10</th>\n",
       "      <td>0.003293</td>\n",
       "      <td>rating_NR</td>\n",
       "    </tr>\n",
       "  </tbody>\n",
       "</table>\n",
       "</div>"
      ],
      "text/plain": [
       "    Importance Coef         Features\n",
       "1          0.480572            gross\n",
       "0          0.233114           budget\n",
       "3          0.143022            votes\n",
       "2          0.060514            score\n",
       "5          0.020622  country_non-USA\n",
       "4          0.018046      country_USA\n",
       "11         0.010374        rating_PG\n",
       "6          0.008352     genre_Action\n",
       "7          0.006534     genre_Comedy\n",
       "12         0.006119         rating_R\n",
       "9          0.004794     genre_Others\n",
       "8          0.004646      genre_Drama\n",
       "10         0.003293        rating_NR"
      ]
     },
     "execution_count": 127,
     "metadata": {},
     "output_type": "execute_result"
    }
   ],
   "source": [
    "feature_importances = pd.DataFrame({'Importance Coef' :model.feature_importances_ , 'Features' : Xin.columns})\n",
    "feature_importances.nlargest(135, 'Importance Coef')"
   ]
  },
  {
   "cell_type": "code",
   "execution_count": 88,
   "metadata": {},
   "outputs": [
    {
     "name": "stdout",
     "output_type": "stream",
     "text": [
      "('budget', 0.2441492882361499)\n",
      "('gross', 0.4847867995858353)\n",
      "('score', 0.05763974625696079)\n",
      "('votes', 0.13293034835285933)\n",
      "('ROI', 0.016605434746605127)\n",
      "('country_USA', 0.02281069138989327)\n",
      "('country_non-USA', 0.008342743904850437)\n",
      "('genre_Action', 0.006376814114899728)\n",
      "('genre_Comedy', 0.004007161376687326)\n",
      "('genre_Drama', 0.004507031923903459)\n",
      "('genre_Others', 0.002248476535934319)\n",
      "('rating_NR', 0.01011233060772936)\n",
      "('rating_PG', 0.005483132967691642)\n"
     ]
    }
   ],
   "source": [
    "feat_labels = ['budget','gross','score','votes','ROI','country_USA','country_non-USA','genre_Action','genre_Comedy' ,'genre_Drama', 'genre_Others', 'rating_NR', 'rating_PG', 'rating_R']\n",
    "for feature in zip(feat_labels,model.feature_importances_):\n",
    "    print(feature)"
   ]
  },
  {
   "cell_type": "code",
   "execution_count": 89,
   "metadata": {},
   "outputs": [
    {
     "data": {
      "text/html": [
       "<div>\n",
       "<style scoped>\n",
       "    .dataframe tbody tr th:only-of-type {\n",
       "        vertical-align: middle;\n",
       "    }\n",
       "\n",
       "    .dataframe tbody tr th {\n",
       "        vertical-align: top;\n",
       "    }\n",
       "\n",
       "    .dataframe thead th {\n",
       "        text-align: right;\n",
       "    }\n",
       "</style>\n",
       "<table border=\"1\" class=\"dataframe\">\n",
       "  <thead>\n",
       "    <tr style=\"text-align: right;\">\n",
       "      <th></th>\n",
       "      <th>columns</th>\n",
       "      <th>importances</th>\n",
       "    </tr>\n",
       "  </thead>\n",
       "  <tbody>\n",
       "    <tr>\n",
       "      <th>1</th>\n",
       "      <td>gross</td>\n",
       "      <td>0.484787</td>\n",
       "    </tr>\n",
       "    <tr>\n",
       "      <th>0</th>\n",
       "      <td>budget</td>\n",
       "      <td>0.244149</td>\n",
       "    </tr>\n",
       "    <tr>\n",
       "      <th>3</th>\n",
       "      <td>votes</td>\n",
       "      <td>0.132930</td>\n",
       "    </tr>\n",
       "    <tr>\n",
       "      <th>2</th>\n",
       "      <td>score</td>\n",
       "      <td>0.057640</td>\n",
       "    </tr>\n",
       "    <tr>\n",
       "      <th>5</th>\n",
       "      <td>country_non-USA</td>\n",
       "      <td>0.022811</td>\n",
       "    </tr>\n",
       "    <tr>\n",
       "      <th>4</th>\n",
       "      <td>country_USA</td>\n",
       "      <td>0.016605</td>\n",
       "    </tr>\n",
       "    <tr>\n",
       "      <th>11</th>\n",
       "      <td>rating_PG</td>\n",
       "      <td>0.010112</td>\n",
       "    </tr>\n",
       "    <tr>\n",
       "      <th>6</th>\n",
       "      <td>genre_Action</td>\n",
       "      <td>0.008343</td>\n",
       "    </tr>\n",
       "    <tr>\n",
       "      <th>7</th>\n",
       "      <td>genre_Comedy</td>\n",
       "      <td>0.006377</td>\n",
       "    </tr>\n",
       "    <tr>\n",
       "      <th>12</th>\n",
       "      <td>rating_R</td>\n",
       "      <td>0.005483</td>\n",
       "    </tr>\n",
       "    <tr>\n",
       "      <th>9</th>\n",
       "      <td>genre_Others</td>\n",
       "      <td>0.004507</td>\n",
       "    </tr>\n",
       "    <tr>\n",
       "      <th>8</th>\n",
       "      <td>genre_Drama</td>\n",
       "      <td>0.004007</td>\n",
       "    </tr>\n",
       "    <tr>\n",
       "      <th>10</th>\n",
       "      <td>rating_NR</td>\n",
       "      <td>0.002248</td>\n",
       "    </tr>\n",
       "  </tbody>\n",
       "</table>\n",
       "</div>"
      ],
      "text/plain": [
       "            columns  importances\n",
       "1             gross     0.484787\n",
       "0            budget     0.244149\n",
       "3             votes     0.132930\n",
       "2             score     0.057640\n",
       "5   country_non-USA     0.022811\n",
       "4       country_USA     0.016605\n",
       "11        rating_PG     0.010112\n",
       "6      genre_Action     0.008343\n",
       "7      genre_Comedy     0.006377\n",
       "12         rating_R     0.005483\n",
       "9      genre_Others     0.004507\n",
       "8       genre_Drama     0.004007\n",
       "10        rating_NR     0.002248"
      ]
     },
     "execution_count": 89,
     "metadata": {},
     "output_type": "execute_result"
    }
   ],
   "source": [
    "results=pd.DataFrame()\n",
    "results['columns']= Xin.columns\n",
    "results['importances'] = model.feature_importances_\n",
    "results.sort_values(by='importances',ascending=False,inplace=True)\n",
    "\n",
    "results[:20]"
   ]
  },
  {
   "cell_type": "code",
   "execution_count": 90,
   "metadata": {},
   "outputs": [
    {
     "name": "stdout",
     "output_type": "stream",
     "text": [
      "budget\n",
      "gross\n"
     ]
    }
   ],
   "source": [
    "sfm = SelectFromModel(model, threshold=0.15)\n",
    "sfm.fit(Xin, yin)\n",
    "\n",
    "for feature_list_index in sfm.get_support(indices=True):\n",
    "    print(feat_labels[feature_list_index])"
   ]
  },
  {
   "cell_type": "code",
   "execution_count": 91,
   "metadata": {},
   "outputs": [
    {
     "data": {
      "image/png": "[encoded data removed]",
      "text/plain": [
       "<Figure size 432x288 with 1 Axes>"
      ]
     },
     "metadata": {},
     "output_type": "display_data"
    }
   ],
   "source": [
    "# plot feature importance\n",
    "pyplot.bar([x for x in range(len(importance))], importance)\n",
    "pyplot.show()"
   ]
  },
  {
   "cell_type": "code",
   "execution_count": null,
   "metadata": {},
   "outputs": [],
   "source": [
    "to_delete= ['country_USA','country_non-USA','genre_Action','genre_Comedy','genre_Drama','genre_Others','rating_NR','rating_PG']\n",
    "Box_office_v3_copy = Box_office_v3_copy.drop(to_delete, axis=1)"
   ]
  },
  {
   "cell_type": "markdown",
   "metadata": {},
   "source": [
    "# XGBoost feature selection"
   ]
  },
  {
   "cell_type": "code",
   "execution_count": 76,
   "metadata": {},
   "outputs": [],
   "source": [
    "Box_office_v3_copy = Box_office_v3.copy()\n",
    "Box_office_v3_copy.shape\n",
    "\n",
    "Xin = Box_office_v3_copy.drop('ROI', axis = 1)\n",
    "yin = Box_office_v3_copy.ROI"
   ]
  },
  {
   "cell_type": "code",
   "execution_count": 77,
   "metadata": {},
   "outputs": [
    {
     "name": "stdout",
     "output_type": "stream",
     "text": [
      "[12:24:36] WARNING: /Users/travis/build/dmlc/xgboost/src/learner.cc:1061: Starting in XGBoost 1.3.0, the default evaluation metric used with the objective 'binary:logistic' was changed from 'error' to 'logloss'. Explicitly set eval_metric if you'd like to restore the old behavior.\n",
      "Feature: 0, Score: 0.26561\n",
      "Feature: 1, Score: 0.64046\n",
      "Feature: 2, Score: 0.01073\n",
      "Feature: 3, Score: 0.01053\n",
      "Feature: 4, Score: 0.01457\n",
      "Feature: 5, Score: 0.00000\n",
      "Feature: 6, Score: 0.00603\n",
      "Feature: 7, Score: 0.01230\n",
      "Feature: 8, Score: 0.00944\n",
      "Feature: 9, Score: 0.00967\n",
      "Feature: 10, Score: 0.01293\n",
      "Feature: 11, Score: 0.00593\n",
      "Feature: 12, Score: 0.00181\n",
      "Feature: 13, Score: 0.00000\n",
      "Feature: 14, Score: 0.00000\n",
      "Feature: 15, Score: 0.00000\n",
      "Feature: 16, Score: 0.00000\n"
     ]
    }
   ],
   "source": [
    "# xgboost for feature importance on a classification problem\n",
    "from sklearn.datasets import make_classification\n",
    "from xgboost import XGBClassifier\n",
    "from matplotlib import pyplot\n",
    "# define dataset\n",
    "#Xin, yin = make_classification(n_samples=1000, n_features=14, n_informative=5, n_redundant=5, random_state=1)\n",
    "# define the model\n",
    "model = XGBClassifier()\n",
    "# fit the model\n",
    "model.fit(Xin, yin)\n",
    "# get importance\n",
    "importance = model.feature_importances_\n",
    "# summarize feature importance\n",
    "for i,v in enumerate(importance):\n",
    "    print('Feature: %0d, Score: %.5f' % (i,v))"
   ]
  },
  {
   "cell_type": "code",
   "execution_count": 78,
   "metadata": {},
   "outputs": [
    {
     "data": {
      "text/html": [
       "<div>\n",
       "<style scoped>\n",
       "    .dataframe tbody tr th:only-of-type {\n",
       "        vertical-align: middle;\n",
       "    }\n",
       "\n",
       "    .dataframe tbody tr th {\n",
       "        vertical-align: top;\n",
       "    }\n",
       "\n",
       "    .dataframe thead th {\n",
       "        text-align: right;\n",
       "    }\n",
       "</style>\n",
       "<table border=\"1\" class=\"dataframe\">\n",
       "  <thead>\n",
       "    <tr style=\"text-align: right;\">\n",
       "      <th></th>\n",
       "      <th>Importance Coef</th>\n",
       "      <th>Features</th>\n",
       "    </tr>\n",
       "  </thead>\n",
       "  <tbody>\n",
       "    <tr>\n",
       "      <th>1</th>\n",
       "      <td>0.640464</td>\n",
       "      <td>gross</td>\n",
       "    </tr>\n",
       "    <tr>\n",
       "      <th>0</th>\n",
       "      <td>0.265606</td>\n",
       "      <td>budget</td>\n",
       "    </tr>\n",
       "    <tr>\n",
       "      <th>4</th>\n",
       "      <td>0.014572</td>\n",
       "      <td>country_USA</td>\n",
       "    </tr>\n",
       "    <tr>\n",
       "      <th>10</th>\n",
       "      <td>0.012932</td>\n",
       "      <td>rating_NR</td>\n",
       "    </tr>\n",
       "    <tr>\n",
       "      <th>7</th>\n",
       "      <td>0.012301</td>\n",
       "      <td>genre_Comedy</td>\n",
       "    </tr>\n",
       "    <tr>\n",
       "      <th>2</th>\n",
       "      <td>0.010730</td>\n",
       "      <td>score</td>\n",
       "    </tr>\n",
       "    <tr>\n",
       "      <th>3</th>\n",
       "      <td>0.010534</td>\n",
       "      <td>votes</td>\n",
       "    </tr>\n",
       "    <tr>\n",
       "      <th>9</th>\n",
       "      <td>0.009666</td>\n",
       "      <td>genre_Others</td>\n",
       "    </tr>\n",
       "    <tr>\n",
       "      <th>8</th>\n",
       "      <td>0.009437</td>\n",
       "      <td>genre_Drama</td>\n",
       "    </tr>\n",
       "    <tr>\n",
       "      <th>6</th>\n",
       "      <td>0.006026</td>\n",
       "      <td>genre_Action</td>\n",
       "    </tr>\n",
       "    <tr>\n",
       "      <th>11</th>\n",
       "      <td>0.005925</td>\n",
       "      <td>rating_PG</td>\n",
       "    </tr>\n",
       "    <tr>\n",
       "      <th>12</th>\n",
       "      <td>0.001808</td>\n",
       "      <td>rating_R</td>\n",
       "    </tr>\n",
       "    <tr>\n",
       "      <th>5</th>\n",
       "      <td>0.000000</td>\n",
       "      <td>country_non-USA</td>\n",
       "    </tr>\n",
       "    <tr>\n",
       "      <th>13</th>\n",
       "      <td>0.000000</td>\n",
       "      <td>star_names_Famous</td>\n",
       "    </tr>\n",
       "    <tr>\n",
       "      <th>14</th>\n",
       "      <td>0.000000</td>\n",
       "      <td>star_names_Not-Famous</td>\n",
       "    </tr>\n",
       "    <tr>\n",
       "      <th>15</th>\n",
       "      <td>0.000000</td>\n",
       "      <td>studio_names_Low-Studio</td>\n",
       "    </tr>\n",
       "    <tr>\n",
       "      <th>16</th>\n",
       "      <td>0.000000</td>\n",
       "      <td>studio_names_Top_Studio</td>\n",
       "    </tr>\n",
       "  </tbody>\n",
       "</table>\n",
       "</div>"
      ],
      "text/plain": [
       "    Importance Coef                 Features\n",
       "1          0.640464                    gross\n",
       "0          0.265606                   budget\n",
       "4          0.014572              country_USA\n",
       "10         0.012932                rating_NR\n",
       "7          0.012301             genre_Comedy\n",
       "2          0.010730                    score\n",
       "3          0.010534                    votes\n",
       "9          0.009666             genre_Others\n",
       "8          0.009437              genre_Drama\n",
       "6          0.006026             genre_Action\n",
       "11         0.005925                rating_PG\n",
       "12         0.001808                 rating_R\n",
       "5          0.000000          country_non-USA\n",
       "13         0.000000        star_names_Famous\n",
       "14         0.000000    star_names_Not-Famous\n",
       "15         0.000000  studio_names_Low-Studio\n",
       "16         0.000000  studio_names_Top_Studio"
      ]
     },
     "execution_count": 78,
     "metadata": {},
     "output_type": "execute_result"
    }
   ],
   "source": [
    "feature_importances = pd.DataFrame({'Importance Coef' :model.feature_importances_ , 'Features' : Xin.columns})\n",
    "feature_importances.nlargest(135, 'Importance Coef')"
   ]
  },
  {
   "cell_type": "code",
   "execution_count": 79,
   "metadata": {},
   "outputs": [
    {
     "name": "stdout",
     "output_type": "stream",
     "text": [
      "('budget', 0.26560625)\n",
      "('gross', 0.640464)\n",
      "('score', 0.010730349)\n",
      "('votes', 0.010533539)\n",
      "('ROI', 0.014572361)\n",
      "('country_USA', 0.0)\n",
      "('country_non-USA', 0.006025585)\n",
      "('genre_Action', 0.012300893)\n",
      "('genre_Comedy', 0.009436584)\n",
      "('genre_Drama', 0.009665582)\n",
      "('genre_Others', 0.012931648)\n",
      "('rating_NR', 0.0059252763)\n",
      "('rating_PG', 0.001807882)\n",
      "('rating_R', 0.0)\n"
     ]
    }
   ],
   "source": [
    "feat_labels = ['budget','gross','score','votes','ROI','country_USA','country_non-USA','genre_Action','genre_Comedy' ,'genre_Drama', 'genre_Others', 'rating_NR', 'rating_PG', 'rating_R']\n",
    "for feature in zip(feat_labels,model.feature_importances_):\n",
    "    print(feature)"
   ]
  },
  {
   "cell_type": "code",
   "execution_count": 80,
   "metadata": {},
   "outputs": [
    {
     "name": "stdout",
     "output_type": "stream",
     "text": [
      "[12:24:51] WARNING: /Users/travis/build/dmlc/xgboost/src/learner.cc:1061: Starting in XGBoost 1.3.0, the default evaluation metric used with the objective 'binary:logistic' was changed from 'error' to 'logloss'. Explicitly set eval_metric if you'd like to restore the old behavior.\n",
      "budget\n",
      "gross\n"
     ]
    }
   ],
   "source": [
    "from sklearn.feature_selection import SelectFromModel\n",
    "sfm = SelectFromModel(model, threshold=0.1)\n",
    "sfm.fit(Xin, yin)\n",
    "\n",
    "for feature_list_index in sfm.get_support(indices=True):\n",
    "    print(feat_labels[feature_list_index])"
   ]
  },
  {
   "cell_type": "code",
   "execution_count": 81,
   "metadata": {},
   "outputs": [
    {
     "data": {
      "image/png": "[encoded data removed]",
      "text/plain": [
       "<Figure size 432x288 with 1 Axes>"
      ]
     },
     "metadata": {},
     "output_type": "display_data"
    }
   ],
   "source": [
    "# plot feature importance\n",
    "pyplot.bar([x for x in range(len(importance))], importance)\n",
    "pyplot.show()"
   ]
  },
  {
   "cell_type": "code",
   "execution_count": 82,
   "metadata": {},
   "outputs": [],
   "source": [
    "to_delete= ['genre_Others','genre_Drama','genre_Action','rating_PG','rating_R','country_non-USA','star_names_Famous','star_names_Not-Famous','studio_names_Low-Studio','studio_names_Top_Studio']\n",
    "Box_office_v3_copy = Box_office_v3_copy.drop(to_delete, axis=1)"
   ]
  },
  {
   "cell_type": "code",
   "execution_count": 83,
   "metadata": {},
   "outputs": [
    {
     "data": {
      "text/html": [
       "<div>\n",
       "<style scoped>\n",
       "    .dataframe tbody tr th:only-of-type {\n",
       "        vertical-align: middle;\n",
       "    }\n",
       "\n",
       "    .dataframe tbody tr th {\n",
       "        vertical-align: top;\n",
       "    }\n",
       "\n",
       "    .dataframe thead th {\n",
       "        text-align: right;\n",
       "    }\n",
       "</style>\n",
       "<table border=\"1\" class=\"dataframe\">\n",
       "  <thead>\n",
       "    <tr style=\"text-align: right;\">\n",
       "      <th></th>\n",
       "      <th>budget</th>\n",
       "      <th>gross</th>\n",
       "      <th>score</th>\n",
       "      <th>votes</th>\n",
       "      <th>ROI</th>\n",
       "      <th>country_USA</th>\n",
       "      <th>genre_Comedy</th>\n",
       "      <th>rating_NR</th>\n",
       "    </tr>\n",
       "  </thead>\n",
       "  <tbody>\n",
       "    <tr>\n",
       "      <th>0</th>\n",
       "      <td>237000000.0</td>\n",
       "      <td>760507625.0</td>\n",
       "      <td>7.8</td>\n",
       "      <td>958400</td>\n",
       "      <td>1</td>\n",
       "      <td>0.0</td>\n",
       "      <td>0.0</td>\n",
       "      <td>0.0</td>\n",
       "    </tr>\n",
       "    <tr>\n",
       "      <th>1</th>\n",
       "      <td>150000000.0</td>\n",
       "      <td>652270625.0</td>\n",
       "      <td>7.0</td>\n",
       "      <td>470625</td>\n",
       "      <td>1</td>\n",
       "      <td>1.0</td>\n",
       "      <td>0.0</td>\n",
       "      <td>0.0</td>\n",
       "    </tr>\n",
       "    <tr>\n",
       "      <th>2</th>\n",
       "      <td>200000000.0</td>\n",
       "      <td>658672302.0</td>\n",
       "      <td>7.8</td>\n",
       "      <td>865551</td>\n",
       "      <td>1</td>\n",
       "      <td>1.0</td>\n",
       "      <td>0.0</td>\n",
       "      <td>0.0</td>\n",
       "    </tr>\n",
       "    <tr>\n",
       "      <th>3</th>\n",
       "      <td>220000000.0</td>\n",
       "      <td>623357910.0</td>\n",
       "      <td>8.1</td>\n",
       "      <td>1069292</td>\n",
       "      <td>1</td>\n",
       "      <td>1.0</td>\n",
       "      <td>0.0</td>\n",
       "      <td>0.0</td>\n",
       "    </tr>\n",
       "    <tr>\n",
       "      <th>4</th>\n",
       "      <td>115000000.0</td>\n",
       "      <td>474544677.0</td>\n",
       "      <td>6.5</td>\n",
       "      <td>587113</td>\n",
       "      <td>1</td>\n",
       "      <td>1.0</td>\n",
       "      <td>0.0</td>\n",
       "      <td>0.0</td>\n",
       "    </tr>\n",
       "  </tbody>\n",
       "</table>\n",
       "</div>"
      ],
      "text/plain": [
       "        budget        gross  score    votes  ROI  country_USA  genre_Comedy  \\\n",
       "0  237000000.0  760507625.0    7.8   958400    1          0.0           0.0   \n",
       "1  150000000.0  652270625.0    7.0   470625    1          1.0           0.0   \n",
       "2  200000000.0  658672302.0    7.8   865551    1          1.0           0.0   \n",
       "3  220000000.0  623357910.0    8.1  1069292    1          1.0           0.0   \n",
       "4  115000000.0  474544677.0    6.5   587113    1          1.0           0.0   \n",
       "\n",
       "   rating_NR  \n",
       "0        0.0  \n",
       "1        0.0  \n",
       "2        0.0  \n",
       "3        0.0  \n",
       "4        0.0  "
      ]
     },
     "execution_count": 83,
     "metadata": {},
     "output_type": "execute_result"
    }
   ],
   "source": [
    "Box_office_v3_copy.head()"
   ]
  },
  {
   "cell_type": "markdown",
   "metadata": {},
   "source": [
    "# Saving XGBoost file"
   ]
  },
  {
   "cell_type": "code",
   "execution_count": 84,
   "metadata": {},
   "outputs": [],
   "source": [
    "Box_office_v3_copy.to_csv(\"Box_office_v3_featureSelection.csv\")"
   ]
  },
  {
   "cell_type": "code",
   "execution_count": 85,
   "metadata": {},
   "outputs": [
    {
     "data": {
      "text/html": [
       "<div>\n",
       "<style scoped>\n",
       "    .dataframe tbody tr th:only-of-type {\n",
       "        vertical-align: middle;\n",
       "    }\n",
       "\n",
       "    .dataframe tbody tr th {\n",
       "        vertical-align: top;\n",
       "    }\n",
       "\n",
       "    .dataframe thead th {\n",
       "        text-align: right;\n",
       "    }\n",
       "</style>\n",
       "<table border=\"1\" class=\"dataframe\">\n",
       "  <thead>\n",
       "    <tr style=\"text-align: right;\">\n",
       "      <th></th>\n",
       "      <th>Unnamed: 0</th>\n",
       "      <th>budget</th>\n",
       "      <th>gross</th>\n",
       "      <th>score</th>\n",
       "      <th>votes</th>\n",
       "      <th>ROI</th>\n",
       "      <th>country_USA</th>\n",
       "      <th>genre_Comedy</th>\n",
       "      <th>rating_NR</th>\n",
       "    </tr>\n",
       "  </thead>\n",
       "  <tbody>\n",
       "    <tr>\n",
       "      <th>0</th>\n",
       "      <td>0</td>\n",
       "      <td>237000000.0</td>\n",
       "      <td>760507625.0</td>\n",
       "      <td>7.8</td>\n",
       "      <td>958400</td>\n",
       "      <td>1</td>\n",
       "      <td>0.0</td>\n",
       "      <td>0.0</td>\n",
       "      <td>0.0</td>\n",
       "    </tr>\n",
       "    <tr>\n",
       "      <th>1</th>\n",
       "      <td>1</td>\n",
       "      <td>150000000.0</td>\n",
       "      <td>652270625.0</td>\n",
       "      <td>7.0</td>\n",
       "      <td>470625</td>\n",
       "      <td>1</td>\n",
       "      <td>1.0</td>\n",
       "      <td>0.0</td>\n",
       "      <td>0.0</td>\n",
       "    </tr>\n",
       "    <tr>\n",
       "      <th>2</th>\n",
       "      <td>2</td>\n",
       "      <td>200000000.0</td>\n",
       "      <td>658672302.0</td>\n",
       "      <td>7.8</td>\n",
       "      <td>865551</td>\n",
       "      <td>1</td>\n",
       "      <td>1.0</td>\n",
       "      <td>0.0</td>\n",
       "      <td>0.0</td>\n",
       "    </tr>\n",
       "    <tr>\n",
       "      <th>3</th>\n",
       "      <td>3</td>\n",
       "      <td>220000000.0</td>\n",
       "      <td>623357910.0</td>\n",
       "      <td>8.1</td>\n",
       "      <td>1069292</td>\n",
       "      <td>1</td>\n",
       "      <td>1.0</td>\n",
       "      <td>0.0</td>\n",
       "      <td>0.0</td>\n",
       "    </tr>\n",
       "    <tr>\n",
       "      <th>4</th>\n",
       "      <td>4</td>\n",
       "      <td>115000000.0</td>\n",
       "      <td>474544677.0</td>\n",
       "      <td>6.5</td>\n",
       "      <td>587113</td>\n",
       "      <td>1</td>\n",
       "      <td>1.0</td>\n",
       "      <td>0.0</td>\n",
       "      <td>0.0</td>\n",
       "    </tr>\n",
       "  </tbody>\n",
       "</table>\n",
       "</div>"
      ],
      "text/plain": [
       "   Unnamed: 0       budget        gross  score    votes  ROI  country_USA  \\\n",
       "0           0  237000000.0  760507625.0    7.8   958400    1          0.0   \n",
       "1           1  150000000.0  652270625.0    7.0   470625    1          1.0   \n",
       "2           2  200000000.0  658672302.0    7.8   865551    1          1.0   \n",
       "3           3  220000000.0  623357910.0    8.1  1069292    1          1.0   \n",
       "4           4  115000000.0  474544677.0    6.5   587113    1          1.0   \n",
       "\n",
       "   genre_Comedy  rating_NR  \n",
       "0           0.0        0.0  \n",
       "1           0.0        0.0  \n",
       "2           0.0        0.0  \n",
       "3           0.0        0.0  \n",
       "4           0.0        0.0  "
      ]
     },
     "execution_count": 85,
     "metadata": {},
     "output_type": "execute_result"
    }
   ],
   "source": [
    "Box_office_v3 = pd.read_csv('Box_office_v3_featureSelection.csv')\n",
    "Box_office_v3.head()"
   ]
  },
  {
   "cell_type": "code",
   "execution_count": 86,
   "metadata": {},
   "outputs": [],
   "source": [
    "Box_office_v3 =Box_office_v3.drop('Unnamed: 0', axis = 1)"
   ]
  },
  {
   "cell_type": "code",
   "execution_count": 87,
   "metadata": {},
   "outputs": [
    {
     "data": {
      "text/html": [
       "<div>\n",
       "<style scoped>\n",
       "    .dataframe tbody tr th:only-of-type {\n",
       "        vertical-align: middle;\n",
       "    }\n",
       "\n",
       "    .dataframe tbody tr th {\n",
       "        vertical-align: top;\n",
       "    }\n",
       "\n",
       "    .dataframe thead th {\n",
       "        text-align: right;\n",
       "    }\n",
       "</style>\n",
       "<table border=\"1\" class=\"dataframe\">\n",
       "  <thead>\n",
       "    <tr style=\"text-align: right;\">\n",
       "      <th></th>\n",
       "      <th>budget</th>\n",
       "      <th>gross</th>\n",
       "      <th>score</th>\n",
       "      <th>votes</th>\n",
       "      <th>ROI</th>\n",
       "      <th>country_USA</th>\n",
       "      <th>genre_Comedy</th>\n",
       "      <th>rating_NR</th>\n",
       "    </tr>\n",
       "  </thead>\n",
       "  <tbody>\n",
       "    <tr>\n",
       "      <th>0</th>\n",
       "      <td>237000000.0</td>\n",
       "      <td>760507625.0</td>\n",
       "      <td>7.8</td>\n",
       "      <td>958400</td>\n",
       "      <td>1</td>\n",
       "      <td>0.0</td>\n",
       "      <td>0.0</td>\n",
       "      <td>0.0</td>\n",
       "    </tr>\n",
       "    <tr>\n",
       "      <th>1</th>\n",
       "      <td>150000000.0</td>\n",
       "      <td>652270625.0</td>\n",
       "      <td>7.0</td>\n",
       "      <td>470625</td>\n",
       "      <td>1</td>\n",
       "      <td>1.0</td>\n",
       "      <td>0.0</td>\n",
       "      <td>0.0</td>\n",
       "    </tr>\n",
       "    <tr>\n",
       "      <th>2</th>\n",
       "      <td>200000000.0</td>\n",
       "      <td>658672302.0</td>\n",
       "      <td>7.8</td>\n",
       "      <td>865551</td>\n",
       "      <td>1</td>\n",
       "      <td>1.0</td>\n",
       "      <td>0.0</td>\n",
       "      <td>0.0</td>\n",
       "    </tr>\n",
       "    <tr>\n",
       "      <th>3</th>\n",
       "      <td>220000000.0</td>\n",
       "      <td>623357910.0</td>\n",
       "      <td>8.1</td>\n",
       "      <td>1069292</td>\n",
       "      <td>1</td>\n",
       "      <td>1.0</td>\n",
       "      <td>0.0</td>\n",
       "      <td>0.0</td>\n",
       "    </tr>\n",
       "    <tr>\n",
       "      <th>4</th>\n",
       "      <td>115000000.0</td>\n",
       "      <td>474544677.0</td>\n",
       "      <td>6.5</td>\n",
       "      <td>587113</td>\n",
       "      <td>1</td>\n",
       "      <td>1.0</td>\n",
       "      <td>0.0</td>\n",
       "      <td>0.0</td>\n",
       "    </tr>\n",
       "  </tbody>\n",
       "</table>\n",
       "</div>"
      ],
      "text/plain": [
       "        budget        gross  score    votes  ROI  country_USA  genre_Comedy  \\\n",
       "0  237000000.0  760507625.0    7.8   958400    1          0.0           0.0   \n",
       "1  150000000.0  652270625.0    7.0   470625    1          1.0           0.0   \n",
       "2  200000000.0  658672302.0    7.8   865551    1          1.0           0.0   \n",
       "3  220000000.0  623357910.0    8.1  1069292    1          1.0           0.0   \n",
       "4  115000000.0  474544677.0    6.5   587113    1          1.0           0.0   \n",
       "\n",
       "   rating_NR  \n",
       "0        0.0  \n",
       "1        0.0  \n",
       "2        0.0  \n",
       "3        0.0  \n",
       "4        0.0  "
      ]
     },
     "execution_count": 87,
     "metadata": {},
     "output_type": "execute_result"
    }
   ],
   "source": [
    "Box_office_v3.head()"
   ]
  },
  {
   "cell_type": "code",
   "execution_count": 88,
   "metadata": {},
   "outputs": [
    {
     "name": "stdout",
     "output_type": "stream",
     "text": [
      "<class 'pandas.core.frame.DataFrame'>\n",
      "RangeIndex: 6000 entries, 0 to 5999\n",
      "Data columns (total 8 columns):\n",
      " #   Column        Non-Null Count  Dtype  \n",
      "---  ------        --------------  -----  \n",
      " 0   budget        6000 non-null   float64\n",
      " 1   gross         6000 non-null   float64\n",
      " 2   score         6000 non-null   float64\n",
      " 3   votes         6000 non-null   int64  \n",
      " 4   ROI           6000 non-null   int64  \n",
      " 5   country_USA   6000 non-null   float64\n",
      " 6   genre_Comedy  6000 non-null   float64\n",
      " 7   rating_NR     6000 non-null   float64\n",
      "dtypes: float64(6), int64(2)\n",
      "memory usage: 375.1 KB\n"
     ]
    }
   ],
   "source": [
    "Box_office_v3.info()"
   ]
  },
  {
   "cell_type": "markdown",
   "metadata": {},
   "source": [
    "# Permutation Feature Importance"
   ]
  },
  {
   "cell_type": "code",
   "execution_count": 82,
   "metadata": {},
   "outputs": [],
   "source": [
    "Box_office_v3_copy = Box_office_v3.copy()\n",
    "Box_office_v3_copy.shape\n",
    "\n",
    "Xin = Box_office_v3_copy.drop('ROI', axis = 1)\n",
    "yin = Box_office_v3_copy.ROI"
   ]
  },
  {
   "cell_type": "code",
   "execution_count": 83,
   "metadata": {},
   "outputs": [
    {
     "name": "stdout",
     "output_type": "stream",
     "text": [
      "Feature: 0, Score: 0.23743\n",
      "Feature: 1, Score: 0.48860\n",
      "Feature: 2, Score: 0.00000\n",
      "Feature: 3, Score: 0.00023\n",
      "Feature: 4, Score: 0.00000\n",
      "Feature: 5, Score: 0.00000\n",
      "Feature: 6, Score: 0.00000\n",
      "Feature: 7, Score: 0.00000\n",
      "Feature: 8, Score: 0.00000\n",
      "Feature: 9, Score: 0.00000\n",
      "Feature: 10, Score: 0.00000\n",
      "Feature: 11, Score: 0.00000\n",
      "Feature: 12, Score: 0.00000\n"
     ]
    }
   ],
   "source": [
    "# permutation feature importance with knn for classification\n",
    "from sklearn.datasets import make_classification\n",
    "from sklearn.neighbors import KNeighborsClassifier\n",
    "from sklearn.inspection import permutation_importance\n",
    "from matplotlib import pyplot\n",
    "# define dataset\n",
    "#X, y = make_classification(n_samples=1000, n_features=10, n_informative=5, n_redundant=5, random_state=1)\n",
    "# define the model\n",
    "model = KNeighborsClassifier()\n",
    "# fit the model\n",
    "model.fit(Xin, yin)\n",
    "# perform permutation importance\n",
    "results = permutation_importance(model, Xin, yin, scoring='accuracy')\n",
    "# get importance\n",
    "importance = results.importances_mean\n",
    "# summarize feature importance\n",
    "for i,v in enumerate(importance):\n",
    "    print('Feature: %0d, Score: %.5f' % (i,v))"
   ]
  },
  {
   "cell_type": "code",
   "execution_count": 53,
   "metadata": {},
   "outputs": [
    {
     "name": "stdout",
     "output_type": "stream",
     "text": [
      "('budget', 0.23520000000000008)\n",
      "('gross', 0.4948666666666667)\n",
      "('score', 0.0)\n",
      "('votes', 0.00023333333333339646)\n",
      "('ROI', 0.0)\n",
      "('country_USA', 0.0)\n",
      "('country_non-USA', 0.0)\n",
      "('genre_Action', 0.0)\n",
      "('genre_Comedy', 0.0)\n",
      "('genre_Drama', 0.0)\n",
      "('genre_Others', 0.0)\n",
      "('rating_NR', 0.0)\n",
      "('rating_PG', 0.0)\n"
     ]
    }
   ],
   "source": [
    "feat_labels = ['budget','gross','score','votes','ROI','country_USA','country_non-USA','genre_Action','genre_Comedy' ,'genre_Drama', 'genre_Others', 'rating_NR', 'rating_PG', 'rating_R']\n",
    "for feature in zip(feat_labels,results.importances_mean):\n",
    "    print(feature)"
   ]
  },
  {
   "cell_type": "code",
   "execution_count": 55,
   "metadata": {},
   "outputs": [
    {
     "data": {
      "text/html": [
       "<div>\n",
       "<style scoped>\n",
       "    .dataframe tbody tr th:only-of-type {\n",
       "        vertical-align: middle;\n",
       "    }\n",
       "\n",
       "    .dataframe tbody tr th {\n",
       "        vertical-align: top;\n",
       "    }\n",
       "\n",
       "    .dataframe thead th {\n",
       "        text-align: right;\n",
       "    }\n",
       "</style>\n",
       "<table border=\"1\" class=\"dataframe\">\n",
       "  <thead>\n",
       "    <tr style=\"text-align: right;\">\n",
       "      <th></th>\n",
       "      <th>columns</th>\n",
       "      <th>importances</th>\n",
       "    </tr>\n",
       "  </thead>\n",
       "  <tbody>\n",
       "    <tr>\n",
       "      <th>1</th>\n",
       "      <td>gross</td>\n",
       "      <td>0.494867</td>\n",
       "    </tr>\n",
       "    <tr>\n",
       "      <th>0</th>\n",
       "      <td>budget</td>\n",
       "      <td>0.235200</td>\n",
       "    </tr>\n",
       "    <tr>\n",
       "      <th>3</th>\n",
       "      <td>votes</td>\n",
       "      <td>0.000233</td>\n",
       "    </tr>\n",
       "    <tr>\n",
       "      <th>2</th>\n",
       "      <td>score</td>\n",
       "      <td>0.000000</td>\n",
       "    </tr>\n",
       "    <tr>\n",
       "      <th>4</th>\n",
       "      <td>country_USA</td>\n",
       "      <td>0.000000</td>\n",
       "    </tr>\n",
       "    <tr>\n",
       "      <th>5</th>\n",
       "      <td>country_non-USA</td>\n",
       "      <td>0.000000</td>\n",
       "    </tr>\n",
       "    <tr>\n",
       "      <th>6</th>\n",
       "      <td>genre_Action</td>\n",
       "      <td>0.000000</td>\n",
       "    </tr>\n",
       "    <tr>\n",
       "      <th>7</th>\n",
       "      <td>genre_Comedy</td>\n",
       "      <td>0.000000</td>\n",
       "    </tr>\n",
       "    <tr>\n",
       "      <th>8</th>\n",
       "      <td>genre_Drama</td>\n",
       "      <td>0.000000</td>\n",
       "    </tr>\n",
       "    <tr>\n",
       "      <th>9</th>\n",
       "      <td>genre_Others</td>\n",
       "      <td>0.000000</td>\n",
       "    </tr>\n",
       "    <tr>\n",
       "      <th>10</th>\n",
       "      <td>rating_NR</td>\n",
       "      <td>0.000000</td>\n",
       "    </tr>\n",
       "    <tr>\n",
       "      <th>11</th>\n",
       "      <td>rating_PG</td>\n",
       "      <td>0.000000</td>\n",
       "    </tr>\n",
       "    <tr>\n",
       "      <th>12</th>\n",
       "      <td>rating_R</td>\n",
       "      <td>0.000000</td>\n",
       "    </tr>\n",
       "  </tbody>\n",
       "</table>\n",
       "</div>"
      ],
      "text/plain": [
       "            columns  importances\n",
       "1             gross     0.494867\n",
       "0            budget     0.235200\n",
       "3             votes     0.000233\n",
       "2             score     0.000000\n",
       "4       country_USA     0.000000\n",
       "5   country_non-USA     0.000000\n",
       "6      genre_Action     0.000000\n",
       "7      genre_Comedy     0.000000\n",
       "8       genre_Drama     0.000000\n",
       "9      genre_Others     0.000000\n",
       "10        rating_NR     0.000000\n",
       "11        rating_PG     0.000000\n",
       "12         rating_R     0.000000"
      ]
     },
     "execution_count": 55,
     "metadata": {},
     "output_type": "execute_result"
    }
   ],
   "source": [
    "results=pd.DataFrame()\n",
    "results['columns']= Xin.columns\n",
    "results['importances'] = importance\n",
    "results.sort_values(by='importances',ascending=False,inplace=True)\n",
    "\n",
    "results[:20]"
   ]
  },
  {
   "cell_type": "code",
   "execution_count": 84,
   "metadata": {},
   "outputs": [
    {
     "data": {
      "image/png": "[encoded data removed]",
      "text/plain": [
       "<Figure size 432x288 with 1 Axes>"
      ]
     },
     "metadata": {},
     "output_type": "display_data"
    }
   ],
   "source": [
    "# plot feature importance\n",
    "pyplot.bar([x for x in range(len(importance))], importance)\n",
    "pyplot.show()"
   ]
  },
  {
   "cell_type": "code",
   "execution_count": null,
   "metadata": {},
   "outputs": [],
   "source": [
    "#if we change selection process then drop the colmuns as per selection method"
   ]
  },
  {
   "cell_type": "code",
   "execution_count": null,
   "metadata": {},
   "outputs": [],
   "source": [
    "#save a V3 of the file "
   ]
  },
  {
   "cell_type": "markdown",
   "metadata": {},
   "source": [
    "# Fixing the skewness and outliers"
   ]
  },
  {
   "cell_type": "code",
   "execution_count": 89,
   "metadata": {},
   "outputs": [
    {
     "data": {
      "text/html": [
       "<div>\n",
       "<style scoped>\n",
       "    .dataframe tbody tr th:only-of-type {\n",
       "        vertical-align: middle;\n",
       "    }\n",
       "\n",
       "    .dataframe tbody tr th {\n",
       "        vertical-align: top;\n",
       "    }\n",
       "\n",
       "    .dataframe thead th {\n",
       "        text-align: right;\n",
       "    }\n",
       "</style>\n",
       "<table border=\"1\" class=\"dataframe\">\n",
       "  <thead>\n",
       "    <tr style=\"text-align: right;\">\n",
       "      <th></th>\n",
       "      <th>budget</th>\n",
       "      <th>gross</th>\n",
       "      <th>score</th>\n",
       "      <th>votes</th>\n",
       "      <th>ROI</th>\n",
       "      <th>country_USA</th>\n",
       "      <th>genre_Comedy</th>\n",
       "      <th>rating_NR</th>\n",
       "    </tr>\n",
       "  </thead>\n",
       "  <tbody>\n",
       "    <tr>\n",
       "      <th>0</th>\n",
       "      <td>237000000.0</td>\n",
       "      <td>760507625.0</td>\n",
       "      <td>7.8</td>\n",
       "      <td>958400</td>\n",
       "      <td>1</td>\n",
       "      <td>0.0</td>\n",
       "      <td>0.0</td>\n",
       "      <td>0.0</td>\n",
       "    </tr>\n",
       "    <tr>\n",
       "      <th>1</th>\n",
       "      <td>150000000.0</td>\n",
       "      <td>652270625.0</td>\n",
       "      <td>7.0</td>\n",
       "      <td>470625</td>\n",
       "      <td>1</td>\n",
       "      <td>1.0</td>\n",
       "      <td>0.0</td>\n",
       "      <td>0.0</td>\n",
       "    </tr>\n",
       "    <tr>\n",
       "      <th>2</th>\n",
       "      <td>200000000.0</td>\n",
       "      <td>658672302.0</td>\n",
       "      <td>7.8</td>\n",
       "      <td>865551</td>\n",
       "      <td>1</td>\n",
       "      <td>1.0</td>\n",
       "      <td>0.0</td>\n",
       "      <td>0.0</td>\n",
       "    </tr>\n",
       "    <tr>\n",
       "      <th>3</th>\n",
       "      <td>220000000.0</td>\n",
       "      <td>623357910.0</td>\n",
       "      <td>8.1</td>\n",
       "      <td>1069292</td>\n",
       "      <td>1</td>\n",
       "      <td>1.0</td>\n",
       "      <td>0.0</td>\n",
       "      <td>0.0</td>\n",
       "    </tr>\n",
       "    <tr>\n",
       "      <th>4</th>\n",
       "      <td>115000000.0</td>\n",
       "      <td>474544677.0</td>\n",
       "      <td>6.5</td>\n",
       "      <td>587113</td>\n",
       "      <td>1</td>\n",
       "      <td>1.0</td>\n",
       "      <td>0.0</td>\n",
       "      <td>0.0</td>\n",
       "    </tr>\n",
       "  </tbody>\n",
       "</table>\n",
       "</div>"
      ],
      "text/plain": [
       "        budget        gross  score    votes  ROI  country_USA  genre_Comedy  \\\n",
       "0  237000000.0  760507625.0    7.8   958400    1          0.0           0.0   \n",
       "1  150000000.0  652270625.0    7.0   470625    1          1.0           0.0   \n",
       "2  200000000.0  658672302.0    7.8   865551    1          1.0           0.0   \n",
       "3  220000000.0  623357910.0    8.1  1069292    1          1.0           0.0   \n",
       "4  115000000.0  474544677.0    6.5   587113    1          1.0           0.0   \n",
       "\n",
       "   rating_NR  \n",
       "0        0.0  \n",
       "1        0.0  \n",
       "2        0.0  \n",
       "3        0.0  \n",
       "4        0.0  "
      ]
     },
     "execution_count": 89,
     "metadata": {},
     "output_type": "execute_result"
    }
   ],
   "source": [
    "Box_office_v3.head()"
   ]
  },
  {
   "cell_type": "code",
   "execution_count": 90,
   "metadata": {},
   "outputs": [
    {
     "data": {
      "text/html": [
       "<div>\n",
       "<style scoped>\n",
       "    .dataframe tbody tr th:only-of-type {\n",
       "        vertical-align: middle;\n",
       "    }\n",
       "\n",
       "    .dataframe tbody tr th {\n",
       "        vertical-align: top;\n",
       "    }\n",
       "\n",
       "    .dataframe thead th {\n",
       "        text-align: right;\n",
       "    }\n",
       "</style>\n",
       "<table border=\"1\" class=\"dataframe\">\n",
       "  <thead>\n",
       "    <tr style=\"text-align: right;\">\n",
       "      <th></th>\n",
       "      <th>Skew</th>\n",
       "    </tr>\n",
       "  </thead>\n",
       "  <tbody>\n",
       "    <tr>\n",
       "      <th>votes</th>\n",
       "      <td>4.831332</td>\n",
       "    </tr>\n",
       "    <tr>\n",
       "      <th>rating_NR</th>\n",
       "      <td>4.428610</td>\n",
       "    </tr>\n",
       "    <tr>\n",
       "      <th>gross</th>\n",
       "      <td>3.901426</td>\n",
       "    </tr>\n",
       "    <tr>\n",
       "      <th>budget</th>\n",
       "      <td>2.851542</td>\n",
       "    </tr>\n",
       "    <tr>\n",
       "      <th>genre_Comedy</th>\n",
       "      <td>0.857565</td>\n",
       "    </tr>\n",
       "    <tr>\n",
       "      <th>ROI</th>\n",
       "      <td>0.428260</td>\n",
       "    </tr>\n",
       "    <tr>\n",
       "      <th>score</th>\n",
       "      <td>-0.620615</td>\n",
       "    </tr>\n",
       "    <tr>\n",
       "      <th>country_USA</th>\n",
       "      <td>-0.944664</td>\n",
       "    </tr>\n",
       "  </tbody>\n",
       "</table>\n",
       "</div>"
      ],
      "text/plain": [
       "                  Skew\n",
       "votes         4.831332\n",
       "rating_NR     4.428610\n",
       "gross         3.901426\n",
       "budget        2.851542\n",
       "genre_Comedy  0.857565\n",
       "ROI           0.428260\n",
       "score        -0.620615\n",
       "country_USA  -0.944664"
      ]
     },
     "execution_count": 90,
     "metadata": {},
     "output_type": "execute_result"
    }
   ],
   "source": [
    "num_feast = Box_office_v3.dtypes[Box_office_v3.dtypes!= 'object'].index\n",
    "skew_feats = Box_office_v3[num_feast].skew().sort_values(ascending = False)\n",
    "skweness = pd.DataFrame({'Skew': skew_feats})\n",
    "skweness"
   ]
  },
  {
   "cell_type": "markdown",
   "metadata": {},
   "source": [
    "# Fixing budget"
   ]
  },
  {
   "cell_type": "code",
   "execution_count": 91,
   "metadata": {},
   "outputs": [
    {
     "data": {
      "text/plain": [
       "<AxesSubplot:xlabel='budget'>"
      ]
     },
     "execution_count": 91,
     "metadata": {},
     "output_type": "execute_result"
    },
    {
     "data": {
      "image/png": "[encoded data removed]",
      "text/plain": [
       "<Figure size 576x432 with 1 Axes>"
      ]
     },
     "metadata": {},
     "output_type": "display_data"
    }
   ],
   "source": [
    "#### Remove outliers\n",
    "plt.figure(figsize=(8,6))\n",
    "import seaborn as sns\n",
    "sns.boxplot(x=Box_office_v3['budget'])"
   ]
  },
  {
   "cell_type": "code",
   "execution_count": 92,
   "metadata": {},
   "outputs": [
    {
     "data": {
      "text/plain": [
       "0.0"
      ]
     },
     "execution_count": 92,
     "metadata": {},
     "output_type": "execute_result"
    }
   ],
   "source": [
    "resp = Box_office_v3['budget']\n",
    "from scipy.stats import shapiro\n",
    "shapiro(resp)[1]"
   ]
  },
  {
   "cell_type": "code",
   "execution_count": 93,
   "metadata": {},
   "outputs": [
    {
     "data": {
      "text/plain": [
       "<AxesSubplot:xlabel='budget', ylabel='Density'>"
      ]
     },
     "execution_count": 93,
     "metadata": {},
     "output_type": "execute_result"
    },
    {
     "data": {
      "image/png": "[encoded data removed]",
      "text/plain": [
       "<Figure size 576x432 with 1 Axes>"
      ]
     },
     "metadata": {},
     "output_type": "display_data"
    }
   ],
   "source": [
    "plt.figure(figsize=(8,6))\n",
    "sns.distplot(resp)\n"
   ]
  },
  {
   "cell_type": "markdown",
   "metadata": {},
   "source": [
    "# Square root transformation"
   ]
  },
  {
   "cell_type": "code",
   "execution_count": 94,
   "metadata": {},
   "outputs": [
    {
     "data": {
      "text/plain": [
       "<AxesSubplot:xlabel='budget', ylabel='Density'>"
      ]
     },
     "execution_count": 94,
     "metadata": {},
     "output_type": "execute_result"
    },
    {
     "data": {
      "image/png": "[encoded data removed]",
      "text/plain": [
       "<Figure size 576x432 with 1 Axes>"
      ]
     },
     "metadata": {},
     "output_type": "display_data"
    }
   ],
   "source": [
    "plt.figure(figsize=(8,6))\n",
    "sqrt_resp = resp ** (.5)\n",
    "sns.distplot(sqrt_resp)"
   ]
  },
  {
   "cell_type": "markdown",
   "metadata": {},
   "source": [
    "# Reciprocal Tranformation"
   ]
  },
  {
   "cell_type": "code",
   "execution_count": 252,
   "metadata": {},
   "outputs": [
    {
     "data": {
      "text/plain": [
       "<AxesSubplot:xlabel='budget', ylabel='Density'>"
      ]
     },
     "execution_count": 252,
     "metadata": {},
     "output_type": "execute_result"
    },
    {
     "data": {
      "image/png": "[encoded data removed]",
      "text/plain": [
       "<Figure size 576x432 with 1 Axes>"
      ]
     },
     "metadata": {},
     "output_type": "display_data"
    }
   ],
   "source": [
    "plt.figure(figsize=(8,6))\n",
    "recip = 1/Box_office_v3['budget']\n",
    "sns.distplot(recip)"
   ]
  },
  {
   "cell_type": "markdown",
   "metadata": {},
   "source": [
    "# Log Tranformation"
   ]
  },
  {
   "cell_type": "code",
   "execution_count": 253,
   "metadata": {},
   "outputs": [
    {
     "data": {
      "text/plain": [
       "<AxesSubplot:xlabel='budget', ylabel='Density'>"
      ]
     },
     "execution_count": 253,
     "metadata": {},
     "output_type": "execute_result"
    },
    {
     "data": {
      "image/png": "[encoded data removed]",
      "text/plain": [
       "<Figure size 576x432 with 1 Axes>"
      ]
     },
     "metadata": {},
     "output_type": "display_data"
    }
   ],
   "source": [
    "plt.figure(figsize=(8,6))\n",
    "log_resp = np.log(resp)\n",
    "sns.distplot(log_resp)"
   ]
  },
  {
   "cell_type": "markdown",
   "metadata": {},
   "source": [
    "# Power Transformation"
   ]
  },
  {
   "cell_type": "code",
   "execution_count": 254,
   "metadata": {},
   "outputs": [
    {
     "data": {
      "text/plain": [
       "<AxesSubplot:xlabel='budget', ylabel='Density'>"
      ]
     },
     "execution_count": 254,
     "metadata": {},
     "output_type": "execute_result"
    },
    {
     "data": {
      "image/png": "[encoded data removed]",
      "text/plain": [
       "<Figure size 576x432 with 1 Axes>"
      ]
     },
     "metadata": {},
     "output_type": "display_data"
    }
   ],
   "source": [
    "# # power transform the raw data\n",
    "from sklearn.preprocessing import PowerTransformer\n",
    "\n",
    "plt.figure(figsize=(8,6))\n",
    "\n",
    "resp2 =resp.values.reshape((len(resp),1))\n",
    "power_resp2 = PowerTransformer(method='yeo-johnson', standardize=True)\n",
    "data_trans = power_resp2.fit_transform(resp2)\n",
    "\n",
    "\n",
    "sns.distplot(log_resp)"
   ]
  },
  {
   "cell_type": "markdown",
   "metadata": {},
   "source": [
    "# Fixing Gross"
   ]
  },
  {
   "cell_type": "code",
   "execution_count": 96,
   "metadata": {},
   "outputs": [
    {
     "data": {
      "text/plain": [
       "<AxesSubplot:xlabel='gross'>"
      ]
     },
     "execution_count": 96,
     "metadata": {},
     "output_type": "execute_result"
    },
    {
     "data": {
      "image/png": "[encoded data removed]",
      "text/plain": [
       "<Figure size 576x432 with 1 Axes>"
      ]
     },
     "metadata": {},
     "output_type": "display_data"
    }
   ],
   "source": [
    "plt.figure(figsize=(8,6))\n",
    "import seaborn as sns\n",
    "sns.boxplot(x=Box_office_v3['gross'])"
   ]
  },
  {
   "cell_type": "code",
   "execution_count": 97,
   "metadata": {},
   "outputs": [
    {
     "data": {
      "text/plain": [
       "0.0"
      ]
     },
     "execution_count": 97,
     "metadata": {},
     "output_type": "execute_result"
    }
   ],
   "source": [
    "resp = Box_office_v3['gross']\n",
    "from scipy.stats import shapiro\n",
    "shapiro(resp)[1]"
   ]
  },
  {
   "cell_type": "code",
   "execution_count": 98,
   "metadata": {},
   "outputs": [
    {
     "data": {
      "text/plain": [
       "<AxesSubplot:xlabel='gross', ylabel='Density'>"
      ]
     },
     "execution_count": 98,
     "metadata": {},
     "output_type": "execute_result"
    },
    {
     "data": {
      "image/png": "[encoded data removed]",
      "text/plain": [
       "<Figure size 576x432 with 1 Axes>"
      ]
     },
     "metadata": {},
     "output_type": "display_data"
    }
   ],
   "source": [
    "plt.figure(figsize=(8,6))\n",
    "sns.distplot(resp)\n"
   ]
  },
  {
   "cell_type": "markdown",
   "metadata": {},
   "source": [
    "# Square root"
   ]
  },
  {
   "cell_type": "code",
   "execution_count": 258,
   "metadata": {},
   "outputs": [
    {
     "data": {
      "text/plain": [
       "<AxesSubplot:xlabel='gross', ylabel='Density'>"
      ]
     },
     "execution_count": 258,
     "metadata": {},
     "output_type": "execute_result"
    },
    {
     "data": {
      "image/png": "[encoded data removed]",
      "text/plain": [
       "<Figure size 576x432 with 1 Axes>"
      ]
     },
     "metadata": {},
     "output_type": "display_data"
    }
   ],
   "source": [
    "plt.figure(figsize=(8,6))\n",
    "sqrt_resp = resp ** (.5)\n",
    "sns.distplot(sqrt_resp)"
   ]
  },
  {
   "cell_type": "markdown",
   "metadata": {},
   "source": [
    "# Reciprocal"
   ]
  },
  {
   "cell_type": "code",
   "execution_count": 259,
   "metadata": {},
   "outputs": [
    {
     "data": {
      "text/plain": [
       "<AxesSubplot:xlabel='gross', ylabel='Density'>"
      ]
     },
     "execution_count": 259,
     "metadata": {},
     "output_type": "execute_result"
    },
    {
     "data": {
      "image/png": "[encoded data removed]",
      "text/plain": [
       "<Figure size 576x432 with 1 Axes>"
      ]
     },
     "metadata": {},
     "output_type": "display_data"
    }
   ],
   "source": [
    "plt.figure(figsize=(8,6))\n",
    "recip = 1/Box_office_v3['gross']\n",
    "sns.distplot(recip)"
   ]
  },
  {
   "cell_type": "markdown",
   "metadata": {},
   "source": [
    "# Log Trans"
   ]
  },
  {
   "cell_type": "code",
   "execution_count": 99,
   "metadata": {},
   "outputs": [
    {
     "data": {
      "text/plain": [
       "<AxesSubplot:xlabel='gross', ylabel='Density'>"
      ]
     },
     "execution_count": 99,
     "metadata": {},
     "output_type": "execute_result"
    },
    {
     "data": {
      "image/png": "[encoded data removed]",
      "text/plain": [
       "<Figure size 576x432 with 1 Axes>"
      ]
     },
     "metadata": {},
     "output_type": "display_data"
    }
   ],
   "source": [
    "plt.figure(figsize=(8,6))\n",
    "log_resp = np.log(resp)\n",
    "sns.distplot(log_resp)"
   ]
  },
  {
   "cell_type": "markdown",
   "metadata": {},
   "source": [
    "# Power trans"
   ]
  },
  {
   "cell_type": "code",
   "execution_count": 261,
   "metadata": {},
   "outputs": [
    {
     "data": {
      "text/plain": [
       "<AxesSubplot:xlabel='gross', ylabel='Density'>"
      ]
     },
     "execution_count": 261,
     "metadata": {},
     "output_type": "execute_result"
    },
    {
     "data": {
      "image/png": "[encoded data removed]",
      "text/plain": [
       "<Figure size 576x432 with 1 Axes>"
      ]
     },
     "metadata": {},
     "output_type": "display_data"
    }
   ],
   "source": [
    "# # power transform the raw data\n",
    "from sklearn.preprocessing import PowerTransformer\n",
    "\n",
    "plt.figure(figsize=(8,6))\n",
    "\n",
    "resp2 =resp.values.reshape((len(resp),1))\n",
    "power_resp2 = PowerTransformer(method='yeo-johnson', standardize=True)\n",
    "data_trans = power_resp2.fit_transform(resp2)\n",
    "\n",
    "\n",
    "sns.distplot(log_resp)"
   ]
  },
  {
   "cell_type": "markdown",
   "metadata": {},
   "source": [
    "# Fixing Score"
   ]
  },
  {
   "cell_type": "code",
   "execution_count": 101,
   "metadata": {},
   "outputs": [
    {
     "data": {
      "text/plain": [
       "<AxesSubplot:xlabel='score'>"
      ]
     },
     "execution_count": 101,
     "metadata": {},
     "output_type": "execute_result"
    },
    {
     "data": {
      "image/png": "[encoded data removed]",
      "text/plain": [
       "<Figure size 576x432 with 1 Axes>"
      ]
     },
     "metadata": {},
     "output_type": "display_data"
    }
   ],
   "source": [
    "plt.figure(figsize=(8,6))\n",
    "import seaborn as sns\n",
    "sns.boxplot(x=Box_office_v3['score'])"
   ]
  },
  {
   "cell_type": "code",
   "execution_count": 102,
   "metadata": {},
   "outputs": [
    {
     "data": {
      "text/plain": [
       "<AxesSubplot:xlabel='score', ylabel='Density'>"
      ]
     },
     "execution_count": 102,
     "metadata": {},
     "output_type": "execute_result"
    },
    {
     "data": {
      "image/png": "[encoded data removed]",
      "text/plain": [
       "<Figure size 576x432 with 1 Axes>"
      ]
     },
     "metadata": {},
     "output_type": "display_data"
    }
   ],
   "source": [
    "resp = Box_office_v3['score']\n",
    "from scipy.stats import shapiro\n",
    "shapiro(resp)[1]\n",
    "\n",
    "plt.figure(figsize=(8,6))\n",
    "sns.distplot(resp)\n"
   ]
  },
  {
   "cell_type": "markdown",
   "metadata": {},
   "source": [
    "# Square root"
   ]
  },
  {
   "cell_type": "code",
   "execution_count": 270,
   "metadata": {},
   "outputs": [
    {
     "data": {
      "text/plain": [
       "<AxesSubplot:xlabel='score', ylabel='Density'>"
      ]
     },
     "execution_count": 270,
     "metadata": {},
     "output_type": "execute_result"
    },
    {
     "data": {
      "image/png": "[encoded data removed]",
      "text/plain": [
       "<Figure size 576x432 with 1 Axes>"
      ]
     },
     "metadata": {},
     "output_type": "display_data"
    }
   ],
   "source": [
    "plt.figure(figsize=(8,6))\n",
    "sqrt_resp = resp ** (.5)\n",
    "sns.distplot(sqrt_resp)"
   ]
  },
  {
   "cell_type": "markdown",
   "metadata": {},
   "source": [
    "# Reciprocal"
   ]
  },
  {
   "cell_type": "code",
   "execution_count": 271,
   "metadata": {},
   "outputs": [
    {
     "data": {
      "text/plain": [
       "<AxesSubplot:xlabel='score', ylabel='Density'>"
      ]
     },
     "execution_count": 271,
     "metadata": {},
     "output_type": "execute_result"
    },
    {
     "data": {
      "image/png": "[encoded data removed]",
      "text/plain": [
       "<Figure size 576x432 with 1 Axes>"
      ]
     },
     "metadata": {},
     "output_type": "display_data"
    }
   ],
   "source": [
    "plt.figure(figsize=(8,6))\n",
    "recip = 1/Box_office_v3['score']\n",
    "sns.distplot(recip)"
   ]
  },
  {
   "cell_type": "markdown",
   "metadata": {},
   "source": [
    "# Log Trans"
   ]
  },
  {
   "cell_type": "code",
   "execution_count": 103,
   "metadata": {},
   "outputs": [
    {
     "data": {
      "text/plain": [
       "<AxesSubplot:xlabel='score', ylabel='Density'>"
      ]
     },
     "execution_count": 103,
     "metadata": {},
     "output_type": "execute_result"
    },
    {
     "data": {
      "image/png": "[encoded data removed]",
      "text/plain": [
       "<Figure size 576x432 with 1 Axes>"
      ]
     },
     "metadata": {},
     "output_type": "display_data"
    }
   ],
   "source": [
    "plt.figure(figsize=(8,6))\n",
    "log_resp = np.log(resp)\n",
    "sns.distplot(log_resp)"
   ]
  },
  {
   "cell_type": "markdown",
   "metadata": {},
   "source": [
    "# Power trans"
   ]
  },
  {
   "cell_type": "code",
   "execution_count": 273,
   "metadata": {},
   "outputs": [
    {
     "data": {
      "text/plain": [
       "<AxesSubplot:xlabel='score', ylabel='Density'>"
      ]
     },
     "execution_count": 273,
     "metadata": {},
     "output_type": "execute_result"
    },
    {
     "data": {
      "image/png": "[encoded data removed]",
      "text/plain": [
       "<Figure size 576x432 with 1 Axes>"
      ]
     },
     "metadata": {},
     "output_type": "display_data"
    }
   ],
   "source": [
    "# # power transform the raw data\n",
    "from sklearn.preprocessing import PowerTransformer\n",
    "\n",
    "plt.figure(figsize=(8,6))\n",
    "\n",
    "resp2 =resp.values.reshape((len(resp),1))\n",
    "power_resp2 = PowerTransformer(method='yeo-johnson', standardize=True)\n",
    "data_trans = power_resp2.fit_transform(resp2)\n",
    "\n",
    "\n",
    "sns.distplot(log_resp)"
   ]
  },
  {
   "cell_type": "markdown",
   "metadata": {},
   "source": [
    "# Fixing Votes"
   ]
  },
  {
   "cell_type": "code",
   "execution_count": 105,
   "metadata": {},
   "outputs": [
    {
     "data": {
      "text/plain": [
       "<AxesSubplot:xlabel='votes'>"
      ]
     },
     "execution_count": 105,
     "metadata": {},
     "output_type": "execute_result"
    },
    {
     "data": {
      "image/png": "[encoded data removed]",
      "text/plain": [
       "<Figure size 576x432 with 1 Axes>"
      ]
     },
     "metadata": {},
     "output_type": "display_data"
    }
   ],
   "source": [
    "plt.figure(figsize=(8,6))\n",
    "import seaborn as sns\n",
    "sns.boxplot(x=Box_office_v3['votes'])"
   ]
  },
  {
   "cell_type": "code",
   "execution_count": 106,
   "metadata": {},
   "outputs": [
    {
     "data": {
      "text/plain": [
       "<AxesSubplot:xlabel='votes', ylabel='Density'>"
      ]
     },
     "execution_count": 106,
     "metadata": {},
     "output_type": "execute_result"
    },
    {
     "data": {
      "image/png": "[encoded data removed]",
      "text/plain": [
       "<Figure size 576x432 with 1 Axes>"
      ]
     },
     "metadata": {},
     "output_type": "display_data"
    }
   ],
   "source": [
    "resp = Box_office_v3['votes']\n",
    "from scipy.stats import shapiro\n",
    "shapiro(resp)[1]\n",
    "\n",
    "plt.figure(figsize=(8,6))\n",
    "sns.distplot(resp)"
   ]
  },
  {
   "cell_type": "markdown",
   "metadata": {},
   "source": [
    "# Square root Trans"
   ]
  },
  {
   "cell_type": "code",
   "execution_count": 276,
   "metadata": {},
   "outputs": [
    {
     "data": {
      "text/plain": [
       "<AxesSubplot:xlabel='votes', ylabel='Density'>"
      ]
     },
     "execution_count": 276,
     "metadata": {},
     "output_type": "execute_result"
    },
    {
     "data": {
      "image/png": "[encoded data removed]",
      "text/plain": [
       "<Figure size 576x432 with 1 Axes>"
      ]
     },
     "metadata": {},
     "output_type": "display_data"
    }
   ],
   "source": [
    "plt.figure(figsize=(8,6))\n",
    "sqrt_resp = resp ** (.5)\n",
    "sns.distplot(sqrt_resp)"
   ]
  },
  {
   "cell_type": "markdown",
   "metadata": {},
   "source": [
    "# Reciprocal Trans"
   ]
  },
  {
   "cell_type": "code",
   "execution_count": 277,
   "metadata": {},
   "outputs": [
    {
     "data": {
      "text/plain": [
       "<AxesSubplot:xlabel='votes', ylabel='Density'>"
      ]
     },
     "execution_count": 277,
     "metadata": {},
     "output_type": "execute_result"
    },
    {
     "data": {
      "image/png": "[encoded data removed]",
      "text/plain": [
       "<Figure size 576x432 with 1 Axes>"
      ]
     },
     "metadata": {},
     "output_type": "display_data"
    }
   ],
   "source": [
    "plt.figure(figsize=(8,6))\n",
    "recip = 1/Box_office_v3['votes']\n",
    "sns.distplot(recip)"
   ]
  },
  {
   "cell_type": "markdown",
   "metadata": {},
   "source": [
    "# Log trans"
   ]
  },
  {
   "cell_type": "code",
   "execution_count": 107,
   "metadata": {},
   "outputs": [
    {
     "data": {
      "text/plain": [
       "<AxesSubplot:xlabel='votes', ylabel='Density'>"
      ]
     },
     "execution_count": 107,
     "metadata": {},
     "output_type": "execute_result"
    },
    {
     "data": {
      "image/png": "[encoded data removed]",
      "text/plain": [
       "<Figure size 576x432 with 1 Axes>"
      ]
     },
     "metadata": {},
     "output_type": "display_data"
    }
   ],
   "source": [
    "plt.figure(figsize=(8,6))\n",
    "log_resp = np.log(resp)\n",
    "sns.distplot(log_resp)"
   ]
  },
  {
   "cell_type": "markdown",
   "metadata": {},
   "source": [
    "# Power Trans"
   ]
  },
  {
   "cell_type": "code",
   "execution_count": 279,
   "metadata": {},
   "outputs": [
    {
     "data": {
      "text/plain": [
       "<AxesSubplot:xlabel='votes', ylabel='Density'>"
      ]
     },
     "execution_count": 279,
     "metadata": {},
     "output_type": "execute_result"
    },
    {
     "data": {
      "image/png": "[encoded data removed]",
      "text/plain": [
       "<Figure size 576x432 with 1 Axes>"
      ]
     },
     "metadata": {},
     "output_type": "display_data"
    }
   ],
   "source": [
    "# # power transform the raw data\n",
    "from sklearn.preprocessing import PowerTransformer\n",
    "\n",
    "plt.figure(figsize=(8,6))\n",
    "\n",
    "resp2 =resp.values.reshape((len(resp),1))\n",
    "power_resp2 = PowerTransformer(method='yeo-johnson', standardize=True)\n",
    "data_trans = power_resp2.fit_transform(resp2)\n",
    "\n",
    "\n",
    "sns.distplot(log_resp)"
   ]
  },
  {
   "cell_type": "markdown",
   "metadata": {},
   "source": [
    "# Save transformed values"
   ]
  },
  {
   "cell_type": "markdown",
   "metadata": {},
   "source": [
    "# Budget"
   ]
  },
  {
   "cell_type": "code",
   "execution_count": 95,
   "metadata": {},
   "outputs": [],
   "source": [
    "Box_office_v3['square_root_budget'] = np.log(Box_office_v3['budget'])"
   ]
  },
  {
   "cell_type": "markdown",
   "metadata": {},
   "source": [
    "# Gross"
   ]
  },
  {
   "cell_type": "code",
   "execution_count": 100,
   "metadata": {},
   "outputs": [],
   "source": [
    "Box_office_v3['log_trans_gross'] = np.log(Box_office_v3['gross'])"
   ]
  },
  {
   "cell_type": "markdown",
   "metadata": {},
   "source": [
    "# Score"
   ]
  },
  {
   "cell_type": "code",
   "execution_count": 104,
   "metadata": {},
   "outputs": [],
   "source": [
    "Box_office_v3['log_trans_score'] = np.log(Box_office_v3['score'])"
   ]
  },
  {
   "cell_type": "markdown",
   "metadata": {},
   "source": [
    "# Votes"
   ]
  },
  {
   "cell_type": "code",
   "execution_count": 108,
   "metadata": {},
   "outputs": [],
   "source": [
    "Box_office_v3['log_trans_votes'] = np.log(Box_office_v3['votes'])"
   ]
  },
  {
   "cell_type": "markdown",
   "metadata": {},
   "source": [
    "# View & delete old, not transformed columns"
   ]
  },
  {
   "cell_type": "code",
   "execution_count": 109,
   "metadata": {},
   "outputs": [
    {
     "data": {
      "text/plain": [
       "Index(['budget', 'gross', 'score', 'votes', 'ROI', 'country_USA',\n",
       "       'genre_Comedy', 'rating_NR', 'square_root_budget', 'log_trans_gross',\n",
       "       'log_trans_score', 'log_trans_votes'],\n",
       "      dtype='object')"
      ]
     },
     "execution_count": 109,
     "metadata": {},
     "output_type": "execute_result"
    }
   ],
   "source": [
    "Box_office_v3.columns"
   ]
  },
  {
   "cell_type": "code",
   "execution_count": 110,
   "metadata": {},
   "outputs": [],
   "source": [
    "Box_office_v3_copy = Box_office_v3[['country_USA',\n",
    "       'genre_Comedy', 'rating_NR', 'square_root_budget', 'log_trans_gross',\n",
    "       'log_trans_score', 'log_trans_votes','ROI']]"
   ]
  },
  {
   "cell_type": "code",
   "execution_count": 111,
   "metadata": {},
   "outputs": [
    {
     "name": "stdout",
     "output_type": "stream",
     "text": [
      "<class 'pandas.core.frame.DataFrame'>\n",
      "RangeIndex: 6000 entries, 0 to 5999\n",
      "Data columns (total 8 columns):\n",
      " #   Column              Non-Null Count  Dtype  \n",
      "---  ------              --------------  -----  \n",
      " 0   country_USA         6000 non-null   float64\n",
      " 1   genre_Comedy        6000 non-null   float64\n",
      " 2   rating_NR           6000 non-null   float64\n",
      " 3   square_root_budget  6000 non-null   float64\n",
      " 4   log_trans_gross     6000 non-null   float64\n",
      " 5   log_trans_score     6000 non-null   float64\n",
      " 6   log_trans_votes     6000 non-null   float64\n",
      " 7   ROI                 6000 non-null   int64  \n",
      "dtypes: float64(7), int64(1)\n",
      "memory usage: 375.1 KB\n"
     ]
    }
   ],
   "source": [
    "Box_office_v3_copy.info()"
   ]
  },
  {
   "cell_type": "code",
   "execution_count": 112,
   "metadata": {},
   "outputs": [
    {
     "data": {
      "text/html": [
       "<div>\n",
       "<style scoped>\n",
       "    .dataframe tbody tr th:only-of-type {\n",
       "        vertical-align: middle;\n",
       "    }\n",
       "\n",
       "    .dataframe tbody tr th {\n",
       "        vertical-align: top;\n",
       "    }\n",
       "\n",
       "    .dataframe thead th {\n",
       "        text-align: right;\n",
       "    }\n",
       "</style>\n",
       "<table border=\"1\" class=\"dataframe\">\n",
       "  <thead>\n",
       "    <tr style=\"text-align: right;\">\n",
       "      <th></th>\n",
       "      <th>Skew</th>\n",
       "    </tr>\n",
       "  </thead>\n",
       "  <tbody>\n",
       "    <tr>\n",
       "      <th>rating_NR</th>\n",
       "      <td>4.428610</td>\n",
       "    </tr>\n",
       "    <tr>\n",
       "      <th>genre_Comedy</th>\n",
       "      <td>0.857565</td>\n",
       "    </tr>\n",
       "    <tr>\n",
       "      <th>ROI</th>\n",
       "      <td>0.428260</td>\n",
       "    </tr>\n",
       "    <tr>\n",
       "      <th>log_trans_votes</th>\n",
       "      <td>-0.282617</td>\n",
       "    </tr>\n",
       "    <tr>\n",
       "      <th>square_root_budget</th>\n",
       "      <td>-0.896439</td>\n",
       "    </tr>\n",
       "    <tr>\n",
       "      <th>log_trans_gross</th>\n",
       "      <td>-0.899719</td>\n",
       "    </tr>\n",
       "    <tr>\n",
       "      <th>country_USA</th>\n",
       "      <td>-0.944664</td>\n",
       "    </tr>\n",
       "    <tr>\n",
       "      <th>log_trans_score</th>\n",
       "      <td>-1.575476</td>\n",
       "    </tr>\n",
       "  </tbody>\n",
       "</table>\n",
       "</div>"
      ],
      "text/plain": [
       "                        Skew\n",
       "rating_NR           4.428610\n",
       "genre_Comedy        0.857565\n",
       "ROI                 0.428260\n",
       "log_trans_votes    -0.282617\n",
       "square_root_budget -0.896439\n",
       "log_trans_gross    -0.899719\n",
       "country_USA        -0.944664\n",
       "log_trans_score    -1.575476"
      ]
     },
     "execution_count": 112,
     "metadata": {},
     "output_type": "execute_result"
    }
   ],
   "source": [
    "num_feast = Box_office_v3_copy.dtypes[Box_office_v3_copy.dtypes!= 'object'].index\n",
    "skew_feats = Box_office_v3_copy[num_feast].skew().sort_values(ascending = False)\n",
    "skweness = pd.DataFrame({'Skew': skew_feats})\n",
    "skweness"
   ]
  },
  {
   "cell_type": "markdown",
   "metadata": {},
   "source": [
    "# Saving Transformed(skewness fixed) & Feature Selection file"
   ]
  },
  {
   "cell_type": "code",
   "execution_count": 113,
   "metadata": {},
   "outputs": [],
   "source": [
    "Box_office_v3_copy.to_csv(\"Box_office_v3_ready2Scale.csv\")"
   ]
  },
  {
   "cell_type": "code",
   "execution_count": 114,
   "metadata": {},
   "outputs": [
    {
     "data": {
      "text/html": [
       "<div>\n",
       "<style scoped>\n",
       "    .dataframe tbody tr th:only-of-type {\n",
       "        vertical-align: middle;\n",
       "    }\n",
       "\n",
       "    .dataframe tbody tr th {\n",
       "        vertical-align: top;\n",
       "    }\n",
       "\n",
       "    .dataframe thead th {\n",
       "        text-align: right;\n",
       "    }\n",
       "</style>\n",
       "<table border=\"1\" class=\"dataframe\">\n",
       "  <thead>\n",
       "    <tr style=\"text-align: right;\">\n",
       "      <th></th>\n",
       "      <th>Unnamed: 0</th>\n",
       "      <th>country_USA</th>\n",
       "      <th>genre_Comedy</th>\n",
       "      <th>rating_NR</th>\n",
       "      <th>square_root_budget</th>\n",
       "      <th>log_trans_gross</th>\n",
       "      <th>log_trans_score</th>\n",
       "      <th>log_trans_votes</th>\n",
       "      <th>ROI</th>\n",
       "    </tr>\n",
       "  </thead>\n",
       "  <tbody>\n",
       "    <tr>\n",
       "      <th>0</th>\n",
       "      <td>0</td>\n",
       "      <td>0.0</td>\n",
       "      <td>0.0</td>\n",
       "      <td>0.0</td>\n",
       "      <td>19.283571</td>\n",
       "      <td>20.449497</td>\n",
       "      <td>2.054124</td>\n",
       "      <td>13.773021</td>\n",
       "      <td>1</td>\n",
       "    </tr>\n",
       "    <tr>\n",
       "      <th>1</th>\n",
       "      <td>1</td>\n",
       "      <td>1.0</td>\n",
       "      <td>0.0</td>\n",
       "      <td>0.0</td>\n",
       "      <td>18.826146</td>\n",
       "      <td>20.295970</td>\n",
       "      <td>1.945910</td>\n",
       "      <td>13.061817</td>\n",
       "      <td>1</td>\n",
       "    </tr>\n",
       "    <tr>\n",
       "      <th>2</th>\n",
       "      <td>2</td>\n",
       "      <td>1.0</td>\n",
       "      <td>0.0</td>\n",
       "      <td>0.0</td>\n",
       "      <td>19.113828</td>\n",
       "      <td>20.305737</td>\n",
       "      <td>2.054124</td>\n",
       "      <td>13.671122</td>\n",
       "      <td>1</td>\n",
       "    </tr>\n",
       "    <tr>\n",
       "      <th>3</th>\n",
       "      <td>3</td>\n",
       "      <td>1.0</td>\n",
       "      <td>0.0</td>\n",
       "      <td>0.0</td>\n",
       "      <td>19.209138</td>\n",
       "      <td>20.250631</td>\n",
       "      <td>2.091864</td>\n",
       "      <td>13.882507</td>\n",
       "      <td>1</td>\n",
       "    </tr>\n",
       "    <tr>\n",
       "      <th>4</th>\n",
       "      <td>4</td>\n",
       "      <td>1.0</td>\n",
       "      <td>0.0</td>\n",
       "      <td>0.0</td>\n",
       "      <td>18.560443</td>\n",
       "      <td>19.977866</td>\n",
       "      <td>1.871802</td>\n",
       "      <td>13.282973</td>\n",
       "      <td>1</td>\n",
       "    </tr>\n",
       "  </tbody>\n",
       "</table>\n",
       "</div>"
      ],
      "text/plain": [
       "   Unnamed: 0  country_USA  genre_Comedy  rating_NR  square_root_budget  \\\n",
       "0           0          0.0           0.0        0.0           19.283571   \n",
       "1           1          1.0           0.0        0.0           18.826146   \n",
       "2           2          1.0           0.0        0.0           19.113828   \n",
       "3           3          1.0           0.0        0.0           19.209138   \n",
       "4           4          1.0           0.0        0.0           18.560443   \n",
       "\n",
       "   log_trans_gross  log_trans_score  log_trans_votes  ROI  \n",
       "0        20.449497         2.054124        13.773021    1  \n",
       "1        20.295970         1.945910        13.061817    1  \n",
       "2        20.305737         2.054124        13.671122    1  \n",
       "3        20.250631         2.091864        13.882507    1  \n",
       "4        19.977866         1.871802        13.282973    1  "
      ]
     },
     "execution_count": 114,
     "metadata": {},
     "output_type": "execute_result"
    }
   ],
   "source": [
    "Box_office_v3 = pd.read_csv('Box_office_v3_ready2Scale.csv')\n",
    "Box_office_v3.head()"
   ]
  },
  {
   "cell_type": "code",
   "execution_count": 115,
   "metadata": {},
   "outputs": [
    {
     "data": {
      "text/html": [
       "<div>\n",
       "<style scoped>\n",
       "    .dataframe tbody tr th:only-of-type {\n",
       "        vertical-align: middle;\n",
       "    }\n",
       "\n",
       "    .dataframe tbody tr th {\n",
       "        vertical-align: top;\n",
       "    }\n",
       "\n",
       "    .dataframe thead th {\n",
       "        text-align: right;\n",
       "    }\n",
       "</style>\n",
       "<table border=\"1\" class=\"dataframe\">\n",
       "  <thead>\n",
       "    <tr style=\"text-align: right;\">\n",
       "      <th></th>\n",
       "      <th>country_USA</th>\n",
       "      <th>genre_Comedy</th>\n",
       "      <th>rating_NR</th>\n",
       "      <th>square_root_budget</th>\n",
       "      <th>log_trans_gross</th>\n",
       "      <th>log_trans_score</th>\n",
       "      <th>log_trans_votes</th>\n",
       "      <th>ROI</th>\n",
       "    </tr>\n",
       "  </thead>\n",
       "  <tbody>\n",
       "    <tr>\n",
       "      <th>0</th>\n",
       "      <td>0.0</td>\n",
       "      <td>0.0</td>\n",
       "      <td>0.0</td>\n",
       "      <td>19.283571</td>\n",
       "      <td>20.449497</td>\n",
       "      <td>2.054124</td>\n",
       "      <td>13.773021</td>\n",
       "      <td>1</td>\n",
       "    </tr>\n",
       "    <tr>\n",
       "      <th>1</th>\n",
       "      <td>1.0</td>\n",
       "      <td>0.0</td>\n",
       "      <td>0.0</td>\n",
       "      <td>18.826146</td>\n",
       "      <td>20.295970</td>\n",
       "      <td>1.945910</td>\n",
       "      <td>13.061817</td>\n",
       "      <td>1</td>\n",
       "    </tr>\n",
       "    <tr>\n",
       "      <th>2</th>\n",
       "      <td>1.0</td>\n",
       "      <td>0.0</td>\n",
       "      <td>0.0</td>\n",
       "      <td>19.113828</td>\n",
       "      <td>20.305737</td>\n",
       "      <td>2.054124</td>\n",
       "      <td>13.671122</td>\n",
       "      <td>1</td>\n",
       "    </tr>\n",
       "    <tr>\n",
       "      <th>3</th>\n",
       "      <td>1.0</td>\n",
       "      <td>0.0</td>\n",
       "      <td>0.0</td>\n",
       "      <td>19.209138</td>\n",
       "      <td>20.250631</td>\n",
       "      <td>2.091864</td>\n",
       "      <td>13.882507</td>\n",
       "      <td>1</td>\n",
       "    </tr>\n",
       "    <tr>\n",
       "      <th>4</th>\n",
       "      <td>1.0</td>\n",
       "      <td>0.0</td>\n",
       "      <td>0.0</td>\n",
       "      <td>18.560443</td>\n",
       "      <td>19.977866</td>\n",
       "      <td>1.871802</td>\n",
       "      <td>13.282973</td>\n",
       "      <td>1</td>\n",
       "    </tr>\n",
       "  </tbody>\n",
       "</table>\n",
       "</div>"
      ],
      "text/plain": [
       "   country_USA  genre_Comedy  rating_NR  square_root_budget  log_trans_gross  \\\n",
       "0          0.0           0.0        0.0           19.283571        20.449497   \n",
       "1          1.0           0.0        0.0           18.826146        20.295970   \n",
       "2          1.0           0.0        0.0           19.113828        20.305737   \n",
       "3          1.0           0.0        0.0           19.209138        20.250631   \n",
       "4          1.0           0.0        0.0           18.560443        19.977866   \n",
       "\n",
       "   log_trans_score  log_trans_votes  ROI  \n",
       "0         2.054124        13.773021    1  \n",
       "1         1.945910        13.061817    1  \n",
       "2         2.054124        13.671122    1  \n",
       "3         2.091864        13.882507    1  \n",
       "4         1.871802        13.282973    1  "
      ]
     },
     "execution_count": 115,
     "metadata": {},
     "output_type": "execute_result"
    }
   ],
   "source": [
    "Box_office_v3 =Box_office_v3.drop('Unnamed: 0', axis = 1)\n",
    "Box_office_v3.head()"
   ]
  },
  {
   "cell_type": "markdown",
   "metadata": {},
   "source": [
    "# Linearity"
   ]
  },
  {
   "cell_type": "code",
   "execution_count": 116,
   "metadata": {},
   "outputs": [
    {
     "data": {
      "image/png": "[encoded data removed]",
      "text/plain": [
       "<Figure size 405.725x360 with 1 Axes>"
      ]
     },
     "metadata": {},
     "output_type": "display_data"
    },
    {
     "data": {
      "image/png": "[encoded data removed]",
      "text/plain": [
       "<Figure size 405.725x360 with 1 Axes>"
      ]
     },
     "metadata": {},
     "output_type": "display_data"
    }
   ],
   "source": [
    "sns.relplot(x=\"square_root_budget\", y=\"log_trans_gross\", hue=\"ROI\", data=Box_office_v3);\n",
    "sns.relplot(x=\"log_trans_score\", y=\"log_trans_votes\", hue=\"ROI\", data=Box_office_v3);"
   ]
  },
  {
   "cell_type": "markdown",
   "metadata": {},
   "source": [
    "# getting ready to scale"
   ]
  },
  {
   "cell_type": "code",
   "execution_count": 117,
   "metadata": {},
   "outputs": [],
   "source": [
    "from sklearn.model_selection import train_test_split\n",
    "X = Box_office_v3_copy.drop('ROI', axis = 1)\n",
    "y = Box_office_v3_copy.ROI\n",
    "\n",
    "training_features, test_features, \\\n",
    "training_target, test_target, = train_test_split(X,y, test_size = .2, random_state= 45)"
   ]
  },
  {
   "cell_type": "markdown",
   "metadata": {},
   "source": [
    "# Scaling our data"
   ]
  },
  {
   "cell_type": "markdown",
   "metadata": {},
   "source": [
    "# Robust Scaler"
   ]
  },
  {
   "cell_type": "code",
   "execution_count": 118,
   "metadata": {},
   "outputs": [],
   "source": [
    "from sklearn.preprocessing import RobustScaler\n",
    "\n",
    "robust_scaler = RobustScaler()\n",
    "Xtr_r = robust_scaler.fit_transform(training_features)\n",
    "Xte_r = robust_scaler.transform(test_features)"
   ]
  },
  {
   "cell_type": "code",
   "execution_count": 119,
   "metadata": {},
   "outputs": [
    {
     "data": {
      "text/plain": [
       "array([[-1.        ,  0.        ,  0.        , ...,  0.07656404,\n",
       "        -2.92166479,  0.12796572],\n",
       "       [ 0.        ,  0.        ,  0.        , ..., -0.04638599,\n",
       "        -0.64941672,  0.28323361],\n",
       "       [ 0.        ,  1.        ,  0.        , ...,  0.03574503,\n",
       "        -0.31405454, -0.03063736],\n",
       "       ...,\n",
       "       [-1.        ,  1.        ,  1.        , ..., -1.51136809,\n",
       "         0.43658018, -0.10709121],\n",
       "       [ 0.        ,  1.        ,  0.        , ..., -0.61848658,\n",
       "        -0.64941672, -0.64315895],\n",
       "       [-1.        ,  0.        ,  0.        , ..., -0.19080692,\n",
       "         0.36644146,  0.15424561]])"
      ]
     },
     "execution_count": 119,
     "metadata": {},
     "output_type": "execute_result"
    }
   ],
   "source": [
    "Xtr_r"
   ]
  },
  {
   "cell_type": "code",
   "execution_count": 120,
   "metadata": {},
   "outputs": [
    {
     "data": {
      "text/plain": [
       "array([[ 0.        ,  1.        ,  0.        , ...,  0.24069968,\n",
       "        -1.92940903, -0.07224817],\n",
       "       [ 0.        ,  0.        ,  0.        , ..., -2.71279648,\n",
       "        -0.47889303, -0.89921622],\n",
       "       [-1.        ,  1.        ,  0.        , ..., -0.20092875,\n",
       "         0.5057379 , -0.67783623],\n",
       "       ...,\n",
       "       [-1.        ,  1.        ,  0.        , ..., -1.03191134,\n",
       "         0.5739417 , -0.61049794],\n",
       "       [ 0.        ,  0.        ,  0.        , ..., -0.4589685 ,\n",
       "        -0.91676274, -0.67883121],\n",
       "       [ 0.        ,  0.        ,  0.        , ..., -0.3499097 ,\n",
       "        -0.56341982,  0.00792763]])"
      ]
     },
     "execution_count": 120,
     "metadata": {},
     "output_type": "execute_result"
    }
   ],
   "source": [
    "Xte_r"
   ]
  },
  {
   "cell_type": "markdown",
   "metadata": {},
   "source": [
    "# Standardization"
   ]
  },
  {
   "cell_type": "code",
   "execution_count": 121,
   "metadata": {},
   "outputs": [],
   "source": [
    "# # Feature Scaling\n",
    "# from sklearn.preprocessing import StandardScaler\n",
    "\n",
    "# sc = StandardScaler()\n",
    "\n",
    "# training_features = sc.fit_transform(training_features)\n",
    "\n",
    "# test_features = sc.transform(test_features)\n",
    "# training_features"
   ]
  },
  {
   "cell_type": "code",
   "execution_count": 122,
   "metadata": {},
   "outputs": [],
   "source": [
    "#training_features"
   ]
  },
  {
   "cell_type": "code",
   "execution_count": 123,
   "metadata": {},
   "outputs": [],
   "source": [
    "#test_features"
   ]
  },
  {
   "cell_type": "markdown",
   "metadata": {},
   "source": [
    "# Ready to model"
   ]
  },
  {
   "cell_type": "markdown",
   "metadata": {},
   "source": [
    "# Saving Final Version3"
   ]
  },
  {
   "cell_type": "code",
   "execution_count": null,
   "metadata": {},
   "outputs": [],
   "source": [
    "#Box_office_v3_copy.to_csv(\"Box_office_v3_ready2Scale.csv\")"
   ]
  },
  {
   "cell_type": "code",
   "execution_count": null,
   "metadata": {},
   "outputs": [],
   "source": [
    "# Box_office_v3 = pd.read_csv('Box_office_v3_ready2Scale.csv')\n",
    "# Box_office_v3.head()"
   ]
  }
 ],
 "metadata": {
  "kernelspec": {
   "display_name": "Python 3",
   "language": "python",
   "name": "python3"
  },
  "language_info": {
   "codemirror_mode": {
    "name": "ipython",
    "version": 3
   },
   "file_extension": ".py",
   "mimetype": "text/x-python",
   "name": "python",
   "nbconvert_exporter": "python",
   "pygments_lexer": "ipython3",
   "version": "3.8.3"
  }
 },
 "nbformat": 4,
 "nbformat_minor": 4
}
