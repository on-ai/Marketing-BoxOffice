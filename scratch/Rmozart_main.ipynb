{
 "cells": [
  {
   "cell_type": "markdown",
   "metadata": {},
   "source": [
    "# Loading Packages"
   ]
  },
  {
   "cell_type": "code",
   "execution_count": 1,
   "metadata": {},
   "outputs": [
    {
     "output_type": "stream",
     "name": "stderr",
     "text": "Enabling notebook extension jupyter-js-widgets/extension...\n      - Validating: ok\n"
    }
   ],
   "source": [
    "! jupyter nbextension enable --py widgetsnbextension"
   ]
  },
  {
   "cell_type": "code",
   "execution_count": 2,
   "metadata": {},
   "outputs": [],
   "source": [
    "import numpy as np\n",
    "import pandas as pd\n",
    "import matplotlib.pyplot as plt\n",
    "from collections import Counter"
   ]
  },
  {
   "cell_type": "markdown",
   "metadata": {},
   "source": [
    "## Seaborn for plots"
   ]
  },
  {
   "cell_type": "code",
   "execution_count": 3,
   "metadata": {},
   "outputs": [],
   "source": [
    "import seaborn as sns\n",
    "color = sns.color_palette()\n",
    "sns.set_style('darkgrid')"
   ]
  },
  {
   "cell_type": "markdown",
   "metadata": {},
   "source": [
    "## Progress Bar"
   ]
  },
  {
   "cell_type": "code",
   "execution_count": 4,
   "metadata": {},
   "outputs": [],
   "source": [
    "%%capture\n",
    "from tqdm import tqdm_notebook\n",
    "tqdm_notebook().pandas()"
   ]
  },
  {
   "cell_type": "markdown",
   "metadata": {},
   "source": [
    "## Pandas Options"
   ]
  },
  {
   "cell_type": "code",
   "execution_count": 5,
   "metadata": {},
   "outputs": [],
   "source": [
    "pd.set_option('max_columns', None)\n",
    "pd.set_option('display.max_rows', None)"
   ]
  },
  {
   "cell_type": "markdown",
   "metadata": {},
   "source": [
    "# Loading Files"
   ]
  },
  {
   "cell_type": "markdown",
   "metadata": {},
   "source": [
    "## 1 - Read Default Data"
   ]
  },
  {
   "cell_type": "code",
   "execution_count": 6,
   "metadata": {},
   "outputs": [],
   "source": [
    "path = '..//resources//aaa_sample_data.xlsx'\n",
    "\n",
    "df_original = pd.read_excel(path)"
   ]
  },
  {
   "cell_type": "markdown",
   "metadata": {},
   "source": [
    "* Data Glance"
   ]
  },
  {
   "cell_type": "code",
   "execution_count": 7,
   "metadata": {},
   "outputs": [
    {
     "output_type": "execute_result",
     "data": {
      "text/plain": "   Column1  Individual Key  Household Key Member Flag          City  \\\n0        0       100000030      104625900           Y     NEW HAVEN   \n1        1       522115500       45007910           Y  WEST WARWICK   \n\n  State - Grouped   ZIP5       ZIP9 FSV CMSI Flag FSV Credit Card Flag  \\\n0              CT  65110  651113490             N                    N   \n1              RI  28930  289338500             N                    Y   \n\n  FSV Deposit Program Flag FSV Home Equity Flag FSV ID Theft Flag  \\\n0                        N                    N                 N   \n1                        N                    N                 N   \n\n  FSV Mortgage Flag INS Client Flag TRV Globalware Flag Number of Children  \\\n0                 N               N                   N                NaN   \n1                 N               N                   N          One Child   \n\n  Responded to Catalog                         Race  Length Of Residence  \\\n0                  NaN                          NaN                  NaN   \n1                  NaN  Caucasion / White - English                150.0   \n\n  Mail Responder  Home Owner     Income Date Of Birth Children     Education  \\\n0            NaN         NaN        NaN           NaT      NaN           NaN   \n1            Yes  Home Owner  30-39,999    1922-02-05      Yes  Some College   \n\n                              Dwelling Type Credit Ranges Language Gender  \\\n0  Small or large multi-family w/apt number           NaN      NaN   Male   \n1  Small or large multi-family w/apt number       600-649  English    NaN   \n\n  Active Expiration Date Address Change Date Bad Address Flag  \\\n0                    NaT                 NaT              NaN   \n1             2020-09-01 2005-01-28 12:41:09                F   \n\n  Billing Code Description Birth Date MMDDYYYY          Branch Name  \\\n0                      NaN                 NaT                  NaN   \n1               New Member          1922-02-05  RI - WARWICK BRANCH   \n\n  Cancel Date Cancel Reason County  Do Not Direct Mail Solicit  \\\n0         NaT           NaN    NaN                         NaN   \n1         NaT           NaN   KENT                         0.0   \n\n   Email Available Email Status  ERS ENT Count Year 1  ERS ENT Count Year 2  \\\n0              NaN          NaN                   NaN                   NaN   \n1              0.0          NaN                   0.0                   0.0   \n\n   ERS ENT Count Year 3  ERS Member Cost Year 1  ERS Member Cost Year 2  \\\n0                   NaN                     NaN                     NaN   \n1                  20.0                     0.0                     0.0   \n\n   ERS Member Cost Year 3 Right_Gender  Right_Individual Key Join AAA Date  \\\n0                     NaN          NaN                   NaN           NaT   \n1                   650.0          NaN           522115500.0    1970-09-01   \n\n  Join Club Date  Member Key Member Map Location  Member Number Associate ID  \\\n0            NaT         NaN                 NaN                         NaN   \n1     1970-09-01  15000140.0   {41.696,-71.5308}                    153000.0   \n\n  Member Phone Type Member Status  Member Tenure Years Member Type  \\\n0               NaN           NaN                  NaN         NaN   \n1              VoIP        ACTIVE                490.0     Primary   \n\n   Membership ID  Months from Join to Cancel Opt-Out - Publication  \\\n0            NaN                         NaN                   NaN   \n1         1530.0                         NaN                Opt-In   \n\n  Reason Joined Reinstate Date Renew Method      ZIP  Mosaic Household  \\\n0           NaN            NaT          NaN      NaN               NaN   \n1           NaN     2019-08-23   AUTO RENEW  28930.0  Senior Discounts   \n\n  Mosaic Global Household kcl_B_IND_MosaicsGrouping New Mover Flag  \\\n0                     NaN                       NaN            NaN   \n1       Low Income Elders     Golden Year Guardians              N   \n\n  Occupation Code Occupation Group Right_Dwelling Type Move Distance  \\\n0             NaN              NaN                 NaN           NaN   \n1             NaN              NaN                 NaN           NaN   \n\n  Occupant Type Breakdown Map Location Breakdown City Breakdown State  \\\n0           NaN                    NaN            NaN             NaN   \n1           NaN               {41,-71}   West Warwick              RI   \n\n   Basic Cost  Calculated Tow Miles Call Canceled Call Killed  \\\n0         NaN                   NaN           NaN         NaN   \n1       325.0                   8.0             N           N   \n\n  Call Status Recv Date Cash Call Clearing Code Last Description  \\\n0                   NaN       NaN                            NaN   \n1   2017-04-13 10:05:17         Y               CASH CALL ONLY C   \n\n  Dispatch Code1 Description  Dispatch Code2Description  \\\n0                        NaN                        NaN   \n1            Engine Overheat                        NaN   \n\n  DTL Prob1 Code Description Fleet Indicator  Is Duplicate  Is NSR  \\\n0                        NaN             NaN           NaN     NaN   \n1            Engine Overheat               N           0.0     0.0   \n\n   Member Match Flag  Member Number and Associate ID Motorcycle Indicator  \\\n0                NaN                             NaN                  NaN   \n1               10.0                        153000.0                    N   \n\n   Plus Cost Plus Indicator Description  Premier Cost Prob1 Code Description  \\\n0        NaN                        NaN           NaN                    NaN   \n1        0.0           Basic Membership           0.0                    Tow   \n\n  Prob2 Code Description SC Call Club Code Description    SC Date      Rec ID  \\\n0                    NaN                           NaN        NaT         NaN   \n1                    NaN                 AAA Northeast 2017-04-13  97073200.0   \n\n  SC STS RSN Code Description SC Vehicle Manufacturer Name  \\\n0                         NaN                          NaN   \n1            CASH CALL ONLY C                       TOYOTA   \n\n  SC Vehicle Model Name      SVC Facility Name   SVC Facility Type  \\\n0                   NaN                    NaN                 NaN   \n1                 CAMRY  ASTRO WRECKER SERVICE  independent repair   \n\n   Total Cost  Tow Destination Latitude  Tow Destination Longitude  \\\n0         NaN                       NaN                        NaN   \n1       325.0                     410.0                     -710.0   \n\n           Tow Destination Name  Was Duplicated  Was Towed To AAR Referral  \n0                           NaN             NaN                        NaN  \n1  Aar / Johnson's Auto Service             0.0                       10.0  ",
      "text/html": "<div>\n<style scoped>\n    .dataframe tbody tr th:only-of-type {\n        vertical-align: middle;\n    }\n\n    .dataframe tbody tr th {\n        vertical-align: top;\n    }\n\n    .dataframe thead th {\n        text-align: right;\n    }\n</style>\n<table border=\"1\" class=\"dataframe\">\n  <thead>\n    <tr style=\"text-align: right;\">\n      <th></th>\n      <th>Column1</th>\n      <th>Individual Key</th>\n      <th>Household Key</th>\n      <th>Member Flag</th>\n      <th>City</th>\n      <th>State - Grouped</th>\n      <th>ZIP5</th>\n      <th>ZIP9</th>\n      <th>FSV CMSI Flag</th>\n      <th>FSV Credit Card Flag</th>\n      <th>FSV Deposit Program Flag</th>\n      <th>FSV Home Equity Flag</th>\n      <th>FSV ID Theft Flag</th>\n      <th>FSV Mortgage Flag</th>\n      <th>INS Client Flag</th>\n      <th>TRV Globalware Flag</th>\n      <th>Number of Children</th>\n      <th>Responded to Catalog</th>\n      <th>Race</th>\n      <th>Length Of Residence</th>\n      <th>Mail Responder</th>\n      <th>Home Owner</th>\n      <th>Income</th>\n      <th>Date Of Birth</th>\n      <th>Children</th>\n      <th>Education</th>\n      <th>Dwelling Type</th>\n      <th>Credit Ranges</th>\n      <th>Language</th>\n      <th>Gender</th>\n      <th>Active Expiration Date</th>\n      <th>Address Change Date</th>\n      <th>Bad Address Flag</th>\n      <th>Billing Code Description</th>\n      <th>Birth Date MMDDYYYY</th>\n      <th>Branch Name</th>\n      <th>Cancel Date</th>\n      <th>Cancel Reason</th>\n      <th>County</th>\n      <th>Do Not Direct Mail Solicit</th>\n      <th>Email Available</th>\n      <th>Email Status</th>\n      <th>ERS ENT Count Year 1</th>\n      <th>ERS ENT Count Year 2</th>\n      <th>ERS ENT Count Year 3</th>\n      <th>ERS Member Cost Year 1</th>\n      <th>ERS Member Cost Year 2</th>\n      <th>ERS Member Cost Year 3</th>\n      <th>Right_Gender</th>\n      <th>Right_Individual Key</th>\n      <th>Join AAA Date</th>\n      <th>Join Club Date</th>\n      <th>Member Key</th>\n      <th>Member Map Location</th>\n      <th>Member Number Associate ID</th>\n      <th>Member Phone Type</th>\n      <th>Member Status</th>\n      <th>Member Tenure Years</th>\n      <th>Member Type</th>\n      <th>Membership ID</th>\n      <th>Months from Join to Cancel</th>\n      <th>Opt-Out - Publication</th>\n      <th>Reason Joined</th>\n      <th>Reinstate Date</th>\n      <th>Renew Method</th>\n      <th>ZIP</th>\n      <th>Mosaic Household</th>\n      <th>Mosaic Global Household</th>\n      <th>kcl_B_IND_MosaicsGrouping</th>\n      <th>New Mover Flag</th>\n      <th>Occupation Code</th>\n      <th>Occupation Group</th>\n      <th>Right_Dwelling Type</th>\n      <th>Move Distance</th>\n      <th>Occupant Type</th>\n      <th>Breakdown Map Location</th>\n      <th>Breakdown City</th>\n      <th>Breakdown State</th>\n      <th>Basic Cost</th>\n      <th>Calculated Tow Miles</th>\n      <th>Call Canceled</th>\n      <th>Call Killed</th>\n      <th>Call Status Recv Date</th>\n      <th>Cash Call</th>\n      <th>Clearing Code Last Description</th>\n      <th>Dispatch Code1 Description</th>\n      <th>Dispatch Code2Description</th>\n      <th>DTL Prob1 Code Description</th>\n      <th>Fleet Indicator</th>\n      <th>Is Duplicate</th>\n      <th>Is NSR</th>\n      <th>Member Match Flag</th>\n      <th>Member Number and Associate ID</th>\n      <th>Motorcycle Indicator</th>\n      <th>Plus Cost</th>\n      <th>Plus Indicator Description</th>\n      <th>Premier Cost</th>\n      <th>Prob1 Code Description</th>\n      <th>Prob2 Code Description</th>\n      <th>SC Call Club Code Description</th>\n      <th>SC Date</th>\n      <th>Rec ID</th>\n      <th>SC STS RSN Code Description</th>\n      <th>SC Vehicle Manufacturer Name</th>\n      <th>SC Vehicle Model Name</th>\n      <th>SVC Facility Name</th>\n      <th>SVC Facility Type</th>\n      <th>Total Cost</th>\n      <th>Tow Destination Latitude</th>\n      <th>Tow Destination Longitude</th>\n      <th>Tow Destination Name</th>\n      <th>Was Duplicated</th>\n      <th>Was Towed To AAR Referral</th>\n    </tr>\n  </thead>\n  <tbody>\n    <tr>\n      <th>0</th>\n      <td>0</td>\n      <td>100000030</td>\n      <td>104625900</td>\n      <td>Y</td>\n      <td>NEW HAVEN</td>\n      <td>CT</td>\n      <td>65110</td>\n      <td>651113490</td>\n      <td>N</td>\n      <td>N</td>\n      <td>N</td>\n      <td>N</td>\n      <td>N</td>\n      <td>N</td>\n      <td>N</td>\n      <td>N</td>\n      <td>NaN</td>\n      <td>NaN</td>\n      <td>NaN</td>\n      <td>NaN</td>\n      <td>NaN</td>\n      <td>NaN</td>\n      <td>NaN</td>\n      <td>NaT</td>\n      <td>NaN</td>\n      <td>NaN</td>\n      <td>Small or large multi-family w/apt number</td>\n      <td>NaN</td>\n      <td>NaN</td>\n      <td>Male</td>\n      <td>NaT</td>\n      <td>NaT</td>\n      <td>NaN</td>\n      <td>NaN</td>\n      <td>NaT</td>\n      <td>NaN</td>\n      <td>NaT</td>\n      <td>NaN</td>\n      <td>NaN</td>\n      <td>NaN</td>\n      <td>NaN</td>\n      <td>NaN</td>\n      <td>NaN</td>\n      <td>NaN</td>\n      <td>NaN</td>\n      <td>NaN</td>\n      <td>NaN</td>\n      <td>NaN</td>\n      <td>NaN</td>\n      <td>NaN</td>\n      <td>NaT</td>\n      <td>NaT</td>\n      <td>NaN</td>\n      <td>NaN</td>\n      <td>NaN</td>\n      <td>NaN</td>\n      <td>NaN</td>\n      <td>NaN</td>\n      <td>NaN</td>\n      <td>NaN</td>\n      <td>NaN</td>\n      <td>NaN</td>\n      <td>NaN</td>\n      <td>NaT</td>\n      <td>NaN</td>\n      <td>NaN</td>\n      <td>NaN</td>\n      <td>NaN</td>\n      <td>NaN</td>\n      <td>NaN</td>\n      <td>NaN</td>\n      <td>NaN</td>\n      <td>NaN</td>\n      <td>NaN</td>\n      <td>NaN</td>\n      <td>NaN</td>\n      <td>NaN</td>\n      <td>NaN</td>\n      <td>NaN</td>\n      <td>NaN</td>\n      <td>NaN</td>\n      <td>NaN</td>\n      <td>NaN</td>\n      <td>NaN</td>\n      <td>NaN</td>\n      <td>NaN</td>\n      <td>NaN</td>\n      <td>NaN</td>\n      <td>NaN</td>\n      <td>NaN</td>\n      <td>NaN</td>\n      <td>NaN</td>\n      <td>NaN</td>\n      <td>NaN</td>\n      <td>NaN</td>\n      <td>NaN</td>\n      <td>NaN</td>\n      <td>NaN</td>\n      <td>NaN</td>\n      <td>NaN</td>\n      <td>NaT</td>\n      <td>NaN</td>\n      <td>NaN</td>\n      <td>NaN</td>\n      <td>NaN</td>\n      <td>NaN</td>\n      <td>NaN</td>\n      <td>NaN</td>\n      <td>NaN</td>\n      <td>NaN</td>\n      <td>NaN</td>\n      <td>NaN</td>\n      <td>NaN</td>\n    </tr>\n    <tr>\n      <th>1</th>\n      <td>1</td>\n      <td>522115500</td>\n      <td>45007910</td>\n      <td>Y</td>\n      <td>WEST WARWICK</td>\n      <td>RI</td>\n      <td>28930</td>\n      <td>289338500</td>\n      <td>N</td>\n      <td>Y</td>\n      <td>N</td>\n      <td>N</td>\n      <td>N</td>\n      <td>N</td>\n      <td>N</td>\n      <td>N</td>\n      <td>One Child</td>\n      <td>NaN</td>\n      <td>Caucasion / White - English</td>\n      <td>150.0</td>\n      <td>Yes</td>\n      <td>Home Owner</td>\n      <td>30-39,999</td>\n      <td>1922-02-05</td>\n      <td>Yes</td>\n      <td>Some College</td>\n      <td>Small or large multi-family w/apt number</td>\n      <td>600-649</td>\n      <td>English</td>\n      <td>NaN</td>\n      <td>2020-09-01</td>\n      <td>2005-01-28 12:41:09</td>\n      <td>F</td>\n      <td>New Member</td>\n      <td>1922-02-05</td>\n      <td>RI - WARWICK BRANCH</td>\n      <td>NaT</td>\n      <td>NaN</td>\n      <td>KENT</td>\n      <td>0.0</td>\n      <td>0.0</td>\n      <td>NaN</td>\n      <td>0.0</td>\n      <td>0.0</td>\n      <td>20.0</td>\n      <td>0.0</td>\n      <td>0.0</td>\n      <td>650.0</td>\n      <td>NaN</td>\n      <td>522115500.0</td>\n      <td>1970-09-01</td>\n      <td>1970-09-01</td>\n      <td>15000140.0</td>\n      <td>{41.696,-71.5308}</td>\n      <td>153000.0</td>\n      <td>VoIP</td>\n      <td>ACTIVE</td>\n      <td>490.0</td>\n      <td>Primary</td>\n      <td>1530.0</td>\n      <td>NaN</td>\n      <td>Opt-In</td>\n      <td>NaN</td>\n      <td>2019-08-23</td>\n      <td>AUTO RENEW</td>\n      <td>28930.0</td>\n      <td>Senior Discounts</td>\n      <td>Low Income Elders</td>\n      <td>Golden Year Guardians</td>\n      <td>N</td>\n      <td>NaN</td>\n      <td>NaN</td>\n      <td>NaN</td>\n      <td>NaN</td>\n      <td>NaN</td>\n      <td>{41,-71}</td>\n      <td>West Warwick</td>\n      <td>RI</td>\n      <td>325.0</td>\n      <td>8.0</td>\n      <td>N</td>\n      <td>N</td>\n      <td>2017-04-13 10:05:17</td>\n      <td>Y</td>\n      <td>CASH CALL ONLY C</td>\n      <td>Engine Overheat</td>\n      <td>NaN</td>\n      <td>Engine Overheat</td>\n      <td>N</td>\n      <td>0.0</td>\n      <td>0.0</td>\n      <td>10.0</td>\n      <td>153000.0</td>\n      <td>N</td>\n      <td>0.0</td>\n      <td>Basic Membership</td>\n      <td>0.0</td>\n      <td>Tow</td>\n      <td>NaN</td>\n      <td>AAA Northeast</td>\n      <td>2017-04-13</td>\n      <td>97073200.0</td>\n      <td>CASH CALL ONLY C</td>\n      <td>TOYOTA</td>\n      <td>CAMRY</td>\n      <td>ASTRO WRECKER SERVICE</td>\n      <td>independent repair</td>\n      <td>325.0</td>\n      <td>410.0</td>\n      <td>-710.0</td>\n      <td>Aar / Johnson's Auto Service</td>\n      <td>0.0</td>\n      <td>10.0</td>\n    </tr>\n  </tbody>\n</table>\n</div>"
     },
     "metadata": {},
     "execution_count": 7
    }
   ],
   "source": [
    "df_original.head(n=2)"
   ]
  },
  {
   "cell_type": "markdown",
   "metadata": {},
   "source": [
    "* General Info"
   ]
  },
  {
   "cell_type": "code",
   "execution_count": 8,
   "metadata": {},
   "outputs": [
    {
     "output_type": "stream",
     "name": "stdout",
     "text": "<class 'pandas.core.frame.DataFrame'>\nRangeIndex: 21344 entries, 0 to 21343\nColumns: 113 entries, Column1 to Was Towed To AAR Referral\ndtypes: datetime64[ns](9), float64(31), int64(5), object(68)\nmemory usage: 18.4+ MB\n"
    }
   ],
   "source": [
    "df_original.info()"
   ]
  },
  {
   "cell_type": "code",
   "execution_count": 9,
   "metadata": {},
   "outputs": [],
   "source": [
    "df_original.dtypes;"
   ]
  },
  {
   "cell_type": "markdown",
   "metadata": {},
   "source": [
    "# Data processing "
   ]
  },
  {
   "cell_type": "markdown",
   "metadata": {},
   "source": [
    "* Creating Dictionary to keep track of each operation and each filtering per operation"
   ]
  },
  {
   "cell_type": "code",
   "execution_count": 10,
   "metadata": {},
   "outputs": [],
   "source": [
    "removed_columns = {}\n",
    "removed_rows = {}"
   ]
  },
  {
   "cell_type": "markdown",
   "metadata": {},
   "source": [
    "## 1 - Dropping Erroneous Column (excel did that on converting the csv original file)"
   ]
  },
  {
   "cell_type": "code",
   "execution_count": 11,
   "metadata": {},
   "outputs": [],
   "source": [
    "df_original.drop(columns='Column1', inplace=True)"
   ]
  },
  {
   "cell_type": "code",
   "execution_count": 12,
   "metadata": {},
   "outputs": [
    {
     "output_type": "stream",
     "name": "stdout",
     "text": "<class 'pandas.core.frame.DataFrame'>\nRangeIndex: 21344 entries, 0 to 21343\nColumns: 112 entries, Individual Key to Was Towed To AAR Referral\ndtypes: datetime64[ns](9), float64(31), int64(4), object(68)\nmemory usage: 18.2+ MB\n"
    }
   ],
   "source": [
    "df_original.info()"
   ]
  },
  {
   "cell_type": "markdown",
   "metadata": {},
   "source": [
    "## 2 - Grouping By Househol Key (main objective) and separate by variable type"
   ]
  },
  {
   "cell_type": "markdown",
   "metadata": {},
   "source": [
    "    2.1 - Defining Dataframe Types "
   ]
  },
  {
   "cell_type": "code",
   "execution_count": 13,
   "metadata": {},
   "outputs": [],
   "source": [
    "binary_columns = ['FSV CMSI Flag', 'FSV Credit Card Flag', 'FSV Deposit Program Flag', 'FSV Home Equity Flag', 'FSV ID Theft Flag', 'FSV Mortgage Flag', 'INS Client Flag', 'TRV Globalware Flag', 'Responded to Catalog', 'Mail Responder', 'Home Owner', 'Children', 'Gender', 'Bad Address Flag', 'Do Not Direct Mail Solicit', 'Email Available', 'Opt-Out - Publication', 'New Mover Flag', 'Occupant Type', 'Call Canceled', 'Call Killed', 'Cash Call', 'Fleet Indicator', 'Is Duplicate', 'Is NSR',\t'Member Match Flag', 'Was Duplicated',\t'Was Towed To AAR Referral'] # binary data that will be threat different from the rest of the numerical and categorical data\n",
    "\n",
    "binary = pd.DataFrame() # individual binary dataframe\n",
    "\n",
    "binary['Household Key'] = df_original['Household Key'] # concatenating household key column to perform groupby method\n",
    "\n",
    "numericals = pd.DataFrame() # individual numerical dataframe\n",
    "\n",
    "string = pd.DataFrame() # individual string dataframe\n",
    "\n",
    "string['Household Key'] = df_original['Household Key'] # concatenating household key column to perform groupby method\n",
    "\n",
    "dates = pd.DataFrame() # individual dates dataframe\n",
    "\n",
    "dates['Household Key'] = df_original['Household Key'] # concatenating household key column to perform groupby method"
   ]
  },
  {
   "cell_type": "markdown",
   "metadata": {},
   "source": [
    "    2.2 - Filling numerical, binary numerical, and dates dataframe"
   ]
  },
  {
   "cell_type": "code",
   "execution_count": 14,
   "metadata": {},
   "outputs": [
    {
     "output_type": "display_data",
     "data": {
      "text/plain": "HBox(children=(FloatProgress(value=0.0, description='Process Progress', max=112.0, style=ProgressStyle(descrip…",
      "application/vnd.jupyter.widget-view+json": {
       "version_major": 2,
       "version_minor": 0,
       "model_id": "08b149cc6455495b9e7d222f8a2c6ff6"
      }
     },
     "metadata": {}
    },
    {
     "output_type": "stream",
     "name": "stdout",
     "text": "\n"
    }
   ],
   "source": [
    "for c in tqdm_notebook(df_original.columns, desc='Process Progress'): # for all the columns\n",
    "\n",
    "    if c in binary_columns: # if the columns is in the binary categorie\n",
    "\n",
    "        binary[c] = df_original[c] # fill in the binary dataframe\n",
    "    \n",
    "    elif df_original.dtypes[c] in ['int64', 'float64']: # if the variables type of the given column are float or iteger\n",
    "\n",
    "        numericals[c] = df_original[c] # fill in the numerical dataframe\n",
    "\n",
    "    elif df_original.dtypes[c] in ['<M8[ns]']: # if the variables type of the given column are in the data format\n",
    "        \n",
    "        dates[c] = df_original[c] # fill in the date dataframe\n",
    "\n",
    "    else:\n",
    "\n",
    "        string[c] = df_original[c] # else, fill in the string dataframe\n",
    "    "
   ]
  },
  {
   "cell_type": "code",
   "execution_count": 15,
   "metadata": {},
   "outputs": [],
   "source": [
    "numericals = numericals.groupby('Household Key').mean() # grouping by the mean of numerical values per each Household Key\n",
    "\n",
    "binary_numericals = binary.groupby('Household Key').mean() # grouping by the mean of binary values per each Household Key We still need to separate categorical and numerical binary variables to perform the groupby procedure in the categorical columns"
   ]
  },
  {
   "cell_type": "code",
   "execution_count": 16,
   "metadata": {},
   "outputs": [
    {
     "output_type": "display_data",
     "data": {
      "text/plain": "HBox(children=(FloatProgress(value=0.0, description='Process Progress', max=29.0, style=ProgressStyle(descript…",
      "application/vnd.jupyter.widget-view+json": {
       "version_major": 2,
       "version_minor": 0,
       "model_id": "3828051f3ba14d21828ddae53453bb7b"
      }
     },
     "metadata": {}
    },
    {
     "output_type": "stream",
     "name": "stdout",
     "text": "\n"
    }
   ],
   "source": [
    "for c in tqdm_notebook(binary.columns, desc='Process Progress'): # Separating Binary Types\n",
    "    if (c != 'Household Key'): # we dont want to iterate over the Household Key unecessarily\n",
    "        if (binary.dtypes[c] in ['int64', 'float64']): # if the variables type of the given column are float or iteger \n",
    "\n",
    "            binary.drop(columns=c, inplace=True) # dropped from the future categorical binary dataframe"
   ]
  },
  {
   "cell_type": "code",
   "execution_count": 17,
   "metadata": {},
   "outputs": [
    {
     "output_type": "display_data",
     "data": {
      "text/plain": "HBox(children=(FloatProgress(value=0.0, description='Process Progress', max=10.0, style=ProgressStyle(descript…",
      "application/vnd.jupyter.widget-view+json": {
       "version_major": 2,
       "version_minor": 0,
       "model_id": "1bd48474987044f0a44d75940da4f13b"
      }
     },
     "metadata": {}
    },
    {
     "output_type": "stream",
     "name": "stdout",
     "text": "\n"
    }
   ],
   "source": [
    "for c in tqdm_notebook(dates.columns, desc='Process Progress'): # Converting Dates into Years\n",
    "    if (c != 'Household Key'):\n",
    "        dates[c] = dates[c].astype('datetime64[ns]')\n",
    "        dates[c] = dates[c].dt.year\n",
    "        #dates[c] = dates[c].astype('int64')"
   ]
  },
  {
   "cell_type": "code",
   "execution_count": 18,
   "metadata": {},
   "outputs": [],
   "source": [
    "dates  = dates.groupby('Household Key').mean() # grouping by the mean of year values per each Household Key"
   ]
  },
  {
   "cell_type": "markdown",
   "metadata": {},
   "source": [
    "    2.3 - Strings dataframe"
   ]
  },
  {
   "cell_type": "code",
   "execution_count": 19,
   "metadata": {},
   "outputs": [],
   "source": [
    "string = string.groupby('Household Key').apply(lambda x: x.mode()) # grouping by the mode of each categorical per each Household Key"
   ]
  },
  {
   "cell_type": "code",
   "execution_count": 20,
   "metadata": {},
   "outputs": [
    {
     "output_type": "execute_result",
     "data": {
      "text/plain": "                 Household Key Member Flag      City State - Grouped  \\\nHousehold Key                                                          \n8750          0         8750.0           Y  CRANSTON              RI   \n              1            NaN         NaN       NaN             NaN   \n\n                Number of Children Race Income Education Dwelling Type  \\\nHousehold Key                                                            \n8750          0                NaN  NaN    NaN       NaN          SFDU   \n              1                NaN  NaN    NaN       NaN           NaN   \n\n                Credit Ranges Language Billing Code Description  \\\nHousehold Key                                                     \n8750          0           NaN      NaN      Renewal Mbr Billing   \n              1           NaN      NaN                      NaN   \n\n                          Branch Name Cancel Reason      County  Email Status  \\\nHousehold Key                                                                   \n8750          0  RI - CRANSTON BRANCH   Non-Payment  PROVIDENCE        Active   \n              1                   NaN           NaN         NaN  Unsubscribed   \n\n                Right_Gender Member Map Location Member Phone Type  \\\nHousehold Key                                                        \n8750          0          NaN  {41.7658,-71.4978}          Wireless   \n              1          NaN                 NaN               NaN   \n\n                Member Status Member Type Reason Joined Renew Method  \\\nHousehold Key                                                          \n8750          0        ACTIVE   Associate           NaN       NOTICE   \n              1           NaN         NaN           NaN          NaN   \n\n                   Mosaic Household Mosaic Global Household  \\\nHousehold Key                                                 \n8750          0  Couples with Clout    Bourgeois Prosperity   \n              1                 NaN                     NaN   \n\n                kcl_B_IND_MosaicsGrouping Occupation Code Occupation Group  \\\nHousehold Key                                                                \n8750          0               Power Elite             NaN              NaN   \n              1                       NaN             NaN              NaN   \n\n                Right_Dwelling Type Move Distance Breakdown Map Location  \\\nHousehold Key                                                              \n8750          0   Multi Family With  1 to 5 Miles               {41,-71}   \n              1                 NaN           NaN                    NaN   \n\n                Breakdown City Breakdown State Call Status Recv Date  \\\nHousehold Key                                                          \n8750          0       Cranston              RI   2014-09-27 17:54:38   \n              1            NaN             NaN   2014-09-29 06:34:41   \n\n                Clearing Code Last Description   Dispatch Code1 Description  \\\nHousehold Key                                                                 \n8750          0                 Normal Service            Flat Tire w/spare   \n              1                            NaN  Transmission/Clutch Failure   \n\n                  DTL Prob1 Code Description Motorcycle Indicator  \\\nHousehold Key                                                       \n8750          0            Flat Tire w/spare                    N   \n              1  Transmission/Clutch Failure                  NaN   \n\n                Plus Indicator Description Prob1 Code Description  \\\nHousehold Key                                                       \n8750          0            Plus Membership                    Tow   \n              1                        NaN                    NaN   \n\n                Prob2 Code Description SC Call Club Code Description  \\\nHousehold Key                                                          \n8750          0                    NaN                 AAA Northeast   \n              1                    NaN                           NaN   \n\n                SC STS RSN Code Description SC Vehicle Manufacturer Name  \\\nHousehold Key                                                              \n8750          0              Normal Service                      PONTIAC   \n              1                         NaN                       TOYOTA   \n\n                SC Vehicle Model Name          SVC Facility Name  \\\nHousehold Key                                                      \n8750          0              GRAND AM  AAA SNE RI  LIGHT SERVICE   \n              1                   NaN                        NaN   \n\n                      SVC Facility Type Tow Destination Name  \nHousehold Key                                                 \n8750          0  mobile battery service                Mobil  \n              1                     NaN       Oaklawn Mobile  ",
      "text/html": "<div>\n<style scoped>\n    .dataframe tbody tr th:only-of-type {\n        vertical-align: middle;\n    }\n\n    .dataframe tbody tr th {\n        vertical-align: top;\n    }\n\n    .dataframe thead th {\n        text-align: right;\n    }\n</style>\n<table border=\"1\" class=\"dataframe\">\n  <thead>\n    <tr style=\"text-align: right;\">\n      <th></th>\n      <th></th>\n      <th>Household Key</th>\n      <th>Member Flag</th>\n      <th>City</th>\n      <th>State - Grouped</th>\n      <th>Number of Children</th>\n      <th>Race</th>\n      <th>Income</th>\n      <th>Education</th>\n      <th>Dwelling Type</th>\n      <th>Credit Ranges</th>\n      <th>Language</th>\n      <th>Billing Code Description</th>\n      <th>Branch Name</th>\n      <th>Cancel Reason</th>\n      <th>County</th>\n      <th>Email Status</th>\n      <th>Right_Gender</th>\n      <th>Member Map Location</th>\n      <th>Member Phone Type</th>\n      <th>Member Status</th>\n      <th>Member Type</th>\n      <th>Reason Joined</th>\n      <th>Renew Method</th>\n      <th>Mosaic Household</th>\n      <th>Mosaic Global Household</th>\n      <th>kcl_B_IND_MosaicsGrouping</th>\n      <th>Occupation Code</th>\n      <th>Occupation Group</th>\n      <th>Right_Dwelling Type</th>\n      <th>Move Distance</th>\n      <th>Breakdown Map Location</th>\n      <th>Breakdown City</th>\n      <th>Breakdown State</th>\n      <th>Call Status Recv Date</th>\n      <th>Clearing Code Last Description</th>\n      <th>Dispatch Code1 Description</th>\n      <th>DTL Prob1 Code Description</th>\n      <th>Motorcycle Indicator</th>\n      <th>Plus Indicator Description</th>\n      <th>Prob1 Code Description</th>\n      <th>Prob2 Code Description</th>\n      <th>SC Call Club Code Description</th>\n      <th>SC STS RSN Code Description</th>\n      <th>SC Vehicle Manufacturer Name</th>\n      <th>SC Vehicle Model Name</th>\n      <th>SVC Facility Name</th>\n      <th>SVC Facility Type</th>\n      <th>Tow Destination Name</th>\n    </tr>\n    <tr>\n      <th>Household Key</th>\n      <th></th>\n      <th></th>\n      <th></th>\n      <th></th>\n      <th></th>\n      <th></th>\n      <th></th>\n      <th></th>\n      <th></th>\n      <th></th>\n      <th></th>\n      <th></th>\n      <th></th>\n      <th></th>\n      <th></th>\n      <th></th>\n      <th></th>\n      <th></th>\n      <th></th>\n      <th></th>\n      <th></th>\n      <th></th>\n      <th></th>\n      <th></th>\n      <th></th>\n      <th></th>\n      <th></th>\n      <th></th>\n      <th></th>\n      <th></th>\n      <th></th>\n      <th></th>\n      <th></th>\n      <th></th>\n      <th></th>\n      <th></th>\n      <th></th>\n      <th></th>\n      <th></th>\n      <th></th>\n      <th></th>\n      <th></th>\n      <th></th>\n      <th></th>\n      <th></th>\n      <th></th>\n      <th></th>\n      <th></th>\n      <th></th>\n    </tr>\n  </thead>\n  <tbody>\n    <tr>\n      <th rowspan=\"2\" valign=\"top\">8750</th>\n      <th>0</th>\n      <td>8750.0</td>\n      <td>Y</td>\n      <td>CRANSTON</td>\n      <td>RI</td>\n      <td>NaN</td>\n      <td>NaN</td>\n      <td>NaN</td>\n      <td>NaN</td>\n      <td>SFDU</td>\n      <td>NaN</td>\n      <td>NaN</td>\n      <td>Renewal Mbr Billing</td>\n      <td>RI - CRANSTON BRANCH</td>\n      <td>Non-Payment</td>\n      <td>PROVIDENCE</td>\n      <td>Active</td>\n      <td>NaN</td>\n      <td>{41.7658,-71.4978}</td>\n      <td>Wireless</td>\n      <td>ACTIVE</td>\n      <td>Associate</td>\n      <td>NaN</td>\n      <td>NOTICE</td>\n      <td>Couples with Clout</td>\n      <td>Bourgeois Prosperity</td>\n      <td>Power Elite</td>\n      <td>NaN</td>\n      <td>NaN</td>\n      <td>Multi Family With</td>\n      <td>1 to 5 Miles</td>\n      <td>{41,-71}</td>\n      <td>Cranston</td>\n      <td>RI</td>\n      <td>2014-09-27 17:54:38</td>\n      <td>Normal Service</td>\n      <td>Flat Tire w/spare</td>\n      <td>Flat Tire w/spare</td>\n      <td>N</td>\n      <td>Plus Membership</td>\n      <td>Tow</td>\n      <td>NaN</td>\n      <td>AAA Northeast</td>\n      <td>Normal Service</td>\n      <td>PONTIAC</td>\n      <td>GRAND AM</td>\n      <td>AAA SNE RI  LIGHT SERVICE</td>\n      <td>mobile battery service</td>\n      <td>Mobil</td>\n    </tr>\n    <tr>\n      <th>1</th>\n      <td>NaN</td>\n      <td>NaN</td>\n      <td>NaN</td>\n      <td>NaN</td>\n      <td>NaN</td>\n      <td>NaN</td>\n      <td>NaN</td>\n      <td>NaN</td>\n      <td>NaN</td>\n      <td>NaN</td>\n      <td>NaN</td>\n      <td>NaN</td>\n      <td>NaN</td>\n      <td>NaN</td>\n      <td>NaN</td>\n      <td>Unsubscribed</td>\n      <td>NaN</td>\n      <td>NaN</td>\n      <td>NaN</td>\n      <td>NaN</td>\n      <td>NaN</td>\n      <td>NaN</td>\n      <td>NaN</td>\n      <td>NaN</td>\n      <td>NaN</td>\n      <td>NaN</td>\n      <td>NaN</td>\n      <td>NaN</td>\n      <td>NaN</td>\n      <td>NaN</td>\n      <td>NaN</td>\n      <td>NaN</td>\n      <td>NaN</td>\n      <td>2014-09-29 06:34:41</td>\n      <td>NaN</td>\n      <td>Transmission/Clutch Failure</td>\n      <td>Transmission/Clutch Failure</td>\n      <td>NaN</td>\n      <td>NaN</td>\n      <td>NaN</td>\n      <td>NaN</td>\n      <td>NaN</td>\n      <td>NaN</td>\n      <td>TOYOTA</td>\n      <td>NaN</td>\n      <td>NaN</td>\n      <td>NaN</td>\n      <td>Oaklawn Mobile</td>\n    </tr>\n  </tbody>\n</table>\n</div>"
     },
     "metadata": {},
     "execution_count": 20
    }
   ],
   "source": [
    "string.head(n=2) # by some reason, the groupby method by the mode of string columns returned a multi-index dataframe. Therefore, we need to remove the multi-index of this dataframe to move further our analysis"
   ]
  },
  {
   "cell_type": "markdown",
   "metadata": {},
   "source": [
    "        2.3.1 - Post-Processed Strings Dataframe"
   ]
  },
  {
   "cell_type": "code",
   "execution_count": 21,
   "metadata": {},
   "outputs": [],
   "source": [
    "post_processed_string = pd.DataFrame() # creating a new dataframe for the post processed string variable"
   ]
  },
  {
   "cell_type": "code",
   "execution_count": 22,
   "metadata": {},
   "outputs": [
    {
     "output_type": "display_data",
     "data": {
      "text/plain": "HBox(children=(FloatProgress(value=0.0, description='Process Progress', max=5241.0, style=ProgressStyle(descri…",
      "application/vnd.jupyter.widget-view+json": {
       "version_major": 2,
       "version_minor": 0,
       "model_id": "27eed120fc444828a49111e6ebeda2ea"
      }
     },
     "metadata": {}
    },
    {
     "output_type": "stream",
     "name": "stdout",
     "text": "\n"
    }
   ],
   "source": [
    "for house_id in tqdm_notebook(df_original['Household Key'].unique().tolist(), desc='Process Progress'): # iterating over all unique Household Keys\n",
    "\n",
    "    if len(string.loc[house_id].index.tolist()) > 1: # if, for a given Household Key, we have more then one multi-index value\n",
    "\n",
    "        result = string.loc[house_id].iloc[0] + string.loc[house_id].iloc[1] # we sum the first two rows\n",
    "\n",
    "        non_null_indexes = np.where(string.loc[house_id].iloc[1].isnull().tolist())[0] # we evaluate which of them were not null before the sum procedure\n",
    "\n",
    "        for i in np.where(string.loc[house_id].iloc[1].isnull().tolist())[0]: # we iterate over the indexes that were not null before the sum procedure\n",
    "\n",
    "            result[i] = string.loc[house_id].iloc[0][i] # we replace by the previous non null value\n",
    "\n",
    "        post_processed_string = pd.concat([post_processed_string, result.to_frame().T]) # and we store on our new dataframe\n",
    "\n",
    "    else: # if, for a given Household Key, we have only one multi-index value\n",
    "\n",
    "        result = string.loc[house_id].iloc[0] # we store it because we can not change it so far\n",
    "\n",
    "        post_processed_string = pd.concat([post_processed_string, result.to_frame().T]) # # and we store on our new dataframe"
   ]
  },
  {
   "cell_type": "code",
   "execution_count": 23,
   "metadata": {},
   "outputs": [
    {
     "output_type": "execute_result",
     "data": {
      "text/plain": "          Member Flag          City State - Grouped Number of Children  \\\n104625900           Y     NEW HAVEN              CT                NaN   \n45007910            Y  WEST WARWICK              RI          One Child   \n43175160            Y      TIVERTON              RI                NaN   \n\n                                  Race     Income     Education  \\\n104625900                          NaN        NaN           NaN   \n45007910   Caucasion / White - English  30-39,999  Some College   \n43175160                           NaN        NaN           NaN   \n\n                                      Dwelling Type Credit Ranges Language  \\\n104625900  Small or large multi-family w/apt number           NaN      NaN   \n45007910   Small or large multi-family w/apt number       600-649  English   \n43175160                                       SFDU           NaN      NaN   \n\n          Billing Code Description             Branch Name Cancel Reason  \\\n104625900                      NaN                     NaN           NaN   \n45007910                New Member     RI - WARWICK BRANCH           NaN   \n43175160              Cancellation  RI - BARRINGTON BRANCH      Deceased   \n\n            County Email Status Right_Gender Member Map Location  \\\n104625900      NaN          NaN          NaN                 NaN   \n45007910      KENT          NaN          NaN   {41.696,-71.5308}   \n43175160   NEWPORT          NaN          NaN   {41.673,-71.1886}   \n\n          Member Phone Type Member Status Member Type Reason Joined  \\\n104625900               NaN           NaN         NaN           NaN   \n45007910               VoIP        ACTIVE     Primary           NaN   \n43175160                NaN     CANCELLED     Primary           NaN   \n\n          Renew Method  Mosaic Household Mosaic Global Household  \\\n104625900          NaN               NaN                     NaN   \n45007910    AUTO RENEW  Senior Discounts       Low Income Elders   \n43175160        NOTICE    Aging in Place  Comfortable Retirement   \n\n          kcl_B_IND_MosaicsGrouping Occupation Code Occupation Group  \\\n104625900                       NaN             NaN              NaN   \n45007910      Golden Year Guardians             NaN              NaN   \n43175160               Autumn Years             NaN              NaN   \n\n          Right_Dwelling Type Move Distance Breakdown Map Location  \\\n104625900                 NaN           NaN                    NaN   \n45007910                  NaN           NaN               {41,-71}   \n43175160                  NaN           NaN                    NaN   \n\n          Breakdown City Breakdown State  \\\n104625900            NaN             NaN   \n45007910    West Warwick              RI   \n43175160             NaN             NaN   \n\n                            Call Status Recv Date  \\\n104625900                                     NaN   \n45007910   2015-01-29 14:34:292015-09-25 16:26:14   \n43175160                                      NaN   \n\n          Clearing Code Last Description       Dispatch Code1 Description  \\\n104625900                            NaN                              NaN   \n45007910                  Normal Service  Member Requests Battery Service   \n43175160                             NaN                              NaN   \n\n                DTL Prob1 Code Description Motorcycle Indicator  \\\n104625900                              NaN                  NaN   \n45007910   Member Requests Battery Service                    N   \n43175160                               NaN                  NaN   \n\n          Plus Indicator Description Prob1 Code Description  \\\n104625900                        NaN                    NaN   \n45007910            Basic Membership        Battery Service   \n43175160                         NaN                    NaN   \n\n          Prob2 Code Description SC Call Club Code Description  \\\n104625900                    NaN                           NaN   \n45007910                     NaN                 AAA Northeast   \n43175160                     NaN                           NaN   \n\n          SC STS RSN Code Description SC Vehicle Manufacturer Name  \\\n104625900                         NaN                          NaN   \n45007910               Normal Service                       TOYOTA   \n43175160                          NaN                          NaN   \n\n          SC Vehicle Model Name                           SVC Facility Name  \\\n104625900                   NaN                                         NaN   \n45007910                  CAMRY  ASTRO WRECKER SERVICEAstro Wrecker Service   \n43175160                    NaN                                         NaN   \n\n            SVC Facility Type          Tow Destination Name  \n104625900                 NaN                           NaN  \n45007910   independent repair  Aar / Johnson's Auto Service  \n43175160                  NaN                           NaN  ",
      "text/html": "<div>\n<style scoped>\n    .dataframe tbody tr th:only-of-type {\n        vertical-align: middle;\n    }\n\n    .dataframe tbody tr th {\n        vertical-align: top;\n    }\n\n    .dataframe thead th {\n        text-align: right;\n    }\n</style>\n<table border=\"1\" class=\"dataframe\">\n  <thead>\n    <tr style=\"text-align: right;\">\n      <th></th>\n      <th>Member Flag</th>\n      <th>City</th>\n      <th>State - Grouped</th>\n      <th>Number of Children</th>\n      <th>Race</th>\n      <th>Income</th>\n      <th>Education</th>\n      <th>Dwelling Type</th>\n      <th>Credit Ranges</th>\n      <th>Language</th>\n      <th>Billing Code Description</th>\n      <th>Branch Name</th>\n      <th>Cancel Reason</th>\n      <th>County</th>\n      <th>Email Status</th>\n      <th>Right_Gender</th>\n      <th>Member Map Location</th>\n      <th>Member Phone Type</th>\n      <th>Member Status</th>\n      <th>Member Type</th>\n      <th>Reason Joined</th>\n      <th>Renew Method</th>\n      <th>Mosaic Household</th>\n      <th>Mosaic Global Household</th>\n      <th>kcl_B_IND_MosaicsGrouping</th>\n      <th>Occupation Code</th>\n      <th>Occupation Group</th>\n      <th>Right_Dwelling Type</th>\n      <th>Move Distance</th>\n      <th>Breakdown Map Location</th>\n      <th>Breakdown City</th>\n      <th>Breakdown State</th>\n      <th>Call Status Recv Date</th>\n      <th>Clearing Code Last Description</th>\n      <th>Dispatch Code1 Description</th>\n      <th>DTL Prob1 Code Description</th>\n      <th>Motorcycle Indicator</th>\n      <th>Plus Indicator Description</th>\n      <th>Prob1 Code Description</th>\n      <th>Prob2 Code Description</th>\n      <th>SC Call Club Code Description</th>\n      <th>SC STS RSN Code Description</th>\n      <th>SC Vehicle Manufacturer Name</th>\n      <th>SC Vehicle Model Name</th>\n      <th>SVC Facility Name</th>\n      <th>SVC Facility Type</th>\n      <th>Tow Destination Name</th>\n    </tr>\n  </thead>\n  <tbody>\n    <tr>\n      <th>104625900</th>\n      <td>Y</td>\n      <td>NEW HAVEN</td>\n      <td>CT</td>\n      <td>NaN</td>\n      <td>NaN</td>\n      <td>NaN</td>\n      <td>NaN</td>\n      <td>Small or large multi-family w/apt number</td>\n      <td>NaN</td>\n      <td>NaN</td>\n      <td>NaN</td>\n      <td>NaN</td>\n      <td>NaN</td>\n      <td>NaN</td>\n      <td>NaN</td>\n      <td>NaN</td>\n      <td>NaN</td>\n      <td>NaN</td>\n      <td>NaN</td>\n      <td>NaN</td>\n      <td>NaN</td>\n      <td>NaN</td>\n      <td>NaN</td>\n      <td>NaN</td>\n      <td>NaN</td>\n      <td>NaN</td>\n      <td>NaN</td>\n      <td>NaN</td>\n      <td>NaN</td>\n      <td>NaN</td>\n      <td>NaN</td>\n      <td>NaN</td>\n      <td>NaN</td>\n      <td>NaN</td>\n      <td>NaN</td>\n      <td>NaN</td>\n      <td>NaN</td>\n      <td>NaN</td>\n      <td>NaN</td>\n      <td>NaN</td>\n      <td>NaN</td>\n      <td>NaN</td>\n      <td>NaN</td>\n      <td>NaN</td>\n      <td>NaN</td>\n      <td>NaN</td>\n      <td>NaN</td>\n    </tr>\n    <tr>\n      <th>45007910</th>\n      <td>Y</td>\n      <td>WEST WARWICK</td>\n      <td>RI</td>\n      <td>One Child</td>\n      <td>Caucasion / White - English</td>\n      <td>30-39,999</td>\n      <td>Some College</td>\n      <td>Small or large multi-family w/apt number</td>\n      <td>600-649</td>\n      <td>English</td>\n      <td>New Member</td>\n      <td>RI - WARWICK BRANCH</td>\n      <td>NaN</td>\n      <td>KENT</td>\n      <td>NaN</td>\n      <td>NaN</td>\n      <td>{41.696,-71.5308}</td>\n      <td>VoIP</td>\n      <td>ACTIVE</td>\n      <td>Primary</td>\n      <td>NaN</td>\n      <td>AUTO RENEW</td>\n      <td>Senior Discounts</td>\n      <td>Low Income Elders</td>\n      <td>Golden Year Guardians</td>\n      <td>NaN</td>\n      <td>NaN</td>\n      <td>NaN</td>\n      <td>NaN</td>\n      <td>{41,-71}</td>\n      <td>West Warwick</td>\n      <td>RI</td>\n      <td>2015-01-29 14:34:292015-09-25 16:26:14</td>\n      <td>Normal Service</td>\n      <td>Member Requests Battery Service</td>\n      <td>Member Requests Battery Service</td>\n      <td>N</td>\n      <td>Basic Membership</td>\n      <td>Battery Service</td>\n      <td>NaN</td>\n      <td>AAA Northeast</td>\n      <td>Normal Service</td>\n      <td>TOYOTA</td>\n      <td>CAMRY</td>\n      <td>ASTRO WRECKER SERVICEAstro Wrecker Service</td>\n      <td>independent repair</td>\n      <td>Aar / Johnson's Auto Service</td>\n    </tr>\n    <tr>\n      <th>43175160</th>\n      <td>Y</td>\n      <td>TIVERTON</td>\n      <td>RI</td>\n      <td>NaN</td>\n      <td>NaN</td>\n      <td>NaN</td>\n      <td>NaN</td>\n      <td>SFDU</td>\n      <td>NaN</td>\n      <td>NaN</td>\n      <td>Cancellation</td>\n      <td>RI - BARRINGTON BRANCH</td>\n      <td>Deceased</td>\n      <td>NEWPORT</td>\n      <td>NaN</td>\n      <td>NaN</td>\n      <td>{41.673,-71.1886}</td>\n      <td>NaN</td>\n      <td>CANCELLED</td>\n      <td>Primary</td>\n      <td>NaN</td>\n      <td>NOTICE</td>\n      <td>Aging in Place</td>\n      <td>Comfortable Retirement</td>\n      <td>Autumn Years</td>\n      <td>NaN</td>\n      <td>NaN</td>\n      <td>NaN</td>\n      <td>NaN</td>\n      <td>NaN</td>\n      <td>NaN</td>\n      <td>NaN</td>\n      <td>NaN</td>\n      <td>NaN</td>\n      <td>NaN</td>\n      <td>NaN</td>\n      <td>NaN</td>\n      <td>NaN</td>\n      <td>NaN</td>\n      <td>NaN</td>\n      <td>NaN</td>\n      <td>NaN</td>\n      <td>NaN</td>\n      <td>NaN</td>\n      <td>NaN</td>\n      <td>NaN</td>\n      <td>NaN</td>\n    </tr>\n  </tbody>\n</table>\n</div>"
     },
     "metadata": {},
     "execution_count": 23
    }
   ],
   "source": [
    "post_processed_string = post_processed_string.set_index('Household Key') # set index to be sorted as Household Key values\n",
    "\n",
    "post_processed_string.index = post_processed_string.index.astype(int) # converting the index to iterger\n",
    "\n",
    "post_processed_string.head(n=3)"
   ]
  },
  {
   "cell_type": "markdown",
   "metadata": {},
   "source": [
    "    2.4 - Binary Categorical Dataframe"
   ]
  },
  {
   "cell_type": "code",
   "execution_count": 24,
   "metadata": {},
   "outputs": [],
   "source": [
    "binary_categoricals = binary.groupby('Household Key').apply(lambda x: x.mode()) # grouping by the mode of each categorical per each Household Key"
   ]
  },
  {
   "cell_type": "code",
   "execution_count": 25,
   "metadata": {},
   "outputs": [
    {
     "output_type": "execute_result",
     "data": {
      "text/plain": "                 Household Key FSV CMSI Flag FSV Credit Card Flag  \\\nHousehold Key                                                       \n8750          0         8750.0             N                    N   \n9690          0         9690.0             N                    N   \n33380         0        33380.0             N                    N   \n87180         0        87180.0             N                    N   \n              1            NaN           NaN                  NaN   \n\n                FSV Deposit Program Flag FSV Home Equity Flag  \\\nHousehold Key                                                   \n8750          0                        N                    N   \n9690          0                        N                    N   \n33380         0                        N                    N   \n87180         0                        N                    N   \n              1                      NaN                  NaN   \n\n                FSV ID Theft Flag FSV Mortgage Flag INS Client Flag  \\\nHousehold Key                                                         \n8750          0                 N                 N               N   \n9690          0                 N                 N               N   \n33380         0                 N                 N               N   \n87180         0                 N                 N               N   \n              1               NaN               NaN             NaN   \n\n                TRV Globalware Flag Responded to Catalog Mail Responder  \\\nHousehold Key                                                             \n8750          0                   N                  NaN            NaN   \n9690          0                   N                  NaN            Yes   \n33380         0                   N                  NaN            Yes   \n87180         0                   N                  NaN            Yes   \n              1                   Y                  NaN            NaN   \n\n                 Home Owner Children Gender Bad Address Flag  \\\nHousehold Key                                                  \n8750          0         NaN      NaN    NaN                F   \n9690          0  Home Owner       No   Male                F   \n33380         0  Home Owner      Yes    NaN                F   \n87180         0  Home Owner       No   Male                F   \n              1         NaN      NaN    NaN              NaN   \n\n                Opt-Out - Publication New Mover Flag Occupant Type  \\\nHousehold Key                                                        \n8750          0                Opt-In              N        Renter   \n9690          0                Opt-In              N           NaN   \n33380         0                Opt-In              N           NaN   \n87180         0                Opt-In              N           NaN   \n              1                   NaN            NaN           NaN   \n\n                Call Canceled Call Killed Cash Call Fleet Indicator  \nHousehold Key                                                        \n8750          0             N           N         N               Y  \n9690          0             N           N         N               Y  \n33380         0           NaN         NaN       NaN             NaN  \n87180         0           NaN         NaN       NaN             NaN  \n              1           NaN         NaN       NaN             NaN  ",
      "text/html": "<div>\n<style scoped>\n    .dataframe tbody tr th:only-of-type {\n        vertical-align: middle;\n    }\n\n    .dataframe tbody tr th {\n        vertical-align: top;\n    }\n\n    .dataframe thead th {\n        text-align: right;\n    }\n</style>\n<table border=\"1\" class=\"dataframe\">\n  <thead>\n    <tr style=\"text-align: right;\">\n      <th></th>\n      <th></th>\n      <th>Household Key</th>\n      <th>FSV CMSI Flag</th>\n      <th>FSV Credit Card Flag</th>\n      <th>FSV Deposit Program Flag</th>\n      <th>FSV Home Equity Flag</th>\n      <th>FSV ID Theft Flag</th>\n      <th>FSV Mortgage Flag</th>\n      <th>INS Client Flag</th>\n      <th>TRV Globalware Flag</th>\n      <th>Responded to Catalog</th>\n      <th>Mail Responder</th>\n      <th>Home Owner</th>\n      <th>Children</th>\n      <th>Gender</th>\n      <th>Bad Address Flag</th>\n      <th>Opt-Out - Publication</th>\n      <th>New Mover Flag</th>\n      <th>Occupant Type</th>\n      <th>Call Canceled</th>\n      <th>Call Killed</th>\n      <th>Cash Call</th>\n      <th>Fleet Indicator</th>\n    </tr>\n    <tr>\n      <th>Household Key</th>\n      <th></th>\n      <th></th>\n      <th></th>\n      <th></th>\n      <th></th>\n      <th></th>\n      <th></th>\n      <th></th>\n      <th></th>\n      <th></th>\n      <th></th>\n      <th></th>\n      <th></th>\n      <th></th>\n      <th></th>\n      <th></th>\n      <th></th>\n      <th></th>\n      <th></th>\n      <th></th>\n      <th></th>\n      <th></th>\n      <th></th>\n    </tr>\n  </thead>\n  <tbody>\n    <tr>\n      <th>8750</th>\n      <th>0</th>\n      <td>8750.0</td>\n      <td>N</td>\n      <td>N</td>\n      <td>N</td>\n      <td>N</td>\n      <td>N</td>\n      <td>N</td>\n      <td>N</td>\n      <td>N</td>\n      <td>NaN</td>\n      <td>NaN</td>\n      <td>NaN</td>\n      <td>NaN</td>\n      <td>NaN</td>\n      <td>F</td>\n      <td>Opt-In</td>\n      <td>N</td>\n      <td>Renter</td>\n      <td>N</td>\n      <td>N</td>\n      <td>N</td>\n      <td>Y</td>\n    </tr>\n    <tr>\n      <th>9690</th>\n      <th>0</th>\n      <td>9690.0</td>\n      <td>N</td>\n      <td>N</td>\n      <td>N</td>\n      <td>N</td>\n      <td>N</td>\n      <td>N</td>\n      <td>N</td>\n      <td>N</td>\n      <td>NaN</td>\n      <td>Yes</td>\n      <td>Home Owner</td>\n      <td>No</td>\n      <td>Male</td>\n      <td>F</td>\n      <td>Opt-In</td>\n      <td>N</td>\n      <td>NaN</td>\n      <td>N</td>\n      <td>N</td>\n      <td>N</td>\n      <td>Y</td>\n    </tr>\n    <tr>\n      <th>33380</th>\n      <th>0</th>\n      <td>33380.0</td>\n      <td>N</td>\n      <td>N</td>\n      <td>N</td>\n      <td>N</td>\n      <td>N</td>\n      <td>N</td>\n      <td>N</td>\n      <td>N</td>\n      <td>NaN</td>\n      <td>Yes</td>\n      <td>Home Owner</td>\n      <td>Yes</td>\n      <td>NaN</td>\n      <td>F</td>\n      <td>Opt-In</td>\n      <td>N</td>\n      <td>NaN</td>\n      <td>NaN</td>\n      <td>NaN</td>\n      <td>NaN</td>\n      <td>NaN</td>\n    </tr>\n    <tr>\n      <th rowspan=\"2\" valign=\"top\">87180</th>\n      <th>0</th>\n      <td>87180.0</td>\n      <td>N</td>\n      <td>N</td>\n      <td>N</td>\n      <td>N</td>\n      <td>N</td>\n      <td>N</td>\n      <td>N</td>\n      <td>N</td>\n      <td>NaN</td>\n      <td>Yes</td>\n      <td>Home Owner</td>\n      <td>No</td>\n      <td>Male</td>\n      <td>F</td>\n      <td>Opt-In</td>\n      <td>N</td>\n      <td>NaN</td>\n      <td>NaN</td>\n      <td>NaN</td>\n      <td>NaN</td>\n      <td>NaN</td>\n    </tr>\n    <tr>\n      <th>1</th>\n      <td>NaN</td>\n      <td>NaN</td>\n      <td>NaN</td>\n      <td>NaN</td>\n      <td>NaN</td>\n      <td>NaN</td>\n      <td>NaN</td>\n      <td>NaN</td>\n      <td>Y</td>\n      <td>NaN</td>\n      <td>NaN</td>\n      <td>NaN</td>\n      <td>NaN</td>\n      <td>NaN</td>\n      <td>NaN</td>\n      <td>NaN</td>\n      <td>NaN</td>\n      <td>NaN</td>\n      <td>NaN</td>\n      <td>NaN</td>\n      <td>NaN</td>\n      <td>NaN</td>\n    </tr>\n  </tbody>\n</table>\n</div>"
     },
     "metadata": {},
     "execution_count": 25
    }
   ],
   "source": [
    "binary_categoricals.head(n=5) # by some reason, the groupby method by the mode of binary_categoricals columns returned a multi-index dataframe. Therefore, we need to remove the multi-index of this dataframe to move further our analysis"
   ]
  },
  {
   "cell_type": "markdown",
   "metadata": {},
   "source": [
    "        2.4.1 - Post-Processed Binary Categorical Dataframe"
   ]
  },
  {
   "cell_type": "code",
   "execution_count": 26,
   "metadata": {},
   "outputs": [],
   "source": [
    "post_processed_binary_categoricals = pd.DataFrame() # creating a new dataframe for the post processed string variable"
   ]
  },
  {
   "cell_type": "code",
   "execution_count": 27,
   "metadata": {},
   "outputs": [
    {
     "output_type": "display_data",
     "data": {
      "text/plain": "HBox(children=(FloatProgress(value=0.0, description='Process Progress', max=5241.0, style=ProgressStyle(descri…",
      "application/vnd.jupyter.widget-view+json": {
       "version_major": 2,
       "version_minor": 0,
       "model_id": "e09662fa49a04ea1846296f6f0a91cbb"
      }
     },
     "metadata": {}
    },
    {
     "output_type": "stream",
     "name": "stdout",
     "text": "\n"
    }
   ],
   "source": [
    "for house_id in tqdm_notebook(df_original['Household Key'].unique().tolist(), desc='Process Progress'): # iterating over all unique Household Keys\n",
    "\n",
    "    if len(binary_categoricals.loc[house_id].index.tolist()) > 1: # if, for a given Household Key, we have more then one multi-index value\n",
    "\n",
    "        result = binary_categoricals.loc[house_id].iloc[0] + binary_categoricals.loc[house_id].iloc[1] # we sum the first two rows\n",
    "\n",
    "        non_null_indexes = np.where(binary_categoricals.loc[house_id].iloc[1].isnull().tolist())[0] # we evaluate which of them were not null before the sum procedure\n",
    "\n",
    "        for i in np.where(binary_categoricals.loc[house_id].iloc[1].isnull().tolist())[0]: # we iterate over the indexes that were not null before the sum procedure\n",
    "\n",
    "            result[i] = binary_categoricals.loc[house_id].iloc[0][i] # we replace by the previous non null value\n",
    "\n",
    "        post_processed_binary_categoricals = pd.concat([post_processed_binary_categoricals, result.to_frame().T]) # and we store on our new dataframe\n",
    "\n",
    "    else: # if, for a given Household Key, we have only one multi-index value\n",
    "\n",
    "        result = binary_categoricals.loc[house_id].iloc[0] # we store it because we can not change it so far\n",
    "\n",
    "        post_processed_binary_categoricals = pd.concat([post_processed_binary_categoricals, result.to_frame().T]) # # and we store on our new dataframe"
   ]
  },
  {
   "cell_type": "code",
   "execution_count": 28,
   "metadata": {},
   "outputs": [
    {
     "output_type": "execute_result",
     "data": {
      "text/plain": "          FSV CMSI Flag FSV Credit Card Flag FSV Deposit Program Flag  \\\n104625900             N                    N                        N   \n45007910              N                    Y                        N   \n\n          FSV Home Equity Flag FSV ID Theft Flag FSV Mortgage Flag  \\\n104625900                    N                 N                 N   \n45007910                     N                 N                 N   \n\n          INS Client Flag TRV Globalware Flag Responded to Catalog  \\\n104625900               N                   N                  NaN   \n45007910                N                   N                  NaN   \n\n          Mail Responder  Home Owner Children Gender Bad Address Flag  \\\n104625900            NaN         NaN      NaN   Male              NaN   \n45007910             Yes  Home Owner      Yes    NaN                F   \n\n          Opt-Out - Publication New Mover Flag Occupant Type Call Canceled  \\\n104625900                   NaN            NaN           NaN           NaN   \n45007910                 Opt-In              N           NaN             N   \n\n          Call Killed Cash Call Fleet Indicator  \n104625900         NaN       NaN             NaN  \n45007910            N         N               N  ",
      "text/html": "<div>\n<style scoped>\n    .dataframe tbody tr th:only-of-type {\n        vertical-align: middle;\n    }\n\n    .dataframe tbody tr th {\n        vertical-align: top;\n    }\n\n    .dataframe thead th {\n        text-align: right;\n    }\n</style>\n<table border=\"1\" class=\"dataframe\">\n  <thead>\n    <tr style=\"text-align: right;\">\n      <th></th>\n      <th>FSV CMSI Flag</th>\n      <th>FSV Credit Card Flag</th>\n      <th>FSV Deposit Program Flag</th>\n      <th>FSV Home Equity Flag</th>\n      <th>FSV ID Theft Flag</th>\n      <th>FSV Mortgage Flag</th>\n      <th>INS Client Flag</th>\n      <th>TRV Globalware Flag</th>\n      <th>Responded to Catalog</th>\n      <th>Mail Responder</th>\n      <th>Home Owner</th>\n      <th>Children</th>\n      <th>Gender</th>\n      <th>Bad Address Flag</th>\n      <th>Opt-Out - Publication</th>\n      <th>New Mover Flag</th>\n      <th>Occupant Type</th>\n      <th>Call Canceled</th>\n      <th>Call Killed</th>\n      <th>Cash Call</th>\n      <th>Fleet Indicator</th>\n    </tr>\n  </thead>\n  <tbody>\n    <tr>\n      <th>104625900</th>\n      <td>N</td>\n      <td>N</td>\n      <td>N</td>\n      <td>N</td>\n      <td>N</td>\n      <td>N</td>\n      <td>N</td>\n      <td>N</td>\n      <td>NaN</td>\n      <td>NaN</td>\n      <td>NaN</td>\n      <td>NaN</td>\n      <td>Male</td>\n      <td>NaN</td>\n      <td>NaN</td>\n      <td>NaN</td>\n      <td>NaN</td>\n      <td>NaN</td>\n      <td>NaN</td>\n      <td>NaN</td>\n      <td>NaN</td>\n    </tr>\n    <tr>\n      <th>45007910</th>\n      <td>N</td>\n      <td>Y</td>\n      <td>N</td>\n      <td>N</td>\n      <td>N</td>\n      <td>N</td>\n      <td>N</td>\n      <td>N</td>\n      <td>NaN</td>\n      <td>Yes</td>\n      <td>Home Owner</td>\n      <td>Yes</td>\n      <td>NaN</td>\n      <td>F</td>\n      <td>Opt-In</td>\n      <td>N</td>\n      <td>NaN</td>\n      <td>N</td>\n      <td>N</td>\n      <td>N</td>\n      <td>N</td>\n    </tr>\n  </tbody>\n</table>\n</div>"
     },
     "metadata": {},
     "execution_count": 28
    }
   ],
   "source": [
    "post_processed_binary_categoricals = post_processed_binary_categoricals.set_index('Household Key') # set index to be sorted as Household Key values\n",
    "\n",
    "post_processed_binary_categoricals.index = post_processed_binary_categoricals.index.astype(int) # converting the index to iterger\n",
    "\n",
    "post_processed_binary_categoricals.head(n=2)"
   ]
  },
  {
   "cell_type": "code",
   "execution_count": 29,
   "metadata": {},
   "outputs": [
    {
     "output_type": "stream",
     "name": "stdout",
     "text": "5241 5241 5241 5241 5241\n"
    }
   ],
   "source": [
    "print(len(numericals.index), len(binary_numericals.index), len(post_processed_binary_categoricals.index), len(dates.index), len(post_processed_string.index)) # number of rows per type of variable"
   ]
  },
  {
   "cell_type": "code",
   "execution_count": 30,
   "metadata": {},
   "outputs": [
    {
     "output_type": "stream",
     "name": "stdout",
     "text": "27 7 21 9 47\n"
    }
   ],
   "source": [
    "print(len(numericals.columns), len(binary_numericals.columns), len(post_processed_binary_categoricals.columns), len(dates.columns), len(post_processed_string.columns)) # number of columns per type of variable"
   ]
  },
  {
   "cell_type": "markdown",
   "metadata": {},
   "source": [
    "## 3 - Evaluating number of null values in Columns (Data Processing)"
   ]
  },
  {
   "cell_type": "markdown",
   "metadata": {},
   "source": [
    "    3.1 - Calculating null values ratio"
   ]
  },
  {
   "cell_type": "code",
   "execution_count": 31,
   "metadata": {},
   "outputs": [],
   "source": [
    "columns_nullval_ratio = {} # dictionary of null values ration for all columns\n",
    "\n",
    "sequence = ['Numerical', 'Binary Numericals', 'Dates', 'Binary Categoricals', 'Strings'] # key sequence for dictionaries\n",
    "\n",
    "data_type_collection = [numericals, binary_numericals, dates, post_processed_binary_categoricals, post_processed_string] # list of dataframes per each data type\n",
    "\n",
    "for var_type, idx in zip(sequence, range(len(sequence))): \n",
    "\n",
    "    columns_nullval_ratio[var_type] = (data_type_collection[idx].isnull().sum() * 100 / len(data_type_collection[idx])).sort_values(ascending=False) # filling dataframe dictionary"
   ]
  },
  {
   "cell_type": "markdown",
   "metadata": {},
   "source": [
    "plt.figure(figsize=(10,5))\n",
    "sns.barplot(x=columns_nullval_ratio[sequence[0]].index, y=columns_nullval_ratio[sequence[0]])\n",
    "plt.xticks(rotation='90')\n",
    "plt.xlabel('Variables', fontsize=12, weight='bold')\n",
    "plt.ylabel('Percentage of missing values', fontsize=12, weight='bold')\n",
    "plt.title('Percentage of missing values for the' + ' ' + sequence[0] + ' ' + 'Dataframe', fontsize=15, weight='bold')\n",
    "plt.savefig('percentage of missing values.png', dpi=200, bbox_inches='tight', pad_inches=0)\n",
    "plt.show()"
   ]
  },
  {
   "cell_type": "markdown",
   "metadata": {},
   "source": [
    "plt.figure(figsize=(10,5))\n",
    "\n",
    "sns.barplot(x=columns_nullval_ratio[sequence[1]].index, y=columns_nullval_ratio[sequence[1]])\n",
    "plt.xticks(rotation='90')\n",
    "plt.xlabel('Variables', fontsize=10)\n",
    "plt.ylabel('Percentage of missing values', fontsize=10)\n",
    "plt.title('Percentage of missing values for the' + ' ' + sequence[1] + ' ' + 'Dataframe', fontsize=15)"
   ]
  },
  {
   "cell_type": "markdown",
   "metadata": {},
   "source": [
    "plt.figure(figsize=(10,5))\n",
    "\n",
    "sns.barplot(x=columns_nullval_ratio[sequence[2]].index, y=columns_nullval_ratio[sequence[2]])\n",
    "plt.xticks(rotation='90')\n",
    "plt.xlabel('Variables', fontsize=10)\n",
    "plt.ylabel('Percentage of missing values', fontsize=10)\n",
    "plt.title('Percentage of missing values for the' + ' ' + sequence[2] + ' ' + 'Dataframe', fontsize=15)"
   ]
  },
  {
   "cell_type": "markdown",
   "metadata": {},
   "source": [
    "plt.figure(figsize=(10,5))\n",
    "\n",
    "sns.barplot(x=columns_nullval_ratio[sequence[3]].index, y=columns_nullval_ratio[sequence[3]])\n",
    "plt.xticks(rotation='90')\n",
    "plt.xlabel('Variables', fontsize=10)\n",
    "plt.ylabel('Percentage of missing values', fontsize=10)\n",
    "plt.title('Percentage of missing values for the' + ' ' + sequence[3] + ' ' + 'Dataframe', fontsize=15)"
   ]
  },
  {
   "cell_type": "markdown",
   "metadata": {},
   "source": [
    "plt.figure(figsize=(10,5))\n",
    "\n",
    "sns.barplot(x=columns_nullval_ratio[sequence[4]].index, y=columns_nullval_ratio[sequence[4]])\n",
    "plt.xticks(rotation='90')\n",
    "plt.xlabel('Variables', fontsize=10)\n",
    "plt.ylabel('Percentage of missing values', fontsize=10)\n",
    "plt.title('Percentage of missing values for the' + ' ' + sequence[4] + ' ' + 'Dataframe', fontsize=15)"
   ]
  },
  {
   "cell_type": "markdown",
   "metadata": {},
   "source": [
    "    3.2 - First checkpoint"
   ]
  },
  {
   "cell_type": "code",
   "execution_count": 32,
   "metadata": {},
   "outputs": [],
   "source": [
    "checkpoint_1 = {} # creating dictionary for the first checkpoint\n",
    "\n",
    "for var_type, idx in zip(sequence, range(len(sequence))): \n",
    "    checkpoint_1[var_type] = data_type_collection[idx].copy() # filling it with all types of dataframes"
   ]
  },
  {
   "cell_type": "markdown",
   "metadata": {},
   "source": [
    "    3.3 - Threshold Difinition"
   ]
  },
  {
   "cell_type": "code",
   "execution_count": 33,
   "metadata": {},
   "outputs": [],
   "source": [
    "column_threshold = 40.0 # threshold of 40 %"
   ]
  },
  {
   "cell_type": "markdown",
   "metadata": {},
   "source": [
    "    3.4 - Creating removed columns dictionary key"
   ]
  },
  {
   "cell_type": "code",
   "execution_count": 34,
   "metadata": {},
   "outputs": [],
   "source": [
    "key2 = str(column_threshold) + '% Column Threshold Removal' # key for our track removal dictionary\n",
    "\n",
    "removed_columns[key2] = [] # adding to the new key to the dictionary"
   ]
  },
  {
   "cell_type": "markdown",
   "metadata": {},
   "source": [
    " 3.5 - Performing Filtering"
   ]
  },
  {
   "cell_type": "code",
   "execution_count": 35,
   "metadata": {},
   "outputs": [
    {
     "output_type": "display_data",
     "data": {
      "text/plain": "HBox(children=(FloatProgress(value=0.0, description='Process Progress', max=112.0, style=ProgressStyle(descrip…",
      "application/vnd.jupyter.widget-view+json": {
       "version_major": 2,
       "version_minor": 0,
       "model_id": "9f2e8d580639424b9bed02e1ef63245e"
      }
     },
     "metadata": {}
    },
    {
     "output_type": "stream",
     "name": "stdout",
     "text": "\nRemoved Columns after filtering process:  ['Responded to Catalog', 'Gender', 'Address Change Date', 'Right_Gender', 'Reason Joined', 'Reinstate Date', 'Occupation Code', 'Occupation Group', 'Right_Dwelling Type', 'Move Distance', 'Occupant Type', 'Dispatch Code2Description', 'Prob2 Code Description', 'Tow Destination Name']\n"
    }
   ],
   "source": [
    "for c in tqdm_notebook(df_original.columns, desc='Process Progress'): # for all columns on the original dataframe\n",
    "    for var_type in sequence: # for all type of separatable dataframe \n",
    "\n",
    "        if c in checkpoint_1[var_type].columns: # if the column is in the list of columns of the given type of dataframe\n",
    "\n",
    "            if columns_nullval_ratio[var_type][c] >= column_threshold: # we check if the same does not satisfies the threshold limit\n",
    "\n",
    "                checkpoint_1[var_type].drop(columns=c, inplace=True) # in this case we remove the given column from the given type of dataframe\n",
    "                \n",
    "                removed_columns[key2].append(c) # and we add its name to the list of removed columns\n",
    "\n",
    "print('Removed Columns after filtering process: ', removed_columns[key2])"
   ]
  },
  {
   "cell_type": "code",
   "execution_count": 36,
   "metadata": {},
   "outputs": [],
   "source": [
    "for var_type, idx in zip(sequence, range(len(sequence))): # lets check the result now\n",
    "\n",
    "    columns_nullval_ratio[var_type] = (checkpoint_1[var_type].isnull().sum() * 100 / len(checkpoint_1[var_type])).sort_values(ascending=False) # filling dataframe dictionary"
   ]
  },
  {
   "cell_type": "markdown",
   "metadata": {},
   "source": [
    "plt.figure(figsize=(10,5))\n",
    "\n",
    "sns.barplot(x=columns_nullval_ratio[sequence[0]].index, y=columns_nullval_ratio[sequence[0]])\n",
    "plt.xticks(rotation='90')\n",
    "plt.xlabel('Variables', fontsize=10)\n",
    "plt.ylabel('Percentage of missing values', fontsize=10)\n",
    "plt.title('Percentage of missing values for the' + ' ' + sequence[0] + ' ' + 'Dataframe', fontsize=15)"
   ]
  },
  {
   "cell_type": "markdown",
   "metadata": {},
   "source": [
    "plt.figure(figsize=(10,5))\n",
    "\n",
    "sns.barplot(x=columns_nullval_ratio[sequence[1]].index, y=columns_nullval_ratio[sequence[1]])\n",
    "plt.xticks(rotation='90')\n",
    "plt.xlabel('Variables', fontsize=10)\n",
    "plt.ylabel('Percentage of missing values', fontsize=10)\n",
    "plt.title('Percentage of missing values for the' + ' ' + sequence[1] + ' ' + 'Dataframe', fontsize=15)"
   ]
  },
  {
   "cell_type": "markdown",
   "metadata": {},
   "source": [
    "plt.figure(figsize=(10,5))\n",
    "\n",
    "sns.barplot(x=columns_nullval_ratio[sequence[2]].index, y=columns_nullval_ratio[sequence[2]])\n",
    "plt.xticks(rotation='90')\n",
    "plt.xlabel('Variables', fontsize=10)\n",
    "plt.ylabel('Percentage of missing values', fontsize=10)\n",
    "plt.title('Percentage of missing values for the' + ' ' + sequence[2] + ' ' + 'Dataframe', fontsize=15)"
   ]
  },
  {
   "cell_type": "markdown",
   "metadata": {},
   "source": [
    "plt.figure(figsize=(10,5))\n",
    "\n",
    "sns.barplot(x=columns_nullval_ratio[sequence[3]].index, y=columns_nullval_ratio[sequence[3]])\n",
    "plt.xticks(rotation='90')\n",
    "plt.xlabel('Variables', fontsize=10)\n",
    "plt.ylabel('Percentage of missing values', fontsize=10)\n",
    "plt.title('Percentage of missing values for the' + ' ' + sequence[3] + ' ' + 'Dataframe', fontsize=15)"
   ]
  },
  {
   "cell_type": "markdown",
   "metadata": {},
   "source": [
    "plt.figure(figsize=(10,5))\n",
    "\n",
    "sns.barplot(x=columns_nullval_ratio[sequence[4]].index, y=columns_nullval_ratio[sequence[4]])\n",
    "plt.xticks(rotation='90')\n",
    "plt.xlabel('Variables', fontsize=10)\n",
    "plt.ylabel('Percentage of missing values', fontsize=10)\n",
    "plt.title('Percentage of missing values for the' + ' ' + sequence[4] + ' ' + 'Dataframe', fontsize=15)"
   ]
  },
  {
   "cell_type": "markdown",
   "metadata": {},
   "source": [
    "## 4 - Subjective Evaluation (Data Processing)"
   ]
  },
  {
   "cell_type": "markdown",
   "metadata": {},
   "source": [
    "    4.1 - Rename FSV, INS, and TRV columns that are related to products purchase flags"
   ]
  },
  {
   "cell_type": "code",
   "execution_count": 37,
   "metadata": {},
   "outputs": [
    {
     "output_type": "stream",
     "name": "stdout",
     "text": "['FSV CMSI Flag', 'FSV Credit Card Flag', 'FSV Deposit Program Flag', 'FSV Home Equity Flag', 'FSV ID Theft Flag', 'FSV Mortgage Flag', 'INS Client Flag', 'TRV Globalware Flag']\n"
    }
   ],
   "source": [
    "matching_FSV = [s for s in list(checkpoint_1['Binary Categoricals'].columns) if \"FSV\" in s] # creating a list of the columns that have at least the FSV mnemonic\n",
    "matching_INS = [s for s in list(checkpoint_1['Binary Categoricals'].columns) if \"INS\" in s] # creating a list of the columns that have at least the INS mnemonic\n",
    "matching_TRV = [s for s in list(checkpoint_1['Binary Categoricals'].columns) if \"TRV\" in s] # creating a list of the columns that have at least the TRV mnemonic\n",
    "final_matching = matching_FSV + matching_INS + matching_TRV # concatenating them all\n",
    "print(final_matching)"
   ]
  },
  {
   "cell_type": "code",
   "execution_count": 38,
   "metadata": {},
   "outputs": [],
   "source": [
    "counter = 1 # counter flag\n",
    "\n",
    "for c in final_matching:\n",
    "\n",
    "    checkpoint_1['Binary Categoricals'].rename(columns={c : 'Purchased Product' + ' ' + str(counter)}, inplace=True) # renaming the columns\n",
    "\n",
    "    counter = counter + 1 # index of the new product column name"
   ]
  },
  {
   "cell_type": "code",
   "execution_count": 39,
   "metadata": {},
   "outputs": [
    {
     "output_type": "execute_result",
     "data": {
      "text/plain": "          Purchased Product 1 Purchased Product 2 Purchased Product 3  \\\n104625900                   N                   N                   N   \n45007910                    N                   Y                   N   \n\n          Purchased Product 4 Purchased Product 5 Purchased Product 6  \\\n104625900                   N                   N                   N   \n45007910                    N                   N                   N   \n\n          Purchased Product 7 Purchased Product 8 Mail Responder  Home Owner  \\\n104625900                   N                   N            NaN         NaN   \n45007910                    N                   N            Yes  Home Owner   \n\n          Children Bad Address Flag Opt-Out - Publication New Mover Flag  \\\n104625900      NaN              NaN                   NaN            NaN   \n45007910       Yes                F                Opt-In              N   \n\n          Call Canceled Call Killed Cash Call Fleet Indicator  \n104625900           NaN         NaN       NaN             NaN  \n45007910              N           N         N               N  ",
      "text/html": "<div>\n<style scoped>\n    .dataframe tbody tr th:only-of-type {\n        vertical-align: middle;\n    }\n\n    .dataframe tbody tr th {\n        vertical-align: top;\n    }\n\n    .dataframe thead th {\n        text-align: right;\n    }\n</style>\n<table border=\"1\" class=\"dataframe\">\n  <thead>\n    <tr style=\"text-align: right;\">\n      <th></th>\n      <th>Purchased Product 1</th>\n      <th>Purchased Product 2</th>\n      <th>Purchased Product 3</th>\n      <th>Purchased Product 4</th>\n      <th>Purchased Product 5</th>\n      <th>Purchased Product 6</th>\n      <th>Purchased Product 7</th>\n      <th>Purchased Product 8</th>\n      <th>Mail Responder</th>\n      <th>Home Owner</th>\n      <th>Children</th>\n      <th>Bad Address Flag</th>\n      <th>Opt-Out - Publication</th>\n      <th>New Mover Flag</th>\n      <th>Call Canceled</th>\n      <th>Call Killed</th>\n      <th>Cash Call</th>\n      <th>Fleet Indicator</th>\n    </tr>\n  </thead>\n  <tbody>\n    <tr>\n      <th>104625900</th>\n      <td>N</td>\n      <td>N</td>\n      <td>N</td>\n      <td>N</td>\n      <td>N</td>\n      <td>N</td>\n      <td>N</td>\n      <td>N</td>\n      <td>NaN</td>\n      <td>NaN</td>\n      <td>NaN</td>\n      <td>NaN</td>\n      <td>NaN</td>\n      <td>NaN</td>\n      <td>NaN</td>\n      <td>NaN</td>\n      <td>NaN</td>\n      <td>NaN</td>\n    </tr>\n    <tr>\n      <th>45007910</th>\n      <td>N</td>\n      <td>Y</td>\n      <td>N</td>\n      <td>N</td>\n      <td>N</td>\n      <td>N</td>\n      <td>N</td>\n      <td>N</td>\n      <td>Yes</td>\n      <td>Home Owner</td>\n      <td>Yes</td>\n      <td>F</td>\n      <td>Opt-In</td>\n      <td>N</td>\n      <td>N</td>\n      <td>N</td>\n      <td>N</td>\n      <td>N</td>\n    </tr>\n  </tbody>\n</table>\n</div>"
     },
     "metadata": {},
     "execution_count": 39
    }
   ],
   "source": [
    "checkpoint_1['Binary Categoricals'].head(n=2)"
   ]
  },
  {
   "cell_type": "markdown",
   "metadata": {},
   "source": [
    "    4.2 -  Removing columns that are not allowed or not ethical to work\n"
   ]
  },
  {
   "cell_type": "markdown",
   "metadata": {},
   "source": [
    "        4.2.1 - Creating Dictionary Key"
   ]
  },
  {
   "cell_type": "code",
   "execution_count": 40,
   "metadata": {},
   "outputs": [],
   "source": [
    "key3 = 'Unethical Columns' # creating key to removed columns\n",
    "\n",
    "removed_columns[key3] = ['Race', 'Language', 'Gender'] # since we are talking about Households, the same can not be differentiate by gender"
   ]
  },
  {
   "cell_type": "markdown",
   "metadata": {},
   "source": [
    "        4.2.2 - Performing Filtering"
   ]
  },
  {
   "cell_type": "code",
   "execution_count": 41,
   "metadata": {},
   "outputs": [
    {
     "output_type": "display_data",
     "data": {
      "text/plain": "HBox(children=(FloatProgress(value=0.0, description='Process Progress', max=3.0, style=ProgressStyle(descripti…",
      "application/vnd.jupyter.widget-view+json": {
       "version_major": 2,
       "version_minor": 0,
       "model_id": "82b368f1d30e4a7eb4646a99164cd681"
      }
     },
     "metadata": {}
    },
    {
     "output_type": "stream",
     "name": "stdout",
     "text": "\nRemoved Columns after filtering process:  ['Race', 'Language', 'Gender']\n"
    }
   ],
   "source": [
    "for c in tqdm_notebook(removed_columns[key3], desc='Process Progress'): # iterating over the given columns\n",
    "    for var_type in sequence: # for each dataframe type\n",
    "        if c in checkpoint_1[var_type]: # if the columns is in the dataframe\n",
    "\n",
    "            checkpoint_1[var_type].drop(columns=c, inplace=True) # we dropped\n",
    "\n",
    "print('Removed Columns after filtering process: ', removed_columns[key3])"
   ]
  },
  {
   "cell_type": "markdown",
   "metadata": {},
   "source": [
    "    4.3 - Removing Columns that represent the same information in a different way (information redundancy)"
   ]
  },
  {
   "cell_type": "markdown",
   "metadata": {},
   "source": [
    "        4.3.1 - Creating Dictionary Key"
   ]
  },
  {
   "cell_type": "code",
   "execution_count": 42,
   "metadata": {},
   "outputs": [],
   "source": [
    "key4 = 'Redundancy Information Columns' # generating key for this filtering procedure\n",
    "\n",
    "removed_columns[key4] = ['Individual Key', 'State - Grouped', 'ZIP5', 'ZIP9', 'Children', 'Birth Date MMDDYYYY', 'Cancel Date', 'County', 'Do Not Direct Mail Solicit', 'Right_Individual Key', 'Member Key', 'Member Number Associate ID', 'Membership ID', 'Reinstate Date', 'ZIP', 'Mosaic Household', 'kcl_B_IND_MosaicsGrouping', 'Breakdown State', 'Call Killed', 'Clearing Code Last Description', 'Dispatch Code1 Description','DTL Prob1 Code Description', 'Is Duplicate', 'Member Match Flag', 'Member Number and Associate ID', 'SC Date', 'Rec ID', 'SC STS RSN Code Description', 'SC Vehicle Model Name', 'SVC Facility Name', 'SVC Facility Type', 'Tow Destination Latitude', 'Tow Destination Longitude', 'Member Map Location', 'Dwelling Type', 'Email Status', 'Cancel Reason', 'Breakdown City', 'Call Status Recv Date', 'Occupation Group'] #  Comlumns ids"
   ]
  },
  {
   "cell_type": "markdown",
   "metadata": {},
   "source": [
    "        4.3.2 - Performing Filtering"
   ]
  },
  {
   "cell_type": "code",
   "execution_count": 43,
   "metadata": {},
   "outputs": [
    {
     "output_type": "display_data",
     "data": {
      "text/plain": "HBox(children=(FloatProgress(value=0.0, description='Process Progress', max=40.0, style=ProgressStyle(descript…",
      "application/vnd.jupyter.widget-view+json": {
       "version_major": 2,
       "version_minor": 0,
       "model_id": "3b118d8052104909afed712cca5e7d3b"
      }
     },
     "metadata": {}
    },
    {
     "output_type": "stream",
     "name": "stdout",
     "text": "\nRemoved Columns after filtering process:  ['Individual Key', 'State - Grouped', 'ZIP5', 'ZIP9', 'Children', 'Birth Date MMDDYYYY', 'Cancel Date', 'County', 'Do Not Direct Mail Solicit', 'Right_Individual Key', 'Member Key', 'Member Number Associate ID', 'Membership ID', 'Reinstate Date', 'ZIP', 'Mosaic Household', 'kcl_B_IND_MosaicsGrouping', 'Breakdown State', 'Call Killed', 'Clearing Code Last Description', 'Dispatch Code1 Description', 'DTL Prob1 Code Description', 'Is Duplicate', 'Member Match Flag', 'Member Number and Associate ID', 'SC Date', 'Rec ID', 'SC STS RSN Code Description', 'SC Vehicle Model Name', 'SVC Facility Name', 'SVC Facility Type', 'Tow Destination Latitude', 'Tow Destination Longitude', 'Member Map Location', 'Dwelling Type', 'Email Status', 'Cancel Reason', 'Breakdown City', 'Call Status Recv Date', 'Occupation Group']\n"
    }
   ],
   "source": [
    "for c in tqdm_notebook(removed_columns[key4], desc='Process Progress'): # for each column in the redundancy columns list\n",
    "    for var_type in sequence: # for each dataframe type\n",
    "        if c in checkpoint_1[var_type]: # if the columns is in the given dataframe\n",
    "            checkpoint_1[var_type].drop(columns=c, inplace=True) # we dropped\n",
    "\n",
    "print('Removed Columns after filtering process: ', removed_columns[key4])"
   ]
  },
  {
   "cell_type": "code",
   "execution_count": 44,
   "metadata": {},
   "outputs": [
    {
     "output_type": "stream",
     "name": "stdout",
     "text": "Numerical: 14\nBinary Numericals: 4\nDates: 4\nBinary Categoricals: 16\nStrings: 19\n"
    }
   ],
   "source": [
    "for var_type in sequence:\n",
    "\n",
    "    print(var_type + ':', len(checkpoint_1[var_type].columns)) # number of remaining columns for each dataframe type after the filtering process "
   ]
  },
  {
   "cell_type": "markdown",
   "metadata": {},
   "source": [
    "    4.4 - Checking Columns with low percentage of variantional information (counting null values)"
   ]
  },
  {
   "cell_type": "markdown",
   "metadata": {},
   "source": [
    "        4.4.1 - Creating Dictionay Key "
   ]
  },
  {
   "cell_type": "code",
   "execution_count": 45,
   "metadata": {},
   "outputs": [],
   "source": [
    "key5 = 'Low Variational Information Columns' # generating key for this filtering procedure\n",
    "\n",
    "removed_columns[key5] = [] # generating empty list"
   ]
  },
  {
   "cell_type": "markdown",
   "metadata": {},
   "source": [
    "        4.4.2 - Performing Filtering"
   ]
  },
  {
   "cell_type": "code",
   "execution_count": 46,
   "metadata": {},
   "outputs": [
    {
     "output_type": "display_data",
     "data": {
      "text/plain": "HBox(children=(FloatProgress(value=0.0, description='Process Progress', max=5.0, style=ProgressStyle(descripti…",
      "application/vnd.jupyter.widget-view+json": {
       "version_major": 2,
       "version_minor": 0,
       "model_id": "71082d58ea0b41baaadbc468b5c527e8"
      }
     },
     "metadata": {}
    },
    {
     "output_type": "stream",
     "name": "stdout",
     "text": "\nRemoved Columns after filtering process:  ['Member Flag']\n"
    }
   ],
   "source": [
    "for var_type in tqdm_notebook(sequence, desc='Process Progress'): # for every dataframe type\n",
    "    for c in checkpoint_1[var_type].columns: # for every column in the given dataframe\n",
    "\n",
    "        if checkpoint_1[var_type].nunique()[c] == 1: # we check if the values on the given column are all the same\n",
    "\n",
    "            checkpoint_1[var_type].drop(columns=c, inplace=True) # if it is so, we drop the column\n",
    "\n",
    "            removed_columns[key5].append(c) # and we fill the removed columns list\n",
    "        \n",
    "print('Removed Columns after filtering process: ', removed_columns[key5])"
   ]
  },
  {
   "cell_type": "code",
   "execution_count": 47,
   "metadata": {},
   "outputs": [
    {
     "output_type": "stream",
     "name": "stdout",
     "text": "Numerical: 14\nBinary Numericals: 4\nDates: 4\nBinary Categoricals: 16\nStrings: 18\n"
    }
   ],
   "source": [
    "for var_type in sequence:\n",
    "\n",
    "    print(var_type + ':', len(checkpoint_1[var_type].columns)) # number of remaining columns for each dataframe type after the filtering process "
   ]
  },
  {
   "cell_type": "markdown",
   "metadata": {},
   "source": [
    "    4.5 - Removing Columns with Unnecessary Information (extremely subjective)"
   ]
  },
  {
   "cell_type": "markdown",
   "metadata": {},
   "source": [
    "        4.5.1 - Creating Dictionary Key"
   ]
  },
  {
   "cell_type": "code",
   "execution_count": 48,
   "metadata": {},
   "outputs": [],
   "source": [
    "key6 = 'Unnecessary Columns' # generating key for this filtering procedure\n",
    "\n",
    "removed_columns[key6] = ['Address Change Date', 'Bad Address Flag', 'Billing Code Description', 'Join Club Date', 'Member Phone Type', 'Mosaic Global Household', 'New Mover Flag', 'Call Canceled', 'Is NSR', 'Member Type', 'Was Duplicated', 'Was Towed To AAR Referral', 'Branch Name', 'Member Map Location', 'Breakdown Map Location'] #  Comlumns ids"
   ]
  },
  {
   "cell_type": "markdown",
   "metadata": {},
   "source": [
    "        4.5.2 - Performing Filtering"
   ]
  },
  {
   "cell_type": "code",
   "execution_count": 49,
   "metadata": {},
   "outputs": [
    {
     "output_type": "display_data",
     "data": {
      "text/plain": "HBox(children=(FloatProgress(value=0.0, description='Process Progress', max=15.0, style=ProgressStyle(descript…",
      "application/vnd.jupyter.widget-view+json": {
       "version_major": 2,
       "version_minor": 0,
       "model_id": "d7cc135a764d47a89024cf8e2c744a8c"
      }
     },
     "metadata": {}
    },
    {
     "output_type": "stream",
     "name": "stdout",
     "text": "\nRemoved Columns after filtering process:  ['Address Change Date', 'Bad Address Flag', 'Billing Code Description', 'Join Club Date', 'Member Phone Type', 'Mosaic Global Household', 'New Mover Flag', 'Call Canceled', 'Is NSR', 'Member Type', 'Was Duplicated', 'Was Towed To AAR Referral', 'Branch Name', 'Member Map Location', 'Breakdown Map Location']\n"
    }
   ],
   "source": [
    "for c in tqdm_notebook(removed_columns[key6], desc='Process Progress'): # for each column in the unncessary columns list\n",
    "    for var_type in sequence: # for each dataframe type\n",
    "\n",
    "        if c in checkpoint_1[var_type]: # if the column is in the given dataframe\n",
    "            checkpoint_1[var_type].drop(columns=c, inplace=True) # we dropped\n",
    "\n",
    "print('Removed Columns after filtering process: ', removed_columns[key6])"
   ]
  },
  {
   "cell_type": "code",
   "execution_count": 50,
   "metadata": {},
   "outputs": [
    {
     "output_type": "stream",
     "name": "stdout",
     "text": "Numerical: 14\nBinary Numericals: 1\nDates: 3\nBinary Categoricals: 13\nStrings: 12\n"
    }
   ],
   "source": [
    "for var_type in sequence:\n",
    "\n",
    "    print(var_type + ':', len(checkpoint_1[var_type].columns)) # number of remaining columns for each dataframe type after the filtering process "
   ]
  },
  {
   "cell_type": "markdown",
   "metadata": {},
   "source": [
    "## 5 - Null value evaluation for each Household Key "
   ]
  },
  {
   "cell_type": "markdown",
   "metadata": {},
   "source": [
    "    5.1 - Removing rows (Household Keys) beyond given threshold"
   ]
  },
  {
   "cell_type": "markdown",
   "metadata": {},
   "source": [
    "        5.1.1 - Global Mean of Null Values for all Household Keys available"
   ]
  },
  {
   "cell_type": "code",
   "execution_count": 51,
   "metadata": {},
   "outputs": [],
   "source": [
    "rows_nullval_ratio = {} # dictionary of null values sum for all columns\n",
    "\n",
    "for var_type in sequence: \n",
    "\n",
    "    rows_nullval_ratio[var_type] = (checkpoint_1[var_type].isnull().sum(axis=1).sort_values(ascending=False)) # filling dataframe dictionary"
   ]
  },
  {
   "cell_type": "code",
   "execution_count": 52,
   "metadata": {},
   "outputs": [
    {
     "output_type": "stream",
     "name": "stdout",
     "text": "\n Mean Number of Null values on Rows: 8.0\n"
    }
   ],
   "source": [
    "sum_num_null_rows = [] # list of sum of all null values per row\n",
    "\n",
    "for var_type in sequence:\n",
    "\n",
    "    sum_num_null_rows.append(round(rows_nullval_ratio[var_type].sum())) # filling list\n",
    "\n",
    "total_mean = round(sum(sum_num_null_rows)/len(rows_nullval_ratio['Numerical'].index.tolist())) # general mean of null values per row\n",
    "\n",
    "print('\\n','Mean Number of Null values on Rows:', total_mean) "
   ]
  },
  {
   "cell_type": "markdown",
   "metadata": {},
   "source": [
    "        5.1.2 - Creating Key and Dictionary for this operation"
   ]
  },
  {
   "cell_type": "code",
   "execution_count": 53,
   "metadata": {},
   "outputs": [],
   "source": [
    "removed_rows = {}\n",
    "\n",
    "row_key1 = str(total_mean) + ' Number of Null per Row Threshold Removal' # key for our track removal dictionary\n",
    "\n",
    "removed_rows[row_key1] = [] # adding to the new key to the dictionary"
   ]
  },
  {
   "cell_type": "markdown",
   "metadata": {},
   "source": [
    "        5.1.3 - Global Mean of each Household Key available"
   ]
  },
  {
   "cell_type": "code",
   "execution_count": 54,
   "metadata": {},
   "outputs": [
    {
     "output_type": "display_data",
     "data": {
      "text/plain": "HBox(children=(FloatProgress(value=0.0, description='Process Progress', max=5241.0, style=ProgressStyle(descri…",
      "application/vnd.jupyter.widget-view+json": {
       "version_major": 2,
       "version_minor": 0,
       "model_id": "6fcbc3b231df4282a2117c547a172946"
      }
     },
     "metadata": {}
    },
    {
     "output_type": "stream",
     "name": "stdout",
     "text": "\n"
    }
   ],
   "source": [
    "house_mean = {} # global mean number of null values for each Household Key\n",
    "\n",
    "for house_id in tqdm_notebook(checkpoint_1[sequence[0]].index.tolist(), desc='Process Progress'): # for all unique Household Keys on the original dataframe\n",
    "    tmp = 0 # temporary value for each global mean of the given Household Key\n",
    "    for var_type in sequence: # for all type of separatable dataframe \n",
    "\n",
    "        tmp += rows_nullval_ratio[var_type][house_id]\n",
    "\n",
    "    house_mean[house_id] =  tmp.mean()"
   ]
  },
  {
   "cell_type": "markdown",
   "metadata": {},
   "source": [
    "        5.1.4 - Perform Filtering"
   ]
  },
  {
   "cell_type": "code",
   "execution_count": 55,
   "metadata": {},
   "outputs": [
    {
     "output_type": "display_data",
     "data": {
      "text/plain": "HBox(children=(FloatProgress(value=0.0, description='Process Progress', max=5241.0, style=ProgressStyle(descri…",
      "application/vnd.jupyter.widget-view+json": {
       "version_major": 2,
       "version_minor": 0,
       "model_id": "17e3443e3d804f6fa4b0d3a5869b7af5"
      }
     },
     "metadata": {}
    },
    {
     "output_type": "stream",
     "name": "stdout",
     "text": "\nRemoved Rows after filtering process:  [208500, 208500, 208500, 208500, 208500, 253650, 253650, 253650, 253650, 253650, 374680, 374680, 374680, 374680, 374680, 949270, 949270, 949270, 949270, 949270, 1152890, 1152890, 1152890, 1152890, 1152890, 1153460, 1153460, 1153460, 1153460, 1153460, 1401850, 1401850, 1401850, 1401850, 1401850, 1434580, 1434580, 1434580, 1434580, 1434580, 1797300, 1797300, 1797300, 1797300, 1797300, 1956800, 1956800, 1956800, 1956800, 1956800, 2686980, 2686980, 2686980, 2686980, 2686980, 2690970, 2690970, 2690970, 2690970, 2690970, 2954970, 2954970, 2954970, 2954970, 2954970, 2956820, 2956820, 2956820, 2956820, 2956820, 2968010, 2968010, 2968010, 2968010, 2968010, 2977460, 2977460, 2977460, 2977460, 2977460, 3253520, 3253520, 3253520, 3253520, 3253520, 3530390, 3530390, 3530390, 3530390, 3530390, 3828020, 3828020, 3828020, 3828020, 3828020, 3830820, 3830820, 3830820, 3830820, 3830820, 3831090, 3831090, 3831090, 3831090, 3831090, 3836860, 3836860, 3836860, 3836860, 3836860, 3842460, 3842460, 3842460, 3842460, 3842460, 3863690, 3863690, 3863690, 3863690, 3863690, 4361900, 4361900, 4361900, 4361900, 4361900, 4446260, 4446260, 4446260, 4446260, 4446260, 4614440, 4614440, 4614440, 4614440, 4614440, 4640180, 4640180, 4640180, 4640180, 4640180, 4724160, 4724160, 4724160, 4724160, 4724160, 4884760, 4884760, 4884760, 4884760, 4884760, 5047910, 5047910, 5047910, 5047910, 5047910, 5073770, 5073770, 5073770, 5073770, 5073770, 5151200, 5151200, 5151200, 5151200, 5151200, 5206820, 5206820, 5206820, 5206820, 5206820, 5651830, 5651830, 5651830, 5651830, 5651830, 5670210, 5670210, 5670210, 5670210, 5670210, 5671630, 5671630, 5671630, 5671630, 5671630, 5720570, 5720570, 5720570, 5720570, 5720570, 5741310, 5741310, 5741310, 5741310, 5741310, 5850580, 5850580, 5850580, 5850580, 5850580, 5936080, 5936080, 5936080, 5936080, 5936080, 6035520, 6035520, 6035520, 6035520, 6035520, 6035540, 6035540, 6035540, 6035540, 6035540, 6056450, 6056450, 6056450, 6056450, 6056450, 6206640, 6206640, 6206640, 6206640, 6206640, 6241590, 6241590, 6241590, 6241590, 6241590, 6421500, 6421500, 6421500, 6421500, 6421500, 6434410, 6434410, 6434410, 6434410, 6434410, 6512460, 6512460, 6512460, 6512460, 6512460, 6580140, 6580140, 6580140, 6580140, 6580140, 6877730, 6877730, 6877730, 6877730, 6877730, 6929300, 6929300, 6929300, 6929300, 6929300, 6951650, 6951650, 6951650, 6951650, 6951650, 7206200, 7206200, 7206200, 7206200, 7206200, 7238790, 7238790, 7238790, 7238790, 7238790, 7257850, 7257850, 7257850, 7257850, 7257850, 7286510, 7286510, 7286510, 7286510, 7286510, 7514050, 7514050, 7514050, 7514050, 7514050, 7557600, 7557600, 7557600, 7557600, 7557600, 7592550, 7592550, 7592550, 7592550, 7592550, 7822110, 7822110, 7822110, 7822110, 7822110, 7875850, 7875850, 7875850, 7875850, 7875850, 8170770, 8170770, 8170770, 8170770, 8170770, 8252010, 8252010, 8252010, 8252010, 8252010, 8282080, 8282080, 8282080, 8282080, 8282080, 8296830, 8296830, 8296830, 8296830, 8296830, 8544800, 8544800, 8544800, 8544800, 8544800, 8560840, 8560840, 8560840, 8560840, 8560840, 8578570, 8578570, 8578570, 8578570, 8578570, 8672220, 8672220, 8672220, 8672220, 8672220, 8693330, 8693330, 8693330, 8693330, 8693330, 8741700, 8741700, 8741700, 8741700, 8741700, 9026710, 9026710, 9026710, 9026710, 9026710, 9063690, 9063690, 9063690, 9063690, 9063690, 9255290, 9255290, 9255290, 9255290, 9255290, 9731290, 9731290, 9731290, 9731290, 9731290, 9838480, 9838480, 9838480, 9838480, 9838480, 9902190, 9902190, 9902190, 9902190, 9902190, 10260010, 10260010, 10260010, 10260010, 10260010, 10283950, 10283950, 10283950, 10283950, 10283950, 10423620, 10423620, 10423620, 10423620, 10423620, 10541530, 10541530, 10541530, 10541530, 10541530, 10564260, 10564260, 10564260, 10564260, 10564260, 10582000, 10582000, 10582000, 10582000, 10582000, 10588820, 10588820, 10588820, 10588820, 10588820, 10635480, 10635480, 10635480, 10635480, 10635480, 10637180, 10637180, 10637180, 10637180, 10637180, 10720910, 10720910, 10720910, 10720910, 10720910, 10757200, 10757200, 10757200, 10757200, 10757200, 10845510, 10845510, 10845510, 10845510, 10845510, 11173360, 11173360, 11173360, 11173360, 11173360, 11191870, 11191870, 11191870, 11191870, 11191870, 11225220, 11225220, 11225220, 11225220, 11225220, 11359820, 11359820, 11359820, 11359820, 11359820, 11362100, 11362100, 11362100, 11362100, 11362100, 11381490, 11381490, 11381490, 11381490, 11381490, 11385140, 11385140, 11385140, 11385140, 11385140, 11481130, 11481130, 11481130, 11481130, 11481130, 11565470, 11565470, 11565470, 11565470, 11565470, 11678590, 11678590, 11678590, 11678590, 11678590, 11714130, 11714130, 11714130, 11714130, 11714130, 11719060, 11719060, 11719060, 11719060, 11719060, 11765380, 11765380, 11765380, 11765380, 11765380, 11769110, 11769110, 11769110, 11769110, 11769110, 11802370, 11802370, 11802370, 11802370, 11802370, 12303360, 12303360, 12303360, 12303360, 12303360, 12310280, 12310280, 12310280, 12310280, 12310280, 12584050, 12584050, 12584050, 12584050, 12584050, 12988280, 12988280, 12988280, 12988280, 12988280, 12989910, 12989910, 12989910, 12989910, 12989910, 12991440, 12991440, 12991440, 12991440, 12991440, 12992000, 12992000, 12992000, 12992000, 12992000, 12999800, 12999800, 12999800, 12999800, 12999800, 13019260, 13019260, 13019260, 13019260, 13019260, 13021400, 13021400, 13021400, 13021400, 13021400, 13369500, 13369500, 13369500, 13369500, 13369500, 13404370, 13404370, 13404370, 13404370, 13404370, 13443270, 13443270, 13443270, 13443270, 13443270, 13835580, 13835580, 13835580, 13835580, 13835580, 13836270, 13836270, 13836270, 13836270, 13836270, 13842320, 13842320, 13842320, 13842320, 13842320, 13846690, 13846690, 13846690, 13846690, 13846690, 13849030, 13849030, 13849030, 13849030, 13849030, 13855080, 13855080, 13855080, 13855080, 13855080, 15594740, 15594740, 15594740, 15594740, 15594740, 15885610, 15885610, 15885610, 15885610, 15885610, 15954400, 15954400, 15954400, 15954400, 15954400, 16539860, 16539860, 16539860, 16539860, 16539860, 16885790, 16885790, 16885790, 16885790, 16885790, 16891730, 16891730, 16891730, 16891730, 16891730, 17304210, 17304210, 17304210, 17304210, 17304210, 17751480, 17751480, 17751480, 17751480, 17751480, 17780700, 17780700, 17780700, 17780700, 17780700, 17817910, 17817910, 17817910, 17817910, 17817910, 18679280, 18679280, 18679280, 18679280, 18679280, 18715690, 18715690, 18715690, 18715690, 18715690, 18941900, 18941900, 18941900, 18941900, 18941900, 19191050, 19191050, 19191050, 19191050, 19191050, 19191290, 19191290, 19191290, 19191290, 19191290, 19589830, 19589830, 19589830, 19589830, 19589830, 19642630, 19642630, 19642630, 19642630, 19642630, 19656250, 19656250, 19656250, 19656250, 19656250, 19884740, 19884740, 19884740, 19884740, 19884740, 19890340, 19890340, 19890340, 19890340, 19890340, 19907710, 19907710, 19907710, 19907710, 19907710, 19976040, 19976040, 19976040, 19976040, 19976040, 19977040, 19977040, 19977040, 19977040, 19977040, 20377060, 20377060, 20377060, 20377060, 20377060, 20814580, 20814580, 20814580, 20814580, 20814580, 20864950, 20864950, 20864950, 20864950, 20864950, 21238970, 21238970, 21238970, 21238970, 21238970, 21256530, 21256530, 21256530, 21256530, 21256530, 21286540, 21286540, 21286540, 21286540, 21286540, 21553440, 21553440, 21553440, 21553440, 21553440, 21600050, 21600050, 21600050, 21600050, 21600050, 22472830, 22472830, 22472830, 22472830, 22472830, 23170830, 23170830, 23170830, 23170830, 23170830, 23215910, 23215910, 23215910, 23215910, 23215910, 23287860, 23287860, 23287860, 23287860, 23287860, 23289550, 23289550, 23289550, 23289550, 23289550, 23318090, 23318090, 23318090, 23318090, 23318090, 23538160, 23538160, 23538160, 23538160, 23538160, 23581500, 23581500, 23581500, 23581500, 23581500, 23702790, 23702790, 23702790, 23702790, 23702790, 23875600, 23875600, 23875600, 23875600, 23875600, 24011320, 24011320, 24011320, 24011320, 24011320, 24352010, 24352010, 24352010, 24352010, 24352010, 24352120, 24352120, 24352120, 24352120, 24352120, 24369120, 24369120, 24369120, 24369120, 24369120, 24379830, 24379830, 24379830, 24379830, 24379830, 24542630, 24542630, 24542630, 24542630, 24542630, 25087300, 25087300, 25087300, 25087300, 25087300, 25118560, 25118560, 25118560, 25118560, 25118560, 25810840, 25810840, 25810840, 25810840, 25810840, 25812530, 25812530, 25812530, 25812530, 25812530, 25834620, 25834620, 25834620, 25834620, 25834620, 25847130, 25847130, 25847130, 25847130, 25847130, 25847150, 25847150, 25847150, 25847150, 25847150, 25847250, 25847250, 25847250, 25847250, 25847250, 25882150, 25882150, 25882150, 25882150, 25882150, 25904440, 25904440, 25904440, 25904440, 25904440, 26643700, 26643700, 26643700, 26643700, 26643700, 26671820, 26671820, 26671820, 26671820, 26671820, 26723950, 26723950, 26723950, 26723950, 26723950, 27445140, 27445140, 27445140, 27445140, 27445140, 27768370, 27768370, 27768370, 27768370, 27768370, 27770580, 27770580, 27770580, 27770580, 27770580, 27966220, 27966220, 27966220, 27966220, 27966220, 28253470, 28253470, 28253470, 28253470, 28253470, 28578630, 28578630, 28578630, 28578630, 28578630, 28840590, 28840590, 28840590, 28840590, 28840590, 29290940, 29290940, 29290940, 29290940, 29290940, 29306440, 29306440, 29306440, 29306440, 29306440, 29568130, 29568130, 29568130, 29568130, 29568130, 29954440, 29954440, 29954440, 29954440, 29954440, 30525920, 30525920, 30525920, 30525920, 30525920, 31114860, 31114860, 31114860, 31114860, 31114860, 31191760, 31191760, 31191760, 31191760, 31191760, 31631010, 31631010, 31631010, 31631010, 31631010, 31698530, 31698530, 31698530, 31698530, 31698530, 31890790, 31890790, 31890790, 31890790, 31890790, 31922690, 31922690, 31922690, 31922690, 31922690, 32381320, 32381320, 32381320, 32381320, 32381320, 32382200, 32382200, 32382200, 32382200, 32382200, 32544080, 32544080, 32544080, 32544080, 32544080, 32560290, 32560290, 32560290, 32560290, 32560290, 32594140, 32594140, 32594140, 32594140, 32594140, 32683550, 32683550, 32683550, 32683550, 32683550, 32767810, 32767810, 32767810, 32767810, 32767810, 32794310, 32794310, 32794310, 32794310, 32794310, 32797010, 32797010, 32797010, 32797010, 32797010, 32875330, 32875330, 32875330, 32875330, 32875330, 32877980, 32877980, 32877980, 32877980, 32877980, 33054780, 33054780, 33054780, 33054780, 33054780, 33309690, 33309690, 33309690, 33309690, 33309690, 33356960, 33356960, 33356960, 33356960, 33356960, 33358400, 33358400, 33358400, 33358400, 33358400, 34024400, 34024400, 34024400, 34024400, 34024400, 34539330, 34539330, 34539330, 34539330, 34539330, 34546830, 34546830, 34546830, 34546830, 34546830, 34989970, 34989970, 34989970, 34989970, 34989970, 34990250, 34990250, 34990250, 34990250, 34990250, 35197240, 35197240, 35197240, 35197240, 35197240, 35238810, 35238810, 35238810, 35238810, 35238810, 35307660, 35307660, 35307660, 35307660, 35307660, 35601260, 35601260, 35601260, 35601260, 35601260, 36356330, 36356330, 36356330, 36356330, 36356330, 36359730, 36359730, 36359730, 36359730, 36359730, 36368130, 36368130, 36368130, 36368130, 36368130, 36385920, 36385920, 36385920, 36385920, 36385920, 36426240, 36426240, 36426240, 36426240, 36426240, 36428130, 36428130, 36428130, 36428130, 36428130, 36560540, 36560540, 36560540, 36560540, 36560540, 36887010, 36887010, 36887010, 36887010, 36887010, 37846630, 37846630, 37846630, 37846630, 37846630, 38323690, 38323690, 38323690, 38323690, 38323690, 39006010, 39006010, 39006010, 39006010, 39006010, 39126690, 39126690, 39126690, 39126690, 39126690, 39130110, 39130110, 39130110, 39130110, 39130110, 39345110, 39345110, 39345110, 39345110, 39345110, 39666890, 39666890, 39666890, 39666890, 39666890, 39762840, 39762840, 39762840, 39762840, 39762840, 39914280, 39914280, 39914280, 39914280, 39914280, 39943920, 39943920, 39943920, 39943920, 39943920, 40064630, 40064630, 40064630, 40064630, 40064630, 40088300, 40088300, 40088300, 40088300, 40088300, 40159770, 40159770, 40159770, 40159770, 40159770, 40183180, 40183180, 40183180, 40183180, 40183180, 40193850, 40193850, 40193850, 40193850, 40193850, 40715950, 40715950, 40715950, 40715950, 40715950, 40736200, 40736200, 40736200, 40736200, 40736200, 40791300, 40791300, 40791300, 40791300, 40791300, 40851790, 40851790, 40851790, 40851790, 40851790, 41205580, 41205580, 41205580, 41205580, 41205580, 41391430, 41391430, 41391430, 41391430, 41391430, 41420260, 41420260, 41420260, 41420260, 41420260, 41420670, 41420670, 41420670, 41420670, 41420670, 41458640, 41458640, 41458640, 41458640, 41458640, 41528500, 41528500, 41528500, 41528500, 41528500, 41607640, 41607640, 41607640, 41607640, 41607640, 41607990, 41607990, 41607990, 41607990, 41607990, 41691530, 41691530, 41691530, 41691530, 41691530, 41767060, 41767060, 41767060, 41767060, 41767060, 41805090, 41805090, 41805090, 41805090, 41805090, 41970240, 41970240, 41970240, 41970240, 41970240, 42046360, 42046360, 42046360, 42046360, 42046360, 42060660, 42060660, 42060660, 42060660, 42060660, 42278380, 42278380, 42278380, 42278380, 42278380, 42310940, 42310940, 42310940, 42310940, 42310940, 42530780, 42530780, 42530780, 42530780, 42530780, 42664230, 42664230, 42664230, 42664230, 42664230, 42678300, 42678300, 42678300, 42678300, 42678300, 42900220, 42900220, 42900220, 42900220, 42900220, 42939060, 42939060, 42939060, 42939060, 42939060, 43087480, 43087480, 43087480, 43087480, 43087480, 43175160, 43175160, 43175160, 43175160, 43175160, 43518500, 43518500, 43518500, 43518500, 43518500, 43595280, 43595280, 43595280, 43595280, 43595280, 43685810, 43685810, 43685810, 43685810, 43685810, 43694240, 43694240, 43694240, 43694240, 43694240, 43965580, 43965580, 43965580, 43965580, 43965580, 44005110, 44005110, 44005110, 44005110, 44005110, 44150620, 44150620, 44150620, 44150620, 44150620, 44337950, 44337950, 44337950, 44337950, 44337950, 45087910, 45087910, 45087910, 45087910, 45087910, 45555510, 45555510, 45555510, 45555510, 45555510, 45587890, 45587890, 45587890, 45587890, 45587890, 45967820, 45967820, 45967820, 45967820, 45967820, 45982380, 45982380, 45982380, 45982380, 45982380, 46306460, 46306460, 46306460, 46306460, 46306460, 46343600, 46343600, 46343600, 46343600, 46343600, 46706460, 46706460, 46706460, 46706460, 46706460, 47412410, 47412410, 47412410, 47412410, 47412410, 47998040, 47998040, 47998040, 47998040, 47998040, 48192800, 48192800, 48192800, 48192800, 48192800, 48242360, 48242360, 48242360, 48242360, 48242360, 48292640, 48292640, 48292640, 48292640, 48292640, 49644670, 49644670, 49644670, 49644670, 49644670, 49704200, 49704200, 49704200, 49704200, 49704200, 49836780, 49836780, 49836780, 49836780, 49836780, 50253230, 50253230, 50253230, 50253230, 50253230, 50351980, 50351980, 50351980, 50351980, 50351980, 50440040, 50440040, 50440040, 50440040, 50440040, 50446720, 50446720, 50446720, 50446720, 50446720, 50720420, 50720420, 50720420, 50720420, 50720420, 50831710, 50831710, 50831710, 50831710, 50831710, 50831980, 50831980, 50831980, 50831980, 50831980, 51066460, 51066460, 51066460, 51066460, 51066460, 51367650, 51367650, 51367650, 51367650, 51367650, 51861900, 51861900, 51861900, 51861900, 51861900, 52035380, 52035380, 52035380, 52035380, 52035380, 52132720, 52132720, 52132720, 52132720, 52132720, 52149980, 52149980, 52149980, 52149980, 52149980, 52169950, 52169950, 52169950, 52169950, 52169950, 52193880, 52193880, 52193880, 52193880, 52193880, 52251200, 52251200, 52251200, 52251200, 52251200, 52381840, 52381840, 52381840, 52381840, 52381840, 52636440, 52636440, 52636440, 52636440, 52636440, 52867730, 52867730, 52867730, 52867730, 52867730, 52915590, 52915590, 52915590, 52915590, 52915590, 52932750, 52932750, 52932750, 52932750, 52932750, 53395990, 53395990, 53395990, 53395990, 53395990, 53553230, 53553230, 53553230, 53553230, 53553230, 53585780, 53585780, 53585780, 53585780, 53585780, 53621470, 53621470, 53621470, 53621470, 53621470, 53684650, 53684650, 53684650, 53684650, 53684650, 53949560, 53949560, 53949560, 53949560, 53949560, 54008410, 54008410, 54008410, 54008410, 54008410, 54406840, 54406840, 54406840, 54406840, 54406840, 54556410, 54556410, 54556410, 54556410, 54556410, 54580700, 54580700, 54580700, 54580700, 54580700, 54943660, 54943660, 54943660, 54943660, 54943660, 55057290, 55057290, 55057290, 55057290, 55057290, 55275120, 55275120, 55275120, 55275120, 55275120, 55277950, 55277950, 55277950, 55277950, 55277950, 55487320, 55487320, 55487320, 55487320, 55487320, 55500940, 55500940, 55500940, 55500940, 55500940, 55550990, 55550990, 55550990, 55550990, 55550990, 55726710, 55726710, 55726710, 55726710, 55726710, 55764770, 55764770, 55764770, 55764770, 55764770, 56055040, 56055040, 56055040, 56055040, 56055040, 56125710, 56125710, 56125710, 56125710, 56125710, 56126550, 56126550, 56126550, 56126550, 56126550, 56213290, 56213290, 56213290, 56213290, 56213290, 56354950, 56354950, 56354950, 56354950, 56354950, 56437780, 56437780, 56437780, 56437780, 56437780, 56514220, 56514220, 56514220, 56514220, 56514220, 57103470, 57103470, 57103470, 57103470, 57103470, 57134140, 57134140, 57134140, 57134140, 57134140, 57314750, 57314750, 57314750, 57314750, 57314750, 57527790, 57527790, 57527790, 57527790, 57527790, 57596710, 57596710, 57596710, 57596710, 57596710, 57653100, 57653100, 57653100, 57653100, 57653100, 57681660, 57681660, 57681660, 57681660, 57681660, 57769300, 57769300, 57769300, 57769300, 57769300, 58236690, 58236690, 58236690, 58236690, 58236690, 58501040, 58501040, 58501040, 58501040, 58501040, 58810810, 58810810, 58810810, 58810810, 58810810, 58869660, 58869660, 58869660, 58869660, 58869660, 59094350, 59094350, 59094350, 59094350, 59094350, 59671030, 59671030, 59671030, 59671030, 59671030, 60405070, 60405070, 60405070, 60405070, 60405070, 60560560, 60560560, 60560560, 60560560, 60560560, 60567810, 60567810, 60567810, 60567810, 60567810, 60577550, 60577550, 60577550, 60577550, 60577550, 60753470, 60753470, 60753470, 60753470, 60753470, 60858980, 60858980, 60858980, 60858980, 60858980, 61201200, 61201200, 61201200, 61201200, 61201200, 61616080, 61616080, 61616080, 61616080, 61616080, 61934950, 61934950, 61934950, 61934950, 61934950, 61977240, 61977240, 61977240, 61977240, 61977240, 61986290, 61986290, 61986290, 61986290, 61986290, 62456470, 62456470, 62456470, 62456470, 62456470, 63064280, 63064280, 63064280, 63064280, 63064280, 63462330, 63462330, 63462330, 63462330, 63462330, 63517850, 63517850, 63517850, 63517850, 63517850, 63863350, 63863350, 63863350, 63863350, 63863350, 63870280, 63870280, 63870280, 63870280, 63870280, 63981370, 63981370, 63981370, 63981370, 63981370, 64250890, 64250890, 64250890, 64250890, 64250890, 64308470, 64308470, 64308470, 64308470, 64308470, 64326580, 64326580, 64326580, 64326580, 64326580, 64589460, 64589460, 64589460, 64589460, 64589460, 64620280, 64620280, 64620280, 64620280, 64620280, 64697780, 64697780, 64697780, 64697780, 64697780, 64754470, 64754470, 64754470, 64754470, 64754470, 65132040, 65132040, 65132040, 65132040, 65132040, 65182780, 65182780, 65182780, 65182780, 65182780, 65197280, 65197280, 65197280, 65197280, 65197280, 65227330, 65227330, 65227330, 65227330, 65227330, 65263470, 65263470, 65263470, 65263470, 65263470, 65512320, 65512320, 65512320, 65512320, 65512320, 65879570, 65879570, 65879570, 65879570, 65879570, 65882090, 65882090, 65882090, 65882090, 65882090, 66041760, 66041760, 66041760, 66041760, 66041760, 66124170, 66124170, 66124170, 66124170, 66124170, 66158980, 66158980, 66158980, 66158980, 66158980, 66284320, 66284320, 66284320, 66284320, 66284320, 66789260, 66789260, 66789260, 66789260, 66789260, 67017260, 67017260, 67017260, 67017260, 67017260, 67174840, 67174840, 67174840, 67174840, 67174840, 67314120, 67314120, 67314120, 67314120, 67314120, 67314130, 67314130, 67314130, 67314130, 67314130, 67328010, 67328010, 67328010, 67328010, 67328010, 67336880, 67336880, 67336880, 67336880, 67336880, 67555350, 67555350, 67555350, 67555350, 67555350, 67632540, 67632540, 67632540, 67632540, 67632540, 67898660, 67898660, 67898660, 67898660, 67898660, 68100640, 68100640, 68100640, 68100640, 68100640, 68190760, 68190760, 68190760, 68190760, 68190760, 68537110, 68537110, 68537110, 68537110, 68537110, 68727410, 68727410, 68727410, 68727410, 68727410, 69163590, 69163590, 69163590, 69163590, 69163590, 69207670, 69207670, 69207670, 69207670, 69207670, 69312440, 69312440, 69312440, 69312440, 69312440, 69516790, 69516790, 69516790, 69516790, 69516790, 70497340, 70497340, 70497340, 70497340, 70497340, 70985200, 70985200, 70985200, 70985200, 70985200, 71318770, 71318770, 71318770, 71318770, 71318770, 71991450, 71991450, 71991450, 71991450, 71991450, 72068620, 72068620, 72068620, 72068620, 72068620, 72291150, 72291150, 72291150, 72291150, 72291150, 72435120, 72435120, 72435120, 72435120, 72435120, 72518430, 72518430, 72518430, 72518430, 72518430, 72520680, 72520680, 72520680, 72520680, 72520680, 72640290, 72640290, 72640290, 72640290, 72640290, 72666490, 72666490, 72666490, 72666490, 72666490, 72750290, 72750290, 72750290, 72750290, 72750290, 73161710, 73161710, 73161710, 73161710, 73161710, 73171440, 73171440, 73171440, 73171440, 73171440, 73318890, 73318890, 73318890, 73318890, 73318890, 73411920, 73411920, 73411920, 73411920, 73411920, 73412140, 73412140, 73412140, 73412140, 73412140, 73412200, 73412200, 73412200, 73412200, 73412200, 73647450, 73647450, 73647450, 73647450, 73647450, 73680750, 73680750, 73680750, 73680750, 73680750, 73894810, 73894810, 73894810, 73894810, 73894810, 74080240, 74080240, 74080240, 74080240, 74080240, 74111140, 74111140, 74111140, 74111140, 74111140, 74397790, 74397790, 74397790, 74397790, 74397790, 74421360, 74421360, 74421360, 74421360, 74421360, 74423600, 74423600, 74423600, 74423600, 74423600, 74481690, 74481690, 74481690, 74481690, 74481690, 74770130, 74770130, 74770130, 74770130, 74770130, 74770140, 74770140, 74770140, 74770140, 74770140, 74866990, 74866990, 74866990, 74866990, 74866990, 75040680, 75040680, 75040680, 75040680, 75040680, 75098370, 75098370, 75098370, 75098370, 75098370, 75201710, 75201710, 75201710, 75201710, 75201710, 75224770, 75224770, 75224770, 75224770, 75224770, 75240850, 75240850, 75240850, 75240850, 75240850, 75263960, 75263960, 75263960, 75263960, 75263960, 75332990, 75332990, 75332990, 75332990, 75332990, 75495050, 75495050, 75495050, 75495050, 75495050, 76064770, 76064770, 76064770, 76064770, 76064770, 76149380, 76149380, 76149380, 76149380, 76149380, 76835740, 76835740, 76835740, 76835740, 76835740, 76836180, 76836180, 76836180, 76836180, 76836180, 76961840, 76961840, 76961840, 76961840, 76961840, 77092010, 77092010, 77092010, 77092010, 77092010, 77543310, 77543310, 77543310, 77543310, 77543310, 77843340, 77843340, 77843340, 77843340, 77843340, 77843730, 77843730, 77843730, 77843730, 77843730, 77848790, 77848790, 77848790, 77848790, 77848790, 77886540, 77886540, 77886540, 77886540, 77886540, 77944990, 77944990, 77944990, 77944990, 77944990, 78125260, 78125260, 78125260, 78125260, 78125260, 78317980, 78317980, 78317980, 78317980, 78317980, 78331910, 78331910, 78331910, 78331910, 78331910, 78602920, 78602920, 78602920, 78602920, 78602920, 78651720, 78651720, 78651720, 78651720, 78651720, 78743060, 78743060, 78743060, 78743060, 78743060, 79000040, 79000040, 79000040, 79000040, 79000040, 79029500, 79029500, 79029500, 79029500, 79029500, 79261450, 79261450, 79261450, 79261450, 79261450, 79473520, 79473520, 79473520, 79473520, 79473520, 79743700, 79743700, 79743700, 79743700, 79743700, 79896310, 79896310, 79896310, 79896310, 79896310, 80207530, 80207530, 80207530, 80207530, 80207530, 80317720, 80317720, 80317720, 80317720, 80317720, 81411160, 81411160, 81411160, 81411160, 81411160, 82619370, 82619370, 82619370, 82619370, 82619370, 83691400, 83691400, 83691400, 83691400, 83691400, 84065310, 84065310, 84065310, 84065310, 84065310, 84089460, 84089460, 84089460, 84089460, 84089460, 84556880, 84556880, 84556880, 84556880, 84556880, 84836830, 84836830, 84836830, 84836830, 84836830, 84908220, 84908220, 84908220, 84908220, 84908220, 84999560, 84999560, 84999560, 84999560, 84999560, 85343050, 85343050, 85343050, 85343050, 85343050, 85382170, 85382170, 85382170, 85382170, 85382170, 85483630, 85483630, 85483630, 85483630, 85483630, 85547490, 85547490, 85547490, 85547490, 85547490, 85567890, 85567890, 85567890, 85567890, 85567890, 85645840, 85645840, 85645840, 85645840, 85645840, 85659680, 85659680, 85659680, 85659680, 85659680, 85748580, 85748580, 85748580, 85748580, 85748580, 85769860, 85769860, 85769860, 85769860, 85769860, 86016680, 86016680, 86016680, 86016680, 86016680, 86017270, 86017270, 86017270, 86017270, 86017270, 86500350, 86500350, 86500350, 86500350, 86500350, 86502330, 86502330, 86502330, 86502330, 86502330, 86689640, 86689640, 86689640, 86689640, 86689640, 86690240, 86690240, 86690240, 86690240, 86690240, 86758860, 86758860, 86758860, 86758860, 86758860, 87045930, 87045930, 87045930, 87045930, 87045930, 87551610, 87551610, 87551610, 87551610, 87551610, 87614090, 87614090, 87614090, 87614090, 87614090, 87832590, 87832590, 87832590, 87832590, 87832590, 87993230, 87993230, 87993230, 87993230, 87993230, 88119240, 88119240, 88119240, 88119240, 88119240, 88306090, 88306090, 88306090, 88306090, 88306090, 88410190, 88410190, 88410190, 88410190, 88410190, 88518200, 88518200, 88518200, 88518200, 88518200, 88518470, 88518470, 88518470, 88518470, 88518470, 88518690, 88518690, 88518690, 88518690, 88518690, 88704220, 88704220, 88704220, 88704220, 88704220, 88772140, 88772140, 88772140, 88772140, 88772140, 88824840, 88824840, 88824840, 88824840, 88824840, 88977430, 88977430, 88977430, 88977430, 88977430, 89213600, 89213600, 89213600, 89213600, 89213600, 89310530, 89310530, 89310530, 89310530, 89310530, 89549990, 89549990, 89549990, 89549990, 89549990, 89593790, 89593790, 89593790, 89593790, 89593790, 89886370, 89886370, 89886370, 89886370, 89886370, 90060300, 90060300, 90060300, 90060300, 90060300, 90169020, 90169020, 90169020, 90169020, 90169020, 90659960, 90659960, 90659960, 90659960, 90659960, 90844950, 90844950, 90844950, 90844950, 90844950, 90902130, 90902130, 90902130, 90902130, 90902130, 90911960, 90911960, 90911960, 90911960, 90911960, 91027360, 91027360, 91027360, 91027360, 91027360, 91027870, 91027870, 91027870, 91027870, 91027870, 91288350, 91288350, 91288350, 91288350, 91288350, 91663450, 91663450, 91663450, 91663450, 91663450, 91787220, 91787220, 91787220, 91787220, 91787220, 92012080, 92012080, 92012080, 92012080, 92012080, 92131370, 92131370, 92131370, 92131370, 92131370, 92155010, 92155010, 92155010, 92155010, 92155010, 92594960, 92594960, 92594960, 92594960, 92594960, 92601980, 92601980, 92601980, 92601980, 92601980, 92876110, 92876110, 92876110, 92876110, 92876110, 93715270, 93715270, 93715270, 93715270, 93715270, 94523460, 94523460, 94523460, 94523460, 94523460, 94565350, 94565350, 94565350, 94565350, 94565350, 95606770, 95606770, 95606770, 95606770, 95606770, 96696140, 96696140, 96696140, 96696140, 96696140, 96710850, 96710850, 96710850, 96710850, 96710850, 96945990, 96945990, 96945990, 96945990, 96945990, 96956600, 96956600, 96956600, 96956600, 96956600, 96971960, 96971960, 96971960, 96971960, 96971960, 96973550, 96973550, 96973550, 96973550, 96973550, 97128430, 97128430, 97128430, 97128430, 97128430, 97150240, 97150240, 97150240, 97150240, 97150240, 97190650, 97190650, 97190650, 97190650, 97190650, 97247810, 97247810, 97247810, 97247810, 97247810, 97272610, 97272610, 97272610, 97272610, 97272610, 97275960, 97275960, 97275960, 97275960, 97275960, 97416850, 97416850, 97416850, 97416850, 97416850, 97783620, 97783620, 97783620, 97783620, 97783620, 97968290, 97968290, 97968290, 97968290, 97968290, 97997670, 97997670, 97997670, 97997670, 97997670, 98112350, 98112350, 98112350, 98112350, 98112350, 98513960, 98513960, 98513960, 98513960, 98513960, 98514010, 98514010, 98514010, 98514010, 98514010, 99403870, 99403870, 99403870, 99403870, 99403870, 99825600, 99825600, 99825600, 99825600, 99825600, 100364300, 100364300, 100364300, 100364300, 100364300, 100422770, 100422770, 100422770, 100422770, 100422770, 100521630, 100521630, 100521630, 100521630, 100521630, 100575350, 100575350, 100575350, 100575350, 100575350, 100856150, 100856150, 100856150, 100856150, 100856150, 101103480, 101103480, 101103480, 101103480, 101103480, 101156060, 101156060, 101156060, 101156060, 101156060, 101243020, 101243020, 101243020, 101243020, 101243020, 101541470, 101541470, 101541470, 101541470, 101541470, 101545220, 101545220, 101545220, 101545220, 101545220, 101637170, 101637170, 101637170, 101637170, 101637170, 101687910, 101687910, 101687910, 101687910, 101687910, 101701600, 101701600, 101701600, 101701600, 101701600, 102084200, 102084200, 102084200, 102084200, 102084200, 102368560, 102368560, 102368560, 102368560, 102368560, 102540310, 102540310, 102540310, 102540310, 102540310, 102650970, 102650970, 102650970, 102650970, 102650970, 102865620, 102865620, 102865620, 102865620, 102865620, 102935300, 102935300, 102935300, 102935300, 102935300, 103166670, 103166670, 103166670, 103166670, 103166670, 103551230, 103551230, 103551230, 103551230, 103551230, 104189820, 104189820, 104189820, 104189820, 104189820, 104237270, 104237270, 104237270, 104237270, 104237270, 104241360, 104241360, 104241360, 104241360, 104241360, 104625900, 104625900, 104625900, 104625900, 104625900, 104723190, 104723190, 104723190, 104723190, 104723190, 105175590, 105175590, 105175590, 105175590, 105175590, 105295450, 105295450, 105295450, 105295450, 105295450, 106235040, 106235040, 106235040, 106235040, 106235040, 106819920, 106819920, 106819920, 106819920, 106819920, 106952010, 106952010, 106952010, 106952010, 106952010, 106975600, 106975600, 106975600, 106975600, 106975600, 106977940, 106977940, 106977940, 106977940, 106977940, 107032760, 107032760, 107032760, 107032760, 107032760, 107067720, 107067720, 107067720, 107067720, 107067720, 107075450, 107075450, 107075450, 107075450, 107075450, 107075820, 107075820, 107075820, 107075820, 107075820, 107520870, 107520870, 107520870, 107520870, 107520870, 107529640, 107529640, 107529640, 107529640, 107529640, 107723880, 107723880, 107723880, 107723880, 107723880, 107782370, 107782370, 107782370, 107782370, 107782370, 108006640, 108006640, 108006640, 108006640, 108006640, 108502330, 108502330, 108502330, 108502330, 108502330, 108502350, 108502350, 108502350, 108502350, 108502350, 108619400, 108619400, 108619400, 108619400, 108619400, 108915970, 108915970, 108915970, 108915970, 108915970, 109815620, 109815620, 109815620, 109815620, 109815620, 109852700, 109852700, 109852700, 109852700, 109852700, 109854430, 109854430, 109854430, 109854430, 109854430, 109854680, 109854680, 109854680, 109854680, 109854680, 110420250, 110420250, 110420250, 110420250, 110420250, 110687530, 110687530, 110687530, 110687530, 110687530, 110687860, 110687860, 110687860, 110687860, 110687860, 110887870, 110887870, 110887870, 110887870, 110887870, 110897890, 110897890, 110897890, 110897890, 110897890, 110931870, 110931870, 110931870, 110931870, 110931870, 111187520, 111187520, 111187520, 111187520, 111187520, 111187830, 111187830, 111187830, 111187830, 111187830, 111187900, 111187900, 111187900, 111187900, 111187900, 111440140, 111440140, 111440140, 111440140, 111440140, 111517320, 111517320, 111517320, 111517320, 111517320, 111775670, 111775670, 111775670, 111775670, 111775670, 111856370, 111856370, 111856370, 111856370, 111856370, 111961100, 111961100, 111961100, 111961100, 111961100, 112576740, 112576740, 112576740, 112576740, 112576740, 112731950, 112731950, 112731950, 112731950, 112731950, 112777450, 112777450, 112777450, 112777450, 112777450, 112928690, 112928690, 112928690, 112928690, 112928690, 113057630, 113057630, 113057630, 113057630, 113057630, 113067770, 113067770, 113067770, 113067770, 113067770, 113110960, 113110960, 113110960, 113110960, 113110960, 113365150, 113365150, 113365150, 113365150, 113365150, 113556290, 113556290, 113556290, 113556290, 113556290, 113568740, 113568740, 113568740, 113568740, 113568740, 114013060, 114013060, 114013060, 114013060, 114013060, 114013090, 114013090, 114013090, 114013090, 114013090, 114023180, 114023180, 114023180, 114023180, 114023180, 114042080, 114042080, 114042080, 114042080, 114042080, 114594120, 114594120, 114594120, 114594120, 114594120, 115640600, 115640600, 115640600, 115640600, 115640600, 115658140, 115658140, 115658140, 115658140, 115658140, 115662540, 115662540, 115662540, 115662540, 115662540, 115752560, 115752560, 115752560, 115752560, 115752560, 115775190, 115775190, 115775190, 115775190, 115775190, 116270290, 116270290, 116270290, 116270290, 116270290, 118302170, 118302170, 118302170, 118302170, 118302170, 118361570, 118361570, 118361570, 118361570, 118361570, 118617080, 118617080, 118617080, 118617080, 118617080, 118727840, 118727840, 118727840, 118727840, 118727840, 119190730, 119190730, 119190730, 119190730, 119190730, 119233950, 119233950, 119233950, 119233950, 119233950, 119464760, 119464760, 119464760, 119464760, 119464760, 120026600, 120026600, 120026600, 120026600, 120026600, 120034380, 120034380, 120034380, 120034380, 120034380, 120195790, 120195790, 120195790, 120195790, 120195790, 120196910, 120196910, 120196910, 120196910, 120196910, 120407280, 120407280, 120407280, 120407280, 120407280, 120584200, 120584200, 120584200, 120584200, 120584200, 120584870, 120584870, 120584870, 120584870, 120584870, 120775370, 120775370, 120775370, 120775370, 120775370, 120813280, 120813280, 120813280, 120813280, 120813280, 120813480, 120813480, 120813480, 120813480, 120813480, 120813540, 120813540, 120813540, 120813540, 120813540, 120813680, 120813680, 120813680, 120813680, 120813680, 120860430, 120860430, 120860430, 120860430, 120860430, 121122630, 121122630, 121122630, 121122630, 121122630, 121146250, 121146250, 121146250, 121146250, 121146250, 121274780, 121274780, 121274780, 121274780, 121274780, 121430710, 121430710, 121430710, 121430710, 121430710, 121443500, 121443500, 121443500, 121443500, 121443500, 121710220, 121710220, 121710220, 121710220, 121710220, 121772530, 121772530, 121772530, 121772530, 121772530, 121907980, 121907980, 121907980, 121907980, 121907980, 121968760, 121968760, 121968760, 121968760, 121968760, 121989600, 121989600, 121989600, 121989600, 121989600, 122095370, 122095370, 122095370, 122095370, 122095370, 122119870, 122119870, 122119870, 122119870, 122119870, 122496060, 122496060, 122496060, 122496060, 122496060, 122979990, 122979990, 122979990, 122979990, 122979990, 123086750, 123086750, 123086750, 123086750, 123086750, 123208860, 123208860, 123208860, 123208860, 123208860, 123208920, 123208920, 123208920, 123208920, 123208920, 123475540, 123475540, 123475540, 123475540, 123475540, 123788700, 123788700, 123788700, 123788700, 123788700, 123881920, 123881920, 123881920, 123881920, 123881920, 123884910, 123884910, 123884910, 123884910, 123884910, 123938400, 123938400, 123938400, 123938400, 123938400, 123944520, 123944520, 123944520, 123944520, 123944520, 124286990, 124286990, 124286990, 124286990, 124286990, 124428220, 124428220, 124428220, 124428220, 124428220, 124456050, 124456050, 124456050, 124456050, 124456050, 124767830, 124767830, 124767830, 124767830, 124767830, 124783590, 124783590, 124783590, 124783590, 124783590, 124786230, 124786230, 124786230, 124786230, 124786230, 125049250, 125049250, 125049250, 125049250, 125049250, 125096670, 125096670, 125096670, 125096670, 125096670, 125098470, 125098470, 125098470, 125098470, 125098470, 125282980, 125282980, 125282980, 125282980, 125282980, 126407660, 126407660, 126407660, 126407660, 126407660, 126762730, 126762730, 126762730, 126762730, 126762730, 127612100, 127612100, 127612100, 127612100, 127612100, 127853090, 127853090, 127853090, 127853090, 127853090, 128649050, 128649050, 128649050, 128649050, 128649050, 129037170, 129037170, 129037170, 129037170, 129037170, 129047220, 129047220, 129047220, 129047220, 129047220, 129347560, 129347560, 129347560, 129347560, 129347560, 130255980, 130255980, 130255980, 130255980, 130255980, 130301690, 130301690, 130301690, 130301690, 130301690, 131095030, 131095030, 131095030, 131095030, 131095030, 131213210, 131213210, 131213210, 131213210, 131213210, 131280530, 131280530, 131280530, 131280530, 131280530, 131349970, 131349970, 131349970, 131349970, 131349970, 131372040, 131372040, 131372040, 131372040, 131372040, 131626010, 131626010, 131626010, 131626010, 131626010, 131642270, 131642270, 131642270, 131642270, 131642270, 131668760, 131668760, 131668760, 131668760, 131668760, 131824380, 131824380, 131824380, 131824380, 131824380, 131894960, 131894960, 131894960, 131894960, 131894960, 132043950, 132043950, 132043950, 132043950, 132043950, 132163760, 132163760, 132163760, 132163760, 132163760, 132206840, 132206840, 132206840, 132206840, 132206840, 132234670, 132234670, 132234670, 132234670, 132234670, 132434860, 132434860, 132434860, 132434860, 132434860, 132434990, 132434990, 132434990, 132434990, 132434990, 132435580, 132435580, 132435580, 132435580, 132435580, 132670300, 132670300, 132670300, 132670300, 132670300, 132952220, 132952220, 132952220, 132952220, 132952220, 133204210, 133204210, 133204210, 133204210, 133204210, 133294910, 133294910, 133294910, 133294910, 133294910, 133415240, 133415240, 133415240, 133415240, 133415240, 133659390, 133659390, 133659390, 133659390, 133659390, 133683170, 133683170, 133683170, 133683170, 133683170, 133683360, 133683360, 133683360, 133683360, 133683360, 133714970, 133714970, 133714970, 133714970, 133714970, 133979960, 133979960, 133979960, 133979960, 133979960, 134105870, 134105870, 134105870, 134105870, 134105870, 134700940, 134700940, 134700940, 134700940, 134700940, 134728010, 134728010, 134728010, 134728010, 134728010, 134730000, 134730000, 134730000, 134730000, 134730000, 134996410, 134996410, 134996410, 134996410, 134996410, 135057210, 135057210, 135057210, 135057210, 135057210, 135102930, 135102930, 135102930, 135102930, 135102930, 135249810, 135249810, 135249810, 135249810, 135249810, 135260800, 135260800, 135260800, 135260800, 135260800, 135277310, 135277310, 135277310, 135277310, 135277310, 135282480, 135282480, 135282480, 135282480, 135282480, 135970580, 135970580, 135970580, 135970580, 135970580, 136076180, 136076180, 136076180, 136076180, 136076180, 136322820, 136322820, 136322820, 136322820, 136322820, 136757760, 136757760, 136757760, 136757760, 136757760, 136794830, 136794830, 136794830, 136794830, 136794830, 137087900, 137087900, 137087900, 137087900, 137087900, 137150920, 137150920, 137150920, 137150920, 137150920, 137282730, 137282730, 137282730, 137282730, 137282730, 137576720, 137576720, 137576720, 137576720, 137576720, 137791590, 137791590, 137791590, 137791590, 137791590, 137791890, 137791890, 137791890, 137791890, 137791890, 138044710, 138044710, 138044710, 138044710, 138044710, 139515070, 139515070, 139515070, 139515070, 139515070, 140150980, 140150980, 140150980, 140150980, 140150980, 140716490, 140716490, 140716490, 140716490, 140716490, 140988590, 140988590, 140988590, 140988590, 140988590, 141037850, 141037850, 141037850, 141037850, 141037850, 141049940, 141049940, 141049940, 141049940, 141049940, 141050190, 141050190, 141050190, 141050190, 141050190, 141054240, 141054240, 141054240, 141054240, 141054240, 141981890, 141981890, 141981890, 141981890, 141981890, 142393460, 142393460, 142393460, 142393460, 142393460, 142675220, 142675220, 142675220, 142675220, 142675220, 142781390, 142781390, 142781390, 142781390, 142781390, 143738160, 143738160, 143738160, 143738160, 143738160, 143789290, 143789290, 143789290, 143789290, 143789290, 143964070, 143964070, 143964070, 143964070, 143964070, 144111180, 144111180, 144111180, 144111180, 144111180, 144154740, 144154740, 144154740, 144154740, 144154740, 144796220, 144796220, 144796220, 144796220, 144796220, 144867970, 144867970, 144867970, 144867970, 144867970, 144907880, 144907880, 144907880, 144907880, 144907880, 145066610, 145066610, 145066610, 145066610, 145066610, 145185410, 145185410, 145185410, 145185410, 145185410, 145208150, 145208150, 145208150, 145208150, 145208150, 145244080, 145244080, 145244080, 145244080, 145244080, 145512070, 145512070, 145512070, 145512070, 145512070, 145570900, 145570900, 145570900, 145570900, 145570900, 145817460, 145817460, 145817460, 145817460, 145817460, 146031220, 146031220, 146031220, 146031220, 146031220, 146068000, 146068000, 146068000, 146068000, 146068000, 146141500, 146141500, 146141500, 146141500, 146141500, 146200570, 146200570, 146200570, 146200570, 146200570, 146235340, 146235340, 146235340, 146235340, 146235340, 146544030, 146544030, 146544030, 146544030, 146544030, 146564040, 146564040, 146564040, 146564040, 146564040, 146718710, 146718710, 146718710, 146718710, 146718710, 147058710, 147058710, 147058710, 147058710, 147058710, 147344270, 147344270, 147344270, 147344270, 147344270, 147585430, 147585430, 147585430, 147585430, 147585430, 147816860, 147816860, 147816860, 147816860, 147816860, 147901990, 147901990, 147901990, 147901990, 147901990, 148072200, 148072200, 148072200, 148072200, 148072200, 148074560, 148074560, 148074560, 148074560, 148074560, 148353310, 148353310, 148353310, 148353310, 148353310, 148358230, 148358230, 148358230, 148358230, 148358230, 148375750, 148375750, 148375750, 148375750, 148375750, 148411610, 148411610, 148411610, 148411610, 148411610, 148649490, 148649490, 148649490, 148649490, 148649490, 148770290, 148770290, 148770290, 148770290, 148770290, 149202630, 149202630, 149202630, 149202630, 149202630, 149575170, 149575170, 149575170, 149575170, 149575170, 149619700, 149619700, 149619700, 149619700, 149619700, 149632270, 149632270, 149632270, 149632270, 149632270, 149649840, 149649840, 149649840, 149649840, 149649840, 150231890, 150231890, 150231890, 150231890, 150231890, 150497860, 150497860, 150497860, 150497860, 150497860, 152172590, 152172590, 152172590, 152172590, 152172590, 152457210, 152457210, 152457210, 152457210, 152457210, 152486960, 152486960, 152486960, 152486960, 152486960, 153161900, 153161900, 153161900, 153161900, 153161900, 153179140, 153179140, 153179140, 153179140, 153179140, 153299210, 153299210, 153299210, 153299210, 153299210, 153425870, 153425870, 153425870, 153425870, 153425870, 153642860, 153642860, 153642860, 153642860, 153642860, 153811580, 153811580, 153811580, 153811580, 153811580, 153964170, 153964170, 153964170, 153964170, 153964170, 153976530, 153976530, 153976530, 153976530, 153976530, 154421140, 154421140, 154421140, 154421140, 154421140, 154496880, 154496880, 154496880, 154496880, 154496880, 154561170, 154561170, 154561170, 154561170, 154561170, 154611570, 154611570, 154611570, 154611570, 154611570, 154866650, 154866650, 154866650, 154866650, 154866650, 155266460, 155266460, 155266460, 155266460, 155266460, 155279250, 155279250, 155279250, 155279250, 155279250, 155793530, 155793530, 155793530, 155793530, 155793530, 155870950, 155870950, 155870950, 155870950, 155870950, 155881370, 155881370, 155881370, 155881370, 155881370, 155904090, 155904090, 155904090, 155904090, 155904090, 156076000, 156076000, 156076000, 156076000, 156076000, 156448520, 156448520, 156448520, 156448520, 156448520, 156739290, 156739290, 156739290, 156739290, 156739290, 156740450, 156740450, 156740450, 156740450, 156740450, 156877000, 156877000, 156877000, 156877000, 156877000, 157376380, 157376380, 157376380, 157376380, 157376380, 157767390, 157767390, 157767390, 157767390, 157767390, 157818710, 157818710, 157818710, 157818710, 157818710, 157832490, 157832490, 157832490, 157832490, 157832490, 157968230, 157968230, 157968230, 157968230, 157968230, 158200090, 158200090, 158200090, 158200090, 158200090, 158246780, 158246780, 158246780, 158246780, 158246780, 158610470, 158610470, 158610470, 158610470, 158610470, 158685040, 158685040, 158685040, 158685040, 158685040, 159167940, 159167940, 159167940, 159167940, 159167940, 159439350, 159439350, 159439350, 159439350, 159439350, 159578140, 159578140, 159578140, 159578140, 159578140, 159994350, 159994350, 159994350, 159994350, 159994350, 160078020, 160078020, 160078020, 160078020, 160078020, 160215610, 160215610, 160215610, 160215610, 160215610, 160403720, 160403720, 160403720, 160403720, 160403720, 161477340, 161477340, 161477340, 161477340, 161477340, 163488430, 163488430, 163488430, 163488430, 163488430, 163489640, 163489640, 163489640, 163489640, 163489640, 163499120, 163499120, 163499120, 163499120, 163499120, 163510210, 163510210, 163510210, 163510210, 163510210, 164386140, 164386140, 164386140, 164386140, 164386140, 164809210, 164809210, 164809210, 164809210, 164809210, 164923730, 164923730, 164923730, 164923730, 164923730, 165184600, 165184600, 165184600, 165184600, 165184600, 165223170, 165223170, 165223170, 165223170, 165223170, 165401210, 165401210, 165401210, 165401210, 165401210, 165547710, 165547710, 165547710, 165547710, 165547710, 165577420, 165577420, 165577420, 165577420, 165577420, 166528460, 166528460, 166528460, 166528460, 166528460, 166854310, 166854310, 166854310, 166854310, 166854310, 166858230, 166858230, 166858230, 166858230, 166858230, 166859140, 166859140, 166859140, 166859140, 166859140, 166859380, 166859380, 166859380, 166859380, 166859380, 166859400, 166859400, 166859400, 166859400, 166859400, 166860370, 166860370, 166860370, 166860370, 166860370, 167344790, 167344790, 167344790, 167344790, 167344790, 167463890, 167463890, 167463890, 167463890, 167463890, 167481090, 167481090, 167481090, 167481090, 167481090, 167651360, 167651360, 167651360, 167651360, 167651360, 167768110, 167768110, 167768110, 167768110, 167768110, 167830980, 167830980, 167830980, 167830980, 167830980, 168167370, 168167370, 168167370, 168167370, 168167370, 168261160, 168261160, 168261160, 168261160, 168261160, 168284660, 168284660, 168284660, 168284660, 168284660, 168295010, 168295010, 168295010, 168295010, 168295010, 168651990, 168651990, 168651990, 168651990, 168651990, 168691720, 168691720, 168691720, 168691720, 168691720, 169101630, 169101630, 169101630, 169101630, 169101630, 169165360, 169165360, 169165360, 169165360, 169165360, 170372800, 170372800, 170372800, 170372800, 170372800, 170406320, 170406320, 170406320, 170406320, 170406320, 170679040, 170679040, 170679040, 170679040, 170679040, 170984760, 170984760, 170984760, 170984760, 170984760, 171038800, 171038800, 171038800, 171038800, 171038800, 171547440, 171547440, 171547440, 171547440, 171547440, 171668400, 171668400, 171668400, 171668400, 171668400, 173057180, 173057180, 173057180, 173057180, 173057180, 173551480, 173551480, 173551480, 173551480, 173551480, 174504150, 174504150, 174504150, 174504150, 174504150, 175915200, 175915200, 175915200, 175915200, 175915200, 175915320, 175915320, 175915320, 175915320, 175915320, 176076660, 176076660, 176076660, 176076660, 176076660, 176449510, 176449510, 176449510, 176449510, 176449510, 176881390, 176881390, 176881390, 176881390, 176881390, 176912640, 176912640, 176912640, 176912640, 176912640, 177004530, 177004530, 177004530, 177004530, 177004530, 177203390, 177203390, 177203390, 177203390, 177203390, 177540480, 177540480, 177540480, 177540480, 177540480, 177695800, 177695800, 177695800, 177695800, 177695800, 178097860, 178097860, 178097860, 178097860, 178097860, 178337960, 178337960, 178337960, 178337960, 178337960, 179299980, 179299980, 179299980, 179299980, 179299980, 179355580, 179355580, 179355580, 179355580, 179355580, 179370680, 179370680, 179370680, 179370680, 179370680, 179481280, 179481280, 179481280, 179481280, 179481280, 179813950, 179813950, 179813950, 179813950, 179813950, 180103290, 180103290, 180103290, 180103290, 180103290, 180517080, 180517080, 180517080, 180517080, 180517080, 180573120, 180573120, 180573120, 180573120, 180573120, 180647470, 180647470, 180647470, 180647470, 180647470, 181266420, 181266420, 181266420, 181266420, 181266420, 181381930, 181381930, 181381930, 181381930, 181381930, 181851850, 181851850, 181851850, 181851850, 181851850, 182098450, 182098450, 182098450, 182098450, 182098450, 182110110, 182110110, 182110110, 182110110, 182110110, 182587430, 182587430, 182587430, 182587430, 182587430, 182616210, 182616210, 182616210, 182616210, 182616210, 182838380, 182838380, 182838380, 182838380, 182838380, 183411400, 183411400, 183411400, 183411400, 183411400, 183967640, 183967640, 183967640, 183967640, 183967640, 184027360, 184027360, 184027360, 184027360, 184027360, 184235970, 184235970, 184235970, 184235970, 184235970, 184622030, 184622030, 184622030, 184622030, 184622030, 184626100, 184626100, 184626100, 184626100, 184626100, 185411770, 185411770, 185411770, 185411770, 185411770, 185414770, 185414770, 185414770, 185414770, 185414770, 185428450, 185428450, 185428450, 185428450, 185428450, 185447300, 185447300, 185447300, 185447300, 185447300, 186758300, 186758300, 186758300, 186758300, 186758300, 187390240, 187390240, 187390240, 187390240, 187390240, 187509400, 187509400, 187509400, 187509400, 187509400, 188208020, 188208020, 188208020, 188208020, 188208020, 188375550, 188375550, 188375550, 188375550, 188375550, 188608320, 188608320, 188608320, 188608320, 188608320, 188617470, 188617470, 188617470, 188617470, 188617470, 188676670, 188676670, 188676670, 188676670, 188676670, 188681090, 188681090, 188681090, 188681090, 188681090, 188719610, 188719610, 188719610, 188719610, 188719610, 189041680, 189041680, 189041680, 189041680, 189041680, 189050280, 189050280, 189050280, 189050280, 189050280, 189056950, 189056950, 189056950, 189056950, 189056950, 189398170, 189398170, 189398170, 189398170, 189398170, 189415440, 189415440, 189415440, 189415440, 189415440, 189514400, 189514400, 189514400, 189514400, 189514400, 190549110, 190549110, 190549110, 190549110, 190549110, 190549780, 190549780, 190549780, 190549780, 190549780, 190550960, 190550960, 190550960, 190550960, 190550960, 190554860, 190554860, 190554860, 190554860, 190554860, 190569860, 190569860, 190569860, 190569860, 190569860, 190920730, 190920730, 190920730, 190920730, 190920730, 191053480, 191053480, 191053480, 191053480, 191053480, 191393150, 191393150, 191393150, 191393150, 191393150, 191580880, 191580880, 191580880, 191580880, 191580880, 191653130, 191653130, 191653130, 191653130, 191653130, 191674010, 191674010, 191674010, 191674010, 191674010, 192073450, 192073450, 192073450, 192073450, 192073450, 192257270, 192257270, 192257270, 192257270, 192257270, 192260810, 192260810, 192260810, 192260810, 192260810, 192307470, 192307470, 192307470, 192307470, 192307470, 192366440, 192366440, 192366440, 192366440, 192366440, 192425900, 192425900, 192425900, 192425900, 192425900, 192748400, 192748400, 192748400, 192748400, 192748400, 193368400, 193368400, 193368400, 193368400, 193368400, 193542330, 193542330, 193542330, 193542330, 193542330, 193542550, 193542550, 193542550, 193542550, 193542550, 193839060, 193839060, 193839060, 193839060, 193839060, 194202960, 194202960, 194202960, 194202960, 194202960, 194325140, 194325140, 194325140, 194325140, 194325140, 194379140, 194379140, 194379140, 194379140, 194379140, 194465070, 194465070, 194465070, 194465070, 194465070, 194465860, 194465860, 194465860, 194465860, 194465860, 194826110, 194826110, 194826110, 194826110, 194826110, 195077720, 195077720, 195077720, 195077720, 195077720, 195089500, 195089500, 195089500, 195089500, 195089500, 195460150, 195460150, 195460150, 195460150, 195460150, 195949220, 195949220, 195949220, 195949220, 195949220, 196004130, 196004130, 196004130, 196004130, 196004130, 196576370, 196576370, 196576370, 196576370, 196576370, 196798580, 196798580, 196798580, 196798580, 196798580, 198404490, 198404490, 198404490, 198404490, 198404490, 199031600, 199031600, 199031600, 199031600, 199031600, 199251080, 199251080, 199251080, 199251080, 199251080, 199427820, 199427820, 199427820, 199427820, 199427820, 199913480, 199913480, 199913480, 199913480, 199913480, 200598910, 200598910, 200598910, 200598910, 200598910, 200699800, 200699800, 200699800, 200699800, 200699800, 200819240, 200819240, 200819240, 200819240, 200819240, 200962390, 200962390, 200962390, 200962390, 200962390, 201076520, 201076520, 201076520, 201076520, 201076520, 201322770, 201322770, 201322770, 201322770, 201322770, 201432170, 201432170, 201432170, 201432170, 201432170, 201677240, 201677240, 201677240, 201677240, 201677240, 202017080, 202017080, 202017080, 202017080, 202017080, 202211070, 202211070, 202211070, 202211070, 202211070, 202444190, 202444190, 202444190, 202444190, 202444190, 202491450, 202491450, 202491450, 202491450, 202491450, 202492120, 202492120, 202492120, 202492120, 202492120, 202499460, 202499460, 202499460, 202499460, 202499460, 202513430, 202513430, 202513430, 202513430, 202513430, 202549120, 202549120, 202549120, 202549120, 202549120, 202610110, 202610110, 202610110, 202610110, 202610110, 203211250, 203211250, 203211250, 203211250, 203211250, 203325600, 203325600, 203325600, 203325600, 203325600, 203329290, 203329290, 203329290, 203329290, 203329290, 203341480, 203341480, 203341480, 203341480, 203341480, 203347990, 203347990, 203347990, 203347990, 203347990, 204014550, 204014550, 204014550, 204014550, 204014550, 204227650, 204227650, 204227650, 204227650, 204227650, 204239600, 204239600, 204239600, 204239600, 204239600, 204583680, 204583680, 204583680, 204583680, 204583680, 204642170, 204642170, 204642170, 204642170, 204642170, 205096220, 205096220, 205096220, 205096220, 205096220, 205122510, 205122510, 205122510, 205122510, 205122510, 205129680, 205129680, 205129680, 205129680, 205129680, 205136240, 205136240, 205136240, 205136240, 205136240, 205280680, 205280680, 205280680, 205280680, 205280680, 205436550, 205436550, 205436550, 205436550, 205436550, 205796780, 205796780, 205796780, 205796780, 205796780, 206285380, 206285380, 206285380, 206285380, 206285380, 206695790, 206695790, 206695790, 206695790, 206695790, 207029500, 207029500, 207029500, 207029500, 207029500, 248511870, 248511870, 248511870, 248511870, 248511870, 249014820, 249014820, 249014820, 249014820, 249014820, 323391000, 323391000, 323391000, 323391000, 323391000, 375559560, 375559560, 375559560, 375559560, 375559560, 375599230, 375599230, 375599230, 375599230, 375599230, 375654320, 375654320, 375654320, 375654320, 375654320, 375654970, 375654970, 375654970, 375654970, 375654970, 375655770, 375655770, 375655770, 375655770, 375655770, 375687390, 375687390, 375687390, 375687390, 375687390, 375756140, 375756140, 375756140, 375756140, 375756140, 375767540, 375767540, 375767540, 375767540, 375767540, 375774790, 375774790, 375774790, 375774790, 375774790, 375781680, 375781680, 375781680, 375781680, 375781680, 375782360, 375782360, 375782360, 375782360, 375782360, 375803720, 375803720, 375803720, 375803720, 375803720, 375848500, 375848500, 375848500, 375848500, 375848500, 375917320, 375917320, 375917320, 375917320, 375917320, 376016030, 376016030, 376016030, 376016030, 376016030, 376018440, 376018440, 376018440, 376018440, 376018440, 376116420, 376116420, 376116420, 376116420, 376116420, 376216880, 376216880, 376216880, 376216880, 376216880, 376318070, 376318070, 376318070, 376318070, 376318070, 376335220, 376335220, 376335220, 376335220, 376335220, 376376670, 376376670, 376376670, 376376670, 376376670, 376378100, 376378100, 376378100, 376378100, 376378100, 376409400, 376409400, 376409400, 376409400, 376409400, 376989540, 376989540, 376989540, 376989540, 376989540, 377221300, 377221300, 377221300, 377221300, 377221300, 378868990, 378868990, 378868990, 378868990, 378868990, 379151450, 379151450, 379151450, 379151450, 379151450, 379865530, 379865530, 379865530, 379865530, 379865530, 381717800, 381717800, 381717800, 381717800, 381717800, 405202960, 405202960, 405202960, 405202960, 405202960, 405892480, 405892480, 405892480, 405892480, 405892480, 406160790, 406160790, 406160790, 406160790, 406160790, 406282910, 406282910, 406282910, 406282910, 406282910, 406378740, 406378740, 406378740, 406378740, 406378740, 407090170, 407090170, 407090170, 407090170, 407090170, 407522560, 407522560, 407522560, 407522560, 407522560, 491617760, 491617760, 491617760, 491617760, 491617760, 570361550, 570361550, 570361550, 570361550, 570361550, 620767260, 620767260, 620767260, 620767260, 620767260, 631060220, 631060220, 631060220, 631060220, 631060220, 631339110, 631339110, 631339110, 631339110, 631339110, 631339120, 631339120, 631339120, 631339120, 631339120, 631618070, 631618070, 631618070, 631618070, 631618070, 631997490, 631997490, 631997490, 631997490, 631997490, 631997500, 631997500, 631997500, 631997500, 631997500, 638241120, 638241120, 638241120, 638241120, 638241120, 647493300, 647493300, 647493300, 647493300, 647493300, 708942080, 708942080, 708942080, 708942080, 708942080, 709373890, 709373890, 709373890, 709373890, 709373890, 721449110, 721449110, 721449110, 721449110, 721449110, 721539440, 721539440, 721539440, 721539440, 721539440, 722260040, 722260040, 722260040, 722260040, 722260040, 722261320, 722261320, 722261320, 722261320, 722261320, 722538310, 722538310, 722538310, 722538310, 722538310, 722562170, 722562170, 722562170, 722562170, 722562170, 725263980, 725263980, 725263980, 725263980, 725263980, 751492850, 751492850, 751492850, 751492850, 751492850, 752097710, 752097710, 752097710, 752097710, 752097710, 753245160, 753245160, 753245160, 753245160, 753245160, 758345510, 758345510, 758345510, 758345510, 758345510, 769747680, 769747680, 769747680, 769747680, 769747680, 770059170, 770059170, 770059170, 770059170, 770059170, 805777210, 805777210, 805777210, 805777210, 805777210, 829615860, 829615860, 829615860, 829615860, 829615860, 836019780, 836019780, 836019780, 836019780, 836019780, 850702030, 850702030, 850702030, 850702030, 850702030, 850875910, 850875910, 850875910, 850875910, 850875910, 851321170, 851321170, 851321170, 851321170, 851321170, 860356130, 860356130, 860356130, 860356130, 860356130, 867381830, 867381830, 867381830, 867381830, 867381830, 894655770, 894655770, 894655770, 894655770, 894655770, 900874940, 900874940, 900874940, 900874940, 900874940, 901330200, 901330200, 901330200, 901330200, 901330200, 902490420, 902490420, 902490420, 902490420, 902490420, 918538610, 918538610, 918538610, 918538610, 918538610, 925206520, 925206520, 925206520, 925206520, 925206520, 931996200, 931996200, 931996200, 931996200, 931996200, 939622790, 939622790, 939622790, 939622790, 939622790, 939705470, 939705470, 939705470, 939705470, 939705470, 939877350, 939877350, 939877350, 939877350, 939877350, 941144050, 941144050, 941144050, 941144050, 941144050, 943519890, 943519890, 943519890, 943519890, 943519890, 946798980, 946798980, 946798980, 946798980, 946798980, 947724410, 947724410, 947724410, 947724410, 947724410, 949310320, 949310320, 949310320, 949310320, 949310320, 950001890, 950001890, 950001890, 950001890, 950001890, 950117260, 950117260, 950117260, 950117260, 950117260, 951636630, 951636630, 951636630, 951636630, 951636630, 951658820, 951658820, 951658820, 951658820, 951658820, 951700410, 951700410, 951700410, 951700410, 951700410, 951818490, 951818490, 951818490, 951818490, 951818490, 962930840, 962930840, 962930840, 962930840, 962930840, 966615930, 966615930, 966615930, 966615930, 966615930, 992876060, 992876060, 992876060, 992876060, 992876060, 993471040, 993471040, 993471040, 993471040, 993471040, 994192380, 994192380, 994192380, 994192380, 994192380, 997254980, 997254980, 997254980, 997254980, 997254980, 997340610, 997340610, 997340610, 997340610, 997340610, 998173900, 998173900, 998173900, 998173900, 998173900, 998393010, 998393010, 998393010, 998393010, 998393010, 999914980, 999914980, 999914980, 999914980, 999914980, 1000227410, 1000227410, 1000227410, 1000227410, 1000227410, 1000232430, 1000232430, 1000232430, 1000232430, 1000232430, 1000358990, 1000358990, 1000358990, 1000358990, 1000358990]\n"
    }
   ],
   "source": [
    "for house_id in tqdm_notebook(checkpoint_1[sequence[0]].index.tolist(), desc='Process Progress'): # for all unique Household Keys on the original dataframe\n",
    "    for var_type in sequence: # for all type of separatable dataframe        \n",
    "        if house_mean[house_id] >= (total_mean * 2): # we check if the same does not satisfies the threshold limit\n",
    "\n",
    "            for var_type in sequence: # for all type of separatable dataframe \n",
    "\n",
    "                if house_id in checkpoint_1[var_type].index.tolist(): # check if Household Key has not been already droped to prevent error raise\n",
    "\n",
    "                    checkpoint_1[var_type].drop(house_id, inplace=True) # drop the row related to the given Household Key in all dataframes type\n",
    "\n",
    "                    removed_rows[row_key1].append(house_id) # and we add its name to the list of removed columns\n",
    "\n",
    "print('Removed Rows after filtering process: ', removed_rows[row_key1])"
   ]
  },
  {
   "cell_type": "code",
   "execution_count": 56,
   "metadata": {},
   "outputs": [],
   "source": [
    "for var_type, idx in zip(sequence, range(len(sequence))): # lets check the result now\n",
    "\n",
    "    rows_nullval_ratio[var_type] = (checkpoint_1[var_type].isnull().sum(axis=1).sort_values(ascending=False)) # filling dataframe dictionary"
   ]
  },
  {
   "cell_type": "code",
   "execution_count": 57,
   "metadata": {},
   "outputs": [
    {
     "output_type": "stream",
     "name": "stdout",
     "text": "Numerical: 4095\nBinary Numericals: 4095\nDates: 4095\nBinary Categoricals: 4095\nStrings: 4095\n"
    }
   ],
   "source": [
    "for var_type in sequence:\n",
    "\n",
    "    print(var_type + ':', len(checkpoint_1[var_type].index)) # total number of rows in each type of dataframe"
   ]
  },
  {
   "cell_type": "code",
   "execution_count": 58,
   "metadata": {},
   "outputs": [
    {
     "output_type": "stream",
     "name": "stdout",
     "text": "Numerical: 14\nBinary Numericals: 1\nDates: 3\nBinary Categoricals: 13\nStrings: 12\n"
    }
   ],
   "source": [
    "for var_type in sequence:\n",
    "\n",
    "    print(var_type + ':', len(checkpoint_1[var_type].columns)) # number of remaining columns for each dataframe type after the filtering process "
   ]
  },
  {
   "cell_type": "markdown",
   "metadata": {},
   "source": [
    "## 6 - Summarize Information and Fill Nulls in the given columns "
   ]
  },
  {
   "cell_type": "markdown",
   "metadata": {},
   "source": [
    "    6.1 - Saving checkpoint "
   ]
  },
  {
   "cell_type": "code",
   "execution_count": 59,
   "metadata": {},
   "outputs": [],
   "source": [
    "checkpoint_2 = {} # creating dictionary for the second checkpoint\n",
    "\n",
    "for var_type, idx in zip(sequence, range(len(sequence))): \n",
    "    checkpoint_2[var_type] = checkpoint_1[var_type].copy() # filling in with all dataframe types"
   ]
  },
  {
   "cell_type": "markdown",
   "metadata": {},
   "source": [
    "    6.2 - Dealing first with the Numericals Dataframe"
   ]
  },
  {
   "cell_type": "code",
   "execution_count": 60,
   "metadata": {},
   "outputs": [
    {
     "output_type": "execute_result",
     "data": {
      "text/plain": "               Length Of Residence  ERS ENT Count Year 1  \\\nHousehold Key                                              \n8750                           NaN              7.857143   \n9690                         140.0              0.000000   \n33380                         50.0              0.000000   \n\n               ERS ENT Count Year 2  ERS ENT Count Year 3  \\\nHousehold Key                                               \n8750                       4.285714              7.142857   \n9690                       6.666667             15.000000   \n33380                      0.000000              0.000000   \n\n               ERS Member Cost Year 1  ERS Member Cost Year 2  \\\nHousehold Key                                                   \n8750                      4623.928571             2522.142857   \n9690                         0.000000             1470.833333   \n33380                        0.000000                0.000000   \n\n               ERS Member Cost Year 3  Member Tenure Years  \\\nHousehold Key                                                \n8750                           5472.0           289.444444   \n9690                          15059.5           353.333333   \n33380                             0.0           373.333333   \n\n               Months from Join to Cancel   Basic Cost  Calculated Tow Miles  \\\nHousehold Key                                                                  \n8750                               1577.5  1250.357143             80.142857   \n9690                                  NaN  3072.500000             22.500000   \n33380                              3120.0          NaN                   NaN   \n\n                Plus Cost  Premier Cost   Total Cost  \nHousehold Key                                         \n8750           265.714286           0.0  1516.071429  \n9690           127.500000           0.0  4347.500000  \n33380                 NaN           NaN          NaN  ",
      "text/html": "<div>\n<style scoped>\n    .dataframe tbody tr th:only-of-type {\n        vertical-align: middle;\n    }\n\n    .dataframe tbody tr th {\n        vertical-align: top;\n    }\n\n    .dataframe thead th {\n        text-align: right;\n    }\n</style>\n<table border=\"1\" class=\"dataframe\">\n  <thead>\n    <tr style=\"text-align: right;\">\n      <th></th>\n      <th>Length Of Residence</th>\n      <th>ERS ENT Count Year 1</th>\n      <th>ERS ENT Count Year 2</th>\n      <th>ERS ENT Count Year 3</th>\n      <th>ERS Member Cost Year 1</th>\n      <th>ERS Member Cost Year 2</th>\n      <th>ERS Member Cost Year 3</th>\n      <th>Member Tenure Years</th>\n      <th>Months from Join to Cancel</th>\n      <th>Basic Cost</th>\n      <th>Calculated Tow Miles</th>\n      <th>Plus Cost</th>\n      <th>Premier Cost</th>\n      <th>Total Cost</th>\n    </tr>\n    <tr>\n      <th>Household Key</th>\n      <th></th>\n      <th></th>\n      <th></th>\n      <th></th>\n      <th></th>\n      <th></th>\n      <th></th>\n      <th></th>\n      <th></th>\n      <th></th>\n      <th></th>\n      <th></th>\n      <th></th>\n      <th></th>\n    </tr>\n  </thead>\n  <tbody>\n    <tr>\n      <th>8750</th>\n      <td>NaN</td>\n      <td>7.857143</td>\n      <td>4.285714</td>\n      <td>7.142857</td>\n      <td>4623.928571</td>\n      <td>2522.142857</td>\n      <td>5472.0</td>\n      <td>289.444444</td>\n      <td>1577.5</td>\n      <td>1250.357143</td>\n      <td>80.142857</td>\n      <td>265.714286</td>\n      <td>0.0</td>\n      <td>1516.071429</td>\n    </tr>\n    <tr>\n      <th>9690</th>\n      <td>140.0</td>\n      <td>0.000000</td>\n      <td>6.666667</td>\n      <td>15.000000</td>\n      <td>0.000000</td>\n      <td>1470.833333</td>\n      <td>15059.5</td>\n      <td>353.333333</td>\n      <td>NaN</td>\n      <td>3072.500000</td>\n      <td>22.500000</td>\n      <td>127.500000</td>\n      <td>0.0</td>\n      <td>4347.500000</td>\n    </tr>\n    <tr>\n      <th>33380</th>\n      <td>50.0</td>\n      <td>0.000000</td>\n      <td>0.000000</td>\n      <td>0.000000</td>\n      <td>0.000000</td>\n      <td>0.000000</td>\n      <td>0.0</td>\n      <td>373.333333</td>\n      <td>3120.0</td>\n      <td>NaN</td>\n      <td>NaN</td>\n      <td>NaN</td>\n      <td>NaN</td>\n      <td>NaN</td>\n    </tr>\n  </tbody>\n</table>\n</div>"
     },
     "metadata": {},
     "execution_count": 60
    }
   ],
   "source": [
    "checkpoint_2[sequence[0]].head(n=3) # lets remember what variables and how do they behave on this dataframe"
   ]
  },
  {
   "cell_type": "markdown",
   "metadata": {},
   "source": [
    "        6.2.1 - Lets take a look at the Length Of Residence variable"
   ]
  },
  {
   "cell_type": "code",
   "execution_count": 61,
   "metadata": {},
   "outputs": [
    {
     "output_type": "execute_result",
     "data": {
      "text/plain": "array([         nan, 140.        ,  50.        , 150.        ,\n       121.42857143, 116.66666667,  21.25      , 103.33333333,\n       130.        ,  90.        ,  96.        ,  75.        ,\n       105.        ,  80.        ,  27.85714286, 133.33333333,\n        92.5       , 110.        ,  70.        , 108.33333333,\n       100.        ,   0.        ,  20.        , 112.5       ,\n       136.66666667,  10.        ,  60.        , 120.        ,\n       141.25      , 126.66666667,  26.66666667, 165.        ,\n       122.77777778, 114.28571429,  98.        ,  86.        ,\n       196.66666667,  45.        ,  91.42857143, 142.72727273,\n       200.        , 128.        ,  40.        , 138.57142857,\n       152.85714286,  42.        ,  94.11764706, 106.42857143,\n       137.14285714,  15.        , 121.66666667,  72.        ,\n        42.5       ,  30.        , 124.        , 117.5       ,\n       142.85714286, 132.5       , 122.5       ,  94.61538462,\n       263.33333333, 290.        , 131.25      , 106.        ,\n        25.        ,  57.05882353, 270.        , 195.        ,\n       115.        , 138.88888889,  47.5       ,  53.33333333,\n        85.        ,  87.5       , 190.        , 118.        ,\n        35.        ,  65.83333333, 294.        , 127.5       ,\n       113.33333333,  67.14285714,  82.72727273, 122.        ,\n        96.42857143, 101.85185185,  84.        , 148.57142857,\n       144.        ,   6.66666667,  76.66666667,   9.41176471,\n       125.        , 135.45454545,  43.33333333, 300.66666667,\n       114.        ,  71.25      , 106.92307692,  45.26315789,\n        84.61538462,  56.66666667,  52.5       ,  26.        ,\n       138.46153846, 210.        ,  93.33333333,  37.5       ,\n        97.5       , 135.        ,  94.        ,  48.33333333,\n       144.44444444, 310.        , 126.        , 170.        ,\n       123.33333333, 222.5       , 335.45454545, 145.71428571,\n       108.        ,  63.63636364, 106.25      , 342.        ,\n        94.16666667, 121.11111111,  68.33333333,  65.        ,\n       103.68421053,  76.        , 102.14285714, 135.38461538,\n       141.875     ,  74.28571429, 145.        ,  69.47368421,\n        28.        ,  83.33333333,  52.17391304, 112.        ,\n       175.        , 106.66666667,  92.22222222, 163.33333333,\n        41.11111111,  46.        , 230.        , 122.72727273,\n       144.28571429,  77.5       , 133.75      , 260.        ,\n       128.33333333, 116.25      ,  95.        , 143.33333333,\n        98.57142857, 126.36363636, 138.        , 155.71428571,\n        51.42857143, 112.85714286, 128.57142857,  96.66666667,\n        56.        ,   4.        , 185.        , 246.66666667,\n        64.28571429,  91.66666667,  67.64705882,  92.        ,\n       250.        ,  79.47368421, 330.        ,  33.33333333,\n       141.11111111, 106.47058824,  55.        ,  86.66666667,\n        36.66666667, 110.55555556, 430.        , 133.63636364,\n        78.88888889,  66.66666667,  40.55555556, 137.5       ,\n        82.5       , 227.5       , 134.44444444,  76.36363636,\n       125.26315789, 360.        ,  66.25      ,  28.88888889,\n       188.33333333,  94.28571429,  52.        , 160.        ,\n        73.33333333, 280.        , 106.15384615,  85.55555556,\n       320.        , 220.        ,  88.75      ,  42.85714286,\n        63.33333333, 104.        ,  18.18181818,  84.44444444,\n        72.5       ,  16.66666667, 111.66666667,  58.        ,\n        47.33333333,  36.25      , 116.31578947,  25.55555556,\n        81.66666667,  12.5       ,  87.77777778,  27.27272727,\n        75.29411765, 146.        , 134.        , 180.        ,\n       116.        , 127.14285714, 142.5       , 102.        ,\n        18.57142857, 169.09090909,  48.        , 101.11111111,\n        46.66666667, 132.85714286, 240.        ,  57.5       ,\n        63.07692308, 102.5       , 131.17647059, 142.        ,\n       295.        , 111.42857143, 114.44444444,  62.22222222,\n        37.77777778, 322.5       , 172.5       , 100.90909091,\n       176.        ,  78.33333333,  25.71428571,  10.58823529,\n       146.66666667,  32.5       ,  34.44444444,   3.33333333,\n        57.77777778, 134.28571429])"
     },
     "metadata": {},
     "execution_count": 61
    }
   ],
   "source": [
    "checkpoint_2[sequence[0]]['Length Of Residence'].unique() # total number of null values for the Length Of Residence variable"
   ]
  },
  {
   "cell_type": "markdown",
   "metadata": {},
   "source": [
    "            6.2.2.1 - Round the values and converting them to interger type to prevent any error"
   ]
  },
  {
   "cell_type": "code",
   "execution_count": 62,
   "metadata": {},
   "outputs": [
    {
     "output_type": "display_data",
     "data": {
      "text/plain": "HBox(children=(FloatProgress(value=0.0, description='Process Progress', max=4095.0, style=ProgressStyle(descri…",
      "application/vnd.jupyter.widget-view+json": {
       "version_major": 2,
       "version_minor": 0,
       "model_id": "0a14106705264f9b82229a3adc63e9d6"
      }
     },
     "metadata": {}
    },
    {
     "output_type": "stream",
     "name": "stdout",
     "text": "\n"
    }
   ],
   "source": [
    "for idx in tqdm_notebook(checkpoint_2[sequence[0]]['Length Of Residence'].index, desc='Process Progress'): # for all indexes of the given dataframe\n",
    "\n",
    "    checkpoint_2[sequence[0]].at[idx, 'Length Of Residence'] = round(checkpoint_2[sequence[0]]['Length Of Residence'][idx]) # replace de Null value by the Household Key mean\n",
    "\n",
    "    if np.isnan(checkpoint_2[sequence[0]]['Length Of Residence'][idx]):\n",
    "\n",
    "        checkpoint_2[sequence[0]].at[idx, 'Length Of Residence'] = 0\n",
    "\n",
    "# checkpoint_2[sequence[0]]['Length Of Residence'] = checkpoint_2[sequence[0]]['Length Of Residence'].astype(int)"
   ]
  },
  {
   "cell_type": "code",
   "execution_count": 63,
   "metadata": {},
   "outputs": [],
   "source": [
    "Counter(checkpoint_2[sequence[0]]['Length Of Residence'].tolist());"
   ]
  },
  {
   "cell_type": "markdown",
   "metadata": {},
   "source": [
    "    As we can see, we still have a considerable amount of null values in the Length Of Residence variable. If we replaced these values by the mean of the variable we would be disregarding the geographical relation. Therefore, we will use the mean related to the City variable to predict the null values"
   ]
  },
  {
   "cell_type": "code",
   "execution_count": 64,
   "metadata": {},
   "outputs": [
    {
     "output_type": "execute_result",
     "data": {
      "text/plain": "0"
     },
     "metadata": {},
     "execution_count": 64
    }
   ],
   "source": [
    "checkpoint_2['Strings']['City'].isnull().sum() # number of Household Keys with null City values"
   ]
  },
  {
   "cell_type": "code",
   "execution_count": 65,
   "metadata": {},
   "outputs": [],
   "source": [
    "checkpoint_2[sequence[0]]['City'] = checkpoint_2['Strings']['City'].values # temporarily concatenate the city column on the numerical column"
   ]
  },
  {
   "cell_type": "markdown",
   "metadata": {},
   "source": [
    "            6.2.2.2 - Luckly, we can rely on the City variable, stored at the Strings dataframe. Thus, we can proceed with the Null values prediction"
   ]
  },
  {
   "cell_type": "code",
   "execution_count": 66,
   "metadata": {},
   "outputs": [
    {
     "output_type": "display_data",
     "data": {
      "text/plain": "HBox(children=(FloatProgress(value=0.0, description='Process Progress', max=4095.0, style=ProgressStyle(descri…",
      "application/vnd.jupyter.widget-view+json": {
       "version_major": 2,
       "version_minor": 0,
       "model_id": "ba5749069f7141dfb3775d4bf0a05730"
      }
     },
     "metadata": {}
    },
    {
     "output_type": "stream",
     "name": "stdout",
     "text": "\n"
    }
   ],
   "source": [
    "for idx in tqdm_notebook(checkpoint_2[sequence[0]].index, desc='Process Progress'): # For all Household Keys\n",
    "\n",
    "    if checkpoint_2[sequence[0]]['Length Of Residence'][idx] == 0: # we check if the Length of Residence variable is equal zero (previouly changed from nan values)\n",
    "\n",
    "        tmp_city = checkpoint_2[sequence[0]]['City'][idx] # we store a temporary value of the city for the given Household Key\n",
    "\n",
    "        checkpoint_2[sequence[0]]['Length Of Residence'][idx] = checkpoint_2[sequence[0]]['Length Of Residence'].loc[checkpoint_2[sequence[0]]['City'] == tmp_city].values.mean() # replacing zeroed value by mean of the Length of Residence per grouped by City"
   ]
  },
  {
   "cell_type": "code",
   "execution_count": 67,
   "metadata": {},
   "outputs": [
    {
     "output_type": "execute_result",
     "data": {
      "text/plain": "               Length Of Residence  ERS ENT Count Year 1  \\\nHousehold Key                                              \n8750                     90.558333              7.857143   \n9690                    140.000000              0.000000   \n\n               ERS ENT Count Year 2  ERS ENT Count Year 3  \\\nHousehold Key                                               \n8750                       4.285714              7.142857   \n9690                       6.666667             15.000000   \n\n               ERS Member Cost Year 1  ERS Member Cost Year 2  \\\nHousehold Key                                                   \n8750                      4623.928571             2522.142857   \n9690                         0.000000             1470.833333   \n\n               ERS Member Cost Year 3  Member Tenure Years  \\\nHousehold Key                                                \n8750                           5472.0           289.444444   \n9690                          15059.5           353.333333   \n\n               Months from Join to Cancel   Basic Cost  Calculated Tow Miles  \\\nHousehold Key                                                                  \n8750                               1577.5  1250.357143             80.142857   \n9690                                  NaN  3072.500000             22.500000   \n\n                Plus Cost  Premier Cost   Total Cost          City  \nHousehold Key                                                       \n8750           265.714286           0.0  1516.071429  WEST WARWICK  \n9690           127.500000           0.0  4347.500000       WARWICK  ",
      "text/html": "<div>\n<style scoped>\n    .dataframe tbody tr th:only-of-type {\n        vertical-align: middle;\n    }\n\n    .dataframe tbody tr th {\n        vertical-align: top;\n    }\n\n    .dataframe thead th {\n        text-align: right;\n    }\n</style>\n<table border=\"1\" class=\"dataframe\">\n  <thead>\n    <tr style=\"text-align: right;\">\n      <th></th>\n      <th>Length Of Residence</th>\n      <th>ERS ENT Count Year 1</th>\n      <th>ERS ENT Count Year 2</th>\n      <th>ERS ENT Count Year 3</th>\n      <th>ERS Member Cost Year 1</th>\n      <th>ERS Member Cost Year 2</th>\n      <th>ERS Member Cost Year 3</th>\n      <th>Member Tenure Years</th>\n      <th>Months from Join to Cancel</th>\n      <th>Basic Cost</th>\n      <th>Calculated Tow Miles</th>\n      <th>Plus Cost</th>\n      <th>Premier Cost</th>\n      <th>Total Cost</th>\n      <th>City</th>\n    </tr>\n    <tr>\n      <th>Household Key</th>\n      <th></th>\n      <th></th>\n      <th></th>\n      <th></th>\n      <th></th>\n      <th></th>\n      <th></th>\n      <th></th>\n      <th></th>\n      <th></th>\n      <th></th>\n      <th></th>\n      <th></th>\n      <th></th>\n      <th></th>\n    </tr>\n  </thead>\n  <tbody>\n    <tr>\n      <th>8750</th>\n      <td>90.558333</td>\n      <td>7.857143</td>\n      <td>4.285714</td>\n      <td>7.142857</td>\n      <td>4623.928571</td>\n      <td>2522.142857</td>\n      <td>5472.0</td>\n      <td>289.444444</td>\n      <td>1577.5</td>\n      <td>1250.357143</td>\n      <td>80.142857</td>\n      <td>265.714286</td>\n      <td>0.0</td>\n      <td>1516.071429</td>\n      <td>WEST WARWICK</td>\n    </tr>\n    <tr>\n      <th>9690</th>\n      <td>140.000000</td>\n      <td>0.000000</td>\n      <td>6.666667</td>\n      <td>15.000000</td>\n      <td>0.000000</td>\n      <td>1470.833333</td>\n      <td>15059.5</td>\n      <td>353.333333</td>\n      <td>NaN</td>\n      <td>3072.500000</td>\n      <td>22.500000</td>\n      <td>127.500000</td>\n      <td>0.0</td>\n      <td>4347.500000</td>\n      <td>WARWICK</td>\n    </tr>\n  </tbody>\n</table>\n</div>"
     },
     "metadata": {},
     "execution_count": 67
    }
   ],
   "source": [
    "checkpoint_2[sequence[0]].head(n=2)"
   ]
  },
  {
   "cell_type": "markdown",
   "metadata": {},
   "source": [
    "            6.2.2.3 - Droping City variable from Numerical dataframe type"
   ]
  },
  {
   "cell_type": "code",
   "execution_count": 68,
   "metadata": {},
   "outputs": [],
   "source": [
    "checkpoint_2[sequence[0]].drop(columns='City', inplace=True)"
   ]
  },
  {
   "cell_type": "markdown",
   "metadata": {},
   "source": [
    "        6.2.3 - Rename ERS ENT columns that are related to number of roadside calls and creating a column that presents the sum of it"
   ]
  },
  {
   "cell_type": "markdown",
   "metadata": {},
   "source": [
    "            6.2.3.1 Finding given columns"
   ]
  },
  {
   "cell_type": "code",
   "execution_count": 69,
   "metadata": {},
   "outputs": [
    {
     "output_type": "stream",
     "name": "stdout",
     "text": "['ERS ENT Count Year 1', 'ERS ENT Count Year 2', 'ERS ENT Count Year 3']\n"
    }
   ],
   "source": [
    "matching_ERS_ENT = [s for s in list(checkpoint_2[sequence[0]].columns) if \"ERS ENT\" in s] # creating a list of the columns that have at least the ERS ENT mnemonic\n",
    "\n",
    "print(matching_ERS_ENT)"
   ]
  },
  {
   "cell_type": "markdown",
   "metadata": {},
   "source": [
    "            6.2.3.2 Renaming Columns"
   ]
  },
  {
   "cell_type": "code",
   "execution_count": 70,
   "metadata": {},
   "outputs": [],
   "source": [
    "counter = 1 # counter flag\n",
    "\n",
    "for c in matching_ERS_ENT:\n",
    "\n",
    "    checkpoint_2[sequence[0]].rename(columns={c : 'Number of Roadside calss for Year' + ' ' + str(counter)}, inplace=True) # renaming the columns\n",
    "\n",
    "    counter = counter + 1 # index of the new product column name"
   ]
  },
  {
   "cell_type": "code",
   "execution_count": 71,
   "metadata": {},
   "outputs": [
    {
     "output_type": "execute_result",
     "data": {
      "text/plain": "               Length Of Residence  Number of Roadside calss for Year 1  \\\nHousehold Key                                                             \n8750                     90.558333                             7.857143   \n9690                    140.000000                             0.000000   \n\n               Number of Roadside calss for Year 2  \\\nHousehold Key                                        \n8750                                      4.285714   \n9690                                      6.666667   \n\n               Number of Roadside calss for Year 3  ERS Member Cost Year 1  \\\nHousehold Key                                                                \n8750                                      7.142857             4623.928571   \n9690                                     15.000000                0.000000   \n\n               ERS Member Cost Year 2  ERS Member Cost Year 3  \\\nHousehold Key                                                   \n8750                      2522.142857                  5472.0   \n9690                      1470.833333                 15059.5   \n\n               Member Tenure Years  Months from Join to Cancel   Basic Cost  \\\nHousehold Key                                                                 \n8750                    289.444444                      1577.5  1250.357143   \n9690                    353.333333                         NaN  3072.500000   \n\n               Calculated Tow Miles   Plus Cost  Premier Cost   Total Cost  \nHousehold Key                                                               \n8750                      80.142857  265.714286           0.0  1516.071429  \n9690                      22.500000  127.500000           0.0  4347.500000  ",
      "text/html": "<div>\n<style scoped>\n    .dataframe tbody tr th:only-of-type {\n        vertical-align: middle;\n    }\n\n    .dataframe tbody tr th {\n        vertical-align: top;\n    }\n\n    .dataframe thead th {\n        text-align: right;\n    }\n</style>\n<table border=\"1\" class=\"dataframe\">\n  <thead>\n    <tr style=\"text-align: right;\">\n      <th></th>\n      <th>Length Of Residence</th>\n      <th>Number of Roadside calss for Year 1</th>\n      <th>Number of Roadside calss for Year 2</th>\n      <th>Number of Roadside calss for Year 3</th>\n      <th>ERS Member Cost Year 1</th>\n      <th>ERS Member Cost Year 2</th>\n      <th>ERS Member Cost Year 3</th>\n      <th>Member Tenure Years</th>\n      <th>Months from Join to Cancel</th>\n      <th>Basic Cost</th>\n      <th>Calculated Tow Miles</th>\n      <th>Plus Cost</th>\n      <th>Premier Cost</th>\n      <th>Total Cost</th>\n    </tr>\n    <tr>\n      <th>Household Key</th>\n      <th></th>\n      <th></th>\n      <th></th>\n      <th></th>\n      <th></th>\n      <th></th>\n      <th></th>\n      <th></th>\n      <th></th>\n      <th></th>\n      <th></th>\n      <th></th>\n      <th></th>\n      <th></th>\n    </tr>\n  </thead>\n  <tbody>\n    <tr>\n      <th>8750</th>\n      <td>90.558333</td>\n      <td>7.857143</td>\n      <td>4.285714</td>\n      <td>7.142857</td>\n      <td>4623.928571</td>\n      <td>2522.142857</td>\n      <td>5472.0</td>\n      <td>289.444444</td>\n      <td>1577.5</td>\n      <td>1250.357143</td>\n      <td>80.142857</td>\n      <td>265.714286</td>\n      <td>0.0</td>\n      <td>1516.071429</td>\n    </tr>\n    <tr>\n      <th>9690</th>\n      <td>140.000000</td>\n      <td>0.000000</td>\n      <td>6.666667</td>\n      <td>15.000000</td>\n      <td>0.000000</td>\n      <td>1470.833333</td>\n      <td>15059.5</td>\n      <td>353.333333</td>\n      <td>NaN</td>\n      <td>3072.500000</td>\n      <td>22.500000</td>\n      <td>127.500000</td>\n      <td>0.0</td>\n      <td>4347.500000</td>\n    </tr>\n  </tbody>\n</table>\n</div>"
     },
     "metadata": {},
     "execution_count": 71
    }
   ],
   "source": [
    "checkpoint_2[sequence[0]].head(n=2)"
   ]
  },
  {
   "cell_type": "markdown",
   "metadata": {},
   "source": [
    "            6.2.3.4 - Calculating Total Amount of Calls"
   ]
  },
  {
   "cell_type": "code",
   "execution_count": 72,
   "metadata": {},
   "outputs": [
    {
     "output_type": "display_data",
     "data": {
      "text/plain": "HBox(children=(FloatProgress(value=0.0, description='Process Progress', max=4095.0, style=ProgressStyle(descri…",
      "application/vnd.jupyter.widget-view+json": {
       "version_major": 2,
       "version_minor": 0,
       "model_id": "665d30ea063146918f57be9906a08a22"
      }
     },
     "metadata": {}
    },
    {
     "output_type": "stream",
     "name": "stdout",
     "text": "\n"
    }
   ],
   "source": [
    "new_column = [] # creating list for the new column to be appended\n",
    "\n",
    "for idx in tqdm_notebook(checkpoint_2[sequence[0]].index, desc='Process Progress'): # For each row\n",
    "    \n",
    "    total_amount = 0 # total amount of calls for each Household Key\n",
    "\n",
    "    for c in ['Number of Roadside calss for Year 1', 'Number of Roadside calss for Year 2',\t'Number of Roadside calss for Year 3']: # for each Number of Roadside calls for each Year\n",
    "\n",
    "        if np.isnan(checkpoint_2[sequence[0]][c][idx]): # checking for nan values existance\n",
    "\n",
    "            checkpoint_2[sequence[0]].at[idx, c] = 0 # replacing them by zero calls\n",
    "                  \n",
    "        checkpoint_2[sequence[0]].at[idx, c] = round(checkpoint_2[sequence[0]][c][idx]) # rounding the call values\n",
    "\n",
    "        total_amount += checkpoint_2[sequence[0]][c][idx] # summing the total amount of call\n",
    "\n",
    "    new_column.append(total_amount) # appending to list representing the new column to be appended"
   ]
  },
  {
   "cell_type": "code",
   "execution_count": 73,
   "metadata": {},
   "outputs": [],
   "source": [
    "for c in ['Number of Roadside calss for Year 1', 'Number of Roadside calss for Year 2',\t'Number of Roadside calss for Year 3']: # for each Number of Roadside calls for each Year\n",
    "    checkpoint_2[sequence[0]][c] = checkpoint_2[sequence[0]][c].astype(int) # converting the final values to iterger type\n"
   ]
  },
  {
   "cell_type": "code",
   "execution_count": 74,
   "metadata": {},
   "outputs": [],
   "source": [
    "column_name = 'Total Number of Roadside Calls' # naming the new column\n",
    "\n",
    "checkpoint_2[sequence[0]][column_name] = new_column # appendding new column\n",
    "\n",
    "checkpoint_2[sequence[0]][column_name] = checkpoint_2[sequence[0]][column_name].astype(int) # converting to iterger type"
   ]
  },
  {
   "cell_type": "code",
   "execution_count": 75,
   "metadata": {},
   "outputs": [
    {
     "output_type": "execute_result",
     "data": {
      "text/plain": "               Length Of Residence  Number of Roadside calss for Year 1  \\\nHousehold Key                                                             \n8750                     90.558333                                    8   \n9690                    140.000000                                    0   \n\n               Number of Roadside calss for Year 2  \\\nHousehold Key                                        \n8750                                             4   \n9690                                             7   \n\n               Number of Roadside calss for Year 3  ERS Member Cost Year 1  \\\nHousehold Key                                                                \n8750                                             7             4623.928571   \n9690                                            15                0.000000   \n\n               ERS Member Cost Year 2  ERS Member Cost Year 3  \\\nHousehold Key                                                   \n8750                      2522.142857                  5472.0   \n9690                      1470.833333                 15059.5   \n\n               Member Tenure Years  Months from Join to Cancel   Basic Cost  \\\nHousehold Key                                                                 \n8750                    289.444444                      1577.5  1250.357143   \n9690                    353.333333                         NaN  3072.500000   \n\n               Calculated Tow Miles   Plus Cost  Premier Cost   Total Cost  \\\nHousehold Key                                                                \n8750                      80.142857  265.714286           0.0  1516.071429   \n9690                      22.500000  127.500000           0.0  4347.500000   \n\n               Total Number of Roadside Calls  \nHousehold Key                                  \n8750                                       19  \n9690                                       22  ",
      "text/html": "<div>\n<style scoped>\n    .dataframe tbody tr th:only-of-type {\n        vertical-align: middle;\n    }\n\n    .dataframe tbody tr th {\n        vertical-align: top;\n    }\n\n    .dataframe thead th {\n        text-align: right;\n    }\n</style>\n<table border=\"1\" class=\"dataframe\">\n  <thead>\n    <tr style=\"text-align: right;\">\n      <th></th>\n      <th>Length Of Residence</th>\n      <th>Number of Roadside calss for Year 1</th>\n      <th>Number of Roadside calss for Year 2</th>\n      <th>Number of Roadside calss for Year 3</th>\n      <th>ERS Member Cost Year 1</th>\n      <th>ERS Member Cost Year 2</th>\n      <th>ERS Member Cost Year 3</th>\n      <th>Member Tenure Years</th>\n      <th>Months from Join to Cancel</th>\n      <th>Basic Cost</th>\n      <th>Calculated Tow Miles</th>\n      <th>Plus Cost</th>\n      <th>Premier Cost</th>\n      <th>Total Cost</th>\n      <th>Total Number of Roadside Calls</th>\n    </tr>\n    <tr>\n      <th>Household Key</th>\n      <th></th>\n      <th></th>\n      <th></th>\n      <th></th>\n      <th></th>\n      <th></th>\n      <th></th>\n      <th></th>\n      <th></th>\n      <th></th>\n      <th></th>\n      <th></th>\n      <th></th>\n      <th></th>\n      <th></th>\n    </tr>\n  </thead>\n  <tbody>\n    <tr>\n      <th>8750</th>\n      <td>90.558333</td>\n      <td>8</td>\n      <td>4</td>\n      <td>7</td>\n      <td>4623.928571</td>\n      <td>2522.142857</td>\n      <td>5472.0</td>\n      <td>289.444444</td>\n      <td>1577.5</td>\n      <td>1250.357143</td>\n      <td>80.142857</td>\n      <td>265.714286</td>\n      <td>0.0</td>\n      <td>1516.071429</td>\n      <td>19</td>\n    </tr>\n    <tr>\n      <th>9690</th>\n      <td>140.000000</td>\n      <td>0</td>\n      <td>7</td>\n      <td>15</td>\n      <td>0.000000</td>\n      <td>1470.833333</td>\n      <td>15059.5</td>\n      <td>353.333333</td>\n      <td>NaN</td>\n      <td>3072.500000</td>\n      <td>22.500000</td>\n      <td>127.500000</td>\n      <td>0.0</td>\n      <td>4347.500000</td>\n      <td>22</td>\n    </tr>\n  </tbody>\n</table>\n</div>"
     },
     "metadata": {},
     "execution_count": 75
    }
   ],
   "source": [
    "checkpoint_2[sequence[0]].head(n=2)"
   ]
  },
  {
   "cell_type": "markdown",
   "metadata": {},
   "source": [
    "        6.2.4 - Rename ERS Member that are related to the cost of roadside services per year and creating a column that presents the sum of it"
   ]
  },
  {
   "cell_type": "markdown",
   "metadata": {},
   "source": [
    "            6.2.4.1 - Finding given columns"
   ]
  },
  {
   "cell_type": "code",
   "execution_count": 76,
   "metadata": {},
   "outputs": [
    {
     "output_type": "stream",
     "name": "stdout",
     "text": "['ERS Member Cost Year 1', 'ERS Member Cost Year 2', 'ERS Member Cost Year 3']\n"
    }
   ],
   "source": [
    "matching_ERS_Cost = [s for s in list(checkpoint_2[sequence[0]].columns) if \"ERS Member\" in s] # creating a list of the columns that have at least the ERS Member mnemonic\n",
    "\n",
    "print(matching_ERS_Cost)"
   ]
  },
  {
   "cell_type": "markdown",
   "metadata": {},
   "source": [
    "            6.2.4.2 - Renaming Columns"
   ]
  },
  {
   "cell_type": "code",
   "execution_count": 77,
   "metadata": {},
   "outputs": [],
   "source": [
    "counter = 1 # counter flag\n",
    "\n",
    "for c in matching_ERS_Cost:\n",
    "\n",
    "    checkpoint_2[sequence[0]].rename(columns={c : 'Roadside Member Cost for Year' + ' ' + str(counter)}, inplace=True) # renaming the columns\n",
    "\n",
    "    counter = counter + 1 # index of the new product column name"
   ]
  },
  {
   "cell_type": "code",
   "execution_count": 78,
   "metadata": {},
   "outputs": [
    {
     "output_type": "execute_result",
     "data": {
      "text/plain": "               Length Of Residence  Number of Roadside calss for Year 1  \\\nHousehold Key                                                             \n8750                     90.558333                                    8   \n9690                    140.000000                                    0   \n\n               Number of Roadside calss for Year 2  \\\nHousehold Key                                        \n8750                                             4   \n9690                                             7   \n\n               Number of Roadside calss for Year 3  \\\nHousehold Key                                        \n8750                                             7   \n9690                                            15   \n\n               Roadside Member Cost for Year 1  \\\nHousehold Key                                    \n8750                               4623.928571   \n9690                                  0.000000   \n\n               Roadside Member Cost for Year 2  \\\nHousehold Key                                    \n8750                               2522.142857   \n9690                               1470.833333   \n\n               Roadside Member Cost for Year 3  Member Tenure Years  \\\nHousehold Key                                                         \n8750                                    5472.0           289.444444   \n9690                                   15059.5           353.333333   \n\n               Months from Join to Cancel   Basic Cost  Calculated Tow Miles  \\\nHousehold Key                                                                  \n8750                               1577.5  1250.357143             80.142857   \n9690                                  NaN  3072.500000             22.500000   \n\n                Plus Cost  Premier Cost   Total Cost  \\\nHousehold Key                                          \n8750           265.714286           0.0  1516.071429   \n9690           127.500000           0.0  4347.500000   \n\n               Total Number of Roadside Calls  \nHousehold Key                                  \n8750                                       19  \n9690                                       22  ",
      "text/html": "<div>\n<style scoped>\n    .dataframe tbody tr th:only-of-type {\n        vertical-align: middle;\n    }\n\n    .dataframe tbody tr th {\n        vertical-align: top;\n    }\n\n    .dataframe thead th {\n        text-align: right;\n    }\n</style>\n<table border=\"1\" class=\"dataframe\">\n  <thead>\n    <tr style=\"text-align: right;\">\n      <th></th>\n      <th>Length Of Residence</th>\n      <th>Number of Roadside calss for Year 1</th>\n      <th>Number of Roadside calss for Year 2</th>\n      <th>Number of Roadside calss for Year 3</th>\n      <th>Roadside Member Cost for Year 1</th>\n      <th>Roadside Member Cost for Year 2</th>\n      <th>Roadside Member Cost for Year 3</th>\n      <th>Member Tenure Years</th>\n      <th>Months from Join to Cancel</th>\n      <th>Basic Cost</th>\n      <th>Calculated Tow Miles</th>\n      <th>Plus Cost</th>\n      <th>Premier Cost</th>\n      <th>Total Cost</th>\n      <th>Total Number of Roadside Calls</th>\n    </tr>\n    <tr>\n      <th>Household Key</th>\n      <th></th>\n      <th></th>\n      <th></th>\n      <th></th>\n      <th></th>\n      <th></th>\n      <th></th>\n      <th></th>\n      <th></th>\n      <th></th>\n      <th></th>\n      <th></th>\n      <th></th>\n      <th></th>\n      <th></th>\n    </tr>\n  </thead>\n  <tbody>\n    <tr>\n      <th>8750</th>\n      <td>90.558333</td>\n      <td>8</td>\n      <td>4</td>\n      <td>7</td>\n      <td>4623.928571</td>\n      <td>2522.142857</td>\n      <td>5472.0</td>\n      <td>289.444444</td>\n      <td>1577.5</td>\n      <td>1250.357143</td>\n      <td>80.142857</td>\n      <td>265.714286</td>\n      <td>0.0</td>\n      <td>1516.071429</td>\n      <td>19</td>\n    </tr>\n    <tr>\n      <th>9690</th>\n      <td>140.000000</td>\n      <td>0</td>\n      <td>7</td>\n      <td>15</td>\n      <td>0.000000</td>\n      <td>1470.833333</td>\n      <td>15059.5</td>\n      <td>353.333333</td>\n      <td>NaN</td>\n      <td>3072.500000</td>\n      <td>22.500000</td>\n      <td>127.500000</td>\n      <td>0.0</td>\n      <td>4347.500000</td>\n      <td>22</td>\n    </tr>\n  </tbody>\n</table>\n</div>"
     },
     "metadata": {},
     "execution_count": 78
    }
   ],
   "source": [
    "checkpoint_2[sequence[0]].head(n=2)"
   ]
  },
  {
   "cell_type": "markdown",
   "metadata": {},
   "source": [
    "            6.2.4.3 - Calculating Total Amount of Calls"
   ]
  },
  {
   "cell_type": "code",
   "execution_count": 79,
   "metadata": {},
   "outputs": [
    {
     "output_type": "display_data",
     "data": {
      "text/plain": "HBox(children=(FloatProgress(value=0.0, description='Process Progress', max=4095.0, style=ProgressStyle(descri…",
      "application/vnd.jupyter.widget-view+json": {
       "version_major": 2,
       "version_minor": 0,
       "model_id": "1c1e772e72d54bea8d180285f4d536b9"
      }
     },
     "metadata": {}
    },
    {
     "output_type": "stream",
     "name": "stdout",
     "text": "\n"
    }
   ],
   "source": [
    "new_column = [] # creating list for the new column to be appended\n",
    "\n",
    "for idx in tqdm_notebook(checkpoint_2[sequence[0]].index, desc='Process Progress'): # For each row\n",
    "    \n",
    "    total_amount = 0 # total amount of Roadside cost for each Household Key\n",
    "\n",
    "    for c in ['Roadside Member Cost for Year 1', 'Roadside Member Cost for Year 2',\t'Roadside Member Cost for Year 3']: # for each cost of Roadside for each Year\n",
    "\n",
    "        if np.isnan(checkpoint_2[sequence[0]][c][idx]): # checking for nan values existance\n",
    "\n",
    "            checkpoint_2[sequence[0]].at[idx, c] = 0 # replacing them by zero cost\n",
    "                  \n",
    "        total_amount += checkpoint_2[sequence[0]][c][idx] # summing the total amount of roadside cost\n",
    "\n",
    "    new_column.append(total_amount) # appending to list representing the new column to be appended"
   ]
  },
  {
   "cell_type": "code",
   "execution_count": 80,
   "metadata": {},
   "outputs": [],
   "source": [
    "column_name = 'Total Roadside Member Cost' # naming the new column\n",
    "\n",
    "checkpoint_2[sequence[0]][column_name] = new_column # appendding new column"
   ]
  },
  {
   "cell_type": "code",
   "execution_count": 81,
   "metadata": {},
   "outputs": [
    {
     "output_type": "execute_result",
     "data": {
      "text/plain": "               Length Of Residence  Number of Roadside calss for Year 1  \\\nHousehold Key                                                             \n8750                     90.558333                                    8   \n9690                    140.000000                                    0   \n\n               Number of Roadside calss for Year 2  \\\nHousehold Key                                        \n8750                                             4   \n9690                                             7   \n\n               Number of Roadside calss for Year 3  \\\nHousehold Key                                        \n8750                                             7   \n9690                                            15   \n\n               Roadside Member Cost for Year 1  \\\nHousehold Key                                    \n8750                               4623.928571   \n9690                                  0.000000   \n\n               Roadside Member Cost for Year 2  \\\nHousehold Key                                    \n8750                               2522.142857   \n9690                               1470.833333   \n\n               Roadside Member Cost for Year 3  Member Tenure Years  \\\nHousehold Key                                                         \n8750                                    5472.0           289.444444   \n9690                                   15059.5           353.333333   \n\n               Months from Join to Cancel   Basic Cost  Calculated Tow Miles  \\\nHousehold Key                                                                  \n8750                               1577.5  1250.357143             80.142857   \n9690                                  NaN  3072.500000             22.500000   \n\n                Plus Cost  Premier Cost   Total Cost  \\\nHousehold Key                                          \n8750           265.714286           0.0  1516.071429   \n9690           127.500000           0.0  4347.500000   \n\n               Total Number of Roadside Calls  Total Roadside Member Cost  \nHousehold Key                                                              \n8750                                       19                12618.071429  \n9690                                       22                16530.333333  ",
      "text/html": "<div>\n<style scoped>\n    .dataframe tbody tr th:only-of-type {\n        vertical-align: middle;\n    }\n\n    .dataframe tbody tr th {\n        vertical-align: top;\n    }\n\n    .dataframe thead th {\n        text-align: right;\n    }\n</style>\n<table border=\"1\" class=\"dataframe\">\n  <thead>\n    <tr style=\"text-align: right;\">\n      <th></th>\n      <th>Length Of Residence</th>\n      <th>Number of Roadside calss for Year 1</th>\n      <th>Number of Roadside calss for Year 2</th>\n      <th>Number of Roadside calss for Year 3</th>\n      <th>Roadside Member Cost for Year 1</th>\n      <th>Roadside Member Cost for Year 2</th>\n      <th>Roadside Member Cost for Year 3</th>\n      <th>Member Tenure Years</th>\n      <th>Months from Join to Cancel</th>\n      <th>Basic Cost</th>\n      <th>Calculated Tow Miles</th>\n      <th>Plus Cost</th>\n      <th>Premier Cost</th>\n      <th>Total Cost</th>\n      <th>Total Number of Roadside Calls</th>\n      <th>Total Roadside Member Cost</th>\n    </tr>\n    <tr>\n      <th>Household Key</th>\n      <th></th>\n      <th></th>\n      <th></th>\n      <th></th>\n      <th></th>\n      <th></th>\n      <th></th>\n      <th></th>\n      <th></th>\n      <th></th>\n      <th></th>\n      <th></th>\n      <th></th>\n      <th></th>\n      <th></th>\n      <th></th>\n    </tr>\n  </thead>\n  <tbody>\n    <tr>\n      <th>8750</th>\n      <td>90.558333</td>\n      <td>8</td>\n      <td>4</td>\n      <td>7</td>\n      <td>4623.928571</td>\n      <td>2522.142857</td>\n      <td>5472.0</td>\n      <td>289.444444</td>\n      <td>1577.5</td>\n      <td>1250.357143</td>\n      <td>80.142857</td>\n      <td>265.714286</td>\n      <td>0.0</td>\n      <td>1516.071429</td>\n      <td>19</td>\n      <td>12618.071429</td>\n    </tr>\n    <tr>\n      <th>9690</th>\n      <td>140.000000</td>\n      <td>0</td>\n      <td>7</td>\n      <td>15</td>\n      <td>0.000000</td>\n      <td>1470.833333</td>\n      <td>15059.5</td>\n      <td>353.333333</td>\n      <td>NaN</td>\n      <td>3072.500000</td>\n      <td>22.500000</td>\n      <td>127.500000</td>\n      <td>0.0</td>\n      <td>4347.500000</td>\n      <td>22</td>\n      <td>16530.333333</td>\n    </tr>\n  </tbody>\n</table>\n</div>"
     },
     "metadata": {},
     "execution_count": 81
    }
   ],
   "source": [
    "checkpoint_2[sequence[0]].head(n=2)"
   ]
  },
  {
   "cell_type": "markdown",
   "metadata": {},
   "source": [
    "        6.2.5 - Converting Months to Join to Cancel to Years left for subscription to end"
   ]
  },
  {
   "cell_type": "markdown",
   "metadata": {},
   "source": [
    "            6.2.5.1 - Renaming Column"
   ]
  },
  {
   "cell_type": "code",
   "execution_count": 82,
   "metadata": {},
   "outputs": [],
   "source": [
    "checkpoint_2[sequence[0]].rename(columns={'Months from Join to Cancel' : 'Years to Cancelled Status'}, inplace=True) # renaming the column"
   ]
  },
  {
   "cell_type": "markdown",
   "metadata": {},
   "source": [
    "            6.2.5.2 - Converting Months to Years"
   ]
  },
  {
   "cell_type": "code",
   "execution_count": 83,
   "metadata": {},
   "outputs": [
    {
     "output_type": "display_data",
     "data": {
      "text/plain": "HBox(children=(FloatProgress(value=0.0, description='Process Progress', max=4095.0, style=ProgressStyle(descri…",
      "application/vnd.jupyter.widget-view+json": {
       "version_major": 2,
       "version_minor": 0,
       "model_id": "4e58ad453c4e4c5fbaeb69bfc074a8e8"
      }
     },
     "metadata": {}
    },
    {
     "output_type": "stream",
     "name": "stdout",
     "text": "\n"
    }
   ],
   "source": [
    "for idx in tqdm_notebook(checkpoint_2[sequence[0]].index, desc='Process Progress'): # For each row\n",
    "    \n",
    "    if ~np.isnan(checkpoint_2[sequence[0]]['Years to Cancelled Status'][idx]): # if the given Household Key does not have a null value for the given column\n",
    "    \n",
    "        checkpoint_2[sequence[0]].at[idx, 'Years to Cancelled Status'] = round(checkpoint_2[sequence[0]]['Years to Cancelled Status'][idx]/12) # converting months to years"
   ]
  },
  {
   "cell_type": "markdown",
   "metadata": {},
   "source": [
    "            6.2.5.3 - Fill Null Values"
   ]
  },
  {
   "cell_type": "code",
   "execution_count": 84,
   "metadata": {},
   "outputs": [
    {
     "output_type": "display_data",
     "data": {
      "text/plain": "HBox(children=(FloatProgress(value=0.0, description='Process Progress', max=4095.0, style=ProgressStyle(descri…",
      "application/vnd.jupyter.widget-view+json": {
       "version_major": 2,
       "version_minor": 0,
       "model_id": "f057b35798aa4bdd84fffa063d7fe41c"
      }
     },
     "metadata": {}
    },
    {
     "output_type": "stream",
     "name": "stdout",
     "text": "\n"
    }
   ],
   "source": [
    "mean_year = round(checkpoint_2[sequence[0]]['Years to Cancelled Status'].values[~np.isnan(checkpoint_2[sequence[0]]['Years to Cancelled Status'].values)].mean()) # mean year to cancelled status for all Household Keys\n",
    "for idx in tqdm_notebook(checkpoint_2[sequence[0]].index, desc='Process Progress'): # For each row\n",
    "    \n",
    "        if np.isnan(checkpoint_2[sequence[0]]['Years to Cancelled Status'][idx]): # if the given Household Key does not have a null value for the given column\n",
    "\n",
    "            checkpoint_2[sequence[0]].at[idx, 'Years to Cancelled Status'] = mean_year # replacing null values \n",
    "            \n",
    "checkpoint_2[sequence[0]]['Years to Cancelled Status'] = checkpoint_2[sequence[0]]['Years to Cancelled Status'].astype(int) # converting to iterger type"
   ]
  },
  {
   "cell_type": "code",
   "execution_count": 85,
   "metadata": {},
   "outputs": [
    {
     "output_type": "execute_result",
     "data": {
      "text/plain": "               Length Of Residence  Number of Roadside calss for Year 1  \\\nHousehold Key                                                             \n8750                     90.558333                                    8   \n9690                    140.000000                                    0   \n\n               Number of Roadside calss for Year 2  \\\nHousehold Key                                        \n8750                                             4   \n9690                                             7   \n\n               Number of Roadside calss for Year 3  \\\nHousehold Key                                        \n8750                                             7   \n9690                                            15   \n\n               Roadside Member Cost for Year 1  \\\nHousehold Key                                    \n8750                               4623.928571   \n9690                                  0.000000   \n\n               Roadside Member Cost for Year 2  \\\nHousehold Key                                    \n8750                               2522.142857   \n9690                               1470.833333   \n\n               Roadside Member Cost for Year 3  Member Tenure Years  \\\nHousehold Key                                                         \n8750                                    5472.0           289.444444   \n9690                                   15059.5           353.333333   \n\n               Years to Cancelled Status   Basic Cost  Calculated Tow Miles  \\\nHousehold Key                                                                 \n8750                                 131  1250.357143             80.142857   \n9690                                 242  3072.500000             22.500000   \n\n                Plus Cost  Premier Cost   Total Cost  \\\nHousehold Key                                          \n8750           265.714286           0.0  1516.071429   \n9690           127.500000           0.0  4347.500000   \n\n               Total Number of Roadside Calls  Total Roadside Member Cost  \nHousehold Key                                                              \n8750                                       19                12618.071429  \n9690                                       22                16530.333333  ",
      "text/html": "<div>\n<style scoped>\n    .dataframe tbody tr th:only-of-type {\n        vertical-align: middle;\n    }\n\n    .dataframe tbody tr th {\n        vertical-align: top;\n    }\n\n    .dataframe thead th {\n        text-align: right;\n    }\n</style>\n<table border=\"1\" class=\"dataframe\">\n  <thead>\n    <tr style=\"text-align: right;\">\n      <th></th>\n      <th>Length Of Residence</th>\n      <th>Number of Roadside calss for Year 1</th>\n      <th>Number of Roadside calss for Year 2</th>\n      <th>Number of Roadside calss for Year 3</th>\n      <th>Roadside Member Cost for Year 1</th>\n      <th>Roadside Member Cost for Year 2</th>\n      <th>Roadside Member Cost for Year 3</th>\n      <th>Member Tenure Years</th>\n      <th>Years to Cancelled Status</th>\n      <th>Basic Cost</th>\n      <th>Calculated Tow Miles</th>\n      <th>Plus Cost</th>\n      <th>Premier Cost</th>\n      <th>Total Cost</th>\n      <th>Total Number of Roadside Calls</th>\n      <th>Total Roadside Member Cost</th>\n    </tr>\n    <tr>\n      <th>Household Key</th>\n      <th></th>\n      <th></th>\n      <th></th>\n      <th></th>\n      <th></th>\n      <th></th>\n      <th></th>\n      <th></th>\n      <th></th>\n      <th></th>\n      <th></th>\n      <th></th>\n      <th></th>\n      <th></th>\n      <th></th>\n      <th></th>\n    </tr>\n  </thead>\n  <tbody>\n    <tr>\n      <th>8750</th>\n      <td>90.558333</td>\n      <td>8</td>\n      <td>4</td>\n      <td>7</td>\n      <td>4623.928571</td>\n      <td>2522.142857</td>\n      <td>5472.0</td>\n      <td>289.444444</td>\n      <td>131</td>\n      <td>1250.357143</td>\n      <td>80.142857</td>\n      <td>265.714286</td>\n      <td>0.0</td>\n      <td>1516.071429</td>\n      <td>19</td>\n      <td>12618.071429</td>\n    </tr>\n    <tr>\n      <th>9690</th>\n      <td>140.000000</td>\n      <td>0</td>\n      <td>7</td>\n      <td>15</td>\n      <td>0.000000</td>\n      <td>1470.833333</td>\n      <td>15059.5</td>\n      <td>353.333333</td>\n      <td>242</td>\n      <td>3072.500000</td>\n      <td>22.500000</td>\n      <td>127.500000</td>\n      <td>0.0</td>\n      <td>4347.500000</td>\n      <td>22</td>\n      <td>16530.333333</td>\n    </tr>\n  </tbody>\n</table>\n</div>"
     },
     "metadata": {},
     "execution_count": 85
    }
   ],
   "source": [
    "checkpoint_2[sequence[0]].head(n=2)"
   ]
  },
  {
   "cell_type": "markdown",
   "metadata": {},
   "source": [
    "        6.2.6 - Converting Member Tenure Years to integer type"
   ]
  },
  {
   "cell_type": "code",
   "execution_count": 86,
   "metadata": {},
   "outputs": [
    {
     "output_type": "display_data",
     "data": {
      "text/plain": "HBox(children=(FloatProgress(value=0.0, description='Process Progress', max=4095.0, style=ProgressStyle(descri…",
      "application/vnd.jupyter.widget-view+json": {
       "version_major": 2,
       "version_minor": 0,
       "model_id": "01ddf2ea382546e8b2563b3978fbdd6e"
      }
     },
     "metadata": {}
    },
    {
     "output_type": "stream",
     "name": "stdout",
     "text": "\n"
    }
   ],
   "source": [
    "for idx in tqdm_notebook(checkpoint_2[sequence[0]].index, desc='Process Progress'): # For each row\n",
    "    \n",
    "    checkpoint_2[sequence[0]].at[idx, 'Member Tenure Years'] = round(checkpoint_2[sequence[0]]['Member Tenure Years'][idx]) # rounding member tenure year\n",
    "\n",
    "checkpoint_2[sequence[0]]['Member Tenure Years'] = checkpoint_2[sequence[0]]['Member Tenure Years'].astype(int) # converting to iterger type"
   ]
  },
  {
   "cell_type": "code",
   "execution_count": 87,
   "metadata": {},
   "outputs": [
    {
     "output_type": "execute_result",
     "data": {
      "text/plain": "               Length Of Residence  Number of Roadside calss for Year 1  \\\nHousehold Key                                                             \n8750                     90.558333                                    8   \n9690                    140.000000                                    0   \n\n               Number of Roadside calss for Year 2  \\\nHousehold Key                                        \n8750                                             4   \n9690                                             7   \n\n               Number of Roadside calss for Year 3  \\\nHousehold Key                                        \n8750                                             7   \n9690                                            15   \n\n               Roadside Member Cost for Year 1  \\\nHousehold Key                                    \n8750                               4623.928571   \n9690                                  0.000000   \n\n               Roadside Member Cost for Year 2  \\\nHousehold Key                                    \n8750                               2522.142857   \n9690                               1470.833333   \n\n               Roadside Member Cost for Year 3  Member Tenure Years  \\\nHousehold Key                                                         \n8750                                    5472.0                  289   \n9690                                   15059.5                  353   \n\n               Years to Cancelled Status   Basic Cost  Calculated Tow Miles  \\\nHousehold Key                                                                 \n8750                                 131  1250.357143             80.142857   \n9690                                 242  3072.500000             22.500000   \n\n                Plus Cost  Premier Cost   Total Cost  \\\nHousehold Key                                          \n8750           265.714286           0.0  1516.071429   \n9690           127.500000           0.0  4347.500000   \n\n               Total Number of Roadside Calls  Total Roadside Member Cost  \nHousehold Key                                                              \n8750                                       19                12618.071429  \n9690                                       22                16530.333333  ",
      "text/html": "<div>\n<style scoped>\n    .dataframe tbody tr th:only-of-type {\n        vertical-align: middle;\n    }\n\n    .dataframe tbody tr th {\n        vertical-align: top;\n    }\n\n    .dataframe thead th {\n        text-align: right;\n    }\n</style>\n<table border=\"1\" class=\"dataframe\">\n  <thead>\n    <tr style=\"text-align: right;\">\n      <th></th>\n      <th>Length Of Residence</th>\n      <th>Number of Roadside calss for Year 1</th>\n      <th>Number of Roadside calss for Year 2</th>\n      <th>Number of Roadside calss for Year 3</th>\n      <th>Roadside Member Cost for Year 1</th>\n      <th>Roadside Member Cost for Year 2</th>\n      <th>Roadside Member Cost for Year 3</th>\n      <th>Member Tenure Years</th>\n      <th>Years to Cancelled Status</th>\n      <th>Basic Cost</th>\n      <th>Calculated Tow Miles</th>\n      <th>Plus Cost</th>\n      <th>Premier Cost</th>\n      <th>Total Cost</th>\n      <th>Total Number of Roadside Calls</th>\n      <th>Total Roadside Member Cost</th>\n    </tr>\n    <tr>\n      <th>Household Key</th>\n      <th></th>\n      <th></th>\n      <th></th>\n      <th></th>\n      <th></th>\n      <th></th>\n      <th></th>\n      <th></th>\n      <th></th>\n      <th></th>\n      <th></th>\n      <th></th>\n      <th></th>\n      <th></th>\n      <th></th>\n      <th></th>\n    </tr>\n  </thead>\n  <tbody>\n    <tr>\n      <th>8750</th>\n      <td>90.558333</td>\n      <td>8</td>\n      <td>4</td>\n      <td>7</td>\n      <td>4623.928571</td>\n      <td>2522.142857</td>\n      <td>5472.0</td>\n      <td>289</td>\n      <td>131</td>\n      <td>1250.357143</td>\n      <td>80.142857</td>\n      <td>265.714286</td>\n      <td>0.0</td>\n      <td>1516.071429</td>\n      <td>19</td>\n      <td>12618.071429</td>\n    </tr>\n    <tr>\n      <th>9690</th>\n      <td>140.000000</td>\n      <td>0</td>\n      <td>7</td>\n      <td>15</td>\n      <td>0.000000</td>\n      <td>1470.833333</td>\n      <td>15059.5</td>\n      <td>353</td>\n      <td>242</td>\n      <td>3072.500000</td>\n      <td>22.500000</td>\n      <td>127.500000</td>\n      <td>0.0</td>\n      <td>4347.500000</td>\n      <td>22</td>\n      <td>16530.333333</td>\n    </tr>\n  </tbody>\n</table>\n</div>"
     },
     "metadata": {},
     "execution_count": 87
    }
   ],
   "source": [
    "checkpoint_2[sequence[0]].head(n=2)"
   ]
  },
  {
   "cell_type": "markdown",
   "metadata": {},
   "source": [
    "        6.2.7 - Checking rest of the columns"
   ]
  },
  {
   "cell_type": "markdown",
   "metadata": {},
   "source": [
    "        6.2.7.1 - Dealing with the rest of the Null values"
   ]
  },
  {
   "cell_type": "code",
   "execution_count": 88,
   "metadata": {},
   "outputs": [
    {
     "output_type": "display_data",
     "data": {
      "text/plain": "HBox(children=(FloatProgress(value=0.0, description='Process Progress', max=5.0, style=ProgressStyle(descripti…",
      "application/vnd.jupyter.widget-view+json": {
       "version_major": 2,
       "version_minor": 0,
       "model_id": "2951780f48244282b29029d851220253"
      }
     },
     "metadata": {}
    },
    {
     "output_type": "stream",
     "name": "stdout",
     "text": "\n"
    }
   ],
   "source": [
    "for c in tqdm_notebook(checkpoint_2[sequence[0]].isnull().sum().index[checkpoint_2[sequence[0]].isnull().sum() != 0].tolist(), desc='Process Progress'): # for each column where there are still null values to treat\n",
    "    for idx in checkpoint_2[sequence[0]].index: # For each Household ID \n",
    "\n",
    "        if np.isnan(checkpoint_1[sequence[0]][c][idx]): # we check if the previous checkpoint had this null value previously\n",
    "\n",
    "            checkpoint_2[sequence[0]].at[idx, c] = 0 # we replace it for zero because we need to assume that \n",
    "\n",
    "        else:\n",
    "\n",
    "            checkpoint_2[sequence[0]].at[idx, c] = checkpoint_1[sequence[0]][c][idx] # if it's not we replace with the previous value\n"
   ]
  },
  {
   "cell_type": "markdown",
   "metadata": {},
   "source": [
    "plt.figure(figsize=(10,5))\n",
    "\n",
    "sns.barplot(x=checkpoint_2[sequence[0]].isnull().sum().index, y=checkpoint_2[sequence[0]].isnull().sum())\n",
    "plt.xticks(rotation='90')\n",
    "plt.xlabel('Variables', fontsize=10)\n",
    "plt.ylabel('Percentage of missing values', fontsize=10)\n",
    "plt.title('Percentage of missing values for the' + ' ' + sequence[0] + ' ' + 'Dataframe', fontsize=15)"
   ]
  },
  {
   "cell_type": "markdown",
   "metadata": {},
   "source": [
    "    6.3 - Moving to Binary Numericals"
   ]
  },
  {
   "cell_type": "code",
   "execution_count": 89,
   "metadata": {},
   "outputs": [
    {
     "output_type": "execute_result",
     "data": {
      "text/plain": "               Email Available\nHousehold Key                 \n8750                  3.333333\n9690                  8.333333",
      "text/html": "<div>\n<style scoped>\n    .dataframe tbody tr th:only-of-type {\n        vertical-align: middle;\n    }\n\n    .dataframe tbody tr th {\n        vertical-align: top;\n    }\n\n    .dataframe thead th {\n        text-align: right;\n    }\n</style>\n<table border=\"1\" class=\"dataframe\">\n  <thead>\n    <tr style=\"text-align: right;\">\n      <th></th>\n      <th>Email Available</th>\n    </tr>\n    <tr>\n      <th>Household Key</th>\n      <th></th>\n    </tr>\n  </thead>\n  <tbody>\n    <tr>\n      <th>8750</th>\n      <td>3.333333</td>\n    </tr>\n    <tr>\n      <th>9690</th>\n      <td>8.333333</td>\n    </tr>\n  </tbody>\n</table>\n</div>"
     },
     "metadata": {},
     "execution_count": 89
    }
   ],
   "source": [
    "checkpoint_2[sequence[1]].head(n=2)"
   ]
  },
  {
   "cell_type": "markdown",
   "metadata": {},
   "source": [
    "        6.3.1 - Converting Email Available to Binary (1-0) numerical "
   ]
  },
  {
   "cell_type": "code",
   "execution_count": 90,
   "metadata": {},
   "outputs": [
    {
     "output_type": "display_data",
     "data": {
      "text/plain": "HBox(children=(FloatProgress(value=0.0, description='Process Progress', max=4095.0, style=ProgressStyle(descri…",
      "application/vnd.jupyter.widget-view+json": {
       "version_major": 2,
       "version_minor": 0,
       "model_id": "3f9f8433a1b64618b9bdae38321cfdde"
      }
     },
     "metadata": {}
    },
    {
     "output_type": "stream",
     "name": "stdout",
     "text": "\n"
    }
   ],
   "source": [
    "for idx in tqdm_notebook(checkpoint_2[sequence[1]].index, desc='Process Progress'): # For each row\n",
    "    for c in checkpoint_2[sequence[1]].columns:\n",
    "        if checkpoint_2[sequence[1]][c][idx] != 0:\n",
    "            checkpoint_2[sequence[1]].at[idx, c] = 1.0\n",
    "            \n",
    "        else:\n",
    "            checkpoint_2[sequence[1]].at[idx, c] = 0.0\n",
    "            \n",
    "checkpoint_2[sequence[1]]['Email Available'] = checkpoint_2[sequence[1]]['Email Available'].astype(int) # converting to iterger type"
   ]
  },
  {
   "cell_type": "code",
   "execution_count": 91,
   "metadata": {},
   "outputs": [
    {
     "output_type": "execute_result",
     "data": {
      "text/plain": "               Email Available\nHousehold Key                 \n8750                         1\n9690                         1",
      "text/html": "<div>\n<style scoped>\n    .dataframe tbody tr th:only-of-type {\n        vertical-align: middle;\n    }\n\n    .dataframe tbody tr th {\n        vertical-align: top;\n    }\n\n    .dataframe thead th {\n        text-align: right;\n    }\n</style>\n<table border=\"1\" class=\"dataframe\">\n  <thead>\n    <tr style=\"text-align: right;\">\n      <th></th>\n      <th>Email Available</th>\n    </tr>\n    <tr>\n      <th>Household Key</th>\n      <th></th>\n    </tr>\n  </thead>\n  <tbody>\n    <tr>\n      <th>8750</th>\n      <td>1</td>\n    </tr>\n    <tr>\n      <th>9690</th>\n      <td>1</td>\n    </tr>\n  </tbody>\n</table>\n</div>"
     },
     "metadata": {},
     "execution_count": 91
    }
   ],
   "source": [
    "checkpoint_2[sequence[1]].head(n=2)"
   ]
  },
  {
   "cell_type": "markdown",
   "metadata": {},
   "source": [
    "        6.3.2 - Concatenating to Numericals "
   ]
  },
  {
   "cell_type": "code",
   "execution_count": 92,
   "metadata": {},
   "outputs": [],
   "source": [
    "checkpoint_2[sequence[0]]['Email Available'] = checkpoint_2[sequence[1]]['Email Available'].values # concatenate the Email Available column on the numerical column"
   ]
  },
  {
   "cell_type": "markdown",
   "metadata": {},
   "source": [
    "    6.4 - Moving to Dates"
   ]
  },
  {
   "cell_type": "code",
   "execution_count": 93,
   "metadata": {},
   "outputs": [
    {
     "output_type": "execute_result",
     "data": {
      "text/plain": "               Date Of Birth  Active Expiration Date  Join AAA Date\nHousehold Key                                                      \n8750                     NaN             2018.333333    1990.055556\n9690                  1943.5             2020.000000    1983.666667",
      "text/html": "<div>\n<style scoped>\n    .dataframe tbody tr th:only-of-type {\n        vertical-align: middle;\n    }\n\n    .dataframe tbody tr th {\n        vertical-align: top;\n    }\n\n    .dataframe thead th {\n        text-align: right;\n    }\n</style>\n<table border=\"1\" class=\"dataframe\">\n  <thead>\n    <tr style=\"text-align: right;\">\n      <th></th>\n      <th>Date Of Birth</th>\n      <th>Active Expiration Date</th>\n      <th>Join AAA Date</th>\n    </tr>\n    <tr>\n      <th>Household Key</th>\n      <th></th>\n      <th></th>\n      <th></th>\n    </tr>\n  </thead>\n  <tbody>\n    <tr>\n      <th>8750</th>\n      <td>NaN</td>\n      <td>2018.333333</td>\n      <td>1990.055556</td>\n    </tr>\n    <tr>\n      <th>9690</th>\n      <td>1943.5</td>\n      <td>2020.000000</td>\n      <td>1983.666667</td>\n    </tr>\n  </tbody>\n</table>\n</div>"
     },
     "metadata": {},
     "execution_count": 93
    }
   ],
   "source": [
    "checkpoint_2[sequence[2]].head(n=2)"
   ]
  },
  {
   "cell_type": "markdown",
   "metadata": {},
   "source": [
    "        6.4.1 - Checking Null values"
   ]
  },
  {
   "cell_type": "markdown",
   "metadata": {},
   "source": [
    "plt.figure(figsize=(10,5))\n",
    "\n",
    "sns.barplot(x=checkpoint_2[sequence[2]].isnull().sum().index, y=checkpoint_2[sequence[2]].isnull().sum())\n",
    "plt.xticks(rotation='90')\n",
    "plt.xlabel('Variables', fontsize=10)\n",
    "plt.ylabel('Percentage of missing values', fontsize=10)\n",
    "plt.title('Percentage of missing values for the' + ' ' + sequence[0] + ' ' + 'Dataframe', fontsize=15)"
   ]
  },
  {
   "cell_type": "markdown",
   "metadata": {},
   "source": [
    "        6.4.2 - Replacing Null Date of Births to mean of the dataframe "
   ]
  },
  {
   "cell_type": "code",
   "execution_count": 94,
   "metadata": {},
   "outputs": [
    {
     "output_type": "display_data",
     "data": {
      "text/plain": "HBox(children=(FloatProgress(value=0.0, description='Process Progress', max=4095.0, style=ProgressStyle(descri…",
      "application/vnd.jupyter.widget-view+json": {
       "version_major": 2,
       "version_minor": 0,
       "model_id": "bc14ac37a7fa4a2c985b92d6b0cb36fd"
      }
     },
     "metadata": {}
    },
    {
     "output_type": "stream",
     "name": "stdout",
     "text": "\n"
    }
   ],
   "source": [
    "mean_date_birth = round(checkpoint_2[sequence[2]]['Date Of Birth'].values[~np.isnan(checkpoint_2[sequence[2]]['Date Of Birth'].values)].mean()) # mean date of birth for all Household Keys\n",
    "\n",
    "for idx in tqdm_notebook(checkpoint_2[sequence[2]].index, desc='Process Progress'): # For each row\n",
    "    for c in checkpoint_2[sequence[2]].columns: # For all columns on the given dataframe\n",
    "    \n",
    "        if np.isnan(checkpoint_2[sequence[2]][c][idx]): # if the given Household Key has a null value for the given column\n",
    "\n",
    "            checkpoint_2[sequence[2]].at[idx, c] = mean_date_birth # replacing null values\n",
    "\n",
    "        else:\n",
    "\n",
    "            checkpoint_2[sequence[2]].at[idx, c] = round(checkpoint_2[sequence[2]][c][idx]) # rounding the year values"
   ]
  },
  {
   "cell_type": "markdown",
   "metadata": {},
   "source": [
    "            6.4.3 - Converting all columns to iterger and Years number"
   ]
  },
  {
   "cell_type": "code",
   "execution_count": 95,
   "metadata": {},
   "outputs": [
    {
     "output_type": "display_data",
     "data": {
      "text/plain": "HBox(children=(FloatProgress(value=0.0, description='Process Progress', max=4095.0, style=ProgressStyle(descri…",
      "application/vnd.jupyter.widget-view+json": {
       "version_major": 2,
       "version_minor": 0,
       "model_id": "514c30f4208c4055b3596b54ff866c5d"
      }
     },
     "metadata": {}
    },
    {
     "output_type": "stream",
     "name": "stdout",
     "text": "\n"
    }
   ],
   "source": [
    "for idx in tqdm_notebook(checkpoint_2[sequence[2]].index, desc='Process Progress'): # For each row\n",
    "    for c in checkpoint_2[sequence[2]].columns: # For all columns on the given dataframe\n",
    "\n",
    "        checkpoint_2[sequence[2]].at[idx, c] = abs(2020 - checkpoint_2[sequence[2]][c][idx]) # replacing by the number of the year\n",
    "\n",
    "        checkpoint_2[sequence[2]][c] = checkpoint_2[sequence[2]][c].astype(int) # converting to iterger type"
   ]
  },
  {
   "cell_type": "markdown",
   "metadata": {},
   "source": [
    "            6.4.4 - Renaming columns for better identification"
   ]
  },
  {
   "cell_type": "code",
   "execution_count": 96,
   "metadata": {},
   "outputs": [],
   "source": [
    "checkpoint_2[sequence[2]].rename(columns={'Date Of Birth' : 'Age', 'Active Expiration Date': 'Years from most recent Membership Expiration', 'Join AAA Date': 'Years from Join Date'}, inplace=True) # renaming the column"
   ]
  },
  {
   "cell_type": "code",
   "execution_count": 97,
   "metadata": {},
   "outputs": [
    {
     "output_type": "execute_result",
     "data": {
      "text/plain": "               Age  Years from most recent Membership Expiration  \\\nHousehold Key                                                      \n8750            74                                             2   \n9690            76                                             0   \n33380           90                                            11   \n87180           68                                             3   \n115240          50                                             3   \n\n               Years from Join Date  \nHousehold Key                        \n8750                             30  \n9690                             36  \n33380                            38  \n87180                            11  \n115240                           37  ",
      "text/html": "<div>\n<style scoped>\n    .dataframe tbody tr th:only-of-type {\n        vertical-align: middle;\n    }\n\n    .dataframe tbody tr th {\n        vertical-align: top;\n    }\n\n    .dataframe thead th {\n        text-align: right;\n    }\n</style>\n<table border=\"1\" class=\"dataframe\">\n  <thead>\n    <tr style=\"text-align: right;\">\n      <th></th>\n      <th>Age</th>\n      <th>Years from most recent Membership Expiration</th>\n      <th>Years from Join Date</th>\n    </tr>\n    <tr>\n      <th>Household Key</th>\n      <th></th>\n      <th></th>\n      <th></th>\n    </tr>\n  </thead>\n  <tbody>\n    <tr>\n      <th>8750</th>\n      <td>74</td>\n      <td>2</td>\n      <td>30</td>\n    </tr>\n    <tr>\n      <th>9690</th>\n      <td>76</td>\n      <td>0</td>\n      <td>36</td>\n    </tr>\n    <tr>\n      <th>33380</th>\n      <td>90</td>\n      <td>11</td>\n      <td>38</td>\n    </tr>\n    <tr>\n      <th>87180</th>\n      <td>68</td>\n      <td>3</td>\n      <td>11</td>\n    </tr>\n    <tr>\n      <th>115240</th>\n      <td>50</td>\n      <td>3</td>\n      <td>37</td>\n    </tr>\n  </tbody>\n</table>\n</div>"
     },
     "metadata": {},
     "execution_count": 97
    }
   ],
   "source": [
    "checkpoint_2[sequence[2]].head()"
   ]
  },
  {
   "cell_type": "markdown",
   "metadata": {},
   "source": [
    "            6.4.5 - Appending new dataframe to numerical one"
   ]
  },
  {
   "cell_type": "code",
   "execution_count": 98,
   "metadata": {},
   "outputs": [],
   "source": [
    "for c in checkpoint_2[sequence[2]].columns: # For all columns on the given dataframe\n",
    "\n",
    "    checkpoint_2[sequence[0]][c] = checkpoint_2[sequence[2]][c].values # concatenate the columns on the numerical dataframe"
   ]
  },
  {
   "cell_type": "code",
   "execution_count": 99,
   "metadata": {},
   "outputs": [
    {
     "output_type": "execute_result",
     "data": {
      "text/plain": "               Length Of Residence  Number of Roadside calss for Year 1  \\\nHousehold Key                                                             \n8750                     90.558333                                    8   \n9690                    140.000000                                    0   \n33380                    50.000000                                    0   \n87180                   150.000000                                    0   \n115240                  121.000000                                    3   \n\n               Number of Roadside calss for Year 2  \\\nHousehold Key                                        \n8750                                             4   \n9690                                             7   \n33380                                            0   \n87180                                            0   \n115240                                          22   \n\n               Number of Roadside calss for Year 3  \\\nHousehold Key                                        \n8750                                             7   \n9690                                            15   \n33380                                            0   \n87180                                            0   \n115240                                          10   \n\n               Roadside Member Cost for Year 1  \\\nHousehold Key                                    \n8750                               4623.928571   \n9690                                  0.000000   \n33380                                 0.000000   \n87180                                 0.000000   \n115240                             1961.666667   \n\n               Roadside Member Cost for Year 2  \\\nHousehold Key                                    \n8750                               2522.142857   \n9690                               1470.833333   \n33380                                 0.000000   \n87180                                 0.000000   \n115240                            12205.833333   \n\n               Roadside Member Cost for Year 3  Member Tenure Years  \\\nHousehold Key                                                         \n8750                                    5472.0                  289   \n9690                                   15059.5                  353   \n33380                                      0.0                  373   \n87180                                      0.0                  100   \n115240                                   530.0                  363   \n\n               Years to Cancelled Status   Basic Cost  Calculated Tow Miles  \\\nHousehold Key                                                                 \n8750                                 131  1250.357143             80.142857   \n9690                                 242  3072.500000             22.500000   \n33380                                260     0.000000              0.000000   \n87180                                  2     0.000000              0.000000   \n115240                                93  5885.000000             12.000000   \n\n                Plus Cost  Premier Cost   Total Cost  \\\nHousehold Key                                          \n8750           265.714286           0.0  1516.071429   \n9690           127.500000           0.0  4347.500000   \n33380            0.000000           0.0     0.000000   \n87180            0.000000           0.0     0.000000   \n115240           0.000000           0.0  5885.000000   \n\n               Total Number of Roadside Calls  Total Roadside Member Cost  \\\nHousehold Key                                                               \n8750                                       19                12618.071429   \n9690                                       22                16530.333333   \n33380                                       0                    0.000000   \n87180                                       0                    0.000000   \n115240                                     35                14697.500000   \n\n               Email Available  Age  \\\nHousehold Key                         \n8750                         1   74   \n9690                         1   76   \n33380                        0   90   \n87180                        1   68   \n115240                       1   50   \n\n               Years from most recent Membership Expiration  \\\nHousehold Key                                                 \n8750                                                      2   \n9690                                                      0   \n33380                                                    11   \n87180                                                     3   \n115240                                                    3   \n\n               Years from Join Date  \nHousehold Key                        \n8750                             30  \n9690                             36  \n33380                            38  \n87180                            11  \n115240                           37  ",
      "text/html": "<div>\n<style scoped>\n    .dataframe tbody tr th:only-of-type {\n        vertical-align: middle;\n    }\n\n    .dataframe tbody tr th {\n        vertical-align: top;\n    }\n\n    .dataframe thead th {\n        text-align: right;\n    }\n</style>\n<table border=\"1\" class=\"dataframe\">\n  <thead>\n    <tr style=\"text-align: right;\">\n      <th></th>\n      <th>Length Of Residence</th>\n      <th>Number of Roadside calss for Year 1</th>\n      <th>Number of Roadside calss for Year 2</th>\n      <th>Number of Roadside calss for Year 3</th>\n      <th>Roadside Member Cost for Year 1</th>\n      <th>Roadside Member Cost for Year 2</th>\n      <th>Roadside Member Cost for Year 3</th>\n      <th>Member Tenure Years</th>\n      <th>Years to Cancelled Status</th>\n      <th>Basic Cost</th>\n      <th>Calculated Tow Miles</th>\n      <th>Plus Cost</th>\n      <th>Premier Cost</th>\n      <th>Total Cost</th>\n      <th>Total Number of Roadside Calls</th>\n      <th>Total Roadside Member Cost</th>\n      <th>Email Available</th>\n      <th>Age</th>\n      <th>Years from most recent Membership Expiration</th>\n      <th>Years from Join Date</th>\n    </tr>\n    <tr>\n      <th>Household Key</th>\n      <th></th>\n      <th></th>\n      <th></th>\n      <th></th>\n      <th></th>\n      <th></th>\n      <th></th>\n      <th></th>\n      <th></th>\n      <th></th>\n      <th></th>\n      <th></th>\n      <th></th>\n      <th></th>\n      <th></th>\n      <th></th>\n      <th></th>\n      <th></th>\n      <th></th>\n      <th></th>\n    </tr>\n  </thead>\n  <tbody>\n    <tr>\n      <th>8750</th>\n      <td>90.558333</td>\n      <td>8</td>\n      <td>4</td>\n      <td>7</td>\n      <td>4623.928571</td>\n      <td>2522.142857</td>\n      <td>5472.0</td>\n      <td>289</td>\n      <td>131</td>\n      <td>1250.357143</td>\n      <td>80.142857</td>\n      <td>265.714286</td>\n      <td>0.0</td>\n      <td>1516.071429</td>\n      <td>19</td>\n      <td>12618.071429</td>\n      <td>1</td>\n      <td>74</td>\n      <td>2</td>\n      <td>30</td>\n    </tr>\n    <tr>\n      <th>9690</th>\n      <td>140.000000</td>\n      <td>0</td>\n      <td>7</td>\n      <td>15</td>\n      <td>0.000000</td>\n      <td>1470.833333</td>\n      <td>15059.5</td>\n      <td>353</td>\n      <td>242</td>\n      <td>3072.500000</td>\n      <td>22.500000</td>\n      <td>127.500000</td>\n      <td>0.0</td>\n      <td>4347.500000</td>\n      <td>22</td>\n      <td>16530.333333</td>\n      <td>1</td>\n      <td>76</td>\n      <td>0</td>\n      <td>36</td>\n    </tr>\n    <tr>\n      <th>33380</th>\n      <td>50.000000</td>\n      <td>0</td>\n      <td>0</td>\n      <td>0</td>\n      <td>0.000000</td>\n      <td>0.000000</td>\n      <td>0.0</td>\n      <td>373</td>\n      <td>260</td>\n      <td>0.000000</td>\n      <td>0.000000</td>\n      <td>0.000000</td>\n      <td>0.0</td>\n      <td>0.000000</td>\n      <td>0</td>\n      <td>0.000000</td>\n      <td>0</td>\n      <td>90</td>\n      <td>11</td>\n      <td>38</td>\n    </tr>\n    <tr>\n      <th>87180</th>\n      <td>150.000000</td>\n      <td>0</td>\n      <td>0</td>\n      <td>0</td>\n      <td>0.000000</td>\n      <td>0.000000</td>\n      <td>0.0</td>\n      <td>100</td>\n      <td>2</td>\n      <td>0.000000</td>\n      <td>0.000000</td>\n      <td>0.000000</td>\n      <td>0.0</td>\n      <td>0.000000</td>\n      <td>0</td>\n      <td>0.000000</td>\n      <td>1</td>\n      <td>68</td>\n      <td>3</td>\n      <td>11</td>\n    </tr>\n    <tr>\n      <th>115240</th>\n      <td>121.000000</td>\n      <td>3</td>\n      <td>22</td>\n      <td>10</td>\n      <td>1961.666667</td>\n      <td>12205.833333</td>\n      <td>530.0</td>\n      <td>363</td>\n      <td>93</td>\n      <td>5885.000000</td>\n      <td>12.000000</td>\n      <td>0.000000</td>\n      <td>0.0</td>\n      <td>5885.000000</td>\n      <td>35</td>\n      <td>14697.500000</td>\n      <td>1</td>\n      <td>50</td>\n      <td>3</td>\n      <td>37</td>\n    </tr>\n  </tbody>\n</table>\n</div>"
     },
     "metadata": {},
     "execution_count": 99
    }
   ],
   "source": [
    "checkpoint_2[sequence[0]].head()"
   ]
  },
  {
   "cell_type": "markdown",
   "metadata": {},
   "source": [
    "    6.5 - Moving to Binary Categoricals"
   ]
  },
  {
   "cell_type": "code",
   "execution_count": 100,
   "metadata": {},
   "outputs": [
    {
     "output_type": "execute_result",
     "data": {
      "text/plain": "          Purchased Product 1 Purchased Product 2 Purchased Product 3  \\\n45007910                    N                   Y                   N   \n116229910                   N                   N                   N   \n5798100                     N                   N                   N   \n71870170                    N                   N                   N   \n77280880                    N                   N                   N   \n\n          Purchased Product 4 Purchased Product 5 Purchased Product 6  \\\n45007910                    N                   N                   N   \n116229910                   N                   N                   N   \n5798100                     N                   N                   N   \n71870170                    N                   N                   N   \n77280880                    N                   N                   N   \n\n          Purchased Product 7 Purchased Product 8 Mail Responder  Home Owner  \\\n45007910                    N                   N            Yes  Home Owner   \n116229910                   N                   N            Yes  Home Owner   \n5798100                     Y                   N            Yes  Home Owner   \n71870170                    N                   N            Yes  Home Owner   \n77280880                    N                   N            Yes  Home Owner   \n\n          Opt-Out - Publication Cash Call Fleet Indicator  \n45007910                 Opt-In         N               N  \n116229910                Opt-In         N               Y  \n5798100                  Opt-In         N               N  \n71870170                 Opt-In         N               Y  \n77280880                 Opt-In         N               Y  ",
      "text/html": "<div>\n<style scoped>\n    .dataframe tbody tr th:only-of-type {\n        vertical-align: middle;\n    }\n\n    .dataframe tbody tr th {\n        vertical-align: top;\n    }\n\n    .dataframe thead th {\n        text-align: right;\n    }\n</style>\n<table border=\"1\" class=\"dataframe\">\n  <thead>\n    <tr style=\"text-align: right;\">\n      <th></th>\n      <th>Purchased Product 1</th>\n      <th>Purchased Product 2</th>\n      <th>Purchased Product 3</th>\n      <th>Purchased Product 4</th>\n      <th>Purchased Product 5</th>\n      <th>Purchased Product 6</th>\n      <th>Purchased Product 7</th>\n      <th>Purchased Product 8</th>\n      <th>Mail Responder</th>\n      <th>Home Owner</th>\n      <th>Opt-Out - Publication</th>\n      <th>Cash Call</th>\n      <th>Fleet Indicator</th>\n    </tr>\n  </thead>\n  <tbody>\n    <tr>\n      <th>45007910</th>\n      <td>N</td>\n      <td>Y</td>\n      <td>N</td>\n      <td>N</td>\n      <td>N</td>\n      <td>N</td>\n      <td>N</td>\n      <td>N</td>\n      <td>Yes</td>\n      <td>Home Owner</td>\n      <td>Opt-In</td>\n      <td>N</td>\n      <td>N</td>\n    </tr>\n    <tr>\n      <th>116229910</th>\n      <td>N</td>\n      <td>N</td>\n      <td>N</td>\n      <td>N</td>\n      <td>N</td>\n      <td>N</td>\n      <td>N</td>\n      <td>N</td>\n      <td>Yes</td>\n      <td>Home Owner</td>\n      <td>Opt-In</td>\n      <td>N</td>\n      <td>Y</td>\n    </tr>\n    <tr>\n      <th>5798100</th>\n      <td>N</td>\n      <td>N</td>\n      <td>N</td>\n      <td>N</td>\n      <td>N</td>\n      <td>N</td>\n      <td>Y</td>\n      <td>N</td>\n      <td>Yes</td>\n      <td>Home Owner</td>\n      <td>Opt-In</td>\n      <td>N</td>\n      <td>N</td>\n    </tr>\n    <tr>\n      <th>71870170</th>\n      <td>N</td>\n      <td>N</td>\n      <td>N</td>\n      <td>N</td>\n      <td>N</td>\n      <td>N</td>\n      <td>N</td>\n      <td>N</td>\n      <td>Yes</td>\n      <td>Home Owner</td>\n      <td>Opt-In</td>\n      <td>N</td>\n      <td>Y</td>\n    </tr>\n    <tr>\n      <th>77280880</th>\n      <td>N</td>\n      <td>N</td>\n      <td>N</td>\n      <td>N</td>\n      <td>N</td>\n      <td>N</td>\n      <td>N</td>\n      <td>N</td>\n      <td>Yes</td>\n      <td>Home Owner</td>\n      <td>Opt-In</td>\n      <td>N</td>\n      <td>Y</td>\n    </tr>\n  </tbody>\n</table>\n</div>"
     },
     "metadata": {},
     "execution_count": 100
    }
   ],
   "source": [
    "checkpoint_2[sequence[3]].head()"
   ]
  },
  {
   "cell_type": "markdown",
   "metadata": {},
   "source": [
    "        6.5.1 - Checking Null values"
   ]
  },
  {
   "cell_type": "markdown",
   "metadata": {},
   "source": [
    "plt.figure(figsize=(10,5))\n",
    "\n",
    "sns.barplot(x=checkpoint_2[sequence[3]].isnull().sum().index, y=checkpoint_2[sequence[3]].isnull().sum())\n",
    "plt.xticks(rotation='90')\n",
    "plt.xlabel('Variables', fontsize=10)\n",
    "plt.ylabel('Percentage of missing values', fontsize=10)\n",
    "plt.title('Percentage of missing values for the' + ' ' + sequence[3] + ' ' + 'Dataframe', fontsize=15)"
   ]
  },
  {
   "cell_type": "markdown",
   "metadata": {},
   "source": [
    "        6.5.2 - Product Columns and creating column of total purchased itens"
   ]
  },
  {
   "cell_type": "code",
   "execution_count": 101,
   "metadata": {},
   "outputs": [],
   "source": [
    "prod_cols = ['Purchased Product 1',\t'Purchased Product 2',\t'Purchased Product 3',\t'Purchased Product 4',\t'Purchased Product 5',\t'Purchased Product 6',\t'Purchased Product 7',\t'Purchased Product 8'] # column IDs\n",
    "\n",
    "checkpoint_2[sequence[3]]['Total Number of Purchased Products'] = 0 # total number of purchased products columns\n",
    "\n",
    "checkpoint_2[sequence[3]]['Household Purchased Product'] = 0 # flag whether the given Household Key has bought a product on the last 3 years"
   ]
  },
  {
   "cell_type": "markdown",
   "metadata": {},
   "source": [
    "        6.5.3 - Mail Option Information"
   ]
  },
  {
   "cell_type": "code",
   "execution_count": 102,
   "metadata": {},
   "outputs": [],
   "source": [
    "mail_var = ['Mail Responder', 'Opt-Out - Publication'] # mail columns\n",
    "\n",
    "checkpoint_2[sequence[3]]['Email Correspondent'] = 0 # new mail information column"
   ]
  },
  {
   "cell_type": "markdown",
   "metadata": {},
   "source": [
    "        6.5.4 - Creating Columns for Home information"
   ]
  },
  {
   "cell_type": "code",
   "execution_count": 103,
   "metadata": {},
   "outputs": [],
   "source": [
    "checkpoint_2[sequence[3]]['Home Renter'] = 0 # Household rents a home\n",
    "\n",
    "checkpoint_2[sequence[3]]['No Home Ownership Info'] = 0 # no info about it"
   ]
  },
  {
   "cell_type": "markdown",
   "metadata": {},
   "source": [
    "        6.5.5 - Converting categoricals to numericals"
   ]
  },
  {
   "cell_type": "code",
   "execution_count": 104,
   "metadata": {},
   "outputs": [
    {
     "output_type": "display_data",
     "data": {
      "text/plain": "HBox(children=(FloatProgress(value=0.0, description='Process Progress', max=4095.0, style=ProgressStyle(descri…",
      "application/vnd.jupyter.widget-view+json": {
       "version_major": 2,
       "version_minor": 0,
       "model_id": "260862dd8516400c943b083af70a718c"
      }
     },
     "metadata": {}
    },
    {
     "output_type": "stream",
     "name": "stdout",
     "text": "\n"
    }
   ],
   "source": [
    "for idx in tqdm_notebook(checkpoint_2[sequence[3]].index, desc='Process Progress'): # For each row\n",
    "    for c in checkpoint_2[sequence[3]].columns: # For all columns on the given dataframe\n",
    "\n",
    "        possible_values = list(Counter(checkpoint_2[sequence[3]][c].values).keys()) # list of possible values for the given column\n",
    "\n",
    "        if ('N' in possible_values) or ('Y' in possible_values) or ('NY' in possible_values): # if any possible 'Y', 'N', or 'NY' (sum of both possible mode answers) is on the given column\n",
    "\n",
    "            if (checkpoint_2[sequence[3]][c][idx] == 'N'): # if the given Household Key has a null value or 'N' for the given column\n",
    "\n",
    "                checkpoint_2[sequence[3]].at[idx, c] = 0 # we replace it by zero\n",
    "\n",
    "            else:\n",
    "\n",
    "                checkpoint_2[sequence[3]].at[idx, c] = 1 # we replace it by zero\n",
    "\n",
    "        elif ('Yes' in possible_values) or ('No' in possible_values) or ('NoYes' in possible_values) or ('Opt-In' in possible_values) or ('Opt-Out' in possible_values): # if any possible 'Yes', 'No', 'NoYes', 'Opt-In', or 'Opt-Out' is on the given column --> in this case we have entered in the Mail Responder column or Opt-Out - Publication\n",
    "\n",
    "            if (checkpoint_2[sequence[3]][c][idx] == 'Yes') or (checkpoint_2[sequence[3]][c][idx] == 'NoYes') or (checkpoint_2[sequence[3]][c][idx] == 'Opt-In'):\n",
    "\n",
    "                checkpoint_2[sequence[3]].at[idx, c] = 1\n",
    "\n",
    "                checkpoint_2[sequence[3]].at[idx, 'Email Correspondent'] = 1\n",
    "\n",
    "            else:\n",
    "\n",
    "                if pd.isnull(checkpoint_2[sequence[3]][c][idx]): # if the given Household Key has a null value for the Mail Responder column\n",
    "\n",
    "                    checkpoint_2[sequence[3]].at[idx, c] = checkpoint_2[sequence[0]]['Email Available'][idx] # we resort to the Email Available column to predict the null value for the given Household Key\n",
    "\n",
    "                else:\n",
    "                    \n",
    "                    checkpoint_2[sequence[3]].at[idx, c] = 0\n",
    "\n",
    "        elif ('Home Owner' in possible_values) or ('Probable Home Owner' in possible_values) or ('Probable Renter' in possible_values) or ('Renter' in possible_values): # if any possible 'Home Owner', 'Probable Home Owner', 'Probable Renter', or 'Renter' (sum of both possible mode answers) is on the given column --> in this case we have entered in the Mail Responder column\n",
    "\n",
    "            if (checkpoint_2[sequence[3]][c][idx] == 'Home Owner') or (checkpoint_2[sequence[3]][c][idx] == 'Probable Home Owner'):\n",
    "\n",
    "                checkpoint_2[sequence[3]].at[idx, c] = 1\n",
    "\n",
    "            else:\n",
    "\n",
    "                if pd.isnull(checkpoint_2[sequence[3]][c][idx]): # if the given Household Key has a null value for the Mail Responder column\n",
    "\n",
    "                    checkpoint_2[sequence[3]].at[idx, 'No Home Ownership Info'] = 1\n",
    "\n",
    "                    checkpoint_2[sequence[3]].at[idx, c] = 0\n",
    "\n",
    "                else:\n",
    "                    \n",
    "                    checkpoint_2[sequence[3]].at[idx, c] = 0\n",
    "\n",
    "                    checkpoint_2[sequence[3]].at[idx, 'Home Renter'] = 1"
   ]
  },
  {
   "cell_type": "code",
   "execution_count": 105,
   "metadata": {},
   "outputs": [],
   "source": [
    "for c in checkpoint_2[sequence[3]].columns: # For all columns on the given dataframe\n",
    "\n",
    "    checkpoint_2[sequence[3]][c] = checkpoint_2[sequence[3]][c].astype(int) # converting to iterger type"
   ]
  },
  {
   "cell_type": "markdown",
   "metadata": {},
   "source": [
    "        6.5.6 - Filling Total Number of Purchased Products"
   ]
  },
  {
   "cell_type": "code",
   "execution_count": 106,
   "metadata": {},
   "outputs": [
    {
     "output_type": "display_data",
     "data": {
      "text/plain": "HBox(children=(FloatProgress(value=0.0, description='Process Progress', max=4095.0, style=ProgressStyle(descri…",
      "application/vnd.jupyter.widget-view+json": {
       "version_major": 2,
       "version_minor": 0,
       "model_id": "7d7f5e149bdc476896e6550f9a79731e"
      }
     },
     "metadata": {}
    },
    {
     "output_type": "stream",
     "name": "stdout",
     "text": "\n"
    }
   ],
   "source": [
    "new_values = []\n",
    "\n",
    "for idx in tqdm_notebook(checkpoint_2[sequence[3]].index, desc='Process Progress'): # For each row\n",
    "    \n",
    "    total_amount = 0 # total amount of products bought in each row\n",
    "\n",
    "    for c in prod_cols: # In each Purchased Product Column\n",
    "\n",
    "        if checkpoint_2[sequence[3]][c][idx] == 1:\n",
    "\n",
    "            checkpoint_2[sequence[3]].at[idx, 'Household Purchased Product'] = 1\n",
    "\n",
    "            total_amount = total_amount + 1\n",
    "\n",
    "    new_values.append(total_amount)\n",
    "\n",
    "checkpoint_2[sequence[3]]['Total Number of Purchased Products'] = new_values"
   ]
  },
  {
   "cell_type": "markdown",
   "metadata": {},
   "source": [
    "        6.5.7 - Appending columns to numerical one"
   ]
  },
  {
   "cell_type": "code",
   "execution_count": 107,
   "metadata": {},
   "outputs": [],
   "source": [
    "for c in checkpoint_2[sequence[3]].columns: # For all columns on the given dataframe\n",
    "\n",
    "    checkpoint_2[sequence[0]][c] = checkpoint_2[sequence[3]][c].values # concatenate the columns on the numerical dataframe"
   ]
  },
  {
   "cell_type": "code",
   "execution_count": 108,
   "metadata": {},
   "outputs": [
    {
     "output_type": "execute_result",
     "data": {
      "text/plain": "               Length Of Residence  Number of Roadside calss for Year 1  \\\nHousehold Key                                                             \n8750                     90.558333                                    8   \n9690                    140.000000                                    0   \n33380                    50.000000                                    0   \n87180                   150.000000                                    0   \n115240                  121.000000                                    3   \n\n               Number of Roadside calss for Year 2  \\\nHousehold Key                                        \n8750                                             4   \n9690                                             7   \n33380                                            0   \n87180                                            0   \n115240                                          22   \n\n               Number of Roadside calss for Year 3  \\\nHousehold Key                                        \n8750                                             7   \n9690                                            15   \n33380                                            0   \n87180                                            0   \n115240                                          10   \n\n               Roadside Member Cost for Year 1  \\\nHousehold Key                                    \n8750                               4623.928571   \n9690                                  0.000000   \n33380                                 0.000000   \n87180                                 0.000000   \n115240                             1961.666667   \n\n               Roadside Member Cost for Year 2  \\\nHousehold Key                                    \n8750                               2522.142857   \n9690                               1470.833333   \n33380                                 0.000000   \n87180                                 0.000000   \n115240                            12205.833333   \n\n               Roadside Member Cost for Year 3  Member Tenure Years  \\\nHousehold Key                                                         \n8750                                    5472.0                  289   \n9690                                   15059.5                  353   \n33380                                      0.0                  373   \n87180                                      0.0                  100   \n115240                                   530.0                  363   \n\n               Years to Cancelled Status   Basic Cost  Calculated Tow Miles  \\\nHousehold Key                                                                 \n8750                                 131  1250.357143             80.142857   \n9690                                 242  3072.500000             22.500000   \n33380                                260     0.000000              0.000000   \n87180                                  2     0.000000              0.000000   \n115240                                93  5885.000000             12.000000   \n\n                Plus Cost  Premier Cost   Total Cost  \\\nHousehold Key                                          \n8750           265.714286           0.0  1516.071429   \n9690           127.500000           0.0  4347.500000   \n33380            0.000000           0.0     0.000000   \n87180            0.000000           0.0     0.000000   \n115240           0.000000           0.0  5885.000000   \n\n               Total Number of Roadside Calls  Total Roadside Member Cost  \\\nHousehold Key                                                               \n8750                                       19                12618.071429   \n9690                                       22                16530.333333   \n33380                                       0                    0.000000   \n87180                                       0                    0.000000   \n115240                                     35                14697.500000   \n\n               Email Available  Age  \\\nHousehold Key                         \n8750                         1   74   \n9690                         1   76   \n33380                        0   90   \n87180                        1   68   \n115240                       1   50   \n\n               Years from most recent Membership Expiration  \\\nHousehold Key                                                 \n8750                                                      2   \n9690                                                      0   \n33380                                                    11   \n87180                                                     3   \n115240                                                    3   \n\n               Years from Join Date  Purchased Product 1  Purchased Product 2  \\\nHousehold Key                                                                   \n8750                             30                    0                    1   \n9690                             36                    0                    0   \n33380                            38                    0                    0   \n87180                            11                    0                    0   \n115240                           37                    0                    0   \n\n               Purchased Product 3  Purchased Product 4  Purchased Product 5  \\\nHousehold Key                                                                  \n8750                             0                    0                    0   \n9690                             0                    0                    0   \n33380                            0                    0                    0   \n87180                            0                    0                    0   \n115240                           0                    0                    0   \n\n               Purchased Product 6  Purchased Product 7  Purchased Product 8  \\\nHousehold Key                                                                  \n8750                             0                    0                    0   \n9690                             0                    0                    0   \n33380                            0                    1                    0   \n87180                            0                    0                    0   \n115240                           0                    0                    0   \n\n               Mail Responder  Home Owner  Opt-Out - Publication  Cash Call  \\\nHousehold Key                                                                 \n8750                        1           1                      1          0   \n9690                        1           1                      1          0   \n33380                       1           1                      1          0   \n87180                       1           1                      1          0   \n115240                      1           1                      1          0   \n\n               Fleet Indicator  Total Number of Purchased Products  \\\nHousehold Key                                                        \n8750                         0                                   1   \n9690                         1                                   0   \n33380                        0                                   1   \n87180                        1                                   0   \n115240                       1                                   0   \n\n               Household Purchased Product  Email Correspondent  Home Renter  \\\nHousehold Key                                                                  \n8750                                     1                    1            0   \n9690                                     0                    1            0   \n33380                                    1                    1            0   \n87180                                    0                    1            0   \n115240                                   0                    1            0   \n\n               No Home Ownership Info  \nHousehold Key                          \n8750                                0  \n9690                                0  \n33380                               0  \n87180                               0  \n115240                              0  ",
      "text/html": "<div>\n<style scoped>\n    .dataframe tbody tr th:only-of-type {\n        vertical-align: middle;\n    }\n\n    .dataframe tbody tr th {\n        vertical-align: top;\n    }\n\n    .dataframe thead th {\n        text-align: right;\n    }\n</style>\n<table border=\"1\" class=\"dataframe\">\n  <thead>\n    <tr style=\"text-align: right;\">\n      <th></th>\n      <th>Length Of Residence</th>\n      <th>Number of Roadside calss for Year 1</th>\n      <th>Number of Roadside calss for Year 2</th>\n      <th>Number of Roadside calss for Year 3</th>\n      <th>Roadside Member Cost for Year 1</th>\n      <th>Roadside Member Cost for Year 2</th>\n      <th>Roadside Member Cost for Year 3</th>\n      <th>Member Tenure Years</th>\n      <th>Years to Cancelled Status</th>\n      <th>Basic Cost</th>\n      <th>Calculated Tow Miles</th>\n      <th>Plus Cost</th>\n      <th>Premier Cost</th>\n      <th>Total Cost</th>\n      <th>Total Number of Roadside Calls</th>\n      <th>Total Roadside Member Cost</th>\n      <th>Email Available</th>\n      <th>Age</th>\n      <th>Years from most recent Membership Expiration</th>\n      <th>Years from Join Date</th>\n      <th>Purchased Product 1</th>\n      <th>Purchased Product 2</th>\n      <th>Purchased Product 3</th>\n      <th>Purchased Product 4</th>\n      <th>Purchased Product 5</th>\n      <th>Purchased Product 6</th>\n      <th>Purchased Product 7</th>\n      <th>Purchased Product 8</th>\n      <th>Mail Responder</th>\n      <th>Home Owner</th>\n      <th>Opt-Out - Publication</th>\n      <th>Cash Call</th>\n      <th>Fleet Indicator</th>\n      <th>Total Number of Purchased Products</th>\n      <th>Household Purchased Product</th>\n      <th>Email Correspondent</th>\n      <th>Home Renter</th>\n      <th>No Home Ownership Info</th>\n    </tr>\n    <tr>\n      <th>Household Key</th>\n      <th></th>\n      <th></th>\n      <th></th>\n      <th></th>\n      <th></th>\n      <th></th>\n      <th></th>\n      <th></th>\n      <th></th>\n      <th></th>\n      <th></th>\n      <th></th>\n      <th></th>\n      <th></th>\n      <th></th>\n      <th></th>\n      <th></th>\n      <th></th>\n      <th></th>\n      <th></th>\n      <th></th>\n      <th></th>\n      <th></th>\n      <th></th>\n      <th></th>\n      <th></th>\n      <th></th>\n      <th></th>\n      <th></th>\n      <th></th>\n      <th></th>\n      <th></th>\n      <th></th>\n      <th></th>\n      <th></th>\n      <th></th>\n      <th></th>\n      <th></th>\n    </tr>\n  </thead>\n  <tbody>\n    <tr>\n      <th>8750</th>\n      <td>90.558333</td>\n      <td>8</td>\n      <td>4</td>\n      <td>7</td>\n      <td>4623.928571</td>\n      <td>2522.142857</td>\n      <td>5472.0</td>\n      <td>289</td>\n      <td>131</td>\n      <td>1250.357143</td>\n      <td>80.142857</td>\n      <td>265.714286</td>\n      <td>0.0</td>\n      <td>1516.071429</td>\n      <td>19</td>\n      <td>12618.071429</td>\n      <td>1</td>\n      <td>74</td>\n      <td>2</td>\n      <td>30</td>\n      <td>0</td>\n      <td>1</td>\n      <td>0</td>\n      <td>0</td>\n      <td>0</td>\n      <td>0</td>\n      <td>0</td>\n      <td>0</td>\n      <td>1</td>\n      <td>1</td>\n      <td>1</td>\n      <td>0</td>\n      <td>0</td>\n      <td>1</td>\n      <td>1</td>\n      <td>1</td>\n      <td>0</td>\n      <td>0</td>\n    </tr>\n    <tr>\n      <th>9690</th>\n      <td>140.000000</td>\n      <td>0</td>\n      <td>7</td>\n      <td>15</td>\n      <td>0.000000</td>\n      <td>1470.833333</td>\n      <td>15059.5</td>\n      <td>353</td>\n      <td>242</td>\n      <td>3072.500000</td>\n      <td>22.500000</td>\n      <td>127.500000</td>\n      <td>0.0</td>\n      <td>4347.500000</td>\n      <td>22</td>\n      <td>16530.333333</td>\n      <td>1</td>\n      <td>76</td>\n      <td>0</td>\n      <td>36</td>\n      <td>0</td>\n      <td>0</td>\n      <td>0</td>\n      <td>0</td>\n      <td>0</td>\n      <td>0</td>\n      <td>0</td>\n      <td>0</td>\n      <td>1</td>\n      <td>1</td>\n      <td>1</td>\n      <td>0</td>\n      <td>1</td>\n      <td>0</td>\n      <td>0</td>\n      <td>1</td>\n      <td>0</td>\n      <td>0</td>\n    </tr>\n    <tr>\n      <th>33380</th>\n      <td>50.000000</td>\n      <td>0</td>\n      <td>0</td>\n      <td>0</td>\n      <td>0.000000</td>\n      <td>0.000000</td>\n      <td>0.0</td>\n      <td>373</td>\n      <td>260</td>\n      <td>0.000000</td>\n      <td>0.000000</td>\n      <td>0.000000</td>\n      <td>0.0</td>\n      <td>0.000000</td>\n      <td>0</td>\n      <td>0.000000</td>\n      <td>0</td>\n      <td>90</td>\n      <td>11</td>\n      <td>38</td>\n      <td>0</td>\n      <td>0</td>\n      <td>0</td>\n      <td>0</td>\n      <td>0</td>\n      <td>0</td>\n      <td>1</td>\n      <td>0</td>\n      <td>1</td>\n      <td>1</td>\n      <td>1</td>\n      <td>0</td>\n      <td>0</td>\n      <td>1</td>\n      <td>1</td>\n      <td>1</td>\n      <td>0</td>\n      <td>0</td>\n    </tr>\n    <tr>\n      <th>87180</th>\n      <td>150.000000</td>\n      <td>0</td>\n      <td>0</td>\n      <td>0</td>\n      <td>0.000000</td>\n      <td>0.000000</td>\n      <td>0.0</td>\n      <td>100</td>\n      <td>2</td>\n      <td>0.000000</td>\n      <td>0.000000</td>\n      <td>0.000000</td>\n      <td>0.0</td>\n      <td>0.000000</td>\n      <td>0</td>\n      <td>0.000000</td>\n      <td>1</td>\n      <td>68</td>\n      <td>3</td>\n      <td>11</td>\n      <td>0</td>\n      <td>0</td>\n      <td>0</td>\n      <td>0</td>\n      <td>0</td>\n      <td>0</td>\n      <td>0</td>\n      <td>0</td>\n      <td>1</td>\n      <td>1</td>\n      <td>1</td>\n      <td>0</td>\n      <td>1</td>\n      <td>0</td>\n      <td>0</td>\n      <td>1</td>\n      <td>0</td>\n      <td>0</td>\n    </tr>\n    <tr>\n      <th>115240</th>\n      <td>121.000000</td>\n      <td>3</td>\n      <td>22</td>\n      <td>10</td>\n      <td>1961.666667</td>\n      <td>12205.833333</td>\n      <td>530.0</td>\n      <td>363</td>\n      <td>93</td>\n      <td>5885.000000</td>\n      <td>12.000000</td>\n      <td>0.000000</td>\n      <td>0.0</td>\n      <td>5885.000000</td>\n      <td>35</td>\n      <td>14697.500000</td>\n      <td>1</td>\n      <td>50</td>\n      <td>3</td>\n      <td>37</td>\n      <td>0</td>\n      <td>0</td>\n      <td>0</td>\n      <td>0</td>\n      <td>0</td>\n      <td>0</td>\n      <td>0</td>\n      <td>0</td>\n      <td>1</td>\n      <td>1</td>\n      <td>1</td>\n      <td>0</td>\n      <td>1</td>\n      <td>0</td>\n      <td>0</td>\n      <td>1</td>\n      <td>0</td>\n      <td>0</td>\n    </tr>\n  </tbody>\n</table>\n</div>"
     },
     "metadata": {},
     "execution_count": 108
    }
   ],
   "source": [
    "checkpoint_2[sequence[0]].head()"
   ]
  },
  {
   "cell_type": "markdown",
   "metadata": {},
   "source": [
    "    6.6 - Finally, moving to String Data"
   ]
  },
  {
   "cell_type": "code",
   "execution_count": 109,
   "metadata": {},
   "outputs": [
    {
     "output_type": "execute_result",
     "data": {
      "text/plain": "                    City           Number of Children       Income  \\\n45007910    WEST WARWICK                    One Child    30-39,999   \n116229910        WARWICK                  No children    50-59,999   \n5798100    CENTRAL FALLS                  No children    50-59,999   \n71870170         WARWICK                    One Child  100-149,999   \n77280880      BARRINGTON  Four ChildrenThree Children  100-149,999   \n\n              Education Credit Ranges Member Status Renew Method  \\\n45007910   Some College       600-649        ACTIVE   AUTO RENEW   \n116229910       Unknown       750-799        ACTIVE   AUTO RENEW   \n5798100    Some College       650-699        ACTIVE       NOTICE   \n71870170        Unknown       650-699       PENDING       NOTICE   \n77280880        Unknown   750-799800+        ACTIVE       NOTICE   \n\n          Motorcycle Indicator Plus Indicator Description  \\\n45007910                     N           Basic Membership   \n116229910                    N           Basic Membership   \n5798100                      N           Basic Membership   \n71870170                     N           Basic Membership   \n77280880                     N           Basic Membership   \n\n          Prob1 Code Description SC Call Club Code Description  \\\n45007910         Battery Service                 AAA Northeast   \n116229910              Flat Tire                 AAA Northeast   \n5798100                  Lockout                 AAA Northeast   \n71870170              Jump Start                 AAA Northeast   \n77280880    ExtricationFlat Tire                 AAA Northeast   \n\n          SC Vehicle Manufacturer Name  \n45007910                        TOYOTA  \n116229910                       SUBARU  \n5798100                       INFINITI  \n71870170                    VOLKSWAGEN  \n77280880                         LEXUS  ",
      "text/html": "<div>\n<style scoped>\n    .dataframe tbody tr th:only-of-type {\n        vertical-align: middle;\n    }\n\n    .dataframe tbody tr th {\n        vertical-align: top;\n    }\n\n    .dataframe thead th {\n        text-align: right;\n    }\n</style>\n<table border=\"1\" class=\"dataframe\">\n  <thead>\n    <tr style=\"text-align: right;\">\n      <th></th>\n      <th>City</th>\n      <th>Number of Children</th>\n      <th>Income</th>\n      <th>Education</th>\n      <th>Credit Ranges</th>\n      <th>Member Status</th>\n      <th>Renew Method</th>\n      <th>Motorcycle Indicator</th>\n      <th>Plus Indicator Description</th>\n      <th>Prob1 Code Description</th>\n      <th>SC Call Club Code Description</th>\n      <th>SC Vehicle Manufacturer Name</th>\n    </tr>\n  </thead>\n  <tbody>\n    <tr>\n      <th>45007910</th>\n      <td>WEST WARWICK</td>\n      <td>One Child</td>\n      <td>30-39,999</td>\n      <td>Some College</td>\n      <td>600-649</td>\n      <td>ACTIVE</td>\n      <td>AUTO RENEW</td>\n      <td>N</td>\n      <td>Basic Membership</td>\n      <td>Battery Service</td>\n      <td>AAA Northeast</td>\n      <td>TOYOTA</td>\n    </tr>\n    <tr>\n      <th>116229910</th>\n      <td>WARWICK</td>\n      <td>No children</td>\n      <td>50-59,999</td>\n      <td>Unknown</td>\n      <td>750-799</td>\n      <td>ACTIVE</td>\n      <td>AUTO RENEW</td>\n      <td>N</td>\n      <td>Basic Membership</td>\n      <td>Flat Tire</td>\n      <td>AAA Northeast</td>\n      <td>SUBARU</td>\n    </tr>\n    <tr>\n      <th>5798100</th>\n      <td>CENTRAL FALLS</td>\n      <td>No children</td>\n      <td>50-59,999</td>\n      <td>Some College</td>\n      <td>650-699</td>\n      <td>ACTIVE</td>\n      <td>NOTICE</td>\n      <td>N</td>\n      <td>Basic Membership</td>\n      <td>Lockout</td>\n      <td>AAA Northeast</td>\n      <td>INFINITI</td>\n    </tr>\n    <tr>\n      <th>71870170</th>\n      <td>WARWICK</td>\n      <td>One Child</td>\n      <td>100-149,999</td>\n      <td>Unknown</td>\n      <td>650-699</td>\n      <td>PENDING</td>\n      <td>NOTICE</td>\n      <td>N</td>\n      <td>Basic Membership</td>\n      <td>Jump Start</td>\n      <td>AAA Northeast</td>\n      <td>VOLKSWAGEN</td>\n    </tr>\n    <tr>\n      <th>77280880</th>\n      <td>BARRINGTON</td>\n      <td>Four ChildrenThree Children</td>\n      <td>100-149,999</td>\n      <td>Unknown</td>\n      <td>750-799800+</td>\n      <td>ACTIVE</td>\n      <td>NOTICE</td>\n      <td>N</td>\n      <td>Basic Membership</td>\n      <td>ExtricationFlat Tire</td>\n      <td>AAA Northeast</td>\n      <td>LEXUS</td>\n    </tr>\n  </tbody>\n</table>\n</div>"
     },
     "metadata": {},
     "execution_count": 109
    }
   ],
   "source": [
    "checkpoint_2[sequence[4]].head()"
   ]
  },
  {
   "cell_type": "markdown",
   "metadata": {},
   "source": [
    "        6.6.1 - Checking Null values"
   ]
  },
  {
   "cell_type": "markdown",
   "metadata": {},
   "source": [
    "plt.figure(figsize=(10,5))\n",
    "\n",
    "sns.barplot(x=checkpoint_2[sequence[4]].isnull().sum().index, y=checkpoint_2[sequence[4]].isnull().sum())\n",
    "plt.xticks(rotation='90')\n",
    "plt.xlabel('Variables', fontsize=10)\n",
    "plt.ylabel('Percentage of missing values', fontsize=10)\n",
    "plt.title('Percentage of missing values for the' + ' ' + sequence[4] + ' ' + 'Dataframe', fontsize=15)"
   ]
  },
  {
   "cell_type": "markdown",
   "metadata": {},
   "source": [
    "        6.6.2 - Performing Null filling and creating new identities"
   ]
  },
  {
   "cell_type": "markdown",
   "metadata": {},
   "source": [
    "            6.6.2.1 - Number of Children"
   ]
  },
  {
   "cell_type": "code",
   "execution_count": 110,
   "metadata": {},
   "outputs": [
    {
     "output_type": "display_data",
     "data": {
      "text/plain": "HBox(children=(FloatProgress(value=0.0, description='Process Progress', max=4095.0, style=ProgressStyle(descri…",
      "application/vnd.jupyter.widget-view+json": {
       "version_major": 2,
       "version_minor": 0,
       "model_id": "3537acdb59f6423c932625f10c877c8b"
      }
     },
     "metadata": {}
    },
    {
     "output_type": "stream",
     "name": "stdout",
     "text": "\n"
    }
   ],
   "source": [
    "for idx in tqdm_notebook(checkpoint_2[sequence[4]].index, desc='Process Progress'): # For each row\n",
    "    for c in checkpoint_2[sequence[4]].columns: # For all columns on the given dataframe\n",
    "\n",
    "        if c == 'Number of Children': # if we the given column is the Number of Children\n",
    "\n",
    "            if pd.isnull(checkpoint_2[sequence[4]][c][idx]): # if the given Household Key has a null value for the Number of Children column\n",
    "            \n",
    "                checkpoint_2[sequence[4]].at[idx, c] = 0 # we replace it by zero\n",
    "\n",
    "            else:\n",
    "                \n",
    "                entry =  checkpoint_2[sequence[4]][c][idx].split()[0] # we check the first part of the string\n",
    "\n",
    "                if (entry == 'No'):\n",
    "\n",
    "                    checkpoint_2[sequence[4]].at[idx, c] = 0 # we replace it by zero, because there is no children for the given Household\n",
    "\n",
    "                elif (entry == 'One'):\n",
    "\n",
    "                    checkpoint_2[sequence[4]].at[idx, c] = 1 # we replace it by one, because there is one children for the given Household\n",
    "\n",
    "                elif (entry == 'Two'):\n",
    "\n",
    "                    checkpoint_2[sequence[4]].at[idx, c] = 2 # we replace it by two, because there are two children for the given Household\n",
    "\n",
    "                elif (entry == 'Three'):\n",
    "\n",
    "                    checkpoint_2[sequence[4]].at[idx, c] = 3 # we replace it by three, because there are three children for the given Household\n",
    "\n",
    "                elif (entry == 'Four'):\n",
    "\n",
    "                    checkpoint_2[sequence[4]].at[idx, c] = 4 # we replace it by four, because there are four children for the given Household\n",
    "\n",
    "                elif (entry == 'Five'):\n",
    "\n",
    "                    checkpoint_2[sequence[4]].at[idx, c] = 5 # we replace it by five, because there are five children for the given Household\n",
    "\n",
    "                elif (entry == 'Six'):\n",
    "\n",
    "                    checkpoint_2[sequence[4]].at[idx, c] = 6 # we replace it by six, because there are six children for the given Household\n",
    "\n",
    "checkpoint_2[sequence[4]]['Number of Children'] = checkpoint_2[sequence[4]]['Number of Children'].astype(int) # converting to iterger type"
   ]
  },
  {
   "cell_type": "code",
   "execution_count": 111,
   "metadata": {},
   "outputs": [
    {
     "output_type": "display_data",
     "data": {
      "text/plain": "HBox(children=(FloatProgress(value=0.0, description='Process Progress', max=4095.0, style=ProgressStyle(descri…",
      "application/vnd.jupyter.widget-view+json": {
       "version_major": 2,
       "version_minor": 0,
       "model_id": "b0ce013f9c554a9eb8d428fd857f08aa"
      }
     },
     "metadata": {}
    },
    {
     "output_type": "stream",
     "name": "stdout",
     "text": "\n"
    }
   ],
   "source": [
    "for idx in tqdm_notebook(checkpoint_2[sequence[4]].index, desc='Process Progress'): # For each row\n",
    "    for c in checkpoint_2[sequence[4]].columns: # For all columns on the given dataframe\n",
    "\n",
    "        if (c == 'Credit Ranges'): # if we the given column is the Credit Ranges \n",
    "\n",
    "            if pd.isnull(checkpoint_2[sequence[4]][c][idx]): # if the given Household Key has a null value for Credit Ranges column\n",
    "            \n",
    "                checkpoint_2[sequence[4]].at[idx, c] = 499999 # we replace it by the lowest value of Credit Ranges possible\n",
    "\n",
    "            else:\n",
    "\n",
    "                item = checkpoint_2[sequence[4]][c][idx] # we save our string list\n",
    "\n",
    "                if (\"+\" in item): # that means that we have the highest possible value of Credit Ranges on the given Household Key\n",
    "\n",
    "                    checkpoint_2[sequence[4]].at[idx, c] = 800000 # so we set as the only the higher value\n",
    "\n",
    "                elif (\"&\" in item) or (\"Unk\" in item): # that means that we have the lowest possible value of Credit Ranges on the given Household Key\n",
    "\n",
    "                    if len(item.split('-')) == 1: # if we only have this value\n",
    "\n",
    "                        checkpoint_2[sequence[4]].at[idx, c] = 499999 # we replace it by the lowest value of Credit Ranges possible\n",
    "\n",
    "                    else: # if we have other values besides the lower Credit Ranges possible\n",
    "\n",
    "                        lower_limit = 499999 # we set the lower limit by the lowest value of Credit Ranges possible\n",
    "\n",
    "                        tmp = [] # we create an empty list\n",
    "\n",
    "                        for s in item.split('-'): # we iterate over all values for this credit range\n",
    "                            \n",
    "                            tmp.append(s.split('Unk')[0]) # we append all numerical strings to it\n",
    "\n",
    "                        tmp.sort() # we sort the list of numerical strings\n",
    "\n",
    "                        upper_limit = float(tmp[-1]) * 1e3 # we choose the biggest value \n",
    "\n",
    "                        checkpoint_2[sequence[4]].at[idx, c] = (upper_limit + lower_limit)/2 # we replace the total value for the given Houlsehold Key by the mean\n",
    "\n",
    "                else:\n",
    "\n",
    "                        if len(item.split('-')) == 2: # if we only have two values for this range\n",
    "\n",
    "                            lower_limit =  float(item.split('-')[0]) * 1e3 # lower Income limit\n",
    "\n",
    "                            upper_limit = float(item.split('-')[1]) * 1e3 # Upper Income limit\n",
    "\n",
    "                            checkpoint_2[sequence[4]].at[idx, c] = (upper_limit + lower_limit)/2 # we replace the total value for the given Household Key by the mean\n",
    "\n",
    "                        else: # we have more than two values available\n",
    "\n",
    "                            tmp = [] # we create an empty list\n",
    "\n",
    "                            for s in item.split('-'): # we iterate over all values for this credit range\n",
    "                            \n",
    "                                tmp.append(s.split('Unk')[0].split(',')[0]) # we append all numerical strings to it\n",
    "\n",
    "                            tmp.sort() # we sort the list of numerical strings\n",
    "\n",
    "                            lower_limit = float(tmp[0]) * 1e3 # we choose the smaller value \n",
    "                                \n",
    "                            upper_limit = float(tmp[-1]) * 1e3 # we choose the biggest value\n",
    "\n",
    "                            checkpoint_2[sequence[4]].at[idx, c] = (upper_limit + lower_limit)/2 # we replace the total value for the given Houlsehold Key by the mean\n",
    "\n",
    "checkpoint_2[sequence[4]]['Credit Ranges'] = checkpoint_2[sequence[4]]['Credit Ranges'].astype(float) # converting to float type\n",
    "\n",
    "checkpoint_2[sequence[4]].rename(columns={'Credit Ranges' : 'Annual Credit Possible'}, inplace=True) # renaming the colum"
   ]
  },
  {
   "cell_type": "markdown",
   "metadata": {},
   "source": [
    "    We will replace each limit by the mean of the given limit. The null values will be predicted as the lower values possible (For the Income is 9999.0 and for the Credit Range is 499999.0)"
   ]
  },
  {
   "cell_type": "markdown",
   "metadata": {},
   "source": [
    "            6.6.2.2 - Income and Credit Ranges"
   ]
  },
  {
   "cell_type": "code",
   "execution_count": 112,
   "metadata": {},
   "outputs": [
    {
     "output_type": "display_data",
     "data": {
      "text/plain": "HBox(children=(FloatProgress(value=0.0, description='Process Progress', max=4095.0, style=ProgressStyle(descri…",
      "application/vnd.jupyter.widget-view+json": {
       "version_major": 2,
       "version_minor": 0,
       "model_id": "13ced0518bc14792a95d515b2dd9ea8b"
      }
     },
     "metadata": {}
    },
    {
     "output_type": "stream",
     "name": "stdout",
     "text": "\n"
    }
   ],
   "source": [
    "for idx in tqdm_notebook(checkpoint_2[sequence[4]].index, desc='Process Progress'): # For each row\n",
    "    for c in checkpoint_2[sequence[4]].columns: # For all columns on the given dataframe\n",
    "\n",
    "        if (c == 'Income'): # if we the given column is the Income \n",
    "\n",
    "            if pd.isnull(checkpoint_2[sequence[4]][c][idx]): # if the given Household Key has a null value for Income column\n",
    "            \n",
    "                checkpoint_2[sequence[4]].at[idx, c] = 9999 # we replace it by the lowest value of income possible\n",
    "\n",
    "            else:\n",
    "\n",
    "                item = checkpoint_2[sequence[4]][c][idx] # we save our string list\n",
    "\n",
    "                if (\"K+\" in item): # that means that we have the highest possible value of Income on the given Household Key\n",
    "\n",
    "                    checkpoint_2[sequence[4]].at[idx, c] = 250000 # so we set as the only the higher value\n",
    "\n",
    "                elif (\"Und\" in item): # that means that we have the lowest possible value of Income on the given Household Key\n",
    "\n",
    "                    if len(item.split('-')) == 1: # if we only have this value\n",
    "\n",
    "                        checkpoint_2[sequence[4]].at[idx, c] = 9999 # we replace it by the lowest value of income possible\n",
    "\n",
    "                    else: # if we have other values besides the lower Income possible\n",
    "\n",
    "                        lower_limit = 9999 # we set the lower limit by the lowest value of income possible\n",
    "\n",
    "                        tmp = [] # we create an empty list\n",
    "\n",
    "                        for s in item.split('-'): # we iterate over all values for this credit range\n",
    "                            \n",
    "                            tmp.append(s.split('Und')[0].split(',')[0]) # we append all numerical strings to it\n",
    "\n",
    "                        tmp.sort() # we sort the list of numerical strings\n",
    "\n",
    "                        upper_limit = float(tmp[-1]) * 1e3 # we choose the biggest value \n",
    "\n",
    "                        checkpoint_2[sequence[4]].at[idx, c] = (upper_limit + lower_limit)/2 # we replace the total value for the given Houlsehold Key by the mean\n",
    "\n",
    "                else:\n",
    "\n",
    "                        if len(item.split('-')) == 2: # if we only have two values for this range\n",
    "\n",
    "                            lower_limit =  float(item.split('-')[0]) * 1e3 # lower Income limit\n",
    "\n",
    "                            upper_limit = float(item.split('-')[1].split(',')[0]) * 1e3 # Upper Income limit\n",
    "\n",
    "                            checkpoint_2[sequence[4]].at[idx, c] = (upper_limit + lower_limit)/2 # we replace the total value for the given Household Key by the mean\n",
    "\n",
    "                        else: # we have more than two values available\n",
    "\n",
    "                            tmp = [] # we create an empty list\n",
    "\n",
    "                            for s in item.split('-'): # we iterate over all values for this income\n",
    "                            \n",
    "                                tmp.append(s.split('Und')[0].split(',')[0]) # we append all numerical strings to it\n",
    "\n",
    "                            tmp.sort() # we sort the list of numerical strings\n",
    "\n",
    "                            lower_limit = float(tmp[0]) * 1e3 # we choose the smaller value \n",
    "                                \n",
    "                            upper_limit = float(tmp[-1]) * 1e3 # we choose the biggest value\n",
    "\n",
    "                            checkpoint_2[sequence[4]].at[idx, c] = (upper_limit + lower_limit)/2 # we replace the total value for the given Houlsehold Key by the mean\n",
    "\n",
    "checkpoint_2[sequence[4]]['Income'] = checkpoint_2[sequence[4]]['Income'].astype(float) # converting to float type\n",
    "\n",
    "checkpoint_2[sequence[4]].rename(columns={'Income' : 'Annual Income'}, inplace=True) # renaming the colum"
   ]
  },
  {
   "cell_type": "markdown",
   "metadata": {},
   "source": [
    "            6.6.2.3 - Education"
   ]
  },
  {
   "cell_type": "code",
   "execution_count": 113,
   "metadata": {},
   "outputs": [
    {
     "output_type": "display_data",
     "data": {
      "text/plain": "HBox(children=(FloatProgress(value=0.0, description='Process Progress', max=4095.0, style=ProgressStyle(descri…",
      "application/vnd.jupyter.widget-view+json": {
       "version_major": 2,
       "version_minor": 0,
       "model_id": "e564edba2d06416b8d9ad2fe18999cee"
      }
     },
     "metadata": {}
    },
    {
     "output_type": "stream",
     "name": "stdout",
     "text": "\n"
    }
   ],
   "source": [
    "for idx in tqdm_notebook(checkpoint_2[sequence[4]].index, desc='Process Progress'): # For each row\n",
    "    for c in checkpoint_2[sequence[4]].columns: # For all columns on the given dataframe\n",
    "\n",
    "        if (c == 'Education'): # if we the given column is the Education \n",
    "\n",
    "            if pd.isnull(checkpoint_2[sequence[4]][c][idx]): # if the given Household Key has a null value for Education column\n",
    "            \n",
    "                checkpoint_2[sequence[4]].at[idx, c] = 'Unknown' # we replace it by Unknow Education background\n",
    "            \n",
    "            else:\n",
    "\n",
    "                item = checkpoint_2[sequence[4]][c][idx] # we save our string \n",
    "\n",
    "                if (\"Unk\" in item): # that means that we have an Unknown flag in the middle of it\n",
    "\n",
    "                    if len(item.split()) == 1: # if we only have this value\n",
    "\n",
    "                        pass # we pass it because it is already defined\n",
    "\n",
    "                    else: # if we have other values besides the lower Income possible\n",
    "\n",
    "                        checkpoint_2[sequence[4]].at[idx, c] = item.split('Unk')[0] # we replace the value by the string that is not Unknown\n",
    "\n",
    "                else:\n",
    "\n",
    "                        if (len(item.split()) > 2) and (\"College\" in item): # if we have more than two values for this range and college is one of them\n",
    "                            if ('Completed' in item.split('College')): # we check if there is one member with a complete college degree\n",
    "\n",
    "                                checkpoint_2[sequence[4]].at[idx, c] = 'Completed College' # we replace by the higgest\n",
    "\n",
    "                            else:\n",
    "\n",
    "                                checkpoint_2[sequence[4]].at[idx, c] = 'Some College' # we replace by the middle one\n",
    "\n",
    "                        if (len(item.split()) > 2) and (\"School\" in item): # if we have more than two values for this range and school is one of them\n",
    "                            if ('Graduated' in item.split('School')): # we check if there is one member with a complete school degree\n",
    "\n",
    "                                checkpoint_2[sequence[4]].at[idx, c] = 'Graduated School' # we replace by the higgest one\n",
    "\n",
    "                            else:\n",
    "\n",
    "                                checkpoint_2[sequence[4]].at[idx, c] = 'High School' # we replace by the lower one\n"
   ]
  },
  {
   "cell_type": "markdown",
   "metadata": {},
   "source": [
    "            6.6.2.4 - Member Status, Member Type, Renew Method, and Motorcycle Indicator"
   ]
  },
  {
   "cell_type": "code",
   "execution_count": 114,
   "metadata": {},
   "outputs": [
    {
     "output_type": "display_data",
     "data": {
      "text/plain": "HBox(children=(FloatProgress(value=0.0, description='Process Progress', max=4095.0, style=ProgressStyle(descri…",
      "application/vnd.jupyter.widget-view+json": {
       "version_major": 2,
       "version_minor": 0,
       "model_id": "ec79153c2ed24626a99e091322351082"
      }
     },
     "metadata": {}
    },
    {
     "output_type": "stream",
     "name": "stdout",
     "text": "\n"
    }
   ],
   "source": [
    "for idx in tqdm_notebook(checkpoint_2[sequence[4]].index, desc='Process Progress'): # For each row\n",
    "    for c in checkpoint_2[sequence[4]].columns: # For all columns on the given dataframe\n",
    "\n",
    "        if (c == 'Member Status'): # if we the given column is the Member Status \n",
    "\n",
    "            item = checkpoint_2[sequence[4]][c][idx] # we save our string \n",
    "\n",
    "            if item not in ['ACTIVE', 'PENDING', 'CANCELLED']: # if the value is not one of the possible ones\n",
    "\n",
    "                if 'ACTIVE' in item: # if one of the possible values for the given Household Key is Active\n",
    "\n",
    "                    checkpoint_2[sequence[4]].at[idx, c] = 'ACTIVE' # we replace it by an Active key\n",
    "\n",
    "                else:\n",
    "                    \n",
    "                    checkpoint_2[sequence[4]].at[idx, c] = 'PENDING' # we replace it by an Pending key\n",
    "                        \n",
    "        elif (c == 'Plus Indicator Description'): # if the given column is the Member Type\n",
    "\n",
    "            item = checkpoint_2[sequence[4]][c][idx] # we save our string \n",
    "\n",
    "            if pd.isnull(item):\n",
    "\n",
    "                checkpoint_2[sequence[4]].at[idx, c] = 'Basic' # we replace it by an Basic Membership\n",
    "\n",
    "            elif 'Premier' in item: # if one of the possible values for the given Household Key is Premier\n",
    "\n",
    "                checkpoint_2[sequence[4]].at[idx, c] = 'Premier' # we replace it by the Pending key\n",
    "\n",
    "            elif 'Plus' in item: # if one of the possible values for the given Household Key is Plus \n",
    "\n",
    "                checkpoint_2[sequence[4]].at[idx, c] = 'Plus' # we replace it by the Plus key\n",
    "\n",
    "            else: # otherwise\n",
    "\n",
    "                checkpoint_2[sequence[4]].at[idx, c] = 'Basic' # we replace it by the Basic key\n",
    "\n",
    "\n",
    "        elif (c == 'Renew Method'): # if the given column is the Renew Method\n",
    "\n",
    "            item = checkpoint_2[sequence[4]][c][idx] # we save our string \n",
    "\n",
    "            if 'AUTO' in item: # if one of the possible values for the given Household Key is Auto Renew\n",
    "\n",
    "                checkpoint_2[sequence[4]].at[idx, c] = 'AUTO RENEW' # we replace it by the Auto Rener key\n",
    "\n",
    "        elif (c == 'Motorcycle Indicator'): # if the given column is the Renew Method\n",
    "\n",
    "            item = checkpoint_2[sequence[4]][c][idx]\n",
    "\n",
    "            if pd.isnull(item) or ('N' in item): # if the given Household Key has a null value for Motorcycle Indicator column\n",
    "\n",
    "                checkpoint_2[sequence[4]].at[idx, c] = 0 # we replace it by N Motorcycle Indicator\n",
    "\n",
    "            elif 'Y' in item: # if one of the possible values for the given Household Key is Primary\n",
    "\n",
    "                checkpoint_2[sequence[4]].at[idx, c] = 1 # we replace it by Y Motorcycle Indicator\n",
    "\n",
    "checkpoint_2[sequence[4]]['Motorcycle Indicator'] = checkpoint_2[sequence[4]]['Motorcycle Indicator'].astype(int) # converting to iterger type\n",
    "checkpoint_2[sequence[4]].rename(columns={'Plus Indicator Description' : 'Membership Type'}, inplace=True) # renaming the colum"
   ]
  },
  {
   "cell_type": "markdown",
   "metadata": {},
   "source": [
    "            6.6.2.5 - Prob1 Code Description, SC Vehicle Manufacturer Name and SC Call Club Code Description"
   ]
  },
  {
   "cell_type": "code",
   "execution_count": 115,
   "metadata": {},
   "outputs": [],
   "source": [
    "checkpoint_2[sequence[4]]['AAA Service Necessity Due Problem' + ' ' + str(2)] = '' # we create another column on the dataframe to store the other different value\n",
    "\n",
    "checkpoint_2[sequence[4]]['Vehicle Manufacturer Name' + ' ' + str(2)] = '' # we create another column on the dataframe to store the other different value\n",
    "\n",
    "checkpoint_2[sequence[4]]['AAA Club' + ' ' + str(2)] = '' # we create another column on the dataframe to store the other different value"
   ]
  },
  {
   "cell_type": "code",
   "execution_count": 116,
   "metadata": {},
   "outputs": [
    {
     "output_type": "display_data",
     "data": {
      "text/plain": "HBox(children=(FloatProgress(value=0.0, description='Process Progress', max=4095.0, style=ProgressStyle(descri…",
      "application/vnd.jupyter.widget-view+json": {
       "version_major": 2,
       "version_minor": 0,
       "model_id": "937d6a53f7324d87893dc86648244e98"
      }
     },
     "metadata": {}
    },
    {
     "output_type": "stream",
     "name": "stdout",
     "text": "\n"
    }
   ],
   "source": [
    "for idx in tqdm_notebook(checkpoint_2[sequence[4]].index, desc='Process Progress'): # For each row\n",
    "    for c in checkpoint_2[sequence[4]].columns: # For all columns on the given dataframe\n",
    "\n",
    "        if (c == 'Prob1 Code Description'): # if we the given column is the Prob1 Code Description \n",
    "\n",
    "            item = checkpoint_2[sequence[4]][c][idx] # we save our string\n",
    "\n",
    "            if pd.isnull(item): # if the value of out string is null\n",
    "\n",
    "                checkpoint_2[sequence[4]].at[idx, c] = 'No record for the last three years' # we predict saying there is no record for the last three years\n",
    "\n",
    "            if item not in df_original[c].unique().tolist(): # if our item is not on the original unique values list for this column\n",
    "\n",
    "                out = \"\" # string to store the second value available\n",
    "\n",
    "                for s in item: # work on character by character on our string\n",
    "\n",
    "                    out = out + item[-1] # the second value building\n",
    "\n",
    "                    item = item[:-1] # popping the last character on the string\n",
    "\n",
    "                    if out[::-1] in df_original[c].unique().tolist(): # if the build of the second value is ready\n",
    "\n",
    "                        checkpoint_2[sequence[4]].at[idx, 'AAA Service Necessity Due Problem 2'] = out[::-1] # we input the second value on the second column\n",
    "\n",
    "                    if item in df_original[c].unique().tolist(): # the build of the first value is ready\n",
    "\n",
    "                        checkpoint_2[sequence[4]].at[idx, c] = item # we input the first value on the original column\n",
    "\n",
    "        elif (c == 'SC Vehicle Manufacturer Name'):\n",
    "\n",
    "            item = checkpoint_2[sequence[4]][c][idx] # we save our string\n",
    "\n",
    "            if pd.isnull(item): # if the value of out string is null\n",
    "\n",
    "                checkpoint_2[sequence[4]].at[idx, c] = 'No record for the last three years' # we predict saying there is no record for the last three years\n",
    "\n",
    "            if item not in df_original[c].unique().tolist(): # if our item is not on the original unique values list for this column\n",
    "\n",
    "                out = \"\" # string to store the second value available\n",
    "\n",
    "                for s in item: # work on character by character on our string\n",
    "\n",
    "                    out = out + item[-1] # the second value building\n",
    "\n",
    "                    item = item[:-1] # popping the last character on the string\n",
    "\n",
    "                    if out[::-1] in df_original[c].unique().tolist(): # if the build of the second value is ready\n",
    "\n",
    "                        checkpoint_2[sequence[4]].at[idx, 'Vehicle Manufacturer Name 2'] = out[::-1] # we input the second value on the second column\n",
    "                    if item in df_original[c].unique().tolist(): # the build of the first value is ready\n",
    "\n",
    "                        checkpoint_2[sequence[4]].at[idx, c] = item # we input the first value on the original column \n",
    "\n",
    "        elif (c == 'SC Call Club Code Description'):\n",
    "\n",
    "            item = checkpoint_2[sequence[4]][c][idx] # we save our string\n",
    "\n",
    "            if pd.isnull(item): # if the value of out string is null\n",
    "\n",
    "                checkpoint_2[sequence[4]].at[idx, c] = 'No record for the last three years' # we predict saying there is no record for the last three years \n",
    "\n",
    "            if item not in df_original[c].unique().tolist(): # if our item is not on the original unique values list for this column\n",
    "\n",
    "                out = \"\" # string to store the second value available\n",
    "\n",
    "                for s in item: # work on character by character on our string\n",
    "\n",
    "                    out = out + item[-1] # the second value building\n",
    "\n",
    "                    item = item[:-1] # popping the last character on the string\n",
    "\n",
    "                    if out[::-1] in df_original[c].unique().tolist(): # if the build of the second value is ready\n",
    "\n",
    "                        checkpoint_2[sequence[4]].at[idx, 'AAA Club 2'] = out[::-1] # we input the second value on the second column\n",
    "                    if item in df_original[c].unique().tolist(): # the build of the first value is ready\n",
    "\n",
    "                        checkpoint_2[sequence[4]].at[idx, c] = item # we input the first value on the original column                       \n",
    "\n",
    "checkpoint_2[sequence[4]].rename(columns={'Prob1 Code Description' : 'AAA Service Necessity Due Problem 1'}, inplace=True) # renaming the column\n",
    "checkpoint_2[sequence[4]].rename(columns={'SC Vehicle Manufacturer Name' : 'Vehicle Manufacturer Name 1'}, inplace=True) # renaming the column\n",
    "checkpoint_2[sequence[4]].rename(columns={'SC Call Club Code Description' : 'AAA Club 1'}, inplace=True) # renaming the column"
   ]
  },
  {
   "cell_type": "markdown",
   "metadata": {},
   "source": [
    "        6.6.3 - Appending column to numerical one"
   ]
  },
  {
   "cell_type": "code",
   "execution_count": 117,
   "metadata": {},
   "outputs": [],
   "source": [
    "for c in checkpoint_2[sequence[4]].columns: # For all columns on the given dataframe\n",
    "\n",
    "    checkpoint_2[sequence[0]][c] = checkpoint_2[sequence[4]][c].values # concatenate the columns on the numerical dataframe"
   ]
  },
  {
   "cell_type": "markdown",
   "metadata": {},
   "source": [
    "## 7 - Creating required columns for assignment"
   ]
  },
  {
   "cell_type": "markdown",
   "metadata": {},
   "source": [
    "    7.1 - Number of Members per Household Key"
   ]
  },
  {
   "cell_type": "markdown",
   "metadata": {},
   "source": [
    "        7.1.1 - Creating new Column"
   ]
  },
  {
   "cell_type": "code",
   "execution_count": 118,
   "metadata": {},
   "outputs": [],
   "source": [
    "checkpoint_2[sequence[0]]['Number of Members per Household Key'] = 0 # creating ner column\n",
    "\n",
    "checkpoint_2[sequence[0]]['Number of Members per Household Key'] = checkpoint_2[sequence[0]]['Number of Members per Household Key'].astype(int) # converting to iterger type"
   ]
  },
  {
   "cell_type": "markdown",
   "metadata": {},
   "source": [
    "        7.1.2 - List of members per each Household Key on the original dataset"
   ]
  },
  {
   "cell_type": "code",
   "execution_count": 119,
   "metadata": {},
   "outputs": [],
   "source": [
    "member_per_household = Counter(list(df_original['Household Key'].values)) # list of number of times that a given Household Key appears on the original dataframe"
   ]
  },
  {
   "cell_type": "markdown",
   "metadata": {},
   "source": [
    "        7.1.3 - Filling Values"
   ]
  },
  {
   "cell_type": "code",
   "execution_count": 120,
   "metadata": {},
   "outputs": [
    {
     "output_type": "display_data",
     "data": {
      "text/plain": "HBox(children=(FloatProgress(value=0.0, description='Process Progress', max=4095.0, style=ProgressStyle(descri…",
      "application/vnd.jupyter.widget-view+json": {
       "version_major": 2,
       "version_minor": 0,
       "model_id": "08932886336c4cd39ea40d8a8780fd06"
      }
     },
     "metadata": {}
    },
    {
     "output_type": "stream",
     "name": "stdout",
     "text": "\n"
    }
   ],
   "source": [
    "for idx in tqdm_notebook(checkpoint_2[sequence[0]].index, desc='Process Progress'): # For each row\n",
    "\n",
    "    checkpoint_2[sequence[0]].at[idx, 'Number of Members per Household Key'] = member_per_household[idx] # replace the value by the number of members\n"
   ]
  },
  {
   "cell_type": "markdown",
   "metadata": {},
   "source": [
    "    7.2 - Frequency of use of Roadside Services and if Household have used the Roadside Services"
   ]
  },
  {
   "cell_type": "markdown",
   "metadata": {},
   "source": [
    "        7.2.1 - Creating new Column"
   ]
  },
  {
   "cell_type": "code",
   "execution_count": 121,
   "metadata": {},
   "outputs": [],
   "source": [
    "checkpoint_2[sequence[0]]['Frequency of use of Roadside Services'] = 0 # creating ner column\n",
    "\n",
    "checkpoint_2[sequence[0]]['Frequency of use of Roadside Services'] = checkpoint_2[sequence[0]]['Frequency of use of Roadside Services'].astype(int) # converting to iterger type\n",
    "\n",
    "checkpoint_2[sequence[0]]['Household have used the Roadside Services'] = 0 # creating ner column\n",
    "\n",
    "checkpoint_2[sequence[0]]['Household have used the Roadside Services'] = checkpoint_2[sequence[0]]['Household have used the Roadside Services'].astype(int) # converting to iterger type"
   ]
  },
  {
   "cell_type": "markdown",
   "metadata": {},
   "source": [
    "        7.2.2 - Filling values"
   ]
  },
  {
   "cell_type": "code",
   "execution_count": 122,
   "metadata": {},
   "outputs": [
    {
     "output_type": "display_data",
     "data": {
      "text/plain": "HBox(children=(FloatProgress(value=0.0, description='Process Progress', max=4095.0, style=ProgressStyle(descri…",
      "application/vnd.jupyter.widget-view+json": {
       "version_major": 2,
       "version_minor": 0,
       "model_id": "105ddd4d67f348f58db27642d9bd9752"
      }
     },
     "metadata": {}
    },
    {
     "output_type": "stream",
     "name": "stdout",
     "text": "\n"
    }
   ],
   "source": [
    "for idx in tqdm_notebook(checkpoint_2[sequence[0]].index, desc='Process Progress'): # For each row\n",
    "\n",
    "    checkpoint_2[sequence[0]].at[idx, 'Frequency of use of Roadside Services'] = checkpoint_2[sequence[0]]['Number of Roadside calss for Year 1'][idx] +  checkpoint_2[sequence[0]]['Number of Roadside calss for Year 2'][idx] + checkpoint_2[sequence[0]]['Number of Roadside calss for Year 3'][idx] # filling the column with the total number of usage of roadside services\n",
    "\n",
    "\n",
    "    if (checkpoint_2[sequence[0]]['Number of Roadside calss for Year 1'][idx] != 0) or (checkpoint_2[sequence[0]]['Number of Roadside calss for Year 2'][idx] != 0) or (checkpoint_2[sequence[0]]['Number of Roadside calss for Year 3'][idx] != 0): # if the given Household Key has used any roadside service on the last three years\n",
    "\n",
    "        checkpoint_2[sequence[0]].at[idx, 'Household have used the Roadside Services'] = 1"
   ]
  },
  {
   "cell_type": "markdown",
   "metadata": {},
   "source": [
    "## 8 - Final Dataframe"
   ]
  },
  {
   "cell_type": "markdown",
   "metadata": {},
   "source": [
    "    8.1 - Creating Dataframe"
   ]
  },
  {
   "cell_type": "code",
   "execution_count": 123,
   "metadata": {},
   "outputs": [],
   "source": [
    "df_final = checkpoint_2[sequence[0]].copy() # copying final post-processed dataframe"
   ]
  },
  {
   "cell_type": "markdown",
   "metadata": {},
   "source": [
    "    8.2 - Checking for Null data "
   ]
  },
  {
   "cell_type": "code",
   "execution_count": 124,
   "metadata": {},
   "outputs": [],
   "source": [
    "# plt.figure(figsize=(10,5))\n",
    "\n",
    "# sns.barplot(x=df_final.isnull().sum().index, y=df_final.isnull().sum())\n",
    "# plt.xticks(rotation='90')\n",
    "# plt.xlabel('Variables', fontsize=10)\n",
    "# plt.ylabel('Percentage of missing values', fontsize=10)\n",
    "# plt.title('Percentage of missing values for the Final Dataframe', fontsize=15)"
   ]
  },
  {
   "cell_type": "markdown",
   "metadata": {},
   "source": [
    "    8.3 - Checking Data Types"
   ]
  },
  {
   "cell_type": "code",
   "execution_count": 125,
   "metadata": {},
   "outputs": [
    {
     "output_type": "execute_result",
     "data": {
      "text/plain": "               Length Of Residence  Number of Roadside calss for Year 1  \\\nHousehold Key                                                             \n8750                     90.558333                                    8   \n9690                    140.000000                                    0   \n33380                    50.000000                                    0   \n87180                   150.000000                                    0   \n115240                  121.000000                                    3   \n\n               Number of Roadside calss for Year 2  \\\nHousehold Key                                        \n8750                                             4   \n9690                                             7   \n33380                                            0   \n87180                                            0   \n115240                                          22   \n\n               Number of Roadside calss for Year 3  \\\nHousehold Key                                        \n8750                                             7   \n9690                                            15   \n33380                                            0   \n87180                                            0   \n115240                                          10   \n\n               Roadside Member Cost for Year 1  \\\nHousehold Key                                    \n8750                               4623.928571   \n9690                                  0.000000   \n33380                                 0.000000   \n87180                                 0.000000   \n115240                             1961.666667   \n\n               Roadside Member Cost for Year 2  \\\nHousehold Key                                    \n8750                               2522.142857   \n9690                               1470.833333   \n33380                                 0.000000   \n87180                                 0.000000   \n115240                            12205.833333   \n\n               Roadside Member Cost for Year 3  Member Tenure Years  \\\nHousehold Key                                                         \n8750                                    5472.0                  289   \n9690                                   15059.5                  353   \n33380                                      0.0                  373   \n87180                                      0.0                  100   \n115240                                   530.0                  363   \n\n               Years to Cancelled Status   Basic Cost  Calculated Tow Miles  \\\nHousehold Key                                                                 \n8750                                 131  1250.357143             80.142857   \n9690                                 242  3072.500000             22.500000   \n33380                                260     0.000000              0.000000   \n87180                                  2     0.000000              0.000000   \n115240                                93  5885.000000             12.000000   \n\n                Plus Cost  Premier Cost   Total Cost  \\\nHousehold Key                                          \n8750           265.714286           0.0  1516.071429   \n9690           127.500000           0.0  4347.500000   \n33380            0.000000           0.0     0.000000   \n87180            0.000000           0.0     0.000000   \n115240           0.000000           0.0  5885.000000   \n\n               Total Number of Roadside Calls  Total Roadside Member Cost  \\\nHousehold Key                                                               \n8750                                       19                12618.071429   \n9690                                       22                16530.333333   \n33380                                       0                    0.000000   \n87180                                       0                    0.000000   \n115240                                     35                14697.500000   \n\n               Email Available  Age  \\\nHousehold Key                         \n8750                         1   74   \n9690                         1   76   \n33380                        0   90   \n87180                        1   68   \n115240                       1   50   \n\n               Years from most recent Membership Expiration  \\\nHousehold Key                                                 \n8750                                                      2   \n9690                                                      0   \n33380                                                    11   \n87180                                                     3   \n115240                                                    3   \n\n               Years from Join Date  Purchased Product 1  Purchased Product 2  \\\nHousehold Key                                                                   \n8750                             30                    0                    1   \n9690                             36                    0                    0   \n33380                            38                    0                    0   \n87180                            11                    0                    0   \n115240                           37                    0                    0   \n\n               Purchased Product 3  Purchased Product 4  Purchased Product 5  \\\nHousehold Key                                                                  \n8750                             0                    0                    0   \n9690                             0                    0                    0   \n33380                            0                    0                    0   \n87180                            0                    0                    0   \n115240                           0                    0                    0   \n\n               Purchased Product 6  Purchased Product 7  Purchased Product 8  \\\nHousehold Key                                                                  \n8750                             0                    0                    0   \n9690                             0                    0                    0   \n33380                            0                    1                    0   \n87180                            0                    0                    0   \n115240                           0                    0                    0   \n\n               Mail Responder  Home Owner  Opt-Out - Publication  Cash Call  \\\nHousehold Key                                                                 \n8750                        1           1                      1          0   \n9690                        1           1                      1          0   \n33380                       1           1                      1          0   \n87180                       1           1                      1          0   \n115240                      1           1                      1          0   \n\n               Fleet Indicator  Total Number of Purchased Products  \\\nHousehold Key                                                        \n8750                         0                                   1   \n9690                         1                                   0   \n33380                        0                                   1   \n87180                        1                                   0   \n115240                       1                                   0   \n\n               Household Purchased Product  Email Correspondent  Home Renter  \\\nHousehold Key                                                                  \n8750                                     1                    1            0   \n9690                                     0                    1            0   \n33380                                    1                    1            0   \n87180                                    0                    1            0   \n115240                                   0                    1            0   \n\n               No Home Ownership Info           City  Number of Children  \\\nHousehold Key                                                              \n8750                                0   WEST WARWICK                   1   \n9690                                0        WARWICK                   0   \n33380                               0  CENTRAL FALLS                   0   \n87180                               0        WARWICK                   1   \n115240                              0     BARRINGTON                   4   \n\n               Annual Income     Education  Annual Credit Possible  \\\nHousehold Key                                                        \n8750                 34500.0  Some College                624500.0   \n9690                 54500.0       Unknown                774500.0   \n33380                54500.0  Some College                674500.0   \n87180               124500.0       Unknown                674500.0   \n115240              124500.0       Unknown                800000.0   \n\n              Member Status Renew Method  Motorcycle Indicator  \\\nHousehold Key                                                    \n8750                 ACTIVE   AUTO RENEW                     0   \n9690                 ACTIVE   AUTO RENEW                     0   \n33380                ACTIVE       NOTICE                     0   \n87180               PENDING       NOTICE                     0   \n115240               ACTIVE       NOTICE                     0   \n\n              Membership Type AAA Service Necessity Due Problem 1  \\\nHousehold Key                                                       \n8750                    Basic                     Battery Service   \n9690                    Basic                           Flat Tire   \n33380                   Basic                             Lockout   \n87180                   Basic                          Jump Start   \n115240                  Basic                         Extrication   \n\n                  AAA Club 1 Vehicle Manufacturer Name 1  \\\nHousehold Key                                              \n8750           AAA Northeast                      TOYOTA   \n9690           AAA Northeast                      SUBARU   \n33380          AAA Northeast                    INFINITI   \n87180          AAA Northeast                  VOLKSWAGEN   \n115240         AAA Northeast                       LEXUS   \n\n              AAA Service Necessity Due Problem 2 Vehicle Manufacturer Name 2  \\\nHousehold Key                                                                   \n8750                                                                            \n9690                                                                            \n33380                                                                           \n87180                                                                           \n115240                                  Flat Tire                               \n\n              AAA Club 2  Number of Members per Household Key  \\\nHousehold Key                                                   \n8750                                                       18   \n9690                                                        6   \n33380                                                       3   \n87180                                                       2   \n115240                                                      7   \n\n               Frequency of use of Roadside Services  \\\nHousehold Key                                          \n8750                                              19   \n9690                                              22   \n33380                                              0   \n87180                                              0   \n115240                                            35   \n\n               Household have used the Roadside Services  \nHousehold Key                                             \n8750                                                   1  \n9690                                                   1  \n33380                                                  0  \n87180                                                  0  \n115240                                                 1  ",
      "text/html": "<div>\n<style scoped>\n    .dataframe tbody tr th:only-of-type {\n        vertical-align: middle;\n    }\n\n    .dataframe tbody tr th {\n        vertical-align: top;\n    }\n\n    .dataframe thead th {\n        text-align: right;\n    }\n</style>\n<table border=\"1\" class=\"dataframe\">\n  <thead>\n    <tr style=\"text-align: right;\">\n      <th></th>\n      <th>Length Of Residence</th>\n      <th>Number of Roadside calss for Year 1</th>\n      <th>Number of Roadside calss for Year 2</th>\n      <th>Number of Roadside calss for Year 3</th>\n      <th>Roadside Member Cost for Year 1</th>\n      <th>Roadside Member Cost for Year 2</th>\n      <th>Roadside Member Cost for Year 3</th>\n      <th>Member Tenure Years</th>\n      <th>Years to Cancelled Status</th>\n      <th>Basic Cost</th>\n      <th>Calculated Tow Miles</th>\n      <th>Plus Cost</th>\n      <th>Premier Cost</th>\n      <th>Total Cost</th>\n      <th>Total Number of Roadside Calls</th>\n      <th>Total Roadside Member Cost</th>\n      <th>Email Available</th>\n      <th>Age</th>\n      <th>Years from most recent Membership Expiration</th>\n      <th>Years from Join Date</th>\n      <th>Purchased Product 1</th>\n      <th>Purchased Product 2</th>\n      <th>Purchased Product 3</th>\n      <th>Purchased Product 4</th>\n      <th>Purchased Product 5</th>\n      <th>Purchased Product 6</th>\n      <th>Purchased Product 7</th>\n      <th>Purchased Product 8</th>\n      <th>Mail Responder</th>\n      <th>Home Owner</th>\n      <th>Opt-Out - Publication</th>\n      <th>Cash Call</th>\n      <th>Fleet Indicator</th>\n      <th>Total Number of Purchased Products</th>\n      <th>Household Purchased Product</th>\n      <th>Email Correspondent</th>\n      <th>Home Renter</th>\n      <th>No Home Ownership Info</th>\n      <th>City</th>\n      <th>Number of Children</th>\n      <th>Annual Income</th>\n      <th>Education</th>\n      <th>Annual Credit Possible</th>\n      <th>Member Status</th>\n      <th>Renew Method</th>\n      <th>Motorcycle Indicator</th>\n      <th>Membership Type</th>\n      <th>AAA Service Necessity Due Problem 1</th>\n      <th>AAA Club 1</th>\n      <th>Vehicle Manufacturer Name 1</th>\n      <th>AAA Service Necessity Due Problem 2</th>\n      <th>Vehicle Manufacturer Name 2</th>\n      <th>AAA Club 2</th>\n      <th>Number of Members per Household Key</th>\n      <th>Frequency of use of Roadside Services</th>\n      <th>Household have used the Roadside Services</th>\n    </tr>\n    <tr>\n      <th>Household Key</th>\n      <th></th>\n      <th></th>\n      <th></th>\n      <th></th>\n      <th></th>\n      <th></th>\n      <th></th>\n      <th></th>\n      <th></th>\n      <th></th>\n      <th></th>\n      <th></th>\n      <th></th>\n      <th></th>\n      <th></th>\n      <th></th>\n      <th></th>\n      <th></th>\n      <th></th>\n      <th></th>\n      <th></th>\n      <th></th>\n      <th></th>\n      <th></th>\n      <th></th>\n      <th></th>\n      <th></th>\n      <th></th>\n      <th></th>\n      <th></th>\n      <th></th>\n      <th></th>\n      <th></th>\n      <th></th>\n      <th></th>\n      <th></th>\n      <th></th>\n      <th></th>\n      <th></th>\n      <th></th>\n      <th></th>\n      <th></th>\n      <th></th>\n      <th></th>\n      <th></th>\n      <th></th>\n      <th></th>\n      <th></th>\n      <th></th>\n      <th></th>\n      <th></th>\n      <th></th>\n      <th></th>\n      <th></th>\n      <th></th>\n      <th></th>\n    </tr>\n  </thead>\n  <tbody>\n    <tr>\n      <th>8750</th>\n      <td>90.558333</td>\n      <td>8</td>\n      <td>4</td>\n      <td>7</td>\n      <td>4623.928571</td>\n      <td>2522.142857</td>\n      <td>5472.0</td>\n      <td>289</td>\n      <td>131</td>\n      <td>1250.357143</td>\n      <td>80.142857</td>\n      <td>265.714286</td>\n      <td>0.0</td>\n      <td>1516.071429</td>\n      <td>19</td>\n      <td>12618.071429</td>\n      <td>1</td>\n      <td>74</td>\n      <td>2</td>\n      <td>30</td>\n      <td>0</td>\n      <td>1</td>\n      <td>0</td>\n      <td>0</td>\n      <td>0</td>\n      <td>0</td>\n      <td>0</td>\n      <td>0</td>\n      <td>1</td>\n      <td>1</td>\n      <td>1</td>\n      <td>0</td>\n      <td>0</td>\n      <td>1</td>\n      <td>1</td>\n      <td>1</td>\n      <td>0</td>\n      <td>0</td>\n      <td>WEST WARWICK</td>\n      <td>1</td>\n      <td>34500.0</td>\n      <td>Some College</td>\n      <td>624500.0</td>\n      <td>ACTIVE</td>\n      <td>AUTO RENEW</td>\n      <td>0</td>\n      <td>Basic</td>\n      <td>Battery Service</td>\n      <td>AAA Northeast</td>\n      <td>TOYOTA</td>\n      <td></td>\n      <td></td>\n      <td></td>\n      <td>18</td>\n      <td>19</td>\n      <td>1</td>\n    </tr>\n    <tr>\n      <th>9690</th>\n      <td>140.000000</td>\n      <td>0</td>\n      <td>7</td>\n      <td>15</td>\n      <td>0.000000</td>\n      <td>1470.833333</td>\n      <td>15059.5</td>\n      <td>353</td>\n      <td>242</td>\n      <td>3072.500000</td>\n      <td>22.500000</td>\n      <td>127.500000</td>\n      <td>0.0</td>\n      <td>4347.500000</td>\n      <td>22</td>\n      <td>16530.333333</td>\n      <td>1</td>\n      <td>76</td>\n      <td>0</td>\n      <td>36</td>\n      <td>0</td>\n      <td>0</td>\n      <td>0</td>\n      <td>0</td>\n      <td>0</td>\n      <td>0</td>\n      <td>0</td>\n      <td>0</td>\n      <td>1</td>\n      <td>1</td>\n      <td>1</td>\n      <td>0</td>\n      <td>1</td>\n      <td>0</td>\n      <td>0</td>\n      <td>1</td>\n      <td>0</td>\n      <td>0</td>\n      <td>WARWICK</td>\n      <td>0</td>\n      <td>54500.0</td>\n      <td>Unknown</td>\n      <td>774500.0</td>\n      <td>ACTIVE</td>\n      <td>AUTO RENEW</td>\n      <td>0</td>\n      <td>Basic</td>\n      <td>Flat Tire</td>\n      <td>AAA Northeast</td>\n      <td>SUBARU</td>\n      <td></td>\n      <td></td>\n      <td></td>\n      <td>6</td>\n      <td>22</td>\n      <td>1</td>\n    </tr>\n    <tr>\n      <th>33380</th>\n      <td>50.000000</td>\n      <td>0</td>\n      <td>0</td>\n      <td>0</td>\n      <td>0.000000</td>\n      <td>0.000000</td>\n      <td>0.0</td>\n      <td>373</td>\n      <td>260</td>\n      <td>0.000000</td>\n      <td>0.000000</td>\n      <td>0.000000</td>\n      <td>0.0</td>\n      <td>0.000000</td>\n      <td>0</td>\n      <td>0.000000</td>\n      <td>0</td>\n      <td>90</td>\n      <td>11</td>\n      <td>38</td>\n      <td>0</td>\n      <td>0</td>\n      <td>0</td>\n      <td>0</td>\n      <td>0</td>\n      <td>0</td>\n      <td>1</td>\n      <td>0</td>\n      <td>1</td>\n      <td>1</td>\n      <td>1</td>\n      <td>0</td>\n      <td>0</td>\n      <td>1</td>\n      <td>1</td>\n      <td>1</td>\n      <td>0</td>\n      <td>0</td>\n      <td>CENTRAL FALLS</td>\n      <td>0</td>\n      <td>54500.0</td>\n      <td>Some College</td>\n      <td>674500.0</td>\n      <td>ACTIVE</td>\n      <td>NOTICE</td>\n      <td>0</td>\n      <td>Basic</td>\n      <td>Lockout</td>\n      <td>AAA Northeast</td>\n      <td>INFINITI</td>\n      <td></td>\n      <td></td>\n      <td></td>\n      <td>3</td>\n      <td>0</td>\n      <td>0</td>\n    </tr>\n    <tr>\n      <th>87180</th>\n      <td>150.000000</td>\n      <td>0</td>\n      <td>0</td>\n      <td>0</td>\n      <td>0.000000</td>\n      <td>0.000000</td>\n      <td>0.0</td>\n      <td>100</td>\n      <td>2</td>\n      <td>0.000000</td>\n      <td>0.000000</td>\n      <td>0.000000</td>\n      <td>0.0</td>\n      <td>0.000000</td>\n      <td>0</td>\n      <td>0.000000</td>\n      <td>1</td>\n      <td>68</td>\n      <td>3</td>\n      <td>11</td>\n      <td>0</td>\n      <td>0</td>\n      <td>0</td>\n      <td>0</td>\n      <td>0</td>\n      <td>0</td>\n      <td>0</td>\n      <td>0</td>\n      <td>1</td>\n      <td>1</td>\n      <td>1</td>\n      <td>0</td>\n      <td>1</td>\n      <td>0</td>\n      <td>0</td>\n      <td>1</td>\n      <td>0</td>\n      <td>0</td>\n      <td>WARWICK</td>\n      <td>1</td>\n      <td>124500.0</td>\n      <td>Unknown</td>\n      <td>674500.0</td>\n      <td>PENDING</td>\n      <td>NOTICE</td>\n      <td>0</td>\n      <td>Basic</td>\n      <td>Jump Start</td>\n      <td>AAA Northeast</td>\n      <td>VOLKSWAGEN</td>\n      <td></td>\n      <td></td>\n      <td></td>\n      <td>2</td>\n      <td>0</td>\n      <td>0</td>\n    </tr>\n    <tr>\n      <th>115240</th>\n      <td>121.000000</td>\n      <td>3</td>\n      <td>22</td>\n      <td>10</td>\n      <td>1961.666667</td>\n      <td>12205.833333</td>\n      <td>530.0</td>\n      <td>363</td>\n      <td>93</td>\n      <td>5885.000000</td>\n      <td>12.000000</td>\n      <td>0.000000</td>\n      <td>0.0</td>\n      <td>5885.000000</td>\n      <td>35</td>\n      <td>14697.500000</td>\n      <td>1</td>\n      <td>50</td>\n      <td>3</td>\n      <td>37</td>\n      <td>0</td>\n      <td>0</td>\n      <td>0</td>\n      <td>0</td>\n      <td>0</td>\n      <td>0</td>\n      <td>0</td>\n      <td>0</td>\n      <td>1</td>\n      <td>1</td>\n      <td>1</td>\n      <td>0</td>\n      <td>1</td>\n      <td>0</td>\n      <td>0</td>\n      <td>1</td>\n      <td>0</td>\n      <td>0</td>\n      <td>BARRINGTON</td>\n      <td>4</td>\n      <td>124500.0</td>\n      <td>Unknown</td>\n      <td>800000.0</td>\n      <td>ACTIVE</td>\n      <td>NOTICE</td>\n      <td>0</td>\n      <td>Basic</td>\n      <td>Extrication</td>\n      <td>AAA Northeast</td>\n      <td>LEXUS</td>\n      <td>Flat Tire</td>\n      <td></td>\n      <td></td>\n      <td>7</td>\n      <td>35</td>\n      <td>1</td>\n    </tr>\n  </tbody>\n</table>\n</div>"
     },
     "metadata": {},
     "execution_count": 125
    }
   ],
   "source": [
    "df_final.head()"
   ]
  },
  {
   "cell_type": "markdown",
   "metadata": {},
   "source": [
    "    We still need to convert the string variables"
   ]
  },
  {
   "cell_type": "markdown",
   "metadata": {},
   "source": [
    "    8.4 - Categoriacal One Hot Enconding"
   ]
  },
  {
   "cell_type": "code",
   "execution_count": 126,
   "metadata": {},
   "outputs": [
    {
     "output_type": "display_data",
     "data": {
      "text/plain": "HBox(children=(FloatProgress(value=0.0, description='Process Progress', max=56.0, style=ProgressStyle(descript…",
      "application/vnd.jupyter.widget-view+json": {
       "version_major": 2,
       "version_minor": 0,
       "model_id": "e69f5879a0394535ba1b420bc793ad12"
      }
     },
     "metadata": {}
    },
    {
     "output_type": "stream",
     "name": "stdout",
     "text": "\n"
    }
   ],
   "source": [
    "for c in tqdm_notebook(df_final.columns, desc='Process Progress'): # For all columns on the given dataframe\n",
    "\n",
    "    if df_final.dtypes[c] == 'O': # wecheck if the given column is an object type\n",
    "\n",
    "        df_final = pd.get_dummies(df_final, columns=[c], dtype=int) # we replace it by the binary representaion"
   ]
  },
  {
   "cell_type": "markdown",
   "metadata": {},
   "source": [
    "## 9 - Purchase Probability Prediction"
   ]
  },
  {
   "cell_type": "markdown",
   "metadata": {},
   "source": [
    "    9.1 - Saving our third checkpoint "
   ]
  },
  {
   "cell_type": "code",
   "execution_count": 127,
   "metadata": {},
   "outputs": [],
   "source": [
    "checkpoint_3 = df_final.copy() # copying final checkpoint"
   ]
  },
  {
   "cell_type": "markdown",
   "metadata": {},
   "source": [
    "    9.2 - Taking a look at our Target Variable"
   ]
  },
  {
   "cell_type": "code",
   "execution_count": 128,
   "metadata": {},
   "outputs": [],
   "source": [
    "from scipy import stats # for some statistics\n",
    "#from scipy.stats import norm, skew "
   ]
  },
  {
   "cell_type": "code",
   "execution_count": 129,
   "metadata": {},
   "outputs": [],
   "source": [
    "(mu, sigma) = stats.norm.fit(checkpoint_3['Household Purchased Product'] ) # calculating mean and standard deviation of target variable"
   ]
  },
  {
   "cell_type": "code",
   "execution_count": 130,
   "metadata": {},
   "outputs": [],
   "source": [
    "# sns.distplot(checkpoint_3['Household Purchased Product']); # distribution plot with normalized fitting\n",
    "\n",
    "# plt.legend('Normal distribution')\n",
    "# plt.ylabel('Frequency')\n",
    "# plt.title('Household Purchased Product distribution -- Mu:' + ' ' + str(mu) + ' ' + 'Sigma:' + ' ' + str(sigma) )"
   ]
  },
  {
   "cell_type": "markdown",
   "metadata": {},
   "source": [
    "    As a binary variable we wont need to standardize it"
   ]
  },
  {
   "cell_type": "markdown",
   "metadata": {},
   "source": [
    "    9.3 - Checking our data correlation"
   ]
  },
  {
   "cell_type": "code",
   "execution_count": 131,
   "metadata": {},
   "outputs": [],
   "source": [
    "corrmat = abs(checkpoint_3.corr()) # dataframe correlation"
   ]
  },
  {
   "cell_type": "code",
   "execution_count": 132,
   "metadata": {},
   "outputs": [],
   "source": [
    "#plt.figure(figsize=(20,20))\n",
    "#sns.heatmap(corrmat, square=True, robust=True); # matrix correlation"
   ]
  },
  {
   "cell_type": "markdown",
   "metadata": {},
   "source": [
    "    9.4 - Feature Selection"
   ]
  },
  {
   "cell_type": "markdown",
   "metadata": {},
   "source": [
    "        9.4.1 - Pearson Correlation (Filtering Metod)"
   ]
  },
  {
   "cell_type": "markdown",
   "metadata": {},
   "source": [
    "    Let's target to our objective. The prediction of the Percentage of a given Household buy a AAA product"
   ]
  },
  {
   "cell_type": "code",
   "execution_count": 133,
   "metadata": {},
   "outputs": [],
   "source": [
    "k = 10 #number of variables for heatmap\n",
    "\n",
    "cols = corrmat.nlargest(k, 'Household Purchased Product')['Household Purchased Product'].index # The tenth greater correlation columns\n",
    "\n",
    "focus_corr = abs(np.corrcoef(checkpoint_3[cols].values.T)) # correlation calculated considering only the tenth more correlated columns\n",
    "\n",
    "#plt.figure(figsize=(15,10))\n",
    "\n",
    "#hm = sns.heatmap(focus_corr, cbar=True, annot=True, square=True, fmt='.2f', annot_kws={'size': 10}, yticklabels=cols.values, xticklabels=cols.values) # correlation matrix\n",
    "\n",
    "#plt.show()"
   ]
  },
  {
   "cell_type": "markdown",
   "metadata": {},
   "source": [
    "    We have narrow down to 10 features. However, for linear regression, we still need to check intra-dependencies among those features. In here, we will consider a set of dependent variables when they have a correlation magnitude higher than 55%."
   ]
  },
  {
   "cell_type": "code",
   "execution_count": 134,
   "metadata": {},
   "outputs": [],
   "source": [
    "cols_greater = cols[1:-2] # removing two last columns only to remain the higher correlations values and remove the target variable for this view\n",
    "\n",
    "focus_corr_greater = abs(np.corrcoef(checkpoint_3[cols_greater].values.T)) # correlation calculated considering only the tenth more correlated columns\n",
    "\n",
    "#plt.figure(figsize=(15,10))\n",
    "\n",
    "#hm = sns.heatmap(focus_corr_greater, cbar=True, annot=True, square=True, fmt='.2f', annot_kws={'size': 10}, yticklabels=cols_greater.values, xticklabels=cols_greater.values) # correlation matrix\n",
    "\n",
    "#plt.show()"
   ]
  },
  {
   "cell_type": "markdown",
   "metadata": {},
   "source": [
    "    As we can see, the columns Total Number of Purchased Product and Purchased Product 7 are highly correlated. Therefore, we only need to maintain one of them. In this case, we will maintain the Total Number of Purchased Product because it has a higher correlation score with the target feature than the other."
   ]
  },
  {
   "cell_type": "code",
   "execution_count": 135,
   "metadata": {},
   "outputs": [],
   "source": [
    "pearson_features = cols_greater.drop('Purchased Product 7').tolist() # saving our features selecter using the filtering method (Pearson Correlation)"
   ]
  },
  {
   "cell_type": "markdown",
   "metadata": {},
   "source": [
    "        9.4.2 - Recursive Feature Elimination"
   ]
  },
  {
   "cell_type": "markdown",
   "metadata": {},
   "source": [
    "            9.4.2.1 - Sklearn libraries for analysis"
   ]
  },
  {
   "cell_type": "code",
   "execution_count": 136,
   "metadata": {},
   "outputs": [],
   "source": [
    "from sklearn.feature_selection import RFE\n",
    "from sklearn.linear_model import LogisticRegression\n",
    "from sklearn.model_selection import train_test_split\n",
    "from sklearn.preprocessing import MinMaxScaler\n",
    "from sklearn.preprocessing import StandardScaler\n",
    "from sklearn.metrics import classification_report"
   ]
  },
  {
   "cell_type": "markdown",
   "metadata": {},
   "source": [
    "            9.4.2.2 - Create the the label data, expected output using our checkpoint3 and converting it to array"
   ]
  },
  {
   "cell_type": "code",
   "execution_count": 137,
   "metadata": {},
   "outputs": [],
   "source": [
    "entry = checkpoint_3.drop(columns='Household Purchased Product').values # converting our features to be analyzed by the RFE method to array type\n",
    "\n",
    "target = checkpoint_3['Household Purchased Product'].values # converting our target to array type"
   ]
  },
  {
   "cell_type": "code",
   "execution_count": 138,
   "metadata": {},
   "outputs": [],
   "source": [
    "model = LogisticRegression(solver='lbfgs', n_jobs= 9, penalty='l2') # lbfgs solver is recommended for large datasets and we choose l1 norm for a better convergency"
   ]
  },
  {
   "cell_type": "markdown",
   "metadata": {},
   "source": [
    "            9.4.2.4 - RFE experiment for multiples number of possible features"
   ]
  },
  {
   "cell_type": "code",
   "execution_count": 139,
   "metadata": {},
   "outputs": [
    {
     "output_type": "display_data",
     "data": {
      "text/plain": "HBox(children=(FloatProgress(value=0.0, description='RFE Optimum Number of Features', max=7.0, style=ProgressS…",
      "application/vnd.jupyter.widget-view+json": {
       "version_major": 2,
       "version_minor": 0,
       "model_id": "af4c7bd9ba3d4f919951c0d75c6e7139"
      }
     },
     "metadata": {}
    },
    {
     "output_type": "stream",
     "name": "stdout",
     "text": "\n"
    }
   ],
   "source": [
    "import numpy.matlib as matlib # for data augmentation procedure\n",
    "\n",
    "number_possible_features = np.arange(3, 10) # list of number of possible features\n",
    "           \n",
    "features_list_score = [] # list to track calculated scores\n",
    "\n",
    "selected_features = [] # list to track selected features\n",
    "\n",
    "for n in tqdm_notebook(range(len(number_possible_features)), desc='RFE Optimum Number of Features'): # for all possibel number of optimum features\n",
    "\n",
    "        rfe = RFE(model, number_possible_features[n]) # defining RFE experiment\n",
    "\n",
    "        rfe.fit(MinMaxScaler().fit_transform(StandardScaler().fit_transform(entry)), target); # fitting\n",
    "\n",
    "        temp = pd.Series(rfe.support_,  index = list(checkpoint_3.drop(columns='Household Purchased Product').columns)) # mask for RFE features\n",
    "\n",
    "        tmp_selected_features = temp[temp==True].index.tolist() # selecting columns where the mask is True\n",
    "\n",
    "        selected_features.append(tmp_selected_features) # appending to our list\n",
    "\n",
    "        x_train, x_test, y_train, y_test = train_test_split(MinMaxScaler().fit_transform(StandardScaler().fit_transform(checkpoint_3[tmp_selected_features])), target, test_size = 0.7, random_state = 42, shuffle=True) # splitting dataset as train and test\n",
    "\n",
    "\n",
    "        x2 = np.matlib.repmat(x_train, 10, 1) # as we have an imbalanced sample of classes, we perform a data augmentation procedure to avoid miss prediction\n",
    "\n",
    "        y2 = np.matlib.repmat(y_train, 10, 1).ravel() # as we have an imbalanced sample of classes, we perform a data augmentation procedure to avoid miss prediction\n",
    "\n",
    "        model.fit(x2, y2) # fitting the model\n",
    "\n",
    "        tmp_score = model.score(x_test, y_test) # scoring the model \n",
    "\n",
    "        features_list_score.append(tmp_score) # appending to the score list\n",
    "        "
   ]
  },
  {
   "cell_type": "code",
   "execution_count": 140,
   "metadata": {},
   "outputs": [
    {
     "output_type": "stream",
     "name": "stdout",
     "text": "Selected features for K = 3 \n\n['Purchased Product 7', 'Purchased Product 8', 'Total Number of Purchased Products'] \n\nCorresponding Score: 1.0\nSelected features for K = 4 \n\n['Purchased Product 2', 'Purchased Product 7', 'Purchased Product 8', 'Total Number of Purchased Products'] \n\nCorresponding Score: 1.0\nSelected features for K = 5 \n\n['Purchased Product 1', 'Purchased Product 2', 'Purchased Product 7', 'Purchased Product 8', 'Total Number of Purchased Products'] \n\nCorresponding Score: 1.0\nSelected features for K = 6 \n\n['Purchased Product 1', 'Purchased Product 2', 'Purchased Product 5', 'Purchased Product 7', 'Purchased Product 8', 'Total Number of Purchased Products'] \n\nCorresponding Score: 0.9979072200906871\nSelected features for K = 7 \n\n['Purchased Product 1', 'Purchased Product 2', 'Purchased Product 3', 'Purchased Product 5', 'Purchased Product 7', 'Purchased Product 8', 'Total Number of Purchased Products'] \n\nCorresponding Score: 0.9996512033484478\nSelected features for K = 8 \n\n['Purchased Product 1', 'Purchased Product 2', 'Purchased Product 3', 'Purchased Product 5', 'Purchased Product 6', 'Purchased Product 7', 'Purchased Product 8', 'Total Number of Purchased Products'] \n\nCorresponding Score: 0.9996512033484478\nSelected features for K = 9 \n\n['Purchased Product 1', 'Purchased Product 2', 'Purchased Product 3', 'Purchased Product 5', 'Purchased Product 6', 'Purchased Product 7', 'Purchased Product 8', 'Total Number of Purchased Products', 'Member Status_CANCELLED'] \n\nCorresponding Score: 0.9996512033484478\n"
    }
   ],
   "source": [
    "for i in range(len(selected_features)):\n",
    "\n",
    "    print('Selected features for K =' + ' ' + str(i+3), '\\n')\n",
    "\n",
    "    print(selected_features[i], '\\n')\n",
    "\n",
    "    print('Corresponding Score:' + ' ' + str(features_list_score[i]))"
   ]
  },
  {
   "cell_type": "markdown",
   "metadata": {},
   "source": [
    "    We have seen that for K till 5 we maintain a score equal 1. In this sense we choose the biggest K to use the most of the available features"
   ]
  },
  {
   "cell_type": "code",
   "execution_count": 141,
   "metadata": {},
   "outputs": [],
   "source": [
    "rfe_features = selected_features[2] # choosing RFE selected features"
   ]
  },
  {
   "cell_type": "markdown",
   "metadata": {},
   "source": [
    "        9.5.1 - For Features Selected using the Filtering Method"
   ]
  },
  {
   "cell_type": "markdown",
   "metadata": {},
   "source": [
    "    9.5 - Prediction of Purchased Probability using select features"
   ]
  },
  {
   "cell_type": "markdown",
   "metadata": {},
   "source": [
    "             9.5.1.1 - Performing Prediction"
   ]
  },
  {
   "cell_type": "code",
   "execution_count": 142,
   "metadata": {},
   "outputs": [
    {
     "output_type": "execute_result",
     "data": {
      "text/plain": "1.0"
     },
     "metadata": {},
     "execution_count": 142
    }
   ],
   "source": [
    "model = LogisticRegression(solver='lbfgs', n_jobs= 9, penalty='l2') # lbfgs solver is recommended for large datasets and we choose l2 norm for a better convergency\n",
    "\n",
    "x_train, x_test, y_train, y_test = train_test_split(MinMaxScaler().fit_transform(StandardScaler().fit_transform(checkpoint_3[pearson_features])), target, test_size = 0.7, random_state = 42, shuffle=True) # splitting dataset using features selected for the filtering method\n",
    "\n",
    "x2 = np.matlib.repmat(x_train, 10, 1) # as we have an imbalanced sample of classes, we perform a data augmentation procedure to avoid miss prediction\n",
    "\n",
    "y2 = np.matlib.repmat(y_train, 10, 1).ravel() # as we have an imbalanced sample of classes, we perform a data augmentation procedure to avoid miss prediction\n",
    "\n",
    "model.fit(x2, y2) # fitting the model\n",
    "\n",
    "model.score(x_test, y_test) # scoring the model "
   ]
  },
  {
   "cell_type": "markdown",
   "metadata": {},
   "source": [
    "            9.5.1.2 - Analyzing Result "
   ]
  },
  {
   "cell_type": "code",
   "execution_count": 143,
   "metadata": {},
   "outputs": [],
   "source": [
    "pearson_feat_pred = model.predict(MinMaxScaler().fit_transform(StandardScaler().fit_transform(checkpoint_3[pearson_features]))) # predicting the target variable using the entire input\n",
    "\n",
    "pearson_feat_pred_proba = model.predict_proba(MinMaxScaler().fit_transform(StandardScaler().fit_transform(checkpoint_3[pearson_features]))) # predicting the probability of belonging to a given class of the target variable using the entire input"
   ]
  },
  {
   "cell_type": "markdown",
   "metadata": {},
   "source": [
    "            9.5.1.3 - Analyzing Metrics "
   ]
  },
  {
   "cell_type": "code",
   "execution_count": 144,
   "metadata": {},
   "outputs": [
    {
     "output_type": "stream",
     "name": "stdout",
     "text": "precision    recall  f1-score   support\n\nHousehold did not Purchased any Product       1.00      1.00      1.00      2594\n   Household did Purchased some Product       1.00      1.00      1.00      1501\n\n                               accuracy                           1.00      4095\n                              macro avg       1.00      1.00      1.00      4095\n                           weighted avg       1.00      1.00      1.00      4095\n\n"
    }
   ],
   "source": [
    "calss_ids = ['Household did not Purchased any Product', 'Household did Purchased some Product'] # classes names\n",
    "\n",
    "print(classification_report(target, pearson_feat_pred, target_names=calss_ids)) # classification report"
   ]
  },
  {
   "cell_type": "markdown",
   "metadata": {},
   "source": [
    "        9.5.2 - For Features Selected using the RFE Method"
   ]
  },
  {
   "cell_type": "markdown",
   "metadata": {},
   "source": [
    "            9.5.2.1 - Performing Prediction"
   ]
  },
  {
   "cell_type": "code",
   "execution_count": 145,
   "metadata": {},
   "outputs": [
    {
     "output_type": "execute_result",
     "data": {
      "text/plain": "1.0"
     },
     "metadata": {},
     "execution_count": 145
    }
   ],
   "source": [
    "model = LogisticRegression(solver='lbfgs', n_jobs= 9, penalty='l2') # lbfgs solver is recommended for large datasets and we choose l2 norm for a better convergency\n",
    "\n",
    "x_train, x_test, y_train, y_test = train_test_split(MinMaxScaler().fit_transform(StandardScaler().fit_transform(checkpoint_3[rfe_features])), target, test_size = 0.7, random_state = 42, shuffle=True) # splitting dataset using features selected for the filtering method\n",
    "\n",
    "x2 = np.matlib.repmat(x_train, 10, 1) # as we have an imbalanced sample of classes, we perform a data augmentation procedure to avoid miss prediction\n",
    "\n",
    "y2 = np.matlib.repmat(y_train, 10, 1).ravel() # as we have an imbalanced sample of classes, we perform a data augmentation procedure to avoid miss prediction\n",
    "\n",
    "model.fit(x2, y2) # fitting the model\n",
    "\n",
    "model.score(x_test, y_test) # scoring the model "
   ]
  },
  {
   "cell_type": "markdown",
   "metadata": {},
   "source": [
    "            9.5.2.2 - Analyzing Result "
   ]
  },
  {
   "cell_type": "code",
   "execution_count": 146,
   "metadata": {},
   "outputs": [],
   "source": [
    "rfe_feat_pred = model.predict(MinMaxScaler().fit_transform(StandardScaler().fit_transform(checkpoint_3[rfe_features]))) # predicting the target variable using the entire input\n",
    "\n",
    "rfe_feat_pred_proba = model.predict_proba(MinMaxScaler().fit_transform(StandardScaler().fit_transform(checkpoint_3[rfe_features]))) # predicting the probability of belonging to a given class of the target variable using the entire input"
   ]
  },
  {
   "cell_type": "markdown",
   "metadata": {},
   "source": [
    "            9.5.2.3 - Analyzing Metrics "
   ]
  },
  {
   "cell_type": "code",
   "execution_count": 147,
   "metadata": {},
   "outputs": [
    {
     "output_type": "stream",
     "name": "stdout",
     "text": "precision    recall  f1-score   support\n\nHousehold did not Purchased any Product       1.00      1.00      1.00      2594\n   Household did Purchased some Product       1.00      1.00      1.00      1501\n\n                               accuracy                           1.00      4095\n                              macro avg       1.00      1.00      1.00      4095\n                           weighted avg       1.00      1.00      1.00      4095\n\n"
    }
   ],
   "source": [
    "print(classification_report(target, rfe_feat_pred, target_names=calss_ids)) # classification report"
   ]
  },
  {
   "cell_type": "markdown",
   "metadata": {},
   "source": [
    "    Both approaches present solid results, but we still need to choose one of them. Lets see the most accurate probability among them."
   ]
  },
  {
   "cell_type": "code",
   "execution_count": 148,
   "metadata": {},
   "outputs": [],
   "source": [
    "class_repo = pd.DataFrame.from_dict(classification_report(target, rfe_feat_pred, target_names=calss_ids, output_dict=True)) # passing classification report to dataframe"
   ]
  },
  {
   "cell_type": "code",
   "execution_count": 149,
   "metadata": {},
   "outputs": [],
   "source": [
    "class_repo.rename(index={'precision': 'Precision', 'recall': 'Recall', 'f1-score': 'F1-Score'}, inplace=True) # renaming columns"
   ]
  },
  {
   "cell_type": "code",
   "execution_count": 150,
   "metadata": {},
   "outputs": [],
   "source": [
    "#plt.figure(figsize=(10,5))\n",
    "\n",
    "#sns.barplot(x=class_repo['Household did Purchased some Product'][0:-1].index, y=class_repo['Household did Purchased some Product'][0:-1])\n",
    "#plt.xlabel('Metrics', fontsize=12, weight='bold')\n",
    "#plt.ylabel('Normalized Percentage', fontsize=12, weight='bold')\n",
    "#plt.title('Model Metrics for Purchase Product Probability', fontsize=15, weight='bold')\n",
    "#plt.savefig('model_metrics_purch.png', dpi=200, bbox_inches='tight')\n",
    "#plt.show()"
   ]
  },
  {
   "cell_type": "markdown",
   "metadata": {},
   "source": [
    "    9.6 - Approach Choice and Creation of the new column"
   ]
  },
  {
   "cell_type": "code",
   "execution_count": 151,
   "metadata": {},
   "outputs": [
    {
     "output_type": "execute_result",
     "data": {
      "text/plain": "2595.190840728762"
     },
     "metadata": {},
     "execution_count": 151
    }
   ],
   "source": [
    "abs((pearson_feat_pred_proba - 1)[:, 1]).sum() # total distance between the binary correct label"
   ]
  },
  {
   "cell_type": "code",
   "execution_count": 152,
   "metadata": {},
   "outputs": [
    {
     "output_type": "execute_result",
     "data": {
      "text/plain": "2592.359024894099"
     },
     "metadata": {},
     "execution_count": 152
    }
   ],
   "source": [
    "abs((rfe_feat_pred_proba - 1)[:, 1]).sum()  # total distance between the binary correct label"
   ]
  },
  {
   "cell_type": "markdown",
   "metadata": {},
   "source": [
    "    As we can see, the RFE method provided a more accurate prediction than the Filtering Method. Therefore, we will use the RFE probability prediction to generate our new column"
   ]
  },
  {
   "cell_type": "code",
   "execution_count": 153,
   "metadata": {},
   "outputs": [],
   "source": [
    "checkpoint_3['Household Purchase Product Probability'] = rfe_feat_pred_proba[:, 1] # creating new column"
   ]
  },
  {
   "cell_type": "markdown",
   "metadata": {},
   "source": [
    "## 10 - Roadside Usage Probability Prediction"
   ]
  },
  {
   "cell_type": "markdown",
   "metadata": {},
   "source": [
    "    10.1 - Taking a look at our Target Variable"
   ]
  },
  {
   "cell_type": "code",
   "execution_count": 154,
   "metadata": {},
   "outputs": [],
   "source": [
    "(mu, sigma) = stats.norm.fit(checkpoint_3['Household have used the Roadside Services'] ) # calculating mean and standard deviation of target variable\n"
   ]
  },
  {
   "cell_type": "code",
   "execution_count": 155,
   "metadata": {},
   "outputs": [],
   "source": [
    "# sns.distplot(checkpoint_3['Household have used the Roadside Services']); # distribution plot with normalized fitting\n",
    "\n",
    "# plt.legend('Normal distribution')\n",
    "# plt.ylabel('Frequency')\n",
    "# plt.title('Household have used the Roadside Services distribution -- Mu:' + ' ' + str(mu) + ' ' + 'Sigma:' + ' ' + str(sigma) )"
   ]
  },
  {
   "cell_type": "markdown",
   "metadata": {},
   "source": [
    "    In this case, the variable presents a even more unbalanced distribution than the previous one"
   ]
  },
  {
   "cell_type": "markdown",
   "metadata": {},
   "source": [
    "    10.2 - Feature Selection"
   ]
  },
  {
   "cell_type": "markdown",
   "metadata": {},
   "source": [
    "        10.2.1 - Pearson Correlation (Filtering Metod)"
   ]
  },
  {
   "cell_type": "code",
   "execution_count": 156,
   "metadata": {},
   "outputs": [],
   "source": [
    "k = 10 #number of variables for heatmap\n",
    "\n",
    "cols = corrmat.nlargest(k, 'Household have used the Roadside Services')['Household have used the Roadside Services'].index # The tenth greater correlation columns\n",
    "\n",
    "focus_corr = abs(np.corrcoef(checkpoint_3[cols].values.T)) # correlation calculated considering only the tenth more correlated columns\n",
    "\n",
    "#plt.figure(figsize=(15,10))\n",
    "\n",
    "#hm = sns.heatmap(focus_corr, cbar=True, annot=True, square=True, fmt='.2f', annot_kws={'size': 10}, yticklabels=cols.values, xticklabels=cols.values) # correlation matrix\n",
    "\n",
    "#plt.show()"
   ]
  },
  {
   "cell_type": "markdown",
   "metadata": {},
   "source": [
    "                We have narrow down to 10 features. However, for linear regression, we still need to check intra-dependencies among those features. In here, we will consider all available variables in a way they all make sense to be related to the target variable.\n"
   ]
  },
  {
   "cell_type": "code",
   "execution_count": 157,
   "metadata": {},
   "outputs": [],
   "source": [
    "cols_greater = cols[1::]\n",
    "\n",
    "focus_corr_greater = abs(np.corrcoef(checkpoint_3[cols_greater].values.T)) # correlation calculated considering only the tenth more correlated columns\n",
    "\n",
    "#plt.figure(figsize=(15,10))\n",
    "\n",
    "#hm = sns.heatmap(focus_corr_greater, cbar=True, annot=True, square=True, fmt='.2f', annot_kws={'size': 10}, yticklabels=cols_greater.values, xticklabels=cols_greater.values) # correlation matrix\n",
    "\n",
    "#plt.show()"
   ]
  },
  {
   "cell_type": "markdown",
   "metadata": {},
   "source": [
    "    As we can see, the columns Total Number of Roadside Calss, Frequency of use of Roadside Services are the same. Therefore, we only need to maintain one of them. In this case, we will maintain the first one."
   ]
  },
  {
   "cell_type": "code",
   "execution_count": 158,
   "metadata": {},
   "outputs": [],
   "source": [
    "pearson_features = cols_greater.drop('Frequency of use of Roadside Services').tolist() # saving our features selecter using the filtering method (Pearson Correlation)\n"
   ]
  },
  {
   "cell_type": "markdown",
   "metadata": {},
   "source": [
    "        10.2.2 - Recursive Feature Elimination\n"
   ]
  },
  {
   "cell_type": "markdown",
   "metadata": {},
   "source": [
    "            10.2.2.1 - Create the the label data, expected output using our checkpoint3 and converting it to array"
   ]
  },
  {
   "cell_type": "code",
   "execution_count": 159,
   "metadata": {},
   "outputs": [],
   "source": [
    "entry = checkpoint_3.drop(columns='Household have used the Roadside Services').values # converting our features to be analyzed by the RFE method to array type\n",
    "\n",
    "target = checkpoint_3['Household have used the Roadside Services'].values # converting our target to array type\n"
   ]
  },
  {
   "cell_type": "markdown",
   "metadata": {},
   "source": [
    "            10.2.2.2 - RFE experiment for multiples number of possible features"
   ]
  },
  {
   "cell_type": "code",
   "execution_count": 160,
   "metadata": {},
   "outputs": [
    {
     "output_type": "display_data",
     "data": {
      "text/plain": "HBox(children=(FloatProgress(value=0.0, description='RFE Optimum Number of Features', max=7.0, style=ProgressS…",
      "application/vnd.jupyter.widget-view+json": {
       "version_major": 2,
       "version_minor": 0,
       "model_id": "1139d82932554482b8bd77c04565804e"
      }
     },
     "metadata": {}
    },
    {
     "output_type": "stream",
     "name": "stdout",
     "text": "\n"
    }
   ],
   "source": [
    "import numpy.matlib as matlib # for data augmentation procedure\n",
    "\n",
    "number_possible_features = np.arange(3, 10) # list of number of possible features\n",
    "           \n",
    "features_list_score = [] # list to track calculated scores\n",
    "\n",
    "selected_features = [] # list to track selected features\n",
    "\n",
    "for n in tqdm_notebook(range(len(number_possible_features)), desc='RFE Optimum Number of Features'):\n",
    "\n",
    "        rfe = RFE(model, number_possible_features[n]) # defining RFE experiment\n",
    "\n",
    "        rfe.fit(MinMaxScaler().fit_transform(StandardScaler().fit_transform(entry)), target); # fitting\n",
    "\n",
    "        temp = pd.Series(rfe.support_,  index = list(checkpoint_3.drop(columns='Household have used the Roadside Services').columns)) # selecting RFE columns features\n",
    "\n",
    "        tmp_selected_features = temp[temp==True].index.tolist()\n",
    "\n",
    "        selected_features.append(tmp_selected_features) # appending to our list\n",
    "\n",
    "        x_train, x_test, y_train, y_test = train_test_split(MinMaxScaler().fit_transform(checkpoint_3[tmp_selected_features]), target, test_size = 0.7, random_state = 42, shuffle=True)\n",
    "\n",
    "\n",
    "        x2 = np.matlib.repmat(x_train, 10, 1) # as we have an imbalanced sample of classes, we perform a data augmentation procedure to avoid miss prediction\n",
    "\n",
    "        y2 = np.matlib.repmat(y_train, 10, 1).ravel() # as we have an imbalanced sample of classes, we perform a data augmentation procedure to avoid miss prediction\n",
    "\n",
    "        model.fit(x2, y2) # fitting the model\n",
    "\n",
    "        tmp_score = model.score(x_test, y_test) # scoring the model \n",
    "\n",
    "        features_list_score.append(tmp_score) # appending to the score list"
   ]
  },
  {
   "cell_type": "code",
   "execution_count": 161,
   "metadata": {},
   "outputs": [
    {
     "output_type": "stream",
     "name": "stdout",
     "text": "Selected features for K = 3 \n\n['Number of Roadside calss for Year 2', 'Total Number of Roadside Calls', 'Frequency of use of Roadside Services'] \n\nCorresponding Score: 0.9794209975584235\nSelected features for K = 4 \n\n['Number of Roadside calss for Year 2', 'Number of Roadside calss for Year 3', 'Total Number of Roadside Calls', 'Frequency of use of Roadside Services'] \n\nCorresponding Score: 0.9853505406348099\nSelected features for K = 5 \n\n['Number of Roadside calss for Year 1', 'Number of Roadside calss for Year 2', 'Number of Roadside calss for Year 3', 'Total Number of Roadside Calls', 'Frequency of use of Roadside Services'] \n\nCorresponding Score: 0.9794209975584235\nSelected features for K = 6 \n\n['Number of Roadside calss for Year 1', 'Number of Roadside calss for Year 2', 'Number of Roadside calss for Year 3', 'Total Number of Roadside Calls', 'Total Roadside Member Cost', 'Frequency of use of Roadside Services'] \n\nCorresponding Score: 0.9825601674223927\nSelected features for K = 7 \n\n['Number of Roadside calss for Year 1', 'Number of Roadside calss for Year 2', 'Number of Roadside calss for Year 3', 'Basic Cost', 'Total Number of Roadside Calls', 'Total Roadside Member Cost', 'Frequency of use of Roadside Services'] \n\nCorresponding Score: 0.9790722009068713\nSelected features for K = 8 \n\n['Number of Roadside calss for Year 1', 'Number of Roadside calss for Year 2', 'Number of Roadside calss for Year 3', 'Roadside Member Cost for Year 3', 'Basic Cost', 'Total Number of Roadside Calls', 'Total Roadside Member Cost', 'Frequency of use of Roadside Services'] \n\nCorresponding Score: 0.9790722009068713\nSelected features for K = 9 \n\n['Number of Roadside calss for Year 1', 'Number of Roadside calss for Year 2', 'Number of Roadside calss for Year 3', 'Roadside Member Cost for Year 2', 'Roadside Member Cost for Year 3', 'Basic Cost', 'Total Number of Roadside Calls', 'Total Roadside Member Cost', 'Frequency of use of Roadside Services'] \n\nCorresponding Score: 0.9790722009068713\n"
    }
   ],
   "source": [
    "for i in range(len(selected_features)):\n",
    "\n",
    "    print('Selected features for K =' + ' ' + str(i+3), '\\n')\n",
    "\n",
    "    print(selected_features[i], '\\n')\n",
    "\n",
    "    print('Corresponding Score:' + ' ' + str(features_list_score[i]))"
   ]
  },
  {
   "cell_type": "code",
   "execution_count": 162,
   "metadata": {},
   "outputs": [],
   "source": [
    "idx = features_list_score.index(max(features_list_score)) # index of max value on the scores list\n",
    "\n",
    "rfe_features = selected_features[idx] # choosing RFE selected features"
   ]
  },
  {
   "cell_type": "markdown",
   "metadata": {},
   "source": [
    "    10.3 - Prediction of Roadside Services Usage Probability using select features "
   ]
  },
  {
   "cell_type": "markdown",
   "metadata": {},
   "source": [
    "        10.3.1 - For Features Selected using the Filtering Method"
   ]
  },
  {
   "cell_type": "markdown",
   "metadata": {},
   "source": [
    "            10.3.1.1 - Performing Prediction"
   ]
  },
  {
   "cell_type": "code",
   "execution_count": 163,
   "metadata": {},
   "outputs": [
    {
     "output_type": "execute_result",
     "data": {
      "text/plain": "0.978374607603767"
     },
     "metadata": {},
     "execution_count": 163
    }
   ],
   "source": [
    "x_train, x_test, y_train, y_test = train_test_split(MinMaxScaler().fit_transform(checkpoint_3[pearson_features]), target, test_size = 0.7, random_state = 42, shuffle=True) # splitting dataset using features selected for the filtering method\n",
    "\n",
    "x2 = np.matlib.repmat(x_train, 10, 1) # as we have an imbalanced sample of classes, we perform a data augmentation procedure to avoid miss prediction\n",
    "\n",
    "y2 = np.matlib.repmat(y_train, 10, 1).ravel() # as we have an imbalanced sample of classes, we perform a data augmentation procedure to avoid miss prediction\n",
    "\n",
    "model.fit(x2, y2) # fitting the model\n",
    "\n",
    "model.score(x_test, y_test) # scoring the model "
   ]
  },
  {
   "cell_type": "markdown",
   "metadata": {},
   "source": [
    "            10.3.1.2 - Analyzing Result"
   ]
  },
  {
   "cell_type": "code",
   "execution_count": 164,
   "metadata": {},
   "outputs": [],
   "source": [
    "pearson_feat_pred = model.predict(MinMaxScaler().fit_transform(checkpoint_3[pearson_features])) # predicting the target variable using the entire input\n",
    "\n",
    "pearson_feat_pred_proba = model.predict_proba(MinMaxScaler().fit_transform(checkpoint_3[pearson_features])) # predicting the probability of belonging to a given class of the target variable using the entire input"
   ]
  },
  {
   "cell_type": "markdown",
   "metadata": {},
   "source": [
    "            10.3.1.3 - Analyzing Metrics "
   ]
  },
  {
   "cell_type": "code",
   "execution_count": 165,
   "metadata": {},
   "outputs": [
    {
     "output_type": "stream",
     "name": "stdout",
     "text": "precision    recall  f1-score   support\n\nHousehold did not use Roadside Services       0.93      0.99      0.96      1152\n    Household did use Roadside Services       1.00      0.97      0.98      2943\n\n                               accuracy                           0.98      4095\n                              macro avg       0.96      0.98      0.97      4095\n                           weighted avg       0.98      0.98      0.98      4095\n\n"
    }
   ],
   "source": [
    "calss_ids = ['Household did not use Roadside Services', 'Household did use Roadside Services'] # classes names\n",
    "\n",
    "\n",
    "print(classification_report(target, pearson_feat_pred, target_names=calss_ids)) # classification report"
   ]
  },
  {
   "cell_type": "markdown",
   "metadata": {},
   "source": [
    "            10.3.2 - For Features Selected using the RFE Method"
   ]
  },
  {
   "cell_type": "markdown",
   "metadata": {},
   "source": [
    "                10.3.2.1 - Performing Prediction"
   ]
  },
  {
   "cell_type": "code",
   "execution_count": 166,
   "metadata": {},
   "outputs": [
    {
     "output_type": "execute_result",
     "data": {
      "text/plain": "0.9853505406348099"
     },
     "metadata": {},
     "execution_count": 166
    }
   ],
   "source": [
    "x_train, x_test, y_train, y_test = train_test_split(MinMaxScaler().fit_transform(checkpoint_3[rfe_features]), target, test_size = 0.7, random_state = 42, shuffle=True) # splitting dataset using features selected for the filtering method\n",
    "\n",
    "x2 = np.matlib.repmat(x_train, 10, 1) # as we have an imbalanced sample of classes, we perform a data augmentation procedure to avoid miss prediction\n",
    "\n",
    "y2 = np.matlib.repmat(y_train, 10, 1).ravel() # as we have an imbalanced sample of classes, we perform a data augmentation procedure to avoid miss prediction\n",
    "\n",
    "model.fit(x2, y2) # fitting the model\n",
    "\n",
    "model.score(x_test, y_test) # scoring the model "
   ]
  },
  {
   "cell_type": "markdown",
   "metadata": {},
   "source": [
    "                10.3.2.2 - Analyzing Result"
   ]
  },
  {
   "cell_type": "code",
   "execution_count": 167,
   "metadata": {},
   "outputs": [],
   "source": [
    "rfe_feat_pred = model.predict(MinMaxScaler().fit_transform(checkpoint_3[rfe_features])) # predicting the target variable using the entire input\n",
    "\n",
    "rfe_feat_pred_proba = model.predict_proba(MinMaxScaler().fit_transform(checkpoint_3[rfe_features])) # predicting the probability of belonging to a given class of the target variable using the entire input"
   ]
  },
  {
   "cell_type": "markdown",
   "metadata": {},
   "source": [
    "                10.3.1.3 - Analyzing Metrics "
   ]
  },
  {
   "cell_type": "code",
   "execution_count": 168,
   "metadata": {},
   "outputs": [
    {
     "output_type": "stream",
     "name": "stdout",
     "text": "precision    recall  f1-score   support\n\nHousehold did not use Roadside Services       0.94      1.00      0.97      1152\n    Household did use Roadside Services       1.00      0.98      0.99      2943\n\n                               accuracy                           0.98      4095\n                              macro avg       0.97      0.99      0.98      4095\n                           weighted avg       0.98      0.98      0.98      4095\n\n"
    }
   ],
   "source": [
    "print(classification_report(target, rfe_feat_pred, target_names=calss_ids)) # classification report"
   ]
  },
  {
   "cell_type": "markdown",
   "metadata": {},
   "source": [
    "    10.4 - Approach Choice and Creation of the new column"
   ]
  },
  {
   "cell_type": "markdown",
   "metadata": {},
   "source": [
    "        In this case, the features selected by the RFE method had better metrics than the filtering method. So, we will use the probability prediction of this from this method"
   ]
  },
  {
   "cell_type": "code",
   "execution_count": 169,
   "metadata": {},
   "outputs": [],
   "source": [
    "checkpoint_3['Household Roadside Usage Probability'] = rfe_feat_pred_proba[:, 1] # creating new column"
   ]
  },
  {
   "cell_type": "markdown",
   "metadata": {},
   "source": [
    "## 11 - Clustering By Household Types"
   ]
  },
  {
   "cell_type": "markdown",
   "metadata": {},
   "source": [
    "    11.1 - Last Checkpoint"
   ]
  },
  {
   "cell_type": "code",
   "execution_count": 170,
   "metadata": {},
   "outputs": [],
   "source": [
    "checkpoint_4 = checkpoint_3.copy() # creating new dataframe"
   ]
  },
  {
   "cell_type": "markdown",
   "metadata": {},
   "source": [
    "    11.2 - Scaling our final checkpoint to K-Means procedure"
   ]
  },
  {
   "cell_type": "code",
   "execution_count": 171,
   "metadata": {},
   "outputs": [],
   "source": [
    "checkpoint_4 = StandardScaler().fit_transform(checkpoint_4) # standardize scaler    \n",
    "\n",
    "checkpoint_4 = MinMaxScaler().fit_transform(checkpoint_4) # normalize scaler\n",
    "\n",
    "checkpoint_4 = pd.DataFrame(checkpoint_4, index=checkpoint_3.index, columns=checkpoint_3.columns) # converting back to dataframe type"
   ]
  },
  {
   "cell_type": "markdown",
   "metadata": {},
   "source": [
    "    11.3 - K-Means Clustering and Hyperparameter Tunning"
   ]
  },
  {
   "cell_type": "markdown",
   "metadata": {},
   "source": [
    "        11.3.1 - Importing Library"
   ]
  },
  {
   "cell_type": "code",
   "execution_count": 172,
   "metadata": {},
   "outputs": [],
   "source": [
    "from sklearn.cluster import KMeans "
   ]
  },
  {
   "cell_type": "markdown",
   "metadata": {},
   "source": [
    "        11.3.2 - Elbow Method of Analysis"
   ]
  },
  {
   "cell_type": "code",
   "execution_count": 173,
   "metadata": {},
   "outputs": [
    {
     "output_type": "display_data",
     "data": {
      "text/plain": "HBox(children=(FloatProgress(value=0.0, description='K-Means Hyperparameter Tunning', max=10.0, style=Progress…",
      "application/vnd.jupyter.widget-view+json": {
       "version_major": 2,
       "version_minor": 0,
       "model_id": "c70208cbe008402cbbf1364dd7193b76"
      }
     },
     "metadata": {}
    },
    {
     "output_type": "stream",
     "name": "stdout",
     "text": "\n"
    }
   ],
   "source": [
    "wcss = [] # Within cluster sum of squares to analyze k-means performance\n",
    "\n",
    "k_number_clusters = np.arange(1, 11) # define number of clusters to test\n",
    "\n",
    "for k in tqdm_notebook(k_number_clusters, desc='K-Means Hyperparameter Tunning'): \n",
    "\n",
    "    kmeans = KMeans(n_clusters=k, init=\"k-means++\", random_state=42, max_iter=500, n_jobs=9) # k-means model definition\n",
    "\n",
    "    kmeans.fit(checkpoint_4) # fitting to our dataframe\n",
    "\n",
    "    wcss.append(kmeans.inertia_) # appending intertia value to our list for further evaluation"
   ]
  },
  {
   "cell_type": "code",
   "execution_count": 174,
   "metadata": {},
   "outputs": [],
   "source": [
    "# plt.figure(figsize=(12,6))    \n",
    "# plt.plot(k_number_clusters, wcss, linewidth=2, color=\"red\", marker =\"8\")\n",
    "# plt.xlabel(\"K Clusters Value\", fontsize=12, weight='bold')\n",
    "# plt.xticks(np.arange(1,11,1))\n",
    "# plt.ylabel(\"Sum of Squared Distances for each closest Cluster Center\", fontsize=12, weight='bold')\n",
    "# plt.title('K-Means Elbow Plot Evaluation Method', fontsize=15, weight='bold')\n",
    "# plt.savefig('elbow_plot.png', dpi=200, bbox_inches='tight')\n",
    "# plt.show()"
   ]
  },
  {
   "cell_type": "markdown",
   "metadata": {},
   "source": [
    "    In here, we will consider that the optimum number o K cluster, the elbow in our plot above, is 4"
   ]
  },
  {
   "cell_type": "markdown",
   "metadata": {},
   "source": [
    "    11.4 - Predict and Append Clusters as a new column on previous unscaled dataframe"
   ]
  },
  {
   "cell_type": "markdown",
   "metadata": {},
   "source": [
    "        11.4.1 - K-Means Clustering Definition and Fitting"
   ]
  },
  {
   "cell_type": "code",
   "execution_count": 175,
   "metadata": {},
   "outputs": [
    {
     "output_type": "execute_result",
     "data": {
      "text/plain": "array([3, 1, 3, ..., 1, 0, 1])"
     },
     "metadata": {},
     "execution_count": 175
    }
   ],
   "source": [
    "optimum_clustering = KMeans(n_clusters=4, init=\"k-means++\", random_state=42, max_iter=500, n_jobs=9) # optimum k-means\n",
    "\n",
    "optimum_clustering.fit_predict(checkpoint_4) # fit and predicitions"
   ]
  },
  {
   "cell_type": "markdown",
   "metadata": {},
   "source": [
    "        11.4.2 - Creating Classes Column on our new dataframe made from the previous one"
   ]
  },
  {
   "cell_type": "code",
   "execution_count": 176,
   "metadata": {},
   "outputs": [],
   "source": [
    "classes_frame = checkpoint_2[sequence[0]].copy() # final checkpoint"
   ]
  },
  {
   "cell_type": "code",
   "execution_count": 177,
   "metadata": {},
   "outputs": [],
   "source": [
    "classes_frame['Household Group Label'] = optimum_clustering.labels_ # pushing labels to final dataframe\n",
    "\n",
    "classes_frame['Household Purchase Product Probability'] = checkpoint_3['Household Purchase Product Probability'].values # appending column\n",
    "\n",
    "classes_frame['Household Roadside Usage Probability'] = checkpoint_3['Household Roadside Usage Probability'].values # appending column\n",
    "\n",
    "classes_frame['Membership Type_Basic'] = checkpoint_4['Membership Type_Basic'].values # appending column\n",
    "\n",
    "classes_frame['Membership Type_Plus'] = checkpoint_4['Membership Type_Plus'].values # appending column\n",
    "\n",
    "classes_frame['Membership Type_Premier'] = checkpoint_4['Membership Type_Premier'].values # appending column"
   ]
  },
  {
   "cell_type": "markdown",
   "metadata": {},
   "source": [
    "## 12 - Result Evaluation"
   ]
  },
  {
   "cell_type": "code",
   "execution_count": 179,
   "metadata": {},
   "outputs": [],
   "source": [
    "class_0 = classes_frame.loc[classes_frame['Household Group Label'] == 0]\n",
    "\n",
    "class_1 = classes_frame.loc[classes_frame['Household Group Label'] == 1]\n",
    "\n",
    "class_2 = classes_frame.loc[classes_frame['Household Group Label'] == 2]\n",
    "\n",
    "class_3 = classes_frame.loc[classes_frame['Household Group Label'] == 3]"
   ]
  },
  {
   "cell_type": "markdown",
   "metadata": {},
   "source": [
    "    12.1 -  Class 0"
   ]
  },
  {
   "cell_type": "markdown",
   "metadata": {},
   "source": [
    "        12.1.1 - Glance"
   ]
  },
  {
   "cell_type": "code",
   "execution_count": 180,
   "metadata": {},
   "outputs": [
    {
     "output_type": "execute_result",
     "data": {
      "text/plain": "               Length Of Residence  Number of Roadside calss for Year 1  \\\nHousehold Key                                                             \n197470                  150.000000                                    0   \n204690                  150.000000                                   37   \n495780                  150.000000                                    0   \n552950                   50.000000                                    0   \n1753100                 105.737864                                   10   \n\n               Number of Roadside calss for Year 2  \\\nHousehold Key                                        \n197470                                           0   \n204690                                           9   \n495780                                           0   \n552950                                           0   \n1753100                                         10   \n\n               Number of Roadside calss for Year 3  \\\nHousehold Key                                        \n197470                                           0   \n204690                                           9   \n495780                                           0   \n552950                                           0   \n1753100                                         30   \n\n               Roadside Member Cost for Year 1  \\\nHousehold Key                                    \n197470                                0.000000   \n204690                             2172.923077   \n495780                                0.000000   \n552950                                0.000000   \n1753100                             530.000000   \n\n               Roadside Member Cost for Year 2  \\\nHousehold Key                                    \n197470                                0.000000   \n204690                             5432.307692   \n495780                                0.000000   \n552950                                0.000000   \n1753100                             530.000000   \n\n               Roadside Member Cost for Year 3  Member Tenure Years  \\\nHousehold Key                                                         \n197470                                0.000000                  460   \n204690                              489.230769                  292   \n495780                                0.000000                  210   \n552950                                0.000000                  690   \n1753100                           13575.000000                  480   \n\n               Years to Cancelled Status   Basic Cost  Calculated Tow Miles  \\\nHousehold Key                                                                 \n197470                               242     0.000000              0.000000   \n204690                                52  2654.583333             16.666667   \n495780                               242   150.000000              0.000000   \n552950                               242     0.000000              0.000000   \n1753100                              440   530.000000              0.000000   \n\n               Plus Cost  Premier Cost   Total Cost  \\\nHousehold Key                                         \n197470               0.0           0.0     0.000000   \n204690               0.0           0.0  2654.583333   \n495780               0.0           0.0   150.000000   \n552950               0.0           0.0     0.000000   \n1753100              0.0           0.0   530.000000   \n\n               Total Number of Roadside Calls  Total Roadside Member Cost  \\\nHousehold Key                                                               \n197470                                      0                    0.000000   \n204690                                     55                 8094.461538   \n495780                                      0                    0.000000   \n552950                                      0                    0.000000   \n1753100                                    50                14635.000000   \n\n               Email Available  Age  \\\nHousehold Key                         \n197470                       0   95   \n204690                       0   77   \n495780                       1   76   \n552950                       0   73   \n1753100                      0   74   \n\n               Years from most recent Membership Expiration  \\\nHousehold Key                                                 \n197470                                                    0   \n204690                                                    0   \n495780                                                    0   \n552950                                                    0   \n1753100                                                   4   \n\n               Years from Join Date  Purchased Product 1  Purchased Product 2  \\\nHousehold Key                                                                   \n197470                           47                    0                    0   \n204690                           30                    0                    0   \n495780                           22                    0                    0   \n552950                           70                    0                    0   \n1753100                          49                    0                    0   \n\n               Purchased Product 3  Purchased Product 4  Purchased Product 5  \\\nHousehold Key                                                                  \n197470                           0                    0                    0   \n204690                           0                    0                    0   \n495780                           0                    0                    0   \n552950                           0                    0                    0   \n1753100                          0                    0                    0   \n\n               Purchased Product 6  Purchased Product 7  Purchased Product 8  \\\nHousehold Key                                                                  \n197470                           0                    0                    0   \n204690                           0                    0                    0   \n495780                           0                    1                    1   \n552950                           0                    0                    0   \n1753100                          0                    0                    0   \n\n               Mail Responder  Home Owner  Opt-Out - Publication  Cash Call  \\\nHousehold Key                                                                 \n197470                      1           0                      1          0   \n204690                      0           0                      1          0   \n495780                      1           0                      1          0   \n552950                      1           0                      1          0   \n1753100                     1           0                      1          0   \n\n               Fleet Indicator  Total Number of Purchased Products  \\\nHousehold Key                                                        \n197470                       1                                   0   \n204690                       0                                   0   \n495780                       0                                   2   \n552950                       1                                   0   \n1753100                      1                                   0   \n\n               Household Purchased Product  Email Correspondent  Home Renter  \\\nHousehold Key                                                                  \n197470                                   0                    1            0   \n204690                                   0                    1            0   \n495780                                   1                    1            0   \n552950                                   0                    1            0   \n1753100                                  0                    1            0   \n\n               No Home Ownership Info          City  Number of Children  \\\nHousehold Key                                                             \n197470                              1      CRANSTON                   0   \n204690                              1     NEWINGTON                   0   \n495780                              1      COVENTRY                   0   \n552950                              1       WARWICK                   0   \n1753100                             1  NARRAGANSETT                   0   \n\n               Annual Income Education  Annual Credit Possible Member Status  \\\nHousehold Key                                                                  \n197470                9999.0   Unknown                499999.0        ACTIVE   \n204690                9999.0   Unknown                499999.0     CANCELLED   \n495780                9999.0   Unknown                499999.0        ACTIVE   \n552950                9999.0   Unknown                499999.0        ACTIVE   \n1753100               9999.0   Unknown                499999.0        ACTIVE   \n\n              Renew Method  Motorcycle Indicator Membership Type  \\\nHousehold Key                                                      \n197470          AUTO RENEW                     1           Basic   \n204690              NOTICE                     0           Basic   \n495780          AUTO RENEW                     0         Premier   \n552950              NOTICE                     1           Basic   \n1753100             NOTICE                     0           Basic   \n\n              AAA Service Necessity Due Problem 1     AAA Club 1  \\\nHousehold Key                                                      \n197470                            Battery Service  AAA Northeast   \n204690                                 Jump Start  AAA Northeast   \n495780                                        Tow  AAA Northeast   \n552950                            Battery Service  AAA Northeast   \n1753100                           Battery Service  AAA Northeast   \n\n              Vehicle Manufacturer Name 1 AAA Service Necessity Due Problem 2  \\\nHousehold Key                                                                   \n197470                          CHEVROLET                                       \n204690                            HYUNDAI                                       \n495780                           CHRYSLER                                       \n552950                            HYUNDAI                                       \n1753100                             HONDA                                       \n\n              Vehicle Manufacturer Name 2 AAA Club 2  \\\nHousehold Key                                          \n197470                                                 \n204690                                                 \n495780                                GMC              \n552950                                                 \n1753100                            TOYOTA              \n\n               Number of Members per Household Key  \\\nHousehold Key                                        \n197470                                           1   \n204690                                          13   \n495780                                           3   \n552950                                           1   \n1753100                                          1   \n\n               Frequency of use of Roadside Services  \\\nHousehold Key                                          \n197470                                             0   \n204690                                            55   \n495780                                             0   \n552950                                             0   \n1753100                                           50   \n\n               Household have used the Roadside Services  \\\nHousehold Key                                              \n197470                                                 0   \n204690                                                 1   \n495780                                                 0   \n552950                                                 0   \n1753100                                                1   \n\n               Household Group Label  Household Purchase Product Probability  \\\nHousehold Key                                                                  \n197470                             0                                0.010777   \n204690                             0                                0.010777   \n495780                             0                                1.000000   \n552950                             0                                0.010777   \n1753100                            0                                0.010777   \n\n               Household Roadside Usage Probability  Membership Type_Basic  \\\nHousehold Key                                                                \n197470                                     0.185457                    1.0   \n204690                                     1.000000                    1.0   \n495780                                     0.185457                    0.0   \n552950                                     0.185457                    1.0   \n1753100                                    1.000000                    1.0   \n\n               Membership Type_Plus  Membership Type_Premier  \nHousehold Key                                                 \n197470                          0.0                      0.0  \n204690                          0.0                      0.0  \n495780                          0.0                      1.0  \n552950                          0.0                      0.0  \n1753100                         0.0                      0.0  ",
      "text/html": "<div>\n<style scoped>\n    .dataframe tbody tr th:only-of-type {\n        vertical-align: middle;\n    }\n\n    .dataframe tbody tr th {\n        vertical-align: top;\n    }\n\n    .dataframe thead th {\n        text-align: right;\n    }\n</style>\n<table border=\"1\" class=\"dataframe\">\n  <thead>\n    <tr style=\"text-align: right;\">\n      <th></th>\n      <th>Length Of Residence</th>\n      <th>Number of Roadside calss for Year 1</th>\n      <th>Number of Roadside calss for Year 2</th>\n      <th>Number of Roadside calss for Year 3</th>\n      <th>Roadside Member Cost for Year 1</th>\n      <th>Roadside Member Cost for Year 2</th>\n      <th>Roadside Member Cost for Year 3</th>\n      <th>Member Tenure Years</th>\n      <th>Years to Cancelled Status</th>\n      <th>Basic Cost</th>\n      <th>Calculated Tow Miles</th>\n      <th>Plus Cost</th>\n      <th>Premier Cost</th>\n      <th>Total Cost</th>\n      <th>Total Number of Roadside Calls</th>\n      <th>Total Roadside Member Cost</th>\n      <th>Email Available</th>\n      <th>Age</th>\n      <th>Years from most recent Membership Expiration</th>\n      <th>Years from Join Date</th>\n      <th>Purchased Product 1</th>\n      <th>Purchased Product 2</th>\n      <th>Purchased Product 3</th>\n      <th>Purchased Product 4</th>\n      <th>Purchased Product 5</th>\n      <th>Purchased Product 6</th>\n      <th>Purchased Product 7</th>\n      <th>Purchased Product 8</th>\n      <th>Mail Responder</th>\n      <th>Home Owner</th>\n      <th>Opt-Out - Publication</th>\n      <th>Cash Call</th>\n      <th>Fleet Indicator</th>\n      <th>Total Number of Purchased Products</th>\n      <th>Household Purchased Product</th>\n      <th>Email Correspondent</th>\n      <th>Home Renter</th>\n      <th>No Home Ownership Info</th>\n      <th>City</th>\n      <th>Number of Children</th>\n      <th>Annual Income</th>\n      <th>Education</th>\n      <th>Annual Credit Possible</th>\n      <th>Member Status</th>\n      <th>Renew Method</th>\n      <th>Motorcycle Indicator</th>\n      <th>Membership Type</th>\n      <th>AAA Service Necessity Due Problem 1</th>\n      <th>AAA Club 1</th>\n      <th>Vehicle Manufacturer Name 1</th>\n      <th>AAA Service Necessity Due Problem 2</th>\n      <th>Vehicle Manufacturer Name 2</th>\n      <th>AAA Club 2</th>\n      <th>Number of Members per Household Key</th>\n      <th>Frequency of use of Roadside Services</th>\n      <th>Household have used the Roadside Services</th>\n      <th>Household Group Label</th>\n      <th>Household Purchase Product Probability</th>\n      <th>Household Roadside Usage Probability</th>\n      <th>Membership Type_Basic</th>\n      <th>Membership Type_Plus</th>\n      <th>Membership Type_Premier</th>\n    </tr>\n    <tr>\n      <th>Household Key</th>\n      <th></th>\n      <th></th>\n      <th></th>\n      <th></th>\n      <th></th>\n      <th></th>\n      <th></th>\n      <th></th>\n      <th></th>\n      <th></th>\n      <th></th>\n      <th></th>\n      <th></th>\n      <th></th>\n      <th></th>\n      <th></th>\n      <th></th>\n      <th></th>\n      <th></th>\n      <th></th>\n      <th></th>\n      <th></th>\n      <th></th>\n      <th></th>\n      <th></th>\n      <th></th>\n      <th></th>\n      <th></th>\n      <th></th>\n      <th></th>\n      <th></th>\n      <th></th>\n      <th></th>\n      <th></th>\n      <th></th>\n      <th></th>\n      <th></th>\n      <th></th>\n      <th></th>\n      <th></th>\n      <th></th>\n      <th></th>\n      <th></th>\n      <th></th>\n      <th></th>\n      <th></th>\n      <th></th>\n      <th></th>\n      <th></th>\n      <th></th>\n      <th></th>\n      <th></th>\n      <th></th>\n      <th></th>\n      <th></th>\n      <th></th>\n      <th></th>\n      <th></th>\n      <th></th>\n      <th></th>\n      <th></th>\n      <th></th>\n    </tr>\n  </thead>\n  <tbody>\n    <tr>\n      <th>197470</th>\n      <td>150.000000</td>\n      <td>0</td>\n      <td>0</td>\n      <td>0</td>\n      <td>0.000000</td>\n      <td>0.000000</td>\n      <td>0.000000</td>\n      <td>460</td>\n      <td>242</td>\n      <td>0.000000</td>\n      <td>0.000000</td>\n      <td>0.0</td>\n      <td>0.0</td>\n      <td>0.000000</td>\n      <td>0</td>\n      <td>0.000000</td>\n      <td>0</td>\n      <td>95</td>\n      <td>0</td>\n      <td>47</td>\n      <td>0</td>\n      <td>0</td>\n      <td>0</td>\n      <td>0</td>\n      <td>0</td>\n      <td>0</td>\n      <td>0</td>\n      <td>0</td>\n      <td>1</td>\n      <td>0</td>\n      <td>1</td>\n      <td>0</td>\n      <td>1</td>\n      <td>0</td>\n      <td>0</td>\n      <td>1</td>\n      <td>0</td>\n      <td>1</td>\n      <td>CRANSTON</td>\n      <td>0</td>\n      <td>9999.0</td>\n      <td>Unknown</td>\n      <td>499999.0</td>\n      <td>ACTIVE</td>\n      <td>AUTO RENEW</td>\n      <td>1</td>\n      <td>Basic</td>\n      <td>Battery Service</td>\n      <td>AAA Northeast</td>\n      <td>CHEVROLET</td>\n      <td></td>\n      <td></td>\n      <td></td>\n      <td>1</td>\n      <td>0</td>\n      <td>0</td>\n      <td>0</td>\n      <td>0.010777</td>\n      <td>0.185457</td>\n      <td>1.0</td>\n      <td>0.0</td>\n      <td>0.0</td>\n    </tr>\n    <tr>\n      <th>204690</th>\n      <td>150.000000</td>\n      <td>37</td>\n      <td>9</td>\n      <td>9</td>\n      <td>2172.923077</td>\n      <td>5432.307692</td>\n      <td>489.230769</td>\n      <td>292</td>\n      <td>52</td>\n      <td>2654.583333</td>\n      <td>16.666667</td>\n      <td>0.0</td>\n      <td>0.0</td>\n      <td>2654.583333</td>\n      <td>55</td>\n      <td>8094.461538</td>\n      <td>0</td>\n      <td>77</td>\n      <td>0</td>\n      <td>30</td>\n      <td>0</td>\n      <td>0</td>\n      <td>0</td>\n      <td>0</td>\n      <td>0</td>\n      <td>0</td>\n      <td>0</td>\n      <td>0</td>\n      <td>0</td>\n      <td>0</td>\n      <td>1</td>\n      <td>0</td>\n      <td>0</td>\n      <td>0</td>\n      <td>0</td>\n      <td>1</td>\n      <td>0</td>\n      <td>1</td>\n      <td>NEWINGTON</td>\n      <td>0</td>\n      <td>9999.0</td>\n      <td>Unknown</td>\n      <td>499999.0</td>\n      <td>CANCELLED</td>\n      <td>NOTICE</td>\n      <td>0</td>\n      <td>Basic</td>\n      <td>Jump Start</td>\n      <td>AAA Northeast</td>\n      <td>HYUNDAI</td>\n      <td></td>\n      <td></td>\n      <td></td>\n      <td>13</td>\n      <td>55</td>\n      <td>1</td>\n      <td>0</td>\n      <td>0.010777</td>\n      <td>1.000000</td>\n      <td>1.0</td>\n      <td>0.0</td>\n      <td>0.0</td>\n    </tr>\n    <tr>\n      <th>495780</th>\n      <td>150.000000</td>\n      <td>0</td>\n      <td>0</td>\n      <td>0</td>\n      <td>0.000000</td>\n      <td>0.000000</td>\n      <td>0.000000</td>\n      <td>210</td>\n      <td>242</td>\n      <td>150.000000</td>\n      <td>0.000000</td>\n      <td>0.0</td>\n      <td>0.0</td>\n      <td>150.000000</td>\n      <td>0</td>\n      <td>0.000000</td>\n      <td>1</td>\n      <td>76</td>\n      <td>0</td>\n      <td>22</td>\n      <td>0</td>\n      <td>0</td>\n      <td>0</td>\n      <td>0</td>\n      <td>0</td>\n      <td>0</td>\n      <td>1</td>\n      <td>1</td>\n      <td>1</td>\n      <td>0</td>\n      <td>1</td>\n      <td>0</td>\n      <td>0</td>\n      <td>2</td>\n      <td>1</td>\n      <td>1</td>\n      <td>0</td>\n      <td>1</td>\n      <td>COVENTRY</td>\n      <td>0</td>\n      <td>9999.0</td>\n      <td>Unknown</td>\n      <td>499999.0</td>\n      <td>ACTIVE</td>\n      <td>AUTO RENEW</td>\n      <td>0</td>\n      <td>Premier</td>\n      <td>Tow</td>\n      <td>AAA Northeast</td>\n      <td>CHRYSLER</td>\n      <td></td>\n      <td>GMC</td>\n      <td></td>\n      <td>3</td>\n      <td>0</td>\n      <td>0</td>\n      <td>0</td>\n      <td>1.000000</td>\n      <td>0.185457</td>\n      <td>0.0</td>\n      <td>0.0</td>\n      <td>1.0</td>\n    </tr>\n    <tr>\n      <th>552950</th>\n      <td>50.000000</td>\n      <td>0</td>\n      <td>0</td>\n      <td>0</td>\n      <td>0.000000</td>\n      <td>0.000000</td>\n      <td>0.000000</td>\n      <td>690</td>\n      <td>242</td>\n      <td>0.000000</td>\n      <td>0.000000</td>\n      <td>0.0</td>\n      <td>0.0</td>\n      <td>0.000000</td>\n      <td>0</td>\n      <td>0.000000</td>\n      <td>0</td>\n      <td>73</td>\n      <td>0</td>\n      <td>70</td>\n      <td>0</td>\n      <td>0</td>\n      <td>0</td>\n      <td>0</td>\n      <td>0</td>\n      <td>0</td>\n      <td>0</td>\n      <td>0</td>\n      <td>1</td>\n      <td>0</td>\n      <td>1</td>\n      <td>0</td>\n      <td>1</td>\n      <td>0</td>\n      <td>0</td>\n      <td>1</td>\n      <td>0</td>\n      <td>1</td>\n      <td>WARWICK</td>\n      <td>0</td>\n      <td>9999.0</td>\n      <td>Unknown</td>\n      <td>499999.0</td>\n      <td>ACTIVE</td>\n      <td>NOTICE</td>\n      <td>1</td>\n      <td>Basic</td>\n      <td>Battery Service</td>\n      <td>AAA Northeast</td>\n      <td>HYUNDAI</td>\n      <td></td>\n      <td></td>\n      <td></td>\n      <td>1</td>\n      <td>0</td>\n      <td>0</td>\n      <td>0</td>\n      <td>0.010777</td>\n      <td>0.185457</td>\n      <td>1.0</td>\n      <td>0.0</td>\n      <td>0.0</td>\n    </tr>\n    <tr>\n      <th>1753100</th>\n      <td>105.737864</td>\n      <td>10</td>\n      <td>10</td>\n      <td>30</td>\n      <td>530.000000</td>\n      <td>530.000000</td>\n      <td>13575.000000</td>\n      <td>480</td>\n      <td>440</td>\n      <td>530.000000</td>\n      <td>0.000000</td>\n      <td>0.0</td>\n      <td>0.0</td>\n      <td>530.000000</td>\n      <td>50</td>\n      <td>14635.000000</td>\n      <td>0</td>\n      <td>74</td>\n      <td>4</td>\n      <td>49</td>\n      <td>0</td>\n      <td>0</td>\n      <td>0</td>\n      <td>0</td>\n      <td>0</td>\n      <td>0</td>\n      <td>0</td>\n      <td>0</td>\n      <td>1</td>\n      <td>0</td>\n      <td>1</td>\n      <td>0</td>\n      <td>1</td>\n      <td>0</td>\n      <td>0</td>\n      <td>1</td>\n      <td>0</td>\n      <td>1</td>\n      <td>NARRAGANSETT</td>\n      <td>0</td>\n      <td>9999.0</td>\n      <td>Unknown</td>\n      <td>499999.0</td>\n      <td>ACTIVE</td>\n      <td>NOTICE</td>\n      <td>0</td>\n      <td>Basic</td>\n      <td>Battery Service</td>\n      <td>AAA Northeast</td>\n      <td>HONDA</td>\n      <td></td>\n      <td>TOYOTA</td>\n      <td></td>\n      <td>1</td>\n      <td>50</td>\n      <td>1</td>\n      <td>0</td>\n      <td>0.010777</td>\n      <td>1.000000</td>\n      <td>1.0</td>\n      <td>0.0</td>\n      <td>0.0</td>\n    </tr>\n  </tbody>\n</table>\n</div>"
     },
     "metadata": {},
     "execution_count": 180
    }
   ],
   "source": [
    "class_0.head()"
   ]
  },
  {
   "cell_type": "markdown",
   "metadata": {},
   "source": [
    "        12.1.2 - General Description of Numerical Data"
   ]
  },
  {
   "cell_type": "code",
   "execution_count": 181,
   "metadata": {},
   "outputs": [
    {
     "output_type": "execute_result",
     "data": {
      "text/plain": "       Length Of Residence  Number of Roadside calss for Year 1  \\\ncount           725.000000                           725.000000   \nmean            116.613009                             3.223448   \nstd              44.821608                             6.702416   \nmin               0.000000                             0.000000   \n25%              98.665198                             0.000000   \n50%             130.000000                             0.000000   \n75%             150.000000                             4.000000   \nmax             360.000000                            50.000000   \n\n       Number of Roadside calss for Year 2  \\\ncount                           725.000000   \nmean                              5.834483   \nstd                               8.502205   \nmin                               0.000000   \n25%                               0.000000   \n50%                               0.000000   \n75%                              10.000000   \nmax                              50.000000   \n\n       Number of Roadside calss for Year 3  Roadside Member Cost for Year 1  \\\ncount                           725.000000                       725.000000   \nmean                              6.775172                       753.859301   \nstd                               9.890865                      2222.421772   \nmin                               0.000000                         0.000000   \n25%                               0.000000                         0.000000   \n50%                               0.000000                         0.000000   \n75%                              10.000000                       247.500000   \nmax                              60.000000                     24855.000000   \n\n       Roadside Member Cost for Year 2  Roadside Member Cost for Year 3  \\\ncount                       725.000000                       725.000000   \nmean                       1547.240273                      1042.144659   \nstd                        3623.012462                      2989.496585   \nmin                           0.000000                         0.000000   \n25%                           0.000000                         0.000000   \n50%                           0.000000                         0.000000   \n75%                        1060.000000                       634.375000   \nmax                       39805.000000                     35355.000000   \n\n       Member Tenure Years  Years to Cancelled Status   Basic Cost  \\\ncount           725.000000                  725.00000   725.000000   \nmean            369.442759                  246.14069   834.174257   \nstd             133.555143                  135.76802  1135.087916   \nmin              20.000000                    0.00000     0.000000   \n25%             276.000000                  161.00000   288.000000   \n50%             381.000000                  242.00000   454.285714   \n75%             470.000000                  305.00000   758.611111   \nmax             700.000000                  690.00000  5885.000000   \n\n       Calculated Tow Miles    Plus Cost  Premier Cost    Total Cost  \\\ncount            725.000000   725.000000    725.000000    725.000000   \nmean              18.663434    31.753410      0.082759    918.134890   \nstd               56.154625   181.842227      2.228344   1371.009691   \nmin                0.000000     0.000000      0.000000      0.000000   \n25%                0.000000     0.000000      0.000000    296.250000   \n50%                0.000000     0.000000      0.000000    530.000000   \n75%               16.588235     0.000000      0.000000    982.500000   \nmax              950.000000  2910.000000     60.000000  19424.000000   \n\n       Total Number of Roadside Calls  Total Roadside Member Cost  \\\ncount                      725.000000                  725.000000   \nmean                        15.833103                 3343.244232   \nstd                         17.935304                 5807.502827   \nmin                          0.000000                    0.000000   \n25%                          0.000000                    0.000000   \n50%                         10.000000                  795.000000   \n75%                         21.000000                 4523.333333   \nmax                        110.000000                47651.000000   \n\n       Email Available         Age  \\\ncount       725.000000  725.000000   \nmean          0.655172   74.532414   \nstd           0.475640   11.567152   \nmin           0.000000   25.000000   \n25%           0.000000   70.000000   \n50%           1.000000   74.000000   \n75%           1.000000   81.000000   \nmax           1.000000  100.000000   \n\n       Years from most recent Membership Expiration  Years from Join Date  \\\ncount                                    725.000000            725.000000   \nmean                                       2.437241             37.948966   \nstd                                        2.875500             13.354036   \nmin                                        0.000000              3.000000   \n25%                                        0.000000             29.000000   \n50%                                        2.000000             39.000000   \n75%                                        4.000000             48.000000   \nmax                                       14.000000             71.000000   \n\n       Purchased Product 1  Purchased Product 2  Purchased Product 3  \\\ncount           725.000000           725.000000           725.000000   \nmean              0.026207             0.066207             0.004138   \nstd               0.159860             0.248815             0.064238   \nmin               0.000000             0.000000             0.000000   \n25%               0.000000             0.000000             0.000000   \n50%               0.000000             0.000000             0.000000   \n75%               0.000000             0.000000             0.000000   \nmax               1.000000             1.000000             1.000000   \n\n       Purchased Product 4  Purchased Product 5  Purchased Product 6  \\\ncount           725.000000           725.000000                725.0   \nmean              0.001379             0.023448                  0.0   \nstd               0.037139             0.151427                  0.0   \nmin               0.000000             0.000000                  0.0   \n25%               0.000000             0.000000                  0.0   \n50%               0.000000             0.000000                  0.0   \n75%               0.000000             0.000000                  0.0   \nmax               1.000000             1.000000                  0.0   \n\n       Purchased Product 7  Purchased Product 8  Mail Responder  Home Owner  \\\ncount           725.000000           725.000000      725.000000       725.0   \nmean              0.172414             0.078621        0.590345         0.0   \nstd               0.378000             0.269332        0.492110         0.0   \nmin               0.000000             0.000000        0.000000         0.0   \n25%               0.000000             0.000000        0.000000         0.0   \n50%               0.000000             0.000000        1.000000         0.0   \n75%               0.000000             0.000000        1.000000         0.0   \nmax               1.000000             1.000000        1.000000         0.0   \n\n       Opt-Out - Publication   Cash Call  Fleet Indicator  \\\ncount             725.000000  725.000000       725.000000   \nmean                0.990345    0.001379         0.667586   \nstd                 0.097853    0.037139         0.471404   \nmin                 0.000000    0.000000         0.000000   \n25%                 1.000000    0.000000         0.000000   \n50%                 1.000000    0.000000         1.000000   \n75%                 1.000000    0.000000         1.000000   \nmax                 1.000000    1.000000         1.000000   \n\n       Total Number of Purchased Products  Household Purchased Product  \\\ncount                          725.000000                   725.000000   \nmean                             0.372414                     0.297931   \nstd                              0.632290                     0.457665   \nmin                              0.000000                     0.000000   \n25%                              0.000000                     0.000000   \n50%                              0.000000                     0.000000   \n75%                              1.000000                     1.000000   \nmax                              3.000000                     1.000000   \n\n       Email Correspondent  Home Renter  No Home Ownership Info  \\\ncount           725.000000   725.000000              725.000000   \nmean              0.990345     0.028966                0.971034   \nstd               0.097853     0.167825                0.167825   \nmin               0.000000     0.000000                0.000000   \n25%               1.000000     0.000000                1.000000   \n50%               1.000000     0.000000                1.000000   \n75%               1.000000     0.000000                1.000000   \nmax               1.000000     1.000000                1.000000   \n\n       Number of Children  Annual Income  Annual Credit Possible  \\\ncount          725.000000     725.000000              725.000000   \nmean             0.027586   14001.157241           512143.200000   \nstd              0.187482   19552.576016            51175.460599   \nmin              0.000000    9999.000000           499999.000000   \n25%              0.000000    9999.000000           499999.000000   \n50%              0.000000    9999.000000           499999.000000   \n75%              0.000000    9999.000000           499999.000000   \nmax              2.000000  250000.000000           800000.000000   \n\n       Motorcycle Indicator  Number of Members per Household Key  \\\ncount            725.000000                           725.000000   \nmean               0.169655                             4.511724   \nstd                0.375589                             3.582714   \nmin                0.000000                             1.000000   \n25%                0.000000                             2.000000   \n50%                0.000000                             3.000000   \n75%                0.000000                             6.000000   \nmax                1.000000                            25.000000   \n\n       Frequency of use of Roadside Services  \\\ncount                             725.000000   \nmean                               15.833103   \nstd                                17.935304   \nmin                                 0.000000   \n25%                                 0.000000   \n50%                                10.000000   \n75%                                21.000000   \nmax                               110.000000   \n\n       Household have used the Roadside Services  Household Group Label  \\\ncount                                 725.000000                  725.0   \nmean                                    0.729655                    0.0   \nstd                                     0.444445                    0.0   \nmin                                     0.000000                    0.0   \n25%                                     0.000000                    0.0   \n50%                                     1.000000                    0.0   \n75%                                     1.000000                    0.0   \nmax                                     1.000000                    0.0   \n\n       Household Purchase Product Probability  \\\ncount                              725.000000   \nmean                                 0.301684   \nstd                                  0.447727   \nmin                                  0.010777   \n25%                                  0.010777   \n50%                                  0.010777   \n75%                                  0.990008   \nmax                                  1.000000   \n\n       Household Roadside Usage Probability  Membership Type_Basic  \\\ncount                            725.000000             725.000000   \nmean                               0.733699               0.554483   \nstd                                0.353587               0.497366   \nmin                                0.185457               0.000000   \n25%                                0.185457               0.000000   \n50%                                0.974218               1.000000   \n75%                                0.999951               1.000000   \nmax                                1.000000               1.000000   \n\n       Membership Type_Plus  Membership Type_Premier  \ncount            725.000000               725.000000  \nmean               0.415172                 0.030345  \nstd                0.493092                 0.171653  \nmin                0.000000                 0.000000  \n25%                0.000000                 0.000000  \n50%                0.000000                 0.000000  \n75%                1.000000                 0.000000  \nmax                1.000000                 1.000000  ",
      "text/html": "<div>\n<style scoped>\n    .dataframe tbody tr th:only-of-type {\n        vertical-align: middle;\n    }\n\n    .dataframe tbody tr th {\n        vertical-align: top;\n    }\n\n    .dataframe thead th {\n        text-align: right;\n    }\n</style>\n<table border=\"1\" class=\"dataframe\">\n  <thead>\n    <tr style=\"text-align: right;\">\n      <th></th>\n      <th>Length Of Residence</th>\n      <th>Number of Roadside calss for Year 1</th>\n      <th>Number of Roadside calss for Year 2</th>\n      <th>Number of Roadside calss for Year 3</th>\n      <th>Roadside Member Cost for Year 1</th>\n      <th>Roadside Member Cost for Year 2</th>\n      <th>Roadside Member Cost for Year 3</th>\n      <th>Member Tenure Years</th>\n      <th>Years to Cancelled Status</th>\n      <th>Basic Cost</th>\n      <th>Calculated Tow Miles</th>\n      <th>Plus Cost</th>\n      <th>Premier Cost</th>\n      <th>Total Cost</th>\n      <th>Total Number of Roadside Calls</th>\n      <th>Total Roadside Member Cost</th>\n      <th>Email Available</th>\n      <th>Age</th>\n      <th>Years from most recent Membership Expiration</th>\n      <th>Years from Join Date</th>\n      <th>Purchased Product 1</th>\n      <th>Purchased Product 2</th>\n      <th>Purchased Product 3</th>\n      <th>Purchased Product 4</th>\n      <th>Purchased Product 5</th>\n      <th>Purchased Product 6</th>\n      <th>Purchased Product 7</th>\n      <th>Purchased Product 8</th>\n      <th>Mail Responder</th>\n      <th>Home Owner</th>\n      <th>Opt-Out - Publication</th>\n      <th>Cash Call</th>\n      <th>Fleet Indicator</th>\n      <th>Total Number of Purchased Products</th>\n      <th>Household Purchased Product</th>\n      <th>Email Correspondent</th>\n      <th>Home Renter</th>\n      <th>No Home Ownership Info</th>\n      <th>Number of Children</th>\n      <th>Annual Income</th>\n      <th>Annual Credit Possible</th>\n      <th>Motorcycle Indicator</th>\n      <th>Number of Members per Household Key</th>\n      <th>Frequency of use of Roadside Services</th>\n      <th>Household have used the Roadside Services</th>\n      <th>Household Group Label</th>\n      <th>Household Purchase Product Probability</th>\n      <th>Household Roadside Usage Probability</th>\n      <th>Membership Type_Basic</th>\n      <th>Membership Type_Plus</th>\n      <th>Membership Type_Premier</th>\n    </tr>\n  </thead>\n  <tbody>\n    <tr>\n      <th>count</th>\n      <td>725.000000</td>\n      <td>725.000000</td>\n      <td>725.000000</td>\n      <td>725.000000</td>\n      <td>725.000000</td>\n      <td>725.000000</td>\n      <td>725.000000</td>\n      <td>725.000000</td>\n      <td>725.00000</td>\n      <td>725.000000</td>\n      <td>725.000000</td>\n      <td>725.000000</td>\n      <td>725.000000</td>\n      <td>725.000000</td>\n      <td>725.000000</td>\n      <td>725.000000</td>\n      <td>725.000000</td>\n      <td>725.000000</td>\n      <td>725.000000</td>\n      <td>725.000000</td>\n      <td>725.000000</td>\n      <td>725.000000</td>\n      <td>725.000000</td>\n      <td>725.000000</td>\n      <td>725.000000</td>\n      <td>725.0</td>\n      <td>725.000000</td>\n      <td>725.000000</td>\n      <td>725.000000</td>\n      <td>725.0</td>\n      <td>725.000000</td>\n      <td>725.000000</td>\n      <td>725.000000</td>\n      <td>725.000000</td>\n      <td>725.000000</td>\n      <td>725.000000</td>\n      <td>725.000000</td>\n      <td>725.000000</td>\n      <td>725.000000</td>\n      <td>725.000000</td>\n      <td>725.000000</td>\n      <td>725.000000</td>\n      <td>725.000000</td>\n      <td>725.000000</td>\n      <td>725.000000</td>\n      <td>725.0</td>\n      <td>725.000000</td>\n      <td>725.000000</td>\n      <td>725.000000</td>\n      <td>725.000000</td>\n      <td>725.000000</td>\n    </tr>\n    <tr>\n      <th>mean</th>\n      <td>116.613009</td>\n      <td>3.223448</td>\n      <td>5.834483</td>\n      <td>6.775172</td>\n      <td>753.859301</td>\n      <td>1547.240273</td>\n      <td>1042.144659</td>\n      <td>369.442759</td>\n      <td>246.14069</td>\n      <td>834.174257</td>\n      <td>18.663434</td>\n      <td>31.753410</td>\n      <td>0.082759</td>\n      <td>918.134890</td>\n      <td>15.833103</td>\n      <td>3343.244232</td>\n      <td>0.655172</td>\n      <td>74.532414</td>\n      <td>2.437241</td>\n      <td>37.948966</td>\n      <td>0.026207</td>\n      <td>0.066207</td>\n      <td>0.004138</td>\n      <td>0.001379</td>\n      <td>0.023448</td>\n      <td>0.0</td>\n      <td>0.172414</td>\n      <td>0.078621</td>\n      <td>0.590345</td>\n      <td>0.0</td>\n      <td>0.990345</td>\n      <td>0.001379</td>\n      <td>0.667586</td>\n      <td>0.372414</td>\n      <td>0.297931</td>\n      <td>0.990345</td>\n      <td>0.028966</td>\n      <td>0.971034</td>\n      <td>0.027586</td>\n      <td>14001.157241</td>\n      <td>512143.200000</td>\n      <td>0.169655</td>\n      <td>4.511724</td>\n      <td>15.833103</td>\n      <td>0.729655</td>\n      <td>0.0</td>\n      <td>0.301684</td>\n      <td>0.733699</td>\n      <td>0.554483</td>\n      <td>0.415172</td>\n      <td>0.030345</td>\n    </tr>\n    <tr>\n      <th>std</th>\n      <td>44.821608</td>\n      <td>6.702416</td>\n      <td>8.502205</td>\n      <td>9.890865</td>\n      <td>2222.421772</td>\n      <td>3623.012462</td>\n      <td>2989.496585</td>\n      <td>133.555143</td>\n      <td>135.76802</td>\n      <td>1135.087916</td>\n      <td>56.154625</td>\n      <td>181.842227</td>\n      <td>2.228344</td>\n      <td>1371.009691</td>\n      <td>17.935304</td>\n      <td>5807.502827</td>\n      <td>0.475640</td>\n      <td>11.567152</td>\n      <td>2.875500</td>\n      <td>13.354036</td>\n      <td>0.159860</td>\n      <td>0.248815</td>\n      <td>0.064238</td>\n      <td>0.037139</td>\n      <td>0.151427</td>\n      <td>0.0</td>\n      <td>0.378000</td>\n      <td>0.269332</td>\n      <td>0.492110</td>\n      <td>0.0</td>\n      <td>0.097853</td>\n      <td>0.037139</td>\n      <td>0.471404</td>\n      <td>0.632290</td>\n      <td>0.457665</td>\n      <td>0.097853</td>\n      <td>0.167825</td>\n      <td>0.167825</td>\n      <td>0.187482</td>\n      <td>19552.576016</td>\n      <td>51175.460599</td>\n      <td>0.375589</td>\n      <td>3.582714</td>\n      <td>17.935304</td>\n      <td>0.444445</td>\n      <td>0.0</td>\n      <td>0.447727</td>\n      <td>0.353587</td>\n      <td>0.497366</td>\n      <td>0.493092</td>\n      <td>0.171653</td>\n    </tr>\n    <tr>\n      <th>min</th>\n      <td>0.000000</td>\n      <td>0.000000</td>\n      <td>0.000000</td>\n      <td>0.000000</td>\n      <td>0.000000</td>\n      <td>0.000000</td>\n      <td>0.000000</td>\n      <td>20.000000</td>\n      <td>0.00000</td>\n      <td>0.000000</td>\n      <td>0.000000</td>\n      <td>0.000000</td>\n      <td>0.000000</td>\n      <td>0.000000</td>\n      <td>0.000000</td>\n      <td>0.000000</td>\n      <td>0.000000</td>\n      <td>25.000000</td>\n      <td>0.000000</td>\n      <td>3.000000</td>\n      <td>0.000000</td>\n      <td>0.000000</td>\n      <td>0.000000</td>\n      <td>0.000000</td>\n      <td>0.000000</td>\n      <td>0.0</td>\n      <td>0.000000</td>\n      <td>0.000000</td>\n      <td>0.000000</td>\n      <td>0.0</td>\n      <td>0.000000</td>\n      <td>0.000000</td>\n      <td>0.000000</td>\n      <td>0.000000</td>\n      <td>0.000000</td>\n      <td>0.000000</td>\n      <td>0.000000</td>\n      <td>0.000000</td>\n      <td>0.000000</td>\n      <td>9999.000000</td>\n      <td>499999.000000</td>\n      <td>0.000000</td>\n      <td>1.000000</td>\n      <td>0.000000</td>\n      <td>0.000000</td>\n      <td>0.0</td>\n      <td>0.010777</td>\n      <td>0.185457</td>\n      <td>0.000000</td>\n      <td>0.000000</td>\n      <td>0.000000</td>\n    </tr>\n    <tr>\n      <th>25%</th>\n      <td>98.665198</td>\n      <td>0.000000</td>\n      <td>0.000000</td>\n      <td>0.000000</td>\n      <td>0.000000</td>\n      <td>0.000000</td>\n      <td>0.000000</td>\n      <td>276.000000</td>\n      <td>161.00000</td>\n      <td>288.000000</td>\n      <td>0.000000</td>\n      <td>0.000000</td>\n      <td>0.000000</td>\n      <td>296.250000</td>\n      <td>0.000000</td>\n      <td>0.000000</td>\n      <td>0.000000</td>\n      <td>70.000000</td>\n      <td>0.000000</td>\n      <td>29.000000</td>\n      <td>0.000000</td>\n      <td>0.000000</td>\n      <td>0.000000</td>\n      <td>0.000000</td>\n      <td>0.000000</td>\n      <td>0.0</td>\n      <td>0.000000</td>\n      <td>0.000000</td>\n      <td>0.000000</td>\n      <td>0.0</td>\n      <td>1.000000</td>\n      <td>0.000000</td>\n      <td>0.000000</td>\n      <td>0.000000</td>\n      <td>0.000000</td>\n      <td>1.000000</td>\n      <td>0.000000</td>\n      <td>1.000000</td>\n      <td>0.000000</td>\n      <td>9999.000000</td>\n      <td>499999.000000</td>\n      <td>0.000000</td>\n      <td>2.000000</td>\n      <td>0.000000</td>\n      <td>0.000000</td>\n      <td>0.0</td>\n      <td>0.010777</td>\n      <td>0.185457</td>\n      <td>0.000000</td>\n      <td>0.000000</td>\n      <td>0.000000</td>\n    </tr>\n    <tr>\n      <th>50%</th>\n      <td>130.000000</td>\n      <td>0.000000</td>\n      <td>0.000000</td>\n      <td>0.000000</td>\n      <td>0.000000</td>\n      <td>0.000000</td>\n      <td>0.000000</td>\n      <td>381.000000</td>\n      <td>242.00000</td>\n      <td>454.285714</td>\n      <td>0.000000</td>\n      <td>0.000000</td>\n      <td>0.000000</td>\n      <td>530.000000</td>\n      <td>10.000000</td>\n      <td>795.000000</td>\n      <td>1.000000</td>\n      <td>74.000000</td>\n      <td>2.000000</td>\n      <td>39.000000</td>\n      <td>0.000000</td>\n      <td>0.000000</td>\n      <td>0.000000</td>\n      <td>0.000000</td>\n      <td>0.000000</td>\n      <td>0.0</td>\n      <td>0.000000</td>\n      <td>0.000000</td>\n      <td>1.000000</td>\n      <td>0.0</td>\n      <td>1.000000</td>\n      <td>0.000000</td>\n      <td>1.000000</td>\n      <td>0.000000</td>\n      <td>0.000000</td>\n      <td>1.000000</td>\n      <td>0.000000</td>\n      <td>1.000000</td>\n      <td>0.000000</td>\n      <td>9999.000000</td>\n      <td>499999.000000</td>\n      <td>0.000000</td>\n      <td>3.000000</td>\n      <td>10.000000</td>\n      <td>1.000000</td>\n      <td>0.0</td>\n      <td>0.010777</td>\n      <td>0.974218</td>\n      <td>1.000000</td>\n      <td>0.000000</td>\n      <td>0.000000</td>\n    </tr>\n    <tr>\n      <th>75%</th>\n      <td>150.000000</td>\n      <td>4.000000</td>\n      <td>10.000000</td>\n      <td>10.000000</td>\n      <td>247.500000</td>\n      <td>1060.000000</td>\n      <td>634.375000</td>\n      <td>470.000000</td>\n      <td>305.00000</td>\n      <td>758.611111</td>\n      <td>16.588235</td>\n      <td>0.000000</td>\n      <td>0.000000</td>\n      <td>982.500000</td>\n      <td>21.000000</td>\n      <td>4523.333333</td>\n      <td>1.000000</td>\n      <td>81.000000</td>\n      <td>4.000000</td>\n      <td>48.000000</td>\n      <td>0.000000</td>\n      <td>0.000000</td>\n      <td>0.000000</td>\n      <td>0.000000</td>\n      <td>0.000000</td>\n      <td>0.0</td>\n      <td>0.000000</td>\n      <td>0.000000</td>\n      <td>1.000000</td>\n      <td>0.0</td>\n      <td>1.000000</td>\n      <td>0.000000</td>\n      <td>1.000000</td>\n      <td>1.000000</td>\n      <td>1.000000</td>\n      <td>1.000000</td>\n      <td>0.000000</td>\n      <td>1.000000</td>\n      <td>0.000000</td>\n      <td>9999.000000</td>\n      <td>499999.000000</td>\n      <td>0.000000</td>\n      <td>6.000000</td>\n      <td>21.000000</td>\n      <td>1.000000</td>\n      <td>0.0</td>\n      <td>0.990008</td>\n      <td>0.999951</td>\n      <td>1.000000</td>\n      <td>1.000000</td>\n      <td>0.000000</td>\n    </tr>\n    <tr>\n      <th>max</th>\n      <td>360.000000</td>\n      <td>50.000000</td>\n      <td>50.000000</td>\n      <td>60.000000</td>\n      <td>24855.000000</td>\n      <td>39805.000000</td>\n      <td>35355.000000</td>\n      <td>700.000000</td>\n      <td>690.00000</td>\n      <td>5885.000000</td>\n      <td>950.000000</td>\n      <td>2910.000000</td>\n      <td>60.000000</td>\n      <td>19424.000000</td>\n      <td>110.000000</td>\n      <td>47651.000000</td>\n      <td>1.000000</td>\n      <td>100.000000</td>\n      <td>14.000000</td>\n      <td>71.000000</td>\n      <td>1.000000</td>\n      <td>1.000000</td>\n      <td>1.000000</td>\n      <td>1.000000</td>\n      <td>1.000000</td>\n      <td>0.0</td>\n      <td>1.000000</td>\n      <td>1.000000</td>\n      <td>1.000000</td>\n      <td>0.0</td>\n      <td>1.000000</td>\n      <td>1.000000</td>\n      <td>1.000000</td>\n      <td>3.000000</td>\n      <td>1.000000</td>\n      <td>1.000000</td>\n      <td>1.000000</td>\n      <td>1.000000</td>\n      <td>2.000000</td>\n      <td>250000.000000</td>\n      <td>800000.000000</td>\n      <td>1.000000</td>\n      <td>25.000000</td>\n      <td>110.000000</td>\n      <td>1.000000</td>\n      <td>0.0</td>\n      <td>1.000000</td>\n      <td>1.000000</td>\n      <td>1.000000</td>\n      <td>1.000000</td>\n      <td>1.000000</td>\n    </tr>\n  </tbody>\n</table>\n</div>"
     },
     "metadata": {},
     "execution_count": 181
    }
   ],
   "source": [
    "class_0.describe()"
   ]
  },
  {
   "cell_type": "markdown",
   "metadata": {},
   "source": [
    "        12.1.3 - Correlation Matrix"
   ]
  },
  {
   "cell_type": "code",
   "execution_count": 182,
   "metadata": {},
   "outputs": [],
   "source": [
    "class0_desc = class_0.describe() # saving describe metrics for fisrt class\n",
    "\n",
    "first = class0_desc[['Purchased Product 1',\t'Purchased Product 2',\t\"Purchased Product 3\",\t'Purchased Product 4',\t'Purchased Product 5',\t'Purchased Product 6',\t'Purchased Product 7',\t'Purchased Product 8']].iloc[1] # selecting interest columns and mean row\n",
    "\n",
    "first = first.to_frame() # passing to dataframe type\n",
    "\n",
    "first.rename(columns={'mean': 'Cluster 1'}, inplace=True) # renaming column\n",
    "\n",
    "first['Houshold Average'] = [classes_frame['Purchased Product 1'].values.mean(), classes_frame['Purchased Product 2'].values.mean(), classes_frame['Purchased Product 3'].values.mean(), classes_frame['Purchased Product 4'].values.mean(), classes_frame['Purchased Product 5'].values.mean(), classes_frame['Purchased Product 6'].values.mean(), classes_frame['Purchased Product 7'].values.mean(), classes_frame['Purchased Product 8'].values.mean()]  # appending columns from other tables\n",
    "\n",
    "first.reset_index(level=0, inplace=True) # reseting index to numerical\n",
    "\n",
    "tidy = first.melt(id_vars='index') # melting for bar plot\n"
   ]
  },
  {
   "cell_type": "code",
   "execution_count": 183,
   "metadata": {},
   "outputs": [],
   "source": [
    "# plt.figure(figsize=(10,5))\n",
    "\n",
    "# sns.barplot(x='index', y='value', hue='variable', data=tidy)\n",
    "# plt.legend(title='Group')\n",
    "# plt.xticks(rotation='45')\n",
    "# plt.xlabel('Type of Home Ownership', fontsize=12, weight='bold')\n",
    "# plt.ylabel('Percentage', fontsize=12, weight='bold')\n",
    "# #plt.title('Behavioral Comparison between Cluster 1 and all Households', fontsize=15, weight='bold')\n",
    "# plt.savefig('class1_home.png', dpi=200, bbox_inches='tight')\n",
    "# plt.show()"
   ]
  },
  {
   "cell_type": "code",
   "execution_count": 184,
   "metadata": {},
   "outputs": [],
   "source": [
    "class_0_corrmat = abs(class_0.corr()) # absolute correlation\n",
    "\n",
    "# plt.figure(figsize=(15,10))\n",
    "\n",
    "# sns.heatmap(class_0_corrmat, square=True, robust=True, cmap='afmhot'); # matrix correlation"
   ]
  },
  {
   "cell_type": "markdown",
   "metadata": {},
   "source": [
    "    12.2 -  Class 1"
   ]
  },
  {
   "cell_type": "markdown",
   "metadata": {},
   "source": [
    "        12.2.1 - Glance"
   ]
  },
  {
   "cell_type": "code",
   "execution_count": 185,
   "metadata": {},
   "outputs": [
    {
     "output_type": "execute_result",
     "data": {
      "text/plain": "               Length Of Residence  Number of Roadside calss for Year 1  \\\nHousehold Key                                                             \n9690                         140.0                                    0   \n87180                        150.0                                    0   \n115240                       121.0                                    3   \n134220                       150.0                                    2   \n380930                        21.0                                    0   \n\n               Number of Roadside calss for Year 2  \\\nHousehold Key                                        \n9690                                             7   \n87180                                            0   \n115240                                          22   \n134220                                           0   \n380930                                          16   \n\n               Number of Roadside calss for Year 3  \\\nHousehold Key                                        \n9690                                            15   \n87180                                            0   \n115240                                          10   \n134220                                           0   \n380930                                           5   \n\n               Roadside Member Cost for Year 1  \\\nHousehold Key                                    \n9690                                  0.000000   \n87180                                 0.000000   \n115240                             1961.666667   \n134220                             1471.250000   \n380930                                0.000000   \n\n               Roadside Member Cost for Year 2  \\\nHousehold Key                                    \n9690                               1470.833333   \n87180                                 0.000000   \n115240                            12205.833333   \n134220                                0.000000   \n380930                             4437.727273   \n\n               Roadside Member Cost for Year 3  Member Tenure Years  \\\nHousehold Key                                                         \n9690                              15059.500000                  353   \n87180                                 0.000000                  100   \n115240                              530.000000                  363   \n134220                                0.000000                  330   \n380930                             3084.090909                  322   \n\n               Years to Cancelled Status   Basic Cost  Calculated Tow Miles  \\\nHousehold Key                                                                 \n9690                                 242  3072.500000                  22.5   \n87180                                  2     0.000000                   0.0   \n115240                                93  5885.000000                  12.0   \n134220                               242  2161.666667                   0.0   \n380930                                89   997.500000                  21.0   \n\n               Plus Cost  Premier Cost   Total Cost  \\\nHousehold Key                                         \n9690               127.5           0.0  4347.500000   \n87180                0.0           0.0     0.000000   \n115240               0.0           0.0  5885.000000   \n134220               0.0           0.0  2161.666667   \n380930               0.0           0.0  1085.500000   \n\n               Total Number of Roadside Calls  Total Roadside Member Cost  \\\nHousehold Key                                                               \n9690                                       22                16530.333333   \n87180                                       0                    0.000000   \n115240                                     35                14697.500000   \n134220                                      2                 1471.250000   \n380930                                     21                 7521.818182   \n\n               Email Available  Age  \\\nHousehold Key                         \n9690                         1   76   \n87180                        1   68   \n115240                       1   50   \n134220                       1   70   \n380930                       1   46   \n\n               Years from most recent Membership Expiration  \\\nHousehold Key                                                 \n9690                                                      0   \n87180                                                     3   \n115240                                                    3   \n134220                                                    0   \n380930                                                    1   \n\n               Years from Join Date  Purchased Product 1  Purchased Product 2  \\\nHousehold Key                                                                   \n9690                             36                    0                    0   \n87180                            11                    0                    0   \n115240                           37                    0                    0   \n134220                           34                    0                    0   \n380930                           33                    0                    0   \n\n               Purchased Product 3  Purchased Product 4  Purchased Product 5  \\\nHousehold Key                                                                  \n9690                             0                    0                    0   \n87180                            0                    0                    0   \n115240                           0                    0                    0   \n134220                           0                    0                    0   \n380930                           0                    0                    0   \n\n               Purchased Product 6  Purchased Product 7  Purchased Product 8  \\\nHousehold Key                                                                  \n9690                             0                    0                    0   \n87180                            0                    0                    0   \n115240                           0                    0                    0   \n134220                           0                    0                    0   \n380930                           0                    0                    0   \n\n               Mail Responder  Home Owner  Opt-Out - Publication  Cash Call  \\\nHousehold Key                                                                 \n9690                        1           1                      1          0   \n87180                       1           1                      1          0   \n115240                      1           1                      1          0   \n134220                      1           1                      1          0   \n380930                      1           1                      1          0   \n\n               Fleet Indicator  Total Number of Purchased Products  \\\nHousehold Key                                                        \n9690                         1                                   0   \n87180                        1                                   0   \n115240                       1                                   0   \n134220                       1                                   0   \n380930                       0                                   0   \n\n               Household Purchased Product  Email Correspondent  Home Renter  \\\nHousehold Key                                                                  \n9690                                     0                    1            0   \n87180                                    0                    1            0   \n115240                                   0                    1            0   \n134220                                   0                    1            0   \n380930                                   0                    1            0   \n\n               No Home Ownership Info        City  Number of Children  \\\nHousehold Key                                                           \n9690                                0     WARWICK                   0   \n87180                               0     WARWICK                   1   \n115240                              0  BARRINGTON                   4   \n134220                              0   WAKEFIELD                   1   \n380930                              0    MANVILLE                   0   \n\n               Annual Income     Education  Annual Credit Possible  \\\nHousehold Key                                                        \n9690                 54500.0       Unknown                774500.0   \n87180               124500.0       Unknown                674500.0   \n115240              124500.0       Unknown                800000.0   \n134220              162000.0  Some College                774500.0   \n380930               34500.0       Unknown                724500.0   \n\n              Member Status Renew Method  Motorcycle Indicator  \\\nHousehold Key                                                    \n9690                 ACTIVE   AUTO RENEW                     0   \n87180               PENDING       NOTICE                     0   \n115240               ACTIVE       NOTICE                     0   \n134220               ACTIVE       NOTICE                     1   \n380930               ACTIVE       NOTICE                     0   \n\n              Membership Type AAA Service Necessity Due Problem 1  \\\nHousehold Key                                                       \n9690                    Basic                           Flat Tire   \n87180                   Basic                          Jump Start   \n115240                  Basic                         Extrication   \n134220                  Basic                     Battery Service   \n380930                  Basic                           Flat Tire   \n\n                  AAA Club 1 Vehicle Manufacturer Name 1  \\\nHousehold Key                                              \n9690           AAA Northeast                      SUBARU   \n87180          AAA Northeast                  VOLKSWAGEN   \n115240         AAA Northeast                       LEXUS   \n134220         AAA Northeast                       ACURA   \n380930         AAA Northeast                       BUICK   \n\n              AAA Service Necessity Due Problem 2 Vehicle Manufacturer Name 2  \\\nHousehold Key                                                                   \n9690                                                                            \n87180                                                                           \n115240                                  Flat Tire                               \n134220                                                                          \n380930                                                                          \n\n              AAA Club 2  Number of Members per Household Key  \\\nHousehold Key                                                   \n9690                                                        6   \n87180                                                       2   \n115240                                                      7   \n134220                                                      4   \n380930                                                     12   \n\n               Frequency of use of Roadside Services  \\\nHousehold Key                                          \n9690                                              22   \n87180                                              0   \n115240                                            35   \n134220                                             2   \n380930                                            21   \n\n               Household have used the Roadside Services  \\\nHousehold Key                                              \n9690                                                   1   \n87180                                                  0   \n115240                                                 1   \n134220                                                 1   \n380930                                                 1   \n\n               Household Group Label  Household Purchase Product Probability  \\\nHousehold Key                                                                  \n9690                               1                                0.010777   \n87180                              1                                0.010777   \n115240                             1                                0.010777   \n134220                             1                                0.010777   \n380930                             1                                0.010777   \n\n               Household Roadside Usage Probability  Membership Type_Basic  \\\nHousehold Key                                                                \n9690                                       0.999964                    1.0   \n87180                                      0.185457                    1.0   \n115240                                     1.000000                    1.0   \n134220                                     0.308831                    1.0   \n380930                                     0.999967                    1.0   \n\n               Membership Type_Plus  Membership Type_Premier  \nHousehold Key                                                 \n9690                            0.0                      0.0  \n87180                           0.0                      0.0  \n115240                          0.0                      0.0  \n134220                          0.0                      0.0  \n380930                          0.0                      0.0  ",
      "text/html": "<div>\n<style scoped>\n    .dataframe tbody tr th:only-of-type {\n        vertical-align: middle;\n    }\n\n    .dataframe tbody tr th {\n        vertical-align: top;\n    }\n\n    .dataframe thead th {\n        text-align: right;\n    }\n</style>\n<table border=\"1\" class=\"dataframe\">\n  <thead>\n    <tr style=\"text-align: right;\">\n      <th></th>\n      <th>Length Of Residence</th>\n      <th>Number of Roadside calss for Year 1</th>\n      <th>Number of Roadside calss for Year 2</th>\n      <th>Number of Roadside calss for Year 3</th>\n      <th>Roadside Member Cost for Year 1</th>\n      <th>Roadside Member Cost for Year 2</th>\n      <th>Roadside Member Cost for Year 3</th>\n      <th>Member Tenure Years</th>\n      <th>Years to Cancelled Status</th>\n      <th>Basic Cost</th>\n      <th>Calculated Tow Miles</th>\n      <th>Plus Cost</th>\n      <th>Premier Cost</th>\n      <th>Total Cost</th>\n      <th>Total Number of Roadside Calls</th>\n      <th>Total Roadside Member Cost</th>\n      <th>Email Available</th>\n      <th>Age</th>\n      <th>Years from most recent Membership Expiration</th>\n      <th>Years from Join Date</th>\n      <th>Purchased Product 1</th>\n      <th>Purchased Product 2</th>\n      <th>Purchased Product 3</th>\n      <th>Purchased Product 4</th>\n      <th>Purchased Product 5</th>\n      <th>Purchased Product 6</th>\n      <th>Purchased Product 7</th>\n      <th>Purchased Product 8</th>\n      <th>Mail Responder</th>\n      <th>Home Owner</th>\n      <th>Opt-Out - Publication</th>\n      <th>Cash Call</th>\n      <th>Fleet Indicator</th>\n      <th>Total Number of Purchased Products</th>\n      <th>Household Purchased Product</th>\n      <th>Email Correspondent</th>\n      <th>Home Renter</th>\n      <th>No Home Ownership Info</th>\n      <th>City</th>\n      <th>Number of Children</th>\n      <th>Annual Income</th>\n      <th>Education</th>\n      <th>Annual Credit Possible</th>\n      <th>Member Status</th>\n      <th>Renew Method</th>\n      <th>Motorcycle Indicator</th>\n      <th>Membership Type</th>\n      <th>AAA Service Necessity Due Problem 1</th>\n      <th>AAA Club 1</th>\n      <th>Vehicle Manufacturer Name 1</th>\n      <th>AAA Service Necessity Due Problem 2</th>\n      <th>Vehicle Manufacturer Name 2</th>\n      <th>AAA Club 2</th>\n      <th>Number of Members per Household Key</th>\n      <th>Frequency of use of Roadside Services</th>\n      <th>Household have used the Roadside Services</th>\n      <th>Household Group Label</th>\n      <th>Household Purchase Product Probability</th>\n      <th>Household Roadside Usage Probability</th>\n      <th>Membership Type_Basic</th>\n      <th>Membership Type_Plus</th>\n      <th>Membership Type_Premier</th>\n    </tr>\n    <tr>\n      <th>Household Key</th>\n      <th></th>\n      <th></th>\n      <th></th>\n      <th></th>\n      <th></th>\n      <th></th>\n      <th></th>\n      <th></th>\n      <th></th>\n      <th></th>\n      <th></th>\n      <th></th>\n      <th></th>\n      <th></th>\n      <th></th>\n      <th></th>\n      <th></th>\n      <th></th>\n      <th></th>\n      <th></th>\n      <th></th>\n      <th></th>\n      <th></th>\n      <th></th>\n      <th></th>\n      <th></th>\n      <th></th>\n      <th></th>\n      <th></th>\n      <th></th>\n      <th></th>\n      <th></th>\n      <th></th>\n      <th></th>\n      <th></th>\n      <th></th>\n      <th></th>\n      <th></th>\n      <th></th>\n      <th></th>\n      <th></th>\n      <th></th>\n      <th></th>\n      <th></th>\n      <th></th>\n      <th></th>\n      <th></th>\n      <th></th>\n      <th></th>\n      <th></th>\n      <th></th>\n      <th></th>\n      <th></th>\n      <th></th>\n      <th></th>\n      <th></th>\n      <th></th>\n      <th></th>\n      <th></th>\n      <th></th>\n      <th></th>\n      <th></th>\n    </tr>\n  </thead>\n  <tbody>\n    <tr>\n      <th>9690</th>\n      <td>140.0</td>\n      <td>0</td>\n      <td>7</td>\n      <td>15</td>\n      <td>0.000000</td>\n      <td>1470.833333</td>\n      <td>15059.500000</td>\n      <td>353</td>\n      <td>242</td>\n      <td>3072.500000</td>\n      <td>22.5</td>\n      <td>127.5</td>\n      <td>0.0</td>\n      <td>4347.500000</td>\n      <td>22</td>\n      <td>16530.333333</td>\n      <td>1</td>\n      <td>76</td>\n      <td>0</td>\n      <td>36</td>\n      <td>0</td>\n      <td>0</td>\n      <td>0</td>\n      <td>0</td>\n      <td>0</td>\n      <td>0</td>\n      <td>0</td>\n      <td>0</td>\n      <td>1</td>\n      <td>1</td>\n      <td>1</td>\n      <td>0</td>\n      <td>1</td>\n      <td>0</td>\n      <td>0</td>\n      <td>1</td>\n      <td>0</td>\n      <td>0</td>\n      <td>WARWICK</td>\n      <td>0</td>\n      <td>54500.0</td>\n      <td>Unknown</td>\n      <td>774500.0</td>\n      <td>ACTIVE</td>\n      <td>AUTO RENEW</td>\n      <td>0</td>\n      <td>Basic</td>\n      <td>Flat Tire</td>\n      <td>AAA Northeast</td>\n      <td>SUBARU</td>\n      <td></td>\n      <td></td>\n      <td></td>\n      <td>6</td>\n      <td>22</td>\n      <td>1</td>\n      <td>1</td>\n      <td>0.010777</td>\n      <td>0.999964</td>\n      <td>1.0</td>\n      <td>0.0</td>\n      <td>0.0</td>\n    </tr>\n    <tr>\n      <th>87180</th>\n      <td>150.0</td>\n      <td>0</td>\n      <td>0</td>\n      <td>0</td>\n      <td>0.000000</td>\n      <td>0.000000</td>\n      <td>0.000000</td>\n      <td>100</td>\n      <td>2</td>\n      <td>0.000000</td>\n      <td>0.0</td>\n      <td>0.0</td>\n      <td>0.0</td>\n      <td>0.000000</td>\n      <td>0</td>\n      <td>0.000000</td>\n      <td>1</td>\n      <td>68</td>\n      <td>3</td>\n      <td>11</td>\n      <td>0</td>\n      <td>0</td>\n      <td>0</td>\n      <td>0</td>\n      <td>0</td>\n      <td>0</td>\n      <td>0</td>\n      <td>0</td>\n      <td>1</td>\n      <td>1</td>\n      <td>1</td>\n      <td>0</td>\n      <td>1</td>\n      <td>0</td>\n      <td>0</td>\n      <td>1</td>\n      <td>0</td>\n      <td>0</td>\n      <td>WARWICK</td>\n      <td>1</td>\n      <td>124500.0</td>\n      <td>Unknown</td>\n      <td>674500.0</td>\n      <td>PENDING</td>\n      <td>NOTICE</td>\n      <td>0</td>\n      <td>Basic</td>\n      <td>Jump Start</td>\n      <td>AAA Northeast</td>\n      <td>VOLKSWAGEN</td>\n      <td></td>\n      <td></td>\n      <td></td>\n      <td>2</td>\n      <td>0</td>\n      <td>0</td>\n      <td>1</td>\n      <td>0.010777</td>\n      <td>0.185457</td>\n      <td>1.0</td>\n      <td>0.0</td>\n      <td>0.0</td>\n    </tr>\n    <tr>\n      <th>115240</th>\n      <td>121.0</td>\n      <td>3</td>\n      <td>22</td>\n      <td>10</td>\n      <td>1961.666667</td>\n      <td>12205.833333</td>\n      <td>530.000000</td>\n      <td>363</td>\n      <td>93</td>\n      <td>5885.000000</td>\n      <td>12.0</td>\n      <td>0.0</td>\n      <td>0.0</td>\n      <td>5885.000000</td>\n      <td>35</td>\n      <td>14697.500000</td>\n      <td>1</td>\n      <td>50</td>\n      <td>3</td>\n      <td>37</td>\n      <td>0</td>\n      <td>0</td>\n      <td>0</td>\n      <td>0</td>\n      <td>0</td>\n      <td>0</td>\n      <td>0</td>\n      <td>0</td>\n      <td>1</td>\n      <td>1</td>\n      <td>1</td>\n      <td>0</td>\n      <td>1</td>\n      <td>0</td>\n      <td>0</td>\n      <td>1</td>\n      <td>0</td>\n      <td>0</td>\n      <td>BARRINGTON</td>\n      <td>4</td>\n      <td>124500.0</td>\n      <td>Unknown</td>\n      <td>800000.0</td>\n      <td>ACTIVE</td>\n      <td>NOTICE</td>\n      <td>0</td>\n      <td>Basic</td>\n      <td>Extrication</td>\n      <td>AAA Northeast</td>\n      <td>LEXUS</td>\n      <td>Flat Tire</td>\n      <td></td>\n      <td></td>\n      <td>7</td>\n      <td>35</td>\n      <td>1</td>\n      <td>1</td>\n      <td>0.010777</td>\n      <td>1.000000</td>\n      <td>1.0</td>\n      <td>0.0</td>\n      <td>0.0</td>\n    </tr>\n    <tr>\n      <th>134220</th>\n      <td>150.0</td>\n      <td>2</td>\n      <td>0</td>\n      <td>0</td>\n      <td>1471.250000</td>\n      <td>0.000000</td>\n      <td>0.000000</td>\n      <td>330</td>\n      <td>242</td>\n      <td>2161.666667</td>\n      <td>0.0</td>\n      <td>0.0</td>\n      <td>0.0</td>\n      <td>2161.666667</td>\n      <td>2</td>\n      <td>1471.250000</td>\n      <td>1</td>\n      <td>70</td>\n      <td>0</td>\n      <td>34</td>\n      <td>0</td>\n      <td>0</td>\n      <td>0</td>\n      <td>0</td>\n      <td>0</td>\n      <td>0</td>\n      <td>0</td>\n      <td>0</td>\n      <td>1</td>\n      <td>1</td>\n      <td>1</td>\n      <td>0</td>\n      <td>1</td>\n      <td>0</td>\n      <td>0</td>\n      <td>1</td>\n      <td>0</td>\n      <td>0</td>\n      <td>WAKEFIELD</td>\n      <td>1</td>\n      <td>162000.0</td>\n      <td>Some College</td>\n      <td>774500.0</td>\n      <td>ACTIVE</td>\n      <td>NOTICE</td>\n      <td>1</td>\n      <td>Basic</td>\n      <td>Battery Service</td>\n      <td>AAA Northeast</td>\n      <td>ACURA</td>\n      <td></td>\n      <td></td>\n      <td></td>\n      <td>4</td>\n      <td>2</td>\n      <td>1</td>\n      <td>1</td>\n      <td>0.010777</td>\n      <td>0.308831</td>\n      <td>1.0</td>\n      <td>0.0</td>\n      <td>0.0</td>\n    </tr>\n    <tr>\n      <th>380930</th>\n      <td>21.0</td>\n      <td>0</td>\n      <td>16</td>\n      <td>5</td>\n      <td>0.000000</td>\n      <td>4437.727273</td>\n      <td>3084.090909</td>\n      <td>322</td>\n      <td>89</td>\n      <td>997.500000</td>\n      <td>21.0</td>\n      <td>0.0</td>\n      <td>0.0</td>\n      <td>1085.500000</td>\n      <td>21</td>\n      <td>7521.818182</td>\n      <td>1</td>\n      <td>46</td>\n      <td>1</td>\n      <td>33</td>\n      <td>0</td>\n      <td>0</td>\n      <td>0</td>\n      <td>0</td>\n      <td>0</td>\n      <td>0</td>\n      <td>0</td>\n      <td>0</td>\n      <td>1</td>\n      <td>1</td>\n      <td>1</td>\n      <td>0</td>\n      <td>0</td>\n      <td>0</td>\n      <td>0</td>\n      <td>1</td>\n      <td>0</td>\n      <td>0</td>\n      <td>MANVILLE</td>\n      <td>0</td>\n      <td>34500.0</td>\n      <td>Unknown</td>\n      <td>724500.0</td>\n      <td>ACTIVE</td>\n      <td>NOTICE</td>\n      <td>0</td>\n      <td>Basic</td>\n      <td>Flat Tire</td>\n      <td>AAA Northeast</td>\n      <td>BUICK</td>\n      <td></td>\n      <td></td>\n      <td></td>\n      <td>12</td>\n      <td>21</td>\n      <td>1</td>\n      <td>1</td>\n      <td>0.010777</td>\n      <td>0.999967</td>\n      <td>1.0</td>\n      <td>0.0</td>\n      <td>0.0</td>\n    </tr>\n  </tbody>\n</table>\n</div>"
     },
     "metadata": {},
     "execution_count": 185
    }
   ],
   "source": [
    "class_1.head()"
   ]
  },
  {
   "cell_type": "markdown",
   "metadata": {},
   "source": [
    "        12.2.2 - Description"
   ]
  },
  {
   "cell_type": "code",
   "execution_count": 186,
   "metadata": {},
   "outputs": [
    {
     "output_type": "execute_result",
     "data": {
      "text/plain": "       Length Of Residence  Number of Roadside calss for Year 1  \\\ncount          1653.000000                          1653.000000   \nmean            113.705331                             3.140351   \nstd              41.178290                             6.846087   \nmin               0.000000                             0.000000   \n25%              95.000000                             0.000000   \n50%             120.000000                             0.000000   \n75%             150.000000                             3.000000   \nmax             322.000000                            50.000000   \n\n       Number of Roadside calss for Year 2  \\\ncount                          1653.000000   \nmean                              6.021779   \nstd                               9.033138   \nmin                               0.000000   \n25%                               0.000000   \n50%                               0.000000   \n75%                              10.000000   \nmax                              50.000000   \n\n       Number of Roadside calss for Year 3  Roadside Member Cost for Year 1  \\\ncount                          1653.000000                      1653.000000   \nmean                              6.020569                       824.730443   \nstd                               9.079662                      2465.472955   \nmin                               0.000000                         0.000000   \n25%                               0.000000                         0.000000   \n50%                               0.000000                         0.000000   \n75%                              10.000000                       200.000000   \nmax                              51.000000                     29425.000000   \n\n       Roadside Member Cost for Year 2  Roadside Member Cost for Year 3  \\\ncount                      1653.000000                      1653.000000   \nmean                       1451.240783                       947.586922   \nstd                        3420.188655                      2605.065638   \nmin                           0.000000                         0.000000   \n25%                           0.000000                         0.000000   \n50%                           0.000000                         0.000000   \n75%                        1105.111111                       530.000000   \nmax                       39175.714286                     31486.000000   \n\n       Member Tenure Years  Years to Cancelled Status   Basic Cost  \\\ncount          1653.000000                1653.000000  1653.000000   \nmean            360.215366                 240.984271   944.541309   \nstd             134.918537                 135.722329  1339.123169   \nmin               0.000000                   0.000000     0.000000   \n25%             264.000000                 149.000000   280.000000   \n50%             372.000000                 242.000000   467.500000   \n75%             470.000000                 301.000000  1019.375000   \nmax             810.000000                 680.000000  6357.000000   \n\n       Calculated Tow Miles    Plus Cost  Premier Cost    Total Cost  \\\ncount           1653.000000  1653.000000   1653.000000   1653.000000   \nmean              16.372450    24.606323      0.499093   1004.029972   \nstd               46.299325   147.384585     19.925911   1428.977897   \nmin                0.000000     0.000000      0.000000      0.000000   \n25%                0.000000     0.000000      0.000000    284.000000   \n50%                0.000000     0.000000      0.000000    530.000000   \n75%               16.000000     0.000000      0.000000   1146.666667   \nmax             1090.000000  4280.000000    810.000000  16856.000000   \n\n       Total Number of Roadside Calls  Total Roadside Member Cost  \\\ncount                     1653.000000                 1653.000000   \nmean                        15.182698                 3223.558148   \nstd                         18.232339                 5539.016967   \nmin                          0.000000                    0.000000   \n25%                          0.000000                    0.000000   \n50%                         10.000000                  750.000000   \n75%                         20.000000                 4551.666667   \nmax                        120.000000                61701.285714   \n\n       Email Available          Age  \\\ncount       1653.00000  1653.000000   \nmean           0.69631    73.369026   \nstd            0.45999    11.858143   \nmin            0.00000    25.000000   \n25%            0.00000    70.000000   \n50%            1.00000    74.000000   \n75%            1.00000    80.000000   \nmax            1.00000   100.000000   \n\n       Years from most recent Membership Expiration  Years from Join Date  \\\ncount                                   1653.000000           1653.000000   \nmean                                       2.297641             37.026618   \nstd                                        2.709900             13.493986   \nmin                                        0.000000              1.000000   \n25%                                        0.000000             27.000000   \n50%                                        1.000000             38.000000   \n75%                                        4.000000             48.000000   \nmax                                       16.000000             82.000000   \n\n       Purchased Product 1  Purchased Product 2  Purchased Product 3  \\\ncount               1653.0               1653.0               1653.0   \nmean                   0.0                  0.0                  0.0   \nstd                    0.0                  0.0                  0.0   \nmin                    0.0                  0.0                  0.0   \n25%                    0.0                  0.0                  0.0   \n50%                    0.0                  0.0                  0.0   \n75%                    0.0                  0.0                  0.0   \nmax                    0.0                  0.0                  0.0   \n\n       Purchased Product 4  Purchased Product 5  Purchased Product 6  \\\ncount               1653.0               1653.0               1653.0   \nmean                   0.0                  0.0                  0.0   \nstd                    0.0                  0.0                  0.0   \nmin                    0.0                  0.0                  0.0   \n25%                    0.0                  0.0                  0.0   \n50%                    0.0                  0.0                  0.0   \n75%                    0.0                  0.0                  0.0   \nmax                    0.0                  0.0                  0.0   \n\n       Purchased Product 7  Purchased Product 8  Mail Responder   Home Owner  \\\ncount               1653.0               1653.0     1653.000000  1653.000000   \nmean                   0.0                  0.0        0.972777     0.957048   \nstd                    0.0                  0.0        0.162783     0.202811   \nmin                    0.0                  0.0        0.000000     0.000000   \n25%                    0.0                  0.0        1.000000     1.000000   \n50%                    0.0                  0.0        1.000000     1.000000   \n75%                    0.0                  0.0        1.000000     1.000000   \nmax                    0.0                  0.0        1.000000     1.000000   \n\n       Opt-Out - Publication    Cash Call  Fleet Indicator  \\\ncount            1653.000000  1653.000000      1653.000000   \nmean                0.986086     0.001210         0.660617   \nstd                 0.117170     0.034773         0.473643   \nmin                 0.000000     0.000000         0.000000   \n25%                 1.000000     0.000000         0.000000   \n50%                 1.000000     0.000000         1.000000   \n75%                 1.000000     0.000000         1.000000   \nmax                 1.000000     1.000000         1.000000   \n\n       Total Number of Purchased Products  Household Purchased Product  \\\ncount                              1653.0                       1653.0   \nmean                                  0.0                          0.0   \nstd                                   0.0                          0.0   \nmin                                   0.0                          0.0   \n25%                                   0.0                          0.0   \n50%                                   0.0                          0.0   \n75%                                   0.0                          0.0   \nmax                                   0.0                          0.0   \n\n       Email Correspondent  Home Renter  No Home Ownership Info  \\\ncount          1653.000000  1653.000000             1653.000000   \nmean              0.999395     0.039927                0.003025   \nstd               0.024596     0.195848                0.054932   \nmin               0.000000     0.000000                0.000000   \n25%               1.000000     0.000000                0.000000   \n50%               1.000000     0.000000                0.000000   \n75%               1.000000     0.000000                0.000000   \nmax               1.000000     1.000000                1.000000   \n\n       Number of Children  Annual Income  Annual Credit Possible  \\\ncount         1653.000000    1653.000000             1653.000000   \nmean             0.790079   98023.877193           729942.202662   \nstd              1.007285   57835.018363            69286.760115   \nmin              0.000000    9999.000000           499999.000000   \n25%              0.000000   54500.000000           674500.000000   \n50%              0.000000   94500.000000           774500.000000   \n75%              1.000000  124500.000000           774500.000000   \nmax              5.000000  250000.000000           800000.000000   \n\n       Motorcycle Indicator  Number of Members per Household Key  \\\ncount           1653.000000                          1653.000000   \nmean               0.178463                             4.782819   \nstd                0.383018                             4.277102   \nmin                0.000000                             1.000000   \n25%                0.000000                             2.000000   \n50%                0.000000                             3.000000   \n75%                0.000000                             6.000000   \nmax                1.000000                            55.000000   \n\n       Frequency of use of Roadside Services  \\\ncount                            1653.000000   \nmean                               15.182698   \nstd                                18.232339   \nmin                                 0.000000   \n25%                                 0.000000   \n50%                                10.000000   \n75%                                20.000000   \nmax                               120.000000   \n\n       Household have used the Roadside Services  Household Group Label  \\\ncount                                1653.000000                 1653.0   \nmean                                    0.720508                    1.0   \nstd                                     0.448885                    0.0   \nmin                                     0.000000                    1.0   \n25%                                     0.000000                    1.0   \n50%                                     1.000000                    1.0   \n75%                                     1.000000                    1.0   \nmax                                     1.000000                    1.0   \n\n       Household Purchase Product Probability  \\\ncount                            1.653000e+03   \nmean                             1.077695e-02   \nstd                              5.552795e-17   \nmin                              1.077695e-02   \n25%                              1.077695e-02   \n50%                              1.077695e-02   \n75%                              1.077695e-02   \nmax                              1.077695e-02   \n\n       Household Roadside Usage Probability  Membership Type_Basic  \\\ncount                           1653.000000            1653.000000   \nmean                               0.727850               0.578342   \nstd                                0.354518               0.493974   \nmin                                0.185457               0.000000   \n25%                                0.185457               0.000000   \n50%                                0.974218               1.000000   \n75%                                0.999919               1.000000   \nmax                                1.000000               1.000000   \n\n       Membership Type_Plus  Membership Type_Premier  \ncount           1653.000000              1653.000000  \nmean               0.398669                 0.022989  \nstd                0.489773                 0.149912  \nmin                0.000000                 0.000000  \n25%                0.000000                 0.000000  \n50%                0.000000                 0.000000  \n75%                1.000000                 0.000000  \nmax                1.000000                 1.000000  ",
      "text/html": "<div>\n<style scoped>\n    .dataframe tbody tr th:only-of-type {\n        vertical-align: middle;\n    }\n\n    .dataframe tbody tr th {\n        vertical-align: top;\n    }\n\n    .dataframe thead th {\n        text-align: right;\n    }\n</style>\n<table border=\"1\" class=\"dataframe\">\n  <thead>\n    <tr style=\"text-align: right;\">\n      <th></th>\n      <th>Length Of Residence</th>\n      <th>Number of Roadside calss for Year 1</th>\n      <th>Number of Roadside calss for Year 2</th>\n      <th>Number of Roadside calss for Year 3</th>\n      <th>Roadside Member Cost for Year 1</th>\n      <th>Roadside Member Cost for Year 2</th>\n      <th>Roadside Member Cost for Year 3</th>\n      <th>Member Tenure Years</th>\n      <th>Years to Cancelled Status</th>\n      <th>Basic Cost</th>\n      <th>Calculated Tow Miles</th>\n      <th>Plus Cost</th>\n      <th>Premier Cost</th>\n      <th>Total Cost</th>\n      <th>Total Number of Roadside Calls</th>\n      <th>Total Roadside Member Cost</th>\n      <th>Email Available</th>\n      <th>Age</th>\n      <th>Years from most recent Membership Expiration</th>\n      <th>Years from Join Date</th>\n      <th>Purchased Product 1</th>\n      <th>Purchased Product 2</th>\n      <th>Purchased Product 3</th>\n      <th>Purchased Product 4</th>\n      <th>Purchased Product 5</th>\n      <th>Purchased Product 6</th>\n      <th>Purchased Product 7</th>\n      <th>Purchased Product 8</th>\n      <th>Mail Responder</th>\n      <th>Home Owner</th>\n      <th>Opt-Out - Publication</th>\n      <th>Cash Call</th>\n      <th>Fleet Indicator</th>\n      <th>Total Number of Purchased Products</th>\n      <th>Household Purchased Product</th>\n      <th>Email Correspondent</th>\n      <th>Home Renter</th>\n      <th>No Home Ownership Info</th>\n      <th>Number of Children</th>\n      <th>Annual Income</th>\n      <th>Annual Credit Possible</th>\n      <th>Motorcycle Indicator</th>\n      <th>Number of Members per Household Key</th>\n      <th>Frequency of use of Roadside Services</th>\n      <th>Household have used the Roadside Services</th>\n      <th>Household Group Label</th>\n      <th>Household Purchase Product Probability</th>\n      <th>Household Roadside Usage Probability</th>\n      <th>Membership Type_Basic</th>\n      <th>Membership Type_Plus</th>\n      <th>Membership Type_Premier</th>\n    </tr>\n  </thead>\n  <tbody>\n    <tr>\n      <th>count</th>\n      <td>1653.000000</td>\n      <td>1653.000000</td>\n      <td>1653.000000</td>\n      <td>1653.000000</td>\n      <td>1653.000000</td>\n      <td>1653.000000</td>\n      <td>1653.000000</td>\n      <td>1653.000000</td>\n      <td>1653.000000</td>\n      <td>1653.000000</td>\n      <td>1653.000000</td>\n      <td>1653.000000</td>\n      <td>1653.000000</td>\n      <td>1653.000000</td>\n      <td>1653.000000</td>\n      <td>1653.000000</td>\n      <td>1653.00000</td>\n      <td>1653.000000</td>\n      <td>1653.000000</td>\n      <td>1653.000000</td>\n      <td>1653.0</td>\n      <td>1653.0</td>\n      <td>1653.0</td>\n      <td>1653.0</td>\n      <td>1653.0</td>\n      <td>1653.0</td>\n      <td>1653.0</td>\n      <td>1653.0</td>\n      <td>1653.000000</td>\n      <td>1653.000000</td>\n      <td>1653.000000</td>\n      <td>1653.000000</td>\n      <td>1653.000000</td>\n      <td>1653.0</td>\n      <td>1653.0</td>\n      <td>1653.000000</td>\n      <td>1653.000000</td>\n      <td>1653.000000</td>\n      <td>1653.000000</td>\n      <td>1653.000000</td>\n      <td>1653.000000</td>\n      <td>1653.000000</td>\n      <td>1653.000000</td>\n      <td>1653.000000</td>\n      <td>1653.000000</td>\n      <td>1653.0</td>\n      <td>1.653000e+03</td>\n      <td>1653.000000</td>\n      <td>1653.000000</td>\n      <td>1653.000000</td>\n      <td>1653.000000</td>\n    </tr>\n    <tr>\n      <th>mean</th>\n      <td>113.705331</td>\n      <td>3.140351</td>\n      <td>6.021779</td>\n      <td>6.020569</td>\n      <td>824.730443</td>\n      <td>1451.240783</td>\n      <td>947.586922</td>\n      <td>360.215366</td>\n      <td>240.984271</td>\n      <td>944.541309</td>\n      <td>16.372450</td>\n      <td>24.606323</td>\n      <td>0.499093</td>\n      <td>1004.029972</td>\n      <td>15.182698</td>\n      <td>3223.558148</td>\n      <td>0.69631</td>\n      <td>73.369026</td>\n      <td>2.297641</td>\n      <td>37.026618</td>\n      <td>0.0</td>\n      <td>0.0</td>\n      <td>0.0</td>\n      <td>0.0</td>\n      <td>0.0</td>\n      <td>0.0</td>\n      <td>0.0</td>\n      <td>0.0</td>\n      <td>0.972777</td>\n      <td>0.957048</td>\n      <td>0.986086</td>\n      <td>0.001210</td>\n      <td>0.660617</td>\n      <td>0.0</td>\n      <td>0.0</td>\n      <td>0.999395</td>\n      <td>0.039927</td>\n      <td>0.003025</td>\n      <td>0.790079</td>\n      <td>98023.877193</td>\n      <td>729942.202662</td>\n      <td>0.178463</td>\n      <td>4.782819</td>\n      <td>15.182698</td>\n      <td>0.720508</td>\n      <td>1.0</td>\n      <td>1.077695e-02</td>\n      <td>0.727850</td>\n      <td>0.578342</td>\n      <td>0.398669</td>\n      <td>0.022989</td>\n    </tr>\n    <tr>\n      <th>std</th>\n      <td>41.178290</td>\n      <td>6.846087</td>\n      <td>9.033138</td>\n      <td>9.079662</td>\n      <td>2465.472955</td>\n      <td>3420.188655</td>\n      <td>2605.065638</td>\n      <td>134.918537</td>\n      <td>135.722329</td>\n      <td>1339.123169</td>\n      <td>46.299325</td>\n      <td>147.384585</td>\n      <td>19.925911</td>\n      <td>1428.977897</td>\n      <td>18.232339</td>\n      <td>5539.016967</td>\n      <td>0.45999</td>\n      <td>11.858143</td>\n      <td>2.709900</td>\n      <td>13.493986</td>\n      <td>0.0</td>\n      <td>0.0</td>\n      <td>0.0</td>\n      <td>0.0</td>\n      <td>0.0</td>\n      <td>0.0</td>\n      <td>0.0</td>\n      <td>0.0</td>\n      <td>0.162783</td>\n      <td>0.202811</td>\n      <td>0.117170</td>\n      <td>0.034773</td>\n      <td>0.473643</td>\n      <td>0.0</td>\n      <td>0.0</td>\n      <td>0.024596</td>\n      <td>0.195848</td>\n      <td>0.054932</td>\n      <td>1.007285</td>\n      <td>57835.018363</td>\n      <td>69286.760115</td>\n      <td>0.383018</td>\n      <td>4.277102</td>\n      <td>18.232339</td>\n      <td>0.448885</td>\n      <td>0.0</td>\n      <td>5.552795e-17</td>\n      <td>0.354518</td>\n      <td>0.493974</td>\n      <td>0.489773</td>\n      <td>0.149912</td>\n    </tr>\n    <tr>\n      <th>min</th>\n      <td>0.000000</td>\n      <td>0.000000</td>\n      <td>0.000000</td>\n      <td>0.000000</td>\n      <td>0.000000</td>\n      <td>0.000000</td>\n      <td>0.000000</td>\n      <td>0.000000</td>\n      <td>0.000000</td>\n      <td>0.000000</td>\n      <td>0.000000</td>\n      <td>0.000000</td>\n      <td>0.000000</td>\n      <td>0.000000</td>\n      <td>0.000000</td>\n      <td>0.000000</td>\n      <td>0.00000</td>\n      <td>25.000000</td>\n      <td>0.000000</td>\n      <td>1.000000</td>\n      <td>0.0</td>\n      <td>0.0</td>\n      <td>0.0</td>\n      <td>0.0</td>\n      <td>0.0</td>\n      <td>0.0</td>\n      <td>0.0</td>\n      <td>0.0</td>\n      <td>0.000000</td>\n      <td>0.000000</td>\n      <td>0.000000</td>\n      <td>0.000000</td>\n      <td>0.000000</td>\n      <td>0.0</td>\n      <td>0.0</td>\n      <td>0.000000</td>\n      <td>0.000000</td>\n      <td>0.000000</td>\n      <td>0.000000</td>\n      <td>9999.000000</td>\n      <td>499999.000000</td>\n      <td>0.000000</td>\n      <td>1.000000</td>\n      <td>0.000000</td>\n      <td>0.000000</td>\n      <td>1.0</td>\n      <td>1.077695e-02</td>\n      <td>0.185457</td>\n      <td>0.000000</td>\n      <td>0.000000</td>\n      <td>0.000000</td>\n    </tr>\n    <tr>\n      <th>25%</th>\n      <td>95.000000</td>\n      <td>0.000000</td>\n      <td>0.000000</td>\n      <td>0.000000</td>\n      <td>0.000000</td>\n      <td>0.000000</td>\n      <td>0.000000</td>\n      <td>264.000000</td>\n      <td>149.000000</td>\n      <td>280.000000</td>\n      <td>0.000000</td>\n      <td>0.000000</td>\n      <td>0.000000</td>\n      <td>284.000000</td>\n      <td>0.000000</td>\n      <td>0.000000</td>\n      <td>0.00000</td>\n      <td>70.000000</td>\n      <td>0.000000</td>\n      <td>27.000000</td>\n      <td>0.0</td>\n      <td>0.0</td>\n      <td>0.0</td>\n      <td>0.0</td>\n      <td>0.0</td>\n      <td>0.0</td>\n      <td>0.0</td>\n      <td>0.0</td>\n      <td>1.000000</td>\n      <td>1.000000</td>\n      <td>1.000000</td>\n      <td>0.000000</td>\n      <td>0.000000</td>\n      <td>0.0</td>\n      <td>0.0</td>\n      <td>1.000000</td>\n      <td>0.000000</td>\n      <td>0.000000</td>\n      <td>0.000000</td>\n      <td>54500.000000</td>\n      <td>674500.000000</td>\n      <td>0.000000</td>\n      <td>2.000000</td>\n      <td>0.000000</td>\n      <td>0.000000</td>\n      <td>1.0</td>\n      <td>1.077695e-02</td>\n      <td>0.185457</td>\n      <td>0.000000</td>\n      <td>0.000000</td>\n      <td>0.000000</td>\n    </tr>\n    <tr>\n      <th>50%</th>\n      <td>120.000000</td>\n      <td>0.000000</td>\n      <td>0.000000</td>\n      <td>0.000000</td>\n      <td>0.000000</td>\n      <td>0.000000</td>\n      <td>0.000000</td>\n      <td>372.000000</td>\n      <td>242.000000</td>\n      <td>467.500000</td>\n      <td>0.000000</td>\n      <td>0.000000</td>\n      <td>0.000000</td>\n      <td>530.000000</td>\n      <td>10.000000</td>\n      <td>750.000000</td>\n      <td>1.00000</td>\n      <td>74.000000</td>\n      <td>1.000000</td>\n      <td>38.000000</td>\n      <td>0.0</td>\n      <td>0.0</td>\n      <td>0.0</td>\n      <td>0.0</td>\n      <td>0.0</td>\n      <td>0.0</td>\n      <td>0.0</td>\n      <td>0.0</td>\n      <td>1.000000</td>\n      <td>1.000000</td>\n      <td>1.000000</td>\n      <td>0.000000</td>\n      <td>1.000000</td>\n      <td>0.0</td>\n      <td>0.0</td>\n      <td>1.000000</td>\n      <td>0.000000</td>\n      <td>0.000000</td>\n      <td>0.000000</td>\n      <td>94500.000000</td>\n      <td>774500.000000</td>\n      <td>0.000000</td>\n      <td>3.000000</td>\n      <td>10.000000</td>\n      <td>1.000000</td>\n      <td>1.0</td>\n      <td>1.077695e-02</td>\n      <td>0.974218</td>\n      <td>1.000000</td>\n      <td>0.000000</td>\n      <td>0.000000</td>\n    </tr>\n    <tr>\n      <th>75%</th>\n      <td>150.000000</td>\n      <td>3.000000</td>\n      <td>10.000000</td>\n      <td>10.000000</td>\n      <td>200.000000</td>\n      <td>1105.111111</td>\n      <td>530.000000</td>\n      <td>470.000000</td>\n      <td>301.000000</td>\n      <td>1019.375000</td>\n      <td>16.000000</td>\n      <td>0.000000</td>\n      <td>0.000000</td>\n      <td>1146.666667</td>\n      <td>20.000000</td>\n      <td>4551.666667</td>\n      <td>1.00000</td>\n      <td>80.000000</td>\n      <td>4.000000</td>\n      <td>48.000000</td>\n      <td>0.0</td>\n      <td>0.0</td>\n      <td>0.0</td>\n      <td>0.0</td>\n      <td>0.0</td>\n      <td>0.0</td>\n      <td>0.0</td>\n      <td>0.0</td>\n      <td>1.000000</td>\n      <td>1.000000</td>\n      <td>1.000000</td>\n      <td>0.000000</td>\n      <td>1.000000</td>\n      <td>0.0</td>\n      <td>0.0</td>\n      <td>1.000000</td>\n      <td>0.000000</td>\n      <td>0.000000</td>\n      <td>1.000000</td>\n      <td>124500.000000</td>\n      <td>774500.000000</td>\n      <td>0.000000</td>\n      <td>6.000000</td>\n      <td>20.000000</td>\n      <td>1.000000</td>\n      <td>1.0</td>\n      <td>1.077695e-02</td>\n      <td>0.999919</td>\n      <td>1.000000</td>\n      <td>1.000000</td>\n      <td>0.000000</td>\n    </tr>\n    <tr>\n      <th>max</th>\n      <td>322.000000</td>\n      <td>50.000000</td>\n      <td>50.000000</td>\n      <td>51.000000</td>\n      <td>29425.000000</td>\n      <td>39175.714286</td>\n      <td>31486.000000</td>\n      <td>810.000000</td>\n      <td>680.000000</td>\n      <td>6357.000000</td>\n      <td>1090.000000</td>\n      <td>4280.000000</td>\n      <td>810.000000</td>\n      <td>16856.000000</td>\n      <td>120.000000</td>\n      <td>61701.285714</td>\n      <td>1.00000</td>\n      <td>100.000000</td>\n      <td>16.000000</td>\n      <td>82.000000</td>\n      <td>0.0</td>\n      <td>0.0</td>\n      <td>0.0</td>\n      <td>0.0</td>\n      <td>0.0</td>\n      <td>0.0</td>\n      <td>0.0</td>\n      <td>0.0</td>\n      <td>1.000000</td>\n      <td>1.000000</td>\n      <td>1.000000</td>\n      <td>1.000000</td>\n      <td>1.000000</td>\n      <td>0.0</td>\n      <td>0.0</td>\n      <td>1.000000</td>\n      <td>1.000000</td>\n      <td>1.000000</td>\n      <td>5.000000</td>\n      <td>250000.000000</td>\n      <td>800000.000000</td>\n      <td>1.000000</td>\n      <td>55.000000</td>\n      <td>120.000000</td>\n      <td>1.000000</td>\n      <td>1.0</td>\n      <td>1.077695e-02</td>\n      <td>1.000000</td>\n      <td>1.000000</td>\n      <td>1.000000</td>\n      <td>1.000000</td>\n    </tr>\n  </tbody>\n</table>\n</div>"
     },
     "metadata": {},
     "execution_count": 186
    }
   ],
   "source": [
    "class_1.describe()"
   ]
  },
  {
   "cell_type": "markdown",
   "metadata": {},
   "source": [
    "        12.2.3 - Correlation Matrix"
   ]
  },
  {
   "cell_type": "code",
   "execution_count": 187,
   "metadata": {},
   "outputs": [
    {
     "output_type": "execute_result",
     "data": {
      "text/plain": "690444.5001221001"
     },
     "metadata": {},
     "execution_count": 187
    }
   ],
   "source": [
    "classes_frame['Annual Credit Possible'].values.mean()"
   ]
  },
  {
   "cell_type": "code",
   "execution_count": 188,
   "metadata": {},
   "outputs": [],
   "source": [
    "class1_desc = class_1.describe()\n",
    "\n",
    "first = class1_desc[['Annual Income',\t'Annual Credit Possible']].iloc[1]\n",
    "\n",
    "first = first.to_frame()\n",
    "\n",
    "first.rename(columns={'mean': 'Cluster 2'}, inplace=True)\n",
    "\n",
    "first['Houshold Average'] = [classes_frame['Annual Income'].values.mean(), classes_frame['Annual Credit Possible'].values.mean()]\n",
    "\n",
    "first.reset_index(level=0, inplace=True)\n",
    "\n",
    "tidy = first.melt(id_vars='index')\n"
   ]
  },
  {
   "cell_type": "code",
   "execution_count": 189,
   "metadata": {},
   "outputs": [],
   "source": [
    "# plt.figure(figsize=(10,5))\n",
    "\n",
    "# sns.barplot(x='index', y='value', hue='variable', data=tidy)\n",
    "# plt.legend(title='Group')\n",
    "# plt.xticks(rotation='45')\n",
    "# plt.xlabel('Income and Credit', fontsize=12, weight='bold')\n",
    "# plt.ylabel('Values in USD', fontsize=12, weight='bold')\n",
    "# #plt.title('Behavioral Comparison between Cluster 2 and all Households', fontsize=15, weight='bold')\n",
    "# plt.savefig('class2_inc.png', dpi=200, bbox_inches='tight')\n",
    "# plt.show()"
   ]
  },
  {
   "cell_type": "code",
   "execution_count": 190,
   "metadata": {},
   "outputs": [],
   "source": [
    "class_1_corrmat = abs(class_1.corr())\n",
    "\n",
    "# plt.figure(figsize=(15,10))\n",
    "\n",
    "# sns.heatmap(class_1_corrmat, square=True, robust=True, cmap='afmhot'); # matrix correlation"
   ]
  },
  {
   "cell_type": "markdown",
   "metadata": {},
   "source": [
    "    12.3 - Class 2"
   ]
  },
  {
   "cell_type": "markdown",
   "metadata": {},
   "source": [
    "        12.3.1 - Glance"
   ]
  },
  {
   "cell_type": "code",
   "execution_count": 191,
   "metadata": {},
   "outputs": [
    {
     "output_type": "execute_result",
     "data": {
      "text/plain": "               Length Of Residence  Number of Roadside calss for Year 1  \\\nHousehold Key                                                             \n1180680                      150.0                                    0   \n1430510                      150.0                                    0   \n\n               Number of Roadside calss for Year 2  \\\nHousehold Key                                        \n1180680                                          0   \n1430510                                          0   \n\n               Number of Roadside calss for Year 3  \\\nHousehold Key                                        \n1180680                                          0   \n1430510                                         10   \n\n               Roadside Member Cost for Year 1  \\\nHousehold Key                                    \n1180680                                    0.0   \n1430510                                    0.0   \n\n               Roadside Member Cost for Year 2  \\\nHousehold Key                                    \n1180680                                    0.0   \n1430510                                    0.0   \n\n               Roadside Member Cost for Year 3  Member Tenure Years  \\\nHousehold Key                                                         \n1180680                                    0.0                  365   \n1430510                                  530.0                  490   \n\n               Years to Cancelled Status  Basic Cost  Calculated Tow Miles  \\\nHousehold Key                                                                \n1180680                              181       530.0                   0.0   \n1430510                              242       280.0                   0.0   \n\n               Plus Cost  Premier Cost  Total Cost  \\\nHousehold Key                                        \n1180680              0.0           0.0       530.0   \n1430510              0.0           0.0       280.0   \n\n               Total Number of Roadside Calls  Total Roadside Member Cost  \\\nHousehold Key                                                               \n1180680                                     0                         0.0   \n1430510                                    10                       530.0   \n\n               Email Available  Age  \\\nHousehold Key                         \n1180680                      1   39   \n1430510                      0   91   \n\n               Years from most recent Membership Expiration  \\\nHousehold Key                                                 \n1180680                                                   2   \n1430510                                                   0   \n\n               Years from Join Date  Purchased Product 1  Purchased Product 2  \\\nHousehold Key                                                                   \n1180680                          38                    0                    0   \n1430510                          50                    0                    0   \n\n               Purchased Product 3  Purchased Product 4  Purchased Product 5  \\\nHousehold Key                                                                  \n1180680                          0                    0                    0   \n1430510                          0                    0                    0   \n\n               Purchased Product 6  Purchased Product 7  Purchased Product 8  \\\nHousehold Key                                                                  \n1180680                          0                    0                    0   \n1430510                          0                    0                    0   \n\n               Mail Responder  Home Owner  Opt-Out - Publication  Cash Call  \\\nHousehold Key                                                                 \n1180680                     1           1                      1          1   \n1430510                     1           1                      1          1   \n\n               Fleet Indicator  Total Number of Purchased Products  \\\nHousehold Key                                                        \n1180680                      1                                   0   \n1430510                      1                                   0   \n\n               Household Purchased Product  Email Correspondent  Home Renter  \\\nHousehold Key                                                                  \n1180680                                  0                    1            0   \n1430510                                  0                    1            0   \n\n               No Home Ownership Info        City  Number of Children  \\\nHousehold Key                                                           \n1180680                             0    CRANSTON                   0   \n1430510                             0  GREENVILLE                   2   \n\n               Annual Income Education  Annual Credit Possible Member Status  \\\nHousehold Key                                                                  \n1180680              14500.0   Unknown                774500.0     CANCELLED   \n1430510              74500.0   Unknown                674500.0     CANCELLED   \n\n              Renew Method  Motorcycle Indicator Membership Type  \\\nHousehold Key                                                      \n1180680             NOTICE                     0           Basic   \n1430510             NOTICE                     0           Basic   \n\n              AAA Service Necessity Due Problem 1  \\\nHousehold Key                                       \n1180680        No record for the last three years   \n1430510        No record for the last three years   \n\n                                       AAA Club 1  \\\nHousehold Key                                       \n1180680        No record for the last three years   \n1430510        No record for the last three years   \n\n                      Vehicle Manufacturer Name 1  \\\nHousehold Key                                       \n1180680        No record for the last three years   \n1430510        No record for the last three years   \n\n              AAA Service Necessity Due Problem 2 Vehicle Manufacturer Name 2  \\\nHousehold Key                                                                   \n1180680                                                                         \n1430510                                                                         \n\n              AAA Club 2  Number of Members per Household Key  \\\nHousehold Key                                                   \n1180680                                                     2   \n1430510                                                     1   \n\n               Frequency of use of Roadside Services  \\\nHousehold Key                                          \n1180680                                            0   \n1430510                                           10   \n\n               Household have used the Roadside Services  \\\nHousehold Key                                              \n1180680                                                0   \n1430510                                                1   \n\n               Household Group Label  Household Purchase Product Probability  \\\nHousehold Key                                                                  \n1180680                            2                                0.010777   \n1430510                            2                                0.010777   \n\n               Household Roadside Usage Probability  Membership Type_Basic  \\\nHousehold Key                                                                \n1180680                                    0.185457                    1.0   \n1430510                                    0.974218                    1.0   \n\n               Membership Type_Plus  Membership Type_Premier  \nHousehold Key                                                 \n1180680                         0.0                      0.0  \n1430510                         0.0                      0.0  ",
      "text/html": "<div>\n<style scoped>\n    .dataframe tbody tr th:only-of-type {\n        vertical-align: middle;\n    }\n\n    .dataframe tbody tr th {\n        vertical-align: top;\n    }\n\n    .dataframe thead th {\n        text-align: right;\n    }\n</style>\n<table border=\"1\" class=\"dataframe\">\n  <thead>\n    <tr style=\"text-align: right;\">\n      <th></th>\n      <th>Length Of Residence</th>\n      <th>Number of Roadside calss for Year 1</th>\n      <th>Number of Roadside calss for Year 2</th>\n      <th>Number of Roadside calss for Year 3</th>\n      <th>Roadside Member Cost for Year 1</th>\n      <th>Roadside Member Cost for Year 2</th>\n      <th>Roadside Member Cost for Year 3</th>\n      <th>Member Tenure Years</th>\n      <th>Years to Cancelled Status</th>\n      <th>Basic Cost</th>\n      <th>Calculated Tow Miles</th>\n      <th>Plus Cost</th>\n      <th>Premier Cost</th>\n      <th>Total Cost</th>\n      <th>Total Number of Roadside Calls</th>\n      <th>Total Roadside Member Cost</th>\n      <th>Email Available</th>\n      <th>Age</th>\n      <th>Years from most recent Membership Expiration</th>\n      <th>Years from Join Date</th>\n      <th>Purchased Product 1</th>\n      <th>Purchased Product 2</th>\n      <th>Purchased Product 3</th>\n      <th>Purchased Product 4</th>\n      <th>Purchased Product 5</th>\n      <th>Purchased Product 6</th>\n      <th>Purchased Product 7</th>\n      <th>Purchased Product 8</th>\n      <th>Mail Responder</th>\n      <th>Home Owner</th>\n      <th>Opt-Out - Publication</th>\n      <th>Cash Call</th>\n      <th>Fleet Indicator</th>\n      <th>Total Number of Purchased Products</th>\n      <th>Household Purchased Product</th>\n      <th>Email Correspondent</th>\n      <th>Home Renter</th>\n      <th>No Home Ownership Info</th>\n      <th>City</th>\n      <th>Number of Children</th>\n      <th>Annual Income</th>\n      <th>Education</th>\n      <th>Annual Credit Possible</th>\n      <th>Member Status</th>\n      <th>Renew Method</th>\n      <th>Motorcycle Indicator</th>\n      <th>Membership Type</th>\n      <th>AAA Service Necessity Due Problem 1</th>\n      <th>AAA Club 1</th>\n      <th>Vehicle Manufacturer Name 1</th>\n      <th>AAA Service Necessity Due Problem 2</th>\n      <th>Vehicle Manufacturer Name 2</th>\n      <th>AAA Club 2</th>\n      <th>Number of Members per Household Key</th>\n      <th>Frequency of use of Roadside Services</th>\n      <th>Household have used the Roadside Services</th>\n      <th>Household Group Label</th>\n      <th>Household Purchase Product Probability</th>\n      <th>Household Roadside Usage Probability</th>\n      <th>Membership Type_Basic</th>\n      <th>Membership Type_Plus</th>\n      <th>Membership Type_Premier</th>\n    </tr>\n    <tr>\n      <th>Household Key</th>\n      <th></th>\n      <th></th>\n      <th></th>\n      <th></th>\n      <th></th>\n      <th></th>\n      <th></th>\n      <th></th>\n      <th></th>\n      <th></th>\n      <th></th>\n      <th></th>\n      <th></th>\n      <th></th>\n      <th></th>\n      <th></th>\n      <th></th>\n      <th></th>\n      <th></th>\n      <th></th>\n      <th></th>\n      <th></th>\n      <th></th>\n      <th></th>\n      <th></th>\n      <th></th>\n      <th></th>\n      <th></th>\n      <th></th>\n      <th></th>\n      <th></th>\n      <th></th>\n      <th></th>\n      <th></th>\n      <th></th>\n      <th></th>\n      <th></th>\n      <th></th>\n      <th></th>\n      <th></th>\n      <th></th>\n      <th></th>\n      <th></th>\n      <th></th>\n      <th></th>\n      <th></th>\n      <th></th>\n      <th></th>\n      <th></th>\n      <th></th>\n      <th></th>\n      <th></th>\n      <th></th>\n      <th></th>\n      <th></th>\n      <th></th>\n      <th></th>\n      <th></th>\n      <th></th>\n      <th></th>\n      <th></th>\n      <th></th>\n    </tr>\n  </thead>\n  <tbody>\n    <tr>\n      <th>1180680</th>\n      <td>150.0</td>\n      <td>0</td>\n      <td>0</td>\n      <td>0</td>\n      <td>0.0</td>\n      <td>0.0</td>\n      <td>0.0</td>\n      <td>365</td>\n      <td>181</td>\n      <td>530.0</td>\n      <td>0.0</td>\n      <td>0.0</td>\n      <td>0.0</td>\n      <td>530.0</td>\n      <td>0</td>\n      <td>0.0</td>\n      <td>1</td>\n      <td>39</td>\n      <td>2</td>\n      <td>38</td>\n      <td>0</td>\n      <td>0</td>\n      <td>0</td>\n      <td>0</td>\n      <td>0</td>\n      <td>0</td>\n      <td>0</td>\n      <td>0</td>\n      <td>1</td>\n      <td>1</td>\n      <td>1</td>\n      <td>1</td>\n      <td>1</td>\n      <td>0</td>\n      <td>0</td>\n      <td>1</td>\n      <td>0</td>\n      <td>0</td>\n      <td>CRANSTON</td>\n      <td>0</td>\n      <td>14500.0</td>\n      <td>Unknown</td>\n      <td>774500.0</td>\n      <td>CANCELLED</td>\n      <td>NOTICE</td>\n      <td>0</td>\n      <td>Basic</td>\n      <td>No record for the last three years</td>\n      <td>No record for the last three years</td>\n      <td>No record for the last three years</td>\n      <td></td>\n      <td></td>\n      <td></td>\n      <td>2</td>\n      <td>0</td>\n      <td>0</td>\n      <td>2</td>\n      <td>0.010777</td>\n      <td>0.185457</td>\n      <td>1.0</td>\n      <td>0.0</td>\n      <td>0.0</td>\n    </tr>\n    <tr>\n      <th>1430510</th>\n      <td>150.0</td>\n      <td>0</td>\n      <td>0</td>\n      <td>10</td>\n      <td>0.0</td>\n      <td>0.0</td>\n      <td>530.0</td>\n      <td>490</td>\n      <td>242</td>\n      <td>280.0</td>\n      <td>0.0</td>\n      <td>0.0</td>\n      <td>0.0</td>\n      <td>280.0</td>\n      <td>10</td>\n      <td>530.0</td>\n      <td>0</td>\n      <td>91</td>\n      <td>0</td>\n      <td>50</td>\n      <td>0</td>\n      <td>0</td>\n      <td>0</td>\n      <td>0</td>\n      <td>0</td>\n      <td>0</td>\n      <td>0</td>\n      <td>0</td>\n      <td>1</td>\n      <td>1</td>\n      <td>1</td>\n      <td>1</td>\n      <td>1</td>\n      <td>0</td>\n      <td>0</td>\n      <td>1</td>\n      <td>0</td>\n      <td>0</td>\n      <td>GREENVILLE</td>\n      <td>2</td>\n      <td>74500.0</td>\n      <td>Unknown</td>\n      <td>674500.0</td>\n      <td>CANCELLED</td>\n      <td>NOTICE</td>\n      <td>0</td>\n      <td>Basic</td>\n      <td>No record for the last three years</td>\n      <td>No record for the last three years</td>\n      <td>No record for the last three years</td>\n      <td></td>\n      <td></td>\n      <td></td>\n      <td>1</td>\n      <td>10</td>\n      <td>1</td>\n      <td>2</td>\n      <td>0.010777</td>\n      <td>0.974218</td>\n      <td>1.0</td>\n      <td>0.0</td>\n      <td>0.0</td>\n    </tr>\n  </tbody>\n</table>\n</div>"
     },
     "metadata": {},
     "execution_count": 191
    }
   ],
   "source": [
    "class_2.head(n=2)"
   ]
  },
  {
   "cell_type": "markdown",
   "metadata": {},
   "source": [
    "        12.3.2 - Describe"
   ]
  },
  {
   "cell_type": "code",
   "execution_count": 192,
   "metadata": {},
   "outputs": [
    {
     "output_type": "execute_result",
     "data": {
      "text/plain": "       Length Of Residence  Number of Roadside calss for Year 1  \\\ncount           688.000000                           688.000000   \nmean            113.507326                             3.341570   \nstd              44.481560                             6.975809   \nmin               0.000000                             0.000000   \n25%              90.000000                             0.000000   \n50%             121.000000                             0.000000   \n75%             150.000000                             4.000000   \nmax             335.000000                            50.000000   \n\n       Number of Roadside calss for Year 2  \\\ncount                           688.000000   \nmean                              5.997093   \nstd                               9.104919   \nmin                               0.000000   \n25%                               0.000000   \n50%                               0.000000   \n75%                              10.000000   \nmax                              54.000000   \n\n       Number of Roadside calss for Year 3  Roadside Member Cost for Year 1  \\\ncount                           688.000000                       688.000000   \nmean                              6.203488                       763.795157   \nstd                               9.443428                      2185.087057   \nmin                               0.000000                         0.000000   \n25%                               0.000000                         0.000000   \n50%                               0.000000                         0.000000   \n75%                              10.000000                       240.113636   \nmax                              85.000000                     22028.888889   \n\n       Roadside Member Cost for Year 2  Roadside Member Cost for Year 3  \\\ncount                       688.000000                       688.000000   \nmean                       1542.411244                       889.334452   \nstd                        3289.155774                      2275.049891   \nmin                           0.000000                         0.000000   \n25%                           0.000000                         0.000000   \n50%                           0.000000                         0.000000   \n75%                        1177.000000                       594.166667   \nmax                       21985.000000                     23604.000000   \n\n       Member Tenure Years  Years to Cancelled Status   Basic Cost  \\\ncount           688.000000                 688.000000   688.000000   \nmean            359.877907                 239.449128   938.131549   \nstd             129.506058                 138.992278  1246.201676   \nmin              10.000000                   0.000000     0.000000   \n25%             270.750000                 144.500000   291.272727   \n50%             368.000000                 242.000000   481.000000   \n75%             470.000000                 280.250000  1127.031250   \nmax             680.000000                 686.000000  5885.000000   \n\n       Calculated Tow Miles    Plus Cost  Premier Cost    Total Cost  \\\ncount            688.000000   688.000000         688.0    688.000000   \nmean              19.697467    26.640357           0.0   1075.087477   \nstd               57.479330   183.977569           0.0   2369.605219   \nmin                0.000000     0.000000           0.0      0.000000   \n25%                0.000000     0.000000           0.0    300.000000   \n50%                0.000000     0.000000           0.0    530.000000   \n75%               20.000000     0.000000           0.0   1258.154762   \nmax             1130.000000  4280.000000           0.0  52805.000000   \n\n       Total Number of Roadside Calls  Total Roadside Member Cost  \\\ncount                      688.000000                  688.000000   \nmean                        15.542151                 3195.540853   \nstd                         18.982976                 5094.162507   \nmin                          0.000000                    0.000000   \n25%                          0.000000                    0.000000   \n50%                         10.000000                  875.000000   \n75%                         21.250000                 4413.750000   \nmax                        133.000000                38569.000000   \n\n       Email Available         Age  \\\ncount       688.000000  688.000000   \nmean          0.699128   72.965116   \nstd           0.458971   12.690996   \nmin           0.000000   23.000000   \n25%           0.000000   68.000000   \n50%           1.000000   74.000000   \n75%           1.000000   80.000000   \nmax           1.000000  100.000000   \n\n       Years from most recent Membership Expiration  Years from Join Date  \\\ncount                                    688.000000            688.000000   \nmean                                       2.293605             36.973837   \nstd                                        2.883647             12.950669   \nmin                                        0.000000              2.000000   \n25%                                        0.000000             28.000000   \n50%                                        1.000000             38.000000   \n75%                                        4.000000             48.000000   \nmax                                       16.000000             69.000000   \n\n       Purchased Product 1  Purchased Product 2  Purchased Product 3  \\\ncount           688.000000           688.000000           688.000000   \nmean              0.024709             0.090116             0.004360   \nstd               0.155351             0.286557             0.065938   \nmin               0.000000             0.000000             0.000000   \n25%               0.000000             0.000000             0.000000   \n50%               0.000000             0.000000             0.000000   \n75%               0.000000             0.000000             0.000000   \nmax               1.000000             1.000000             1.000000   \n\n       Purchased Product 4  Purchased Product 5  Purchased Product 6  \\\ncount                688.0           688.000000           688.000000   \nmean                   0.0             0.043605             0.002907   \nstd                    0.0             0.204362             0.053877   \nmin                    0.0             0.000000             0.000000   \n25%                    0.0             0.000000             0.000000   \n50%                    0.0             0.000000             0.000000   \n75%                    0.0             0.000000             0.000000   \nmax                    0.0             1.000000             1.000000   \n\n       Purchased Product 7  Purchased Product 8  Mail Responder  Home Owner  \\\ncount           688.000000           688.000000      688.000000  688.000000   \nmean              0.213663             0.114826        0.965116    0.927326   \nstd               0.410190             0.319043        0.183619    0.259790   \nmin               0.000000             0.000000        0.000000    0.000000   \n25%               0.000000             0.000000        1.000000    1.000000   \n50%               0.000000             0.000000        1.000000    1.000000   \n75%               0.000000             0.000000        1.000000    1.000000   \nmax               1.000000             1.000000        1.000000    1.000000   \n\n       Opt-Out - Publication  Cash Call  Fleet Indicator  \\\ncount             688.000000      688.0            688.0   \nmean                0.986919        1.0              1.0   \nstd                 0.113706        0.0              0.0   \nmin                 0.000000        1.0              1.0   \n25%                 1.000000        1.0              1.0   \n50%                 1.000000        1.0              1.0   \n75%                 1.000000        1.0              1.0   \nmax                 1.000000        1.0              1.0   \n\n       Total Number of Purchased Products  Household Purchased Product  \\\ncount                          688.000000                   688.000000   \nmean                             0.494186                     0.372093   \nstd                              0.747608                     0.483715   \nmin                              0.000000                     0.000000   \n25%                              0.000000                     0.000000   \n50%                              0.000000                     0.000000   \n75%                              1.000000                     1.000000   \nmax                              4.000000                     1.000000   \n\n       Email Correspondent  Home Renter  No Home Ownership Info  \\\ncount           688.000000   688.000000              688.000000   \nmean              0.998547     0.031977                0.040698   \nstd               0.038125     0.176066                0.197733   \nmin               0.000000     0.000000                0.000000   \n25%               1.000000     0.000000                0.000000   \n50%               1.000000     0.000000                0.000000   \n75%               1.000000     0.000000                0.000000   \nmax               1.000000     1.000000                1.000000   \n\n       Number of Children  Annual Income  Annual Credit Possible  \\\ncount          688.000000     688.000000              688.000000   \nmean             0.537791   88534.863372           728606.062500   \nstd              0.828019   56119.892217            75306.274335   \nmin              0.000000    9999.000000           499999.000000   \n25%              0.000000   44500.000000           674500.000000   \n50%              0.000000   74500.000000           774500.000000   \n75%              1.000000  124500.000000           774500.000000   \nmax              5.000000  250000.000000           800000.000000   \n\n       Motorcycle Indicator  Number of Members per Household Key  \\\ncount                 688.0                           688.000000   \nmean                    0.0                             4.877907   \nstd                     0.0                             3.972567   \nmin                     0.0                             1.000000   \n25%                     0.0                             2.000000   \n50%                     0.0                             4.000000   \n75%                     0.0                             6.000000   \nmax                     0.0                            37.000000   \n\n       Frequency of use of Roadside Services  \\\ncount                             688.000000   \nmean                               15.542151   \nstd                                18.982976   \nmin                                 0.000000   \n25%                                 0.000000   \n50%                                10.000000   \n75%                                21.250000   \nmax                               133.000000   \n\n       Household have used the Roadside Services  Household Group Label  \\\ncount                                 688.000000                  688.0   \nmean                                    0.716570                    2.0   \nstd                                     0.450991                    0.0   \nmin                                     0.000000                    2.0   \n25%                                     0.000000                    2.0   \n50%                                     1.000000                    2.0   \n75%                                     1.000000                    2.0   \nmax                                     1.000000                    2.0   \n\n       Household Purchase Product Probability  \\\ncount                              688.000000   \nmean                                 0.370278   \nstd                                  0.469550   \nmin                                  0.010777   \n25%                                  0.010777   \n50%                                  0.010777   \n75%                                  0.994138   \nmax                                  1.000000   \n\n       Household Roadside Usage Probability  Membership Type_Basic  \\\ncount                            688.000000                  688.0   \nmean                               0.713669                    1.0   \nstd                                0.356828                    0.0   \nmin                                0.185457                    1.0   \n25%                                0.185457                    1.0   \n50%                                0.974218                    1.0   \n75%                                0.999949                    1.0   \nmax                                1.000000                    1.0   \n\n       Membership Type_Plus  Membership Type_Premier  \ncount                 688.0                    688.0  \nmean                    0.0                      0.0  \nstd                     0.0                      0.0  \nmin                     0.0                      0.0  \n25%                     0.0                      0.0  \n50%                     0.0                      0.0  \n75%                     0.0                      0.0  \nmax                     0.0                      0.0  ",
      "text/html": "<div>\n<style scoped>\n    .dataframe tbody tr th:only-of-type {\n        vertical-align: middle;\n    }\n\n    .dataframe tbody tr th {\n        vertical-align: top;\n    }\n\n    .dataframe thead th {\n        text-align: right;\n    }\n</style>\n<table border=\"1\" class=\"dataframe\">\n  <thead>\n    <tr style=\"text-align: right;\">\n      <th></th>\n      <th>Length Of Residence</th>\n      <th>Number of Roadside calss for Year 1</th>\n      <th>Number of Roadside calss for Year 2</th>\n      <th>Number of Roadside calss for Year 3</th>\n      <th>Roadside Member Cost for Year 1</th>\n      <th>Roadside Member Cost for Year 2</th>\n      <th>Roadside Member Cost for Year 3</th>\n      <th>Member Tenure Years</th>\n      <th>Years to Cancelled Status</th>\n      <th>Basic Cost</th>\n      <th>Calculated Tow Miles</th>\n      <th>Plus Cost</th>\n      <th>Premier Cost</th>\n      <th>Total Cost</th>\n      <th>Total Number of Roadside Calls</th>\n      <th>Total Roadside Member Cost</th>\n      <th>Email Available</th>\n      <th>Age</th>\n      <th>Years from most recent Membership Expiration</th>\n      <th>Years from Join Date</th>\n      <th>Purchased Product 1</th>\n      <th>Purchased Product 2</th>\n      <th>Purchased Product 3</th>\n      <th>Purchased Product 4</th>\n      <th>Purchased Product 5</th>\n      <th>Purchased Product 6</th>\n      <th>Purchased Product 7</th>\n      <th>Purchased Product 8</th>\n      <th>Mail Responder</th>\n      <th>Home Owner</th>\n      <th>Opt-Out - Publication</th>\n      <th>Cash Call</th>\n      <th>Fleet Indicator</th>\n      <th>Total Number of Purchased Products</th>\n      <th>Household Purchased Product</th>\n      <th>Email Correspondent</th>\n      <th>Home Renter</th>\n      <th>No Home Ownership Info</th>\n      <th>Number of Children</th>\n      <th>Annual Income</th>\n      <th>Annual Credit Possible</th>\n      <th>Motorcycle Indicator</th>\n      <th>Number of Members per Household Key</th>\n      <th>Frequency of use of Roadside Services</th>\n      <th>Household have used the Roadside Services</th>\n      <th>Household Group Label</th>\n      <th>Household Purchase Product Probability</th>\n      <th>Household Roadside Usage Probability</th>\n      <th>Membership Type_Basic</th>\n      <th>Membership Type_Plus</th>\n      <th>Membership Type_Premier</th>\n    </tr>\n  </thead>\n  <tbody>\n    <tr>\n      <th>count</th>\n      <td>688.000000</td>\n      <td>688.000000</td>\n      <td>688.000000</td>\n      <td>688.000000</td>\n      <td>688.000000</td>\n      <td>688.000000</td>\n      <td>688.000000</td>\n      <td>688.000000</td>\n      <td>688.000000</td>\n      <td>688.000000</td>\n      <td>688.000000</td>\n      <td>688.000000</td>\n      <td>688.0</td>\n      <td>688.000000</td>\n      <td>688.000000</td>\n      <td>688.000000</td>\n      <td>688.000000</td>\n      <td>688.000000</td>\n      <td>688.000000</td>\n      <td>688.000000</td>\n      <td>688.000000</td>\n      <td>688.000000</td>\n      <td>688.000000</td>\n      <td>688.0</td>\n      <td>688.000000</td>\n      <td>688.000000</td>\n      <td>688.000000</td>\n      <td>688.000000</td>\n      <td>688.000000</td>\n      <td>688.000000</td>\n      <td>688.000000</td>\n      <td>688.0</td>\n      <td>688.0</td>\n      <td>688.000000</td>\n      <td>688.000000</td>\n      <td>688.000000</td>\n      <td>688.000000</td>\n      <td>688.000000</td>\n      <td>688.000000</td>\n      <td>688.000000</td>\n      <td>688.000000</td>\n      <td>688.0</td>\n      <td>688.000000</td>\n      <td>688.000000</td>\n      <td>688.000000</td>\n      <td>688.0</td>\n      <td>688.000000</td>\n      <td>688.000000</td>\n      <td>688.0</td>\n      <td>688.0</td>\n      <td>688.0</td>\n    </tr>\n    <tr>\n      <th>mean</th>\n      <td>113.507326</td>\n      <td>3.341570</td>\n      <td>5.997093</td>\n      <td>6.203488</td>\n      <td>763.795157</td>\n      <td>1542.411244</td>\n      <td>889.334452</td>\n      <td>359.877907</td>\n      <td>239.449128</td>\n      <td>938.131549</td>\n      <td>19.697467</td>\n      <td>26.640357</td>\n      <td>0.0</td>\n      <td>1075.087477</td>\n      <td>15.542151</td>\n      <td>3195.540853</td>\n      <td>0.699128</td>\n      <td>72.965116</td>\n      <td>2.293605</td>\n      <td>36.973837</td>\n      <td>0.024709</td>\n      <td>0.090116</td>\n      <td>0.004360</td>\n      <td>0.0</td>\n      <td>0.043605</td>\n      <td>0.002907</td>\n      <td>0.213663</td>\n      <td>0.114826</td>\n      <td>0.965116</td>\n      <td>0.927326</td>\n      <td>0.986919</td>\n      <td>1.0</td>\n      <td>1.0</td>\n      <td>0.494186</td>\n      <td>0.372093</td>\n      <td>0.998547</td>\n      <td>0.031977</td>\n      <td>0.040698</td>\n      <td>0.537791</td>\n      <td>88534.863372</td>\n      <td>728606.062500</td>\n      <td>0.0</td>\n      <td>4.877907</td>\n      <td>15.542151</td>\n      <td>0.716570</td>\n      <td>2.0</td>\n      <td>0.370278</td>\n      <td>0.713669</td>\n      <td>1.0</td>\n      <td>0.0</td>\n      <td>0.0</td>\n    </tr>\n    <tr>\n      <th>std</th>\n      <td>44.481560</td>\n      <td>6.975809</td>\n      <td>9.104919</td>\n      <td>9.443428</td>\n      <td>2185.087057</td>\n      <td>3289.155774</td>\n      <td>2275.049891</td>\n      <td>129.506058</td>\n      <td>138.992278</td>\n      <td>1246.201676</td>\n      <td>57.479330</td>\n      <td>183.977569</td>\n      <td>0.0</td>\n      <td>2369.605219</td>\n      <td>18.982976</td>\n      <td>5094.162507</td>\n      <td>0.458971</td>\n      <td>12.690996</td>\n      <td>2.883647</td>\n      <td>12.950669</td>\n      <td>0.155351</td>\n      <td>0.286557</td>\n      <td>0.065938</td>\n      <td>0.0</td>\n      <td>0.204362</td>\n      <td>0.053877</td>\n      <td>0.410190</td>\n      <td>0.319043</td>\n      <td>0.183619</td>\n      <td>0.259790</td>\n      <td>0.113706</td>\n      <td>0.0</td>\n      <td>0.0</td>\n      <td>0.747608</td>\n      <td>0.483715</td>\n      <td>0.038125</td>\n      <td>0.176066</td>\n      <td>0.197733</td>\n      <td>0.828019</td>\n      <td>56119.892217</td>\n      <td>75306.274335</td>\n      <td>0.0</td>\n      <td>3.972567</td>\n      <td>18.982976</td>\n      <td>0.450991</td>\n      <td>0.0</td>\n      <td>0.469550</td>\n      <td>0.356828</td>\n      <td>0.0</td>\n      <td>0.0</td>\n      <td>0.0</td>\n    </tr>\n    <tr>\n      <th>min</th>\n      <td>0.000000</td>\n      <td>0.000000</td>\n      <td>0.000000</td>\n      <td>0.000000</td>\n      <td>0.000000</td>\n      <td>0.000000</td>\n      <td>0.000000</td>\n      <td>10.000000</td>\n      <td>0.000000</td>\n      <td>0.000000</td>\n      <td>0.000000</td>\n      <td>0.000000</td>\n      <td>0.0</td>\n      <td>0.000000</td>\n      <td>0.000000</td>\n      <td>0.000000</td>\n      <td>0.000000</td>\n      <td>23.000000</td>\n      <td>0.000000</td>\n      <td>2.000000</td>\n      <td>0.000000</td>\n      <td>0.000000</td>\n      <td>0.000000</td>\n      <td>0.0</td>\n      <td>0.000000</td>\n      <td>0.000000</td>\n      <td>0.000000</td>\n      <td>0.000000</td>\n      <td>0.000000</td>\n      <td>0.000000</td>\n      <td>0.000000</td>\n      <td>1.0</td>\n      <td>1.0</td>\n      <td>0.000000</td>\n      <td>0.000000</td>\n      <td>0.000000</td>\n      <td>0.000000</td>\n      <td>0.000000</td>\n      <td>0.000000</td>\n      <td>9999.000000</td>\n      <td>499999.000000</td>\n      <td>0.0</td>\n      <td>1.000000</td>\n      <td>0.000000</td>\n      <td>0.000000</td>\n      <td>2.0</td>\n      <td>0.010777</td>\n      <td>0.185457</td>\n      <td>1.0</td>\n      <td>0.0</td>\n      <td>0.0</td>\n    </tr>\n    <tr>\n      <th>25%</th>\n      <td>90.000000</td>\n      <td>0.000000</td>\n      <td>0.000000</td>\n      <td>0.000000</td>\n      <td>0.000000</td>\n      <td>0.000000</td>\n      <td>0.000000</td>\n      <td>270.750000</td>\n      <td>144.500000</td>\n      <td>291.272727</td>\n      <td>0.000000</td>\n      <td>0.000000</td>\n      <td>0.0</td>\n      <td>300.000000</td>\n      <td>0.000000</td>\n      <td>0.000000</td>\n      <td>0.000000</td>\n      <td>68.000000</td>\n      <td>0.000000</td>\n      <td>28.000000</td>\n      <td>0.000000</td>\n      <td>0.000000</td>\n      <td>0.000000</td>\n      <td>0.0</td>\n      <td>0.000000</td>\n      <td>0.000000</td>\n      <td>0.000000</td>\n      <td>0.000000</td>\n      <td>1.000000</td>\n      <td>1.000000</td>\n      <td>1.000000</td>\n      <td>1.0</td>\n      <td>1.0</td>\n      <td>0.000000</td>\n      <td>0.000000</td>\n      <td>1.000000</td>\n      <td>0.000000</td>\n      <td>0.000000</td>\n      <td>0.000000</td>\n      <td>44500.000000</td>\n      <td>674500.000000</td>\n      <td>0.0</td>\n      <td>2.000000</td>\n      <td>0.000000</td>\n      <td>0.000000</td>\n      <td>2.0</td>\n      <td>0.010777</td>\n      <td>0.185457</td>\n      <td>1.0</td>\n      <td>0.0</td>\n      <td>0.0</td>\n    </tr>\n    <tr>\n      <th>50%</th>\n      <td>121.000000</td>\n      <td>0.000000</td>\n      <td>0.000000</td>\n      <td>0.000000</td>\n      <td>0.000000</td>\n      <td>0.000000</td>\n      <td>0.000000</td>\n      <td>368.000000</td>\n      <td>242.000000</td>\n      <td>481.000000</td>\n      <td>0.000000</td>\n      <td>0.000000</td>\n      <td>0.0</td>\n      <td>530.000000</td>\n      <td>10.000000</td>\n      <td>875.000000</td>\n      <td>1.000000</td>\n      <td>74.000000</td>\n      <td>1.000000</td>\n      <td>38.000000</td>\n      <td>0.000000</td>\n      <td>0.000000</td>\n      <td>0.000000</td>\n      <td>0.0</td>\n      <td>0.000000</td>\n      <td>0.000000</td>\n      <td>0.000000</td>\n      <td>0.000000</td>\n      <td>1.000000</td>\n      <td>1.000000</td>\n      <td>1.000000</td>\n      <td>1.0</td>\n      <td>1.0</td>\n      <td>0.000000</td>\n      <td>0.000000</td>\n      <td>1.000000</td>\n      <td>0.000000</td>\n      <td>0.000000</td>\n      <td>0.000000</td>\n      <td>74500.000000</td>\n      <td>774500.000000</td>\n      <td>0.0</td>\n      <td>4.000000</td>\n      <td>10.000000</td>\n      <td>1.000000</td>\n      <td>2.0</td>\n      <td>0.010777</td>\n      <td>0.974218</td>\n      <td>1.0</td>\n      <td>0.0</td>\n      <td>0.0</td>\n    </tr>\n    <tr>\n      <th>75%</th>\n      <td>150.000000</td>\n      <td>4.000000</td>\n      <td>10.000000</td>\n      <td>10.000000</td>\n      <td>240.113636</td>\n      <td>1177.000000</td>\n      <td>594.166667</td>\n      <td>470.000000</td>\n      <td>280.250000</td>\n      <td>1127.031250</td>\n      <td>20.000000</td>\n      <td>0.000000</td>\n      <td>0.0</td>\n      <td>1258.154762</td>\n      <td>21.250000</td>\n      <td>4413.750000</td>\n      <td>1.000000</td>\n      <td>80.000000</td>\n      <td>4.000000</td>\n      <td>48.000000</td>\n      <td>0.000000</td>\n      <td>0.000000</td>\n      <td>0.000000</td>\n      <td>0.0</td>\n      <td>0.000000</td>\n      <td>0.000000</td>\n      <td>0.000000</td>\n      <td>0.000000</td>\n      <td>1.000000</td>\n      <td>1.000000</td>\n      <td>1.000000</td>\n      <td>1.0</td>\n      <td>1.0</td>\n      <td>1.000000</td>\n      <td>1.000000</td>\n      <td>1.000000</td>\n      <td>0.000000</td>\n      <td>0.000000</td>\n      <td>1.000000</td>\n      <td>124500.000000</td>\n      <td>774500.000000</td>\n      <td>0.0</td>\n      <td>6.000000</td>\n      <td>21.250000</td>\n      <td>1.000000</td>\n      <td>2.0</td>\n      <td>0.994138</td>\n      <td>0.999949</td>\n      <td>1.0</td>\n      <td>0.0</td>\n      <td>0.0</td>\n    </tr>\n    <tr>\n      <th>max</th>\n      <td>335.000000</td>\n      <td>50.000000</td>\n      <td>54.000000</td>\n      <td>85.000000</td>\n      <td>22028.888889</td>\n      <td>21985.000000</td>\n      <td>23604.000000</td>\n      <td>680.000000</td>\n      <td>686.000000</td>\n      <td>5885.000000</td>\n      <td>1130.000000</td>\n      <td>4280.000000</td>\n      <td>0.0</td>\n      <td>52805.000000</td>\n      <td>133.000000</td>\n      <td>38569.000000</td>\n      <td>1.000000</td>\n      <td>100.000000</td>\n      <td>16.000000</td>\n      <td>69.000000</td>\n      <td>1.000000</td>\n      <td>1.000000</td>\n      <td>1.000000</td>\n      <td>0.0</td>\n      <td>1.000000</td>\n      <td>1.000000</td>\n      <td>1.000000</td>\n      <td>1.000000</td>\n      <td>1.000000</td>\n      <td>1.000000</td>\n      <td>1.000000</td>\n      <td>1.0</td>\n      <td>1.0</td>\n      <td>4.000000</td>\n      <td>1.000000</td>\n      <td>1.000000</td>\n      <td>1.000000</td>\n      <td>1.000000</td>\n      <td>5.000000</td>\n      <td>250000.000000</td>\n      <td>800000.000000</td>\n      <td>0.0</td>\n      <td>37.000000</td>\n      <td>133.000000</td>\n      <td>1.000000</td>\n      <td>2.0</td>\n      <td>1.000000</td>\n      <td>1.000000</td>\n      <td>1.0</td>\n      <td>0.0</td>\n      <td>0.0</td>\n    </tr>\n  </tbody>\n</table>\n</div>"
     },
     "metadata": {},
     "execution_count": 192
    }
   ],
   "source": [
    "class_2.describe()"
   ]
  },
  {
   "cell_type": "markdown",
   "metadata": {},
   "source": [
    "        12.3.3 - Correlation Matrix"
   ]
  },
  {
   "cell_type": "code",
   "execution_count": 193,
   "metadata": {},
   "outputs": [],
   "source": [
    "class2_desc = class_2.describe()\n",
    "\n",
    "value = class2_desc['Total Cost'].iloc[1]\n",
    "\n",
    "first = pd.Series(value, index=[0])\n",
    "\n",
    "first = first.to_frame()\n",
    "\n",
    "first.rename(columns={'0': 'Cluster 3'}, inplace=True)\n",
    "\n",
    "first['Houshold Average'] = [classes_frame['Total Cost'].values.mean()]\n",
    "\n",
    "first['Cluster 2'] = [class1_desc['Total Cost'].iloc[1]]\n",
    "\n",
    "first['Cluster 1'] = [class0_desc['Total Cost'].iloc[1]]\n",
    "\n",
    "first['Cluster 4'] = [class_3.describe()['Total Cost'].iloc[1]]\n",
    "\n",
    "first.reset_index(level=0, inplace=True)\n",
    "\n",
    "first.drop(columns='index', inplace=True)\n",
    "\n",
    "first.rename(columns={0: 'Cluster 3'}, inplace=True)\n",
    "\n",
    "first = first.T\n",
    "\n",
    "first.rename(columns={0: 'Average Total Cost'}, inplace=True)"
   ]
  },
  {
   "cell_type": "code",
   "execution_count": 194,
   "metadata": {},
   "outputs": [],
   "source": [
    "# plt.figure(figsize=(14,5))\n",
    "\n",
    "# sns.barplot(x=first.index, y=first.values.reshape(-1))\n",
    "# #plt.legend(title='Group')\n",
    "# #plt.xticks(rotation='45')\n",
    "# plt.xlabel('Variables', fontsize=12, weight='bold')\n",
    "# plt.ylabel('Average Total Cost', fontsize=12, weight='bold')\n",
    "# plt.title('Average Total Cost Associated to all Clusters and all Households', fontsize=15, weight='bold')\n",
    "# plt.savefig('class3_cost.png', dpi=200, bbox_inches='tight')\n",
    "# plt.show()"
   ]
  },
  {
   "cell_type": "code",
   "execution_count": 195,
   "metadata": {},
   "outputs": [],
   "source": [
    "class_2_corrmat = abs(class_2.corr())\n",
    "\n",
    "# plt.figure(figsize=(15,10))\n",
    "\n",
    "# sns.heatmap(class_2_corrmat, square=True, robust=True, cmap='afmhot'); # matrix correlation"
   ]
  },
  {
   "cell_type": "markdown",
   "metadata": {},
   "source": [
    "    12.4 - Class 3"
   ]
  },
  {
   "cell_type": "markdown",
   "metadata": {},
   "source": [
    "        12.4.1 - Glance"
   ]
  },
  {
   "cell_type": "code",
   "execution_count": 196,
   "metadata": {},
   "outputs": [
    {
     "output_type": "execute_result",
     "data": {
      "text/plain": "               Length Of Residence  Number of Roadside calss for Year 1  \\\nHousehold Key                                                             \n8750                     90.558333                                    8   \n33380                    50.000000                                    0   \n\n               Number of Roadside calss for Year 2  \\\nHousehold Key                                        \n8750                                             4   \n33380                                            0   \n\n               Number of Roadside calss for Year 3  \\\nHousehold Key                                        \n8750                                             7   \n33380                                            0   \n\n               Roadside Member Cost for Year 1  \\\nHousehold Key                                    \n8750                               4623.928571   \n33380                                 0.000000   \n\n               Roadside Member Cost for Year 2  \\\nHousehold Key                                    \n8750                               2522.142857   \n33380                                 0.000000   \n\n               Roadside Member Cost for Year 3  Member Tenure Years  \\\nHousehold Key                                                         \n8750                                    5472.0                  289   \n33380                                      0.0                  373   \n\n               Years to Cancelled Status   Basic Cost  Calculated Tow Miles  \\\nHousehold Key                                                                 \n8750                                 131  1250.357143             80.142857   \n33380                                260     0.000000              0.000000   \n\n                Plus Cost  Premier Cost   Total Cost  \\\nHousehold Key                                          \n8750           265.714286           0.0  1516.071429   \n33380            0.000000           0.0     0.000000   \n\n               Total Number of Roadside Calls  Total Roadside Member Cost  \\\nHousehold Key                                                               \n8750                                       19                12618.071429   \n33380                                       0                    0.000000   \n\n               Email Available  Age  \\\nHousehold Key                         \n8750                         1   74   \n33380                        0   90   \n\n               Years from most recent Membership Expiration  \\\nHousehold Key                                                 \n8750                                                      2   \n33380                                                    11   \n\n               Years from Join Date  Purchased Product 1  Purchased Product 2  \\\nHousehold Key                                                                   \n8750                             30                    0                    1   \n33380                            38                    0                    0   \n\n               Purchased Product 3  Purchased Product 4  Purchased Product 5  \\\nHousehold Key                                                                  \n8750                             0                    0                    0   \n33380                            0                    0                    0   \n\n               Purchased Product 6  Purchased Product 7  Purchased Product 8  \\\nHousehold Key                                                                  \n8750                             0                    0                    0   \n33380                            0                    1                    0   \n\n               Mail Responder  Home Owner  Opt-Out - Publication  Cash Call  \\\nHousehold Key                                                                 \n8750                        1           1                      1          0   \n33380                       1           1                      1          0   \n\n               Fleet Indicator  Total Number of Purchased Products  \\\nHousehold Key                                                        \n8750                         0                                   1   \n33380                        0                                   1   \n\n               Household Purchased Product  Email Correspondent  Home Renter  \\\nHousehold Key                                                                  \n8750                                     1                    1            0   \n33380                                    1                    1            0   \n\n               No Home Ownership Info           City  Number of Children  \\\nHousehold Key                                                              \n8750                                0   WEST WARWICK                   1   \n33380                               0  CENTRAL FALLS                   0   \n\n               Annual Income     Education  Annual Credit Possible  \\\nHousehold Key                                                        \n8750                 34500.0  Some College                624500.0   \n33380                54500.0  Some College                674500.0   \n\n              Member Status Renew Method  Motorcycle Indicator  \\\nHousehold Key                                                    \n8750                 ACTIVE   AUTO RENEW                     0   \n33380                ACTIVE       NOTICE                     0   \n\n              Membership Type AAA Service Necessity Due Problem 1  \\\nHousehold Key                                                       \n8750                    Basic                     Battery Service   \n33380                   Basic                             Lockout   \n\n                  AAA Club 1 Vehicle Manufacturer Name 1  \\\nHousehold Key                                              \n8750           AAA Northeast                      TOYOTA   \n33380          AAA Northeast                    INFINITI   \n\n              AAA Service Necessity Due Problem 2 Vehicle Manufacturer Name 2  \\\nHousehold Key                                                                   \n8750                                                                            \n33380                                                                           \n\n              AAA Club 2  Number of Members per Household Key  \\\nHousehold Key                                                   \n8750                                                       18   \n33380                                                       3   \n\n               Frequency of use of Roadside Services  \\\nHousehold Key                                          \n8750                                              19   \n33380                                              0   \n\n               Household have used the Roadside Services  \\\nHousehold Key                                              \n8750                                                   1   \n33380                                                  0   \n\n               Household Group Label  Household Purchase Product Probability  \\\nHousehold Key                                                                  \n8750                               3                                0.990008   \n33380                              3                                0.997030   \n\n               Household Roadside Usage Probability  Membership Type_Basic  \\\nHousehold Key                                                                \n8750                                       0.999183                    1.0   \n33380                                      0.185457                    1.0   \n\n               Membership Type_Plus  Membership Type_Premier  \nHousehold Key                                                 \n8750                            0.0                      0.0  \n33380                           0.0                      0.0  ",
      "text/html": "<div>\n<style scoped>\n    .dataframe tbody tr th:only-of-type {\n        vertical-align: middle;\n    }\n\n    .dataframe tbody tr th {\n        vertical-align: top;\n    }\n\n    .dataframe thead th {\n        text-align: right;\n    }\n</style>\n<table border=\"1\" class=\"dataframe\">\n  <thead>\n    <tr style=\"text-align: right;\">\n      <th></th>\n      <th>Length Of Residence</th>\n      <th>Number of Roadside calss for Year 1</th>\n      <th>Number of Roadside calss for Year 2</th>\n      <th>Number of Roadside calss for Year 3</th>\n      <th>Roadside Member Cost for Year 1</th>\n      <th>Roadside Member Cost for Year 2</th>\n      <th>Roadside Member Cost for Year 3</th>\n      <th>Member Tenure Years</th>\n      <th>Years to Cancelled Status</th>\n      <th>Basic Cost</th>\n      <th>Calculated Tow Miles</th>\n      <th>Plus Cost</th>\n      <th>Premier Cost</th>\n      <th>Total Cost</th>\n      <th>Total Number of Roadside Calls</th>\n      <th>Total Roadside Member Cost</th>\n      <th>Email Available</th>\n      <th>Age</th>\n      <th>Years from most recent Membership Expiration</th>\n      <th>Years from Join Date</th>\n      <th>Purchased Product 1</th>\n      <th>Purchased Product 2</th>\n      <th>Purchased Product 3</th>\n      <th>Purchased Product 4</th>\n      <th>Purchased Product 5</th>\n      <th>Purchased Product 6</th>\n      <th>Purchased Product 7</th>\n      <th>Purchased Product 8</th>\n      <th>Mail Responder</th>\n      <th>Home Owner</th>\n      <th>Opt-Out - Publication</th>\n      <th>Cash Call</th>\n      <th>Fleet Indicator</th>\n      <th>Total Number of Purchased Products</th>\n      <th>Household Purchased Product</th>\n      <th>Email Correspondent</th>\n      <th>Home Renter</th>\n      <th>No Home Ownership Info</th>\n      <th>City</th>\n      <th>Number of Children</th>\n      <th>Annual Income</th>\n      <th>Education</th>\n      <th>Annual Credit Possible</th>\n      <th>Member Status</th>\n      <th>Renew Method</th>\n      <th>Motorcycle Indicator</th>\n      <th>Membership Type</th>\n      <th>AAA Service Necessity Due Problem 1</th>\n      <th>AAA Club 1</th>\n      <th>Vehicle Manufacturer Name 1</th>\n      <th>AAA Service Necessity Due Problem 2</th>\n      <th>Vehicle Manufacturer Name 2</th>\n      <th>AAA Club 2</th>\n      <th>Number of Members per Household Key</th>\n      <th>Frequency of use of Roadside Services</th>\n      <th>Household have used the Roadside Services</th>\n      <th>Household Group Label</th>\n      <th>Household Purchase Product Probability</th>\n      <th>Household Roadside Usage Probability</th>\n      <th>Membership Type_Basic</th>\n      <th>Membership Type_Plus</th>\n      <th>Membership Type_Premier</th>\n    </tr>\n    <tr>\n      <th>Household Key</th>\n      <th></th>\n      <th></th>\n      <th></th>\n      <th></th>\n      <th></th>\n      <th></th>\n      <th></th>\n      <th></th>\n      <th></th>\n      <th></th>\n      <th></th>\n      <th></th>\n      <th></th>\n      <th></th>\n      <th></th>\n      <th></th>\n      <th></th>\n      <th></th>\n      <th></th>\n      <th></th>\n      <th></th>\n      <th></th>\n      <th></th>\n      <th></th>\n      <th></th>\n      <th></th>\n      <th></th>\n      <th></th>\n      <th></th>\n      <th></th>\n      <th></th>\n      <th></th>\n      <th></th>\n      <th></th>\n      <th></th>\n      <th></th>\n      <th></th>\n      <th></th>\n      <th></th>\n      <th></th>\n      <th></th>\n      <th></th>\n      <th></th>\n      <th></th>\n      <th></th>\n      <th></th>\n      <th></th>\n      <th></th>\n      <th></th>\n      <th></th>\n      <th></th>\n      <th></th>\n      <th></th>\n      <th></th>\n      <th></th>\n      <th></th>\n      <th></th>\n      <th></th>\n      <th></th>\n      <th></th>\n      <th></th>\n      <th></th>\n    </tr>\n  </thead>\n  <tbody>\n    <tr>\n      <th>8750</th>\n      <td>90.558333</td>\n      <td>8</td>\n      <td>4</td>\n      <td>7</td>\n      <td>4623.928571</td>\n      <td>2522.142857</td>\n      <td>5472.0</td>\n      <td>289</td>\n      <td>131</td>\n      <td>1250.357143</td>\n      <td>80.142857</td>\n      <td>265.714286</td>\n      <td>0.0</td>\n      <td>1516.071429</td>\n      <td>19</td>\n      <td>12618.071429</td>\n      <td>1</td>\n      <td>74</td>\n      <td>2</td>\n      <td>30</td>\n      <td>0</td>\n      <td>1</td>\n      <td>0</td>\n      <td>0</td>\n      <td>0</td>\n      <td>0</td>\n      <td>0</td>\n      <td>0</td>\n      <td>1</td>\n      <td>1</td>\n      <td>1</td>\n      <td>0</td>\n      <td>0</td>\n      <td>1</td>\n      <td>1</td>\n      <td>1</td>\n      <td>0</td>\n      <td>0</td>\n      <td>WEST WARWICK</td>\n      <td>1</td>\n      <td>34500.0</td>\n      <td>Some College</td>\n      <td>624500.0</td>\n      <td>ACTIVE</td>\n      <td>AUTO RENEW</td>\n      <td>0</td>\n      <td>Basic</td>\n      <td>Battery Service</td>\n      <td>AAA Northeast</td>\n      <td>TOYOTA</td>\n      <td></td>\n      <td></td>\n      <td></td>\n      <td>18</td>\n      <td>19</td>\n      <td>1</td>\n      <td>3</td>\n      <td>0.990008</td>\n      <td>0.999183</td>\n      <td>1.0</td>\n      <td>0.0</td>\n      <td>0.0</td>\n    </tr>\n    <tr>\n      <th>33380</th>\n      <td>50.000000</td>\n      <td>0</td>\n      <td>0</td>\n      <td>0</td>\n      <td>0.000000</td>\n      <td>0.000000</td>\n      <td>0.0</td>\n      <td>373</td>\n      <td>260</td>\n      <td>0.000000</td>\n      <td>0.000000</td>\n      <td>0.000000</td>\n      <td>0.0</td>\n      <td>0.000000</td>\n      <td>0</td>\n      <td>0.000000</td>\n      <td>0</td>\n      <td>90</td>\n      <td>11</td>\n      <td>38</td>\n      <td>0</td>\n      <td>0</td>\n      <td>0</td>\n      <td>0</td>\n      <td>0</td>\n      <td>0</td>\n      <td>1</td>\n      <td>0</td>\n      <td>1</td>\n      <td>1</td>\n      <td>1</td>\n      <td>0</td>\n      <td>0</td>\n      <td>1</td>\n      <td>1</td>\n      <td>1</td>\n      <td>0</td>\n      <td>0</td>\n      <td>CENTRAL FALLS</td>\n      <td>0</td>\n      <td>54500.0</td>\n      <td>Some College</td>\n      <td>674500.0</td>\n      <td>ACTIVE</td>\n      <td>NOTICE</td>\n      <td>0</td>\n      <td>Basic</td>\n      <td>Lockout</td>\n      <td>AAA Northeast</td>\n      <td>INFINITI</td>\n      <td></td>\n      <td></td>\n      <td></td>\n      <td>3</td>\n      <td>0</td>\n      <td>0</td>\n      <td>3</td>\n      <td>0.997030</td>\n      <td>0.185457</td>\n      <td>1.0</td>\n      <td>0.0</td>\n      <td>0.0</td>\n    </tr>\n  </tbody>\n</table>\n</div>"
     },
     "metadata": {},
     "execution_count": 196
    }
   ],
   "source": [
    "class_3.head(n=2)"
   ]
  },
  {
   "cell_type": "markdown",
   "metadata": {},
   "source": [
    "        12.4.2 - Describe"
   ]
  },
  {
   "cell_type": "code",
   "execution_count": 197,
   "metadata": {},
   "outputs": [
    {
     "output_type": "execute_result",
     "data": {
      "text/plain": "       Length Of Residence  Number of Roadside calss for Year 1  \\\ncount          1029.000000                          1029.000000   \nmean            115.644522                             2.810496   \nstd              44.884149                             6.324713   \nmin               0.000000                             0.000000   \n25%              95.000000                             0.000000   \n50%             120.000000                             0.000000   \n75%             150.000000                             3.000000   \nmax             430.000000                            50.000000   \n\n       Number of Roadside calss for Year 2  \\\ncount                          1029.000000   \nmean                              5.812439   \nstd                               9.081602   \nmin                               0.000000   \n25%                               0.000000   \n50%                               0.000000   \n75%                              10.000000   \nmax                              50.000000   \n\n       Number of Roadside calss for Year 3  Roadside Member Cost for Year 1  \\\ncount                          1029.000000                      1029.000000   \nmean                              6.135083                       790.635860   \nstd                               9.111620                      3028.008985   \nmin                               0.000000                         0.000000   \n25%                               0.000000                         0.000000   \n50%                               0.000000                         0.000000   \n75%                              10.000000                       120.000000   \nmax                              60.000000                     52275.000000   \n\n       Roadside Member Cost for Year 2  Roadside Member Cost for Year 3  \\\ncount                      1029.000000                      1029.000000   \nmean                       1540.075986                       972.915303   \nstd                        3968.813104                      2714.766129   \nmin                           0.000000                         0.000000   \n25%                           0.000000                         0.000000   \n50%                           0.000000                         0.000000   \n75%                        1060.000000                       530.000000   \nmax                       56996.000000                     40256.666667   \n\n       Member Tenure Years  Years to Cancelled Status   Basic Cost  \\\ncount          1029.000000                1029.000000  1029.000000   \nmean            362.094266                 242.940719   909.461428   \nstd             133.953212                 129.326922  1259.175630   \nmin              10.000000                   0.000000     0.000000   \n25%             270.000000                 166.000000   290.000000   \n50%             375.000000                 242.000000   456.666667   \n75%             470.000000                 282.000000   925.000000   \nmax             740.000000                 759.000000  5885.000000   \n\n       Calculated Tow Miles    Plus Cost  Premier Cost   Total Cost  \\\ncount           1029.000000  1029.000000        1029.0  1029.000000   \nmean              16.706126    24.035438           0.0   967.107867   \nstd               39.766510    92.991974           0.0  1324.353456   \nmin                0.000000     0.000000           0.0     0.000000   \n25%                0.000000     0.000000           0.0   300.000000   \n50%                0.000000     0.000000           0.0   503.333333   \n75%               16.000000     0.000000           0.0  1041.500000   \nmax              399.333333  1020.000000           0.0  7830.000000   \n\n       Total Number of Roadside Calls  Total Roadside Member Cost  \\\ncount                     1029.000000                 1029.000000   \nmean                        14.758017                 3303.627148   \nstd                         17.456526                 6341.200301   \nmin                          0.000000                    0.000000   \n25%                          0.000000                    0.000000   \n50%                         10.000000                  655.000000   \n75%                         20.000000                 3923.333333   \nmax                        110.000000                62520.000000   \n\n       Email Available          Age  \\\ncount      1029.000000  1029.000000   \nmean          0.715258    73.894072   \nstd           0.451511    11.824818   \nmin           0.000000    26.000000   \n25%           0.000000    70.000000   \n50%           1.000000    74.000000   \n75%           1.000000    80.000000   \nmax           1.000000   100.000000   \n\n       Years from most recent Membership Expiration  Years from Join Date  \\\ncount                                   1029.000000           1029.000000   \nmean                                       2.284742             37.201166   \nstd                                        2.815944             13.404053   \nmin                                        0.000000              2.000000   \n25%                                        0.000000             28.000000   \n50%                                        1.000000             38.000000   \n75%                                        4.000000             48.000000   \nmax                                       13.000000             75.000000   \n\n       Purchased Product 1  Purchased Product 2  Purchased Product 3  \\\ncount          1029.000000          1029.000000          1029.000000   \nmean              0.112731             0.223518             0.011662   \nstd               0.316417             0.416805             0.107411   \nmin               0.000000             0.000000             0.000000   \n25%               0.000000             0.000000             0.000000   \n50%               0.000000             0.000000             0.000000   \n75%               0.000000             0.000000             0.000000   \nmax               1.000000             1.000000             1.000000   \n\n       Purchased Product 4  Purchased Product 5  Purchased Product 6  \\\ncount          1029.000000          1029.000000          1029.000000   \nmean              0.000972             0.087464             0.002915   \nstd               0.031174             0.282651             0.053942   \nmin               0.000000             0.000000             0.000000   \n25%               0.000000             0.000000             0.000000   \n50%               0.000000             0.000000             0.000000   \n75%               0.000000             0.000000             0.000000   \nmax               1.000000             1.000000             1.000000   \n\n       Purchased Product 7  Purchased Product 8  Mail Responder   Home Owner  \\\ncount          1029.000000          1029.000000     1029.000000  1029.000000   \nmean              0.551020             0.316812        0.978620     0.952381   \nstd               0.497632             0.465460        0.144718     0.213062   \nmin               0.000000             0.000000        0.000000     0.000000   \n25%               0.000000             0.000000        1.000000     1.000000   \n50%               1.000000             0.000000        1.000000     1.000000   \n75%               1.000000             1.000000        1.000000     1.000000   \nmax               1.000000             1.000000        1.000000     1.000000   \n\n       Opt-Out - Publication    Cash Call  Fleet Indicator  \\\ncount            1029.000000  1029.000000      1029.000000   \nmean                0.996113     0.001944         0.672498   \nstd                 0.062257     0.044065         0.469530   \nmin                 0.000000     0.000000         0.000000   \n25%                 1.000000     0.000000         0.000000   \n50%                 1.000000     0.000000         1.000000   \n75%                 1.000000     0.000000         1.000000   \nmax                 1.000000     1.000000         1.000000   \n\n       Total Number of Purchased Products  Household Purchased Product  \\\ncount                         1029.000000                       1029.0   \nmean                             1.307094                          1.0   \nstd                              0.565684                          0.0   \nmin                              1.000000                          1.0   \n25%                              1.000000                          1.0   \n50%                              1.000000                          1.0   \n75%                              2.000000                          1.0   \nmax                              4.000000                          1.0   \n\n       Email Correspondent  Home Renter  No Home Ownership Info  \\\ncount               1029.0  1029.000000             1029.000000   \nmean                   1.0     0.039845                0.007775   \nstd                    0.0     0.195689                0.087873   \nmin                    1.0     0.000000                0.000000   \n25%                    1.0     0.000000                0.000000   \n50%                    1.0     0.000000                0.000000   \n75%                    1.0     0.000000                0.000000   \nmax                    1.0     1.000000                1.000000   \n\n       Number of Children  Annual Income  Annual Credit Possible  \\\ncount         1029.000000    1029.000000             1029.000000   \nmean             0.729835   92921.268222           727104.932945   \nstd              1.001407   55249.756690            68913.139244   \nmin              0.000000    9999.000000           499999.000000   \n25%              0.000000   54500.000000           674500.000000   \n50%              0.000000   94500.000000           724500.000000   \n75%              1.000000  124500.000000           774500.000000   \nmax              5.000000  250000.000000           800000.000000   \n\n       Motorcycle Indicator  Number of Members per Household Key  \\\ncount           1029.000000                          1029.000000   \nmean               0.188533                             4.761905   \nstd                0.391327                             9.865667   \nmin                0.000000                             1.000000   \n25%                0.000000                             2.000000   \n50%                0.000000                             4.000000   \n75%                0.000000                             6.000000   \nmax                1.000000                           300.000000   \n\n       Frequency of use of Roadside Services  \\\ncount                            1029.000000   \nmean                               14.758017   \nstd                                17.456526   \nmin                                 0.000000   \n25%                                 0.000000   \n50%                                10.000000   \n75%                                20.000000   \nmax                               110.000000   \n\n       Household have used the Roadside Services  Household Group Label  \\\ncount                                1029.000000                 1029.0   \nmean                                    0.709427                    3.0   \nstd                                     0.454248                    0.0   \nmin                                     0.000000                    3.0   \n25%                                     0.000000                    3.0   \n50%                                     1.000000                    3.0   \n75%                                     1.000000                    3.0   \nmax                                     1.000000                    3.0   \n\n       Household Purchase Product Probability  \\\ncount                             1029.000000   \nmean                                 0.982852   \nstd                                  0.062258   \nmin                                  0.688947   \n25%                                  0.994138   \n50%                                  0.997030   \n75%                                  0.999950   \nmax                                  1.000000   \n\n       Household Roadside Usage Probability  Membership Type_Basic  \\\ncount                           1029.000000            1029.000000   \nmean                               0.713426               0.531584   \nstd                                0.358682               0.499244   \nmin                                0.185457               0.000000   \n25%                                0.185457               0.000000   \n50%                                0.974218               1.000000   \n75%                                0.999919               1.000000   \nmax                                1.000000               1.000000   \n\n       Membership Type_Plus  Membership Type_Premier  \ncount           1029.000000              1029.000000  \nmean               0.432459                 0.035957  \nstd                0.495658                 0.186274  \nmin                0.000000                 0.000000  \n25%                0.000000                 0.000000  \n50%                0.000000                 0.000000  \n75%                1.000000                 0.000000  \nmax                1.000000                 1.000000  ",
      "text/html": "<div>\n<style scoped>\n    .dataframe tbody tr th:only-of-type {\n        vertical-align: middle;\n    }\n\n    .dataframe tbody tr th {\n        vertical-align: top;\n    }\n\n    .dataframe thead th {\n        text-align: right;\n    }\n</style>\n<table border=\"1\" class=\"dataframe\">\n  <thead>\n    <tr style=\"text-align: right;\">\n      <th></th>\n      <th>Length Of Residence</th>\n      <th>Number of Roadside calss for Year 1</th>\n      <th>Number of Roadside calss for Year 2</th>\n      <th>Number of Roadside calss for Year 3</th>\n      <th>Roadside Member Cost for Year 1</th>\n      <th>Roadside Member Cost for Year 2</th>\n      <th>Roadside Member Cost for Year 3</th>\n      <th>Member Tenure Years</th>\n      <th>Years to Cancelled Status</th>\n      <th>Basic Cost</th>\n      <th>Calculated Tow Miles</th>\n      <th>Plus Cost</th>\n      <th>Premier Cost</th>\n      <th>Total Cost</th>\n      <th>Total Number of Roadside Calls</th>\n      <th>Total Roadside Member Cost</th>\n      <th>Email Available</th>\n      <th>Age</th>\n      <th>Years from most recent Membership Expiration</th>\n      <th>Years from Join Date</th>\n      <th>Purchased Product 1</th>\n      <th>Purchased Product 2</th>\n      <th>Purchased Product 3</th>\n      <th>Purchased Product 4</th>\n      <th>Purchased Product 5</th>\n      <th>Purchased Product 6</th>\n      <th>Purchased Product 7</th>\n      <th>Purchased Product 8</th>\n      <th>Mail Responder</th>\n      <th>Home Owner</th>\n      <th>Opt-Out - Publication</th>\n      <th>Cash Call</th>\n      <th>Fleet Indicator</th>\n      <th>Total Number of Purchased Products</th>\n      <th>Household Purchased Product</th>\n      <th>Email Correspondent</th>\n      <th>Home Renter</th>\n      <th>No Home Ownership Info</th>\n      <th>Number of Children</th>\n      <th>Annual Income</th>\n      <th>Annual Credit Possible</th>\n      <th>Motorcycle Indicator</th>\n      <th>Number of Members per Household Key</th>\n      <th>Frequency of use of Roadside Services</th>\n      <th>Household have used the Roadside Services</th>\n      <th>Household Group Label</th>\n      <th>Household Purchase Product Probability</th>\n      <th>Household Roadside Usage Probability</th>\n      <th>Membership Type_Basic</th>\n      <th>Membership Type_Plus</th>\n      <th>Membership Type_Premier</th>\n    </tr>\n  </thead>\n  <tbody>\n    <tr>\n      <th>count</th>\n      <td>1029.000000</td>\n      <td>1029.000000</td>\n      <td>1029.000000</td>\n      <td>1029.000000</td>\n      <td>1029.000000</td>\n      <td>1029.000000</td>\n      <td>1029.000000</td>\n      <td>1029.000000</td>\n      <td>1029.000000</td>\n      <td>1029.000000</td>\n      <td>1029.000000</td>\n      <td>1029.000000</td>\n      <td>1029.0</td>\n      <td>1029.000000</td>\n      <td>1029.000000</td>\n      <td>1029.000000</td>\n      <td>1029.000000</td>\n      <td>1029.000000</td>\n      <td>1029.000000</td>\n      <td>1029.000000</td>\n      <td>1029.000000</td>\n      <td>1029.000000</td>\n      <td>1029.000000</td>\n      <td>1029.000000</td>\n      <td>1029.000000</td>\n      <td>1029.000000</td>\n      <td>1029.000000</td>\n      <td>1029.000000</td>\n      <td>1029.000000</td>\n      <td>1029.000000</td>\n      <td>1029.000000</td>\n      <td>1029.000000</td>\n      <td>1029.000000</td>\n      <td>1029.000000</td>\n      <td>1029.0</td>\n      <td>1029.0</td>\n      <td>1029.000000</td>\n      <td>1029.000000</td>\n      <td>1029.000000</td>\n      <td>1029.000000</td>\n      <td>1029.000000</td>\n      <td>1029.000000</td>\n      <td>1029.000000</td>\n      <td>1029.000000</td>\n      <td>1029.000000</td>\n      <td>1029.0</td>\n      <td>1029.000000</td>\n      <td>1029.000000</td>\n      <td>1029.000000</td>\n      <td>1029.000000</td>\n      <td>1029.000000</td>\n    </tr>\n    <tr>\n      <th>mean</th>\n      <td>115.644522</td>\n      <td>2.810496</td>\n      <td>5.812439</td>\n      <td>6.135083</td>\n      <td>790.635860</td>\n      <td>1540.075986</td>\n      <td>972.915303</td>\n      <td>362.094266</td>\n      <td>242.940719</td>\n      <td>909.461428</td>\n      <td>16.706126</td>\n      <td>24.035438</td>\n      <td>0.0</td>\n      <td>967.107867</td>\n      <td>14.758017</td>\n      <td>3303.627148</td>\n      <td>0.715258</td>\n      <td>73.894072</td>\n      <td>2.284742</td>\n      <td>37.201166</td>\n      <td>0.112731</td>\n      <td>0.223518</td>\n      <td>0.011662</td>\n      <td>0.000972</td>\n      <td>0.087464</td>\n      <td>0.002915</td>\n      <td>0.551020</td>\n      <td>0.316812</td>\n      <td>0.978620</td>\n      <td>0.952381</td>\n      <td>0.996113</td>\n      <td>0.001944</td>\n      <td>0.672498</td>\n      <td>1.307094</td>\n      <td>1.0</td>\n      <td>1.0</td>\n      <td>0.039845</td>\n      <td>0.007775</td>\n      <td>0.729835</td>\n      <td>92921.268222</td>\n      <td>727104.932945</td>\n      <td>0.188533</td>\n      <td>4.761905</td>\n      <td>14.758017</td>\n      <td>0.709427</td>\n      <td>3.0</td>\n      <td>0.982852</td>\n      <td>0.713426</td>\n      <td>0.531584</td>\n      <td>0.432459</td>\n      <td>0.035957</td>\n    </tr>\n    <tr>\n      <th>std</th>\n      <td>44.884149</td>\n      <td>6.324713</td>\n      <td>9.081602</td>\n      <td>9.111620</td>\n      <td>3028.008985</td>\n      <td>3968.813104</td>\n      <td>2714.766129</td>\n      <td>133.953212</td>\n      <td>129.326922</td>\n      <td>1259.175630</td>\n      <td>39.766510</td>\n      <td>92.991974</td>\n      <td>0.0</td>\n      <td>1324.353456</td>\n      <td>17.456526</td>\n      <td>6341.200301</td>\n      <td>0.451511</td>\n      <td>11.824818</td>\n      <td>2.815944</td>\n      <td>13.404053</td>\n      <td>0.316417</td>\n      <td>0.416805</td>\n      <td>0.107411</td>\n      <td>0.031174</td>\n      <td>0.282651</td>\n      <td>0.053942</td>\n      <td>0.497632</td>\n      <td>0.465460</td>\n      <td>0.144718</td>\n      <td>0.213062</td>\n      <td>0.062257</td>\n      <td>0.044065</td>\n      <td>0.469530</td>\n      <td>0.565684</td>\n      <td>0.0</td>\n      <td>0.0</td>\n      <td>0.195689</td>\n      <td>0.087873</td>\n      <td>1.001407</td>\n      <td>55249.756690</td>\n      <td>68913.139244</td>\n      <td>0.391327</td>\n      <td>9.865667</td>\n      <td>17.456526</td>\n      <td>0.454248</td>\n      <td>0.0</td>\n      <td>0.062258</td>\n      <td>0.358682</td>\n      <td>0.499244</td>\n      <td>0.495658</td>\n      <td>0.186274</td>\n    </tr>\n    <tr>\n      <th>min</th>\n      <td>0.000000</td>\n      <td>0.000000</td>\n      <td>0.000000</td>\n      <td>0.000000</td>\n      <td>0.000000</td>\n      <td>0.000000</td>\n      <td>0.000000</td>\n      <td>10.000000</td>\n      <td>0.000000</td>\n      <td>0.000000</td>\n      <td>0.000000</td>\n      <td>0.000000</td>\n      <td>0.0</td>\n      <td>0.000000</td>\n      <td>0.000000</td>\n      <td>0.000000</td>\n      <td>0.000000</td>\n      <td>26.000000</td>\n      <td>0.000000</td>\n      <td>2.000000</td>\n      <td>0.000000</td>\n      <td>0.000000</td>\n      <td>0.000000</td>\n      <td>0.000000</td>\n      <td>0.000000</td>\n      <td>0.000000</td>\n      <td>0.000000</td>\n      <td>0.000000</td>\n      <td>0.000000</td>\n      <td>0.000000</td>\n      <td>0.000000</td>\n      <td>0.000000</td>\n      <td>0.000000</td>\n      <td>1.000000</td>\n      <td>1.0</td>\n      <td>1.0</td>\n      <td>0.000000</td>\n      <td>0.000000</td>\n      <td>0.000000</td>\n      <td>9999.000000</td>\n      <td>499999.000000</td>\n      <td>0.000000</td>\n      <td>1.000000</td>\n      <td>0.000000</td>\n      <td>0.000000</td>\n      <td>3.0</td>\n      <td>0.688947</td>\n      <td>0.185457</td>\n      <td>0.000000</td>\n      <td>0.000000</td>\n      <td>0.000000</td>\n    </tr>\n    <tr>\n      <th>25%</th>\n      <td>95.000000</td>\n      <td>0.000000</td>\n      <td>0.000000</td>\n      <td>0.000000</td>\n      <td>0.000000</td>\n      <td>0.000000</td>\n      <td>0.000000</td>\n      <td>270.000000</td>\n      <td>166.000000</td>\n      <td>290.000000</td>\n      <td>0.000000</td>\n      <td>0.000000</td>\n      <td>0.0</td>\n      <td>300.000000</td>\n      <td>0.000000</td>\n      <td>0.000000</td>\n      <td>0.000000</td>\n      <td>70.000000</td>\n      <td>0.000000</td>\n      <td>28.000000</td>\n      <td>0.000000</td>\n      <td>0.000000</td>\n      <td>0.000000</td>\n      <td>0.000000</td>\n      <td>0.000000</td>\n      <td>0.000000</td>\n      <td>0.000000</td>\n      <td>0.000000</td>\n      <td>1.000000</td>\n      <td>1.000000</td>\n      <td>1.000000</td>\n      <td>0.000000</td>\n      <td>0.000000</td>\n      <td>1.000000</td>\n      <td>1.0</td>\n      <td>1.0</td>\n      <td>0.000000</td>\n      <td>0.000000</td>\n      <td>0.000000</td>\n      <td>54500.000000</td>\n      <td>674500.000000</td>\n      <td>0.000000</td>\n      <td>2.000000</td>\n      <td>0.000000</td>\n      <td>0.000000</td>\n      <td>3.0</td>\n      <td>0.994138</td>\n      <td>0.185457</td>\n      <td>0.000000</td>\n      <td>0.000000</td>\n      <td>0.000000</td>\n    </tr>\n    <tr>\n      <th>50%</th>\n      <td>120.000000</td>\n      <td>0.000000</td>\n      <td>0.000000</td>\n      <td>0.000000</td>\n      <td>0.000000</td>\n      <td>0.000000</td>\n      <td>0.000000</td>\n      <td>375.000000</td>\n      <td>242.000000</td>\n      <td>456.666667</td>\n      <td>0.000000</td>\n      <td>0.000000</td>\n      <td>0.0</td>\n      <td>503.333333</td>\n      <td>10.000000</td>\n      <td>655.000000</td>\n      <td>1.000000</td>\n      <td>74.000000</td>\n      <td>1.000000</td>\n      <td>38.000000</td>\n      <td>0.000000</td>\n      <td>0.000000</td>\n      <td>0.000000</td>\n      <td>0.000000</td>\n      <td>0.000000</td>\n      <td>0.000000</td>\n      <td>1.000000</td>\n      <td>0.000000</td>\n      <td>1.000000</td>\n      <td>1.000000</td>\n      <td>1.000000</td>\n      <td>0.000000</td>\n      <td>1.000000</td>\n      <td>1.000000</td>\n      <td>1.0</td>\n      <td>1.0</td>\n      <td>0.000000</td>\n      <td>0.000000</td>\n      <td>0.000000</td>\n      <td>94500.000000</td>\n      <td>724500.000000</td>\n      <td>0.000000</td>\n      <td>4.000000</td>\n      <td>10.000000</td>\n      <td>1.000000</td>\n      <td>3.0</td>\n      <td>0.997030</td>\n      <td>0.974218</td>\n      <td>1.000000</td>\n      <td>0.000000</td>\n      <td>0.000000</td>\n    </tr>\n    <tr>\n      <th>75%</th>\n      <td>150.000000</td>\n      <td>3.000000</td>\n      <td>10.000000</td>\n      <td>10.000000</td>\n      <td>120.000000</td>\n      <td>1060.000000</td>\n      <td>530.000000</td>\n      <td>470.000000</td>\n      <td>282.000000</td>\n      <td>925.000000</td>\n      <td>16.000000</td>\n      <td>0.000000</td>\n      <td>0.0</td>\n      <td>1041.500000</td>\n      <td>20.000000</td>\n      <td>3923.333333</td>\n      <td>1.000000</td>\n      <td>80.000000</td>\n      <td>4.000000</td>\n      <td>48.000000</td>\n      <td>0.000000</td>\n      <td>0.000000</td>\n      <td>0.000000</td>\n      <td>0.000000</td>\n      <td>0.000000</td>\n      <td>0.000000</td>\n      <td>1.000000</td>\n      <td>1.000000</td>\n      <td>1.000000</td>\n      <td>1.000000</td>\n      <td>1.000000</td>\n      <td>0.000000</td>\n      <td>1.000000</td>\n      <td>2.000000</td>\n      <td>1.0</td>\n      <td>1.0</td>\n      <td>0.000000</td>\n      <td>0.000000</td>\n      <td>1.000000</td>\n      <td>124500.000000</td>\n      <td>774500.000000</td>\n      <td>0.000000</td>\n      <td>6.000000</td>\n      <td>20.000000</td>\n      <td>1.000000</td>\n      <td>3.0</td>\n      <td>0.999950</td>\n      <td>0.999919</td>\n      <td>1.000000</td>\n      <td>1.000000</td>\n      <td>0.000000</td>\n    </tr>\n    <tr>\n      <th>max</th>\n      <td>430.000000</td>\n      <td>50.000000</td>\n      <td>50.000000</td>\n      <td>60.000000</td>\n      <td>52275.000000</td>\n      <td>56996.000000</td>\n      <td>40256.666667</td>\n      <td>740.000000</td>\n      <td>759.000000</td>\n      <td>5885.000000</td>\n      <td>399.333333</td>\n      <td>1020.000000</td>\n      <td>0.0</td>\n      <td>7830.000000</td>\n      <td>110.000000</td>\n      <td>62520.000000</td>\n      <td>1.000000</td>\n      <td>100.000000</td>\n      <td>13.000000</td>\n      <td>75.000000</td>\n      <td>1.000000</td>\n      <td>1.000000</td>\n      <td>1.000000</td>\n      <td>1.000000</td>\n      <td>1.000000</td>\n      <td>1.000000</td>\n      <td>1.000000</td>\n      <td>1.000000</td>\n      <td>1.000000</td>\n      <td>1.000000</td>\n      <td>1.000000</td>\n      <td>1.000000</td>\n      <td>1.000000</td>\n      <td>4.000000</td>\n      <td>1.0</td>\n      <td>1.0</td>\n      <td>1.000000</td>\n      <td>1.000000</td>\n      <td>5.000000</td>\n      <td>250000.000000</td>\n      <td>800000.000000</td>\n      <td>1.000000</td>\n      <td>300.000000</td>\n      <td>110.000000</td>\n      <td>1.000000</td>\n      <td>3.0</td>\n      <td>1.000000</td>\n      <td>1.000000</td>\n      <td>1.000000</td>\n      <td>1.000000</td>\n      <td>1.000000</td>\n    </tr>\n  </tbody>\n</table>\n</div>"
     },
     "metadata": {},
     "execution_count": 197
    }
   ],
   "source": [
    "class_3.describe()"
   ]
  },
  {
   "cell_type": "markdown",
   "metadata": {},
   "source": [
    "        12.4.3 - Correlation Matrix"
   ]
  },
  {
   "cell_type": "code",
   "execution_count": 198,
   "metadata": {},
   "outputs": [
    {
     "output_type": "execute_result",
     "data": {
      "text/plain": "0.47741147741147744"
     },
     "metadata": {},
     "execution_count": 198
    }
   ],
   "source": [
    "classes_frame['Total Number of Purchased Products'].values.mean()"
   ]
  },
  {
   "cell_type": "code",
   "execution_count": 199,
   "metadata": {},
   "outputs": [],
   "source": [
    "class3_desc = class_3.describe()\n",
    "\n",
    "value = class3_desc['Total Number of Purchased Products'].iloc[1]\n",
    "\n",
    "first = pd.Series(value, index=[0])\n",
    "\n",
    "first = first.to_frame()\n",
    "\n",
    "first.rename(columns={'0': 'Cluster 4'}, inplace=True)\n",
    "\n",
    "first['Houshold Average'] = [classes_frame['Total Number of Purchased Products'].values.mean()]\n",
    "\n",
    "first['Cluster 2'] = [class1_desc['Total Number of Purchased Products'].iloc[1]]\n",
    "\n",
    "first['Cluster 1'] = [class0_desc['Total Number of Purchased Products'].iloc[1]]\n",
    "\n",
    "first['Cluster 3'] = [class2_desc['Total Number of Purchased Products'].iloc[1]]\n",
    "\n",
    "first.reset_index(level=0, inplace=True)\n",
    "\n",
    "first.drop(columns='index', inplace=True)\n",
    "\n",
    "first.rename(columns={0: 'Cluster 4'}, inplace=True)\n",
    "\n",
    "first = first.T\n",
    "\n",
    "first.rename(columns={0: 'Average Total Number of Purchased Products'}, inplace=True)"
   ]
  },
  {
   "cell_type": "code",
   "execution_count": 200,
   "metadata": {},
   "outputs": [],
   "source": [
    "# plt.figure(figsize=(14,5))\n",
    "\n",
    "# sns.barplot(x=first.index, y=first.values.reshape(-1))\n",
    "# #plt.legend(title='Group')\n",
    "# #plt.xticks(rotation='45')\n",
    "# plt.xlabel('Variables', fontsize=12, weight='bold')\n",
    "# plt.ylabel('Average Total Number of Purchased Products', fontsize=12, weight='bold')\n",
    "# plt.title('Average Total Number of Purchased Products per Cluster and all Households', fontsize=15, weight='bold')\n",
    "# plt.savefig('class3_cost.png', dpi=200, bbox_inches='tight')\n",
    "# plt.show()"
   ]
  },
  {
   "cell_type": "code",
   "execution_count": 201,
   "metadata": {},
   "outputs": [],
   "source": [
    "class_3_corrmat = abs(class_3.corr())\n",
    "\n",
    "# plt.figure(figsize=(15,10))\n",
    "\n",
    "# sns.heatmap(class_3_corrmat, square=True, robust=True, cmap='afmhot'); # matrix correlation"
   ]
  }
 ],
 "metadata": {
  "kernelspec": {
   "display_name": "Python 3.7.6 64-bit ('capstone_project': conda)",
   "language": "python",
   "name": "python37664bitcapstoneprojectcondad07c177c475741d8a46606514fa38a7a"
  },
  "language_info": {
   "codemirror_mode": {
    "name": "ipython",
    "version": 3
   },
   "file_extension": ".py",
   "mimetype": "text/x-python",
   "name": "python",
   "nbconvert_exporter": "python",
   "pygments_lexer": "ipython3",
   "version": "3.7.6-final"
  }
 },
 "nbformat": 4,
 "nbformat_minor": 2
}