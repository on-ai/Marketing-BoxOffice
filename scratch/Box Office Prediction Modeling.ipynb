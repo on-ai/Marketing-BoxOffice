{
 "cells": [
  {
   "cell_type": "markdown",
   "metadata": {},
   "source": [
    "### Box Office Prediction Models"
   ]
  },
  {
   "cell_type": "code",
   "execution_count": 1,
   "metadata": {},
   "outputs": [],
   "source": [
    "# Importing the libraries\n",
    "import numpy as np\n",
    "import matplotlib.pyplot as plt\n",
    "import pandas as pd\n",
    "pd.set_option('display.max_columns', 70)\n",
    "import seaborn as sns\n",
    "sns.set() \n",
    "\n",
    "import warnings\n",
    "warnings.filterwarnings('ignore')\n",
    "\n",
    "from pandas.plotting import scatter_matrix\n",
    "from sklearn.preprocessing import StandardScaler\n",
    "#from sklearn import cross_validation\n",
    "from sklearn.model_selection import train_test_split\n",
    "from sklearn.model_selection import cross_val_score\n",
    "from sklearn.metrics import classification_report\n",
    "from sklearn.metrics import confusion_matrix\n",
    "from sklearn.metrics import accuracy_score\n",
    "from sklearn.model_selection import GridSearchCV\n",
    "from sklearn.linear_model import LogisticRegression\n",
    "from sklearn.tree import DecisionTreeClassifier\n",
    "from sklearn.neighbors import KNeighborsClassifier\n",
    "from sklearn.naive_bayes import GaussianNB\n",
    "from sklearn.svm import SVC\n",
    "from sklearn.ensemble import GradientBoostingClassifier\n",
    "from sklearn.ensemble import RandomForestClassifier"
   ]
  },
  {
   "cell_type": "code",
   "execution_count": 2,
   "metadata": {},
   "outputs": [],
   "source": [
    "clean_film = pd.read_csv(\"box_office_predictions_v2.csv\")"
   ]
  },
  {
   "cell_type": "code",
   "execution_count": 3,
   "metadata": {},
   "outputs": [
    {
     "data": {
      "text/html": [
       "<div>\n",
       "<style scoped>\n",
       "    .dataframe tbody tr th:only-of-type {\n",
       "        vertical-align: middle;\n",
       "    }\n",
       "\n",
       "    .dataframe tbody tr th {\n",
       "        vertical-align: top;\n",
       "    }\n",
       "\n",
       "    .dataframe thead th {\n",
       "        text-align: right;\n",
       "    }\n",
       "</style>\n",
       "<table border=\"1\" class=\"dataframe\">\n",
       "  <thead>\n",
       "    <tr style=\"text-align: right;\">\n",
       "      <th></th>\n",
       "      <th>Unnamed: 0</th>\n",
       "      <th>budget</th>\n",
       "      <th>gross</th>\n",
       "      <th>runtime</th>\n",
       "      <th>score</th>\n",
       "      <th>votes</th>\n",
       "      <th>country_USA</th>\n",
       "      <th>genre_Comedy</th>\n",
       "      <th>star_ranking_famous</th>\n",
       "      <th>studio_ranking_least_known</th>\n",
       "      <th>roi</th>\n",
       "    </tr>\n",
       "  </thead>\n",
       "  <tbody>\n",
       "    <tr>\n",
       "      <th>0</th>\n",
       "      <td>0</td>\n",
       "      <td>237000000</td>\n",
       "      <td>760507625</td>\n",
       "      <td>162</td>\n",
       "      <td>7.8</td>\n",
       "      <td>958400</td>\n",
       "      <td>0</td>\n",
       "      <td>0</td>\n",
       "      <td>1</td>\n",
       "      <td>0</td>\n",
       "      <td>1</td>\n",
       "    </tr>\n",
       "    <tr>\n",
       "      <th>1</th>\n",
       "      <td>1</td>\n",
       "      <td>8500000</td>\n",
       "      <td>28563926</td>\n",
       "      <td>85</td>\n",
       "      <td>5.0</td>\n",
       "      <td>17155</td>\n",
       "      <td>1</td>\n",
       "      <td>0</td>\n",
       "      <td>1</td>\n",
       "      <td>1</td>\n",
       "      <td>1</td>\n",
       "    </tr>\n",
       "    <tr>\n",
       "      <th>2</th>\n",
       "      <td>2</td>\n",
       "      <td>11000000</td>\n",
       "      <td>28864707</td>\n",
       "      <td>91</td>\n",
       "      <td>4.8</td>\n",
       "      <td>10674</td>\n",
       "      <td>1</td>\n",
       "      <td>1</td>\n",
       "      <td>1</td>\n",
       "      <td>1</td>\n",
       "      <td>1</td>\n",
       "    </tr>\n",
       "    <tr>\n",
       "      <th>3</th>\n",
       "      <td>3</td>\n",
       "      <td>15000000</td>\n",
       "      <td>29106737</td>\n",
       "      <td>111</td>\n",
       "      <td>6.0</td>\n",
       "      <td>16576</td>\n",
       "      <td>1</td>\n",
       "      <td>1</td>\n",
       "      <td>1</td>\n",
       "      <td>1</td>\n",
       "      <td>1</td>\n",
       "    </tr>\n",
       "    <tr>\n",
       "      <th>4</th>\n",
       "      <td>4</td>\n",
       "      <td>15000000</td>\n",
       "      <td>17237244</td>\n",
       "      <td>122</td>\n",
       "      <td>6.8</td>\n",
       "      <td>62915</td>\n",
       "      <td>0</td>\n",
       "      <td>0</td>\n",
       "      <td>0</td>\n",
       "      <td>1</td>\n",
       "      <td>1</td>\n",
       "    </tr>\n",
       "  </tbody>\n",
       "</table>\n",
       "</div>"
      ],
      "text/plain": [
       "   Unnamed: 0     budget      gross  runtime  score   votes  country_USA  \\\n",
       "0           0  237000000  760507625      162    7.8  958400            0   \n",
       "1           1    8500000   28563926       85    5.0   17155            1   \n",
       "2           2   11000000   28864707       91    4.8   10674            1   \n",
       "3           3   15000000   29106737      111    6.0   16576            1   \n",
       "4           4   15000000   17237244      122    6.8   62915            0   \n",
       "\n",
       "   genre_Comedy  star_ranking_famous  studio_ranking_least_known  roi  \n",
       "0             0                    1                           0    1  \n",
       "1             0                    1                           1    1  \n",
       "2             1                    1                           1    1  \n",
       "3             1                    1                           1    1  \n",
       "4             0                    0                           1    1  "
      ]
     },
     "execution_count": 3,
     "metadata": {},
     "output_type": "execute_result"
    }
   ],
   "source": [
    "clean_film.head()"
   ]
  },
  {
   "cell_type": "code",
   "execution_count": 4,
   "metadata": {},
   "outputs": [],
   "source": [
    "clean_film = clean_film.drop('Unnamed: 0', axis = 1)"
   ]
  },
  {
   "cell_type": "code",
   "execution_count": 5,
   "metadata": {
    "scrolled": true
   },
   "outputs": [
    {
     "data": {
      "text/plain": [
       "(6000, 10)"
      ]
     },
     "execution_count": 5,
     "metadata": {},
     "output_type": "execute_result"
    }
   ],
   "source": [
    "clean_film.shape"
   ]
  },
  {
   "cell_type": "code",
   "execution_count": 6,
   "metadata": {},
   "outputs": [
    {
     "data": {
      "text/plain": [
       "0    3628\n",
       "1    2372\n",
       "Name: roi, dtype: int64"
      ]
     },
     "execution_count": 6,
     "metadata": {},
     "output_type": "execute_result"
    }
   ],
   "source": [
    "clean_film.roi.value_counts()"
   ]
  },
  {
   "cell_type": "code",
   "execution_count": 7,
   "metadata": {
    "scrolled": true
   },
   "outputs": [
    {
     "data": {
      "image/png": "[encoded data removed]",
      "text/plain": [
       "<Figure size 288x288 with 1 Axes>"
      ]
     },
     "metadata": {},
     "output_type": "display_data"
    }
   ],
   "source": [
    "sns.factorplot(x='roi', data=clean_film, kind='count', size=4, aspect=1);"
   ]
  },
  {
   "cell_type": "code",
   "execution_count": 8,
   "metadata": {},
   "outputs": [
    {
     "data": {
      "text/plain": [
       "Index(['budget', 'gross', 'runtime', 'score', 'votes', 'country_USA',\n",
       "       'genre_Comedy', 'star_ranking_famous', 'studio_ranking_least_known',\n",
       "       'roi'],\n",
       "      dtype='object')"
      ]
     },
     "execution_count": 8,
     "metadata": {},
     "output_type": "execute_result"
    }
   ],
   "source": [
    "clean_film.columns"
   ]
  },
  {
   "cell_type": "markdown",
   "metadata": {},
   "source": [
    "### Scaling on the whole data before splitting"
   ]
  },
  {
   "cell_type": "code",
   "execution_count": 9,
   "metadata": {},
   "outputs": [],
   "source": [
    "# features_toscale = ['budget', 'gross', 'score', 'votes', 'genre_Comedy',\n",
    "#       'star_names_most_famous', 'studio_names_top_known']"
   ]
  },
  {
   "cell_type": "code",
   "execution_count": 10,
   "metadata": {},
   "outputs": [],
   "source": [
    "# from sklearn import preprocessing\n",
    "\n",
    "# sc = clean_film[features_toscale].values \n",
    "# StandardScaler = preprocessing.StandardScaler()\n",
    "# sc_scaled = StandardScaler.fit_transform(sc)\n",
    "# clean_film[features_toscale] = pd.DataFrame(sc_scaled)"
   ]
  },
  {
   "cell_type": "code",
   "execution_count": 11,
   "metadata": {},
   "outputs": [],
   "source": [
    "# from sklearn import preprocessing\n",
    "\n",
    "# sc = clean_film[features_toscale].values \n",
    "# min_max_scaler = preprocessing.MinMaxScaler()\n",
    "# sc_scaled = min_max_scaler.fit_transform(sc)\n",
    "# clean_film[features_toscale] = pd.DataFrame(sc_scaled)"
   ]
  },
  {
   "cell_type": "code",
   "execution_count": 12,
   "metadata": {},
   "outputs": [],
   "source": [
    "# clean_film.head()"
   ]
  },
  {
   "cell_type": "markdown",
   "metadata": {},
   "source": [
    "### Splitting the dataset into the Training set and Test set"
   ]
  },
  {
   "cell_type": "code",
   "execution_count": 13,
   "metadata": {},
   "outputs": [],
   "source": [
    "X = clean_film.drop('roi', axis = 1)\n",
    "y = clean_film.roi\n",
    "\n",
    "from sklearn.model_selection import train_test_split\n",
    "\n",
    "training_features, test_features, \\\n",
    "training_target, test_target, = train_test_split(X,y,\n",
    "                                               test_size = .2,\n",
    "                                               random_state=0)"
   ]
  },
  {
   "cell_type": "markdown",
   "metadata": {},
   "source": [
    "### Establishing a Baseline"
   ]
  },
  {
   "cell_type": "code",
   "execution_count": 14,
   "metadata": {},
   "outputs": [
    {
     "data": {
      "text/plain": [
       "(array([0, 1], dtype=int64), array([2877, 1923], dtype=int64))"
      ]
     },
     "execution_count": 14,
     "metadata": {},
     "output_type": "execute_result"
    }
   ],
   "source": [
    "np.unique(training_target, return_counts=True)"
   ]
  },
  {
   "cell_type": "code",
   "execution_count": 15,
   "metadata": {},
   "outputs": [
    {
     "data": {
      "text/plain": [
       "0    0.604667\n",
       "1    0.395333\n",
       "Name: roi, dtype: float64"
      ]
     },
     "execution_count": 15,
     "metadata": {},
     "output_type": "execute_result"
    }
   ],
   "source": [
    "clean_film['roi'].value_counts(normalize=True)"
   ]
  },
  {
   "cell_type": "code",
   "execution_count": 16,
   "metadata": {},
   "outputs": [
    {
     "name": "stdout",
     "output_type": "stream",
     "text": [
      "[0 0 0 ... 0 0 0]\n",
      "The fraction of correct classifications is: 0.626\n"
     ]
    }
   ],
   "source": [
    "from sklearn.dummy import DummyClassifier\n",
    "dummy_baseline = DummyClassifier(strategy=\"most_frequent\")\n",
    "dummy_baseline.fit(test_features, test_target)\n",
    "\n",
    "test_target_pred = dummy_baseline.predict(test_features)\n",
    "print(test_target_pred)\n",
    "\n",
    "score = dummy_baseline.score(test_features, test_target)\n",
    "print('The fraction of correct classifications is: {:5.3f}'.format(score))\n"
   ]
  },
  {
   "cell_type": "code",
   "execution_count": 17,
   "metadata": {},
   "outputs": [
    {
     "name": "stdout",
     "output_type": "stream",
     "text": [
      "[[751   0]\n",
      " [449   0]]\n",
      "0.6258333333333334\n"
     ]
    }
   ],
   "source": [
    "from sklearn.metrics import confusion_matrix, accuracy_score\n",
    "y_pred = dummy_baseline.predict(test_features)\n",
    "cm = confusion_matrix(test_target, y_pred)\n",
    "print(cm)\n",
    "dummy_baseline_score = accuracy_score(test_target, y_pred)\n",
    "print(dummy_baseline_score)"
   ]
  },
  {
   "cell_type": "code",
   "execution_count": 18,
   "metadata": {},
   "outputs": [],
   "source": [
    "# from sklearn.preprocessing import MinMaxScaler\n",
    "# sc = MinMaxScaler()\n",
    "# training_features = sc.fit_transform(training_features)\n",
    "# test_features = sc.transform(test_features)"
   ]
  },
  {
   "cell_type": "code",
   "execution_count": 19,
   "metadata": {},
   "outputs": [],
   "source": [
    "from sklearn.preprocessing import StandardScaler\n",
    "sc = StandardScaler()\n",
    "\n",
    "# Scaling all rows for the first 4 columns\n",
    "\n",
    "training_features.iloc[:, 0:5] =  sc.fit_transform(training_features.iloc[:, 0:5])\n",
    "\n",
    "test_features.iloc[:, 0:5] = sc.transform(test_features.iloc[:, 0:5])"
   ]
  },
  {
   "cell_type": "code",
   "execution_count": 20,
   "metadata": {},
   "outputs": [
    {
     "data": {
      "text/html": [
       "<div>\n",
       "<style scoped>\n",
       "    .dataframe tbody tr th:only-of-type {\n",
       "        vertical-align: middle;\n",
       "    }\n",
       "\n",
       "    .dataframe tbody tr th {\n",
       "        vertical-align: top;\n",
       "    }\n",
       "\n",
       "    .dataframe thead th {\n",
       "        text-align: right;\n",
       "    }\n",
       "</style>\n",
       "<table border=\"1\" class=\"dataframe\">\n",
       "  <thead>\n",
       "    <tr style=\"text-align: right;\">\n",
       "      <th></th>\n",
       "      <th>budget</th>\n",
       "      <th>gross</th>\n",
       "      <th>runtime</th>\n",
       "      <th>score</th>\n",
       "      <th>votes</th>\n",
       "      <th>country_USA</th>\n",
       "      <th>genre_Comedy</th>\n",
       "      <th>star_ranking_famous</th>\n",
       "      <th>studio_ranking_least_known</th>\n",
       "    </tr>\n",
       "  </thead>\n",
       "  <tbody>\n",
       "    <tr>\n",
       "      <th>3381</th>\n",
       "      <td>-0.770567</td>\n",
       "      <td>-0.588020</td>\n",
       "      <td>-1.046558</td>\n",
       "      <td>0.822664</td>\n",
       "      <td>-0.521683</td>\n",
       "      <td>1</td>\n",
       "      <td>1</td>\n",
       "      <td>0</td>\n",
       "      <td>1</td>\n",
       "    </tr>\n",
       "    <tr>\n",
       "      <th>31</th>\n",
       "      <td>-0.228898</td>\n",
       "      <td>-0.057331</td>\n",
       "      <td>0.250842</td>\n",
       "      <td>0.923527</td>\n",
       "      <td>0.664071</td>\n",
       "      <td>0</td>\n",
       "      <td>0</td>\n",
       "      <td>1</td>\n",
       "      <td>1</td>\n",
       "    </tr>\n",
       "    <tr>\n",
       "      <th>1596</th>\n",
       "      <td>0.056192</td>\n",
       "      <td>0.929382</td>\n",
       "      <td>-1.102967</td>\n",
       "      <td>0.620938</td>\n",
       "      <td>-0.059461</td>\n",
       "      <td>1</td>\n",
       "      <td>0</td>\n",
       "      <td>0</td>\n",
       "      <td>1</td>\n",
       "    </tr>\n",
       "    <tr>\n",
       "      <th>1386</th>\n",
       "      <td>1.424620</td>\n",
       "      <td>1.067119</td>\n",
       "      <td>0.984156</td>\n",
       "      <td>0.822664</td>\n",
       "      <td>1.097912</td>\n",
       "      <td>0</td>\n",
       "      <td>0</td>\n",
       "      <td>0</td>\n",
       "      <td>1</td>\n",
       "    </tr>\n",
       "    <tr>\n",
       "      <th>4237</th>\n",
       "      <td>-0.057844</td>\n",
       "      <td>-0.289441</td>\n",
       "      <td>-0.144018</td>\n",
       "      <td>-0.589418</td>\n",
       "      <td>0.086847</td>\n",
       "      <td>0</td>\n",
       "      <td>0</td>\n",
       "      <td>0</td>\n",
       "      <td>1</td>\n",
       "    </tr>\n",
       "    <tr>\n",
       "      <th>...</th>\n",
       "      <td>...</td>\n",
       "      <td>...</td>\n",
       "      <td>...</td>\n",
       "      <td>...</td>\n",
       "      <td>...</td>\n",
       "      <td>...</td>\n",
       "      <td>...</td>\n",
       "      <td>...</td>\n",
       "      <td>...</td>\n",
       "    </tr>\n",
       "    <tr>\n",
       "      <th>4931</th>\n",
       "      <td>0.341281</td>\n",
       "      <td>-0.171075</td>\n",
       "      <td>-0.256836</td>\n",
       "      <td>-2.707542</td>\n",
       "      <td>-0.119055</td>\n",
       "      <td>1</td>\n",
       "      <td>0</td>\n",
       "      <td>0</td>\n",
       "      <td>1</td>\n",
       "    </tr>\n",
       "    <tr>\n",
       "      <th>3264</th>\n",
       "      <td>-0.599514</td>\n",
       "      <td>-0.588859</td>\n",
       "      <td>1.153382</td>\n",
       "      <td>0.721801</td>\n",
       "      <td>-0.492930</td>\n",
       "      <td>1</td>\n",
       "      <td>0</td>\n",
       "      <td>0</td>\n",
       "      <td>1</td>\n",
       "    </tr>\n",
       "    <tr>\n",
       "      <th>1653</th>\n",
       "      <td>0.284263</td>\n",
       "      <td>0.847454</td>\n",
       "      <td>-0.764514</td>\n",
       "      <td>-0.589418</td>\n",
       "      <td>-0.303437</td>\n",
       "      <td>1</td>\n",
       "      <td>0</td>\n",
       "      <td>0</td>\n",
       "      <td>1</td>\n",
       "    </tr>\n",
       "    <tr>\n",
       "      <th>2607</th>\n",
       "      <td>-0.485478</td>\n",
       "      <td>-0.574449</td>\n",
       "      <td>-0.426062</td>\n",
       "      <td>1.125253</td>\n",
       "      <td>-0.526613</td>\n",
       "      <td>0</td>\n",
       "      <td>0</td>\n",
       "      <td>0</td>\n",
       "      <td>1</td>\n",
       "    </tr>\n",
       "    <tr>\n",
       "      <th>2732</th>\n",
       "      <td>-0.485478</td>\n",
       "      <td>-0.554859</td>\n",
       "      <td>-1.046558</td>\n",
       "      <td>-2.001501</td>\n",
       "      <td>-0.535098</td>\n",
       "      <td>1</td>\n",
       "      <td>0</td>\n",
       "      <td>0</td>\n",
       "      <td>1</td>\n",
       "    </tr>\n",
       "  </tbody>\n",
       "</table>\n",
       "<p>4800 rows × 9 columns</p>\n",
       "</div>"
      ],
      "text/plain": [
       "        budget     gross   runtime     score     votes  country_USA  \\\n",
       "3381 -0.770567 -0.588020 -1.046558  0.822664 -0.521683            1   \n",
       "31   -0.228898 -0.057331  0.250842  0.923527  0.664071            0   \n",
       "1596  0.056192  0.929382 -1.102967  0.620938 -0.059461            1   \n",
       "1386  1.424620  1.067119  0.984156  0.822664  1.097912            0   \n",
       "4237 -0.057844 -0.289441 -0.144018 -0.589418  0.086847            0   \n",
       "...        ...       ...       ...       ...       ...          ...   \n",
       "4931  0.341281 -0.171075 -0.256836 -2.707542 -0.119055            1   \n",
       "3264 -0.599514 -0.588859  1.153382  0.721801 -0.492930            1   \n",
       "1653  0.284263  0.847454 -0.764514 -0.589418 -0.303437            1   \n",
       "2607 -0.485478 -0.574449 -0.426062  1.125253 -0.526613            0   \n",
       "2732 -0.485478 -0.554859 -1.046558 -2.001501 -0.535098            1   \n",
       "\n",
       "      genre_Comedy  star_ranking_famous  studio_ranking_least_known  \n",
       "3381             1                    0                           1  \n",
       "31               0                    1                           1  \n",
       "1596             0                    0                           1  \n",
       "1386             0                    0                           1  \n",
       "4237             0                    0                           1  \n",
       "...            ...                  ...                         ...  \n",
       "4931             0                    0                           1  \n",
       "3264             0                    0                           1  \n",
       "1653             0                    0                           1  \n",
       "2607             0                    0                           1  \n",
       "2732             0                    0                           1  \n",
       "\n",
       "[4800 rows x 9 columns]"
      ]
     },
     "execution_count": 20,
     "metadata": {},
     "output_type": "execute_result"
    }
   ],
   "source": [
    "training_features"
   ]
  },
  {
   "cell_type": "code",
   "execution_count": 21,
   "metadata": {},
   "outputs": [
    {
     "data": {
      "text/html": [
       "<div>\n",
       "<style scoped>\n",
       "    .dataframe tbody tr th:only-of-type {\n",
       "        vertical-align: middle;\n",
       "    }\n",
       "\n",
       "    .dataframe tbody tr th {\n",
       "        vertical-align: top;\n",
       "    }\n",
       "\n",
       "    .dataframe thead th {\n",
       "        text-align: right;\n",
       "    }\n",
       "</style>\n",
       "<table border=\"1\" class=\"dataframe\">\n",
       "  <thead>\n",
       "    <tr style=\"text-align: right;\">\n",
       "      <th></th>\n",
       "      <th>budget</th>\n",
       "      <th>gross</th>\n",
       "      <th>runtime</th>\n",
       "      <th>score</th>\n",
       "      <th>votes</th>\n",
       "      <th>country_USA</th>\n",
       "      <th>genre_Comedy</th>\n",
       "      <th>star_ranking_famous</th>\n",
       "      <th>studio_ranking_least_known</th>\n",
       "    </tr>\n",
       "  </thead>\n",
       "  <tbody>\n",
       "    <tr>\n",
       "      <th>4320</th>\n",
       "      <td>0.027683</td>\n",
       "      <td>-0.186573</td>\n",
       "      <td>0.645703</td>\n",
       "      <td>0.318349</td>\n",
       "      <td>-0.362545</td>\n",
       "      <td>1</td>\n",
       "      <td>1</td>\n",
       "      <td>0</td>\n",
       "      <td>1</td>\n",
       "    </tr>\n",
       "    <tr>\n",
       "      <th>2006</th>\n",
       "      <td>4.902710</td>\n",
       "      <td>6.800677</td>\n",
       "      <td>-0.200427</td>\n",
       "      <td>1.932158</td>\n",
       "      <td>4.052980</td>\n",
       "      <td>1</td>\n",
       "      <td>0</td>\n",
       "      <td>0</td>\n",
       "      <td>1</td>\n",
       "    </tr>\n",
       "    <tr>\n",
       "      <th>5689</th>\n",
       "      <td>1.225058</td>\n",
       "      <td>-0.388005</td>\n",
       "      <td>-0.369653</td>\n",
       "      <td>-1.598049</td>\n",
       "      <td>-0.475975</td>\n",
       "      <td>1</td>\n",
       "      <td>0</td>\n",
       "      <td>0</td>\n",
       "      <td>1</td>\n",
       "    </tr>\n",
       "    <tr>\n",
       "      <th>472</th>\n",
       "      <td>0.084701</td>\n",
       "      <td>0.189042</td>\n",
       "      <td>0.871338</td>\n",
       "      <td>0.015760</td>\n",
       "      <td>-0.366449</td>\n",
       "      <td>1</td>\n",
       "      <td>0</td>\n",
       "      <td>0</td>\n",
       "      <td>1</td>\n",
       "    </tr>\n",
       "    <tr>\n",
       "      <th>1370</th>\n",
       "      <td>0.768915</td>\n",
       "      <td>1.005792</td>\n",
       "      <td>-0.482471</td>\n",
       "      <td>-0.185966</td>\n",
       "      <td>0.476150</td>\n",
       "      <td>1</td>\n",
       "      <td>0</td>\n",
       "      <td>0</td>\n",
       "      <td>1</td>\n",
       "    </tr>\n",
       "    <tr>\n",
       "      <th>...</th>\n",
       "      <td>...</td>\n",
       "      <td>...</td>\n",
       "      <td>...</td>\n",
       "      <td>...</td>\n",
       "      <td>...</td>\n",
       "      <td>...</td>\n",
       "      <td>...</td>\n",
       "      <td>...</td>\n",
       "      <td>...</td>\n",
       "    </tr>\n",
       "    <tr>\n",
       "      <th>806</th>\n",
       "      <td>-0.485478</td>\n",
       "      <td>-0.371125</td>\n",
       "      <td>0.532886</td>\n",
       "      <td>-0.085103</td>\n",
       "      <td>-0.524281</td>\n",
       "      <td>1</td>\n",
       "      <td>0</td>\n",
       "      <td>0</td>\n",
       "      <td>1</td>\n",
       "    </tr>\n",
       "    <tr>\n",
       "      <th>5126</th>\n",
       "      <td>1.339094</td>\n",
       "      <td>-0.495853</td>\n",
       "      <td>-0.764514</td>\n",
       "      <td>-1.698912</td>\n",
       "      <td>-0.433374</td>\n",
       "      <td>1</td>\n",
       "      <td>0</td>\n",
       "      <td>0</td>\n",
       "      <td>1</td>\n",
       "    </tr>\n",
       "    <tr>\n",
       "      <th>4977</th>\n",
       "      <td>0.198736</td>\n",
       "      <td>-0.029292</td>\n",
       "      <td>0.871338</td>\n",
       "      <td>0.419212</td>\n",
       "      <td>0.456483</td>\n",
       "      <td>1</td>\n",
       "      <td>0</td>\n",
       "      <td>0</td>\n",
       "      <td>1</td>\n",
       "    </tr>\n",
       "    <tr>\n",
       "      <th>1624</th>\n",
       "      <td>0.626370</td>\n",
       "      <td>0.832110</td>\n",
       "      <td>0.814930</td>\n",
       "      <td>-0.185966</td>\n",
       "      <td>0.955942</td>\n",
       "      <td>1</td>\n",
       "      <td>0</td>\n",
       "      <td>0</td>\n",
       "      <td>1</td>\n",
       "    </tr>\n",
       "    <tr>\n",
       "      <th>4754</th>\n",
       "      <td>0.768915</td>\n",
       "      <td>0.010437</td>\n",
       "      <td>0.645703</td>\n",
       "      <td>-0.589418</td>\n",
       "      <td>-0.193827</td>\n",
       "      <td>1</td>\n",
       "      <td>1</td>\n",
       "      <td>0</td>\n",
       "      <td>1</td>\n",
       "    </tr>\n",
       "  </tbody>\n",
       "</table>\n",
       "<p>1200 rows × 9 columns</p>\n",
       "</div>"
      ],
      "text/plain": [
       "        budget     gross   runtime     score     votes  country_USA  \\\n",
       "4320  0.027683 -0.186573  0.645703  0.318349 -0.362545            1   \n",
       "2006  4.902710  6.800677 -0.200427  1.932158  4.052980            1   \n",
       "5689  1.225058 -0.388005 -0.369653 -1.598049 -0.475975            1   \n",
       "472   0.084701  0.189042  0.871338  0.015760 -0.366449            1   \n",
       "1370  0.768915  1.005792 -0.482471 -0.185966  0.476150            1   \n",
       "...        ...       ...       ...       ...       ...          ...   \n",
       "806  -0.485478 -0.371125  0.532886 -0.085103 -0.524281            1   \n",
       "5126  1.339094 -0.495853 -0.764514 -1.698912 -0.433374            1   \n",
       "4977  0.198736 -0.029292  0.871338  0.419212  0.456483            1   \n",
       "1624  0.626370  0.832110  0.814930 -0.185966  0.955942            1   \n",
       "4754  0.768915  0.010437  0.645703 -0.589418 -0.193827            1   \n",
       "\n",
       "      genre_Comedy  star_ranking_famous  studio_ranking_least_known  \n",
       "4320             1                    0                           1  \n",
       "2006             0                    0                           1  \n",
       "5689             0                    0                           1  \n",
       "472              0                    0                           1  \n",
       "1370             0                    0                           1  \n",
       "...            ...                  ...                         ...  \n",
       "806              0                    0                           1  \n",
       "5126             0                    0                           1  \n",
       "4977             0                    0                           1  \n",
       "1624             0                    0                           1  \n",
       "4754             1                    0                           1  \n",
       "\n",
       "[1200 rows x 9 columns]"
      ]
     },
     "execution_count": 21,
     "metadata": {},
     "output_type": "execute_result"
    }
   ],
   "source": [
    "test_features"
   ]
  },
  {
   "cell_type": "markdown",
   "metadata": {},
   "source": [
    "### Decision Tree Classification Model"
   ]
  },
  {
   "cell_type": "code",
   "execution_count": 22,
   "metadata": {},
   "outputs": [
    {
     "data": {
      "text/plain": [
       "DecisionTreeClassifier(criterion='entropy', random_state=0)"
      ]
     },
     "execution_count": 22,
     "metadata": {},
     "output_type": "execute_result"
    }
   ],
   "source": [
    "from sklearn.tree import DecisionTreeClassifier\n",
    "CART = DecisionTreeClassifier(criterion = 'entropy', random_state = 0)\n",
    "CART.fit(training_features, training_target)"
   ]
  },
  {
   "cell_type": "code",
   "execution_count": 23,
   "metadata": {},
   "outputs": [
    {
     "name": "stdout",
     "output_type": "stream",
     "text": [
      "1.0\n"
     ]
    }
   ],
   "source": [
    "CART_training_score = CART.score(training_features, training_target)\n",
    "print(CART_training_score)"
   ]
  },
  {
   "cell_type": "markdown",
   "metadata": {},
   "source": [
    "### Making the Confusion Matrix"
   ]
  },
  {
   "cell_type": "code",
   "execution_count": 24,
   "metadata": {
    "scrolled": true
   },
   "outputs": [
    {
     "name": "stdout",
     "output_type": "stream",
     "text": [
      "[[740  11]\n",
      " [ 14 435]]\n",
      "0.9791666666666666\n"
     ]
    }
   ],
   "source": [
    "from sklearn.metrics import confusion_matrix, accuracy_score\n",
    "y_pred = CART.predict(test_features)\n",
    "cm = confusion_matrix(test_target, y_pred)\n",
    "print(cm)\n",
    "CART_score = accuracy_score(test_target, y_pred)\n",
    "print(CART_score)"
   ]
  },
  {
   "cell_type": "markdown",
   "metadata": {},
   "source": [
    "### Logistic Regression"
   ]
  },
  {
   "cell_type": "code",
   "execution_count": 25,
   "metadata": {
    "scrolled": true
   },
   "outputs": [
    {
     "data": {
      "text/plain": [
       "LogisticRegression(random_state=0)"
      ]
     },
     "execution_count": 25,
     "metadata": {},
     "output_type": "execute_result"
    }
   ],
   "source": [
    "from sklearn.linear_model import LogisticRegression\n",
    "LR = LogisticRegression(random_state = 0)\n",
    "LR.fit(training_features, training_target)"
   ]
  },
  {
   "cell_type": "code",
   "execution_count": 26,
   "metadata": {},
   "outputs": [
    {
     "name": "stdout",
     "output_type": "stream",
     "text": [
      "0.9739583333333334\n"
     ]
    }
   ],
   "source": [
    "LR_training_score = LR.score(training_features, training_target)\n",
    "print(LR_training_score)"
   ]
  },
  {
   "cell_type": "code",
   "execution_count": 27,
   "metadata": {},
   "outputs": [
    {
     "name": "stdout",
     "output_type": "stream",
     "text": [
      "[[748   3]\n",
      " [ 39 410]]\n",
      "0.965\n"
     ]
    }
   ],
   "source": [
    "from sklearn.metrics import confusion_matrix, accuracy_score\n",
    "y_pred = LR.predict(test_features)\n",
    "cm = confusion_matrix(test_target, y_pred)\n",
    "print(cm)\n",
    "LR_score = accuracy_score(test_target, y_pred)\n",
    "print(LR_score)"
   ]
  },
  {
   "cell_type": "markdown",
   "metadata": {},
   "source": [
    "### K-Nearest Neighbors (K-NN)"
   ]
  },
  {
   "cell_type": "code",
   "execution_count": 28,
   "metadata": {
    "scrolled": true
   },
   "outputs": [
    {
     "data": {
      "text/plain": [
       "KNeighborsClassifier()"
      ]
     },
     "execution_count": 28,
     "metadata": {},
     "output_type": "execute_result"
    }
   ],
   "source": [
    "from sklearn.neighbors import KNeighborsClassifier\n",
    "KNN = KNeighborsClassifier(n_neighbors = 5, metric = 'minkowski', p = 2)\n",
    "KNN.fit(training_features, training_target)"
   ]
  },
  {
   "cell_type": "code",
   "execution_count": 29,
   "metadata": {},
   "outputs": [
    {
     "name": "stdout",
     "output_type": "stream",
     "text": [
      "0.9308333333333333\n"
     ]
    }
   ],
   "source": [
    "KNN_training_score = KNN.score(training_features, training_target)\n",
    "print(KNN_training_score)"
   ]
  },
  {
   "cell_type": "code",
   "execution_count": 30,
   "metadata": {},
   "outputs": [
    {
     "name": "stdout",
     "output_type": "stream",
     "text": [
      "[[715  36]\n",
      " [ 93 356]]\n",
      "0.8925\n"
     ]
    }
   ],
   "source": [
    "from sklearn.metrics import confusion_matrix, accuracy_score\n",
    "y_pred = KNN.predict(test_features)\n",
    "cm = confusion_matrix(test_target, y_pred)\n",
    "print(cm)\n",
    "KNN_score = accuracy_score(test_target, y_pred)\n",
    "print(KNN_score)"
   ]
  },
  {
   "cell_type": "markdown",
   "metadata": {},
   "source": [
    "### SVM model"
   ]
  },
  {
   "cell_type": "code",
   "execution_count": 31,
   "metadata": {
    "scrolled": true
   },
   "outputs": [
    {
     "data": {
      "text/plain": [
       "SVC(kernel='linear', random_state=0)"
      ]
     },
     "execution_count": 31,
     "metadata": {},
     "output_type": "execute_result"
    }
   ],
   "source": [
    "from sklearn.svm import SVC\n",
    "SVM = SVC(kernel = 'linear', random_state = 0)\n",
    "SVM.fit(training_features, training_target)"
   ]
  },
  {
   "cell_type": "code",
   "execution_count": 32,
   "metadata": {},
   "outputs": [
    {
     "name": "stdout",
     "output_type": "stream",
     "text": [
      "0.9852083333333334\n"
     ]
    }
   ],
   "source": [
    "SVM_training_score = SVM.score(training_features, training_target)\n",
    "print(SVM_training_score)"
   ]
  },
  {
   "cell_type": "code",
   "execution_count": 33,
   "metadata": {},
   "outputs": [
    {
     "name": "stdout",
     "output_type": "stream",
     "text": [
      "[[748   3]\n",
      " [ 19 430]]\n",
      "0.9816666666666667\n"
     ]
    }
   ],
   "source": [
    "from sklearn.metrics import confusion_matrix, accuracy_score\n",
    "y_pred = SVM.predict(test_features)\n",
    "cm = confusion_matrix(test_target, y_pred)\n",
    "print(cm)\n",
    "SVM_score = accuracy_score(test_target, y_pred)\n",
    "print(SVM_score)"
   ]
  },
  {
   "cell_type": "markdown",
   "metadata": {},
   "source": [
    "### Kernel SVM"
   ]
  },
  {
   "cell_type": "code",
   "execution_count": 34,
   "metadata": {
    "scrolled": true
   },
   "outputs": [
    {
     "data": {
      "text/plain": [
       "SVC(random_state=0)"
      ]
     },
     "execution_count": 34,
     "metadata": {},
     "output_type": "execute_result"
    }
   ],
   "source": [
    "from sklearn.svm import SVC\n",
    "KSVM = SVC(kernel = 'rbf', random_state = 0)\n",
    "KSVM.fit(training_features, training_target)"
   ]
  },
  {
   "cell_type": "code",
   "execution_count": 35,
   "metadata": {},
   "outputs": [
    {
     "name": "stdout",
     "output_type": "stream",
     "text": [
      "0.9585416666666666\n"
     ]
    }
   ],
   "source": [
    "KSVM_training_score = KSVM.score(training_features, training_target)\n",
    "print(KSVM_training_score)"
   ]
  },
  {
   "cell_type": "code",
   "execution_count": 36,
   "metadata": {},
   "outputs": [
    {
     "name": "stdout",
     "output_type": "stream",
     "text": [
      "[[743   8]\n",
      " [ 51 398]]\n",
      "0.9508333333333333\n"
     ]
    }
   ],
   "source": [
    "from sklearn.metrics import confusion_matrix, accuracy_score\n",
    "y_pred = KSVM.predict(test_features)\n",
    "cm = confusion_matrix(test_target, y_pred)\n",
    "print(cm)\n",
    "KSVM_score = accuracy_score(test_target, y_pred)\n",
    "print(KSVM_score)"
   ]
  },
  {
   "cell_type": "markdown",
   "metadata": {},
   "source": [
    "### Gaussian Naive Bayes"
   ]
  },
  {
   "cell_type": "code",
   "execution_count": 37,
   "metadata": {},
   "outputs": [
    {
     "data": {
      "text/plain": [
       "GaussianNB()"
      ]
     },
     "execution_count": 37,
     "metadata": {},
     "output_type": "execute_result"
    }
   ],
   "source": [
    "from sklearn.naive_bayes import GaussianNB\n",
    "NB = GaussianNB()\n",
    "NB.fit(training_features, training_target)"
   ]
  },
  {
   "cell_type": "code",
   "execution_count": 38,
   "metadata": {},
   "outputs": [
    {
     "name": "stdout",
     "output_type": "stream",
     "text": [
      "0.664375\n"
     ]
    }
   ],
   "source": [
    "NB_training_score = NB.score(training_features, training_target)\n",
    "print(NB_training_score)"
   ]
  },
  {
   "cell_type": "code",
   "execution_count": 39,
   "metadata": {},
   "outputs": [
    {
     "name": "stdout",
     "output_type": "stream",
     "text": [
      "[[745   6]\n",
      " [348 101]]\n",
      "0.705\n"
     ]
    }
   ],
   "source": [
    "from sklearn.metrics import confusion_matrix, accuracy_score\n",
    "y_pred = NB.predict(test_features)\n",
    "cm = confusion_matrix(test_target, y_pred)\n",
    "print(cm)\n",
    "NB_score = accuracy_score(test_target, y_pred)\n",
    "print(NB_score)"
   ]
  },
  {
   "cell_type": "markdown",
   "metadata": {},
   "source": [
    "### Random Forest Classification"
   ]
  },
  {
   "cell_type": "code",
   "execution_count": 40,
   "metadata": {},
   "outputs": [
    {
     "data": {
      "text/plain": [
       "RandomForestClassifier(criterion='entropy', n_estimators=10, random_state=0)"
      ]
     },
     "execution_count": 40,
     "metadata": {},
     "output_type": "execute_result"
    }
   ],
   "source": [
    "from sklearn.ensemble import RandomForestClassifier\n",
    "RF = RandomForestClassifier(n_estimators = 10, criterion = 'entropy', random_state = 0)\n",
    "RF.fit(training_features, training_target)"
   ]
  },
  {
   "cell_type": "code",
   "execution_count": 41,
   "metadata": {},
   "outputs": [
    {
     "name": "stdout",
     "output_type": "stream",
     "text": [
      "0.99875\n"
     ]
    }
   ],
   "source": [
    "RF_training_score = RF.score(training_features, training_target)\n",
    "print(RF_training_score)"
   ]
  },
  {
   "cell_type": "code",
   "execution_count": 42,
   "metadata": {},
   "outputs": [
    {
     "name": "stdout",
     "output_type": "stream",
     "text": [
      "[[737  14]\n",
      " [ 28 421]]\n",
      "0.965\n"
     ]
    }
   ],
   "source": [
    "from sklearn.metrics import confusion_matrix, accuracy_score\n",
    "y_pred = RF.predict(test_features)\n",
    "cm = confusion_matrix(test_target, y_pred)\n",
    "print(cm)\n",
    "RF_score = accuracy_score(test_target, y_pred)\n",
    "print(RF_score)"
   ]
  },
  {
   "cell_type": "markdown",
   "metadata": {},
   "source": [
    "### Boosting Model - Gradient Boosting"
   ]
  },
  {
   "cell_type": "code",
   "execution_count": 43,
   "metadata": {},
   "outputs": [
    {
     "data": {
      "text/plain": [
       "GradientBoostingClassifier(random_state=0)"
      ]
     },
     "execution_count": 43,
     "metadata": {},
     "output_type": "execute_result"
    }
   ],
   "source": [
    "from sklearn.ensemble import GradientBoostingClassifier\n",
    "GBM = GradientBoostingClassifier(random_state = 0)\n",
    "GBM.fit(training_features, training_target)"
   ]
  },
  {
   "cell_type": "code",
   "execution_count": 44,
   "metadata": {},
   "outputs": [
    {
     "name": "stdout",
     "output_type": "stream",
     "text": [
      "0.9952083333333334\n"
     ]
    }
   ],
   "source": [
    "GBM_training_score = GBM.score(training_features, training_target)\n",
    "print(GBM_training_score)"
   ]
  },
  {
   "cell_type": "code",
   "execution_count": 45,
   "metadata": {},
   "outputs": [
    {
     "name": "stdout",
     "output_type": "stream",
     "text": [
      "[[739  12]\n",
      " [ 14 435]]\n",
      "0.9783333333333334\n"
     ]
    }
   ],
   "source": [
    "from sklearn.metrics import confusion_matrix, accuracy_score\n",
    "y_pred = GBM.predict(test_features)\n",
    "cm = confusion_matrix(test_target, y_pred)\n",
    "print(cm)\n",
    "GBM_score = accuracy_score(test_target, y_pred)\n",
    "print(GBM_score)"
   ]
  },
  {
   "cell_type": "markdown",
   "metadata": {},
   "source": [
    "### Boosting Model - Ada Boost"
   ]
  },
  {
   "cell_type": "code",
   "execution_count": 46,
   "metadata": {},
   "outputs": [
    {
     "data": {
      "text/plain": [
       "AdaBoostClassifier(random_state=0)"
      ]
     },
     "execution_count": 46,
     "metadata": {},
     "output_type": "execute_result"
    }
   ],
   "source": [
    "from sklearn.ensemble import AdaBoostClassifier\n",
    "ADBModel = AdaBoostClassifier(random_state=0)\n",
    "ADBModel.fit(training_features, training_target)"
   ]
  },
  {
   "cell_type": "code",
   "execution_count": 47,
   "metadata": {},
   "outputs": [
    {
     "name": "stdout",
     "output_type": "stream",
     "text": [
      "0.9839583333333334\n"
     ]
    }
   ],
   "source": [
    "ADBModel_training_score = ADBModel.score(training_features, training_target)\n",
    "print(ADBModel_training_score)"
   ]
  },
  {
   "cell_type": "code",
   "execution_count": 48,
   "metadata": {},
   "outputs": [
    {
     "name": "stdout",
     "output_type": "stream",
     "text": [
      "[[736  15]\n",
      " [ 14 435]]\n",
      "0.9758333333333333\n"
     ]
    }
   ],
   "source": [
    "from sklearn.metrics import confusion_matrix, accuracy_score\n",
    "y_pred = ADBModel.predict(test_features)\n",
    "cm = confusion_matrix(test_target, y_pred)\n",
    "print(cm)\n",
    "ADBModel_score = accuracy_score(test_target, y_pred)\n",
    "print(ADBModel_score)"
   ]
  },
  {
   "cell_type": "markdown",
   "metadata": {},
   "source": [
    "### Ensemble Method - Bagging"
   ]
  },
  {
   "cell_type": "code",
   "execution_count": 49,
   "metadata": {},
   "outputs": [
    {
     "data": {
      "text/plain": [
       "BaggingClassifier(base_estimator=DecisionTreeClassifier(random_state=45))"
      ]
     },
     "execution_count": 49,
     "metadata": {},
     "output_type": "execute_result"
    }
   ],
   "source": [
    "from sklearn.ensemble import BaggingClassifier\n",
    "from sklearn import tree\n",
    "BModel = BaggingClassifier(tree.DecisionTreeClassifier(random_state=45))\n",
    "BModel\n",
    "BModel.fit(training_features, training_target)"
   ]
  },
  {
   "cell_type": "code",
   "execution_count": 50,
   "metadata": {},
   "outputs": [
    {
     "name": "stdout",
     "output_type": "stream",
     "text": [
      "0.999375\n"
     ]
    }
   ],
   "source": [
    "BModel_training_score = BModel.score(training_features, training_target)\n",
    "print(BModel_training_score)"
   ]
  },
  {
   "cell_type": "code",
   "execution_count": 51,
   "metadata": {},
   "outputs": [
    {
     "name": "stdout",
     "output_type": "stream",
     "text": [
      "[[741  10]\n",
      " [  9 440]]\n",
      "0.9841666666666666\n"
     ]
    }
   ],
   "source": [
    "from sklearn.metrics import confusion_matrix, accuracy_score\n",
    "y_pred = BModel.predict(test_features)\n",
    "cm = confusion_matrix(test_target, y_pred)\n",
    "print(cm)\n",
    "BModel_score = accuracy_score(test_target, y_pred)\n",
    "print(BModel_score)"
   ]
  },
  {
   "cell_type": "markdown",
   "metadata": {},
   "source": [
    "### X-GBoost Model"
   ]
  },
  {
   "cell_type": "code",
   "execution_count": 52,
   "metadata": {},
   "outputs": [
    {
     "name": "stdout",
     "output_type": "stream",
     "text": [
      "[11:46:05] WARNING: C:/Users/Administrator/workspace/xgboost-win64_release_1.3.0/src/learner.cc:1061: Starting in XGBoost 1.3.0, the default evaluation metric used with the objective 'binary:logistic' was changed from 'error' to 'logloss'. Explicitly set eval_metric if you'd like to restore the old behavior.\n"
     ]
    },
    {
     "data": {
      "text/plain": [
       "XGBClassifier(base_score=0.5, booster='gbtree', colsample_bylevel=1,\n",
       "              colsample_bynode=1, colsample_bytree=1, gamma=0, gpu_id=-1,\n",
       "              importance_type='gain', interaction_constraints='',\n",
       "              learning_rate=0.300000012, max_delta_step=0, max_depth=6,\n",
       "              min_child_weight=1, missing=nan, monotone_constraints='()',\n",
       "              n_estimators=100, n_jobs=8, num_parallel_tree=1, random_state=0,\n",
       "              reg_alpha=0, reg_lambda=1, scale_pos_weight=1, subsample=1,\n",
       "              tree_method='exact', validate_parameters=1, verbosity=None)"
      ]
     },
     "execution_count": 52,
     "metadata": {},
     "output_type": "execute_result"
    }
   ],
   "source": [
    "from xgboost import XGBClassifier\n",
    "XGB = XGBClassifier()\n",
    "XGB.fit(training_features, training_target)"
   ]
  },
  {
   "cell_type": "code",
   "execution_count": 53,
   "metadata": {},
   "outputs": [
    {
     "name": "stdout",
     "output_type": "stream",
     "text": [
      "1.0\n"
     ]
    }
   ],
   "source": [
    "XGB_training_score = XGB.score(training_features, training_target)\n",
    "print(XGB_training_score)"
   ]
  },
  {
   "cell_type": "code",
   "execution_count": 54,
   "metadata": {},
   "outputs": [
    {
     "name": "stdout",
     "output_type": "stream",
     "text": [
      "[[745   6]\n",
      " [  8 441]]\n",
      "0.9883333333333333\n"
     ]
    }
   ],
   "source": [
    "from sklearn.metrics import confusion_matrix, accuracy_score\n",
    "y_pred = XGB.predict(test_features)\n",
    "cm = confusion_matrix(test_target, y_pred)\n",
    "print(cm)\n",
    "XGB_score = accuracy_score(test_target, y_pred)\n",
    "print(XGB_score)"
   ]
  },
  {
   "cell_type": "markdown",
   "metadata": {},
   "source": [
    "### Comparing Models"
   ]
  },
  {
   "cell_type": "code",
   "execution_count": 55,
   "metadata": {
    "scrolled": true
   },
   "outputs": [
    {
     "name": "stdout",
     "output_type": "stream",
     "text": [
      " Dummy Base-Line Accuracy                              : 62.58%\n",
      " Decision Tree Training Accuracy                       : 100.00%\n",
      " Decision Tree Prediction Accuracy                                : 97.92%\n",
      " Logistic Regression Training Accuracy                 : 97.40%\n",
      " Logistic Regression Prediction Accuracy                          : 96.50%\n",
      " K-Nearest Neighbors Training Accuracy                 : 93.08%\n",
      " K-Nearest Neighbors Prediction Accuracy                          : 89.25%\n",
      " Support Vector Machine Training Accuracy              : 98.52%\n",
      " Support Vector Machine Prediction Accuracy                       : 98.17%\n",
      " Kernel Support Vector Machine Training Accuracy       : 95.85%\n",
      " Kernel Support Vector Machine Prediction Accuracy                : 95.08%\n",
      " Guassian Naive Bayes Training Accuracy                : 66.44%\n",
      " Guassian Naive Bayes Prediction Accuracy                         : 70.50%\n",
      " Random Forest Training Accuracy                       : 99.88%\n",
      " Random Forest Prediction Accuracy                                : 96.50%\n",
      " Ensemble - Gradient Boosting Training Accuracy        : 99.52%\n",
      " Ensemble - Gradient Boosting Prediction Accuracy                 : 97.83%\n",
      " Ensemble - AdaBoost Training Accuracy                 : 98.40%\n",
      " Ensemble - AdaBoost Prediction Accuracy                          : 97.58%\n",
      " Ensemble - Bagging Training Accuracy                  : 99.94%\n",
      " Ensemble - Bagging Prediction Accuracy                           : 98.42%\n",
      " XGBoost Training Accuracy                             : 100.00%\n",
      " XGBoost Prediction Accuracy                                      : 98.83%\n"
     ]
    }
   ],
   "source": [
    "print(\" Dummy Base-Line Accuracy                              : {:.2f}%\".format(dummy_baseline_score * 100))\n",
    "\n",
    "print(\" Decision Tree Training Accuracy                       : {:.2f}%\".format(CART_training_score * 100))\n",
    "print(\" Decision Tree Prediction Accuracy                                : {:.2f}%\".format(CART_score * 100))\n",
    "\n",
    "print(\" Logistic Regression Training Accuracy                 : {:.2f}%\".format(LR_training_score * 100))\n",
    "print(\" Logistic Regression Prediction Accuracy                          : {:.2f}%\".format(LR_score * 100))\n",
    "\n",
    "print(\" K-Nearest Neighbors Training Accuracy                 : {:.2f}%\".format(KNN_training_score * 100))\n",
    "print(\" K-Nearest Neighbors Prediction Accuracy                          : {:.2f}%\".format(KNN_score * 100))\n",
    "\n",
    "print(\" Support Vector Machine Training Accuracy              : {:.2f}%\".format(SVM_training_score * 100))\n",
    "print(\" Support Vector Machine Prediction Accuracy                       : {:.2f}%\".format(SVM_score * 100))\n",
    "\n",
    "print(\" Kernel Support Vector Machine Training Accuracy       : {:.2f}%\".format(KSVM_training_score * 100))\n",
    "print(\" Kernel Support Vector Machine Prediction Accuracy                : {:.2f}%\".format(KSVM_score * 100))\n",
    "\n",
    "print(\" Guassian Naive Bayes Training Accuracy                : {:.2f}%\".format(NB_training_score * 100))\n",
    "print(\" Guassian Naive Bayes Prediction Accuracy                         : {:.2f}%\".format(NB_score * 100))\n",
    "\n",
    "print(\" Random Forest Training Accuracy                       : {:.2f}%\".format(RF_training_score * 100))\n",
    "print(\" Random Forest Prediction Accuracy                                : {:.2f}%\".format(RF_score * 100))\n",
    "\n",
    "print(\" Ensemble - Gradient Boosting Training Accuracy        : {:.2f}%\".format(GBM_training_score * 100))\n",
    "print(\" Ensemble - Gradient Boosting Prediction Accuracy                 : {:.2f}%\".format(GBM_score * 100))\n",
    "\n",
    "print(\" Ensemble - AdaBoost Training Accuracy                 : {:.2f}%\".format(ADBModel_training_score * 100))\n",
    "print(\" Ensemble - AdaBoost Prediction Accuracy                          : {:.2f}%\".format(ADBModel_score * 100))\n",
    "\n",
    "print(\" Ensemble - Bagging Training Accuracy                  : {:.2f}%\".format(BModel_training_score * 100))\n",
    "print(\" Ensemble - Bagging Prediction Accuracy                           : {:.2f}%\".format(BModel_score * 100))\n",
    "\n",
    "print(\" XGBoost Training Accuracy                             : {:.2f}%\".format(XGB_training_score * 100))\n",
    "print(\" XGBoost Prediction Accuracy                                      : {:.2f}%\".format(XGB_score * 100))\n",
    "\n",
    "\n"
   ]
  },
  {
   "cell_type": "markdown",
   "metadata": {},
   "source": [
    "### Scores with Cross Validation"
   ]
  },
  {
   "cell_type": "code",
   "execution_count": 56,
   "metadata": {
    "scrolled": true
   },
   "outputs": [
    {
     "name": "stdout",
     "output_type": "stream",
     "text": [
      "CART             : 0.981250 (0.002465)\n",
      "LRM              : 0.969375 (0.004593)\n",
      "KNN              : 0.885625 (0.012593)\n",
      "NB               : 0.663750 (0.004082)\n",
      "SVM              : 0.981250 (0.003953)\n",
      "KSVM             : 0.950000 (0.008765)\n",
      "RFM              : 0.976042 (0.004167)\n",
      "GBM              : 0.982500 (0.004239)\n",
      "ADBModel         : 0.971250 (0.003875)\n",
      "BModel           : 0.983958 (0.004823)\n",
      "[11:46:15] WARNING: C:/Users/Administrator/workspace/xgboost-win64_release_1.3.0/src/learner.cc:1061: Starting in XGBoost 1.3.0, the default evaluation metric used with the objective 'binary:logistic' was changed from 'error' to 'logloss'. Explicitly set eval_metric if you'd like to restore the old behavior.\n",
      "[11:46:15] WARNING: C:/Users/Administrator/workspace/xgboost-win64_release_1.3.0/src/learner.cc:1061: Starting in XGBoost 1.3.0, the default evaluation metric used with the objective 'binary:logistic' was changed from 'error' to 'logloss'. Explicitly set eval_metric if you'd like to restore the old behavior.\n",
      "[11:46:15] WARNING: C:/Users/Administrator/workspace/xgboost-win64_release_1.3.0/src/learner.cc:1061: Starting in XGBoost 1.3.0, the default evaluation metric used with the objective 'binary:logistic' was changed from 'error' to 'logloss'. Explicitly set eval_metric if you'd like to restore the old behavior.\n",
      "[11:46:16] WARNING: C:/Users/Administrator/workspace/xgboost-win64_release_1.3.0/src/learner.cc:1061: Starting in XGBoost 1.3.0, the default evaluation metric used with the objective 'binary:logistic' was changed from 'error' to 'logloss'. Explicitly set eval_metric if you'd like to restore the old behavior.\n",
      "[11:46:16] WARNING: C:/Users/Administrator/workspace/xgboost-win64_release_1.3.0/src/learner.cc:1061: Starting in XGBoost 1.3.0, the default evaluation metric used with the objective 'binary:logistic' was changed from 'error' to 'logloss'. Explicitly set eval_metric if you'd like to restore the old behavior.\n",
      "XGB              : 0.985417 (0.003423)\n"
     ]
    }
   ],
   "source": [
    "#from sklearn.model_selection import KFold\n",
    "from sklearn import model_selection\n",
    "\n",
    "# Spot Check Algorithms\n",
    "scoring = 'accuracy'\n",
    "models = []\n",
    "\n",
    "models.append(('CART           ', DecisionTreeClassifier(criterion = 'entropy', random_state = 0)))\n",
    "models.append(('LRM            ', LogisticRegression(random_state = 0, solver='newton-cg', max_iter=1000)))\n",
    "models.append(('KNN            ', KNeighborsClassifier()))\n",
    "models.append(('NB             ', GaussianNB()))\n",
    "models.append(('SVM            ', SVC(kernel = 'linear', random_state = 0)))\n",
    "models.append(('KSVM           ', SVC(kernel = 'rbf', random_state = 0)))\n",
    "models.append(('RFM            ', RandomForestClassifier(n_estimators=87, random_state=123)))\n",
    "models.append(('GBM            ', GradientBoostingClassifier()))\n",
    "models.append(('ADBModel       ', AdaBoostClassifier()))\n",
    "models.append(('BModel         ', BaggingClassifier()))\n",
    "models.append(('XGB            ', XGBClassifier()))\n",
    "\n",
    "\n",
    "results = []\n",
    "names = []\n",
    "for name, model in models:\n",
    "    cv_results = model_selection.cross_val_score(model, training_features, training_target,  scoring=scoring)\n",
    "    results.append(cv_results)\n",
    "    names.append(name)\n",
    "    msg = \"%s  : %f (%f)\" % (name, cv_results.mean(), cv_results.std())\n",
    "    print(msg)"
   ]
  },
  {
   "cell_type": "code",
   "execution_count": 57,
   "metadata": {
    "scrolled": true
   },
   "outputs": [
    {
     "data": {
      "image/png": "[encoded data removed]",
      "text/plain": [
       "<Figure size 720x432 with 1 Axes>"
      ]
     },
     "metadata": {},
     "output_type": "display_data"
    }
   ],
   "source": [
    "# Compare Algorithms\n",
    "fig = plt.figure(figsize=(10, 6))\n",
    "fig.suptitle('Algorithm Comparison')\n",
    "ax = fig.add_subplot(111)\n",
    "plt.boxplot(results)\n",
    "ax.set_xticklabels(names)\n",
    "plt.show()"
   ]
  },
  {
   "cell_type": "markdown",
   "metadata": {},
   "source": [
    "### Model Assessement"
   ]
  },
  {
   "cell_type": "code",
   "execution_count": 58,
   "metadata": {},
   "outputs": [],
   "source": [
    "# For calculating AUROC\n",
    "from sklearn.metrics import roc_curve, auc"
   ]
  },
  {
   "cell_type": "code",
   "execution_count": 59,
   "metadata": {},
   "outputs": [
    {
     "name": "stdout",
     "output_type": "stream",
     "text": [
      "[11:46:18] WARNING: C:/Users/Administrator/workspace/xgboost-win64_release_1.3.0/src/learner.cc:1061: Starting in XGBoost 1.3.0, the default evaluation metric used with the objective 'binary:logistic' was changed from 'error' to 'logloss'. Explicitly set eval_metric if you'd like to restore the old behavior.\n"
     ]
    },
    {
     "data": {
      "image/png": "[encoded data removed]",
      "text/plain": [
       "<Figure size 576x576 with 1 Axes>"
      ]
     },
     "metadata": {},
     "output_type": "display_data"
    }
   ],
   "source": [
    "# Initialize plot\n",
    "fig = plt.figure(figsize=(8,8))\n",
    "plt.title('Receiver Operating Characteristic')\n",
    "\n",
    "\n",
    "# ---- DT---- #\n",
    "\n",
    "# Predicts X_test using model\n",
    "DTModel = DecisionTreeClassifier(criterion = 'entropy', random_state = 0)\n",
    "DTModel.fit(training_features, training_target)\n",
    "DT_pred = DTModel.predict_proba(test_features)\n",
    "DT_pred = [p[1] for p in DT_pred]\n",
    "    \n",
    "# Calculates ROC curve\n",
    "fpr, tpr, thresholds = roc_curve(test_target, DT_pred)\n",
    "    \n",
    "# Calculates AUROC\n",
    "auroc = round(auc(fpr, tpr), 3)\n",
    "    \n",
    "# Plots ROC curve and labels with AUROC\n",
    "plt.plot(fpr, tpr, label='{} AUROC = {}'.format('Decision Tree', auroc))\n",
    "\n",
    "\n",
    "# ---- LR ---- #\n",
    "\n",
    "# Predicts test_features using model\n",
    "LR = LogisticRegression(random_state = 0, solver='newton-cg', max_iter=1000)\n",
    "LR.fit(training_features, training_target)\n",
    "LR_pred = LR.predict_proba(test_features)\n",
    "LR_pred = [p[1] for p in LR_pred]\n",
    "    \n",
    "# Calculates ROC curve\n",
    "fpr, tpr, thresholds = roc_curve(test_target, LR_pred)\n",
    "    \n",
    "# Calculates AUROC\n",
    "auroc = round(auc(fpr, tpr), 3)\n",
    "    \n",
    "# Plots ROC curve and labels with AUROC\n",
    "plt.plot(fpr, tpr, label='{} AUROC = {}'.format('LR', auroc))\n",
    "\n",
    "\n",
    "# ---- KNN ---- #\n",
    "\n",
    "# Predicts test_features using model\n",
    "KNN = KNeighborsClassifier(n_neighbors = 57)\n",
    "KNN.fit(training_features, training_target)\n",
    "KNN_pred = KNN.predict_proba(test_features)\n",
    "KNN_pred = [p[1] for p in KNN_pred]\n",
    "    \n",
    "# Calculates ROC curve\n",
    "fpr, tpr, thresholds = roc_curve(test_target, KNN_pred)\n",
    "    \n",
    "# Calculates AUROC\n",
    "auroc = round(auc(fpr, tpr), 3)\n",
    "    \n",
    "# Plots ROC curve and labels with AUROC\n",
    "plt.plot(fpr, tpr, label='{} AUROC = {}'.format('KNN', auroc))\n",
    "\n",
    "\n",
    "\n",
    "# ---- NB---- #\n",
    "\n",
    "# Predicts test_features using model\n",
    "NB = GaussianNB()\n",
    "NB.fit(training_features, training_target)\n",
    "NB_pred = NB.predict_proba(test_features)\n",
    "NB_pred = [p[1] for p in NB_pred]\n",
    "    \n",
    "# Calculates ROC curve\n",
    "fpr, tpr, thresholds = roc_curve(test_target, NB_pred)\n",
    "    \n",
    "# Calculates AUROC\n",
    "auroc = round(auc(fpr, tpr), 3)\n",
    "    \n",
    "# Plots ROC curve and labels with AUROC\n",
    "plt.plot(fpr, tpr, label='{} AUROC = {}'.format('NB', auroc))\n",
    "\n",
    "\n",
    "\n",
    "# ---- SVM---- #\n",
    "\n",
    "# Predicts test_features using model\n",
    "# SVM = SVC(kernel = 'linear', random_state = 0)\n",
    "# SVM.fit(training_features, training_target)\n",
    "# SVM_pred = SVM.predict_proba(test_features)\n",
    "# SVM_pred = [p[1] for p in SVM_pred]\n",
    "    \n",
    "# Calculates ROC curve\n",
    "# fpr, tpr, thresholds = roc_curve(test_target, SVM_pred)\n",
    "    \n",
    "# Calculates AUROC\n",
    "# auroc = round(auc(fpr, tpr), 3)\n",
    "    \n",
    "# Plots ROC curve and labels with AUROC\n",
    "# plt.plot(fpr, tpr, label='{} AUROC = {}'.format('SVM', auroc))\n",
    "\n",
    "\n",
    "\n",
    "# ---- KSVM---- #\n",
    "\n",
    "# Predicts test_features using model\n",
    "# KSVM = SVC(kernel = 'rbf', random_state = 0)\n",
    "# KSVM.fit(training_features, training_target)\n",
    "# KSVM_pred = KSVM.predict_proba(test_features)\n",
    "# KSVM_pred = [p[1] for p in KSVM_pred]\n",
    "    \n",
    "# Calculates ROC curve\n",
    "# fpr, tpr, thresholds = roc_curve(test_target, KSVM_pred)\n",
    "    \n",
    "# Calculates AUROC\n",
    "# auroc = round(auc(fpr, tpr), 3)\n",
    "    \n",
    "# Plots ROC curve and labels with AUROC\n",
    "# plt.plot(fpr, tpr, label='{} AUROC = {}'.format('KSVM', auroc))\n",
    "\n",
    "\n",
    "\n",
    "# ---- RF ---- #\n",
    "\n",
    "# Predicts test_features using model\n",
    "RF = RandomForestClassifier(n_estimators=87, random_state=42)\n",
    "RF.fit(training_features, training_target)\n",
    "RF_pred = RF.predict_proba(test_features)\n",
    "RF_pred = [p[1] for p in RF_pred]\n",
    "    \n",
    "# Calculates ROC curve\n",
    "fpr, tpr, thresholds = roc_curve(test_target, RF_pred)\n",
    "    \n",
    "# Calculates AUROC\n",
    "auroc = round(auc(fpr, tpr), 3)\n",
    "    \n",
    "# Plots ROC curve and labels with AUROC\n",
    "plt.plot(fpr, tpr, label='{} AUROC = {}'.format('RF', auroc))\n",
    "\n",
    "\n",
    "\n",
    "# ---- GB ---- #\n",
    "\n",
    "# Predicts X_test using model\n",
    "GBModel = GradientBoostingClassifier()\n",
    "GBModel.fit(training_features, training_target)\n",
    "GB_pred = GBModel.predict_proba(test_features)\n",
    "GB_pred = [p[1] for p in GB_pred]\n",
    "    \n",
    "# Calculates ROC curve\n",
    "fpr, tpr, thresholds = roc_curve(test_target, GB_pred)\n",
    "    \n",
    "# Calculates AUROC\n",
    "auroc = round(auc(fpr, tpr), 3)\n",
    "    \n",
    "# Plots ROC curve and labels with AUROC\n",
    "plt.plot(fpr, tpr, label='{} AUROC = {}'.format('Gradient Boosting', auroc))\n",
    "\n",
    "\n",
    "\n",
    "# ---- ADABOOST ---- #\n",
    "\n",
    "# Predicts X_test using model\n",
    "ADAModel = AdaBoostClassifier()\n",
    "ADAModel.fit(training_features, training_target)\n",
    "ADAModel_pred = ADAModel.predict_proba(test_features)\n",
    "ADAModel_pred = [p[1] for p in ADAModel_pred]\n",
    "    \n",
    "# Calculates ROC curve\n",
    "fpr, tpr, thresholds = roc_curve(test_target, ADAModel_pred)\n",
    "    \n",
    "# Calculates AUROC\n",
    "auroc = round(auc(fpr, tpr), 3)\n",
    "    \n",
    "# Plots ROC curve and labels with AUROC\n",
    "plt.plot(fpr, tpr, label='{} AUROC = {}'.format('Ada Boosting', auroc))\n",
    "\n",
    "\n",
    "\n",
    "# ---- Bagging ---- #\n",
    "\n",
    "# Predicts X_test using model\n",
    "BModel = BaggingClassifier(tree.DecisionTreeClassifier(random_state=45))\n",
    "BModel.fit(training_features, training_target)\n",
    "BModel_pred = BModel.predict_proba(test_features)\n",
    "BModel_pred = [p[1] for p in BModel_pred]\n",
    "    \n",
    "# Calculates ROC curve\n",
    "fpr, tpr, thresholds = roc_curve(test_target, BModel_pred)\n",
    "    \n",
    "# Calculates AUROC\n",
    "auroc = round(auc(fpr, tpr), 3)\n",
    "    \n",
    "# Plots ROC curve and labels with AUROC\n",
    "plt.plot(fpr, tpr, label='{} AUROC = {}'.format('Bagging', auroc))\n",
    "\n",
    "\n",
    "\n",
    "# ---- XGBoost ---- #\n",
    "\n",
    "# Predicts X_test using model\n",
    "XGB = XGBClassifier()\n",
    "XGB.fit(training_features, training_target)\n",
    "XGB_pred = XGB.predict_proba(test_features)\n",
    "XGB_pred = [p[1] for p in XGB_pred]\n",
    "    \n",
    "# Calculates ROC curve\n",
    "fpr, tpr, thresholds = roc_curve(test_target, XGB_pred)\n",
    "    \n",
    "# Calculates AUROC\n",
    "auroc = round(auc(fpr, tpr), 3)\n",
    "    \n",
    "# Plots ROC curve and labels with AUROC\n",
    "plt.plot(fpr, tpr, label='{} AUROC = {}'.format('XGBoost', auroc))\n",
    "\n",
    "\n",
    "\n",
    "# ---- Legend and labels ---- #\n",
    "\n",
    "# Plot legend\n",
    "plt.legend(loc='lower right')\n",
    "\n",
    "# Plots 45 degree dotted black line\n",
    "plt.plot([0,1],[0,1],'k--')\n",
    "\n",
    "# Axes limits and labels\n",
    "plt.xlim([-0.1,1.1])\n",
    "plt.ylim([-0.1,1.1])\n",
    "plt.ylabel('True Positive Rate')\n",
    "plt.xlabel('False Positive Rate')\n",
    "plt.show()"
   ]
  },
  {
   "cell_type": "markdown",
   "metadata": {},
   "source": [
    "### XGBoost Parameter Tuning with Random Search"
   ]
  },
  {
   "cell_type": "code",
   "execution_count": 60,
   "metadata": {},
   "outputs": [
    {
     "name": "stdout",
     "output_type": "stream",
     "text": [
      "Fitting 10 folds for each of 96 candidates, totalling 960 fits\n"
     ]
    },
    {
     "name": "stderr",
     "output_type": "stream",
     "text": [
      "[Parallel(n_jobs=10)]: Using backend LokyBackend with 10 concurrent workers.\n",
      "[Parallel(n_jobs=10)]: Done  30 tasks      | elapsed:    4.7s\n",
      "[Parallel(n_jobs=10)]: Done 180 tasks      | elapsed:   19.9s\n",
      "[Parallel(n_jobs=10)]: Done 430 tasks      | elapsed:   51.5s\n",
      "[Parallel(n_jobs=10)]: Done 780 tasks      | elapsed:  1.6min\n",
      "[Parallel(n_jobs=10)]: Done 960 out of 960 | elapsed:  2.1min finished\n"
     ]
    },
    {
     "name": "stdout",
     "output_type": "stream",
     "text": [
      "[11:48:27] WARNING: C:/Users/Administrator/workspace/xgboost-win64_release_1.3.0/src/learner.cc:1061: Starting in XGBoost 1.3.0, the default evaluation metric used with the objective 'binary:logistic' was changed from 'error' to 'logloss'. Explicitly set eval_metric if you'd like to restore the old behavior.\n"
     ]
    },
    {
     "data": {
      "text/plain": [
       "GridSearchCV(cv=10,\n",
       "             estimator=XGBClassifier(base_score=None, booster=None,\n",
       "                                     colsample_bylevel=None,\n",
       "                                     colsample_bynode=None,\n",
       "                                     colsample_bytree=None, gamma=None,\n",
       "                                     gpu_id=None, importance_type='gain',\n",
       "                                     interaction_constraints=None,\n",
       "                                     learning_rate=None, max_delta_step=None,\n",
       "                                     max_depth=None, min_child_weight=None,\n",
       "                                     missing=nan, monotone_constraints=None,\n",
       "                                     n_estimators=100, n_jobs=None, nthread=4,\n",
       "                                     num_parallel_tree=None, random_state=None,\n",
       "                                     reg_alpha=None, reg_lambda=None,\n",
       "                                     scale_pos_weight=None, seed=42,\n",
       "                                     subsample=None, tree_method=None,\n",
       "                                     validate_parameters=None, verbosity=None),\n",
       "             n_jobs=10,\n",
       "             param_grid={'learning_rate': [0.1, 0.01, 0.05],\n",
       "                         'max_depth': range(2, 10),\n",
       "                         'n_estimators': range(60, 220, 40)},\n",
       "             scoring='roc_auc', verbose=True)"
      ]
     },
     "execution_count": 60,
     "metadata": {},
     "output_type": "execute_result"
    }
   ],
   "source": [
    "XGB = XGBClassifier(\n",
    "    objective= 'binary:logistic',\n",
    "    nthread=4,\n",
    "    seed=42\n",
    ")\n",
    "\n",
    "\n",
    "parameters = {\n",
    "    'max_depth': range (2, 10, 1),\n",
    "    'n_estimators': range(60, 220, 40),\n",
    "    'learning_rate': [0.1, 0.01, 0.05]\n",
    "}\n",
    "\n",
    "\n",
    "\n",
    "gbc_random = GridSearchCV(estimator=XGB,\n",
    "param_grid=parameters,\n",
    "    scoring = 'roc_auc',\n",
    "    n_jobs = 10,\n",
    "    cv = 10,\n",
    "    verbose=True\n",
    ")\n",
    "\n",
    "gbc_random.fit(training_features, training_target)"
   ]
  },
  {
   "cell_type": "code",
   "execution_count": 61,
   "metadata": {},
   "outputs": [
    {
     "data": {
      "text/plain": [
       "XGBClassifier(base_score=0.5, booster='gbtree', colsample_bylevel=1,\n",
       "              colsample_bynode=1, colsample_bytree=1, gamma=0, gpu_id=-1,\n",
       "              importance_type='gain', interaction_constraints='',\n",
       "              learning_rate=0.1, max_delta_step=0, max_depth=8,\n",
       "              min_child_weight=1, missing=nan, monotone_constraints='()',\n",
       "              n_estimators=180, n_jobs=4, nthread=4, num_parallel_tree=1,\n",
       "              random_state=42, reg_alpha=0, reg_lambda=1, scale_pos_weight=1,\n",
       "              seed=42, subsample=1, tree_method='exact', validate_parameters=1,\n",
       "              verbosity=None)"
      ]
     },
     "execution_count": 61,
     "metadata": {},
     "output_type": "execute_result"
    }
   ],
   "source": [
    "gbc_random.best_estimator_"
   ]
  },
  {
   "cell_type": "code",
   "execution_count": 62,
   "metadata": {},
   "outputs": [
    {
     "name": "stdout",
     "output_type": "stream",
     "text": [
      "[11:48:29] WARNING: C:/Users/Administrator/workspace/xgboost-win64_release_1.3.0/src/learner.cc:1061: Starting in XGBoost 1.3.0, the default evaluation metric used with the objective 'binary:logistic' was changed from 'error' to 'logloss'. Explicitly set eval_metric if you'd like to restore the old behavior.\n",
      "[11:48:29] WARNING: C:/Users/Administrator/workspace/xgboost-win64_release_1.3.0/src/learner.cc:1061: Starting in XGBoost 1.3.0, the default evaluation metric used with the objective 'binary:logistic' was changed from 'error' to 'logloss'. Explicitly set eval_metric if you'd like to restore the old behavior.\n",
      "[11:48:30] WARNING: C:/Users/Administrator/workspace/xgboost-win64_release_1.3.0/src/learner.cc:1061: Starting in XGBoost 1.3.0, the default evaluation metric used with the objective 'binary:logistic' was changed from 'error' to 'logloss'. Explicitly set eval_metric if you'd like to restore the old behavior.\n",
      "[11:48:30] WARNING: C:/Users/Administrator/workspace/xgboost-win64_release_1.3.0/src/learner.cc:1061: Starting in XGBoost 1.3.0, the default evaluation metric used with the objective 'binary:logistic' was changed from 'error' to 'logloss'. Explicitly set eval_metric if you'd like to restore the old behavior.\n",
      "[11:48:31] WARNING: C:/Users/Administrator/workspace/xgboost-win64_release_1.3.0/src/learner.cc:1061: Starting in XGBoost 1.3.0, the default evaluation metric used with the objective 'binary:logistic' was changed from 'error' to 'logloss'. Explicitly set eval_metric if you'd like to restore the old behavior.\n",
      "[11:48:31] WARNING: C:/Users/Administrator/workspace/xgboost-win64_release_1.3.0/src/learner.cc:1061: Starting in XGBoost 1.3.0, the default evaluation metric used with the objective 'binary:logistic' was changed from 'error' to 'logloss'. Explicitly set eval_metric if you'd like to restore the old behavior.\n",
      "[11:48:32] WARNING: C:/Users/Administrator/workspace/xgboost-win64_release_1.3.0/src/learner.cc:1061: Starting in XGBoost 1.3.0, the default evaluation metric used with the objective 'binary:logistic' was changed from 'error' to 'logloss'. Explicitly set eval_metric if you'd like to restore the old behavior.\n",
      "[11:48:32] WARNING: C:/Users/Administrator/workspace/xgboost-win64_release_1.3.0/src/learner.cc:1061: Starting in XGBoost 1.3.0, the default evaluation metric used with the objective 'binary:logistic' was changed from 'error' to 'logloss'. Explicitly set eval_metric if you'd like to restore the old behavior.\n",
      "[11:48:33] WARNING: C:/Users/Administrator/workspace/xgboost-win64_release_1.3.0/src/learner.cc:1061: Starting in XGBoost 1.3.0, the default evaluation metric used with the objective 'binary:logistic' was changed from 'error' to 'logloss'. Explicitly set eval_metric if you'd like to restore the old behavior.\n",
      "[11:48:34] WARNING: C:/Users/Administrator/workspace/xgboost-win64_release_1.3.0/src/learner.cc:1061: Starting in XGBoost 1.3.0, the default evaluation metric used with the objective 'binary:logistic' was changed from 'error' to 'logloss'. Explicitly set eval_metric if you'd like to restore the old behavior.\n",
      "[11:48:34] WARNING: C:/Users/Administrator/workspace/xgboost-win64_release_1.3.0/src/learner.cc:1061: Starting in XGBoost 1.3.0, the default evaluation metric used with the objective 'binary:logistic' was changed from 'error' to 'logloss'. Explicitly set eval_metric if you'd like to restore the old behavior.\n",
      "=== Confusion Matrix ===\n",
      "[[743   8]\n",
      " [  8 441]]\n",
      "\n",
      "\n",
      "=== Classification Report ===\n",
      "              precision    recall  f1-score   support\n",
      "\n",
      "           0       0.99      0.99      0.99       751\n",
      "           1       0.98      0.98      0.98       449\n",
      "\n",
      "    accuracy                           0.99      1200\n",
      "   macro avg       0.99      0.99      0.99      1200\n",
      "weighted avg       0.99      0.99      0.99      1200\n",
      "\n",
      "\n",
      "\n",
      "=== All AUC Scores ===\n",
      "[0.99715632 0.99764381 0.99517616 0.99454848 0.99880276 0.98939917\n",
      " 0.95753856 0.98901559 0.99704758 0.97582267]\n",
      "\n",
      "\n",
      "=== Mean AUC Score ===\n",
      "Mean AUC Score - XGBoost Model:  0.9892151084885104\n"
     ]
    }
   ],
   "source": [
    "gbc = XGBClassifier(base_score=0.5, booster='gbtree', colsample_bylevel=1,\n",
    "              colsample_bynode=1, colsample_bytree=1, gamma=0,\n",
    "              learning_rate=0.1, max_delta_step=0, max_depth=8,\n",
    "              min_child_weight=1, missing=None, n_estimators=180, n_jobs=1,\n",
    "              nthread=4, objective='binary:logistic', random_state=0,\n",
    "              reg_alpha=0, reg_lambda=1, scale_pos_weight=1, seed=42,\n",
    "              silent=None, subsample=1, verbosity=1) \n",
    "\n",
    "gbc.fit(training_features, training_target)\n",
    "\n",
    "gbc_predict = gbc.predict(test_features)\n",
    "\n",
    "gbc_cv_score = cross_val_score(gbc, X, y, cv=10, scoring='roc_auc')\n",
    "print(\"=== Confusion Matrix ===\")\n",
    "print(confusion_matrix(test_target, gbc_predict))\n",
    "print('\\n')\n",
    "\n",
    "print(\"=== Classification Report ===\")\n",
    "print(classification_report(test_target, gbc_predict))\n",
    "print('\\n')\n",
    "\n",
    "print(\"=== All AUC Scores ===\")\n",
    "print(gbc_cv_score)\n",
    "print('\\n')\n",
    "\n",
    "print(\"=== Mean AUC Score ===\")\n",
    "print(\"Mean AUC Score - XGBoost Model: \", gbc_cv_score.mean())"
   ]
  },
  {
   "cell_type": "code",
   "execution_count": null,
   "metadata": {},
   "outputs": [],
   "source": []
  },
  {
   "cell_type": "code",
   "execution_count": null,
   "metadata": {},
   "outputs": [],
   "source": []
  },
  {
   "cell_type": "markdown",
   "metadata": {},
   "source": [
    "### Bagging Parameter Tuning with Random Search"
   ]
  },
  {
   "cell_type": "code",
   "execution_count": 63,
   "metadata": {},
   "outputs": [
    {
     "name": "stdout",
     "output_type": "stream",
     "text": [
      "Fitting 3 folds for each of 10 candidates, totalling 30 fits\n"
     ]
    },
    {
     "name": "stderr",
     "output_type": "stream",
     "text": [
      "[Parallel(n_jobs=-1)]: Using backend LokyBackend with 8 concurrent workers.\n",
      "[Parallel(n_jobs=-1)]: Done  30 out of  30 | elapsed:   47.5s finished\n"
     ]
    },
    {
     "name": "stdout",
     "output_type": "stream",
     "text": [
      "{'n_estimators': 600, 'max_features': 7}\n"
     ]
    }
   ],
   "source": [
    "from sklearn.model_selection import RandomizedSearchCV\n",
    "\n",
    "# number of trees in Bagging\n",
    "n_estimators = [int(x) for x in np.linspace(start = 200, stop = 2000, num = 10)]# number of features at every split\n",
    "max_features = [7] \n",
    "# 'auto', 'sqrt'\n",
    "\n",
    "# max depth\n",
    "# max_depth = [int(x) for x in np.linspace(100, 500, num = 11)]\n",
    "# max_depth.append(None)\n",
    "\n",
    "\n",
    "# create random grid\n",
    "random_grid = {\n",
    " 'n_estimators': n_estimators,\n",
    " 'max_features': max_features\n",
    "# 'max_depth'  : max_depth\n",
    " }\n",
    "# Random search of parameters\n",
    "gbc_random = RandomizedSearchCV(estimator = BModel, param_distributions = random_grid, n_iter = 100, cv = 3, verbose=2, random_state=42, n_jobs = -1)\n",
    "# Fit the model\n",
    "gbc_random.fit(training_features, training_target)\n",
    "# print results\n",
    "print(gbc_random.best_params_)"
   ]
  },
  {
   "cell_type": "code",
   "execution_count": 64,
   "metadata": {},
   "outputs": [
    {
     "name": "stdout",
     "output_type": "stream",
     "text": [
      "=== Confusion Matrix ===\n",
      "[[741  10]\n",
      " [  9 440]]\n",
      "\n",
      "\n",
      "=== Classification Report ===\n",
      "              precision    recall  f1-score   support\n",
      "\n",
      "           0       0.99      0.99      0.99       751\n",
      "           1       0.98      0.98      0.98       449\n",
      "\n",
      "    accuracy                           0.98      1200\n",
      "   macro avg       0.98      0.98      0.98      1200\n",
      "weighted avg       0.98      0.98      0.98      1200\n",
      "\n",
      "\n",
      "\n",
      "=== All AUC Scores ===\n",
      "[0.98099378 0.98582803 0.9375109  0.95991561 0.9935314  0.96874964\n",
      " 0.87340029 0.96987133 0.9773105  0.91958713]\n",
      "\n",
      "\n",
      "=== Mean AUC Score ===\n",
      "Mean AUC Score - Bagging Model:  0.9566698600197027\n"
     ]
    }
   ],
   "source": [
    "gbc = BaggingClassifier(n_estimators =200, max_features= 7) \n",
    "\n",
    "gbc.fit(training_features, training_target)\n",
    "\n",
    "gbc_predict = gbc.predict(test_features)\n",
    "\n",
    "gbc_cv_score = cross_val_score(gbc, X, y, cv=10, scoring='roc_auc')\n",
    "\n",
    "print(\"=== Confusion Matrix ===\")\n",
    "print(confusion_matrix(test_target, gbc_predict))\n",
    "print('\\n')\n",
    "\n",
    "print(\"=== Classification Report ===\")\n",
    "print(classification_report(test_target, gbc_predict))\n",
    "print('\\n')\n",
    "\n",
    "print(\"=== All AUC Scores ===\")\n",
    "print(gbc_cv_score)\n",
    "print('\\n')\n",
    "\n",
    "print(\"=== Mean AUC Score ===\")\n",
    "print(\"Mean AUC Score - Bagging Model: \", gbc_cv_score.mean())"
   ]
  },
  {
   "cell_type": "code",
   "execution_count": null,
   "metadata": {},
   "outputs": [],
   "source": []
  }
 ],
 "metadata": {
  "kernelspec": {
   "display_name": "Python 3",
   "language": "python",
   "name": "python3"
  },
  "language_info": {
   "codemirror_mode": {
    "name": "ipython",
    "version": 3
   },
   "file_extension": ".py",
   "mimetype": "text/x-python",
   "name": "python",
   "nbconvert_exporter": "python",
   "pygments_lexer": "ipython3",
   "version": "3.8.3"
  }
 },
 "nbformat": 4,
 "nbformat_minor": 4
}
