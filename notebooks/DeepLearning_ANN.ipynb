{
 "cells": [
  {
   "cell_type": "code",
   "execution_count": 5,
   "metadata": {},
   "outputs": [],
   "source": [
    "# Importing the libraries\n",
    "import numpy as np\n",
    "import matplotlib.pyplot as plt\n",
    "import pandas as pd\n",
    "\n",
    "\n",
    "import seaborn as sns\n",
    "sns.set()  #  Will import Seaborn functionalities\n",
    "\n",
    "# we don't like warnings\n",
    "# you can comment the following 2 lines if you'd like to\n",
    "import warnings\n",
    "warnings.filterwarnings('ignore')"
   ]
  },
  {
   "cell_type": "code",
   "execution_count": 6,
   "metadata": {},
   "outputs": [],
   "source": [
    "# Disply all Columns\n",
    "pd.options.display.max_columns=15"
   ]
  },
  {
   "cell_type": "code",
   "execution_count": 7,
   "metadata": {},
   "outputs": [
    {
     "data": {
      "text/html": [
       "<div>\n",
       "<style scoped>\n",
       "    .dataframe tbody tr th:only-of-type {\n",
       "        vertical-align: middle;\n",
       "    }\n",
       "\n",
       "    .dataframe tbody tr th {\n",
       "        vertical-align: top;\n",
       "    }\n",
       "\n",
       "    .dataframe thead th {\n",
       "        text-align: right;\n",
       "    }\n",
       "</style>\n",
       "<table border=\"1\" class=\"dataframe\">\n",
       "  <thead>\n",
       "    <tr style=\"text-align: right;\">\n",
       "      <th></th>\n",
       "      <th>budget</th>\n",
       "      <th>country</th>\n",
       "      <th>director</th>\n",
       "      <th>genre</th>\n",
       "      <th>gross</th>\n",
       "      <th>name</th>\n",
       "      <th>rating</th>\n",
       "      <th>runtime</th>\n",
       "      <th>score</th>\n",
       "      <th>star</th>\n",
       "      <th>studio</th>\n",
       "      <th>votes</th>\n",
       "    </tr>\n",
       "  </thead>\n",
       "  <tbody>\n",
       "    <tr>\n",
       "      <th>0</th>\n",
       "      <td>237000000.0</td>\n",
       "      <td>UK</td>\n",
       "      <td>James Cameron</td>\n",
       "      <td>Action</td>\n",
       "      <td>760507625.0</td>\n",
       "      <td>Avatar (2009)</td>\n",
       "      <td>PG-13</td>\n",
       "      <td>162</td>\n",
       "      <td>7.8</td>\n",
       "      <td>Sam Worthington</td>\n",
       "      <td>Twentieth Century Fox Film Corporation</td>\n",
       "      <td>958400</td>\n",
       "    </tr>\n",
       "    <tr>\n",
       "      <th>1</th>\n",
       "      <td>200000000.0</td>\n",
       "      <td>USA</td>\n",
       "      <td>James Cameron</td>\n",
       "      <td>Drama</td>\n",
       "      <td>658672302.0</td>\n",
       "      <td>Titanic (1997)</td>\n",
       "      <td>PG-13</td>\n",
       "      <td>194</td>\n",
       "      <td>7.8</td>\n",
       "      <td>Leonardo DiCaprio</td>\n",
       "      <td>Twentieth Century Fox Film Corporation</td>\n",
       "      <td>865551</td>\n",
       "    </tr>\n",
       "    <tr>\n",
       "      <th>2</th>\n",
       "      <td>150000000.0</td>\n",
       "      <td>USA</td>\n",
       "      <td>Colin Trevorrow</td>\n",
       "      <td>Action</td>\n",
       "      <td>652270625.0</td>\n",
       "      <td>Jurassic World (2015)</td>\n",
       "      <td>PG-13</td>\n",
       "      <td>124</td>\n",
       "      <td>7.0</td>\n",
       "      <td>Chris Pratt</td>\n",
       "      <td>Universal Pictures</td>\n",
       "      <td>470625</td>\n",
       "    </tr>\n",
       "    <tr>\n",
       "      <th>3</th>\n",
       "      <td>220000000.0</td>\n",
       "      <td>USA</td>\n",
       "      <td>Joss Whedon</td>\n",
       "      <td>Action</td>\n",
       "      <td>623357910.0</td>\n",
       "      <td>The Avengers (2012)</td>\n",
       "      <td>PG-13</td>\n",
       "      <td>143</td>\n",
       "      <td>8.1</td>\n",
       "      <td>Robert Downey Jr.</td>\n",
       "      <td>Marvel Studios</td>\n",
       "      <td>1069292</td>\n",
       "    </tr>\n",
       "    <tr>\n",
       "      <th>4</th>\n",
       "      <td>185000000.0</td>\n",
       "      <td>USA</td>\n",
       "      <td>Christopher Nolan</td>\n",
       "      <td>Action</td>\n",
       "      <td>534858444.0</td>\n",
       "      <td>The Dark Knight (2008)</td>\n",
       "      <td>PG-13</td>\n",
       "      <td>152</td>\n",
       "      <td>9.0</td>\n",
       "      <td>Christian Bale</td>\n",
       "      <td>Warner Bros.</td>\n",
       "      <td>1845853</td>\n",
       "    </tr>\n",
       "  </tbody>\n",
       "</table>\n",
       "</div>"
      ],
      "text/plain": [
       "        budget country           director   genre        gross  \\\n",
       "0  237000000.0      UK      James Cameron  Action  760507625.0   \n",
       "1  200000000.0     USA      James Cameron   Drama  658672302.0   \n",
       "2  150000000.0     USA    Colin Trevorrow  Action  652270625.0   \n",
       "3  220000000.0     USA        Joss Whedon  Action  623357910.0   \n",
       "4  185000000.0     USA  Christopher Nolan  Action  534858444.0   \n",
       "\n",
       "                     name rating  runtime  score               star  \\\n",
       "0           Avatar (2009)  PG-13      162    7.8    Sam Worthington   \n",
       "1          Titanic (1997)  PG-13      194    7.8  Leonardo DiCaprio   \n",
       "2   Jurassic World (2015)  PG-13      124    7.0        Chris Pratt   \n",
       "3     The Avengers (2012)  PG-13      143    8.1  Robert Downey Jr.   \n",
       "4  The Dark Knight (2008)  PG-13      152    9.0     Christian Bale   \n",
       "\n",
       "                                   studio    votes  \n",
       "0  Twentieth Century Fox Film Corporation   958400  \n",
       "1  Twentieth Century Fox Film Corporation   865551  \n",
       "2                      Universal Pictures   470625  \n",
       "3                          Marvel Studios  1069292  \n",
       "4                            Warner Bros.  1845853  "
      ]
     },
     "execution_count": 7,
     "metadata": {},
     "output_type": "execute_result"
    }
   ],
   "source": [
    "Box_officeANN = pd.read_csv('box_office_predictions.csv') \n",
    "Box_officeANN.head()"
   ]
  },
  {
   "cell_type": "code",
   "execution_count": 8,
   "metadata": {},
   "outputs": [
    {
     "name": "stdout",
     "output_type": "stream",
     "text": [
      "<class 'pandas.core.frame.DataFrame'>\n",
      "RangeIndex: 6000 entries, 0 to 5999\n",
      "Data columns (total 12 columns):\n",
      " #   Column    Non-Null Count  Dtype  \n",
      "---  ------    --------------  -----  \n",
      " 0   budget    6000 non-null   float64\n",
      " 1   country   6000 non-null   object \n",
      " 2   director  6000 non-null   object \n",
      " 3   genre     6000 non-null   object \n",
      " 4   gross     6000 non-null   float64\n",
      " 5   name      6000 non-null   object \n",
      " 6   rating    6000 non-null   object \n",
      " 7   runtime   6000 non-null   int64  \n",
      " 8   score     6000 non-null   float64\n",
      " 9   star      6000 non-null   object \n",
      " 10  studio    6000 non-null   object \n",
      " 11  votes     6000 non-null   int64  \n",
      "dtypes: float64(3), int64(2), object(7)\n",
      "memory usage: 562.6+ KB\n"
     ]
    }
   ],
   "source": [
    "Box_officeANN.info()"
   ]
  },
  {
   "cell_type": "code",
   "execution_count": 9,
   "metadata": {},
   "outputs": [
    {
     "data": {
      "text/html": [
       "<div>\n",
       "<style scoped>\n",
       "    .dataframe tbody tr th:only-of-type {\n",
       "        vertical-align: middle;\n",
       "    }\n",
       "\n",
       "    .dataframe tbody tr th {\n",
       "        vertical-align: top;\n",
       "    }\n",
       "\n",
       "    .dataframe thead th {\n",
       "        text-align: right;\n",
       "    }\n",
       "</style>\n",
       "<table border=\"1\" class=\"dataframe\">\n",
       "  <thead>\n",
       "    <tr style=\"text-align: right;\">\n",
       "      <th></th>\n",
       "      <th>country</th>\n",
       "      <th>director</th>\n",
       "      <th>genre</th>\n",
       "      <th>name</th>\n",
       "      <th>rating</th>\n",
       "      <th>star</th>\n",
       "      <th>studio</th>\n",
       "    </tr>\n",
       "  </thead>\n",
       "  <tbody>\n",
       "    <tr>\n",
       "      <th>count</th>\n",
       "      <td>6000</td>\n",
       "      <td>6000</td>\n",
       "      <td>6000</td>\n",
       "      <td>6000</td>\n",
       "      <td>6000</td>\n",
       "      <td>6000</td>\n",
       "      <td>6000</td>\n",
       "    </tr>\n",
       "    <tr>\n",
       "      <th>unique</th>\n",
       "      <td>52</td>\n",
       "      <td>2549</td>\n",
       "      <td>17</td>\n",
       "      <td>6000</td>\n",
       "      <td>13</td>\n",
       "      <td>2317</td>\n",
       "      <td>1996</td>\n",
       "    </tr>\n",
       "    <tr>\n",
       "      <th>top</th>\n",
       "      <td>USA</td>\n",
       "      <td>Woody Allen</td>\n",
       "      <td>Comedy</td>\n",
       "      <td>Avatar (2009)</td>\n",
       "      <td>R</td>\n",
       "      <td>Nicolas Cage</td>\n",
       "      <td>Universal Pictures</td>\n",
       "    </tr>\n",
       "    <tr>\n",
       "      <th>freq</th>\n",
       "      <td>4281</td>\n",
       "      <td>29</td>\n",
       "      <td>1818</td>\n",
       "      <td>1</td>\n",
       "      <td>3009</td>\n",
       "      <td>38</td>\n",
       "      <td>269</td>\n",
       "    </tr>\n",
       "  </tbody>\n",
       "</table>\n",
       "</div>"
      ],
      "text/plain": [
       "       country     director   genre           name rating          star  \\\n",
       "count     6000         6000    6000           6000   6000          6000   \n",
       "unique      52         2549      17           6000     13          2317   \n",
       "top        USA  Woody Allen  Comedy  Avatar (2009)      R  Nicolas Cage   \n",
       "freq      4281           29    1818              1   3009            38   \n",
       "\n",
       "                    studio  \n",
       "count                 6000  \n",
       "unique                1996  \n",
       "top     Universal Pictures  \n",
       "freq                   269  "
      ]
     },
     "execution_count": 9,
     "metadata": {},
     "output_type": "execute_result"
    }
   ],
   "source": [
    "Box_officeANN.describe(include=['object', 'bool', 'category'])"
   ]
  },
  {
   "cell_type": "code",
   "execution_count": 10,
   "metadata": {},
   "outputs": [
    {
     "data": {
      "text/html": [
       "<div>\n",
       "<style scoped>\n",
       "    .dataframe tbody tr th:only-of-type {\n",
       "        vertical-align: middle;\n",
       "    }\n",
       "\n",
       "    .dataframe tbody tr th {\n",
       "        vertical-align: top;\n",
       "    }\n",
       "\n",
       "    .dataframe thead th {\n",
       "        text-align: right;\n",
       "    }\n",
       "</style>\n",
       "<table border=\"1\" class=\"dataframe\">\n",
       "  <thead>\n",
       "    <tr style=\"text-align: right;\">\n",
       "      <th></th>\n",
       "      <th>budget</th>\n",
       "      <th>country</th>\n",
       "      <th>director</th>\n",
       "      <th>genre</th>\n",
       "      <th>gross</th>\n",
       "      <th>name</th>\n",
       "      <th>rating</th>\n",
       "      <th>runtime</th>\n",
       "      <th>score</th>\n",
       "      <th>star</th>\n",
       "      <th>studio</th>\n",
       "      <th>votes</th>\n",
       "    </tr>\n",
       "  </thead>\n",
       "  <tbody>\n",
       "    <tr>\n",
       "      <th>0</th>\n",
       "      <td>237000000.0</td>\n",
       "      <td>UK</td>\n",
       "      <td>James Cameron</td>\n",
       "      <td>Action</td>\n",
       "      <td>760507625.0</td>\n",
       "      <td>Avatar (2009)</td>\n",
       "      <td>PG-13</td>\n",
       "      <td>162</td>\n",
       "      <td>7.8</td>\n",
       "      <td>Sam Worthington</td>\n",
       "      <td>Twentieth Century Fox Film Corporation</td>\n",
       "      <td>958400</td>\n",
       "    </tr>\n",
       "    <tr>\n",
       "      <th>1</th>\n",
       "      <td>200000000.0</td>\n",
       "      <td>USA</td>\n",
       "      <td>James Cameron</td>\n",
       "      <td>Drama</td>\n",
       "      <td>658672302.0</td>\n",
       "      <td>Titanic (1997)</td>\n",
       "      <td>PG-13</td>\n",
       "      <td>194</td>\n",
       "      <td>7.8</td>\n",
       "      <td>Leonardo DiCaprio</td>\n",
       "      <td>Twentieth Century Fox Film Corporation</td>\n",
       "      <td>865551</td>\n",
       "    </tr>\n",
       "    <tr>\n",
       "      <th>2</th>\n",
       "      <td>150000000.0</td>\n",
       "      <td>USA</td>\n",
       "      <td>Colin Trevorrow</td>\n",
       "      <td>Action</td>\n",
       "      <td>652270625.0</td>\n",
       "      <td>Jurassic World (2015)</td>\n",
       "      <td>PG-13</td>\n",
       "      <td>124</td>\n",
       "      <td>7.0</td>\n",
       "      <td>Chris Pratt</td>\n",
       "      <td>Universal Pictures</td>\n",
       "      <td>470625</td>\n",
       "    </tr>\n",
       "    <tr>\n",
       "      <th>3</th>\n",
       "      <td>220000000.0</td>\n",
       "      <td>USA</td>\n",
       "      <td>Joss Whedon</td>\n",
       "      <td>Action</td>\n",
       "      <td>623357910.0</td>\n",
       "      <td>The Avengers (2012)</td>\n",
       "      <td>PG-13</td>\n",
       "      <td>143</td>\n",
       "      <td>8.1</td>\n",
       "      <td>Robert Downey Jr.</td>\n",
       "      <td>Marvel Studios</td>\n",
       "      <td>1069292</td>\n",
       "    </tr>\n",
       "    <tr>\n",
       "      <th>4</th>\n",
       "      <td>185000000.0</td>\n",
       "      <td>USA</td>\n",
       "      <td>Christopher Nolan</td>\n",
       "      <td>Action</td>\n",
       "      <td>534858444.0</td>\n",
       "      <td>The Dark Knight (2008)</td>\n",
       "      <td>PG-13</td>\n",
       "      <td>152</td>\n",
       "      <td>9.0</td>\n",
       "      <td>Christian Bale</td>\n",
       "      <td>Warner Bros.</td>\n",
       "      <td>1845853</td>\n",
       "    </tr>\n",
       "  </tbody>\n",
       "</table>\n",
       "</div>"
      ],
      "text/plain": [
       "        budget country           director   genre        gross  \\\n",
       "0  237000000.0      UK      James Cameron  Action  760507625.0   \n",
       "1  200000000.0     USA      James Cameron   Drama  658672302.0   \n",
       "2  150000000.0     USA    Colin Trevorrow  Action  652270625.0   \n",
       "3  220000000.0     USA        Joss Whedon  Action  623357910.0   \n",
       "4  185000000.0     USA  Christopher Nolan  Action  534858444.0   \n",
       "\n",
       "                     name rating  runtime  score               star  \\\n",
       "0           Avatar (2009)  PG-13      162    7.8    Sam Worthington   \n",
       "1          Titanic (1997)  PG-13      194    7.8  Leonardo DiCaprio   \n",
       "2   Jurassic World (2015)  PG-13      124    7.0        Chris Pratt   \n",
       "3     The Avengers (2012)  PG-13      143    8.1  Robert Downey Jr.   \n",
       "4  The Dark Knight (2008)  PG-13      152    9.0     Christian Bale   \n",
       "\n",
       "                                   studio    votes  \n",
       "0  Twentieth Century Fox Film Corporation   958400  \n",
       "1  Twentieth Century Fox Film Corporation   865551  \n",
       "2                      Universal Pictures   470625  \n",
       "3                          Marvel Studios  1069292  \n",
       "4                            Warner Bros.  1845853  "
      ]
     },
     "execution_count": 10,
     "metadata": {},
     "output_type": "execute_result"
    }
   ],
   "source": [
    "Box_office_v2ANN = Box_officeANN.copy()\n",
    "Box_office_v2ANN.head()"
   ]
  },
  {
   "cell_type": "markdown",
   "metadata": {},
   "source": [
    "# Missing values"
   ]
  },
  {
   "cell_type": "code",
   "execution_count": 11,
   "metadata": {},
   "outputs": [
    {
     "data": {
      "text/plain": [
       "11000000.0"
      ]
     },
     "execution_count": 11,
     "metadata": {},
     "output_type": "execute_result"
    }
   ],
   "source": [
    "median_budget = Box_office_v2ANN.budget.median()\n",
    "median_budget"
   ]
  },
  {
   "cell_type": "code",
   "execution_count": 12,
   "metadata": {},
   "outputs": [],
   "source": [
    "Box_office_v2ANN['budget'] = Box_office_v2ANN['budget'].replace({0: 11000000})"
   ]
  },
  {
   "cell_type": "code",
   "execution_count": 13,
   "metadata": {},
   "outputs": [
    {
     "data": {
      "text/plain": [
       "11000000.0    1966\n",
       "20000000.0     166\n",
       "30000000.0     164\n",
       "25000000.0     160\n",
       "15000000.0     152\n",
       "              ... \n",
       "16200000.0       1\n",
       "17700000.0       1\n",
       "21150000.0       1\n",
       "25100000.0       1\n",
       "20000.0          1\n",
       "Name: budget, Length: 337, dtype: int64"
      ]
     },
     "execution_count": 13,
     "metadata": {},
     "output_type": "execute_result"
    }
   ],
   "source": [
    "Box_office_v2ANN['budget'].value_counts()"
   ]
  },
  {
   "cell_type": "markdown",
   "metadata": {},
   "source": [
    "# Adding TV"
   ]
  },
  {
   "cell_type": "code",
   "execution_count": 14,
   "metadata": {},
   "outputs": [
    {
     "data": {
      "text/plain": [
       "0       523507625.0\n",
       "1       458672302.0\n",
       "2       502270625.0\n",
       "3       403357910.0\n",
       "4       349858444.0\n",
       "           ...     \n",
       "5995    -10998857.0\n",
       "5996    -10999172.0\n",
       "5997    -10999453.0\n",
       "5998    -10999458.0\n",
       "5999    -10999559.0\n",
       "Length: 6000, dtype: float64"
      ]
     },
     "execution_count": 14,
     "metadata": {},
     "output_type": "execute_result"
    }
   ],
   "source": [
    "Profit = Box_office_v2ANN[\"gross\"] - Box_office_v2ANN['budget']\n",
    "Profit"
   ]
  },
  {
   "cell_type": "code",
   "execution_count": 15,
   "metadata": {},
   "outputs": [
    {
     "data": {
      "text/plain": [
       "0       220.889293\n",
       "1       229.336151\n",
       "2       334.847083\n",
       "3       183.344505\n",
       "4       189.112672\n",
       "           ...    \n",
       "5995    -99.989609\n",
       "5996    -99.992473\n",
       "5997    -99.995027\n",
       "5998    -99.995073\n",
       "5999    -99.995991\n",
       "Length: 6000, dtype: float64"
      ]
     },
     "execution_count": 15,
     "metadata": {},
     "output_type": "execute_result"
    }
   ],
   "source": [
    "ROI = (Box_office_v2ANN['gross'] - Box_office_v2ANN['budget'])/Box_office_v2ANN['budget']*100\n",
    "ROI"
   ]
  },
  {
   "cell_type": "code",
   "execution_count": 16,
   "metadata": {},
   "outputs": [],
   "source": [
    "Box_office_v2ANN['Profit'] = Profit\n",
    "Box_office_v2ANN['ROI'] = ROI"
   ]
  },
  {
   "cell_type": "code",
   "execution_count": 17,
   "metadata": {},
   "outputs": [],
   "source": [
    "Box_office_v2ANN['ROI'] = np.where(Box_office_v2ANN['ROI'] > 0.95, 1, 0)"
   ]
  },
  {
   "cell_type": "code",
   "execution_count": 18,
   "metadata": {},
   "outputs": [
    {
     "data": {
      "text/html": [
       "<div>\n",
       "<style scoped>\n",
       "    .dataframe tbody tr th:only-of-type {\n",
       "        vertical-align: middle;\n",
       "    }\n",
       "\n",
       "    .dataframe tbody tr th {\n",
       "        vertical-align: top;\n",
       "    }\n",
       "\n",
       "    .dataframe thead th {\n",
       "        text-align: right;\n",
       "    }\n",
       "</style>\n",
       "<table border=\"1\" class=\"dataframe\">\n",
       "  <thead>\n",
       "    <tr style=\"text-align: right;\">\n",
       "      <th></th>\n",
       "      <th>budget</th>\n",
       "      <th>country</th>\n",
       "      <th>director</th>\n",
       "      <th>genre</th>\n",
       "      <th>gross</th>\n",
       "      <th>name</th>\n",
       "      <th>rating</th>\n",
       "      <th>runtime</th>\n",
       "      <th>score</th>\n",
       "      <th>star</th>\n",
       "      <th>studio</th>\n",
       "      <th>votes</th>\n",
       "      <th>Profit</th>\n",
       "      <th>ROI</th>\n",
       "    </tr>\n",
       "  </thead>\n",
       "  <tbody>\n",
       "    <tr>\n",
       "      <th>0</th>\n",
       "      <td>237000000.0</td>\n",
       "      <td>UK</td>\n",
       "      <td>James Cameron</td>\n",
       "      <td>Action</td>\n",
       "      <td>760507625.0</td>\n",
       "      <td>Avatar (2009)</td>\n",
       "      <td>PG-13</td>\n",
       "      <td>162</td>\n",
       "      <td>7.8</td>\n",
       "      <td>Sam Worthington</td>\n",
       "      <td>Twentieth Century Fox Film Corporation</td>\n",
       "      <td>958400</td>\n",
       "      <td>523507625.0</td>\n",
       "      <td>1</td>\n",
       "    </tr>\n",
       "    <tr>\n",
       "      <th>1</th>\n",
       "      <td>200000000.0</td>\n",
       "      <td>USA</td>\n",
       "      <td>James Cameron</td>\n",
       "      <td>Drama</td>\n",
       "      <td>658672302.0</td>\n",
       "      <td>Titanic (1997)</td>\n",
       "      <td>PG-13</td>\n",
       "      <td>194</td>\n",
       "      <td>7.8</td>\n",
       "      <td>Leonardo DiCaprio</td>\n",
       "      <td>Twentieth Century Fox Film Corporation</td>\n",
       "      <td>865551</td>\n",
       "      <td>458672302.0</td>\n",
       "      <td>1</td>\n",
       "    </tr>\n",
       "    <tr>\n",
       "      <th>2</th>\n",
       "      <td>150000000.0</td>\n",
       "      <td>USA</td>\n",
       "      <td>Colin Trevorrow</td>\n",
       "      <td>Action</td>\n",
       "      <td>652270625.0</td>\n",
       "      <td>Jurassic World (2015)</td>\n",
       "      <td>PG-13</td>\n",
       "      <td>124</td>\n",
       "      <td>7.0</td>\n",
       "      <td>Chris Pratt</td>\n",
       "      <td>Universal Pictures</td>\n",
       "      <td>470625</td>\n",
       "      <td>502270625.0</td>\n",
       "      <td>1</td>\n",
       "    </tr>\n",
       "    <tr>\n",
       "      <th>3</th>\n",
       "      <td>220000000.0</td>\n",
       "      <td>USA</td>\n",
       "      <td>Joss Whedon</td>\n",
       "      <td>Action</td>\n",
       "      <td>623357910.0</td>\n",
       "      <td>The Avengers (2012)</td>\n",
       "      <td>PG-13</td>\n",
       "      <td>143</td>\n",
       "      <td>8.1</td>\n",
       "      <td>Robert Downey Jr.</td>\n",
       "      <td>Marvel Studios</td>\n",
       "      <td>1069292</td>\n",
       "      <td>403357910.0</td>\n",
       "      <td>1</td>\n",
       "    </tr>\n",
       "    <tr>\n",
       "      <th>4</th>\n",
       "      <td>185000000.0</td>\n",
       "      <td>USA</td>\n",
       "      <td>Christopher Nolan</td>\n",
       "      <td>Action</td>\n",
       "      <td>534858444.0</td>\n",
       "      <td>The Dark Knight (2008)</td>\n",
       "      <td>PG-13</td>\n",
       "      <td>152</td>\n",
       "      <td>9.0</td>\n",
       "      <td>Christian Bale</td>\n",
       "      <td>Warner Bros.</td>\n",
       "      <td>1845853</td>\n",
       "      <td>349858444.0</td>\n",
       "      <td>1</td>\n",
       "    </tr>\n",
       "    <tr>\n",
       "      <th>...</th>\n",
       "      <td>...</td>\n",
       "      <td>...</td>\n",
       "      <td>...</td>\n",
       "      <td>...</td>\n",
       "      <td>...</td>\n",
       "      <td>...</td>\n",
       "      <td>...</td>\n",
       "      <td>...</td>\n",
       "      <td>...</td>\n",
       "      <td>...</td>\n",
       "      <td>...</td>\n",
       "      <td>...</td>\n",
       "      <td>...</td>\n",
       "      <td>...</td>\n",
       "    </tr>\n",
       "    <tr>\n",
       "      <th>5995</th>\n",
       "      <td>11000000.0</td>\n",
       "      <td>UK</td>\n",
       "      <td>Dominic Anciano</td>\n",
       "      <td>Comedy</td>\n",
       "      <td>1143.0</td>\n",
       "      <td>Love, Honor and Obey (2000)</td>\n",
       "      <td>R</td>\n",
       "      <td>103</td>\n",
       "      <td>6.5</td>\n",
       "      <td>Sadie Frost</td>\n",
       "      <td>British Broadcasting Corporation (BBC)</td>\n",
       "      <td>4557</td>\n",
       "      <td>-10998857.0</td>\n",
       "      <td>0</td>\n",
       "    </tr>\n",
       "    <tr>\n",
       "      <th>5996</th>\n",
       "      <td>11000000.0</td>\n",
       "      <td>Ireland</td>\n",
       "      <td>Ian Fitzgibbon</td>\n",
       "      <td>Action</td>\n",
       "      <td>828.0</td>\n",
       "      <td>Perrier's Bounty (2009)</td>\n",
       "      <td>R</td>\n",
       "      <td>88</td>\n",
       "      <td>6.4</td>\n",
       "      <td>Gabriel Byrne</td>\n",
       "      <td>Parallel Film Productions</td>\n",
       "      <td>5540</td>\n",
       "      <td>-10999172.0</td>\n",
       "      <td>0</td>\n",
       "    </tr>\n",
       "    <tr>\n",
       "      <th>5997</th>\n",
       "      <td>11000000.0</td>\n",
       "      <td>Norway</td>\n",
       "      <td>Petter Næss</td>\n",
       "      <td>Action</td>\n",
       "      <td>547.0</td>\n",
       "      <td>Into the White (2012)</td>\n",
       "      <td>R</td>\n",
       "      <td>104</td>\n",
       "      <td>7.2</td>\n",
       "      <td>Florian Lukas</td>\n",
       "      <td>Zentropa International Norway</td>\n",
       "      <td>16674</td>\n",
       "      <td>-10999453.0</td>\n",
       "      <td>0</td>\n",
       "    </tr>\n",
       "    <tr>\n",
       "      <th>5998</th>\n",
       "      <td>11000000.0</td>\n",
       "      <td>UK</td>\n",
       "      <td>Sheree Folkson</td>\n",
       "      <td>Comedy</td>\n",
       "      <td>542.0</td>\n",
       "      <td>The Decoy Bride (2011)</td>\n",
       "      <td>PG</td>\n",
       "      <td>89</td>\n",
       "      <td>6.2</td>\n",
       "      <td>Kelly Macdonald</td>\n",
       "      <td>Isle of Man Film</td>\n",
       "      <td>9055</td>\n",
       "      <td>-10999458.0</td>\n",
       "      <td>0</td>\n",
       "    </tr>\n",
       "    <tr>\n",
       "      <th>5999</th>\n",
       "      <td>11000000.0</td>\n",
       "      <td>USA</td>\n",
       "      <td>Steven R. Monroe</td>\n",
       "      <td>Crime</td>\n",
       "      <td>441.0</td>\n",
       "      <td>I Spit on Your Grave 2 (2013)</td>\n",
       "      <td>R</td>\n",
       "      <td>106</td>\n",
       "      <td>5.7</td>\n",
       "      <td>Jemma Dallender</td>\n",
       "      <td>Cinetel Films</td>\n",
       "      <td>21145</td>\n",
       "      <td>-10999559.0</td>\n",
       "      <td>0</td>\n",
       "    </tr>\n",
       "  </tbody>\n",
       "</table>\n",
       "<p>6000 rows × 14 columns</p>\n",
       "</div>"
      ],
      "text/plain": [
       "           budget  country           director   genre        gross  \\\n",
       "0     237000000.0       UK      James Cameron  Action  760507625.0   \n",
       "1     200000000.0      USA      James Cameron   Drama  658672302.0   \n",
       "2     150000000.0      USA    Colin Trevorrow  Action  652270625.0   \n",
       "3     220000000.0      USA        Joss Whedon  Action  623357910.0   \n",
       "4     185000000.0      USA  Christopher Nolan  Action  534858444.0   \n",
       "...           ...      ...                ...     ...          ...   \n",
       "5995   11000000.0       UK    Dominic Anciano  Comedy       1143.0   \n",
       "5996   11000000.0  Ireland     Ian Fitzgibbon  Action        828.0   \n",
       "5997   11000000.0   Norway        Petter Næss  Action        547.0   \n",
       "5998   11000000.0       UK     Sheree Folkson  Comedy        542.0   \n",
       "5999   11000000.0      USA   Steven R. Monroe   Crime        441.0   \n",
       "\n",
       "                               name rating  runtime  score               star  \\\n",
       "0                     Avatar (2009)  PG-13      162    7.8    Sam Worthington   \n",
       "1                    Titanic (1997)  PG-13      194    7.8  Leonardo DiCaprio   \n",
       "2             Jurassic World (2015)  PG-13      124    7.0        Chris Pratt   \n",
       "3               The Avengers (2012)  PG-13      143    8.1  Robert Downey Jr.   \n",
       "4            The Dark Knight (2008)  PG-13      152    9.0     Christian Bale   \n",
       "...                             ...    ...      ...    ...                ...   \n",
       "5995    Love, Honor and Obey (2000)      R      103    6.5        Sadie Frost   \n",
       "5996        Perrier's Bounty (2009)      R       88    6.4      Gabriel Byrne   \n",
       "5997          Into the White (2012)      R      104    7.2      Florian Lukas   \n",
       "5998         The Decoy Bride (2011)     PG       89    6.2    Kelly Macdonald   \n",
       "5999  I Spit on Your Grave 2 (2013)      R      106    5.7    Jemma Dallender   \n",
       "\n",
       "                                      studio    votes       Profit  ROI  \n",
       "0     Twentieth Century Fox Film Corporation   958400  523507625.0    1  \n",
       "1     Twentieth Century Fox Film Corporation   865551  458672302.0    1  \n",
       "2                         Universal Pictures   470625  502270625.0    1  \n",
       "3                             Marvel Studios  1069292  403357910.0    1  \n",
       "4                               Warner Bros.  1845853  349858444.0    1  \n",
       "...                                      ...      ...          ...  ...  \n",
       "5995  British Broadcasting Corporation (BBC)     4557  -10998857.0    0  \n",
       "5996               Parallel Film Productions     5540  -10999172.0    0  \n",
       "5997           Zentropa International Norway    16674  -10999453.0    0  \n",
       "5998                        Isle of Man Film     9055  -10999458.0    0  \n",
       "5999                           Cinetel Films    21145  -10999559.0    0  \n",
       "\n",
       "[6000 rows x 14 columns]"
      ]
     },
     "execution_count": 18,
     "metadata": {},
     "output_type": "execute_result"
    }
   ],
   "source": [
    "Box_office_v2ANN"
   ]
  },
  {
   "cell_type": "code",
   "execution_count": 19,
   "metadata": {},
   "outputs": [
    {
     "data": {
      "text/plain": [
       "0    3628\n",
       "1    2372\n",
       "Name: ROI, dtype: int64"
      ]
     },
     "execution_count": 19,
     "metadata": {},
     "output_type": "execute_result"
    }
   ],
   "source": [
    "Box_office_v2ANN['ROI'].value_counts()"
   ]
  },
  {
   "cell_type": "code",
   "execution_count": 20,
   "metadata": {},
   "outputs": [
    {
     "name": "stdout",
     "output_type": "stream",
     "text": [
      "<class 'pandas.core.frame.DataFrame'>\n",
      "RangeIndex: 6000 entries, 0 to 5999\n",
      "Data columns (total 14 columns):\n",
      " #   Column    Non-Null Count  Dtype  \n",
      "---  ------    --------------  -----  \n",
      " 0   budget    6000 non-null   float64\n",
      " 1   country   6000 non-null   object \n",
      " 2   director  6000 non-null   object \n",
      " 3   genre     6000 non-null   object \n",
      " 4   gross     6000 non-null   float64\n",
      " 5   name      6000 non-null   object \n",
      " 6   rating    6000 non-null   object \n",
      " 7   runtime   6000 non-null   int64  \n",
      " 8   score     6000 non-null   float64\n",
      " 9   star      6000 non-null   object \n",
      " 10  studio    6000 non-null   object \n",
      " 11  votes     6000 non-null   int64  \n",
      " 12  Profit    6000 non-null   float64\n",
      " 13  ROI       6000 non-null   int32  \n",
      "dtypes: float64(4), int32(1), int64(2), object(7)\n",
      "memory usage: 632.9+ KB\n"
     ]
    }
   ],
   "source": [
    "Box_office_v2ANN.info()"
   ]
  },
  {
   "cell_type": "code",
   "execution_count": 21,
   "metadata": {},
   "outputs": [
    {
     "data": {
      "text/plain": [
       "0    0.604667\n",
       "1    0.395333\n",
       "Name: ROI, dtype: float64"
      ]
     },
     "execution_count": 21,
     "metadata": {},
     "output_type": "execute_result"
    }
   ],
   "source": [
    "Box_office_v2ANN['ROI'].value_counts(normalize=True)"
   ]
  },
  {
   "cell_type": "code",
   "execution_count": 22,
   "metadata": {},
   "outputs": [],
   "source": [
    "to_delete = ['Profit']"
   ]
  },
  {
   "cell_type": "code",
   "execution_count": 23,
   "metadata": {},
   "outputs": [],
   "source": [
    "Box_office_v2ANN = Box_office_v2ANN.drop(to_delete, axis = 1 )"
   ]
  },
  {
   "cell_type": "code",
   "execution_count": 24,
   "metadata": {},
   "outputs": [
    {
     "name": "stdout",
     "output_type": "stream",
     "text": [
      "<class 'pandas.core.frame.DataFrame'>\n",
      "RangeIndex: 6000 entries, 0 to 5999\n",
      "Data columns (total 13 columns):\n",
      " #   Column    Non-Null Count  Dtype  \n",
      "---  ------    --------------  -----  \n",
      " 0   budget    6000 non-null   float64\n",
      " 1   country   6000 non-null   object \n",
      " 2   director  6000 non-null   object \n",
      " 3   genre     6000 non-null   object \n",
      " 4   gross     6000 non-null   float64\n",
      " 5   name      6000 non-null   object \n",
      " 6   rating    6000 non-null   object \n",
      " 7   runtime   6000 non-null   int64  \n",
      " 8   score     6000 non-null   float64\n",
      " 9   star      6000 non-null   object \n",
      " 10  studio    6000 non-null   object \n",
      " 11  votes     6000 non-null   int64  \n",
      " 12  ROI       6000 non-null   int32  \n",
      "dtypes: float64(3), int32(1), int64(2), object(7)\n",
      "memory usage: 586.1+ KB\n"
     ]
    }
   ],
   "source": [
    "Box_office_v2ANN.info()"
   ]
  },
  {
   "cell_type": "markdown",
   "metadata": {},
   "source": [
    "# One-Hot Encoding"
   ]
  },
  {
   "cell_type": "code",
   "execution_count": 25,
   "metadata": {},
   "outputs": [
    {
     "data": {
      "text/html": [
       "<div>\n",
       "<style scoped>\n",
       "    .dataframe tbody tr th:only-of-type {\n",
       "        vertical-align: middle;\n",
       "    }\n",
       "\n",
       "    .dataframe tbody tr th {\n",
       "        vertical-align: top;\n",
       "    }\n",
       "\n",
       "    .dataframe thead th {\n",
       "        text-align: right;\n",
       "    }\n",
       "</style>\n",
       "<table border=\"1\" class=\"dataframe\">\n",
       "  <thead>\n",
       "    <tr style=\"text-align: right;\">\n",
       "      <th></th>\n",
       "      <th>budget</th>\n",
       "      <th>country</th>\n",
       "      <th>director</th>\n",
       "      <th>genre</th>\n",
       "      <th>gross</th>\n",
       "      <th>name</th>\n",
       "      <th>rating</th>\n",
       "      <th>runtime</th>\n",
       "      <th>score</th>\n",
       "      <th>star</th>\n",
       "      <th>studio</th>\n",
       "      <th>votes</th>\n",
       "      <th>ROI</th>\n",
       "    </tr>\n",
       "  </thead>\n",
       "  <tbody>\n",
       "    <tr>\n",
       "      <th>0</th>\n",
       "      <td>237000000.0</td>\n",
       "      <td>UK</td>\n",
       "      <td>James Cameron</td>\n",
       "      <td>Action</td>\n",
       "      <td>760507625.0</td>\n",
       "      <td>Avatar (2009)</td>\n",
       "      <td>PG-13</td>\n",
       "      <td>162</td>\n",
       "      <td>7.8</td>\n",
       "      <td>Sam Worthington</td>\n",
       "      <td>Twentieth Century Fox Film Corporation</td>\n",
       "      <td>958400</td>\n",
       "      <td>1</td>\n",
       "    </tr>\n",
       "    <tr>\n",
       "      <th>1</th>\n",
       "      <td>200000000.0</td>\n",
       "      <td>USA</td>\n",
       "      <td>James Cameron</td>\n",
       "      <td>Drama</td>\n",
       "      <td>658672302.0</td>\n",
       "      <td>Titanic (1997)</td>\n",
       "      <td>PG-13</td>\n",
       "      <td>194</td>\n",
       "      <td>7.8</td>\n",
       "      <td>Leonardo DiCaprio</td>\n",
       "      <td>Twentieth Century Fox Film Corporation</td>\n",
       "      <td>865551</td>\n",
       "      <td>1</td>\n",
       "    </tr>\n",
       "    <tr>\n",
       "      <th>2</th>\n",
       "      <td>150000000.0</td>\n",
       "      <td>USA</td>\n",
       "      <td>Colin Trevorrow</td>\n",
       "      <td>Action</td>\n",
       "      <td>652270625.0</td>\n",
       "      <td>Jurassic World (2015)</td>\n",
       "      <td>PG-13</td>\n",
       "      <td>124</td>\n",
       "      <td>7.0</td>\n",
       "      <td>Chris Pratt</td>\n",
       "      <td>Universal Pictures</td>\n",
       "      <td>470625</td>\n",
       "      <td>1</td>\n",
       "    </tr>\n",
       "    <tr>\n",
       "      <th>3</th>\n",
       "      <td>220000000.0</td>\n",
       "      <td>USA</td>\n",
       "      <td>Joss Whedon</td>\n",
       "      <td>Action</td>\n",
       "      <td>623357910.0</td>\n",
       "      <td>The Avengers (2012)</td>\n",
       "      <td>PG-13</td>\n",
       "      <td>143</td>\n",
       "      <td>8.1</td>\n",
       "      <td>Robert Downey Jr.</td>\n",
       "      <td>Marvel Studios</td>\n",
       "      <td>1069292</td>\n",
       "      <td>1</td>\n",
       "    </tr>\n",
       "    <tr>\n",
       "      <th>4</th>\n",
       "      <td>185000000.0</td>\n",
       "      <td>USA</td>\n",
       "      <td>Christopher Nolan</td>\n",
       "      <td>Action</td>\n",
       "      <td>534858444.0</td>\n",
       "      <td>The Dark Knight (2008)</td>\n",
       "      <td>PG-13</td>\n",
       "      <td>152</td>\n",
       "      <td>9.0</td>\n",
       "      <td>Christian Bale</td>\n",
       "      <td>Warner Bros.</td>\n",
       "      <td>1845853</td>\n",
       "      <td>1</td>\n",
       "    </tr>\n",
       "    <tr>\n",
       "      <th>...</th>\n",
       "      <td>...</td>\n",
       "      <td>...</td>\n",
       "      <td>...</td>\n",
       "      <td>...</td>\n",
       "      <td>...</td>\n",
       "      <td>...</td>\n",
       "      <td>...</td>\n",
       "      <td>...</td>\n",
       "      <td>...</td>\n",
       "      <td>...</td>\n",
       "      <td>...</td>\n",
       "      <td>...</td>\n",
       "      <td>...</td>\n",
       "    </tr>\n",
       "    <tr>\n",
       "      <th>5995</th>\n",
       "      <td>11000000.0</td>\n",
       "      <td>UK</td>\n",
       "      <td>Dominic Anciano</td>\n",
       "      <td>Comedy</td>\n",
       "      <td>1143.0</td>\n",
       "      <td>Love, Honor and Obey (2000)</td>\n",
       "      <td>R</td>\n",
       "      <td>103</td>\n",
       "      <td>6.5</td>\n",
       "      <td>Sadie Frost</td>\n",
       "      <td>British Broadcasting Corporation (BBC)</td>\n",
       "      <td>4557</td>\n",
       "      <td>0</td>\n",
       "    </tr>\n",
       "    <tr>\n",
       "      <th>5996</th>\n",
       "      <td>11000000.0</td>\n",
       "      <td>Ireland</td>\n",
       "      <td>Ian Fitzgibbon</td>\n",
       "      <td>Action</td>\n",
       "      <td>828.0</td>\n",
       "      <td>Perrier's Bounty (2009)</td>\n",
       "      <td>R</td>\n",
       "      <td>88</td>\n",
       "      <td>6.4</td>\n",
       "      <td>Gabriel Byrne</td>\n",
       "      <td>Parallel Film Productions</td>\n",
       "      <td>5540</td>\n",
       "      <td>0</td>\n",
       "    </tr>\n",
       "    <tr>\n",
       "      <th>5997</th>\n",
       "      <td>11000000.0</td>\n",
       "      <td>Norway</td>\n",
       "      <td>Petter Næss</td>\n",
       "      <td>Action</td>\n",
       "      <td>547.0</td>\n",
       "      <td>Into the White (2012)</td>\n",
       "      <td>R</td>\n",
       "      <td>104</td>\n",
       "      <td>7.2</td>\n",
       "      <td>Florian Lukas</td>\n",
       "      <td>Zentropa International Norway</td>\n",
       "      <td>16674</td>\n",
       "      <td>0</td>\n",
       "    </tr>\n",
       "    <tr>\n",
       "      <th>5998</th>\n",
       "      <td>11000000.0</td>\n",
       "      <td>UK</td>\n",
       "      <td>Sheree Folkson</td>\n",
       "      <td>Comedy</td>\n",
       "      <td>542.0</td>\n",
       "      <td>The Decoy Bride (2011)</td>\n",
       "      <td>PG</td>\n",
       "      <td>89</td>\n",
       "      <td>6.2</td>\n",
       "      <td>Kelly Macdonald</td>\n",
       "      <td>Isle of Man Film</td>\n",
       "      <td>9055</td>\n",
       "      <td>0</td>\n",
       "    </tr>\n",
       "    <tr>\n",
       "      <th>5999</th>\n",
       "      <td>11000000.0</td>\n",
       "      <td>USA</td>\n",
       "      <td>Steven R. Monroe</td>\n",
       "      <td>Crime</td>\n",
       "      <td>441.0</td>\n",
       "      <td>I Spit on Your Grave 2 (2013)</td>\n",
       "      <td>R</td>\n",
       "      <td>106</td>\n",
       "      <td>5.7</td>\n",
       "      <td>Jemma Dallender</td>\n",
       "      <td>Cinetel Films</td>\n",
       "      <td>21145</td>\n",
       "      <td>0</td>\n",
       "    </tr>\n",
       "  </tbody>\n",
       "</table>\n",
       "<p>6000 rows × 13 columns</p>\n",
       "</div>"
      ],
      "text/plain": [
       "           budget  country           director   genre        gross  \\\n",
       "0     237000000.0       UK      James Cameron  Action  760507625.0   \n",
       "1     200000000.0      USA      James Cameron   Drama  658672302.0   \n",
       "2     150000000.0      USA    Colin Trevorrow  Action  652270625.0   \n",
       "3     220000000.0      USA        Joss Whedon  Action  623357910.0   \n",
       "4     185000000.0      USA  Christopher Nolan  Action  534858444.0   \n",
       "...           ...      ...                ...     ...          ...   \n",
       "5995   11000000.0       UK    Dominic Anciano  Comedy       1143.0   \n",
       "5996   11000000.0  Ireland     Ian Fitzgibbon  Action        828.0   \n",
       "5997   11000000.0   Norway        Petter Næss  Action        547.0   \n",
       "5998   11000000.0       UK     Sheree Folkson  Comedy        542.0   \n",
       "5999   11000000.0      USA   Steven R. Monroe   Crime        441.0   \n",
       "\n",
       "                               name rating  runtime  score               star  \\\n",
       "0                     Avatar (2009)  PG-13      162    7.8    Sam Worthington   \n",
       "1                    Titanic (1997)  PG-13      194    7.8  Leonardo DiCaprio   \n",
       "2             Jurassic World (2015)  PG-13      124    7.0        Chris Pratt   \n",
       "3               The Avengers (2012)  PG-13      143    8.1  Robert Downey Jr.   \n",
       "4            The Dark Knight (2008)  PG-13      152    9.0     Christian Bale   \n",
       "...                             ...    ...      ...    ...                ...   \n",
       "5995    Love, Honor and Obey (2000)      R      103    6.5        Sadie Frost   \n",
       "5996        Perrier's Bounty (2009)      R       88    6.4      Gabriel Byrne   \n",
       "5997          Into the White (2012)      R      104    7.2      Florian Lukas   \n",
       "5998         The Decoy Bride (2011)     PG       89    6.2    Kelly Macdonald   \n",
       "5999  I Spit on Your Grave 2 (2013)      R      106    5.7    Jemma Dallender   \n",
       "\n",
       "                                      studio    votes  ROI  \n",
       "0     Twentieth Century Fox Film Corporation   958400    1  \n",
       "1     Twentieth Century Fox Film Corporation   865551    1  \n",
       "2                         Universal Pictures   470625    1  \n",
       "3                             Marvel Studios  1069292    1  \n",
       "4                               Warner Bros.  1845853    1  \n",
       "...                                      ...      ...  ...  \n",
       "5995  British Broadcasting Corporation (BBC)     4557    0  \n",
       "5996               Parallel Film Productions     5540    0  \n",
       "5997           Zentropa International Norway    16674    0  \n",
       "5998                        Isle of Man Film     9055    0  \n",
       "5999                           Cinetel Films    21145    0  \n",
       "\n",
       "[6000 rows x 13 columns]"
      ]
     },
     "execution_count": 25,
     "metadata": {},
     "output_type": "execute_result"
    }
   ],
   "source": [
    "Box_office_copyANN = Box_office_v2ANN.copy()\n",
    "Box_office_copyANN"
   ]
  },
  {
   "cell_type": "code",
   "execution_count": 26,
   "metadata": {},
   "outputs": [
    {
     "data": {
      "text/plain": [
       "Index(['country', 'director', 'genre', 'name', 'rating', 'star', 'studio'], dtype='object')"
      ]
     },
     "execution_count": 26,
     "metadata": {},
     "output_type": "execute_result"
    }
   ],
   "source": [
    "data_column_category = Box_office_copyANN.select_dtypes(exclude=[np.number]).columns\n",
    "data_column_category"
   ]
  },
  {
   "cell_type": "code",
   "execution_count": 27,
   "metadata": {},
   "outputs": [],
   "source": [
    "#Performing Onehot Encoding\n",
    "from sklearn.preprocessing import OneHotEncoder\n",
    "onehot_encoder = OneHotEncoder(sparse=False)\n",
    "\n",
    "onehot_encoded = onehot_encoder.fit_transform(Box_office_copyANN[data_column_category])"
   ]
  },
  {
   "cell_type": "code",
   "execution_count": 28,
   "metadata": {},
   "outputs": [
    {
     "data": {
      "text/html": [
       "<div>\n",
       "<style scoped>\n",
       "    .dataframe tbody tr th:only-of-type {\n",
       "        vertical-align: middle;\n",
       "    }\n",
       "\n",
       "    .dataframe tbody tr th {\n",
       "        vertical-align: top;\n",
       "    }\n",
       "\n",
       "    .dataframe thead th {\n",
       "        text-align: right;\n",
       "    }\n",
       "</style>\n",
       "<table border=\"1\" class=\"dataframe\">\n",
       "  <thead>\n",
       "    <tr style=\"text-align: right;\">\n",
       "      <th></th>\n",
       "      <th>country_Argentina</th>\n",
       "      <th>country_Australia</th>\n",
       "      <th>country_Austria</th>\n",
       "      <th>country_Bahamas</th>\n",
       "      <th>country_Belgium</th>\n",
       "      <th>country_Brazil</th>\n",
       "      <th>country_Canada</th>\n",
       "      <th>...</th>\n",
       "      <th>studio_Zentropa Productions</th>\n",
       "      <th>studio_Zeta Entertainment</th>\n",
       "      <th>studio_Zucker Brothers Productions</th>\n",
       "      <th>studio_double A Films</th>\n",
       "      <th>studio_erbp</th>\n",
       "      <th>studio_i5 Films</th>\n",
       "      <th>studio_micro_scope</th>\n",
       "    </tr>\n",
       "  </thead>\n",
       "  <tbody>\n",
       "    <tr>\n",
       "      <th>0</th>\n",
       "      <td>0.0</td>\n",
       "      <td>0.0</td>\n",
       "      <td>0.0</td>\n",
       "      <td>0.0</td>\n",
       "      <td>0.0</td>\n",
       "      <td>0.0</td>\n",
       "      <td>0.0</td>\n",
       "      <td>...</td>\n",
       "      <td>0.0</td>\n",
       "      <td>0.0</td>\n",
       "      <td>0.0</td>\n",
       "      <td>0.0</td>\n",
       "      <td>0.0</td>\n",
       "      <td>0.0</td>\n",
       "      <td>0.0</td>\n",
       "    </tr>\n",
       "    <tr>\n",
       "      <th>1</th>\n",
       "      <td>0.0</td>\n",
       "      <td>0.0</td>\n",
       "      <td>0.0</td>\n",
       "      <td>0.0</td>\n",
       "      <td>0.0</td>\n",
       "      <td>0.0</td>\n",
       "      <td>0.0</td>\n",
       "      <td>...</td>\n",
       "      <td>0.0</td>\n",
       "      <td>0.0</td>\n",
       "      <td>0.0</td>\n",
       "      <td>0.0</td>\n",
       "      <td>0.0</td>\n",
       "      <td>0.0</td>\n",
       "      <td>0.0</td>\n",
       "    </tr>\n",
       "    <tr>\n",
       "      <th>2</th>\n",
       "      <td>0.0</td>\n",
       "      <td>0.0</td>\n",
       "      <td>0.0</td>\n",
       "      <td>0.0</td>\n",
       "      <td>0.0</td>\n",
       "      <td>0.0</td>\n",
       "      <td>0.0</td>\n",
       "      <td>...</td>\n",
       "      <td>0.0</td>\n",
       "      <td>0.0</td>\n",
       "      <td>0.0</td>\n",
       "      <td>0.0</td>\n",
       "      <td>0.0</td>\n",
       "      <td>0.0</td>\n",
       "      <td>0.0</td>\n",
       "    </tr>\n",
       "    <tr>\n",
       "      <th>3</th>\n",
       "      <td>0.0</td>\n",
       "      <td>0.0</td>\n",
       "      <td>0.0</td>\n",
       "      <td>0.0</td>\n",
       "      <td>0.0</td>\n",
       "      <td>0.0</td>\n",
       "      <td>0.0</td>\n",
       "      <td>...</td>\n",
       "      <td>0.0</td>\n",
       "      <td>0.0</td>\n",
       "      <td>0.0</td>\n",
       "      <td>0.0</td>\n",
       "      <td>0.0</td>\n",
       "      <td>0.0</td>\n",
       "      <td>0.0</td>\n",
       "    </tr>\n",
       "    <tr>\n",
       "      <th>4</th>\n",
       "      <td>0.0</td>\n",
       "      <td>0.0</td>\n",
       "      <td>0.0</td>\n",
       "      <td>0.0</td>\n",
       "      <td>0.0</td>\n",
       "      <td>0.0</td>\n",
       "      <td>0.0</td>\n",
       "      <td>...</td>\n",
       "      <td>0.0</td>\n",
       "      <td>0.0</td>\n",
       "      <td>0.0</td>\n",
       "      <td>0.0</td>\n",
       "      <td>0.0</td>\n",
       "      <td>0.0</td>\n",
       "      <td>0.0</td>\n",
       "    </tr>\n",
       "  </tbody>\n",
       "</table>\n",
       "<p>5 rows × 12944 columns</p>\n",
       "</div>"
      ],
      "text/plain": [
       "   country_Argentina  country_Australia  country_Austria  country_Bahamas  \\\n",
       "0                0.0                0.0              0.0              0.0   \n",
       "1                0.0                0.0              0.0              0.0   \n",
       "2                0.0                0.0              0.0              0.0   \n",
       "3                0.0                0.0              0.0              0.0   \n",
       "4                0.0                0.0              0.0              0.0   \n",
       "\n",
       "   country_Belgium  country_Brazil  country_Canada  ...  \\\n",
       "0              0.0             0.0             0.0  ...   \n",
       "1              0.0             0.0             0.0  ...   \n",
       "2              0.0             0.0             0.0  ...   \n",
       "3              0.0             0.0             0.0  ...   \n",
       "4              0.0             0.0             0.0  ...   \n",
       "\n",
       "   studio_Zentropa Productions  studio_Zeta Entertainment  \\\n",
       "0                          0.0                        0.0   \n",
       "1                          0.0                        0.0   \n",
       "2                          0.0                        0.0   \n",
       "3                          0.0                        0.0   \n",
       "4                          0.0                        0.0   \n",
       "\n",
       "   studio_Zucker Brothers Productions  studio_double A Films  studio_erbp  \\\n",
       "0                                 0.0                    0.0          0.0   \n",
       "1                                 0.0                    0.0          0.0   \n",
       "2                                 0.0                    0.0          0.0   \n",
       "3                                 0.0                    0.0          0.0   \n",
       "4                                 0.0                    0.0          0.0   \n",
       "\n",
       "   studio_i5 Films  studio_micro_scope  \n",
       "0              0.0                 0.0  \n",
       "1              0.0                 0.0  \n",
       "2              0.0                 0.0  \n",
       "3              0.0                 0.0  \n",
       "4              0.0                 0.0  \n",
       "\n",
       "[5 rows x 12944 columns]"
      ]
     },
     "execution_count": 28,
     "metadata": {},
     "output_type": "execute_result"
    }
   ],
   "source": [
    "onehot_encoded_frame = pd.DataFrame(onehot_encoded, columns = onehot_encoder.get_feature_names(data_column_category))\n",
    "\n",
    "onehot_encoded_frame.head()"
   ]
  },
  {
   "cell_type": "code",
   "execution_count": 29,
   "metadata": {},
   "outputs": [
    {
     "data": {
      "text/plain": [
       "['budget', 'gross', 'runtime', 'score', 'votes', 'ROI']"
      ]
     },
     "execution_count": 29,
     "metadata": {},
     "output_type": "execute_result"
    }
   ],
   "source": [
    "cols_types = Box_office_copyANN.dtypes != 'object'\n",
    "inds = cols_types.index\n",
    "numeric_cols = []\n",
    "for i, col in enumerate(cols_types):\n",
    "    if col:\n",
    "        numeric_cols.append(inds[i])\n",
    "numeric_cols"
   ]
  },
  {
   "cell_type": "code",
   "execution_count": 30,
   "metadata": {},
   "outputs": [],
   "source": [
    "numeric_cols =  Box_office_copyANN.loc[:, numeric_cols]"
   ]
  },
  {
   "cell_type": "code",
   "execution_count": 31,
   "metadata": {},
   "outputs": [
    {
     "data": {
      "text/plain": [
       "Index(['country_Argentina', 'country_Australia', 'country_Austria',\n",
       "       'country_Bahamas', 'country_Belgium', 'country_Brazil',\n",
       "       'country_Canada', 'country_Chile', 'country_China', 'country_Colombia',\n",
       "       ...\n",
       "       'studio_Zenith Entertainment', 'studio_Zentropa Entertainments',\n",
       "       'studio_Zentropa International Norway', 'studio_Zentropa Productions',\n",
       "       'studio_Zeta Entertainment', 'studio_Zucker Brothers Productions',\n",
       "       'studio_double A Films', 'studio_erbp', 'studio_i5 Films',\n",
       "       'studio_micro_scope'],\n",
       "      dtype='object', length=12944)"
      ]
     },
     "execution_count": 31,
     "metadata": {},
     "output_type": "execute_result"
    }
   ],
   "source": [
    "onehot_encoded_frame.columns"
   ]
  },
  {
   "cell_type": "markdown",
   "metadata": {},
   "source": [
    "# Concatenate Cat & Transformed One-Hot encoded data"
   ]
  },
  {
   "cell_type": "code",
   "execution_count": 32,
   "metadata": {},
   "outputs": [
    {
     "data": {
      "text/html": [
       "<div>\n",
       "<style scoped>\n",
       "    .dataframe tbody tr th:only-of-type {\n",
       "        vertical-align: middle;\n",
       "    }\n",
       "\n",
       "    .dataframe tbody tr th {\n",
       "        vertical-align: top;\n",
       "    }\n",
       "\n",
       "    .dataframe thead th {\n",
       "        text-align: right;\n",
       "    }\n",
       "</style>\n",
       "<table border=\"1\" class=\"dataframe\">\n",
       "  <thead>\n",
       "    <tr style=\"text-align: right;\">\n",
       "      <th></th>\n",
       "      <th>budget</th>\n",
       "      <th>gross</th>\n",
       "      <th>runtime</th>\n",
       "      <th>score</th>\n",
       "      <th>votes</th>\n",
       "      <th>ROI</th>\n",
       "      <th>country_Argentina</th>\n",
       "      <th>...</th>\n",
       "      <th>studio_Zentropa Productions</th>\n",
       "      <th>studio_Zeta Entertainment</th>\n",
       "      <th>studio_Zucker Brothers Productions</th>\n",
       "      <th>studio_double A Films</th>\n",
       "      <th>studio_erbp</th>\n",
       "      <th>studio_i5 Films</th>\n",
       "      <th>studio_micro_scope</th>\n",
       "    </tr>\n",
       "  </thead>\n",
       "  <tbody>\n",
       "    <tr>\n",
       "      <th>0</th>\n",
       "      <td>237000000.0</td>\n",
       "      <td>760507625.0</td>\n",
       "      <td>162</td>\n",
       "      <td>7.8</td>\n",
       "      <td>958400</td>\n",
       "      <td>1</td>\n",
       "      <td>0.0</td>\n",
       "      <td>...</td>\n",
       "      <td>0.0</td>\n",
       "      <td>0.0</td>\n",
       "      <td>0.0</td>\n",
       "      <td>0.0</td>\n",
       "      <td>0.0</td>\n",
       "      <td>0.0</td>\n",
       "      <td>0.0</td>\n",
       "    </tr>\n",
       "    <tr>\n",
       "      <th>1</th>\n",
       "      <td>200000000.0</td>\n",
       "      <td>658672302.0</td>\n",
       "      <td>194</td>\n",
       "      <td>7.8</td>\n",
       "      <td>865551</td>\n",
       "      <td>1</td>\n",
       "      <td>0.0</td>\n",
       "      <td>...</td>\n",
       "      <td>0.0</td>\n",
       "      <td>0.0</td>\n",
       "      <td>0.0</td>\n",
       "      <td>0.0</td>\n",
       "      <td>0.0</td>\n",
       "      <td>0.0</td>\n",
       "      <td>0.0</td>\n",
       "    </tr>\n",
       "    <tr>\n",
       "      <th>2</th>\n",
       "      <td>150000000.0</td>\n",
       "      <td>652270625.0</td>\n",
       "      <td>124</td>\n",
       "      <td>7.0</td>\n",
       "      <td>470625</td>\n",
       "      <td>1</td>\n",
       "      <td>0.0</td>\n",
       "      <td>...</td>\n",
       "      <td>0.0</td>\n",
       "      <td>0.0</td>\n",
       "      <td>0.0</td>\n",
       "      <td>0.0</td>\n",
       "      <td>0.0</td>\n",
       "      <td>0.0</td>\n",
       "      <td>0.0</td>\n",
       "    </tr>\n",
       "    <tr>\n",
       "      <th>3</th>\n",
       "      <td>220000000.0</td>\n",
       "      <td>623357910.0</td>\n",
       "      <td>143</td>\n",
       "      <td>8.1</td>\n",
       "      <td>1069292</td>\n",
       "      <td>1</td>\n",
       "      <td>0.0</td>\n",
       "      <td>...</td>\n",
       "      <td>0.0</td>\n",
       "      <td>0.0</td>\n",
       "      <td>0.0</td>\n",
       "      <td>0.0</td>\n",
       "      <td>0.0</td>\n",
       "      <td>0.0</td>\n",
       "      <td>0.0</td>\n",
       "    </tr>\n",
       "    <tr>\n",
       "      <th>4</th>\n",
       "      <td>185000000.0</td>\n",
       "      <td>534858444.0</td>\n",
       "      <td>152</td>\n",
       "      <td>9.0</td>\n",
       "      <td>1845853</td>\n",
       "      <td>1</td>\n",
       "      <td>0.0</td>\n",
       "      <td>...</td>\n",
       "      <td>0.0</td>\n",
       "      <td>0.0</td>\n",
       "      <td>0.0</td>\n",
       "      <td>0.0</td>\n",
       "      <td>0.0</td>\n",
       "      <td>0.0</td>\n",
       "      <td>0.0</td>\n",
       "    </tr>\n",
       "    <tr>\n",
       "      <th>...</th>\n",
       "      <td>...</td>\n",
       "      <td>...</td>\n",
       "      <td>...</td>\n",
       "      <td>...</td>\n",
       "      <td>...</td>\n",
       "      <td>...</td>\n",
       "      <td>...</td>\n",
       "      <td>...</td>\n",
       "      <td>...</td>\n",
       "      <td>...</td>\n",
       "      <td>...</td>\n",
       "      <td>...</td>\n",
       "      <td>...</td>\n",
       "      <td>...</td>\n",
       "      <td>...</td>\n",
       "    </tr>\n",
       "    <tr>\n",
       "      <th>5995</th>\n",
       "      <td>11000000.0</td>\n",
       "      <td>1143.0</td>\n",
       "      <td>103</td>\n",
       "      <td>6.5</td>\n",
       "      <td>4557</td>\n",
       "      <td>0</td>\n",
       "      <td>0.0</td>\n",
       "      <td>...</td>\n",
       "      <td>0.0</td>\n",
       "      <td>0.0</td>\n",
       "      <td>0.0</td>\n",
       "      <td>0.0</td>\n",
       "      <td>0.0</td>\n",
       "      <td>0.0</td>\n",
       "      <td>0.0</td>\n",
       "    </tr>\n",
       "    <tr>\n",
       "      <th>5996</th>\n",
       "      <td>11000000.0</td>\n",
       "      <td>828.0</td>\n",
       "      <td>88</td>\n",
       "      <td>6.4</td>\n",
       "      <td>5540</td>\n",
       "      <td>0</td>\n",
       "      <td>0.0</td>\n",
       "      <td>...</td>\n",
       "      <td>0.0</td>\n",
       "      <td>0.0</td>\n",
       "      <td>0.0</td>\n",
       "      <td>0.0</td>\n",
       "      <td>0.0</td>\n",
       "      <td>0.0</td>\n",
       "      <td>0.0</td>\n",
       "    </tr>\n",
       "    <tr>\n",
       "      <th>5997</th>\n",
       "      <td>11000000.0</td>\n",
       "      <td>547.0</td>\n",
       "      <td>104</td>\n",
       "      <td>7.2</td>\n",
       "      <td>16674</td>\n",
       "      <td>0</td>\n",
       "      <td>0.0</td>\n",
       "      <td>...</td>\n",
       "      <td>0.0</td>\n",
       "      <td>0.0</td>\n",
       "      <td>0.0</td>\n",
       "      <td>0.0</td>\n",
       "      <td>0.0</td>\n",
       "      <td>0.0</td>\n",
       "      <td>0.0</td>\n",
       "    </tr>\n",
       "    <tr>\n",
       "      <th>5998</th>\n",
       "      <td>11000000.0</td>\n",
       "      <td>542.0</td>\n",
       "      <td>89</td>\n",
       "      <td>6.2</td>\n",
       "      <td>9055</td>\n",
       "      <td>0</td>\n",
       "      <td>0.0</td>\n",
       "      <td>...</td>\n",
       "      <td>0.0</td>\n",
       "      <td>0.0</td>\n",
       "      <td>0.0</td>\n",
       "      <td>0.0</td>\n",
       "      <td>0.0</td>\n",
       "      <td>0.0</td>\n",
       "      <td>0.0</td>\n",
       "    </tr>\n",
       "    <tr>\n",
       "      <th>5999</th>\n",
       "      <td>11000000.0</td>\n",
       "      <td>441.0</td>\n",
       "      <td>106</td>\n",
       "      <td>5.7</td>\n",
       "      <td>21145</td>\n",
       "      <td>0</td>\n",
       "      <td>0.0</td>\n",
       "      <td>...</td>\n",
       "      <td>0.0</td>\n",
       "      <td>0.0</td>\n",
       "      <td>0.0</td>\n",
       "      <td>0.0</td>\n",
       "      <td>0.0</td>\n",
       "      <td>0.0</td>\n",
       "      <td>0.0</td>\n",
       "    </tr>\n",
       "  </tbody>\n",
       "</table>\n",
       "<p>6000 rows × 12950 columns</p>\n",
       "</div>"
      ],
      "text/plain": [
       "           budget        gross  runtime  score    votes  ROI  \\\n",
       "0     237000000.0  760507625.0      162    7.8   958400    1   \n",
       "1     200000000.0  658672302.0      194    7.8   865551    1   \n",
       "2     150000000.0  652270625.0      124    7.0   470625    1   \n",
       "3     220000000.0  623357910.0      143    8.1  1069292    1   \n",
       "4     185000000.0  534858444.0      152    9.0  1845853    1   \n",
       "...           ...          ...      ...    ...      ...  ...   \n",
       "5995   11000000.0       1143.0      103    6.5     4557    0   \n",
       "5996   11000000.0        828.0       88    6.4     5540    0   \n",
       "5997   11000000.0        547.0      104    7.2    16674    0   \n",
       "5998   11000000.0        542.0       89    6.2     9055    0   \n",
       "5999   11000000.0        441.0      106    5.7    21145    0   \n",
       "\n",
       "      country_Argentina  ...  studio_Zentropa Productions  \\\n",
       "0                   0.0  ...                          0.0   \n",
       "1                   0.0  ...                          0.0   \n",
       "2                   0.0  ...                          0.0   \n",
       "3                   0.0  ...                          0.0   \n",
       "4                   0.0  ...                          0.0   \n",
       "...                 ...  ...                          ...   \n",
       "5995                0.0  ...                          0.0   \n",
       "5996                0.0  ...                          0.0   \n",
       "5997                0.0  ...                          0.0   \n",
       "5998                0.0  ...                          0.0   \n",
       "5999                0.0  ...                          0.0   \n",
       "\n",
       "      studio_Zeta Entertainment  studio_Zucker Brothers Productions  \\\n",
       "0                           0.0                                 0.0   \n",
       "1                           0.0                                 0.0   \n",
       "2                           0.0                                 0.0   \n",
       "3                           0.0                                 0.0   \n",
       "4                           0.0                                 0.0   \n",
       "...                         ...                                 ...   \n",
       "5995                        0.0                                 0.0   \n",
       "5996                        0.0                                 0.0   \n",
       "5997                        0.0                                 0.0   \n",
       "5998                        0.0                                 0.0   \n",
       "5999                        0.0                                 0.0   \n",
       "\n",
       "      studio_double A Films  studio_erbp  studio_i5 Films  studio_micro_scope  \n",
       "0                       0.0          0.0              0.0                 0.0  \n",
       "1                       0.0          0.0              0.0                 0.0  \n",
       "2                       0.0          0.0              0.0                 0.0  \n",
       "3                       0.0          0.0              0.0                 0.0  \n",
       "4                       0.0          0.0              0.0                 0.0  \n",
       "...                     ...          ...              ...                 ...  \n",
       "5995                    0.0          0.0              0.0                 0.0  \n",
       "5996                    0.0          0.0              0.0                 0.0  \n",
       "5997                    0.0          0.0              0.0                 0.0  \n",
       "5998                    0.0          0.0              0.0                 0.0  \n",
       "5999                    0.0          0.0              0.0                 0.0  \n",
       "\n",
       "[6000 rows x 12950 columns]"
      ]
     },
     "execution_count": 32,
     "metadata": {},
     "output_type": "execute_result"
    }
   ],
   "source": [
    "Box_office_copyANN= pd.concat([numeric_cols,onehot_encoded_frame], axis=1, sort= False)\n",
    "Box_office_copyANN"
   ]
  },
  {
   "cell_type": "code",
   "execution_count": 33,
   "metadata": {},
   "outputs": [
    {
     "data": {
      "text/plain": [
       "(6000, 12950)"
      ]
     },
     "execution_count": 33,
     "metadata": {},
     "output_type": "execute_result"
    }
   ],
   "source": [
    "Box_office_copyANN.shape"
   ]
  },
  {
   "cell_type": "markdown",
   "metadata": {},
   "source": [
    "# Saving ANNV1"
   ]
  },
  {
   "cell_type": "code",
   "execution_count": 34,
   "metadata": {},
   "outputs": [],
   "source": [
    " Box_office_copyANN.to_csv(\"Box_office_v3ANN.csv\")"
   ]
  },
  {
   "cell_type": "code",
   "execution_count": 35,
   "metadata": {},
   "outputs": [
    {
     "data": {
      "text/html": [
       "<div>\n",
       "<style scoped>\n",
       "    .dataframe tbody tr th:only-of-type {\n",
       "        vertical-align: middle;\n",
       "    }\n",
       "\n",
       "    .dataframe tbody tr th {\n",
       "        vertical-align: top;\n",
       "    }\n",
       "\n",
       "    .dataframe thead th {\n",
       "        text-align: right;\n",
       "    }\n",
       "</style>\n",
       "<table border=\"1\" class=\"dataframe\">\n",
       "  <thead>\n",
       "    <tr style=\"text-align: right;\">\n",
       "      <th></th>\n",
       "      <th>Unnamed: 0</th>\n",
       "      <th>budget</th>\n",
       "      <th>gross</th>\n",
       "      <th>runtime</th>\n",
       "      <th>score</th>\n",
       "      <th>votes</th>\n",
       "      <th>ROI</th>\n",
       "      <th>...</th>\n",
       "      <th>studio_Zentropa Productions</th>\n",
       "      <th>studio_Zeta Entertainment</th>\n",
       "      <th>studio_Zucker Brothers Productions</th>\n",
       "      <th>studio_double A Films</th>\n",
       "      <th>studio_erbp</th>\n",
       "      <th>studio_i5 Films</th>\n",
       "      <th>studio_micro_scope</th>\n",
       "    </tr>\n",
       "  </thead>\n",
       "  <tbody>\n",
       "    <tr>\n",
       "      <th>0</th>\n",
       "      <td>0</td>\n",
       "      <td>237000000.0</td>\n",
       "      <td>760507625.0</td>\n",
       "      <td>162</td>\n",
       "      <td>7.8</td>\n",
       "      <td>958400</td>\n",
       "      <td>1</td>\n",
       "      <td>...</td>\n",
       "      <td>0.0</td>\n",
       "      <td>0.0</td>\n",
       "      <td>0.0</td>\n",
       "      <td>0.0</td>\n",
       "      <td>0.0</td>\n",
       "      <td>0.0</td>\n",
       "      <td>0.0</td>\n",
       "    </tr>\n",
       "    <tr>\n",
       "      <th>1</th>\n",
       "      <td>1</td>\n",
       "      <td>200000000.0</td>\n",
       "      <td>658672302.0</td>\n",
       "      <td>194</td>\n",
       "      <td>7.8</td>\n",
       "      <td>865551</td>\n",
       "      <td>1</td>\n",
       "      <td>...</td>\n",
       "      <td>0.0</td>\n",
       "      <td>0.0</td>\n",
       "      <td>0.0</td>\n",
       "      <td>0.0</td>\n",
       "      <td>0.0</td>\n",
       "      <td>0.0</td>\n",
       "      <td>0.0</td>\n",
       "    </tr>\n",
       "    <tr>\n",
       "      <th>2</th>\n",
       "      <td>2</td>\n",
       "      <td>150000000.0</td>\n",
       "      <td>652270625.0</td>\n",
       "      <td>124</td>\n",
       "      <td>7.0</td>\n",
       "      <td>470625</td>\n",
       "      <td>1</td>\n",
       "      <td>...</td>\n",
       "      <td>0.0</td>\n",
       "      <td>0.0</td>\n",
       "      <td>0.0</td>\n",
       "      <td>0.0</td>\n",
       "      <td>0.0</td>\n",
       "      <td>0.0</td>\n",
       "      <td>0.0</td>\n",
       "    </tr>\n",
       "    <tr>\n",
       "      <th>3</th>\n",
       "      <td>3</td>\n",
       "      <td>220000000.0</td>\n",
       "      <td>623357910.0</td>\n",
       "      <td>143</td>\n",
       "      <td>8.1</td>\n",
       "      <td>1069292</td>\n",
       "      <td>1</td>\n",
       "      <td>...</td>\n",
       "      <td>0.0</td>\n",
       "      <td>0.0</td>\n",
       "      <td>0.0</td>\n",
       "      <td>0.0</td>\n",
       "      <td>0.0</td>\n",
       "      <td>0.0</td>\n",
       "      <td>0.0</td>\n",
       "    </tr>\n",
       "    <tr>\n",
       "      <th>4</th>\n",
       "      <td>4</td>\n",
       "      <td>185000000.0</td>\n",
       "      <td>534858444.0</td>\n",
       "      <td>152</td>\n",
       "      <td>9.0</td>\n",
       "      <td>1845853</td>\n",
       "      <td>1</td>\n",
       "      <td>...</td>\n",
       "      <td>0.0</td>\n",
       "      <td>0.0</td>\n",
       "      <td>0.0</td>\n",
       "      <td>0.0</td>\n",
       "      <td>0.0</td>\n",
       "      <td>0.0</td>\n",
       "      <td>0.0</td>\n",
       "    </tr>\n",
       "  </tbody>\n",
       "</table>\n",
       "<p>5 rows × 12951 columns</p>\n",
       "</div>"
      ],
      "text/plain": [
       "   Unnamed: 0       budget        gross  runtime  score    votes  ROI  ...  \\\n",
       "0           0  237000000.0  760507625.0      162    7.8   958400    1  ...   \n",
       "1           1  200000000.0  658672302.0      194    7.8   865551    1  ...   \n",
       "2           2  150000000.0  652270625.0      124    7.0   470625    1  ...   \n",
       "3           3  220000000.0  623357910.0      143    8.1  1069292    1  ...   \n",
       "4           4  185000000.0  534858444.0      152    9.0  1845853    1  ...   \n",
       "\n",
       "   studio_Zentropa Productions  studio_Zeta Entertainment  \\\n",
       "0                          0.0                        0.0   \n",
       "1                          0.0                        0.0   \n",
       "2                          0.0                        0.0   \n",
       "3                          0.0                        0.0   \n",
       "4                          0.0                        0.0   \n",
       "\n",
       "   studio_Zucker Brothers Productions  studio_double A Films  studio_erbp  \\\n",
       "0                                 0.0                    0.0          0.0   \n",
       "1                                 0.0                    0.0          0.0   \n",
       "2                                 0.0                    0.0          0.0   \n",
       "3                                 0.0                    0.0          0.0   \n",
       "4                                 0.0                    0.0          0.0   \n",
       "\n",
       "   studio_i5 Films  studio_micro_scope  \n",
       "0              0.0                 0.0  \n",
       "1              0.0                 0.0  \n",
       "2              0.0                 0.0  \n",
       "3              0.0                 0.0  \n",
       "4              0.0                 0.0  \n",
       "\n",
       "[5 rows x 12951 columns]"
      ]
     },
     "execution_count": 35,
     "metadata": {},
     "output_type": "execute_result"
    }
   ],
   "source": [
    "Box_office_v3ANN = pd.read_csv('Box_office_v3ANN.csv')\n",
    "Box_office_v3ANN.head()"
   ]
  },
  {
   "cell_type": "code",
   "execution_count": 36,
   "metadata": {},
   "outputs": [],
   "source": [
    "Box_office_v3ANN =Box_office_v3ANN.drop('Unnamed: 0', axis = 1)"
   ]
  },
  {
   "cell_type": "code",
   "execution_count": 37,
   "metadata": {},
   "outputs": [
    {
     "data": {
      "text/html": [
       "<div>\n",
       "<style scoped>\n",
       "    .dataframe tbody tr th:only-of-type {\n",
       "        vertical-align: middle;\n",
       "    }\n",
       "\n",
       "    .dataframe tbody tr th {\n",
       "        vertical-align: top;\n",
       "    }\n",
       "\n",
       "    .dataframe thead th {\n",
       "        text-align: right;\n",
       "    }\n",
       "</style>\n",
       "<table border=\"1\" class=\"dataframe\">\n",
       "  <thead>\n",
       "    <tr style=\"text-align: right;\">\n",
       "      <th></th>\n",
       "      <th>budget</th>\n",
       "      <th>gross</th>\n",
       "      <th>runtime</th>\n",
       "      <th>score</th>\n",
       "      <th>votes</th>\n",
       "      <th>ROI</th>\n",
       "      <th>country_Argentina</th>\n",
       "      <th>...</th>\n",
       "      <th>studio_Zentropa Productions</th>\n",
       "      <th>studio_Zeta Entertainment</th>\n",
       "      <th>studio_Zucker Brothers Productions</th>\n",
       "      <th>studio_double A Films</th>\n",
       "      <th>studio_erbp</th>\n",
       "      <th>studio_i5 Films</th>\n",
       "      <th>studio_micro_scope</th>\n",
       "    </tr>\n",
       "  </thead>\n",
       "  <tbody>\n",
       "    <tr>\n",
       "      <th>0</th>\n",
       "      <td>237000000.0</td>\n",
       "      <td>760507625.0</td>\n",
       "      <td>162</td>\n",
       "      <td>7.8</td>\n",
       "      <td>958400</td>\n",
       "      <td>1</td>\n",
       "      <td>0.0</td>\n",
       "      <td>...</td>\n",
       "      <td>0.0</td>\n",
       "      <td>0.0</td>\n",
       "      <td>0.0</td>\n",
       "      <td>0.0</td>\n",
       "      <td>0.0</td>\n",
       "      <td>0.0</td>\n",
       "      <td>0.0</td>\n",
       "    </tr>\n",
       "    <tr>\n",
       "      <th>1</th>\n",
       "      <td>200000000.0</td>\n",
       "      <td>658672302.0</td>\n",
       "      <td>194</td>\n",
       "      <td>7.8</td>\n",
       "      <td>865551</td>\n",
       "      <td>1</td>\n",
       "      <td>0.0</td>\n",
       "      <td>...</td>\n",
       "      <td>0.0</td>\n",
       "      <td>0.0</td>\n",
       "      <td>0.0</td>\n",
       "      <td>0.0</td>\n",
       "      <td>0.0</td>\n",
       "      <td>0.0</td>\n",
       "      <td>0.0</td>\n",
       "    </tr>\n",
       "    <tr>\n",
       "      <th>2</th>\n",
       "      <td>150000000.0</td>\n",
       "      <td>652270625.0</td>\n",
       "      <td>124</td>\n",
       "      <td>7.0</td>\n",
       "      <td>470625</td>\n",
       "      <td>1</td>\n",
       "      <td>0.0</td>\n",
       "      <td>...</td>\n",
       "      <td>0.0</td>\n",
       "      <td>0.0</td>\n",
       "      <td>0.0</td>\n",
       "      <td>0.0</td>\n",
       "      <td>0.0</td>\n",
       "      <td>0.0</td>\n",
       "      <td>0.0</td>\n",
       "    </tr>\n",
       "    <tr>\n",
       "      <th>3</th>\n",
       "      <td>220000000.0</td>\n",
       "      <td>623357910.0</td>\n",
       "      <td>143</td>\n",
       "      <td>8.1</td>\n",
       "      <td>1069292</td>\n",
       "      <td>1</td>\n",
       "      <td>0.0</td>\n",
       "      <td>...</td>\n",
       "      <td>0.0</td>\n",
       "      <td>0.0</td>\n",
       "      <td>0.0</td>\n",
       "      <td>0.0</td>\n",
       "      <td>0.0</td>\n",
       "      <td>0.0</td>\n",
       "      <td>0.0</td>\n",
       "    </tr>\n",
       "    <tr>\n",
       "      <th>4</th>\n",
       "      <td>185000000.0</td>\n",
       "      <td>534858444.0</td>\n",
       "      <td>152</td>\n",
       "      <td>9.0</td>\n",
       "      <td>1845853</td>\n",
       "      <td>1</td>\n",
       "      <td>0.0</td>\n",
       "      <td>...</td>\n",
       "      <td>0.0</td>\n",
       "      <td>0.0</td>\n",
       "      <td>0.0</td>\n",
       "      <td>0.0</td>\n",
       "      <td>0.0</td>\n",
       "      <td>0.0</td>\n",
       "      <td>0.0</td>\n",
       "    </tr>\n",
       "  </tbody>\n",
       "</table>\n",
       "<p>5 rows × 12950 columns</p>\n",
       "</div>"
      ],
      "text/plain": [
       "        budget        gross  runtime  score    votes  ROI  country_Argentina  \\\n",
       "0  237000000.0  760507625.0      162    7.8   958400    1                0.0   \n",
       "1  200000000.0  658672302.0      194    7.8   865551    1                0.0   \n",
       "2  150000000.0  652270625.0      124    7.0   470625    1                0.0   \n",
       "3  220000000.0  623357910.0      143    8.1  1069292    1                0.0   \n",
       "4  185000000.0  534858444.0      152    9.0  1845853    1                0.0   \n",
       "\n",
       "   ...  studio_Zentropa Productions  studio_Zeta Entertainment  \\\n",
       "0  ...                          0.0                        0.0   \n",
       "1  ...                          0.0                        0.0   \n",
       "2  ...                          0.0                        0.0   \n",
       "3  ...                          0.0                        0.0   \n",
       "4  ...                          0.0                        0.0   \n",
       "\n",
       "   studio_Zucker Brothers Productions  studio_double A Films  studio_erbp  \\\n",
       "0                                 0.0                    0.0          0.0   \n",
       "1                                 0.0                    0.0          0.0   \n",
       "2                                 0.0                    0.0          0.0   \n",
       "3                                 0.0                    0.0          0.0   \n",
       "4                                 0.0                    0.0          0.0   \n",
       "\n",
       "   studio_i5 Films  studio_micro_scope  \n",
       "0              0.0                 0.0  \n",
       "1              0.0                 0.0  \n",
       "2              0.0                 0.0  \n",
       "3              0.0                 0.0  \n",
       "4              0.0                 0.0  \n",
       "\n",
       "[5 rows x 12950 columns]"
      ]
     },
     "execution_count": 37,
     "metadata": {},
     "output_type": "execute_result"
    }
   ],
   "source": [
    "Box_office_v3ANN.head()"
   ]
  },
  {
   "cell_type": "markdown",
   "metadata": {},
   "source": [
    "# Identifying TV"
   ]
  },
  {
   "cell_type": "code",
   "execution_count": 38,
   "metadata": {},
   "outputs": [],
   "source": [
    " X = Box_office_v3ANN.drop('ROI', axis = 1)\n",
    " y = Box_office_v3ANN.ROI"
   ]
  },
  {
   "cell_type": "code",
   "execution_count": 39,
   "metadata": {},
   "outputs": [
    {
     "data": {
      "text/plain": [
       "(6000, 12949)"
      ]
     },
     "execution_count": 39,
     "metadata": {},
     "output_type": "execute_result"
    }
   ],
   "source": [
    "X.shape"
   ]
  },
  {
   "cell_type": "code",
   "execution_count": 40,
   "metadata": {},
   "outputs": [
    {
     "data": {
      "text/plain": [
       "0       1\n",
       "1       1\n",
       "2       1\n",
       "3       1\n",
       "4       1\n",
       "       ..\n",
       "5995    0\n",
       "5996    0\n",
       "5997    0\n",
       "5998    0\n",
       "5999    0\n",
       "Name: ROI, Length: 6000, dtype: int64"
      ]
     },
     "execution_count": 40,
     "metadata": {},
     "output_type": "execute_result"
    }
   ],
   "source": [
    "y"
   ]
  },
  {
   "cell_type": "markdown",
   "metadata": {},
   "source": [
    "# Data Split "
   ]
  },
  {
   "cell_type": "code",
   "execution_count": 41,
   "metadata": {},
   "outputs": [],
   "source": [
    "\n",
    "# Splitting the dataset into the Training set and Test set\n",
    "from sklearn.model_selection import train_test_split\n",
    "\n",
    "training_features, test_features, \\\n",
    "training_target, test_target, = train_test_split(X,y,\n",
    "                                               test_size = .2,\n",
    "                                               random_state= 45)"
   ]
  },
  {
   "cell_type": "code",
   "execution_count": 42,
   "metadata": {},
   "outputs": [
    {
     "data": {
      "text/html": [
       "<div>\n",
       "<style scoped>\n",
       "    .dataframe tbody tr th:only-of-type {\n",
       "        vertical-align: middle;\n",
       "    }\n",
       "\n",
       "    .dataframe tbody tr th {\n",
       "        vertical-align: top;\n",
       "    }\n",
       "\n",
       "    .dataframe thead th {\n",
       "        text-align: right;\n",
       "    }\n",
       "</style>\n",
       "<table border=\"1\" class=\"dataframe\">\n",
       "  <thead>\n",
       "    <tr style=\"text-align: right;\">\n",
       "      <th></th>\n",
       "      <th>budget</th>\n",
       "      <th>gross</th>\n",
       "      <th>runtime</th>\n",
       "      <th>score</th>\n",
       "      <th>votes</th>\n",
       "      <th>country_Argentina</th>\n",
       "      <th>country_Australia</th>\n",
       "      <th>...</th>\n",
       "      <th>studio_Zentropa Productions</th>\n",
       "      <th>studio_Zeta Entertainment</th>\n",
       "      <th>studio_Zucker Brothers Productions</th>\n",
       "      <th>studio_double A Films</th>\n",
       "      <th>studio_erbp</th>\n",
       "      <th>studio_i5 Films</th>\n",
       "      <th>studio_micro_scope</th>\n",
       "    </tr>\n",
       "  </thead>\n",
       "  <tbody>\n",
       "    <tr>\n",
       "      <th>2583</th>\n",
       "      <td>11000000.0</td>\n",
       "      <td>17382000.0</td>\n",
       "      <td>122</td>\n",
       "      <td>7.3</td>\n",
       "      <td>23152</td>\n",
       "      <td>0.0</td>\n",
       "      <td>0.0</td>\n",
       "      <td>...</td>\n",
       "      <td>0.0</td>\n",
       "      <td>0.0</td>\n",
       "      <td>0.0</td>\n",
       "      <td>0.0</td>\n",
       "      <td>0.0</td>\n",
       "      <td>0.0</td>\n",
       "      <td>0.0</td>\n",
       "    </tr>\n",
       "  </tbody>\n",
       "</table>\n",
       "<p>1 rows × 12949 columns</p>\n",
       "</div>"
      ],
      "text/plain": [
       "          budget       gross  runtime  score  votes  country_Argentina  \\\n",
       "2583  11000000.0  17382000.0      122    7.3  23152                0.0   \n",
       "\n",
       "      country_Australia  ...  studio_Zentropa Productions  \\\n",
       "2583                0.0  ...                          0.0   \n",
       "\n",
       "      studio_Zeta Entertainment  studio_Zucker Brothers Productions  \\\n",
       "2583                        0.0                                 0.0   \n",
       "\n",
       "      studio_double A Films  studio_erbp  studio_i5 Films  studio_micro_scope  \n",
       "2583                    0.0          0.0              0.0                 0.0  \n",
       "\n",
       "[1 rows x 12949 columns]"
      ]
     },
     "execution_count": 42,
     "metadata": {},
     "output_type": "execute_result"
    }
   ],
   "source": [
    "training_features[:1]"
   ]
  },
  {
   "cell_type": "code",
   "execution_count": 43,
   "metadata": {},
   "outputs": [
    {
     "data": {
      "text/plain": [
       "(1200, 12949)"
      ]
     },
     "execution_count": 43,
     "metadata": {},
     "output_type": "execute_result"
    }
   ],
   "source": [
    "test_features.shape"
   ]
  },
  {
   "cell_type": "code",
   "execution_count": 44,
   "metadata": {},
   "outputs": [
    {
     "data": {
      "text/plain": [
       "(4800, 12949)"
      ]
     },
     "execution_count": 44,
     "metadata": {},
     "output_type": "execute_result"
    }
   ],
   "source": [
    "training_features.shape"
   ]
  },
  {
   "cell_type": "markdown",
   "metadata": {},
   "source": [
    "# Baseline Model"
   ]
  },
  {
   "cell_type": "code",
   "execution_count": 45,
   "metadata": {},
   "outputs": [
    {
     "data": {
      "text/plain": [
       "DummyClassifier(strategy='most_frequent')"
      ]
     },
     "execution_count": 45,
     "metadata": {},
     "output_type": "execute_result"
    }
   ],
   "source": [
    "from sklearn.dummy import DummyClassifier\n",
    "\n",
    "dummy_baseline = DummyClassifier(strategy=\"most_frequent\")\n",
    "\n",
    "dummy_baseline.fit(test_features, test_target)"
   ]
  },
  {
   "cell_type": "code",
   "execution_count": 46,
   "metadata": {},
   "outputs": [
    {
     "name": "stdout",
     "output_type": "stream",
     "text": [
      "[0 0 0 ... 0 0 0]\n"
     ]
    }
   ],
   "source": [
    "test_target_pred = dummy_baseline.predict(test_features)\n",
    "print(test_target_pred)"
   ]
  },
  {
   "cell_type": "code",
   "execution_count": 47,
   "metadata": {},
   "outputs": [
    {
     "name": "stdout",
     "output_type": "stream",
     "text": [
      "The fraction of correct classifications is: 0.603\n"
     ]
    }
   ],
   "source": [
    "score = dummy_baseline.score(test_features, test_target)\n",
    "print('The fraction of correct classifications is: {:5.3f}'.format(score))"
   ]
  },
  {
   "cell_type": "code",
   "execution_count": 48,
   "metadata": {},
   "outputs": [
    {
     "data": {
      "text/plain": [
       "array([[724,   0],\n",
       "       [476,   0]], dtype=int64)"
      ]
     },
     "execution_count": 48,
     "metadata": {},
     "output_type": "execute_result"
    }
   ],
   "source": [
    "# This is the long way of computing the accuracy score\n",
    "from sklearn.metrics import  confusion_matrix\n",
    "dummy_baselineCM = confusion_matrix(test_target,test_target_pred)\n",
    "dummy_baselineCM"
   ]
  },
  {
   "cell_type": "markdown",
   "metadata": {},
   "source": [
    "# Decision Tree"
   ]
  },
  {
   "cell_type": "code",
   "execution_count": 49,
   "metadata": {},
   "outputs": [],
   "source": [
    "from sklearn.tree import DecisionTreeClassifier\n",
    "from sklearn.metrics import accuracy_score, classification_report, confusion_matrix"
   ]
  },
  {
   "cell_type": "code",
   "execution_count": 50,
   "metadata": {},
   "outputs": [],
   "source": [
    "DecisionTreeModel = DecisionTreeClassifier(criterion = 'entropy', random_state = 45)"
   ]
  },
  {
   "cell_type": "code",
   "execution_count": 51,
   "metadata": {},
   "outputs": [
    {
     "name": "stdout",
     "output_type": "stream",
     "text": [
      "Wall time: 968 ms\n"
     ]
    },
    {
     "data": {
      "text/plain": [
       "DecisionTreeClassifier(criterion='entropy', random_state=45)"
      ]
     },
     "execution_count": 51,
     "metadata": {},
     "output_type": "execute_result"
    }
   ],
   "source": [
    "%%time\n",
    "DecisionTreeModel.fit(training_features, training_target)"
   ]
  },
  {
   "cell_type": "code",
   "execution_count": 52,
   "metadata": {},
   "outputs": [],
   "source": [
    "DT_Pred = DecisionTreeModel.predict(test_features)"
   ]
  },
  {
   "cell_type": "code",
   "execution_count": 53,
   "metadata": {},
   "outputs": [
    {
     "data": {
      "text/plain": [
       "array([[713,  11],\n",
       "       [  4, 472]], dtype=int64)"
      ]
     },
     "execution_count": 53,
     "metadata": {},
     "output_type": "execute_result"
    }
   ],
   "source": [
    "CMTD = confusion_matrix(test_target,DT_Pred) # Compare the predicted target varaible to the orginal target variable\n",
    "CMTD"
   ]
  },
  {
   "cell_type": "code",
   "execution_count": 54,
   "metadata": {},
   "outputs": [
    {
     "data": {
      "image/png": "[encoded data removed]",
      "text/plain": [
       "<Figure size 360x360 with 2 Axes>"
      ]
     },
     "metadata": {},
     "output_type": "display_data"
    }
   ],
   "source": [
    "target = 'ROI'\n",
    "CMTD = pd.crosstab(test_target,DT_Pred, rownames=['Actual'], colnames=['Predicted'])\n",
    "fig, (ax1) = plt.subplots(ncols=1, figsize=(5,5))\n",
    "sns.heatmap(CMTD, \n",
    "            xticklabels=['NP', 'Profitable'],\n",
    "            yticklabels=['NP', 'Profitable'],\n",
    "            annot=True,ax=ax1,\n",
    "            linewidths=.2,linecolor=\"Darkblue\", cmap=\"Blues\")\n",
    "plt.title('Confusion Matrix', fontsize=14)\n",
    "plt.show()"
   ]
  },
  {
   "cell_type": "code",
   "execution_count": 55,
   "metadata": {},
   "outputs": [
    {
     "data": {
      "text/plain": [
       "<AxesSubplot:xlabel='Predicted', ylabel='Actual'>"
      ]
     },
     "execution_count": 55,
     "metadata": {},
     "output_type": "execute_result"
    },
    {
     "data": {
      "image/png": "[encoded data removed]",
      "text/plain": [
       "<Figure size 432x288 with 2 Axes>"
      ]
     },
     "metadata": {},
     "output_type": "display_data"
    }
   ],
   "source": [
    "sns.heatmap(CMTD/np.sum(CMTD), annot=True, \n",
    "            fmt='.2%', cmap='Blues')"
   ]
  },
  {
   "cell_type": "code",
   "execution_count": 56,
   "metadata": {},
   "outputs": [
    {
     "name": "stdout",
     "output_type": "stream",
     "text": [
      " NB Prediction Accuracy : 98.75%\n"
     ]
    }
   ],
   "source": [
    "ADT= accuracy_score(test_target, DT_Pred)\n",
    "\n",
    "print(\" NB Prediction Accuracy : {:.2f}%\".format(ADT * 100))"
   ]
  },
  {
   "cell_type": "markdown",
   "metadata": {},
   "source": [
    "# Naive Bayes"
   ]
  },
  {
   "cell_type": "code",
   "execution_count": 57,
   "metadata": {},
   "outputs": [
    {
     "data": {
      "text/plain": [
       "array([[-0.48587775, -0.27740501,  0.8595875 , ..., -0.01443526,\n",
       "        -0.01443526,  0.        ],\n",
       "       [-0.62197112, -0.57508522, -1.31888135, ..., -0.01443526,\n",
       "        -0.01443526,  0.        ],\n",
       "       [-0.48587775, -0.36288327, -0.42515054, ..., -0.01443526,\n",
       "        -0.01443526,  0.        ],\n",
       "       ...,\n",
       "       [-0.48587775, -0.55908414,  0.6361548 , ..., -0.01443526,\n",
       "        -0.01443526,  0.        ],\n",
       "       [-0.65599446, -0.47580324, -0.09000149, ..., -0.01443526,\n",
       "        -0.01443526,  0.        ],\n",
       "       [-0.48587775, -0.57661725, -0.42515054, ..., -0.01443526,\n",
       "        -0.01443526,  0.        ]])"
      ]
     },
     "execution_count": 57,
     "metadata": {},
     "output_type": "execute_result"
    }
   ],
   "source": [
    "# Feature Scaling\n",
    "from sklearn.preprocessing import StandardScaler\n",
    "sc = StandardScaler()\n",
    "training_features = sc.fit_transform(training_features)\n",
    "test_features = sc.transform(test_features)\n",
    "training_features"
   ]
  },
  {
   "cell_type": "code",
   "execution_count": 58,
   "metadata": {},
   "outputs": [
    {
     "data": {
      "text/plain": [
       "GaussianNB()"
      ]
     },
     "execution_count": 58,
     "metadata": {},
     "output_type": "execute_result"
    }
   ],
   "source": [
    "# Fitting Naive Bayes to the Training set\n",
    "from sklearn.naive_bayes import GaussianNB\n",
    "\n",
    "# Min-Max scaler (slightly different than StandardScaler!)\n",
    "#from sklearn.preprocessing import MinMaxScaler\n",
    "\n",
    "\n",
    "NBModel = GaussianNB()\n",
    "NBModel.fit(training_features, training_target)"
   ]
  },
  {
   "cell_type": "code",
   "execution_count": 59,
   "metadata": {},
   "outputs": [
    {
     "name": "stdout",
     "output_type": "stream",
     "text": [
      "Wall time: 200 ms\n"
     ]
    }
   ],
   "source": [
    "%%time\n",
    "\n",
    "# Predicting the Test set results\n",
    "NB_pred = NBModel.predict(test_features)"
   ]
  },
  {
   "cell_type": "code",
   "execution_count": 60,
   "metadata": {},
   "outputs": [
    {
     "data": {
      "text/plain": [
       "array([[293, 431],\n",
       "       [127, 349]], dtype=int64)"
      ]
     },
     "execution_count": 60,
     "metadata": {},
     "output_type": "execute_result"
    }
   ],
   "source": [
    "# Making the Confusion Matrix\n",
    "CMNB= confusion_matrix(test_target, NB_pred)\n",
    "CMNB"
   ]
  },
  {
   "cell_type": "code",
   "execution_count": 61,
   "metadata": {},
   "outputs": [
    {
     "name": "stdout",
     "output_type": "stream",
     "text": [
      " NB Prediction Accuracy : 53.50%\n"
     ]
    }
   ],
   "source": [
    "# Accuracy Score\n",
    "ACNB= accuracy_score(test_target, NB_pred)\n",
    "\n",
    "print(\" NB Prediction Accuracy : {:.2f}%\".format(ACNB * 100))\n",
    "# print()"
   ]
  },
  {
   "cell_type": "markdown",
   "metadata": {},
   "source": [
    "# Logistic Regression"
   ]
  },
  {
   "cell_type": "code",
   "execution_count": 62,
   "metadata": {},
   "outputs": [],
   "source": [
    "from sklearn.linear_model import LogisticRegression"
   ]
  },
  {
   "cell_type": "code",
   "execution_count": 63,
   "metadata": {},
   "outputs": [],
   "source": [
    "LRModel = LogisticRegression(random_state = 45, solver='newton-cg', max_iter=1000)"
   ]
  },
  {
   "cell_type": "code",
   "execution_count": 64,
   "metadata": {},
   "outputs": [
    {
     "data": {
      "text/plain": [
       "LogisticRegression(max_iter=1000, random_state=45, solver='newton-cg')"
      ]
     },
     "execution_count": 64,
     "metadata": {},
     "output_type": "execute_result"
    }
   ],
   "source": [
    "LRModel.fit(training_features, training_target)"
   ]
  },
  {
   "cell_type": "code",
   "execution_count": 65,
   "metadata": {},
   "outputs": [
    {
     "name": "stdout",
     "output_type": "stream",
     "text": [
      "Wall time: 23.6 ms\n"
     ]
    }
   ],
   "source": [
    "%%time\n",
    "\n",
    "# Predicting the Test set results\n",
    "\n",
    "LR_pred =LRModel.predict(test_features)"
   ]
  },
  {
   "cell_type": "code",
   "execution_count": 66,
   "metadata": {},
   "outputs": [
    {
     "data": {
      "text/plain": [
       "array([[563, 161],\n",
       "       [223, 253]], dtype=int64)"
      ]
     },
     "execution_count": 66,
     "metadata": {},
     "output_type": "execute_result"
    }
   ],
   "source": [
    "# Making the Confusion Matrix\n",
    "CMLR= confusion_matrix(test_target, LR_pred)\n",
    "CMLR"
   ]
  },
  {
   "cell_type": "code",
   "execution_count": 67,
   "metadata": {},
   "outputs": [
    {
     "name": "stdout",
     "output_type": "stream",
     "text": [
      " LGR Prediction Accuracy : 68.00%\n"
     ]
    }
   ],
   "source": [
    "# Accuracy Score\n",
    "ACLR= accuracy_score(test_target, LR_pred )\n",
    "\n",
    "print(\" LGR Prediction Accuracy : {:.2f}%\".format(ACLR * 100))"
   ]
  },
  {
   "cell_type": "markdown",
   "metadata": {},
   "source": [
    "# SVM"
   ]
  },
  {
   "cell_type": "code",
   "execution_count": 68,
   "metadata": {},
   "outputs": [],
   "source": [
    "from sklearn.svm import SVC "
   ]
  },
  {
   "cell_type": "code",
   "execution_count": 69,
   "metadata": {},
   "outputs": [],
   "source": [
    "SVMModel = SVC(kernel = 'linear', random_state = 45)"
   ]
  },
  {
   "cell_type": "code",
   "execution_count": 70,
   "metadata": {},
   "outputs": [
    {
     "data": {
      "text/plain": [
       "SVC(kernel='linear', random_state=45)"
      ]
     },
     "execution_count": 70,
     "metadata": {},
     "output_type": "execute_result"
    }
   ],
   "source": [
    "SVMModel.fit(training_features, training_target)"
   ]
  },
  {
   "cell_type": "code",
   "execution_count": 71,
   "metadata": {},
   "outputs": [
    {
     "name": "stdout",
     "output_type": "stream",
     "text": [
      "Wall time: 26.1 s\n"
     ]
    }
   ],
   "source": [
    "%%time\n",
    "\n",
    "# Predicting the Test set results\n",
    "SVM_pred = SVMModel.predict(test_features)"
   ]
  },
  {
   "cell_type": "code",
   "execution_count": 72,
   "metadata": {},
   "outputs": [
    {
     "data": {
      "text/plain": [
       "array([[559, 165],\n",
       "       [212, 264]], dtype=int64)"
      ]
     },
     "execution_count": 72,
     "metadata": {},
     "output_type": "execute_result"
    }
   ],
   "source": [
    "# Making the Confusion Matrix\n",
    "CMSVM= confusion_matrix(test_target, SVM_pred)\n",
    "CMSVM"
   ]
  },
  {
   "cell_type": "code",
   "execution_count": 73,
   "metadata": {},
   "outputs": [
    {
     "name": "stdout",
     "output_type": "stream",
     "text": [
      " SVM Prediction Accuracy : 68.58%\n"
     ]
    }
   ],
   "source": [
    "# Accuracy Score\n",
    "ACSVM= accuracy_score(test_target, SVM_pred )\n",
    "\n",
    "print(\" SVM Prediction Accuracy : {:.2f}%\".format(ACSVM * 100))"
   ]
  },
  {
   "cell_type": "markdown",
   "metadata": {},
   "source": [
    "# KSVM"
   ]
  },
  {
   "cell_type": "code",
   "execution_count": 74,
   "metadata": {},
   "outputs": [
    {
     "data": {
      "text/plain": [
       "SVC(random_state=45)"
      ]
     },
     "execution_count": 74,
     "metadata": {},
     "output_type": "execute_result"
    }
   ],
   "source": [
    "from sklearn.svm import SVC\n",
    "KSVMModel = SVC(kernel = 'rbf', random_state = 45)\n",
    "KSVMModel.fit(training_features, training_target)"
   ]
  },
  {
   "cell_type": "code",
   "execution_count": 75,
   "metadata": {},
   "outputs": [
    {
     "name": "stdout",
     "output_type": "stream",
     "text": [
      "Wall time: 1min 19s\n"
     ]
    }
   ],
   "source": [
    "%%time\n",
    "\n",
    "# Predicting the Test set results\n",
    "KSVM_pred = KSVMModel.predict(test_features)"
   ]
  },
  {
   "cell_type": "code",
   "execution_count": 76,
   "metadata": {},
   "outputs": [
    {
     "data": {
      "text/plain": [
       "array([[104, 620],\n",
       "       [ 35, 441]], dtype=int64)"
      ]
     },
     "execution_count": 76,
     "metadata": {},
     "output_type": "execute_result"
    }
   ],
   "source": [
    "# Making the Confusion Matrix\n",
    "CMKSVM = confusion_matrix(test_target, KSVM_pred)\n",
    "CMKSVM"
   ]
  },
  {
   "cell_type": "code",
   "execution_count": 77,
   "metadata": {},
   "outputs": [
    {
     "name": "stdout",
     "output_type": "stream",
     "text": [
      "0.45416666666666666\n"
     ]
    }
   ],
   "source": [
    "# Accuracy Score\n",
    "ACKSVM= accuracy_score(test_target, KSVM_pred)\n",
    "print(ACKSVM)"
   ]
  },
  {
   "cell_type": "markdown",
   "metadata": {},
   "source": [
    "# KNN"
   ]
  },
  {
   "cell_type": "code",
   "execution_count": 78,
   "metadata": {},
   "outputs": [],
   "source": [
    "from sklearn.neighbors import KNeighborsClassifier"
   ]
  },
  {
   "cell_type": "code",
   "execution_count": 79,
   "metadata": {},
   "outputs": [],
   "source": [
    "KNNModel = KNeighborsClassifier(n_neighbors = 21)"
   ]
  },
  {
   "cell_type": "code",
   "execution_count": 80,
   "metadata": {},
   "outputs": [
    {
     "data": {
      "text/plain": [
       "KNeighborsClassifier(n_neighbors=21)"
      ]
     },
     "execution_count": 80,
     "metadata": {},
     "output_type": "execute_result"
    }
   ],
   "source": [
    "KNNModel.fit(training_features, training_target)"
   ]
  },
  {
   "cell_type": "code",
   "execution_count": 81,
   "metadata": {},
   "outputs": [
    {
     "name": "stdout",
     "output_type": "stream",
     "text": [
      "Wall time: 927 ms\n"
     ]
    }
   ],
   "source": [
    "%%time\n",
    "\n",
    "# Predicting the Test set results\n",
    "\n",
    "KNN_pred = KNNModel.predict(test_features)"
   ]
  },
  {
   "cell_type": "code",
   "execution_count": 82,
   "metadata": {},
   "outputs": [
    {
     "data": {
      "text/plain": [
       "array([[  2, 722],\n",
       "       [  1, 475]], dtype=int64)"
      ]
     },
     "execution_count": 82,
     "metadata": {},
     "output_type": "execute_result"
    }
   ],
   "source": [
    "# Confusion Matrix\n",
    "CMKNN = confusion_matrix(test_target,KNN_pred)\n",
    "CMKNN"
   ]
  },
  {
   "cell_type": "code",
   "execution_count": 83,
   "metadata": {},
   "outputs": [
    {
     "name": "stdout",
     "output_type": "stream",
     "text": [
      "0.3975\n"
     ]
    }
   ],
   "source": [
    "# Accuracy Score\n",
    "ACKNN= accuracy_score(test_target, KNN_pred )\n",
    "print(ACKNN)"
   ]
  },
  {
   "cell_type": "markdown",
   "metadata": {},
   "source": [
    "# Deep learning ANN"
   ]
  },
  {
   "cell_type": "code",
   "execution_count": 84,
   "metadata": {},
   "outputs": [
    {
     "name": "stdout",
     "output_type": "stream",
     "text": [
      "TensorFlow version: 2.10.0\n"
     ]
    }
   ],
   "source": [
    "import tensorflow as tf\n",
    "print (\"TensorFlow version: \" + tf.__version__)"
   ]
  },
  {
   "cell_type": "code",
   "execution_count": 85,
   "metadata": {},
   "outputs": [],
   "source": [
    "classifier = tf.keras.Sequential()"
   ]
  },
  {
   "cell_type": "code",
   "execution_count": 86,
   "metadata": {},
   "outputs": [],
   "source": [
    "# Adding the input layer and the first hidden layer\n",
    "classifier.add(tf.keras.layers.Dense(6, activation='relu', kernel_initializer='uniform',input_dim=12949))"
   ]
  },
  {
   "cell_type": "code",
   "execution_count": 87,
   "metadata": {},
   "outputs": [],
   "source": [
    "classifier.add(tf.keras.layers.Dense(4, activation='relu', kernel_initializer='uniform'))"
   ]
  },
  {
   "cell_type": "code",
   "execution_count": 88,
   "metadata": {},
   "outputs": [],
   "source": [
    "classifier.add(tf.keras.layers.Dense(3, activation='relu', kernel_initializer='uniform'))"
   ]
  },
  {
   "cell_type": "code",
   "execution_count": 89,
   "metadata": {},
   "outputs": [],
   "source": [
    "classifier.add(tf.keras.layers.Dense(2, activation='relu', kernel_initializer='uniform'))"
   ]
  },
  {
   "cell_type": "code",
   "execution_count": 90,
   "metadata": {},
   "outputs": [],
   "source": [
    "classifier.add(tf.keras.layers.Dense(1, activation='relu', kernel_initializer='uniform'))"
   ]
  },
  {
   "cell_type": "code",
   "execution_count": 91,
   "metadata": {},
   "outputs": [],
   "source": [
    "# Compiling the ANN\n",
    "classifier.compile(optimizer = 'adam', loss = 'binary_crossentropy', metrics = ['accuracy'])"
   ]
  },
  {
   "cell_type": "markdown",
   "metadata": {},
   "source": [
    "# ANN Prediction"
   ]
  },
  {
   "cell_type": "code",
   "execution_count": 92,
   "metadata": {},
   "outputs": [
    {
     "data": {
      "text/plain": [
       "(4800,)"
      ]
     },
     "execution_count": 92,
     "metadata": {},
     "output_type": "execute_result"
    }
   ],
   "source": [
    "training_target.shape"
   ]
  },
  {
   "cell_type": "code",
   "execution_count": 93,
   "metadata": {},
   "outputs": [
    {
     "data": {
      "text/plain": [
       "(4800, 12949)"
      ]
     },
     "execution_count": 93,
     "metadata": {},
     "output_type": "execute_result"
    }
   ],
   "source": [
    "training_features.shape"
   ]
  },
  {
   "cell_type": "code",
   "execution_count": 95,
   "metadata": {},
   "outputs": [
    {
     "name": "stdout",
     "output_type": "stream",
     "text": [
      "Epoch 1/30\n",
      "480/480 [==============================] - 0s 1ms/step - loss: 6.0929 - accuracy: 0.6050\n",
      "Epoch 2/30\n",
      "480/480 [==============================] - 0s 1ms/step - loss: 6.0929 - accuracy: 0.6050\n",
      "Epoch 3/30\n",
      "480/480 [==============================] - 0s 1ms/step - loss: 6.0929 - accuracy: 0.6050\n",
      "Epoch 4/30\n",
      "480/480 [==============================] - 1s 1ms/step - loss: 6.0929 - accuracy: 0.6050\n",
      "Epoch 5/30\n",
      "480/480 [==============================] - 0s 1ms/step - loss: 6.0929 - accuracy: 0.6050\n",
      "Epoch 6/30\n",
      "480/480 [==============================] - 1s 1ms/step - loss: 6.0928 - accuracy: 0.6050\n",
      "Epoch 7/30\n",
      "480/480 [==============================] - 0s 1ms/step - loss: 6.0929 - accuracy: 0.6050\n",
      "Epoch 8/30\n",
      "480/480 [==============================] - 0s 1ms/step - loss: 6.0929 - accuracy: 0.6050\n",
      "Epoch 9/30\n",
      "480/480 [==============================] - 0s 1ms/step - loss: 6.0929 - accuracy: 0.6050\n",
      "Epoch 10/30\n",
      "480/480 [==============================] - 1s 1ms/step - loss: 6.0929 - accuracy: 0.6050\n",
      "Epoch 11/30\n",
      "480/480 [==============================] - 1s 1ms/step - loss: 6.0929 - accuracy: 0.6050\n",
      "Epoch 12/30\n",
      "480/480 [==============================] - 1s 1ms/step - loss: 6.0929 - accuracy: 0.6050\n",
      "Epoch 13/30\n",
      "480/480 [==============================] - 1s 1ms/step - loss: 6.0929 - accuracy: 0.6050\n",
      "Epoch 14/30\n",
      "480/480 [==============================] - 1s 1ms/step - loss: 6.0929 - accuracy: 0.6050\n",
      "Epoch 15/30\n",
      "480/480 [==============================] - 1s 1ms/step - loss: 6.0929 - accuracy: 0.6050\n",
      "Epoch 16/30\n",
      "480/480 [==============================] - 1s 1ms/step - loss: 6.0929 - accuracy: 0.6050\n",
      "Epoch 17/30\n",
      "480/480 [==============================] - 1s 1ms/step - loss: 6.0929 - accuracy: 0.6050\n",
      "Epoch 18/30\n",
      "480/480 [==============================] - 1s 1ms/step - loss: 6.0929 - accuracy: 0.6050\n",
      "Epoch 19/30\n",
      "480/480 [==============================] - 1s 1ms/step - loss: 6.0929 - accuracy: 0.6050\n",
      "Epoch 20/30\n",
      "480/480 [==============================] - 1s 1ms/step - loss: 6.0929 - accuracy: 0.6050\n",
      "Epoch 21/30\n",
      "480/480 [==============================] - 1s 1ms/step - loss: 6.0928 - accuracy: 0.6050\n",
      "Epoch 22/30\n",
      "480/480 [==============================] - 1s 1ms/step - loss: 6.0929 - accuracy: 0.6050\n",
      "Epoch 23/30\n",
      "480/480 [==============================] - 1s 1ms/step - loss: 6.0929 - accuracy: 0.6050\n",
      "Epoch 24/30\n",
      "480/480 [==============================] - 1s 1ms/step - loss: 6.0929 - accuracy: 0.6050\n",
      "Epoch 25/30\n",
      "480/480 [==============================] - 1s 1ms/step - loss: 6.0929 - accuracy: 0.6050\n",
      "Epoch 26/30\n",
      "480/480 [==============================] - 1s 1ms/step - loss: 6.0929 - accuracy: 0.6050\n",
      "Epoch 27/30\n",
      "480/480 [==============================] - 1s 1ms/step - loss: 6.0929 - accuracy: 0.6050\n",
      "Epoch 28/30\n",
      "480/480 [==============================] - 1s 1ms/step - loss: 6.0929 - accuracy: 0.6050\n",
      "Epoch 29/30\n",
      "480/480 [==============================] - 1s 1ms/step - loss: 6.0929 - accuracy: 0.6050\n",
      "Epoch 30/30\n",
      "480/480 [==============================] - 1s 1ms/step - loss: 6.0929 - accuracy: 0.6050\n",
      "150/150 [==============================] - 0s 1ms/step - loss: 6.0929 - accuracy: 0.6050\n",
      "\n",
      "accuracy: 60.50%\n"
     ]
    }
   ],
   "source": [
    "\n",
    "classifier.fit(training_features, training_target, batch_size = 10, epochs=30)\n",
    "# evaluate the model\n",
    "scores = classifier.evaluate(training_features, training_target)\n",
    "print(\"\\n%s: %.2f%%\" % (classifier.metrics_names[1], scores[1]*100))"
   ]
  },
  {
   "cell_type": "code",
   "execution_count": 96,
   "metadata": {},
   "outputs": [
    {
     "name": "stdout",
     "output_type": "stream",
     "text": [
      "38/38 [==============================] - 0s 1ms/step\n",
      "Wall time: 247 ms\n"
     ]
    }
   ],
   "source": [
    "%%time\n",
    "\n",
    "# Predicting the Test set results\n",
    "ANN_pred = classifier.predict(test_features)\n",
    "ANN_pred = (ANN_pred > 0.5)"
   ]
  },
  {
   "cell_type": "code",
   "execution_count": 97,
   "metadata": {},
   "outputs": [
    {
     "data": {
      "text/plain": [
       "array([[724,   0],\n",
       "       [476,   0]], dtype=int64)"
      ]
     },
     "execution_count": 97,
     "metadata": {},
     "output_type": "execute_result"
    }
   ],
   "source": [
    "# Confusion Matrix\n",
    "CMANN = confusion_matrix(test_target,ANN_pred)\n",
    "CMANN"
   ]
  },
  {
   "cell_type": "code",
   "execution_count": 98,
   "metadata": {},
   "outputs": [
    {
     "name": "stdout",
     "output_type": "stream",
     "text": [
      "0.6033333333333334\n"
     ]
    }
   ],
   "source": [
    "# Accuracy Score\n",
    "ACANN= accuracy_score(test_target, ANN_pred )\n",
    "print(ACANN)"
   ]
  },
  {
   "cell_type": "code",
   "execution_count": 99,
   "metadata": {},
   "outputs": [
    {
     "name": "stdout",
     "output_type": "stream",
     "text": [
      "Model: \"sequential\"\n",
      "_________________________________________________________________\n",
      " Layer (type)                Output Shape              Param #   \n",
      "=================================================================\n",
      " dense (Dense)               (None, 6)                 77700     \n",
      "                                                                 \n",
      " dense_1 (Dense)             (None, 4)                 28        \n",
      "                                                                 \n",
      " dense_2 (Dense)             (None, 3)                 15        \n",
      "                                                                 \n",
      " dense_3 (Dense)             (None, 2)                 8         \n",
      "                                                                 \n",
      " dense_4 (Dense)             (None, 1)                 3         \n",
      "                                                                 \n",
      "=================================================================\n",
      "Total params: 77,754\n",
      "Trainable params: 77,754\n",
      "Non-trainable params: 0\n",
      "_________________________________________________________________\n",
      "None\n"
     ]
    }
   ],
   "source": [
    "print(classifier.summary())"
   ]
  },
  {
   "cell_type": "code",
   "execution_count": 100,
   "metadata": {},
   "outputs": [
    {
     "name": "stdout",
     "output_type": "stream",
     "text": [
      "Requirement already satisfied: keras in d:\\anaconda3\\lib\\site-packages (2.10.0)\n"
     ]
    }
   ],
   "source": [
    "!pip install keras"
   ]
  },
  {
   "cell_type": "code",
   "execution_count": 101,
   "metadata": {},
   "outputs": [],
   "source": [
    "from tensorflow import keras\n",
    "import keras;"
   ]
  },
  {
   "cell_type": "code",
   "execution_count": 102,
   "metadata": {},
   "outputs": [],
   "source": [
    "# import keras;\n",
    "# from keras.models import Sequential;\n",
    "# from keras.layers import Dense;\n",
    "\n",
    "network = tf.keras.Sequential();\n",
    "        #Hidden Layer#1\n",
    "network.add(tf.keras.layers.Dense(units=6,\n",
    "                  activation='relu',\n",
    "                  kernel_initializer='uniform',\n",
    "                  input_dim=11));\n",
    "\n",
    "        #Hidden Layer#2\n",
    "network.add(tf.keras.layers.Dense(units=6,\n",
    "                  activation='relu',\n",
    "                  kernel_initializer='uniform'));\n",
    "\n",
    "        #Exit Layer\n",
    "# network.add(Dense(units=1,\n",
    "network.add(tf.keras.layers.Dense(units=1,\n",
    "                  activation='sigmoid',\n",
    "                  kernel_initializer='uniform'));\n",
    "\n"
   ]
  },
  {
   "cell_type": "code",
   "execution_count": 103,
   "metadata": {},
   "outputs": [
    {
     "name": "stdout",
     "output_type": "stream",
     "text": [
      "Requirement already satisfied: ann_visualizer in d:\\anaconda3\\lib\\site-packages (2.5)\n",
      "Requirement already satisfied: graphviz in d:\\anaconda3\\lib\\site-packages (0.20.1)\n"
     ]
    }
   ],
   "source": [
    "! pip install ann_visualizer\n",
    "! pip install graphviz"
   ]
  },
  {
   "cell_type": "code",
   "execution_count": 104,
   "metadata": {},
   "outputs": [],
   "source": [
    "# graphViz package installed and path added to the PATH environment variable\n",
    "from ann_visualizer.visualize import ann_viz;\n",
    "\n",
    "ann_viz(network, title=\"\");"
   ]
  },
  {
   "cell_type": "markdown",
   "metadata": {},
   "source": [
    "# Models Compared"
   ]
  },
  {
   "cell_type": "code",
   "execution_count": 105,
   "metadata": {},
   "outputs": [
    {
     "name": "stdout",
     "output_type": "stream",
     "text": [
      " Baseline on frequency                         : 60.333\n",
      " Decision Tree Prediction Accuracy                      : 98.75%\n",
      " Naive Byes Prediction Accuracy                         : 53.50%\n",
      " Logistic Regression Prediction Accuracy                : 68.00%\n",
      " Support Vector Machine Prediction Accuracy             : 68.58%\n",
      " K-Support Vector Machine Prediction Accuracy           : 45.42%\n",
      " K-Nearest Neighbor Prediction Accuracy                 : 39.75%\n",
      " ANN Prediction Accuracy                                : 60.33%\n"
     ]
    }
   ],
   "source": [
    "# Accuracy Score\n",
    "print(' Baseline on frequency                         : {:5.3f}'.format(score* 100))\n",
    "print(\" Decision Tree Prediction Accuracy                      : {:.2f}%\".format(ADT * 100))\n",
    "print(\" Naive Byes Prediction Accuracy                         : {:.2f}%\".format(ACNB * 100))\n",
    "print(\" Logistic Regression Prediction Accuracy                : {:.2f}%\".format(ACLR * 100))\n",
    "print(\" Support Vector Machine Prediction Accuracy             : {:.2f}%\".format(ACSVM * 100))\n",
    "print(\" K-Support Vector Machine Prediction Accuracy           : {:.2f}%\".format(ACKSVM * 100))\n",
    "print(\" K-Nearest Neighbor Prediction Accuracy                 : {:.2f}%\".format(ACKNN * 100))\n",
    "print(\" ANN Prediction Accuracy                                : {:.2f}%\".format(ACANN * 100))"
   ]
  },
  {
   "cell_type": "code",
   "execution_count": null,
   "metadata": {},
   "outputs": [],
   "source": []
  },
  {
   "cell_type": "code",
   "execution_count": null,
   "metadata": {},
   "outputs": [],
   "source": []
  },
  {
   "cell_type": "code",
   "execution_count": null,
   "metadata": {},
   "outputs": [],
   "source": []
  },
  {
   "cell_type": "code",
   "execution_count": null,
   "metadata": {},
   "outputs": [],
   "source": []
  },
  {
   "cell_type": "code",
   "execution_count": null,
   "metadata": {},
   "outputs": [],
   "source": []
  },
  {
   "cell_type": "code",
   "execution_count": null,
   "metadata": {},
   "outputs": [],
   "source": []
  }
 ],
 "metadata": {
  "kernelspec": {
   "display_name": "Python 3",
   "language": "python",
   "name": "python3"
  },
  "language_info": {
   "codemirror_mode": {
    "name": "ipython",
    "version": 3
   },
   "file_extension": ".py",
   "mimetype": "text/x-python",
   "name": "python",
   "nbconvert_exporter": "python",
   "pygments_lexer": "ipython3",
   "version": "3.9.7"
  }
 },
 "nbformat": 4,
 "nbformat_minor": 4
}
